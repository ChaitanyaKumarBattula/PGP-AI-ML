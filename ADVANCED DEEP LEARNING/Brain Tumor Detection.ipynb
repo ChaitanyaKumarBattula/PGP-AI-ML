{
 "cells": [
  {
   "cell_type": "markdown",
   "metadata": {},
   "source": [
    "# **Setup**"
   ]
  },
  {
   "cell_type": "code",
   "execution_count": 1,
   "metadata": {
    "_cell_guid": "b1076dfc-b9ad-4769-8c92-a6c4dae69d19",
    "_uuid": "8f2839f25d086af736a60e9eeb907d3b93b6e0e5",
    "execution": {
     "iopub.execute_input": "2021-06-11T12:28:30.783739Z",
     "iopub.status.busy": "2021-06-11T12:28:30.783289Z",
     "iopub.status.idle": "2021-06-11T12:28:37.085665Z",
     "shell.execute_reply": "2021-06-11T12:28:37.084967Z",
     "shell.execute_reply.started": "2021-06-11T12:28:30.783668Z"
    }
   },
   "outputs": [
    {
     "name": "stderr",
     "output_type": "stream",
     "text": [
      "Using TensorFlow backend.\n"
     ]
    }
   ],
   "source": [
    "import keras\n",
    "from keras.models import Sequential\n",
    "from keras.layers import Dense, Dropout, Flatten\n",
    "from keras.layers import Conv2D, MaxPooling2D, Conv3D, BatchNormalization, Activation\n",
    "from keras import backend as K\n",
    "import os\n",
    "from PIL import Image\n",
    "import numpy as np\n",
    "from sklearn.model_selection import train_test_split\n",
    "from sklearn.preprocessing import OneHotEncoder\n",
    "import matplotlib.pyplot as plt\n",
    "from matplotlib.pyplot import imshow\n",
    "import pandas as pd\n",
    "\n",
    "from sklearn.metrics import confusion_matrix\n",
    "import itertools\n",
    "\n",
    "from keras.utils.np_utils import to_categorical \n",
    "from keras.models import Sequential\n",
    "from keras.layers import Dense, Dropout, Flatten, Conv2D, MaxPool2D\n",
    "from keras.optimizers import RMSprop,Adam\n",
    "from keras.preprocessing.image import ImageDataGenerator\n",
    "from keras.callbacks import ReduceLROnPlateau"
   ]
  },
  {
   "cell_type": "code",
   "execution_count": 2,
   "metadata": {
    "execution": {
     "iopub.execute_input": "2021-06-11T12:28:37.087599Z",
     "iopub.status.busy": "2021-06-11T12:28:37.087295Z",
     "iopub.status.idle": "2021-06-11T12:28:37.102669Z",
     "shell.execute_reply": "2021-06-11T12:28:37.101991Z",
     "shell.execute_reply.started": "2021-06-11T12:28:37.087553Z"
    }
   },
   "outputs": [],
   "source": [
    "classes = os.listdir('../input/brain-tumor-classification-mri/Training')"
   ]
  },
  {
   "cell_type": "code",
   "execution_count": 3,
   "metadata": {
    "execution": {
     "iopub.execute_input": "2021-06-11T12:28:37.105657Z",
     "iopub.status.busy": "2021-06-11T12:28:37.105441Z",
     "iopub.status.idle": "2021-06-11T12:28:37.119795Z",
     "shell.execute_reply": "2021-06-11T12:28:37.118403Z",
     "shell.execute_reply.started": "2021-06-11T12:28:37.105616Z"
    }
   },
   "outputs": [
    {
     "name": "stderr",
     "output_type": "stream",
     "text": [
      "/opt/conda/lib/python3.6/site-packages/sklearn/preprocessing/_encoders.py:415: FutureWarning: The handling of integer data will change in version 0.22. Currently, the categories are determined based on the range [0, max(values)], while in the future they will be determined based on the unique values.\n",
      "If you want the future behaviour and silence this warning, you can specify \"categories='auto'\".\n",
      "In case you used a LabelEncoder before this OneHotEncoder to convert the categories to integers, then you can now use the OneHotEncoder directly.\n",
      "  warnings.warn(msg, FutureWarning)\n"
     ]
    }
   ],
   "source": [
    "enc = OneHotEncoder()\n",
    "enc.fit([[0], [1], [2], [3]]) \n",
    "def names(number):\n",
    "    if(number == 0):\n",
    "        return classes[0]\n",
    "    elif(number == 1):\n",
    "        return classes[1]\n",
    "    elif(number == 2):\n",
    "        return classes[2]\n",
    "    elif(number == 3):\n",
    "        return classes[3]\n"
   ]
  },
  {
   "cell_type": "markdown",
   "metadata": {},
   "source": [
    "# **Data Split**"
   ]
  },
  {
   "cell_type": "code",
   "execution_count": 4,
   "metadata": {
    "execution": {
     "iopub.execute_input": "2021-06-11T12:28:37.121267Z",
     "iopub.status.busy": "2021-06-11T12:28:37.121023Z",
     "iopub.status.idle": "2021-06-11T12:29:03.952020Z",
     "shell.execute_reply": "2021-06-11T12:29:03.951205Z",
     "shell.execute_reply.started": "2021-06-11T12:28:37.121225Z"
    }
   },
   "outputs": [
    {
     "name": "stdout",
     "output_type": "stream",
     "text": [
      "no_tumor\n",
      "no_tumor\n",
      "pituitary_tumor\n",
      "pituitary_tumor\n",
      "meningioma_tumor\n",
      "meningioma_tumor\n",
      "glioma_tumor\n",
      "glioma_tumor\n",
      "(2870, 150, 150, 3)\n",
      "(2870, 4)\n"
     ]
    }
   ],
   "source": [
    "trainData = []\n",
    "trainLabel = []\n",
    "dim = (150, 150)\n",
    "trainPath = \"../DataSets/brain-tumor-classification-mri/Training\"\n",
    "index = 0\n",
    "for dir in os.listdir(trainPath):\n",
    "    filePaths = []\n",
    "    subDir = os.path.join(trainPath, dir)\n",
    "    for file in os.listdir(subDir):\n",
    "        imgFullPath = os.path.join(subDir, file)\n",
    "        filePaths.append(imgFullPath)\n",
    "        img = Image.open(imgFullPath)\n",
    "        x = img.resize(dim)\n",
    "        x = np.array(x)\n",
    "        trainData.append(np.array(x))\n",
    "        trainLabel.append(enc.transform([[index]]).toarray())\n",
    "    print(names(index))\n",
    "    print(str(dir))\n",
    "    index += 1\n",
    "    \n",
    "trainData = np.array(trainData)\n",
    "trainLabel = np.array(trainLabel).reshape(2870, 4)\n",
    "print(trainData.shape)\n",
    "print(trainLabel.shape)"
   ]
  },
  {
   "cell_type": "code",
   "execution_count": 5,
   "metadata": {
    "execution": {
     "iopub.execute_input": "2021-06-11T12:29:03.955049Z",
     "iopub.status.busy": "2021-06-11T12:29:03.954580Z",
     "iopub.status.idle": "2021-06-11T12:29:07.527033Z",
     "shell.execute_reply": "2021-06-11T12:29:07.526305Z",
     "shell.execute_reply.started": "2021-06-11T12:29:03.954998Z"
    }
   },
   "outputs": [
    {
     "name": "stdout",
     "output_type": "stream",
     "text": [
      "no_tumor\n",
      "no_tumor\n",
      "pituitary_tumor\n",
      "pituitary_tumor\n",
      "meningioma_tumor\n",
      "meningioma_tumor\n",
      "glioma_tumor\n",
      "glioma_tumor\n",
      "(394, 150, 150, 3)\n",
      "(394, 4)\n"
     ]
    }
   ],
   "source": [
    "testData = []\n",
    "testLabel = []\n",
    "dim = (150, 150)\n",
    "testPath = \"../DataSets/brain-tumor-classification-mri/Testing\"\n",
    "index = 0\n",
    "for dir in os.listdir(testPath):\n",
    "    filePaths = []\n",
    "    subDir = os.path.join(testPath, dir)\n",
    "    for file in os.listdir(subDir):\n",
    "        imgFullPath = os.path.join(subDir, file)\n",
    "        filePaths.append(imgFullPath)\n",
    "        img = Image.open(imgFullPath)\n",
    "        x = img.resize(dim)\n",
    "        x = np.array(x)\n",
    "        testData.append(np.array(x))\n",
    "        testLabel.append(enc.transform([[index]]).toarray())\n",
    "    print(names(index))\n",
    "    print(str(dir))\n",
    "    index += 1\n",
    "testData = np.array(testData)\n",
    "testLabel = np.array(testLabel).reshape(394, 4)\n",
    "print(testData.shape)\n",
    "print(testLabel.shape)"
   ]
  },
  {
   "cell_type": "markdown",
   "metadata": {},
   "source": [
    "# **Building the Model**"
   ]
  },
  {
   "cell_type": "code",
   "execution_count": 6,
   "metadata": {
    "execution": {
     "iopub.execute_input": "2021-06-11T12:29:07.530419Z",
     "iopub.status.busy": "2021-06-11T12:29:07.530178Z",
     "iopub.status.idle": "2021-06-11T12:29:10.111783Z",
     "shell.execute_reply": "2021-06-11T12:29:10.111095Z",
     "shell.execute_reply.started": "2021-06-11T12:29:07.530374Z"
    }
   },
   "outputs": [],
   "source": [
    "model = Sequential()\n",
    "\n",
    "model.add(Conv2D(filters = 64, kernel_size = (5,5),padding = 'Same', \n",
    "                 activation ='relu', input_shape = (150,150,3)))\n",
    "model.add(MaxPool2D(pool_size=(2,2)))\n",
    "model.add(Dropout(0.25))\n",
    "\n",
    "model.add(Conv2D(filters = 128, kernel_size = (3,3),padding = 'Same', \n",
    "                 activation ='relu'))\n",
    "model.add(MaxPool2D(pool_size=(2,2), strides=(2,2)))\n",
    "model.add(Dropout(0.25))\n",
    "\n",
    "model.add(Conv2D(filters = 128, kernel_size = (3,3),padding = 'Same', \n",
    "                 activation ='relu'))\n",
    "model.add(MaxPool2D(pool_size=(2,2), strides=(2,2)))\n",
    "model.add(Dropout(0.3))\n",
    "\n",
    "model.add(Conv2D(filters = 128, kernel_size = (2,2),padding = 'Same', \n",
    "                 activation ='relu'))\n",
    "model.add(MaxPool2D(pool_size=(2,2), strides=(2,2)))\n",
    "model.add(Dropout(0.3))\n",
    " \n",
    "model.add(Flatten())\n",
    "model.add(Dense(1024, activation = \"relu\"))\n",
    "model.add(Dropout(0.5))\n",
    "model.add(Dense(4, activation = \"softmax\"))\n",
    "optimizer = Adam(lr=0.001, beta_1=0.9, beta_2=0.999)\n",
    "model.compile(optimizer = optimizer , loss = \"categorical_crossentropy\", metrics=[\"accuracy\"])\n",
    "epochs = 40\n",
    "batch_size = 40\n",
    "\n",
    "datagen = ImageDataGenerator(\n",
    "        featurewise_center=False,  \n",
    "        samplewise_center=False, \n",
    "        featurewise_std_normalization=False,  \n",
    "        samplewise_std_normalization=False,  \n",
    "        zca_whitening=False,  \n",
    "        rotation_range=0,\n",
    "        zoom_range = 0,\n",
    "        width_shift_range=0,  \n",
    "        height_shift_range=0,  \n",
    "        horizontal_flip=True,  \n",
    "        vertical_flip=False)  "
   ]
  },
  {
   "cell_type": "code",
   "execution_count": 7,
   "metadata": {
    "execution": {
     "iopub.execute_input": "2021-06-11T12:29:10.113288Z",
     "iopub.status.busy": "2021-06-11T12:29:10.113020Z",
     "iopub.status.idle": "2021-06-11T12:31:40.483499Z",
     "shell.execute_reply": "2021-06-11T12:31:40.482765Z",
     "shell.execute_reply.started": "2021-06-11T12:29:10.113242Z"
    }
   },
   "outputs": [
    {
     "name": "stdout",
     "output_type": "stream",
     "text": [
      "Epoch 1/40\n",
      "71/71 [==============================] - 7s 102ms/step - loss: 23.9229 - accuracy: 0.3993 - val_loss: 1.4457 - val_accuracy: 0.2944\n",
      "Epoch 2/40\n",
      "71/71 [==============================] - 4s 50ms/step - loss: 1.1607 - accuracy: 0.4887 - val_loss: 1.4363 - val_accuracy: 0.3655\n",
      "Epoch 3/40\n",
      "71/71 [==============================] - 4s 53ms/step - loss: 1.0021 - accuracy: 0.5795 - val_loss: 1.5247 - val_accuracy: 0.3858\n",
      "Epoch 4/40\n",
      "71/71 [==============================] - 4s 51ms/step - loss: 0.8871 - accuracy: 0.6216 - val_loss: 1.5475 - val_accuracy: 0.3756\n",
      "Epoch 5/40\n",
      "71/71 [==============================] - 4s 50ms/step - loss: 0.7799 - accuracy: 0.6841 - val_loss: 1.5664 - val_accuracy: 0.3629\n",
      "Epoch 6/40\n",
      "71/71 [==============================] - 4s 50ms/step - loss: 0.7117 - accuracy: 0.6979 - val_loss: 1.4990 - val_accuracy: 0.4239\n",
      "Epoch 7/40\n",
      "71/71 [==============================] - 4s 51ms/step - loss: 0.6591 - accuracy: 0.7251 - val_loss: 1.8315 - val_accuracy: 0.3807\n",
      "Epoch 8/40\n",
      "71/71 [==============================] - 4s 50ms/step - loss: 0.6188 - accuracy: 0.7382 - val_loss: 1.6648 - val_accuracy: 0.3807\n",
      "Epoch 9/40\n",
      "71/71 [==============================] - 4s 50ms/step - loss: 0.5902 - accuracy: 0.7572 - val_loss: 1.4339 - val_accuracy: 0.4518\n",
      "Epoch 10/40\n",
      "71/71 [==============================] - 4s 51ms/step - loss: 0.5479 - accuracy: 0.7725 - val_loss: 1.8985 - val_accuracy: 0.4010\n",
      "Epoch 11/40\n",
      "71/71 [==============================] - 3s 49ms/step - loss: 0.5124 - accuracy: 0.7922 - val_loss: 1.6686 - val_accuracy: 0.4518\n",
      "Epoch 12/40\n",
      "71/71 [==============================] - 4s 53ms/step - loss: 0.4644 - accuracy: 0.8162 - val_loss: 1.5693 - val_accuracy: 0.5533\n",
      "Epoch 13/40\n",
      "71/71 [==============================] - 4s 52ms/step - loss: 0.4426 - accuracy: 0.8259 - val_loss: 1.8315 - val_accuracy: 0.5178\n",
      "Epoch 14/40\n",
      "71/71 [==============================] - 4s 50ms/step - loss: 0.4097 - accuracy: 0.8357 - val_loss: 1.8141 - val_accuracy: 0.5508\n",
      "Epoch 15/40\n",
      "71/71 [==============================] - 4s 50ms/step - loss: 0.3915 - accuracy: 0.8403 - val_loss: 1.7181 - val_accuracy: 0.5279\n",
      "Epoch 16/40\n",
      "71/71 [==============================] - 4s 52ms/step - loss: 0.3607 - accuracy: 0.8558 - val_loss: 1.8771 - val_accuracy: 0.5127\n",
      "Epoch 17/40\n",
      "71/71 [==============================] - 4s 51ms/step - loss: 0.3441 - accuracy: 0.8532 - val_loss: 1.9574 - val_accuracy: 0.5558\n",
      "Epoch 18/40\n",
      "71/71 [==============================] - 4s 50ms/step - loss: 0.3393 - accuracy: 0.8599 - val_loss: 1.7337 - val_accuracy: 0.5812\n",
      "Epoch 19/40\n",
      "71/71 [==============================] - 4s 52ms/step - loss: 0.3233 - accuracy: 0.8650 - val_loss: 2.2062 - val_accuracy: 0.5685\n",
      "Epoch 20/40\n",
      "71/71 [==============================] - 4s 50ms/step - loss: 0.3050 - accuracy: 0.8789 - val_loss: 1.8286 - val_accuracy: 0.6294\n",
      "Epoch 21/40\n",
      "71/71 [==============================] - 4s 53ms/step - loss: 0.3129 - accuracy: 0.8748 - val_loss: 1.7309 - val_accuracy: 0.5330\n",
      "Epoch 22/40\n",
      "71/71 [==============================] - 4s 52ms/step - loss: 0.3092 - accuracy: 0.8756 - val_loss: 1.7877 - val_accuracy: 0.6320\n",
      "Epoch 23/40\n",
      "71/71 [==============================] - 4s 51ms/step - loss: 0.2883 - accuracy: 0.8830 - val_loss: 1.9225 - val_accuracy: 0.6777\n",
      "Epoch 24/40\n",
      "71/71 [==============================] - 4s 51ms/step - loss: 0.2654 - accuracy: 0.8972 - val_loss: 1.9026 - val_accuracy: 0.5863\n",
      "Epoch 25/40\n",
      "71/71 [==============================] - 4s 52ms/step - loss: 0.2656 - accuracy: 0.8905 - val_loss: 2.0187 - val_accuracy: 0.5939\n",
      "Epoch 26/40\n",
      "71/71 [==============================] - 4s 51ms/step - loss: 0.2703 - accuracy: 0.8911 - val_loss: 2.1950 - val_accuracy: 0.6066\n",
      "Epoch 27/40\n",
      "71/71 [==============================] - 4s 51ms/step - loss: 0.2454 - accuracy: 0.9039 - val_loss: 2.4366 - val_accuracy: 0.6218\n",
      "Epoch 28/40\n",
      "71/71 [==============================] - 4s 52ms/step - loss: 0.2598 - accuracy: 0.8989 - val_loss: 2.2912 - val_accuracy: 0.6269\n",
      "Epoch 29/40\n",
      "71/71 [==============================] - 4s 50ms/step - loss: 0.2480 - accuracy: 0.9071 - val_loss: 2.1193 - val_accuracy: 0.6650\n",
      "Epoch 30/40\n",
      "71/71 [==============================] - 4s 52ms/step - loss: 0.2121 - accuracy: 0.9141 - val_loss: 2.5438 - val_accuracy: 0.6650\n",
      "Epoch 31/40\n",
      "71/71 [==============================] - 4s 52ms/step - loss: 0.2238 - accuracy: 0.9120 - val_loss: 2.3282 - val_accuracy: 0.6624\n",
      "Epoch 32/40\n",
      "71/71 [==============================] - 4s 50ms/step - loss: 0.2294 - accuracy: 0.9078 - val_loss: 2.4661 - val_accuracy: 0.6675\n",
      "Epoch 33/40\n",
      "71/71 [==============================] - 4s 50ms/step - loss: 0.2337 - accuracy: 0.9099 - val_loss: 3.1817 - val_accuracy: 0.6294\n",
      "Epoch 34/40\n",
      "71/71 [==============================] - 4s 52ms/step - loss: 0.2134 - accuracy: 0.9190 - val_loss: 2.4891 - val_accuracy: 0.6878\n",
      "Epoch 35/40\n",
      "71/71 [==============================] - 4s 50ms/step - loss: 0.2573 - accuracy: 0.9039 - val_loss: 2.5400 - val_accuracy: 0.7030\n",
      "Epoch 36/40\n",
      "71/71 [==============================] - 4s 50ms/step - loss: 0.2004 - accuracy: 0.9289 - val_loss: 2.7625 - val_accuracy: 0.6802\n",
      "Epoch 37/40\n",
      "71/71 [==============================] - 4s 52ms/step - loss: 0.2135 - accuracy: 0.9170 - val_loss: 2.6449 - val_accuracy: 0.6929\n",
      "Epoch 38/40\n",
      "71/71 [==============================] - 4s 50ms/step - loss: 0.2047 - accuracy: 0.9223 - val_loss: 2.2813 - val_accuracy: 0.6904\n",
      "Epoch 39/40\n",
      "71/71 [==============================] - 4s 52ms/step - loss: 0.1815 - accuracy: 0.9332 - val_loss: 2.1829 - val_accuracy: 0.6802\n",
      "Epoch 40/40\n",
      "71/71 [==============================] - 4s 52ms/step - loss: 0.1996 - accuracy: 0.9293 - val_loss: 2.5394 - val_accuracy: 0.6599\n"
     ]
    }
   ],
   "source": [
    "datagen.fit(trainData)\n",
    "history = model.fit_generator(datagen.flow(trainData,trainLabel, batch_size=batch_size),\n",
    "                              epochs = epochs, validation_data = (testData,testLabel),\n",
    "                              steps_per_epoch = trainData.shape[0] // batch_size)    "
   ]
  },
  {
   "cell_type": "code",
   "execution_count": 8,
   "metadata": {
    "execution": {
     "iopub.execute_input": "2021-06-11T12:31:40.485303Z",
     "iopub.status.busy": "2021-06-11T12:31:40.485017Z",
     "iopub.status.idle": "2021-06-11T12:31:40.782075Z",
     "shell.execute_reply": "2021-06-11T12:31:40.781330Z",
     "shell.execute_reply.started": "2021-06-11T12:31:40.485253Z"
    }
   },
   "outputs": [],
   "source": [
    "model.save(\"classification.h5\")"
   ]
  },
  {
   "cell_type": "code",
   "execution_count": 9,
   "metadata": {
    "execution": {
     "iopub.execute_input": "2021-06-11T12:31:40.783569Z",
     "iopub.status.busy": "2021-06-11T12:31:40.783260Z",
     "iopub.status.idle": "2021-06-11T12:31:41.019043Z",
     "shell.execute_reply": "2021-06-11T12:31:41.018217Z",
     "shell.execute_reply.started": "2021-06-11T12:31:40.783523Z"
    }
   },
   "outputs": [
    {
     "data": {
      "image/png": "[encoded data removed]",
      "text/plain": [
       "<Figure size 432x288 with 1 Axes>"
      ]
     },
     "metadata": {
      "needs_background": "light"
     },
     "output_type": "display_data"
    }
   ],
   "source": [
    "plt.plot(history.history['loss'])\n",
    "plt.plot(history.history['val_loss'])\n",
    "plt.title('Model Loss')\n",
    "plt.ylabel('Loss')\n",
    "plt.xlabel('Epoch')\n",
    "plt.legend(['Test', 'Validation'], loc='upper right')\n",
    "plt.show()"
   ]
  },
  {
   "cell_type": "markdown",
   "metadata": {},
   "source": [
    "# **Prediction**"
   ]
  },
  {
   "cell_type": "code",
   "execution_count": 10,
   "metadata": {
    "execution": {
     "iopub.execute_input": "2021-06-11T12:31:41.020907Z",
     "iopub.status.busy": "2021-06-11T12:31:41.020427Z",
     "iopub.status.idle": "2021-06-11T12:31:41.455852Z",
     "shell.execute_reply": "2021-06-11T12:31:41.455022Z",
     "shell.execute_reply.started": "2021-06-11T12:31:41.020858Z"
    }
   },
   "outputs": [
    {
     "name": "stdout",
     "output_type": "stream",
     "text": [
      "97.28965759277344% Confidence This Is meningioma_tumor\n"
     ]
    },
    {
     "data": {
      "image/png": "[encoded data removed]",
      "text/plain": [
       "<Figure size 432x288 with 1 Axes>"
      ]
     },
     "metadata": {
      "needs_background": "light"
     },
     "output_type": "display_data"
    }
   ],
   "source": [
    "img = Image.open('../DataSets/brain-tumor-classification-mri/Testing/meningioma_tumor/image(19).jpg')\n",
    "x = np.array(img.resize(dim))\n",
    "x = x.reshape(1,150,150,3)\n",
    "answ = model.predict_on_batch(x)\n",
    "classification = np.where(answ == np.amax(answ))[1][0]\n",
    "imshow(img)\n",
    "print(str(answ[0][classification]*100) + '% Confidence This Is ' + names(classification))"
   ]
  }
 ],
 "metadata": {
  "kernelspec": {
   "display_name": "Python 3 (ipykernel)",
   "language": "python",
   "name": "python3"
  },
  "language_info": {
   "codemirror_mode": {
    "name": "ipython",
    "version": 3
   },
   "file_extension": ".py",
   "mimetype": "text/x-python",
   "name": "python",
   "nbconvert_exporter": "python",
   "pygments_lexer": "ipython3",
   "version": "3.9.18"
  }
 },
 "nbformat": 4,
 "nbformat_minor": 4
}
