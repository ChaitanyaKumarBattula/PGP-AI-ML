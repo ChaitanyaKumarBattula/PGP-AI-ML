{
 "cells": [
  {
   "cell_type": "markdown",
   "metadata": {},
   "source": [
    "# Academic Institution: SimpliLearn\n",
    "\n",
    "##    Prgram:  PG AI\n",
    "##    Course No.6: Advanced Deep Learning and Computer Vision\n",
    "##    Course End Project : Face Recognition using CNN\n",
    "##    Learner : Chaitanya Kumar Battula\n",
    "##    Academic Advisior:   Sayan Dey\n",
    "##   Submitted on : 25-May-2021"
   ]
  },
  {
   "cell_type": "code",
   "execution_count": null,
   "metadata": {},
   "outputs": [],
   "source": []
  },
  {
   "cell_type": "markdown",
   "metadata": {},
   "source": [
    "# Tasks\n",
    "\n",
    "## 1. Input the required libraries\n",
    "## 2. Load the dataset \n",
    "## 3. Normalize every image.\n",
    "## 4. Split the dataset\n",
    "## 5. Transform the images to equal sizes to feed in CNN\n",
    "## 6. Build a CNN model that has 3 main layers:\n",
    "\n",
    "###  i. Convolutional Layer\n",
    "###  ii. Pooling Layer\n",
    "###  iii. Fully Connected Layer\n",
    "\n",
    "## 7. Train the model - Iterate the model until the accuracy is above 90%\n",
    "## 8. Plot the result\n",
    "## 9. Save and Re-use the model to predict an unseen data\n",
    "## 10. Learners Comments"
   ]
  },
  {
   "cell_type": "code",
   "execution_count": null,
   "metadata": {},
   "outputs": [],
   "source": []
  },
  {
   "cell_type": "markdown",
   "metadata": {},
   "source": [
    "# Task-1:  Input the required libraries "
   ]
  },
  {
   "cell_type": "code",
   "execution_count": 1,
   "metadata": {},
   "outputs": [],
   "source": [
    "import numpy as np,  pandas as pd,  matplotlib.pyplot as plt, seaborn as sns\n",
    "%matplotlib inline\n",
    "\n",
    "\n",
    "\n",
    "\n",
    "import keras\n",
    "from keras.models import Sequential\n",
    "from keras.layers import Conv2D, MaxPooling2D, Dense, Flatten, Dropout\n",
    "from keras.optimizers import Adam\n",
    "from keras.callbacks import TensorBoard\n",
    "from keras.utils import np_utils\n",
    "\n",
    "\n",
    "\n",
    "from sklearn.model_selection import train_test_split\n",
    "from sklearn.metrics import accuracy_score\n",
    "from sklearn.metrics import confusion_matrix\n",
    "from sklearn.metrics import classification_report\n",
    "from sklearn.metrics import roc_curve, auc\n",
    "\n",
    "\n",
    "import tensorflow as tf\n",
    "import itertools\n",
    "import datetime"
   ]
  },
  {
   "cell_type": "markdown",
   "metadata": {},
   "source": [
    "# Task-2:  Load Dataset   and  Explore Data\n"
   ]
  },
  {
   "cell_type": "code",
   "execution_count": 2,
   "metadata": {},
   "outputs": [
    {
     "name": "stdout",
     "output_type": "stream",
     "text": [
      "ORL_faces type: <class 'numpy.lib.npyio.NpzFile'>\n"
     ]
    }
   ],
   "source": [
    "# LOAD DATASET\n",
    "\n",
    "\n",
    "ORL_faces = np.load('ORL_faces.npz') \n",
    "\n",
    "print(\"ORL_faces type:\", type(ORL_faces))"
   ]
  },
  {
   "cell_type": "markdown",
   "metadata": {},
   "source": [
    "##  (2.1)  View   file Names that are saved in ORL_faces.npz "
   ]
  },
  {
   "cell_type": "code",
   "execution_count": 3,
   "metadata": {},
   "outputs": [
    {
     "name": "stdout",
     "output_type": "stream",
     "text": [
      "Files zipped in ORL_faces.npz: ['testY', 'testX', 'trainX', 'trainY']\n"
     ]
    }
   ],
   "source": [
    "# VIEW COMPRESSSED FILES IN THE DATASET\n",
    "\n",
    "zipped_files = ORL_faces.files\n",
    "\n",
    "print(\"Files zipped in ORL_faces.npz:\", zipped_files)\n"
   ]
  },
  {
   "cell_type": "markdown",
   "metadata": {},
   "source": [
    "##  (2.2)  Extract train, test files from   ORL_faces.npz"
   ]
  },
  {
   "cell_type": "code",
   "execution_count": 4,
   "metadata": {},
   "outputs": [
    {
     "name": "stdout",
     "output_type": "stream",
     "text": [
      "<Type Of Files>\n",
      "  x_train type:  <class 'numpy.ndarray'>\n",
      "  x_ttest type:  <class 'numpy.ndarray'>\n",
      "  y_train type:  <class 'numpy.ndarray'>\n",
      "  y_test type:  <class 'numpy.ndarray'>\n",
      "\n",
      "\n",
      "<Shape Of Files>\n",
      "   x_train Shape: (240, 10304)\n",
      "   y_train Shape: (240,)\n",
      "\n",
      "   x_test  Shape: (160, 10304)\n",
      "   y_test  Shape: (160,)\n"
     ]
    }
   ],
   "source": [
    "# LOAD  \"TRAIN IMAGES\"\n",
    "x_train = ORL_faces['trainX']\n",
    "x_test = ORL_faces['testX']\n",
    "\n",
    "\n",
    "\n",
    "\n",
    "# LOAD  \"TEST IMAGES\"\n",
    "y_train= ORL_faces['trainY']\n",
    "y_test= ORL_faces['testY']\n",
    "\n",
    "\n",
    "\n",
    "print(\"<Type Of Files>\")\n",
    "print(\"  x_train type: \", type(x_train))\n",
    "print(\"  x_ttest type: \", type(x_test))\n",
    "print(\"  y_train type: \", type(y_train))\n",
    "print(\"  y_test type: \",  type(y_test))\n",
    "print()\n",
    "print()\n",
    "\n",
    "print(\"<Shape Of Files>\")\n",
    "print(\"   x_train Shape:\",   x_train.shape)\n",
    "print(\"   y_train Shape:\",   y_train.shape)\n",
    "print()\n",
    "print(\"   x_test  Shape:\",   x_test.shape)\n",
    "print(\"   y_test  Shape:\",   y_test.shape)"
   ]
  },
  {
   "cell_type": "markdown",
   "metadata": {},
   "source": [
    "##  (2.3) View  Contents of train,  test files"
   ]
  },
  {
   "cell_type": "code",
   "execution_count": 5,
   "metadata": {},
   "outputs": [
    {
     "name": "stdout",
     "output_type": "stream",
     "text": [
      "< x_train Contents >\n"
     ]
    },
    {
     "data": {
      "text/plain": [
       "array([[ 48.,  49.,  45., ...,  47.,  46.,  46.],\n",
       "       [ 60.,  60.,  62., ...,  32.,  34.,  34.],\n",
       "       [ 39.,  44.,  53., ...,  29.,  26.,  29.],\n",
       "       ...,\n",
       "       [114., 117., 114., ...,  98.,  96.,  98.],\n",
       "       [105., 105., 107., ...,  54.,  47.,  41.],\n",
       "       [116., 114., 117., ...,  95., 100., 101.]])"
      ]
     },
     "execution_count": 5,
     "metadata": {},
     "output_type": "execute_result"
    }
   ],
   "source": [
    "print(\"< x_train Contents >\")\n",
    "x_train"
   ]
  },
  {
   "cell_type": "code",
   "execution_count": 6,
   "metadata": {},
   "outputs": [
    {
     "name": "stdout",
     "output_type": "stream",
     "text": [
      "<View x_train contents: 1st Row>\n"
     ]
    },
    {
     "data": {
      "text/plain": [
       "array([48., 49., 45., ..., 47., 46., 46.])"
      ]
     },
     "execution_count": 6,
     "metadata": {},
     "output_type": "execute_result"
    }
   ],
   "source": [
    "print(\"<View x_train contents: 1st Row>\")\n",
    "x_train[0]"
   ]
  },
  {
   "cell_type": "code",
   "execution_count": 7,
   "metadata": {},
   "outputs": [
    {
     "name": "stdout",
     "output_type": "stream",
     "text": [
      "<View x_train contents: 1st Row, 1st Column Element>\n"
     ]
    },
    {
     "data": {
      "text/plain": [
       "48.0"
      ]
     },
     "execution_count": 7,
     "metadata": {},
     "output_type": "execute_result"
    }
   ],
   "source": [
    "print(\"<View x_train contents: 1st Row, 1st Column Element>\")\n",
    "x_train[0][0]"
   ]
  },
  {
   "cell_type": "code",
   "execution_count": 8,
   "metadata": {},
   "outputs": [
    {
     "name": "stdout",
     "output_type": "stream",
     "text": [
      "<View x_train contents: 1st Row, Last Column Element>\n"
     ]
    },
    {
     "data": {
      "text/plain": [
       "46.0"
      ]
     },
     "execution_count": 8,
     "metadata": {},
     "output_type": "execute_result"
    }
   ],
   "source": [
    "print(\"<View x_train contents: 1st Row, Last Column Element>\")\n",
    "x_train[0][10303]"
   ]
  },
  {
   "cell_type": "code",
   "execution_count": 9,
   "metadata": {},
   "outputs": [
    {
     "name": "stdout",
     "output_type": "stream",
     "text": [
      "<View y_train contents:>\n"
     ]
    },
    {
     "data": {
      "text/plain": [
       "array([ 0,  0,  0,  0,  0,  0,  0,  0,  0,  0,  0,  0,  1,  1,  1,  1,  1,\n",
       "        1,  1,  1,  1,  1,  1,  1,  2,  2,  2,  2,  2,  2,  2,  2,  2,  2,\n",
       "        2,  2,  3,  3,  3,  3,  3,  3,  3,  3,  3,  3,  3,  3,  4,  4,  4,\n",
       "        4,  4,  4,  4,  4,  4,  4,  4,  4,  5,  5,  5,  5,  5,  5,  5,  5,\n",
       "        5,  5,  5,  5,  6,  6,  6,  6,  6,  6,  6,  6,  6,  6,  6,  6,  7,\n",
       "        7,  7,  7,  7,  7,  7,  7,  7,  7,  7,  7,  8,  8,  8,  8,  8,  8,\n",
       "        8,  8,  8,  8,  8,  8,  9,  9,  9,  9,  9,  9,  9,  9,  9,  9,  9,\n",
       "        9, 10, 10, 10, 10, 10, 10, 10, 10, 10, 10, 10, 10, 11, 11, 11, 11,\n",
       "       11, 11, 11, 11, 11, 11, 11, 11, 12, 12, 12, 12, 12, 12, 12, 12, 12,\n",
       "       12, 12, 12, 13, 13, 13, 13, 13, 13, 13, 13, 13, 13, 13, 13, 14, 14,\n",
       "       14, 14, 14, 14, 14, 14, 14, 14, 14, 14, 15, 15, 15, 15, 15, 15, 15,\n",
       "       15, 15, 15, 15, 15, 16, 16, 16, 16, 16, 16, 16, 16, 16, 16, 16, 16,\n",
       "       17, 17, 17, 17, 17, 17, 17, 17, 17, 17, 17, 17, 18, 18, 18, 18, 18,\n",
       "       18, 18, 18, 18, 18, 18, 18, 19, 19, 19, 19, 19, 19, 19, 19, 19, 19,\n",
       "       19, 19], dtype=uint8)"
      ]
     },
     "execution_count": 9,
     "metadata": {},
     "output_type": "execute_result"
    }
   ],
   "source": [
    "print(\"<View y_train contents:>\")\n",
    "y_train"
   ]
  },
  {
   "cell_type": "markdown",
   "metadata": {},
   "source": [
    "##  (2.4) Class Information"
   ]
  },
  {
   "cell_type": "code",
   "execution_count": 10,
   "metadata": {},
   "outputs": [
    {
     "name": "stdout",
     "output_type": "stream",
     "text": [
      "<  CLASS INFORMATION  >\n",
      "   Total number Of classes: 20\n",
      "   Unique Classes in the data set: 0 1 2 3 4 5 6 7 8 9 10 11 12 13 14 15 16 17 18 19\n"
     ]
    }
   ],
   "source": [
    "print(\"<  CLASS INFORMATION  >\")\n",
    "classes = np.unique(y_train)\n",
    "\n",
    "\n",
    "print(\"   Total number Of classes:\", classes.size)\n",
    "print(\"   Unique Classes in the data set:\", *classes)\n",
    "\n",
    "\n"
   ]
  },
  {
   "cell_type": "markdown",
   "metadata": {},
   "source": [
    "# (2.5) View  y-test data"
   ]
  },
  {
   "cell_type": "code",
   "execution_count": 11,
   "metadata": {},
   "outputs": [
    {
     "name": "stdout",
     "output_type": "stream",
     "text": [
      "y-test data sample:\n",
      "\n",
      " [ 0  0  0  0  0  0  0  0  1  1  1  1  1  1  1  1  2  2  2  2  2  2  2  2\n",
      "  3  3  3  3  3  3  3  3  4  4  4  4  4  4  4  4  5  5  5  5  5  5  5  5\n",
      "  6  6  6  6  6  6  6  6  7  7  7  7  7  7  7  7  8  8  8  8  8  8  8  8\n",
      "  9  9  9  9  9  9  9  9 10 10 10 10 10 10 10 10 11 11 11 11 11 11 11 11\n",
      " 12 12 12 12 12 12 12 12 13 13 13 13 13 13 13 13 14 14 14 14 14 14 14 14\n",
      " 15 15 15 15 15 15 15 15 16 16 16 16 16 16 16 16 17 17 17 17 17 17 17 17\n",
      " 18 18 18 18 18 18 18 18 19 19 19 19 19 19 19 19]\n"
     ]
    }
   ],
   "source": [
    "print(\"y-test data sample:\\n\\n\", y_test )"
   ]
  },
  {
   "cell_type": "markdown",
   "metadata": {},
   "source": [
    "## (2.6) View Images \n",
    "It was given that image size as 112x92. \n",
    "But, the numpy data that represents various images is flattened and each row has has 10,304 values.\n",
    "i.e  112x92 = 10,304\n",
    "We shall reshape the flattened array (240, 10304) in to (240, 112,92,1) in order to view them as images.\n",
    "\n"
   ]
  },
  {
   "cell_type": "markdown",
   "metadata": {},
   "source": [
    "###  (2.6.1) Reshape flatten data to original size "
   ]
  },
  {
   "cell_type": "code",
   "execution_count": 12,
   "metadata": {},
   "outputs": [
    {
     "name": "stdout",
     "output_type": "stream",
     "text": [
      "< Numpy array Reshaped to an array, that is very similar prior to flattening. > \n"
     ]
    },
    {
     "data": {
      "text/plain": [
       "(240, 112, 92, 1)"
      ]
     },
     "execution_count": 12,
     "metadata": {},
     "output_type": "execute_result"
    }
   ],
   "source": [
    "# RESHAPING X-TRAIN DATA \n",
    "\n",
    "images = x_train.reshape(240,112,92,1)\n",
    "\n",
    "print(\"< Numpy array Reshaped to an array, that is very similar prior to flattening. > \")\n",
    "images.shape"
   ]
  },
  {
   "cell_type": "markdown",
   "metadata": {},
   "source": [
    "### (2.6.2]  Display image"
   ]
  },
  {
   "cell_type": "code",
   "execution_count": 13,
   "metadata": {},
   "outputs": [
    {
     "name": "stdout",
     "output_type": "stream",
     "text": [
      "< Displaying the last image in X_train data. >\n"
     ]
    },
    {
     "data": {
      "image/png": "[encoded data removed]",
      "text/plain": [
       "<PIL.Image.Image image mode=L size=92x112 at 0x1EB432A1D60>"
      ]
     },
     "execution_count": 13,
     "metadata": {},
     "output_type": "execute_result"
    }
   ],
   "source": [
    "# have choosen the last image, where i=239\n",
    "i = 239\n",
    "image = images[i]\n",
    "\n",
    "\n",
    "print(\"< Displaying the last image in X_train data. >\")\n",
    "tf.keras.preprocessing.image.array_to_img(image )\n",
    "\n"
   ]
  },
  {
   "cell_type": "code",
   "execution_count": null,
   "metadata": {},
   "outputs": [],
   "source": []
  },
  {
   "cell_type": "markdown",
   "metadata": {},
   "source": [
    "# Task.3 - Normalize Image data"
   ]
  },
  {
   "cell_type": "markdown",
   "metadata": {},
   "source": [
    "##  (3.1)  Normalize "
   ]
  },
  {
   "cell_type": "code",
   "execution_count": 14,
   "metadata": {},
   "outputs": [],
   "source": [
    "# NORMALIZE  IMAGES\n",
    "x_train = np.array(x_train, dtype='float32')/255\n",
    "x_test  = np.array(x_test,  dtype='float32')/255\n"
   ]
  },
  {
   "cell_type": "markdown",
   "metadata": {},
   "source": [
    "##   (3.2)  View data sample after Normalization"
   ]
  },
  {
   "cell_type": "code",
   "execution_count": 15,
   "metadata": {},
   "outputs": [
    {
     "name": "stdout",
     "output_type": "stream",
     "text": [
      "<  IMAGE  DATA  AFTER  NORMALIZATION  >\n",
      "\n",
      "\n",
      "\n",
      "< x_train  after normalization. >\n",
      " [[0.1882353  0.19215687 0.1764706  ... 0.18431373 0.18039216 0.18039216]\n",
      " [0.23529412 0.23529412 0.24313726 ... 0.1254902  0.13333334 0.13333334]\n",
      " [0.15294118 0.17254902 0.20784314 ... 0.11372549 0.10196079 0.11372549]\n",
      " ...\n",
      " [0.44705883 0.45882353 0.44705883 ... 0.38431373 0.3764706  0.38431373]\n",
      " [0.4117647  0.4117647  0.41960785 ... 0.21176471 0.18431373 0.16078432]\n",
      " [0.45490196 0.44705883 0.45882353 ... 0.37254903 0.39215687 0.39607844]]\n",
      "\n",
      "\n",
      "\n",
      "< Y-train after normalization. > \n",
      " [ 0  0  0  0  0  0  0  0  0  0  0  0  1  1  1  1  1  1  1  1  1  1  1  1\n",
      "  2  2  2  2  2  2  2  2  2  2  2  2  3  3  3  3  3  3  3  3  3  3  3  3\n",
      "  4  4  4  4  4  4  4  4  4  4  4  4  5  5  5  5  5  5  5  5  5  5  5  5\n",
      "  6  6  6  6  6  6  6  6  6  6  6  6  7  7  7  7  7  7  7  7  7  7  7  7\n",
      "  8  8  8  8  8  8  8  8  8  8  8  8  9  9  9  9  9  9  9  9  9  9  9  9\n",
      " 10 10 10 10 10 10 10 10 10 10 10 10 11 11 11 11 11 11 11 11 11 11 11 11\n",
      " 12 12 12 12 12 12 12 12 12 12 12 12 13 13 13 13 13 13 13 13 13 13 13 13\n",
      " 14 14 14 14 14 14 14 14 14 14 14 14 15 15 15 15 15 15 15 15 15 15 15 15\n",
      " 16 16 16 16 16 16 16 16 16 16 16 16 17 17 17 17 17 17 17 17 17 17 17 17\n",
      " 18 18 18 18 18 18 18 18 18 18 18 18 19 19 19 19 19 19 19 19 19 19 19 19]\n"
     ]
    }
   ],
   "source": [
    "# Show the train and test Data format\n",
    "print(\"<  IMAGE  DATA  AFTER  NORMALIZATION  >\")\n",
    "print(\"\\n\\n\")\n",
    "\n",
    "print('< x_train  after normalization. >\\n {}'.format(x_train[:]))\n",
    "print(\"\\n\\n\")\n",
    "\n",
    "print('< Y-train after normalization. > \\n {}'.format(y_train))\n"
   ]
  },
  {
   "cell_type": "markdown",
   "metadata": {},
   "source": [
    "# Task.4 -  Split  Dataset"
   ]
  },
  {
   "cell_type": "code",
   "execution_count": 16,
   "metadata": {},
   "outputs": [],
   "source": [
    "x_train, x_valid, y_train, y_valid = train_test_split( x_train, y_train, test_size=.05, random_state=1000)\n"
   ]
  },
  {
   "cell_type": "markdown",
   "metadata": {},
   "source": [
    "# Task.5 -  Transform Images To Equal Sizes To Feed  in CNN\n"
   ]
  },
  {
   "cell_type": "code",
   "execution_count": 17,
   "metadata": {},
   "outputs": [
    {
     "name": "stdout",
     "output_type": "stream",
     "text": [
      "Original Single Image Shape: (112, 92, 1)\n",
      "\n",
      "< DATA SHAPES AFTER  RESHAPING >\n",
      "   x_train shape: (228, 112, 92, 1)\n",
      "   x_valid  shape: (12, 112, 92, 1)\n",
      "   x_test  shape: (160, 112, 92, 1)\n"
     ]
    }
   ],
   "source": [
    "Original_Image_Size        = (112,92)\n",
    "Original_Image_Size_List   = list(Original_Image_Size)\n",
    "Rank = 1\n",
    "Original_Image_Size_List.append(Rank)\n",
    "Image_Shape    = tuple(Original_Image_Size_List)\n",
    "print(\"Original Single Image Shape:\", Image_Shape)\n",
    "print()\n",
    "\n",
    "\n",
    "\n",
    "# CHANGE SIZE OF IMAGES\n",
    "x_train  = x_train.reshape(x_train.shape[0], *Image_Shape)\n",
    "x_valid  = x_valid.reshape(x_valid.shape[0], *Image_Shape)\n",
    "x_test   = x_test.reshape(x_test.shape[0],   *Image_Shape)\n",
    "\n",
    "\n",
    "\n",
    "\n",
    "print(\"< DATA SHAPES AFTER  RESHAPING >\")\n",
    "print('   x_train shape: {}'.format(x_train.shape))\n",
    "print('   x_valid  shape: {}'.format(x_valid.shape))\n",
    "print('   x_test  shape: {}'.format(x_test.shape))\n",
    "\n"
   ]
  },
  {
   "cell_type": "markdown",
   "metadata": {},
   "source": [
    "# Task.6-  Build CNN model with 3 main layers: \n",
    "###   1-  Convolotional layer \n",
    "###   2-   pooling layer  \n",
    "###   3-   fully connected layer\n",
    " \n",
    " "
   ]
  },
  {
   "cell_type": "markdown",
   "metadata": {},
   "source": [
    "##  (6.2)   Build Model "
   ]
  },
  {
   "cell_type": "code",
   "execution_count": 18,
   "metadata": {},
   "outputs": [],
   "source": [
    "CNN_Model= Sequential([ Conv2D(filters=36, kernel_size=7, activation='relu', input_shape= Image_Shape),\n",
    "                        MaxPooling2D(pool_size=2),\n",
    "                        Conv2D(filters=54, kernel_size=5, activation='relu', input_shape= Image_Shape),\n",
    "                        MaxPooling2D(pool_size=2),\n",
    "                        Flatten(),\n",
    "                        Dense(4048, activation='relu'),\n",
    "                        Dropout(0.5),\n",
    "                        Dense(2024, activation='relu'),\n",
    "                        Dropout(0.5),\n",
    "                        Dense(1024, activation='relu'),\n",
    "                        Dropout(0.5),\n",
    "                        Dense(512, activation='relu'),\n",
    "                        Dropout(0.5),\n",
    "                        Dense(20, activation='softmax')  \n",
    "                      ])\n",
    "\n",
    "\n",
    "\n",
    "CNN_Model.compile( loss='sparse_categorical_crossentropy',\n",
    "                    optimizer=Adam(lr=0.0001),\n",
    "                    metrics=['accuracy']\n",
    "                )\n",
    "\n"
   ]
  },
  {
   "cell_type": "markdown",
   "metadata": {},
   "source": [
    "## (6.2)  View Model Summary"
   ]
  },
  {
   "cell_type": "code",
   "execution_count": 19,
   "metadata": {},
   "outputs": [
    {
     "name": "stdout",
     "output_type": "stream",
     "text": [
      "Model: \"sequential\"\n",
      "_________________________________________________________________\n",
      "Layer (type)                 Output Shape              Param #   \n",
      "=================================================================\n",
      "conv2d (Conv2D)              (None, 106, 86, 36)       1800      \n",
      "_________________________________________________________________\n",
      "max_pooling2d (MaxPooling2D) (None, 53, 43, 36)        0         \n",
      "_________________________________________________________________\n",
      "conv2d_1 (Conv2D)            (None, 49, 39, 54)        48654     \n",
      "_________________________________________________________________\n",
      "max_pooling2d_1 (MaxPooling2 (None, 24, 19, 54)        0         \n",
      "_________________________________________________________________\n",
      "flatten (Flatten)            (None, 24624)             0         \n",
      "_________________________________________________________________\n",
      "dense (Dense)                (None, 4048)              99682000  \n",
      "_________________________________________________________________\n",
      "dropout (Dropout)            (None, 4048)              0         \n",
      "_________________________________________________________________\n",
      "dense_1 (Dense)              (None, 2024)              8195176   \n",
      "_________________________________________________________________\n",
      "dropout_1 (Dropout)          (None, 2024)              0         \n",
      "_________________________________________________________________\n",
      "dense_2 (Dense)              (None, 1024)              2073600   \n",
      "_________________________________________________________________\n",
      "dropout_2 (Dropout)          (None, 1024)              0         \n",
      "_________________________________________________________________\n",
      "dense_3 (Dense)              (None, 512)               524800    \n",
      "_________________________________________________________________\n",
      "dropout_3 (Dropout)          (None, 512)               0         \n",
      "_________________________________________________________________\n",
      "dense_4 (Dense)              (None, 20)                10260     \n",
      "=================================================================\n",
      "Total params: 110,536,290\n",
      "Trainable params: 110,536,290\n",
      "Non-trainable params: 0\n",
      "_________________________________________________________________\n"
     ]
    }
   ],
   "source": [
    "CNN_Model.summary()"
   ]
  },
  {
   "cell_type": "markdown",
   "metadata": {},
   "source": [
    "# Task.7 -  Model Training \n",
    "\n"
   ]
  },
  {
   "cell_type": "markdown",
   "metadata": {},
   "source": [
    "##  (7.1)   Model Training "
   ]
  },
  {
   "cell_type": "code",
   "execution_count": 20,
   "metadata": {},
   "outputs": [
    {
     "name": "stdout",
     "output_type": "stream",
     "text": [
      " Model training Has Started- Please wait.\n",
      "\n",
      "Epoch 1/300\n",
      "2/2 - 9s - loss: 3.0386 - accuracy: 0.0526 - val_loss: 3.0577 - val_accuracy: 0.0000e+00\n",
      "Epoch 2/300\n",
      "2/2 - 5s - loss: 3.0531 - accuracy: 0.0526 - val_loss: 3.0436 - val_accuracy: 0.0000e+00\n",
      "Epoch 3/300\n",
      "2/2 - 5s - loss: 3.1182 - accuracy: 0.0307 - val_loss: 3.0290 - val_accuracy: 0.0000e+00\n",
      "Epoch 4/300\n",
      "2/2 - 5s - loss: 3.0606 - accuracy: 0.0702 - val_loss: 3.0094 - val_accuracy: 0.0000e+00\n",
      "Epoch 5/300\n",
      "2/2 - 5s - loss: 3.0172 - accuracy: 0.0482 - val_loss: 3.0066 - val_accuracy: 0.0000e+00\n",
      "Epoch 6/300\n",
      "2/2 - 5s - loss: 3.0780 - accuracy: 0.0439 - val_loss: 2.9979 - val_accuracy: 0.0000e+00\n",
      "Epoch 7/300\n",
      "2/2 - 5s - loss: 3.0245 - accuracy: 0.0351 - val_loss: 2.9927 - val_accuracy: 0.0833\n",
      "Epoch 8/300\n",
      "2/2 - 5s - loss: 2.9871 - accuracy: 0.0658 - val_loss: 2.9894 - val_accuracy: 0.0000e+00\n",
      "Epoch 9/300\n",
      "2/2 - 5s - loss: 2.9847 - accuracy: 0.0570 - val_loss: 2.9891 - val_accuracy: 0.0000e+00\n",
      "Epoch 10/300\n",
      "2/2 - 5s - loss: 2.9929 - accuracy: 0.0702 - val_loss: 2.9905 - val_accuracy: 0.0000e+00\n",
      "Epoch 11/300\n",
      "2/2 - 5s - loss: 2.9934 - accuracy: 0.0658 - val_loss: 2.9922 - val_accuracy: 0.0000e+00\n",
      "Epoch 12/300\n",
      "2/2 - 5s - loss: 2.9824 - accuracy: 0.0614 - val_loss: 2.9927 - val_accuracy: 0.0833\n",
      "Epoch 13/300\n",
      "2/2 - 5s - loss: 2.9822 - accuracy: 0.0570 - val_loss: 2.9925 - val_accuracy: 0.0833\n",
      "Epoch 14/300\n",
      "2/2 - 5s - loss: 2.9856 - accuracy: 0.0789 - val_loss: 2.9913 - val_accuracy: 0.0833\n",
      "Epoch 15/300\n",
      "2/2 - 5s - loss: 2.9734 - accuracy: 0.0702 - val_loss: 2.9906 - val_accuracy: 0.0000e+00\n",
      "Epoch 16/300\n",
      "2/2 - 5s - loss: 2.9902 - accuracy: 0.0833 - val_loss: 2.9886 - val_accuracy: 0.0000e+00\n",
      "Epoch 17/300\n",
      "2/2 - 5s - loss: 2.9834 - accuracy: 0.0833 - val_loss: 2.9879 - val_accuracy: 0.0000e+00\n",
      "Epoch 18/300\n",
      "2/2 - 5s - loss: 2.9830 - accuracy: 0.0658 - val_loss: 2.9897 - val_accuracy: 0.0000e+00\n",
      "Epoch 19/300\n",
      "2/2 - 5s - loss: 2.9883 - accuracy: 0.0614 - val_loss: 2.9892 - val_accuracy: 0.0000e+00\n",
      "Epoch 20/300\n",
      "2/2 - 5s - loss: 2.9756 - accuracy: 0.0746 - val_loss: 2.9886 - val_accuracy: 0.0000e+00\n",
      "Epoch 21/300\n",
      "2/2 - 5s - loss: 2.9843 - accuracy: 0.0482 - val_loss: 2.9873 - val_accuracy: 0.0000e+00\n",
      "Epoch 22/300\n",
      "2/2 - 5s - loss: 2.9745 - accuracy: 0.0658 - val_loss: 2.9868 - val_accuracy: 0.0000e+00\n",
      "Epoch 23/300\n",
      "2/2 - 5s - loss: 2.9690 - accuracy: 0.0614 - val_loss: 2.9861 - val_accuracy: 0.0000e+00\n",
      "Epoch 24/300\n",
      "2/2 - 5s - loss: 2.9636 - accuracy: 0.0833 - val_loss: 2.9841 - val_accuracy: 0.0000e+00\n",
      "Epoch 25/300\n",
      "2/2 - 5s - loss: 2.9651 - accuracy: 0.0789 - val_loss: 2.9829 - val_accuracy: 0.0000e+00\n",
      "Epoch 26/300\n",
      "2/2 - 5s - loss: 2.9615 - accuracy: 0.0439 - val_loss: 2.9794 - val_accuracy: 0.0000e+00\n",
      "Epoch 27/300\n",
      "2/2 - 5s - loss: 2.9586 - accuracy: 0.1140 - val_loss: 2.9777 - val_accuracy: 0.0000e+00\n",
      "Epoch 28/300\n",
      "2/2 - 5s - loss: 2.9594 - accuracy: 0.0789 - val_loss: 2.9745 - val_accuracy: 0.0833\n",
      "Epoch 29/300\n",
      "2/2 - 5s - loss: 2.9455 - accuracy: 0.0965 - val_loss: 2.9688 - val_accuracy: 0.0833\n",
      "Epoch 30/300\n",
      "2/2 - 5s - loss: 2.9462 - accuracy: 0.0833 - val_loss: 2.9615 - val_accuracy: 0.0833\n",
      "Epoch 31/300\n",
      "2/2 - 5s - loss: 2.9197 - accuracy: 0.0789 - val_loss: 2.9520 - val_accuracy: 0.0833\n",
      "Epoch 32/300\n",
      "2/2 - 5s - loss: 2.9026 - accuracy: 0.1447 - val_loss: 2.9424 - val_accuracy: 0.1667\n",
      "Epoch 33/300\n",
      "2/2 - 5s - loss: 2.9250 - accuracy: 0.0965 - val_loss: 2.9275 - val_accuracy: 0.1667\n",
      "Epoch 34/300\n",
      "2/2 - 5s - loss: 2.8999 - accuracy: 0.0877 - val_loss: 2.9066 - val_accuracy: 0.1667\n",
      "Epoch 35/300\n",
      "2/2 - 5s - loss: 2.8706 - accuracy: 0.1316 - val_loss: 2.8891 - val_accuracy: 0.2500\n",
      "Epoch 36/300\n",
      "2/2 - 5s - loss: 2.8768 - accuracy: 0.1447 - val_loss: 2.8589 - val_accuracy: 0.2500\n",
      "Epoch 37/300\n",
      "2/2 - 5s - loss: 2.8856 - accuracy: 0.0833 - val_loss: 2.8233 - val_accuracy: 0.2500\n",
      "Epoch 38/300\n",
      "2/2 - 5s - loss: 2.8255 - accuracy: 0.1447 - val_loss: 2.7860 - val_accuracy: 0.2500\n",
      "Epoch 39/300\n",
      "2/2 - 5s - loss: 2.7891 - accuracy: 0.1754 - val_loss: 2.7401 - val_accuracy: 0.2500\n",
      "Epoch 40/300\n",
      "2/2 - 5s - loss: 2.7776 - accuracy: 0.1535 - val_loss: 2.6789 - val_accuracy: 0.2500\n",
      "Epoch 41/300\n",
      "2/2 - 5s - loss: 2.7198 - accuracy: 0.1667 - val_loss: 2.6010 - val_accuracy: 0.2500\n",
      "Epoch 42/300\n",
      "2/2 - 5s - loss: 2.7172 - accuracy: 0.1535 - val_loss: 2.5193 - val_accuracy: 0.2500\n",
      "Epoch 43/300\n",
      "2/2 - 5s - loss: 2.5910 - accuracy: 0.2763 - val_loss: 2.4145 - val_accuracy: 0.3333\n",
      "Epoch 44/300\n",
      "2/2 - 5s - loss: 2.6619 - accuracy: 0.1447 - val_loss: 2.3441 - val_accuracy: 0.3333\n",
      "Epoch 45/300\n",
      "2/2 - 5s - loss: 2.5208 - accuracy: 0.2149 - val_loss: 2.2531 - val_accuracy: 0.3333\n",
      "Epoch 46/300\n",
      "2/2 - 5s - loss: 2.5108 - accuracy: 0.2193 - val_loss: 2.1521 - val_accuracy: 0.3333\n",
      "Epoch 47/300\n",
      "2/2 - 5s - loss: 2.3711 - accuracy: 0.2982 - val_loss: 2.0176 - val_accuracy: 0.4167\n",
      "Epoch 48/300\n",
      "2/2 - 5s - loss: 2.2697 - accuracy: 0.2939 - val_loss: 1.8867 - val_accuracy: 0.5833\n",
      "Epoch 49/300\n",
      "2/2 - 5s - loss: 2.2325 - accuracy: 0.2982 - val_loss: 1.7593 - val_accuracy: 0.7500\n",
      "Epoch 50/300\n",
      "2/2 - 5s - loss: 2.2322 - accuracy: 0.2982 - val_loss: 1.6794 - val_accuracy: 0.6667\n",
      "Epoch 51/300\n",
      "2/2 - 5s - loss: 2.1117 - accuracy: 0.3289 - val_loss: 1.6300 - val_accuracy: 0.6667\n",
      "Epoch 52/300\n",
      "2/2 - 5s - loss: 2.0639 - accuracy: 0.3728 - val_loss: 1.5915 - val_accuracy: 0.7500\n",
      "Epoch 53/300\n",
      "2/2 - 5s - loss: 1.9520 - accuracy: 0.4167 - val_loss: 1.4738 - val_accuracy: 0.6667\n",
      "Epoch 54/300\n",
      "2/2 - 5s - loss: 1.9001 - accuracy: 0.3333 - val_loss: 1.3673 - val_accuracy: 0.7500\n",
      "Epoch 55/300\n",
      "2/2 - 5s - loss: 1.8571 - accuracy: 0.4211 - val_loss: 1.2521 - val_accuracy: 0.7500\n",
      "Epoch 56/300\n",
      "2/2 - 5s - loss: 1.7625 - accuracy: 0.4167 - val_loss: 1.1583 - val_accuracy: 0.7500\n",
      "Epoch 57/300\n",
      "2/2 - 5s - loss: 1.6352 - accuracy: 0.4956 - val_loss: 1.0774 - val_accuracy: 0.7500\n",
      "Epoch 58/300\n",
      "2/2 - 5s - loss: 1.6762 - accuracy: 0.4737 - val_loss: 1.0227 - val_accuracy: 0.7500\n",
      "Epoch 59/300\n",
      "2/2 - 5s - loss: 1.5527 - accuracy: 0.5395 - val_loss: 0.9471 - val_accuracy: 0.7500\n",
      "Epoch 60/300\n",
      "2/2 - 5s - loss: 1.3735 - accuracy: 0.5395 - val_loss: 0.8432 - val_accuracy: 0.7500\n",
      "Epoch 61/300\n",
      "2/2 - 5s - loss: 1.3414 - accuracy: 0.5702 - val_loss: 0.7458 - val_accuracy: 0.8333\n",
      "Epoch 62/300\n",
      "2/2 - 5s - loss: 1.2609 - accuracy: 0.6491 - val_loss: 0.6526 - val_accuracy: 0.9167\n",
      "Epoch 63/300\n",
      "2/2 - 5s - loss: 1.1752 - accuracy: 0.6009 - val_loss: 0.5819 - val_accuracy: 0.8333\n",
      "Epoch 64/300\n",
      "2/2 - 5s - loss: 1.0321 - accuracy: 0.6711 - val_loss: 0.5070 - val_accuracy: 0.9167\n",
      "Epoch 65/300\n",
      "2/2 - 5s - loss: 1.1005 - accuracy: 0.6535 - val_loss: 0.4616 - val_accuracy: 0.9167\n",
      "Epoch 66/300\n",
      "2/2 - 5s - loss: 1.0392 - accuracy: 0.6711 - val_loss: 0.4560 - val_accuracy: 0.9167\n",
      "Epoch 67/300\n",
      "2/2 - 5s - loss: 0.9282 - accuracy: 0.7105 - val_loss: 0.4334 - val_accuracy: 0.9167\n",
      "Epoch 68/300\n",
      "2/2 - 5s - loss: 0.8603 - accuracy: 0.7281 - val_loss: 0.3824 - val_accuracy: 1.0000\n",
      "Epoch 69/300\n",
      "2/2 - 6s - loss: 0.7215 - accuracy: 0.7675 - val_loss: 0.3237 - val_accuracy: 0.9167\n",
      "Epoch 70/300\n",
      "2/2 - 7s - loss: 0.7321 - accuracy: 0.7851 - val_loss: 0.2946 - val_accuracy: 0.9167\n",
      "Epoch 71/300\n",
      "2/2 - 5s - loss: 0.7114 - accuracy: 0.7588 - val_loss: 0.2433 - val_accuracy: 1.0000\n",
      "Epoch 72/300\n",
      "2/2 - 9s - loss: 0.5336 - accuracy: 0.8465 - val_loss: 0.1957 - val_accuracy: 1.0000\n",
      "Epoch 73/300\n",
      "2/2 - 10s - loss: 0.5589 - accuracy: 0.8246 - val_loss: 0.1654 - val_accuracy: 1.0000\n",
      "Epoch 74/300\n",
      "2/2 - 9s - loss: 0.6117 - accuracy: 0.8070 - val_loss: 0.1402 - val_accuracy: 1.0000\n",
      "Epoch 75/300\n",
      "2/2 - 10s - loss: 0.5969 - accuracy: 0.7895 - val_loss: 0.1358 - val_accuracy: 1.0000\n",
      "Epoch 76/300\n",
      "2/2 - 35s - loss: 0.4397 - accuracy: 0.8684 - val_loss: 0.1542 - val_accuracy: 1.0000\n",
      "Epoch 77/300\n",
      "2/2 - 10s - loss: 0.4011 - accuracy: 0.8596 - val_loss: 0.1466 - val_accuracy: 1.0000\n",
      "Epoch 78/300\n",
      "2/2 - 9s - loss: 0.4711 - accuracy: 0.8377 - val_loss: 0.1313 - val_accuracy: 1.0000\n",
      "Epoch 79/300\n",
      "2/2 - 8s - loss: 0.3565 - accuracy: 0.9035 - val_loss: 0.1039 - val_accuracy: 1.0000\n",
      "Epoch 80/300\n",
      "2/2 - 9s - loss: 0.3745 - accuracy: 0.8772 - val_loss: 0.0893 - val_accuracy: 1.0000\n",
      "Epoch 81/300\n",
      "2/2 - 9s - loss: 0.3747 - accuracy: 0.8684 - val_loss: 0.0747 - val_accuracy: 1.0000\n",
      "Epoch 82/300\n",
      "2/2 - 9s - loss: 0.3155 - accuracy: 0.9079 - val_loss: 0.0646 - val_accuracy: 1.0000\n",
      "Epoch 83/300\n",
      "2/2 - 9s - loss: 0.2910 - accuracy: 0.8860 - val_loss: 0.0606 - val_accuracy: 1.0000\n"
     ]
    },
    {
     "name": "stdout",
     "output_type": "stream",
     "text": [
      "Epoch 84/300\n",
      "2/2 - 33s - loss: 0.2329 - accuracy: 0.9386 - val_loss: 0.0555 - val_accuracy: 1.0000\n",
      "Epoch 85/300\n",
      "2/2 - 9s - loss: 0.2660 - accuracy: 0.9211 - val_loss: 0.0448 - val_accuracy: 1.0000\n",
      "Epoch 86/300\n",
      "2/2 - 9s - loss: 0.2578 - accuracy: 0.9342 - val_loss: 0.0344 - val_accuracy: 1.0000\n",
      "Epoch 87/300\n",
      "2/2 - 9s - loss: 0.2932 - accuracy: 0.8947 - val_loss: 0.0331 - val_accuracy: 1.0000\n",
      "Epoch 88/300\n",
      "2/2 - 8s - loss: 0.2204 - accuracy: 0.9386 - val_loss: 0.0403 - val_accuracy: 1.0000\n",
      "Epoch 89/300\n",
      "2/2 - 9s - loss: 0.1934 - accuracy: 0.9342 - val_loss: 0.0515 - val_accuracy: 1.0000\n",
      "Epoch 90/300\n",
      "2/2 - 10s - loss: 0.2185 - accuracy: 0.9430 - val_loss: 0.0440 - val_accuracy: 1.0000\n",
      "Epoch 91/300\n",
      "2/2 - 9s - loss: 0.1993 - accuracy: 0.9430 - val_loss: 0.0363 - val_accuracy: 1.0000\n",
      "Epoch 92/300\n",
      "2/2 - 9s - loss: 0.1603 - accuracy: 0.9518 - val_loss: 0.0307 - val_accuracy: 1.0000\n",
      "Epoch 93/300\n",
      "2/2 - 9s - loss: 0.1399 - accuracy: 0.9649 - val_loss: 0.0230 - val_accuracy: 1.0000\n",
      "Epoch 94/300\n",
      "2/2 - 10s - loss: 0.1307 - accuracy: 0.9518 - val_loss: 0.0213 - val_accuracy: 1.0000\n",
      "Epoch 95/300\n",
      "2/2 - 9s - loss: 0.1255 - accuracy: 0.9605 - val_loss: 0.0311 - val_accuracy: 1.0000\n",
      "Epoch 96/300\n",
      "2/2 - 9s - loss: 0.1245 - accuracy: 0.9561 - val_loss: 0.0270 - val_accuracy: 1.0000\n",
      "Epoch 97/300\n",
      "2/2 - 10s - loss: 0.1334 - accuracy: 0.9693 - val_loss: 0.0269 - val_accuracy: 1.0000\n",
      "Epoch 98/300\n",
      "2/2 - 9s - loss: 0.1160 - accuracy: 0.9737 - val_loss: 0.0229 - val_accuracy: 1.0000\n",
      "Epoch 99/300\n",
      "2/2 - 9s - loss: 0.0900 - accuracy: 0.9825 - val_loss: 0.0157 - val_accuracy: 1.0000\n",
      "Epoch 100/300\n",
      "2/2 - 8s - loss: 0.1155 - accuracy: 0.9649 - val_loss: 0.0117 - val_accuracy: 1.0000\n",
      "Epoch 101/300\n",
      "2/2 - 5s - loss: 0.1086 - accuracy: 0.9518 - val_loss: 0.0110 - val_accuracy: 1.0000\n",
      "Epoch 102/300\n",
      "2/2 - 5s - loss: 0.1181 - accuracy: 0.9649 - val_loss: 0.0065 - val_accuracy: 1.0000\n",
      "Epoch 103/300\n",
      "2/2 - 5s - loss: 0.1102 - accuracy: 0.9693 - val_loss: 0.0048 - val_accuracy: 1.0000\n",
      "Epoch 104/300\n",
      "2/2 - 5s - loss: 0.0887 - accuracy: 0.9825 - val_loss: 0.0049 - val_accuracy: 1.0000\n",
      "Epoch 105/300\n",
      "2/2 - 5s - loss: 0.0887 - accuracy: 0.9737 - val_loss: 0.0066 - val_accuracy: 1.0000\n",
      "Epoch 106/300\n",
      "2/2 - 5s - loss: 0.0732 - accuracy: 0.9781 - val_loss: 0.0097 - val_accuracy: 1.0000\n",
      "Epoch 107/300\n",
      "2/2 - 5s - loss: 0.0896 - accuracy: 0.9781 - val_loss: 0.0107 - val_accuracy: 1.0000\n",
      "Epoch 108/300\n",
      "2/2 - 5s - loss: 0.0840 - accuracy: 0.9781 - val_loss: 0.0080 - val_accuracy: 1.0000\n",
      "Epoch 109/300\n",
      "2/2 - 5s - loss: 0.0684 - accuracy: 0.9825 - val_loss: 0.0051 - val_accuracy: 1.0000\n",
      "Epoch 110/300\n",
      "2/2 - 5s - loss: 0.0679 - accuracy: 0.9781 - val_loss: 0.0038 - val_accuracy: 1.0000\n",
      "Epoch 111/300\n",
      "2/2 - 5s - loss: 0.0718 - accuracy: 0.9825 - val_loss: 0.0028 - val_accuracy: 1.0000\n",
      "Epoch 112/300\n",
      "2/2 - 5s - loss: 0.1007 - accuracy: 0.9781 - val_loss: 0.0036 - val_accuracy: 1.0000\n",
      "Epoch 113/300\n",
      "2/2 - 5s - loss: 0.0470 - accuracy: 0.9912 - val_loss: 0.0054 - val_accuracy: 1.0000\n",
      "Epoch 114/300\n",
      "2/2 - 5s - loss: 0.0799 - accuracy: 0.9868 - val_loss: 0.0058 - val_accuracy: 1.0000\n",
      "Epoch 115/300\n",
      "2/2 - 5s - loss: 0.0613 - accuracy: 0.9825 - val_loss: 0.0051 - val_accuracy: 1.0000\n",
      "Epoch 116/300\n",
      "2/2 - 5s - loss: 0.0643 - accuracy: 0.9868 - val_loss: 0.0032 - val_accuracy: 1.0000\n",
      "Epoch 117/300\n",
      "2/2 - 5s - loss: 0.1087 - accuracy: 0.9781 - val_loss: 0.0016 - val_accuracy: 1.0000\n",
      "Epoch 118/300\n",
      "2/2 - 5s - loss: 0.0559 - accuracy: 0.9956 - val_loss: 0.0012 - val_accuracy: 1.0000\n",
      "Epoch 119/300\n",
      "2/2 - 5s - loss: 0.0528 - accuracy: 0.9868 - val_loss: 9.8146e-04 - val_accuracy: 1.0000\n",
      "Epoch 120/300\n",
      "2/2 - 5s - loss: 0.0814 - accuracy: 0.9781 - val_loss: 8.6294e-04 - val_accuracy: 1.0000\n",
      "Epoch 121/300\n",
      "2/2 - 5s - loss: 0.0638 - accuracy: 0.9781 - val_loss: 8.2289e-04 - val_accuracy: 1.0000\n",
      "Epoch 122/300\n",
      "2/2 - 5s - loss: 0.0595 - accuracy: 0.9868 - val_loss: 0.0012 - val_accuracy: 1.0000\n",
      "Epoch 123/300\n",
      "2/2 - 5s - loss: 0.0480 - accuracy: 0.9912 - val_loss: 0.0019 - val_accuracy: 1.0000\n",
      "Epoch 124/300\n",
      "2/2 - 5s - loss: 0.0504 - accuracy: 0.9868 - val_loss: 0.0025 - val_accuracy: 1.0000\n",
      "Epoch 125/300\n",
      "2/2 - 5s - loss: 0.0526 - accuracy: 0.9868 - val_loss: 0.0023 - val_accuracy: 1.0000\n",
      "Epoch 126/300\n",
      "2/2 - 5s - loss: 0.0293 - accuracy: 0.9912 - val_loss: 0.0017 - val_accuracy: 1.0000\n",
      "Epoch 127/300\n",
      "2/2 - 5s - loss: 0.0464 - accuracy: 0.9912 - val_loss: 0.0011 - val_accuracy: 1.0000\n",
      "Epoch 128/300\n",
      "2/2 - 5s - loss: 0.0369 - accuracy: 0.9912 - val_loss: 6.4748e-04 - val_accuracy: 1.0000\n",
      "Epoch 129/300\n",
      "2/2 - 5s - loss: 0.0316 - accuracy: 0.9912 - val_loss: 5.1207e-04 - val_accuracy: 1.0000\n",
      "Epoch 130/300\n",
      "2/2 - 5s - loss: 0.0533 - accuracy: 0.9912 - val_loss: 4.2003e-04 - val_accuracy: 1.0000\n",
      "Epoch 131/300\n",
      "2/2 - 5s - loss: 0.0526 - accuracy: 0.9912 - val_loss: 5.2289e-04 - val_accuracy: 1.0000\n",
      "Epoch 132/300\n",
      "2/2 - 5s - loss: 0.0396 - accuracy: 0.9956 - val_loss: 8.1048e-04 - val_accuracy: 1.0000\n",
      "Epoch 133/300\n",
      "2/2 - 5s - loss: 0.0362 - accuracy: 0.9912 - val_loss: 0.0011 - val_accuracy: 1.0000\n",
      "Epoch 134/300\n",
      "2/2 - 5s - loss: 0.0452 - accuracy: 0.9737 - val_loss: 0.0012 - val_accuracy: 1.0000\n",
      "Epoch 135/300\n",
      "2/2 - 5s - loss: 0.0258 - accuracy: 1.0000 - val_loss: 0.0012 - val_accuracy: 1.0000\n",
      "Epoch 136/300\n",
      "2/2 - 5s - loss: 0.0434 - accuracy: 0.9868 - val_loss: 0.0011 - val_accuracy: 1.0000\n",
      "Epoch 137/300\n",
      "2/2 - 5s - loss: 0.0241 - accuracy: 0.9912 - val_loss: 0.0013 - val_accuracy: 1.0000\n",
      "Epoch 138/300\n",
      "2/2 - 5s - loss: 0.0398 - accuracy: 0.9912 - val_loss: 0.0018 - val_accuracy: 1.0000\n",
      "Epoch 139/300\n",
      "2/2 - 5s - loss: 0.0309 - accuracy: 0.9956 - val_loss: 0.0020 - val_accuracy: 1.0000\n",
      "Epoch 140/300\n",
      "2/2 - 5s - loss: 0.0230 - accuracy: 1.0000 - val_loss: 0.0025 - val_accuracy: 1.0000\n",
      "Epoch 141/300\n",
      "2/2 - 5s - loss: 0.0163 - accuracy: 1.0000 - val_loss: 0.0031 - val_accuracy: 1.0000\n",
      "Epoch 142/300\n",
      "2/2 - 5s - loss: 0.0218 - accuracy: 0.9956 - val_loss: 0.0026 - val_accuracy: 1.0000\n",
      "Epoch 143/300\n",
      "2/2 - 5s - loss: 0.0286 - accuracy: 0.9956 - val_loss: 0.0012 - val_accuracy: 1.0000\n",
      "Epoch 144/300\n",
      "2/2 - 5s - loss: 0.0200 - accuracy: 0.9912 - val_loss: 6.6877e-04 - val_accuracy: 1.0000\n",
      "Epoch 145/300\n",
      "2/2 - 5s - loss: 0.0182 - accuracy: 1.0000 - val_loss: 5.0254e-04 - val_accuracy: 1.0000\n",
      "Epoch 146/300\n",
      "2/2 - 5s - loss: 0.0249 - accuracy: 0.9912 - val_loss: 5.0521e-04 - val_accuracy: 1.0000\n",
      "Epoch 147/300\n",
      "2/2 - 5s - loss: 0.0138 - accuracy: 1.0000 - val_loss: 5.4611e-04 - val_accuracy: 1.0000\n",
      "Epoch 148/300\n",
      "2/2 - 5s - loss: 0.0159 - accuracy: 1.0000 - val_loss: 5.7218e-04 - val_accuracy: 1.0000\n",
      "Epoch 149/300\n",
      "2/2 - 5s - loss: 0.0428 - accuracy: 0.9781 - val_loss: 3.7921e-04 - val_accuracy: 1.0000\n",
      "Epoch 150/300\n",
      "2/2 - 5s - loss: 0.0125 - accuracy: 1.0000 - val_loss: 3.4917e-04 - val_accuracy: 1.0000\n",
      "Epoch 151/300\n",
      "2/2 - 5s - loss: 0.0328 - accuracy: 0.9868 - val_loss: 3.9384e-04 - val_accuracy: 1.0000\n",
      "Epoch 152/300\n",
      "2/2 - 5s - loss: 0.0136 - accuracy: 1.0000 - val_loss: 4.4072e-04 - val_accuracy: 1.0000\n",
      "Epoch 153/300\n",
      "2/2 - 5s - loss: 0.0307 - accuracy: 0.9956 - val_loss: 5.1081e-04 - val_accuracy: 1.0000\n",
      "Epoch 154/300\n",
      "2/2 - 5s - loss: 0.0114 - accuracy: 0.9956 - val_loss: 4.6660e-04 - val_accuracy: 1.0000\n",
      "Epoch 155/300\n",
      "2/2 - 5s - loss: 0.0100 - accuracy: 1.0000 - val_loss: 4.4064e-04 - val_accuracy: 1.0000\n",
      "Epoch 156/300\n",
      "2/2 - 5s - loss: 0.0231 - accuracy: 0.9912 - val_loss: 3.9085e-04 - val_accuracy: 1.0000\n",
      "Epoch 157/300\n",
      "2/2 - 5s - loss: 0.0135 - accuracy: 0.9956 - val_loss: 3.2907e-04 - val_accuracy: 1.0000\n",
      "Epoch 158/300\n",
      "2/2 - 5s - loss: 0.0172 - accuracy: 1.0000 - val_loss: 2.5720e-04 - val_accuracy: 1.0000\n",
      "Epoch 159/300\n",
      "2/2 - 5s - loss: 0.0203 - accuracy: 0.9956 - val_loss: 2.1620e-04 - val_accuracy: 1.0000\n",
      "Epoch 160/300\n",
      "2/2 - 5s - loss: 0.0229 - accuracy: 0.9912 - val_loss: 1.8228e-04 - val_accuracy: 1.0000\n",
      "Epoch 161/300\n",
      "2/2 - 5s - loss: 0.0070 - accuracy: 1.0000 - val_loss: 1.5878e-04 - val_accuracy: 1.0000\n",
      "Epoch 162/300\n",
      "2/2 - 5s - loss: 0.0249 - accuracy: 0.9868 - val_loss: 1.4487e-04 - val_accuracy: 1.0000\n",
      "Epoch 163/300\n",
      "2/2 - 5s - loss: 0.0319 - accuracy: 0.9912 - val_loss: 1.3576e-04 - val_accuracy: 1.0000\n",
      "Epoch 164/300\n",
      "2/2 - 5s - loss: 0.0169 - accuracy: 0.9956 - val_loss: 1.5040e-04 - val_accuracy: 1.0000\n",
      "Epoch 165/300\n",
      "2/2 - 5s - loss: 0.0261 - accuracy: 0.9912 - val_loss: 1.5876e-04 - val_accuracy: 1.0000\n"
     ]
    },
    {
     "name": "stdout",
     "output_type": "stream",
     "text": [
      "Epoch 166/300\n",
      "2/2 - 5s - loss: 0.0183 - accuracy: 0.9956 - val_loss: 1.4758e-04 - val_accuracy: 1.0000\n",
      "Epoch 167/300\n",
      "2/2 - 5s - loss: 0.0112 - accuracy: 1.0000 - val_loss: 1.2114e-04 - val_accuracy: 1.0000\n",
      "Epoch 168/300\n",
      "2/2 - 5s - loss: 0.0249 - accuracy: 0.9912 - val_loss: 8.7231e-05 - val_accuracy: 1.0000\n",
      "Epoch 169/300\n",
      "2/2 - 5s - loss: 0.0069 - accuracy: 1.0000 - val_loss: 6.8160e-05 - val_accuracy: 1.0000\n",
      "Epoch 170/300\n",
      "2/2 - 5s - loss: 0.0092 - accuracy: 1.0000 - val_loss: 5.8916e-05 - val_accuracy: 1.0000\n",
      "Epoch 171/300\n",
      "2/2 - 5s - loss: 0.0052 - accuracy: 1.0000 - val_loss: 5.3087e-05 - val_accuracy: 1.0000\n",
      "Epoch 172/300\n",
      "2/2 - 5s - loss: 0.0334 - accuracy: 0.9912 - val_loss: 6.3402e-05 - val_accuracy: 1.0000\n",
      "Epoch 173/300\n",
      "2/2 - 5s - loss: 0.0089 - accuracy: 1.0000 - val_loss: 9.5352e-05 - val_accuracy: 1.0000\n",
      "Epoch 174/300\n",
      "2/2 - 5s - loss: 0.0103 - accuracy: 1.0000 - val_loss: 1.2664e-04 - val_accuracy: 1.0000\n",
      "Epoch 175/300\n",
      "2/2 - 5s - loss: 0.0074 - accuracy: 1.0000 - val_loss: 1.6522e-04 - val_accuracy: 1.0000\n",
      "Epoch 176/300\n",
      "2/2 - 5s - loss: 0.0234 - accuracy: 0.9956 - val_loss: 1.3177e-04 - val_accuracy: 1.0000\n",
      "Epoch 177/300\n",
      "2/2 - 5s - loss: 0.0136 - accuracy: 0.9956 - val_loss: 9.2533e-05 - val_accuracy: 1.0000\n",
      "Epoch 178/300\n",
      "2/2 - 5s - loss: 0.0199 - accuracy: 0.9956 - val_loss: 8.6263e-05 - val_accuracy: 1.0000\n",
      "Epoch 179/300\n",
      "2/2 - 5s - loss: 0.0169 - accuracy: 0.9956 - val_loss: 1.1943e-04 - val_accuracy: 1.0000\n",
      "Epoch 180/300\n",
      "2/2 - 5s - loss: 0.0187 - accuracy: 0.9956 - val_loss: 1.6503e-04 - val_accuracy: 1.0000\n",
      "Epoch 181/300\n",
      "2/2 - 5s - loss: 0.0045 - accuracy: 1.0000 - val_loss: 2.4736e-04 - val_accuracy: 1.0000\n",
      "Epoch 182/300\n",
      "2/2 - 5s - loss: 0.0130 - accuracy: 0.9956 - val_loss: 3.4063e-04 - val_accuracy: 1.0000\n",
      "Epoch 183/300\n",
      "2/2 - 5s - loss: 0.0108 - accuracy: 1.0000 - val_loss: 3.8141e-04 - val_accuracy: 1.0000\n",
      "Epoch 184/300\n",
      "2/2 - 5s - loss: 0.0146 - accuracy: 0.9956 - val_loss: 3.0174e-04 - val_accuracy: 1.0000\n",
      "Epoch 185/300\n",
      "2/2 - 5s - loss: 0.0268 - accuracy: 0.9956 - val_loss: 1.5510e-04 - val_accuracy: 1.0000\n",
      "Epoch 186/300\n",
      "2/2 - 5s - loss: 0.0427 - accuracy: 0.9868 - val_loss: 1.2527e-04 - val_accuracy: 1.0000\n",
      "Epoch 187/300\n",
      "2/2 - 5s - loss: 0.0076 - accuracy: 0.9956 - val_loss: 1.1095e-04 - val_accuracy: 1.0000\n",
      "Epoch 188/300\n",
      "2/2 - 5s - loss: 0.0056 - accuracy: 1.0000 - val_loss: 9.9192e-05 - val_accuracy: 1.0000\n",
      "Epoch 189/300\n",
      "2/2 - 5s - loss: 0.0053 - accuracy: 1.0000 - val_loss: 8.9794e-05 - val_accuracy: 1.0000\n",
      "Epoch 190/300\n",
      "2/2 - 5s - loss: 0.0097 - accuracy: 1.0000 - val_loss: 9.2434e-05 - val_accuracy: 1.0000\n",
      "Epoch 191/300\n",
      "2/2 - 5s - loss: 0.0095 - accuracy: 1.0000 - val_loss: 1.0291e-04 - val_accuracy: 1.0000\n",
      "Epoch 192/300\n",
      "2/2 - 5s - loss: 0.0037 - accuracy: 1.0000 - val_loss: 1.1595e-04 - val_accuracy: 1.0000\n",
      "Epoch 193/300\n",
      "2/2 - 5s - loss: 0.0073 - accuracy: 1.0000 - val_loss: 1.2524e-04 - val_accuracy: 1.0000\n",
      "Epoch 194/300\n",
      "2/2 - 5s - loss: 0.0113 - accuracy: 0.9956 - val_loss: 1.4275e-04 - val_accuracy: 1.0000\n",
      "Epoch 195/300\n",
      "2/2 - 5s - loss: 0.0100 - accuracy: 1.0000 - val_loss: 1.3464e-04 - val_accuracy: 1.0000\n",
      "Epoch 196/300\n",
      "2/2 - 5s - loss: 0.0104 - accuracy: 0.9956 - val_loss: 9.4322e-05 - val_accuracy: 1.0000\n",
      "Epoch 197/300\n",
      "2/2 - 5s - loss: 0.0062 - accuracy: 1.0000 - val_loss: 7.4310e-05 - val_accuracy: 1.0000\n",
      "Epoch 198/300\n",
      "2/2 - 5s - loss: 0.0110 - accuracy: 0.9956 - val_loss: 6.7529e-05 - val_accuracy: 1.0000\n",
      "Epoch 199/300\n",
      "2/2 - 5s - loss: 0.0065 - accuracy: 1.0000 - val_loss: 7.1896e-05 - val_accuracy: 1.0000\n",
      "Epoch 200/300\n",
      "2/2 - 5s - loss: 0.0071 - accuracy: 1.0000 - val_loss: 7.7116e-05 - val_accuracy: 1.0000\n",
      "Epoch 201/300\n",
      "2/2 - 5s - loss: 0.0074 - accuracy: 1.0000 - val_loss: 8.1950e-05 - val_accuracy: 1.0000\n",
      "Epoch 202/300\n",
      "2/2 - 5s - loss: 0.0040 - accuracy: 1.0000 - val_loss: 8.4917e-05 - val_accuracy: 1.0000\n",
      "Epoch 203/300\n",
      "2/2 - 5s - loss: 0.0065 - accuracy: 1.0000 - val_loss: 8.5433e-05 - val_accuracy: 1.0000\n",
      "Epoch 204/300\n",
      "2/2 - 5s - loss: 0.0085 - accuracy: 1.0000 - val_loss: 9.2271e-05 - val_accuracy: 1.0000\n",
      "Epoch 205/300\n",
      "2/2 - 5s - loss: 0.0080 - accuracy: 1.0000 - val_loss: 1.0379e-04 - val_accuracy: 1.0000\n",
      "Epoch 206/300\n",
      "2/2 - 5s - loss: 0.0034 - accuracy: 1.0000 - val_loss: 1.2125e-04 - val_accuracy: 1.0000\n",
      "Epoch 207/300\n",
      "2/2 - 5s - loss: 0.0023 - accuracy: 1.0000 - val_loss: 1.3240e-04 - val_accuracy: 1.0000\n",
      "Epoch 208/300\n",
      "2/2 - 5s - loss: 0.0064 - accuracy: 1.0000 - val_loss: 1.0042e-04 - val_accuracy: 1.0000\n",
      "Epoch 209/300\n",
      "2/2 - 5s - loss: 0.0035 - accuracy: 1.0000 - val_loss: 7.6272e-05 - val_accuracy: 1.0000\n",
      "Epoch 210/300\n",
      "2/2 - 5s - loss: 0.0125 - accuracy: 0.9956 - val_loss: 6.1700e-05 - val_accuracy: 1.0000\n",
      "Epoch 211/300\n",
      "2/2 - 5s - loss: 0.0129 - accuracy: 0.9956 - val_loss: 6.1461e-05 - val_accuracy: 1.0000\n",
      "Epoch 212/300\n",
      "2/2 - 5s - loss: 0.0076 - accuracy: 1.0000 - val_loss: 8.4896e-05 - val_accuracy: 1.0000\n",
      "Epoch 213/300\n",
      "2/2 - 5s - loss: 0.0066 - accuracy: 1.0000 - val_loss: 1.3263e-04 - val_accuracy: 1.0000\n",
      "Epoch 214/300\n",
      "2/2 - 5s - loss: 0.0041 - accuracy: 1.0000 - val_loss: 1.7019e-04 - val_accuracy: 1.0000\n",
      "Epoch 215/300\n",
      "2/2 - 5s - loss: 0.0102 - accuracy: 0.9956 - val_loss: 2.3185e-04 - val_accuracy: 1.0000\n",
      "Epoch 216/300\n",
      "2/2 - 5s - loss: 0.0214 - accuracy: 0.9956 - val_loss: 1.3893e-04 - val_accuracy: 1.0000\n",
      "Epoch 217/300\n",
      "2/2 - 5s - loss: 0.0025 - accuracy: 1.0000 - val_loss: 1.0034e-04 - val_accuracy: 1.0000\n",
      "Epoch 218/300\n",
      "2/2 - 5s - loss: 0.0048 - accuracy: 1.0000 - val_loss: 1.0561e-04 - val_accuracy: 1.0000\n",
      "Epoch 219/300\n",
      "2/2 - 5s - loss: 0.0156 - accuracy: 0.9956 - val_loss: 9.7614e-05 - val_accuracy: 1.0000\n",
      "Epoch 220/300\n",
      "2/2 - 5s - loss: 0.0162 - accuracy: 0.9912 - val_loss: 6.7170e-05 - val_accuracy: 1.0000\n",
      "Epoch 221/300\n",
      "2/2 - 5s - loss: 0.0078 - accuracy: 1.0000 - val_loss: 8.1423e-05 - val_accuracy: 1.0000\n",
      "Epoch 222/300\n",
      "2/2 - 5s - loss: 0.0051 - accuracy: 1.0000 - val_loss: 1.1970e-04 - val_accuracy: 1.0000\n",
      "Epoch 223/300\n",
      "2/2 - 5s - loss: 0.0038 - accuracy: 1.0000 - val_loss: 1.6176e-04 - val_accuracy: 1.0000\n",
      "Epoch 224/300\n",
      "2/2 - 5s - loss: 0.0155 - accuracy: 0.9956 - val_loss: 1.3107e-04 - val_accuracy: 1.0000\n",
      "Epoch 225/300\n",
      "2/2 - 5s - loss: 0.0081 - accuracy: 0.9956 - val_loss: 9.1149e-05 - val_accuracy: 1.0000\n",
      "Epoch 226/300\n",
      "2/2 - 5s - loss: 0.0061 - accuracy: 1.0000 - val_loss: 6.6370e-05 - val_accuracy: 1.0000\n",
      "Epoch 227/300\n",
      "2/2 - 5s - loss: 0.0082 - accuracy: 1.0000 - val_loss: 3.9789e-05 - val_accuracy: 1.0000\n",
      "Epoch 228/300\n",
      "2/2 - 5s - loss: 0.0268 - accuracy: 0.9956 - val_loss: 5.1922e-05 - val_accuracy: 1.0000\n",
      "Epoch 229/300\n",
      "2/2 - 5s - loss: 0.0056 - accuracy: 1.0000 - val_loss: 9.3564e-05 - val_accuracy: 1.0000\n",
      "Epoch 230/300\n",
      "2/2 - 5s - loss: 0.0108 - accuracy: 0.9912 - val_loss: 1.3789e-04 - val_accuracy: 1.0000\n",
      "Epoch 231/300\n",
      "2/2 - 5s - loss: 0.0058 - accuracy: 1.0000 - val_loss: 1.7756e-04 - val_accuracy: 1.0000\n",
      "Epoch 232/300\n",
      "2/2 - 5s - loss: 0.0040 - accuracy: 1.0000 - val_loss: 2.0210e-04 - val_accuracy: 1.0000\n",
      "Epoch 233/300\n",
      "2/2 - 5s - loss: 0.0162 - accuracy: 0.9956 - val_loss: 2.2027e-04 - val_accuracy: 1.0000\n",
      "Epoch 234/300\n",
      "2/2 - 5s - loss: 0.0152 - accuracy: 0.9956 - val_loss: 2.7329e-04 - val_accuracy: 1.0000\n",
      "Epoch 235/300\n",
      "2/2 - 5s - loss: 0.0059 - accuracy: 1.0000 - val_loss: 2.7932e-04 - val_accuracy: 1.0000\n",
      "Epoch 236/300\n",
      "2/2 - 5s - loss: 0.0030 - accuracy: 1.0000 - val_loss: 2.6451e-04 - val_accuracy: 1.0000\n",
      "Epoch 237/300\n",
      "2/2 - 5s - loss: 0.0237 - accuracy: 0.9912 - val_loss: 9.7202e-05 - val_accuracy: 1.0000\n",
      "Epoch 238/300\n",
      "2/2 - 5s - loss: 0.0030 - accuracy: 1.0000 - val_loss: 3.0969e-05 - val_accuracy: 1.0000\n",
      "Epoch 239/300\n",
      "2/2 - 5s - loss: 0.0068 - accuracy: 1.0000 - val_loss: 1.9171e-05 - val_accuracy: 1.0000\n",
      "Epoch 240/300\n",
      "2/2 - 5s - loss: 0.0051 - accuracy: 1.0000 - val_loss: 1.4701e-05 - val_accuracy: 1.0000\n",
      "Epoch 241/300\n",
      "2/2 - 5s - loss: 0.0081 - accuracy: 1.0000 - val_loss: 1.2943e-05 - val_accuracy: 1.0000\n",
      "Epoch 242/300\n",
      "2/2 - 5s - loss: 0.0072 - accuracy: 1.0000 - val_loss: 1.1851e-05 - val_accuracy: 1.0000\n",
      "Epoch 243/300\n",
      "2/2 - 5s - loss: 0.0198 - accuracy: 0.9956 - val_loss: 1.3758e-05 - val_accuracy: 1.0000\n",
      "Epoch 244/300\n",
      "2/2 - 5s - loss: 0.0023 - accuracy: 1.0000 - val_loss: 2.2985e-05 - val_accuracy: 1.0000\n",
      "Epoch 245/300\n",
      "2/2 - 5s - loss: 0.0040 - accuracy: 1.0000 - val_loss: 4.1933e-05 - val_accuracy: 1.0000\n"
     ]
    },
    {
     "name": "stdout",
     "output_type": "stream",
     "text": [
      "Epoch 246/300\n",
      "2/2 - 5s - loss: 0.0080 - accuracy: 0.9956 - val_loss: 5.4365e-05 - val_accuracy: 1.0000\n",
      "Epoch 247/300\n",
      "2/2 - 5s - loss: 0.0045 - accuracy: 1.0000 - val_loss: 4.5439e-05 - val_accuracy: 1.0000\n",
      "Epoch 248/300\n",
      "2/2 - 5s - loss: 0.0234 - accuracy: 0.9868 - val_loss: 3.2797e-05 - val_accuracy: 1.0000\n",
      "Epoch 249/300\n",
      "2/2 - 5s - loss: 0.0108 - accuracy: 0.9956 - val_loss: 2.5557e-05 - val_accuracy: 1.0000\n",
      "Epoch 250/300\n",
      "2/2 - 5s - loss: 0.0036 - accuracy: 1.0000 - val_loss: 2.5676e-05 - val_accuracy: 1.0000\n",
      "Epoch 251/300\n",
      "2/2 - 5s - loss: 0.0088 - accuracy: 0.9956 - val_loss: 3.5538e-05 - val_accuracy: 1.0000\n",
      "Epoch 252/300\n",
      "2/2 - 5s - loss: 0.0045 - accuracy: 1.0000 - val_loss: 5.3102e-05 - val_accuracy: 1.0000\n",
      "Epoch 253/300\n",
      "2/2 - 5s - loss: 0.0044 - accuracy: 1.0000 - val_loss: 7.8991e-05 - val_accuracy: 1.0000\n",
      "Epoch 254/300\n",
      "2/2 - 5s - loss: 0.0043 - accuracy: 1.0000 - val_loss: 1.2126e-04 - val_accuracy: 1.0000\n",
      "Epoch 255/300\n",
      "2/2 - 5s - loss: 0.0059 - accuracy: 1.0000 - val_loss: 1.6211e-04 - val_accuracy: 1.0000\n",
      "Epoch 256/300\n",
      "2/2 - 5s - loss: 0.0057 - accuracy: 1.0000 - val_loss: 2.1072e-04 - val_accuracy: 1.0000\n",
      "Epoch 257/300\n",
      "2/2 - 5s - loss: 0.0037 - accuracy: 1.0000 - val_loss: 2.9938e-04 - val_accuracy: 1.0000\n",
      "Epoch 258/300\n",
      "2/2 - 5s - loss: 0.0032 - accuracy: 1.0000 - val_loss: 3.4097e-04 - val_accuracy: 1.0000\n",
      "Epoch 259/300\n",
      "2/2 - 5s - loss: 0.0032 - accuracy: 1.0000 - val_loss: 2.8707e-04 - val_accuracy: 1.0000\n",
      "Epoch 260/300\n",
      "2/2 - 5s - loss: 0.0071 - accuracy: 1.0000 - val_loss: 1.2176e-04 - val_accuracy: 1.0000\n",
      "Epoch 261/300\n",
      "2/2 - 5s - loss: 0.0045 - accuracy: 1.0000 - val_loss: 4.8127e-05 - val_accuracy: 1.0000\n",
      "Epoch 262/300\n",
      "2/2 - 5s - loss: 0.0024 - accuracy: 1.0000 - val_loss: 2.4186e-05 - val_accuracy: 1.0000\n",
      "Epoch 263/300\n",
      "2/2 - 5s - loss: 0.0027 - accuracy: 1.0000 - val_loss: 1.4940e-05 - val_accuracy: 1.0000\n",
      "Epoch 264/300\n",
      "2/2 - 5s - loss: 0.0057 - accuracy: 1.0000 - val_loss: 1.1642e-05 - val_accuracy: 1.0000\n",
      "Epoch 265/300\n",
      "2/2 - 5s - loss: 0.0059 - accuracy: 1.0000 - val_loss: 1.3797e-05 - val_accuracy: 1.0000\n",
      "Epoch 266/300\n",
      "2/2 - 5s - loss: 0.0058 - accuracy: 0.9956 - val_loss: 1.7830e-05 - val_accuracy: 1.0000\n",
      "Epoch 267/300\n",
      "2/2 - 5s - loss: 0.0173 - accuracy: 0.9956 - val_loss: 4.4563e-05 - val_accuracy: 1.0000\n",
      "Epoch 268/300\n",
      "2/2 - 5s - loss: 0.0073 - accuracy: 1.0000 - val_loss: 8.5381e-05 - val_accuracy: 1.0000\n",
      "Epoch 269/300\n",
      "2/2 - 5s - loss: 0.0047 - accuracy: 0.9956 - val_loss: 1.1688e-04 - val_accuracy: 1.0000\n",
      "Epoch 270/300\n",
      "2/2 - 5s - loss: 0.0056 - accuracy: 1.0000 - val_loss: 1.3632e-04 - val_accuracy: 1.0000\n",
      "Epoch 271/300\n",
      "2/2 - 5s - loss: 0.0054 - accuracy: 1.0000 - val_loss: 1.3615e-04 - val_accuracy: 1.0000\n",
      "Epoch 272/300\n",
      "2/2 - 5s - loss: 0.0058 - accuracy: 1.0000 - val_loss: 1.4979e-04 - val_accuracy: 1.0000\n",
      "Epoch 273/300\n",
      "2/2 - 5s - loss: 0.0064 - accuracy: 0.9956 - val_loss: 1.4150e-04 - val_accuracy: 1.0000\n",
      "Epoch 274/300\n",
      "2/2 - 5s - loss: 0.0036 - accuracy: 1.0000 - val_loss: 1.3292e-04 - val_accuracy: 1.0000\n",
      "Epoch 275/300\n",
      "2/2 - 5s - loss: 0.0044 - accuracy: 1.0000 - val_loss: 1.1050e-04 - val_accuracy: 1.0000\n",
      "Epoch 276/300\n",
      "2/2 - 5s - loss: 0.0102 - accuracy: 0.9956 - val_loss: 4.1981e-05 - val_accuracy: 1.0000\n",
      "Epoch 277/300\n",
      "2/2 - 5s - loss: 0.0045 - accuracy: 1.0000 - val_loss: 1.5893e-05 - val_accuracy: 1.0000\n",
      "Epoch 278/300\n",
      "2/2 - 5s - loss: 0.0076 - accuracy: 1.0000 - val_loss: 1.0579e-05 - val_accuracy: 1.0000\n",
      "Epoch 279/300\n",
      "2/2 - 5s - loss: 0.0066 - accuracy: 1.0000 - val_loss: 8.3444e-06 - val_accuracy: 1.0000\n",
      "Epoch 280/300\n",
      "2/2 - 5s - loss: 0.0060 - accuracy: 1.0000 - val_loss: 7.0232e-06 - val_accuracy: 1.0000\n",
      "Epoch 281/300\n",
      "2/2 - 5s - loss: 0.0163 - accuracy: 0.9912 - val_loss: 6.8345e-06 - val_accuracy: 1.0000\n",
      "Epoch 282/300\n",
      "2/2 - 5s - loss: 0.0059 - accuracy: 0.9956 - val_loss: 1.3221e-05 - val_accuracy: 1.0000\n",
      "Epoch 283/300\n",
      "2/2 - 5s - loss: 0.0047 - accuracy: 0.9956 - val_loss: 3.2449e-05 - val_accuracy: 1.0000\n",
      "Epoch 284/300\n",
      "2/2 - 5s - loss: 0.0029 - accuracy: 1.0000 - val_loss: 8.5362e-05 - val_accuracy: 1.0000\n",
      "Epoch 285/300\n",
      "2/2 - 5s - loss: 0.0044 - accuracy: 1.0000 - val_loss: 1.8884e-04 - val_accuracy: 1.0000\n",
      "Epoch 286/300\n",
      "2/2 - 5s - loss: 0.0038 - accuracy: 1.0000 - val_loss: 3.2885e-04 - val_accuracy: 1.0000\n",
      "Epoch 287/300\n",
      "2/2 - 5s - loss: 0.0035 - accuracy: 1.0000 - val_loss: 2.9562e-04 - val_accuracy: 1.0000\n",
      "Epoch 288/300\n",
      "2/2 - 5s - loss: 0.0059 - accuracy: 1.0000 - val_loss: 2.0849e-04 - val_accuracy: 1.0000\n",
      "Epoch 289/300\n",
      "2/2 - 5s - loss: 0.0078 - accuracy: 0.9956 - val_loss: 1.3607e-04 - val_accuracy: 1.0000\n",
      "Epoch 290/300\n",
      "2/2 - 5s - loss: 0.0057 - accuracy: 1.0000 - val_loss: 1.1677e-04 - val_accuracy: 1.0000\n",
      "Epoch 291/300\n",
      "2/2 - 5s - loss: 0.0050 - accuracy: 1.0000 - val_loss: 8.8875e-05 - val_accuracy: 1.0000\n",
      "Epoch 292/300\n",
      "2/2 - 5s - loss: 0.0050 - accuracy: 1.0000 - val_loss: 8.4855e-05 - val_accuracy: 1.0000\n",
      "Epoch 293/300\n",
      "2/2 - 5s - loss: 0.0072 - accuracy: 0.9956 - val_loss: 8.8398e-05 - val_accuracy: 1.0000\n",
      "Epoch 294/300\n",
      "2/2 - 5s - loss: 0.0019 - accuracy: 1.0000 - val_loss: 8.9063e-05 - val_accuracy: 1.0000\n",
      "Epoch 295/300\n",
      "2/2 - 5s - loss: 0.0065 - accuracy: 1.0000 - val_loss: 8.4120e-05 - val_accuracy: 1.0000\n",
      "Epoch 296/300\n",
      "2/2 - 5s - loss: 0.0025 - accuracy: 1.0000 - val_loss: 8.5490e-05 - val_accuracy: 1.0000\n",
      "Epoch 297/300\n",
      "2/2 - 5s - loss: 0.0010 - accuracy: 1.0000 - val_loss: 8.4954e-05 - val_accuracy: 1.0000\n",
      "Epoch 298/300\n",
      "2/2 - 5s - loss: 0.0041 - accuracy: 1.0000 - val_loss: 6.7565e-05 - val_accuracy: 1.0000\n",
      "Epoch 299/300\n",
      "2/2 - 5s - loss: 0.0034 - accuracy: 1.0000 - val_loss: 5.5821e-05 - val_accuracy: 1.0000\n",
      "Epoch 300/300\n",
      "2/2 - 5s - loss: 0.0140 - accuracy: 0.9956 - val_loss: 5.5136e-05 - val_accuracy: 1.0000\n",
      "Traing Start Time : 2021-05-25 19:51:13.645973\n",
      "Traing End Time   : 2021-05-25 20:18:28.464696\n",
      "Total time taken for Training the model(mins): 27\n"
     ]
    }
   ],
   "source": [
    "print(\" Model training Has Started- Please wait.\\n\")\n",
    "Training_Start_time = datetime.datetime.now()\n",
    "\n",
    "Model_Training_history = CNN_Model.fit( np.array(x_train), \n",
    "                         np.array(y_train), \n",
    "                         batch_size = 128, #256, #512 \n",
    "                         epochs = 300, \n",
    "                         verbose = 2,\n",
    "                         validation_data = (np.array(x_valid), \n",
    "                                            np.array(y_valid))     )\n",
    "\n",
    "\n",
    "Training_End_time = datetime.datetime.now()  \n",
    "time_delta = (Training_End_time - Training_Start_time )\n",
    "total_seconds = time_delta.total_seconds()\n",
    "minutes = total_seconds/60\n",
    "\n",
    "print(\"Traing Start Time :\",   Training_Start_time )\n",
    "print(\"Traing End Time   :\",   Training_End_time )\n",
    "print(\"Total time taken for Training the model(mins):\", int(minutes) )\n",
    "\n"
   ]
  },
  {
   "cell_type": "markdown",
   "metadata": {},
   "source": [
    "##  (7.2)  Model Evaluationn "
   ]
  },
  {
   "cell_type": "code",
   "execution_count": 21,
   "metadata": {},
   "outputs": [
    {
     "name": "stdout",
     "output_type": "stream",
     "text": [
      "< Model Evalaution Results  >\n",
      "   Test Loss     :   42.74 %\n",
      "   Test accuracy :   95.00 %\n"
     ]
    }
   ],
   "source": [
    "Score = CNN_Model.evaluate( np.array(x_test),  \n",
    "                            np.array(y_test), \n",
    "                            verbose=0\n",
    "                          )\n",
    "\n",
    "Loss      =  Score[0] * 100\n",
    "Accuracy  =  Score[1] * 100\n",
    "\n",
    "\n",
    "print(\"< Model Evalaution Results  >\")\n",
    "print('   Test Loss     :   {:.2f} %'.format(Loss))\n",
    "print('   Test accuracy :   {:.2f} %'.format(Accuracy))"
   ]
  },
  {
   "cell_type": "code",
   "execution_count": null,
   "metadata": {},
   "outputs": [],
   "source": [
    "\n"
   ]
  },
  {
   "cell_type": "markdown",
   "metadata": {},
   "source": [
    "# Task.8 -  Plot:  Result"
   ]
  },
  {
   "cell_type": "markdown",
   "metadata": {},
   "source": [
    "##  (8.1)  View History Dictionary Keys "
   ]
  },
  {
   "cell_type": "code",
   "execution_count": 22,
   "metadata": {},
   "outputs": [
    {
     "name": "stdout",
     "output_type": "stream",
     "text": [
      "dict_keys(['loss', 'accuracy', 'val_loss', 'val_accuracy'])\n"
     ]
    }
   ],
   "source": [
    "print(Model_Training_history.history.keys())"
   ]
  },
  {
   "cell_type": "markdown",
   "metadata": {},
   "source": [
    "##  (8.2)  Data  Required for Plotting Result "
   ]
  },
  {
   "cell_type": "code",
   "execution_count": 23,
   "metadata": {},
   "outputs": [],
   "source": [
    "\n",
    "accuracy     =  Model_Training_history.history['accuracy']\n",
    "val_accuracy =  Model_Training_history.history['val_accuracy']\n",
    "\n",
    "loss         =  Model_Training_history.history['loss']\n",
    "val_loss     =  Model_Training_history.history['val_loss']"
   ]
  },
  {
   "cell_type": "markdown",
   "metadata": {},
   "source": [
    "##  (8.3)  Plot  Model Accuracy   and  Model  Loss"
   ]
  },
  {
   "cell_type": "code",
   "execution_count": 24,
   "metadata": {},
   "outputs": [
    {
     "data": {
      "image/png": "[encoded data removed]",
      "text/plain": [
       "<Figure size 1080x432 with 1 Axes>"
      ]
     },
     "metadata": {
      "needs_background": "light"
     },
     "output_type": "display_data"
    },
    {
     "name": "stdout",
     "output_type": "stream",
     "text": [
      "\n"
     ]
    },
    {
     "data": {
      "image/png": "[encoded data removed]",
      "text/plain": [
       "<Figure size 1080x432 with 1 Axes>"
      ]
     },
     "metadata": {
      "needs_background": "light"
     },
     "output_type": "display_data"
    }
   ],
   "source": [
    "# PLOT  MODEL  ACCURACY\n",
    "plt.figure(figsize=(15,6))\n",
    "plt.plot(accuracy)\n",
    "plt.plot(val_accuracy )\n",
    "plt.title('Model Accuracy')\n",
    "plt.ylabel('Accuracy')\n",
    "plt.xlabel('epoch')\n",
    "plt.legend(['train', 'test'], loc='upper left')\n",
    "plt.savefig('Model Accuracy.png', dpi=300, bbox_inches='tight')\n",
    "plt.show()\n",
    "print()\n",
    "\n",
    "\n",
    "# PLOT  MODEL  LOSS\n",
    "plt.figure(figsize=(15,6))\n",
    "plt.plot(loss)\n",
    "plt.plot(val_loss)\n",
    "plt.title('Model Loss')\n",
    "plt.ylabel('loss')\n",
    "plt.xlabel('epoch')\n",
    "plt.legend(['train', 'test'], loc='upper left')\n",
    "plt.savefig('Model Loss.png', dpi=300, bbox_inches='tight')\n",
    "plt.show()"
   ]
  },
  {
   "cell_type": "markdown",
   "metadata": {},
   "source": [
    "## (8.4)  Model Accuracy"
   ]
  },
  {
   "cell_type": "code",
   "execution_count": 25,
   "metadata": {},
   "outputs": [
    {
     "name": "stderr",
     "output_type": "stream",
     "text": [
      "C:\\Users\\USER\\anaconda3\\lib\\site-packages\\tensorflow\\python\\keras\\engine\\sequential.py:450: UserWarning: `model.predict_classes()` is deprecated and will be removed after 2021-01-01. Please use instead:* `np.argmax(model.predict(x), axis=-1)`,   if your model does multi-class classification   (e.g. if it uses a `softmax` last-layer activation).* `(model.predict(x) > 0.5).astype(\"int32\")`,   if your model does binary classification   (e.g. if it uses a `sigmoid` last-layer activation).\n",
      "  warnings.warn('`model.predict_classes()` is deprecated and '\n"
     ]
    },
    {
     "name": "stdout",
     "output_type": "stream",
     "text": [
      " Model accuracy: 95.0 %\n"
     ]
    }
   ],
   "source": [
    "y_predicted = CNN_Model.predict_classes(x_test)\n",
    "# print(\"y_predicted :\", y_predicted )\n",
    "Accuracy = accuracy_score(y_test, y_predicted)\n",
    "print(\" Model accuracy: %.1f %%\" % (Accuracy*100))\n"
   ]
  },
  {
   "cell_type": "markdown",
   "metadata": {},
   "source": [
    "## (8.5)  Plot : Confusion Matrix"
   ]
  },
  {
   "cell_type": "markdown",
   "metadata": {},
   "source": [
    "###  (8.5.1)    Obtain Confusion Matrix "
   ]
  },
  {
   "cell_type": "code",
   "execution_count": 26,
   "metadata": {},
   "outputs": [
    {
     "name": "stdout",
     "output_type": "stream",
     "text": [
      "< Confusion matrix  >\n",
      "[[8 0 0 0 0 0 0 0 0 0 0 0 0 0 0 0 0 0 0 0]\n",
      " [0 8 0 0 0 0 0 0 0 0 0 0 0 0 0 0 0 0 0 0]\n",
      " [0 0 8 0 0 0 0 0 0 0 0 0 0 0 0 0 0 0 0 0]\n",
      " [0 0 0 8 0 0 0 0 0 0 0 0 0 0 0 0 0 0 0 0]\n",
      " [0 0 0 0 6 0 0 0 0 0 0 0 0 0 0 0 0 2 0 0]\n",
      " [0 0 0 0 0 8 0 0 0 0 0 0 0 0 0 0 0 0 0 0]\n",
      " [0 0 0 0 0 0 8 0 0 0 0 0 0 0 0 0 0 0 0 0]\n",
      " [0 0 0 0 0 0 0 8 0 0 0 0 0 0 0 0 0 0 0 0]\n",
      " [0 0 0 0 0 0 0 0 8 0 0 0 0 0 0 0 0 0 0 0]\n",
      " [0 0 0 0 0 0 0 2 0 6 0 0 0 0 0 0 0 0 0 0]\n",
      " [0 0 0 0 0 0 0 0 0 0 8 0 0 0 0 0 0 0 0 0]\n",
      " [0 0 0 0 0 0 0 0 0 0 0 8 0 0 0 0 0 0 0 0]\n",
      " [0 0 0 0 0 0 0 0 0 0 0 0 8 0 0 0 0 0 0 0]\n",
      " [0 0 0 0 0 0 0 0 0 0 0 0 0 8 0 0 0 0 0 0]\n",
      " [0 0 0 0 0 0 0 0 0 0 0 0 0 0 8 0 0 0 0 0]\n",
      " [2 0 0 0 0 0 0 0 0 0 0 0 0 0 0 6 0 0 0 0]\n",
      " [0 0 0 0 0 0 0 0 0 0 0 0 0 0 0 0 8 0 0 0]\n",
      " [0 0 0 0 0 0 0 0 0 0 0 0 0 0 0 0 0 8 0 0]\n",
      " [0 0 0 0 0 0 0 2 0 0 0 0 0 0 0 0 0 0 6 0]\n",
      " [0 0 0 0 0 0 0 0 0 0 0 0 0 0 0 0 0 0 0 8]]\n"
     ]
    }
   ],
   "source": [
    "print(\"< Confusion matrix  >\\n%s\" % confusion_matrix(np.array(y_test), y_predicted))"
   ]
  },
  {
   "cell_type": "markdown",
   "metadata": {},
   "source": [
    "###  (8.5.2)   View Confusion Matrix summary in a Cross table"
   ]
  },
  {
   "cell_type": "code",
   "execution_count": 27,
   "metadata": {},
   "outputs": [
    {
     "data": {
      "text/html": [
       "<div>\n",
       "<style scoped>\n",
       "    .dataframe tbody tr th:only-of-type {\n",
       "        vertical-align: middle;\n",
       "    }\n",
       "\n",
       "    .dataframe tbody tr th {\n",
       "        vertical-align: top;\n",
       "    }\n",
       "\n",
       "    .dataframe thead th {\n",
       "        text-align: right;\n",
       "    }\n",
       "</style>\n",
       "<table border=\"1\" class=\"dataframe\">\n",
       "  <thead>\n",
       "    <tr style=\"text-align: right;\">\n",
       "      <th>Predicted</th>\n",
       "      <th>0</th>\n",
       "      <th>1</th>\n",
       "      <th>2</th>\n",
       "      <th>3</th>\n",
       "      <th>4</th>\n",
       "      <th>5</th>\n",
       "      <th>6</th>\n",
       "      <th>7</th>\n",
       "      <th>8</th>\n",
       "      <th>9</th>\n",
       "      <th>...</th>\n",
       "      <th>11</th>\n",
       "      <th>12</th>\n",
       "      <th>13</th>\n",
       "      <th>14</th>\n",
       "      <th>15</th>\n",
       "      <th>16</th>\n",
       "      <th>17</th>\n",
       "      <th>18</th>\n",
       "      <th>19</th>\n",
       "      <th>All</th>\n",
       "    </tr>\n",
       "    <tr>\n",
       "      <th>Actual</th>\n",
       "      <th></th>\n",
       "      <th></th>\n",
       "      <th></th>\n",
       "      <th></th>\n",
       "      <th></th>\n",
       "      <th></th>\n",
       "      <th></th>\n",
       "      <th></th>\n",
       "      <th></th>\n",
       "      <th></th>\n",
       "      <th></th>\n",
       "      <th></th>\n",
       "      <th></th>\n",
       "      <th></th>\n",
       "      <th></th>\n",
       "      <th></th>\n",
       "      <th></th>\n",
       "      <th></th>\n",
       "      <th></th>\n",
       "      <th></th>\n",
       "      <th></th>\n",
       "    </tr>\n",
       "  </thead>\n",
       "  <tbody>\n",
       "    <tr>\n",
       "      <th>0</th>\n",
       "      <td>8</td>\n",
       "      <td>0</td>\n",
       "      <td>0</td>\n",
       "      <td>0</td>\n",
       "      <td>0</td>\n",
       "      <td>0</td>\n",
       "      <td>0</td>\n",
       "      <td>0</td>\n",
       "      <td>0</td>\n",
       "      <td>0</td>\n",
       "      <td>...</td>\n",
       "      <td>0</td>\n",
       "      <td>0</td>\n",
       "      <td>0</td>\n",
       "      <td>0</td>\n",
       "      <td>0</td>\n",
       "      <td>0</td>\n",
       "      <td>0</td>\n",
       "      <td>0</td>\n",
       "      <td>0</td>\n",
       "      <td>8</td>\n",
       "    </tr>\n",
       "    <tr>\n",
       "      <th>1</th>\n",
       "      <td>0</td>\n",
       "      <td>8</td>\n",
       "      <td>0</td>\n",
       "      <td>0</td>\n",
       "      <td>0</td>\n",
       "      <td>0</td>\n",
       "      <td>0</td>\n",
       "      <td>0</td>\n",
       "      <td>0</td>\n",
       "      <td>0</td>\n",
       "      <td>...</td>\n",
       "      <td>0</td>\n",
       "      <td>0</td>\n",
       "      <td>0</td>\n",
       "      <td>0</td>\n",
       "      <td>0</td>\n",
       "      <td>0</td>\n",
       "      <td>0</td>\n",
       "      <td>0</td>\n",
       "      <td>0</td>\n",
       "      <td>8</td>\n",
       "    </tr>\n",
       "    <tr>\n",
       "      <th>2</th>\n",
       "      <td>0</td>\n",
       "      <td>0</td>\n",
       "      <td>8</td>\n",
       "      <td>0</td>\n",
       "      <td>0</td>\n",
       "      <td>0</td>\n",
       "      <td>0</td>\n",
       "      <td>0</td>\n",
       "      <td>0</td>\n",
       "      <td>0</td>\n",
       "      <td>...</td>\n",
       "      <td>0</td>\n",
       "      <td>0</td>\n",
       "      <td>0</td>\n",
       "      <td>0</td>\n",
       "      <td>0</td>\n",
       "      <td>0</td>\n",
       "      <td>0</td>\n",
       "      <td>0</td>\n",
       "      <td>0</td>\n",
       "      <td>8</td>\n",
       "    </tr>\n",
       "    <tr>\n",
       "      <th>3</th>\n",
       "      <td>0</td>\n",
       "      <td>0</td>\n",
       "      <td>0</td>\n",
       "      <td>8</td>\n",
       "      <td>0</td>\n",
       "      <td>0</td>\n",
       "      <td>0</td>\n",
       "      <td>0</td>\n",
       "      <td>0</td>\n",
       "      <td>0</td>\n",
       "      <td>...</td>\n",
       "      <td>0</td>\n",
       "      <td>0</td>\n",
       "      <td>0</td>\n",
       "      <td>0</td>\n",
       "      <td>0</td>\n",
       "      <td>0</td>\n",
       "      <td>0</td>\n",
       "      <td>0</td>\n",
       "      <td>0</td>\n",
       "      <td>8</td>\n",
       "    </tr>\n",
       "    <tr>\n",
       "      <th>4</th>\n",
       "      <td>0</td>\n",
       "      <td>0</td>\n",
       "      <td>0</td>\n",
       "      <td>0</td>\n",
       "      <td>6</td>\n",
       "      <td>0</td>\n",
       "      <td>0</td>\n",
       "      <td>0</td>\n",
       "      <td>0</td>\n",
       "      <td>0</td>\n",
       "      <td>...</td>\n",
       "      <td>0</td>\n",
       "      <td>0</td>\n",
       "      <td>0</td>\n",
       "      <td>0</td>\n",
       "      <td>0</td>\n",
       "      <td>0</td>\n",
       "      <td>2</td>\n",
       "      <td>0</td>\n",
       "      <td>0</td>\n",
       "      <td>8</td>\n",
       "    </tr>\n",
       "    <tr>\n",
       "      <th>5</th>\n",
       "      <td>0</td>\n",
       "      <td>0</td>\n",
       "      <td>0</td>\n",
       "      <td>0</td>\n",
       "      <td>0</td>\n",
       "      <td>8</td>\n",
       "      <td>0</td>\n",
       "      <td>0</td>\n",
       "      <td>0</td>\n",
       "      <td>0</td>\n",
       "      <td>...</td>\n",
       "      <td>0</td>\n",
       "      <td>0</td>\n",
       "      <td>0</td>\n",
       "      <td>0</td>\n",
       "      <td>0</td>\n",
       "      <td>0</td>\n",
       "      <td>0</td>\n",
       "      <td>0</td>\n",
       "      <td>0</td>\n",
       "      <td>8</td>\n",
       "    </tr>\n",
       "    <tr>\n",
       "      <th>6</th>\n",
       "      <td>0</td>\n",
       "      <td>0</td>\n",
       "      <td>0</td>\n",
       "      <td>0</td>\n",
       "      <td>0</td>\n",
       "      <td>0</td>\n",
       "      <td>8</td>\n",
       "      <td>0</td>\n",
       "      <td>0</td>\n",
       "      <td>0</td>\n",
       "      <td>...</td>\n",
       "      <td>0</td>\n",
       "      <td>0</td>\n",
       "      <td>0</td>\n",
       "      <td>0</td>\n",
       "      <td>0</td>\n",
       "      <td>0</td>\n",
       "      <td>0</td>\n",
       "      <td>0</td>\n",
       "      <td>0</td>\n",
       "      <td>8</td>\n",
       "    </tr>\n",
       "    <tr>\n",
       "      <th>7</th>\n",
       "      <td>0</td>\n",
       "      <td>0</td>\n",
       "      <td>0</td>\n",
       "      <td>0</td>\n",
       "      <td>0</td>\n",
       "      <td>0</td>\n",
       "      <td>0</td>\n",
       "      <td>8</td>\n",
       "      <td>0</td>\n",
       "      <td>0</td>\n",
       "      <td>...</td>\n",
       "      <td>0</td>\n",
       "      <td>0</td>\n",
       "      <td>0</td>\n",
       "      <td>0</td>\n",
       "      <td>0</td>\n",
       "      <td>0</td>\n",
       "      <td>0</td>\n",
       "      <td>0</td>\n",
       "      <td>0</td>\n",
       "      <td>8</td>\n",
       "    </tr>\n",
       "    <tr>\n",
       "      <th>8</th>\n",
       "      <td>0</td>\n",
       "      <td>0</td>\n",
       "      <td>0</td>\n",
       "      <td>0</td>\n",
       "      <td>0</td>\n",
       "      <td>0</td>\n",
       "      <td>0</td>\n",
       "      <td>0</td>\n",
       "      <td>8</td>\n",
       "      <td>0</td>\n",
       "      <td>...</td>\n",
       "      <td>0</td>\n",
       "      <td>0</td>\n",
       "      <td>0</td>\n",
       "      <td>0</td>\n",
       "      <td>0</td>\n",
       "      <td>0</td>\n",
       "      <td>0</td>\n",
       "      <td>0</td>\n",
       "      <td>0</td>\n",
       "      <td>8</td>\n",
       "    </tr>\n",
       "    <tr>\n",
       "      <th>9</th>\n",
       "      <td>0</td>\n",
       "      <td>0</td>\n",
       "      <td>0</td>\n",
       "      <td>0</td>\n",
       "      <td>0</td>\n",
       "      <td>0</td>\n",
       "      <td>0</td>\n",
       "      <td>2</td>\n",
       "      <td>0</td>\n",
       "      <td>6</td>\n",
       "      <td>...</td>\n",
       "      <td>0</td>\n",
       "      <td>0</td>\n",
       "      <td>0</td>\n",
       "      <td>0</td>\n",
       "      <td>0</td>\n",
       "      <td>0</td>\n",
       "      <td>0</td>\n",
       "      <td>0</td>\n",
       "      <td>0</td>\n",
       "      <td>8</td>\n",
       "    </tr>\n",
       "    <tr>\n",
       "      <th>10</th>\n",
       "      <td>0</td>\n",
       "      <td>0</td>\n",
       "      <td>0</td>\n",
       "      <td>0</td>\n",
       "      <td>0</td>\n",
       "      <td>0</td>\n",
       "      <td>0</td>\n",
       "      <td>0</td>\n",
       "      <td>0</td>\n",
       "      <td>0</td>\n",
       "      <td>...</td>\n",
       "      <td>0</td>\n",
       "      <td>0</td>\n",
       "      <td>0</td>\n",
       "      <td>0</td>\n",
       "      <td>0</td>\n",
       "      <td>0</td>\n",
       "      <td>0</td>\n",
       "      <td>0</td>\n",
       "      <td>0</td>\n",
       "      <td>8</td>\n",
       "    </tr>\n",
       "    <tr>\n",
       "      <th>11</th>\n",
       "      <td>0</td>\n",
       "      <td>0</td>\n",
       "      <td>0</td>\n",
       "      <td>0</td>\n",
       "      <td>0</td>\n",
       "      <td>0</td>\n",
       "      <td>0</td>\n",
       "      <td>0</td>\n",
       "      <td>0</td>\n",
       "      <td>0</td>\n",
       "      <td>...</td>\n",
       "      <td>8</td>\n",
       "      <td>0</td>\n",
       "      <td>0</td>\n",
       "      <td>0</td>\n",
       "      <td>0</td>\n",
       "      <td>0</td>\n",
       "      <td>0</td>\n",
       "      <td>0</td>\n",
       "      <td>0</td>\n",
       "      <td>8</td>\n",
       "    </tr>\n",
       "    <tr>\n",
       "      <th>12</th>\n",
       "      <td>0</td>\n",
       "      <td>0</td>\n",
       "      <td>0</td>\n",
       "      <td>0</td>\n",
       "      <td>0</td>\n",
       "      <td>0</td>\n",
       "      <td>0</td>\n",
       "      <td>0</td>\n",
       "      <td>0</td>\n",
       "      <td>0</td>\n",
       "      <td>...</td>\n",
       "      <td>0</td>\n",
       "      <td>8</td>\n",
       "      <td>0</td>\n",
       "      <td>0</td>\n",
       "      <td>0</td>\n",
       "      <td>0</td>\n",
       "      <td>0</td>\n",
       "      <td>0</td>\n",
       "      <td>0</td>\n",
       "      <td>8</td>\n",
       "    </tr>\n",
       "    <tr>\n",
       "      <th>13</th>\n",
       "      <td>0</td>\n",
       "      <td>0</td>\n",
       "      <td>0</td>\n",
       "      <td>0</td>\n",
       "      <td>0</td>\n",
       "      <td>0</td>\n",
       "      <td>0</td>\n",
       "      <td>0</td>\n",
       "      <td>0</td>\n",
       "      <td>0</td>\n",
       "      <td>...</td>\n",
       "      <td>0</td>\n",
       "      <td>0</td>\n",
       "      <td>8</td>\n",
       "      <td>0</td>\n",
       "      <td>0</td>\n",
       "      <td>0</td>\n",
       "      <td>0</td>\n",
       "      <td>0</td>\n",
       "      <td>0</td>\n",
       "      <td>8</td>\n",
       "    </tr>\n",
       "    <tr>\n",
       "      <th>14</th>\n",
       "      <td>0</td>\n",
       "      <td>0</td>\n",
       "      <td>0</td>\n",
       "      <td>0</td>\n",
       "      <td>0</td>\n",
       "      <td>0</td>\n",
       "      <td>0</td>\n",
       "      <td>0</td>\n",
       "      <td>0</td>\n",
       "      <td>0</td>\n",
       "      <td>...</td>\n",
       "      <td>0</td>\n",
       "      <td>0</td>\n",
       "      <td>0</td>\n",
       "      <td>8</td>\n",
       "      <td>0</td>\n",
       "      <td>0</td>\n",
       "      <td>0</td>\n",
       "      <td>0</td>\n",
       "      <td>0</td>\n",
       "      <td>8</td>\n",
       "    </tr>\n",
       "    <tr>\n",
       "      <th>15</th>\n",
       "      <td>2</td>\n",
       "      <td>0</td>\n",
       "      <td>0</td>\n",
       "      <td>0</td>\n",
       "      <td>0</td>\n",
       "      <td>0</td>\n",
       "      <td>0</td>\n",
       "      <td>0</td>\n",
       "      <td>0</td>\n",
       "      <td>0</td>\n",
       "      <td>...</td>\n",
       "      <td>0</td>\n",
       "      <td>0</td>\n",
       "      <td>0</td>\n",
       "      <td>0</td>\n",
       "      <td>6</td>\n",
       "      <td>0</td>\n",
       "      <td>0</td>\n",
       "      <td>0</td>\n",
       "      <td>0</td>\n",
       "      <td>8</td>\n",
       "    </tr>\n",
       "    <tr>\n",
       "      <th>16</th>\n",
       "      <td>0</td>\n",
       "      <td>0</td>\n",
       "      <td>0</td>\n",
       "      <td>0</td>\n",
       "      <td>0</td>\n",
       "      <td>0</td>\n",
       "      <td>0</td>\n",
       "      <td>0</td>\n",
       "      <td>0</td>\n",
       "      <td>0</td>\n",
       "      <td>...</td>\n",
       "      <td>0</td>\n",
       "      <td>0</td>\n",
       "      <td>0</td>\n",
       "      <td>0</td>\n",
       "      <td>0</td>\n",
       "      <td>8</td>\n",
       "      <td>0</td>\n",
       "      <td>0</td>\n",
       "      <td>0</td>\n",
       "      <td>8</td>\n",
       "    </tr>\n",
       "    <tr>\n",
       "      <th>17</th>\n",
       "      <td>0</td>\n",
       "      <td>0</td>\n",
       "      <td>0</td>\n",
       "      <td>0</td>\n",
       "      <td>0</td>\n",
       "      <td>0</td>\n",
       "      <td>0</td>\n",
       "      <td>0</td>\n",
       "      <td>0</td>\n",
       "      <td>0</td>\n",
       "      <td>...</td>\n",
       "      <td>0</td>\n",
       "      <td>0</td>\n",
       "      <td>0</td>\n",
       "      <td>0</td>\n",
       "      <td>0</td>\n",
       "      <td>0</td>\n",
       "      <td>8</td>\n",
       "      <td>0</td>\n",
       "      <td>0</td>\n",
       "      <td>8</td>\n",
       "    </tr>\n",
       "    <tr>\n",
       "      <th>18</th>\n",
       "      <td>0</td>\n",
       "      <td>0</td>\n",
       "      <td>0</td>\n",
       "      <td>0</td>\n",
       "      <td>0</td>\n",
       "      <td>0</td>\n",
       "      <td>0</td>\n",
       "      <td>2</td>\n",
       "      <td>0</td>\n",
       "      <td>0</td>\n",
       "      <td>...</td>\n",
       "      <td>0</td>\n",
       "      <td>0</td>\n",
       "      <td>0</td>\n",
       "      <td>0</td>\n",
       "      <td>0</td>\n",
       "      <td>0</td>\n",
       "      <td>0</td>\n",
       "      <td>6</td>\n",
       "      <td>0</td>\n",
       "      <td>8</td>\n",
       "    </tr>\n",
       "    <tr>\n",
       "      <th>19</th>\n",
       "      <td>0</td>\n",
       "      <td>0</td>\n",
       "      <td>0</td>\n",
       "      <td>0</td>\n",
       "      <td>0</td>\n",
       "      <td>0</td>\n",
       "      <td>0</td>\n",
       "      <td>0</td>\n",
       "      <td>0</td>\n",
       "      <td>0</td>\n",
       "      <td>...</td>\n",
       "      <td>0</td>\n",
       "      <td>0</td>\n",
       "      <td>0</td>\n",
       "      <td>0</td>\n",
       "      <td>0</td>\n",
       "      <td>0</td>\n",
       "      <td>0</td>\n",
       "      <td>0</td>\n",
       "      <td>8</td>\n",
       "      <td>8</td>\n",
       "    </tr>\n",
       "    <tr>\n",
       "      <th>All</th>\n",
       "      <td>10</td>\n",
       "      <td>8</td>\n",
       "      <td>8</td>\n",
       "      <td>8</td>\n",
       "      <td>6</td>\n",
       "      <td>8</td>\n",
       "      <td>8</td>\n",
       "      <td>12</td>\n",
       "      <td>8</td>\n",
       "      <td>6</td>\n",
       "      <td>...</td>\n",
       "      <td>8</td>\n",
       "      <td>8</td>\n",
       "      <td>8</td>\n",
       "      <td>8</td>\n",
       "      <td>6</td>\n",
       "      <td>8</td>\n",
       "      <td>10</td>\n",
       "      <td>6</td>\n",
       "      <td>8</td>\n",
       "      <td>160</td>\n",
       "    </tr>\n",
       "  </tbody>\n",
       "</table>\n",
       "<p>21 rows × 21 columns</p>\n",
       "</div>"
      ],
      "text/plain": [
       "Predicted   0  1  2  3  4  5  6   7  8  9  ...  11  12  13  14  15  16  17  \\\n",
       "Actual                                     ...                               \n",
       "0           8  0  0  0  0  0  0   0  0  0  ...   0   0   0   0   0   0   0   \n",
       "1           0  8  0  0  0  0  0   0  0  0  ...   0   0   0   0   0   0   0   \n",
       "2           0  0  8  0  0  0  0   0  0  0  ...   0   0   0   0   0   0   0   \n",
       "3           0  0  0  8  0  0  0   0  0  0  ...   0   0   0   0   0   0   0   \n",
       "4           0  0  0  0  6  0  0   0  0  0  ...   0   0   0   0   0   0   2   \n",
       "5           0  0  0  0  0  8  0   0  0  0  ...   0   0   0   0   0   0   0   \n",
       "6           0  0  0  0  0  0  8   0  0  0  ...   0   0   0   0   0   0   0   \n",
       "7           0  0  0  0  0  0  0   8  0  0  ...   0   0   0   0   0   0   0   \n",
       "8           0  0  0  0  0  0  0   0  8  0  ...   0   0   0   0   0   0   0   \n",
       "9           0  0  0  0  0  0  0   2  0  6  ...   0   0   0   0   0   0   0   \n",
       "10          0  0  0  0  0  0  0   0  0  0  ...   0   0   0   0   0   0   0   \n",
       "11          0  0  0  0  0  0  0   0  0  0  ...   8   0   0   0   0   0   0   \n",
       "12          0  0  0  0  0  0  0   0  0  0  ...   0   8   0   0   0   0   0   \n",
       "13          0  0  0  0  0  0  0   0  0  0  ...   0   0   8   0   0   0   0   \n",
       "14          0  0  0  0  0  0  0   0  0  0  ...   0   0   0   8   0   0   0   \n",
       "15          2  0  0  0  0  0  0   0  0  0  ...   0   0   0   0   6   0   0   \n",
       "16          0  0  0  0  0  0  0   0  0  0  ...   0   0   0   0   0   8   0   \n",
       "17          0  0  0  0  0  0  0   0  0  0  ...   0   0   0   0   0   0   8   \n",
       "18          0  0  0  0  0  0  0   2  0  0  ...   0   0   0   0   0   0   0   \n",
       "19          0  0  0  0  0  0  0   0  0  0  ...   0   0   0   0   0   0   0   \n",
       "All        10  8  8  8  6  8  8  12  8  6  ...   8   8   8   8   6   8  10   \n",
       "\n",
       "Predicted  18  19  All  \n",
       "Actual                  \n",
       "0           0   0    8  \n",
       "1           0   0    8  \n",
       "2           0   0    8  \n",
       "3           0   0    8  \n",
       "4           0   0    8  \n",
       "5           0   0    8  \n",
       "6           0   0    8  \n",
       "7           0   0    8  \n",
       "8           0   0    8  \n",
       "9           0   0    8  \n",
       "10          0   0    8  \n",
       "11          0   0    8  \n",
       "12          0   0    8  \n",
       "13          0   0    8  \n",
       "14          0   0    8  \n",
       "15          0   0    8  \n",
       "16          0   0    8  \n",
       "17          0   0    8  \n",
       "18          6   0    8  \n",
       "19          0   8    8  \n",
       "All         6   8  160  \n",
       "\n",
       "[21 rows x 21 columns]"
      ]
     },
     "execution_count": 27,
     "metadata": {},
     "output_type": "execute_result"
    }
   ],
   "source": [
    "pd.crosstab(y_test, y_predicted, rownames = ['Actual'], colnames =['Predicted'], margins = True)"
   ]
  },
  {
   "cell_type": "markdown",
   "metadata": {},
   "source": [
    "### (8.5.3)   Graphical Presentation of Confusion Matrix"
   ]
  },
  {
   "cell_type": "code",
   "execution_count": 28,
   "metadata": {},
   "outputs": [
    {
     "data": {
      "image/png": "[encoded data removed]",
      "text/plain": [
       "<Figure size 1440x720 with 2 Axes>"
      ]
     },
     "metadata": {
      "needs_background": "light"
     },
     "output_type": "display_data"
    }
   ],
   "source": [
    "def plot_cm(y_true, y_pred, figsize=(20,10)):\n",
    "    cm = confusion_matrix(y_true, y_pred, labels=np.unique(y_true))\n",
    "    cm_sum = np.sum(cm, axis=1, keepdims=True)\n",
    "    cm_perc = cm / cm_sum.astype(float) * 100\n",
    "    annot = np.empty_like(cm).astype(str)\n",
    "    nrows, ncols = cm.shape\n",
    "    for i in range(nrows):\n",
    "        for j in range(ncols):\n",
    "            c = cm[i, j]\n",
    "            p = cm_perc[i, j]\n",
    "            if i == j:\n",
    "                s = cm_sum[i]\n",
    "                annot[i, j] = '%.1f%%\\n%d/%d' % (p, c, s)\n",
    "            elif c == 0:\n",
    "                annot[i, j] = ''\n",
    "            else:\n",
    "                annot[i, j] = '%.1f%%\\n%d' % (p, c)\n",
    "    cm = pd.DataFrame(cm, index=np.unique(y_true), columns=np.unique(y_true))\n",
    "    cm.index.name = 'Actual'\n",
    "    cm.columns.name = 'Predicted'\n",
    "    fig, ax = plt.subplots(figsize=figsize)\n",
    "    sns.heatmap(cm, cmap= \"YlGnBu\", annot=annot, fmt='', ax=ax)\n",
    "    \n",
    "plot_cm(y_test, y_predicted)"
   ]
  },
  {
   "cell_type": "markdown",
   "metadata": {},
   "source": [
    "###  (8.5.4)  Classification Report"
   ]
  },
  {
   "cell_type": "code",
   "execution_count": 29,
   "metadata": {},
   "outputs": [
    {
     "name": "stdout",
     "output_type": "stream",
     "text": [
      "< Classification Report >\n",
      "\n",
      "              precision    recall  f1-score   support\n",
      "\n",
      "           0       0.80      1.00      0.89         8\n",
      "           1       1.00      1.00      1.00         8\n",
      "           2       1.00      1.00      1.00         8\n",
      "           3       1.00      1.00      1.00         8\n",
      "           4       1.00      0.75      0.86         8\n",
      "           5       1.00      1.00      1.00         8\n",
      "           6       1.00      1.00      1.00         8\n",
      "           7       0.67      1.00      0.80         8\n",
      "           8       1.00      1.00      1.00         8\n",
      "           9       1.00      0.75      0.86         8\n",
      "          10       1.00      1.00      1.00         8\n",
      "          11       1.00      1.00      1.00         8\n",
      "          12       1.00      1.00      1.00         8\n",
      "          13       1.00      1.00      1.00         8\n",
      "          14       1.00      1.00      1.00         8\n",
      "          15       1.00      0.75      0.86         8\n",
      "          16       1.00      1.00      1.00         8\n",
      "          17       0.80      1.00      0.89         8\n",
      "          18       1.00      0.75      0.86         8\n",
      "          19       1.00      1.00      1.00         8\n",
      "\n",
      "    accuracy                           0.95       160\n",
      "   macro avg       0.96      0.95      0.95       160\n",
      "weighted avg       0.96      0.95      0.95       160\n",
      "\n"
     ]
    }
   ],
   "source": [
    "print(\"< Classification Report >\\n\")\n",
    "print(classification_report(np.array(y_test), y_predicted))"
   ]
  },
  {
   "cell_type": "markdown",
   "metadata": {},
   "source": [
    "# Task.9 :  Save  and Deploy Model"
   ]
  },
  {
   "cell_type": "markdown",
   "metadata": {},
   "source": [
    "##  (9.1)  Save the CNN Model "
   ]
  },
  {
   "cell_type": "code",
   "execution_count": 30,
   "metadata": {},
   "outputs": [
    {
     "name": "stdout",
     "output_type": "stream",
     "text": [
      "Model Saved to Disk.\n"
     ]
    }
   ],
   "source": [
    "CNN_Model.save(\"ORL_Faces_CNN_Model.h5\")\n",
    "\n",
    "print(\"Model Saved to Disk.\")\n",
    "    "
   ]
  },
  {
   "cell_type": "markdown",
   "metadata": {},
   "source": [
    "##  (9.2)  Deploy the Saved Model "
   ]
  },
  {
   "cell_type": "code",
   "execution_count": 31,
   "metadata": {},
   "outputs": [
    {
     "name": "stdout",
     "output_type": "stream",
     "text": [
      "Model: \"sequential\"\n",
      "_________________________________________________________________\n",
      "Layer (type)                 Output Shape              Param #   \n",
      "=================================================================\n",
      "conv2d (Conv2D)              (None, 106, 86, 36)       1800      \n",
      "_________________________________________________________________\n",
      "max_pooling2d (MaxPooling2D) (None, 53, 43, 36)        0         \n",
      "_________________________________________________________________\n",
      "conv2d_1 (Conv2D)            (None, 49, 39, 54)        48654     \n",
      "_________________________________________________________________\n",
      "max_pooling2d_1 (MaxPooling2 (None, 24, 19, 54)        0         \n",
      "_________________________________________________________________\n",
      "flatten (Flatten)            (None, 24624)             0         \n",
      "_________________________________________________________________\n",
      "dense (Dense)                (None, 4048)              99682000  \n",
      "_________________________________________________________________\n",
      "dropout (Dropout)            (None, 4048)              0         \n",
      "_________________________________________________________________\n",
      "dense_1 (Dense)              (None, 2024)              8195176   \n",
      "_________________________________________________________________\n",
      "dropout_1 (Dropout)          (None, 2024)              0         \n",
      "_________________________________________________________________\n",
      "dense_2 (Dense)              (None, 1024)              2073600   \n",
      "_________________________________________________________________\n",
      "dropout_2 (Dropout)          (None, 1024)              0         \n",
      "_________________________________________________________________\n",
      "dense_3 (Dense)              (None, 512)               524800    \n",
      "_________________________________________________________________\n",
      "dropout_3 (Dropout)          (None, 512)               0         \n",
      "_________________________________________________________________\n",
      "dense_4 (Dense)              (None, 20)                10260     \n",
      "=================================================================\n",
      "Total params: 110,536,290\n",
      "Trainable params: 110,536,290\n",
      "Non-trainable params: 0\n",
      "_________________________________________________________________\n"
     ]
    }
   ],
   "source": [
    "from keras.models import load_model\n",
    "\n",
    "# Load Model\n",
    "model = load_model('ORL_Faces_CNN_Model.h5')\n",
    "\n",
    "# Summarize model.\n",
    "model.summary()"
   ]
  },
  {
   "cell_type": "markdown",
   "metadata": {},
   "source": [
    "## (9.3)  Predict an Unseen  Data "
   ]
  },
  {
   "cell_type": "code",
   "execution_count": 32,
   "metadata": {},
   "outputs": [
    {
     "name": "stderr",
     "output_type": "stream",
     "text": [
      "C:\\Users\\USER\\anaconda3\\lib\\site-packages\\tensorflow\\python\\keras\\engine\\sequential.py:450: UserWarning: `model.predict_classes()` is deprecated and will be removed after 2021-01-01. Please use instead:* `np.argmax(model.predict(x), axis=-1)`,   if your model does multi-class classification   (e.g. if it uses a `softmax` last-layer activation).* `(model.predict(x) > 0.5).astype(\"int32\")`,   if your model does binary classification   (e.g. if it uses a `sigmoid` last-layer activation).\n",
      "  warnings.warn('`model.predict_classes()` is deprecated and '\n"
     ]
    },
    {
     "name": "stdout",
     "output_type": "stream",
     "text": [
      "<SAVED MODEL DEPLOYED TO PREDICT AN UNSEEN DATA :>\n",
      "y_predicted  :  2\n",
      "Actual class :  2\n"
     ]
    }
   ],
   "source": [
    "sample = x_test[18:19]\n",
    "target = y_test[19]\n",
    "\n",
    "y_predicted = CNN_Model.predict_classes(sample)\n",
    "\n",
    "\n",
    "print(\"<SAVED MODEL DEPLOYED TO PREDICT AN UNSEEN DATA :>\")\n",
    "print(\"y_predicted  : \", *y_predicted)\n",
    "print(\"Actual class : \", target)\n",
    "\n"
   ]
  },
  {
   "cell_type": "code",
   "execution_count": null,
   "metadata": {},
   "outputs": [],
   "source": []
  },
  {
   "cell_type": "markdown",
   "metadata": {},
   "source": [
    "# Learners Comments"
   ]
  },
  {
   "cell_type": "markdown",
   "metadata": {},
   "source": [
    "1)  Precision indicates that the ratio of correctly predicted positive observations to the total predicted positive observations is 100% in 17 out of 20 cases, resulting in a precission value of 96%. In those 3 cases too the  precesion is not awfully bad, as they are found to be resonably good around 80%. "
   ]
  },
  {
   "cell_type": "markdown",
   "metadata": {},
   "source": [
    "2) When it comes to recall, the model correctly identifies 96% of True Positives."
   ]
  },
  {
   "cell_type": "markdown",
   "metadata": {},
   "source": [
    "3) Finally when it comes to accuracy, I am glad that I am able to present a model with 95% accuracy, albeit not as high as 100%. For unknown reasons the accuracy fluctuates between 95% to 99%, when run on different occasions. I would definitely like to see it consistently presenting 100% accuracy and I would continue my endeavour.\n"
   ]
  },
  {
   "cell_type": "markdown",
   "metadata": {},
   "source": [
    "4) I have saved the model to the disk in local machine and reused it to predict an unseen data and it predicted with 100% accuracy."
   ]
  },
  {
   "cell_type": "markdown",
   "metadata": {},
   "source": [
    "5) All in all, I would say, that a different CNN model if designed for face recognition in similar lines could be used in real life situation with a confidence of more than 95%."
   ]
  },
  {
   "cell_type": "markdown",
   "metadata": {},
   "source": [
    "<<  End Of The Project >>"
   ]
  }
 ],
 "metadata": {
  "kernelspec": {
   "display_name": "Python 3",
   "language": "python",
   "name": "python3"
  },
  "language_info": {
   "codemirror_mode": {
    "name": "ipython",
    "version": 3
   },
   "file_extension": ".py",
   "mimetype": "text/x-python",
   "name": "python",
   "nbconvert_exporter": "python",
   "pygments_lexer": "ipython3",
   "version": "3.8.3"
  }
 },
 "nbformat": 4,
 "nbformat_minor": 2
}
