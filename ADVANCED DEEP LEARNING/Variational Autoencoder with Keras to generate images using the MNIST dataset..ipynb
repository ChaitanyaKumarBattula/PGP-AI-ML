{
 "cells": [
  {
   "cell_type": "markdown",
   "metadata": {},
   "source": [
    "# COURSE:   PGP [AI&ML]\n",
    "\n",
    "## Learner :  Chaitanya Kumar Battula\n",
    "## Module  : Advanced Deep Learning\n",
    "## Topic   : Use Variational Autoencoder with Keras to generate images using the MNIST dataset."
   ]
  },
  {
   "cell_type": "code",
   "execution_count": 1,
   "metadata": {
    "colab": {},
    "colab_type": "code",
    "id": "OE6hiX3S7VLp"
   },
   "outputs": [
    {
     "name": "stderr",
     "output_type": "stream",
     "text": [
      "Using TensorFlow backend.\n",
      "/Users/sumogroup/anaconda3/lib/python3.7/site-packages/tensorflow/python/framework/dtypes.py:516: FutureWarning: Passing (type, 1) or '1type' as a synonym of type is deprecated; in a future version of numpy, it will be understood as (type, (1,)) / '(1,)type'.\n",
      "  _np_qint8 = np.dtype([(\"qint8\", np.int8, 1)])\n",
      "/Users/sumogroup/anaconda3/lib/python3.7/site-packages/tensorflow/python/framework/dtypes.py:517: FutureWarning: Passing (type, 1) or '1type' as a synonym of type is deprecated; in a future version of numpy, it will be understood as (type, (1,)) / '(1,)type'.\n",
      "  _np_quint8 = np.dtype([(\"quint8\", np.uint8, 1)])\n",
      "/Users/sumogroup/anaconda3/lib/python3.7/site-packages/tensorflow/python/framework/dtypes.py:518: FutureWarning: Passing (type, 1) or '1type' as a synonym of type is deprecated; in a future version of numpy, it will be understood as (type, (1,)) / '(1,)type'.\n",
      "  _np_qint16 = np.dtype([(\"qint16\", np.int16, 1)])\n",
      "/Users/sumogroup/anaconda3/lib/python3.7/site-packages/tensorflow/python/framework/dtypes.py:519: FutureWarning: Passing (type, 1) or '1type' as a synonym of type is deprecated; in a future version of numpy, it will be understood as (type, (1,)) / '(1,)type'.\n",
      "  _np_quint16 = np.dtype([(\"quint16\", np.uint16, 1)])\n",
      "/Users/sumogroup/anaconda3/lib/python3.7/site-packages/tensorflow/python/framework/dtypes.py:520: FutureWarning: Passing (type, 1) or '1type' as a synonym of type is deprecated; in a future version of numpy, it will be understood as (type, (1,)) / '(1,)type'.\n",
      "  _np_qint32 = np.dtype([(\"qint32\", np.int32, 1)])\n",
      "/Users/sumogroup/anaconda3/lib/python3.7/site-packages/tensorflow/python/framework/dtypes.py:525: FutureWarning: Passing (type, 1) or '1type' as a synonym of type is deprecated; in a future version of numpy, it will be understood as (type, (1,)) / '(1,)type'.\n",
      "  np_resource = np.dtype([(\"resource\", np.ubyte, 1)])\n"
     ]
    }
   ],
   "source": [
    "import keras\n",
    "from keras.layers import Conv2D, Conv2DTranspose, Input, Flatten, Dense, Lambda, Reshape\n",
    "from keras.layers import BatchNormalization\n",
    "from keras.models import Model\n",
    "from keras.datasets import mnist\n",
    "from keras.losses import binary_crossentropy\n",
    "from keras import backend as K\n",
    "import numpy as np\n",
    "import matplotlib.pyplot as plt"
   ]
  },
  {
   "cell_type": "markdown",
   "metadata": {
    "colab_type": "text",
    "id": "Cu5l97z47VLw"
   },
   "source": [
    "### Load MNIST dataset"
   ]
  },
  {
   "cell_type": "code",
   "execution_count": 2,
   "metadata": {
    "colab": {},
    "colab_type": "code",
    "id": "2jET6Dct7VLx"
   },
   "outputs": [],
   "source": [
    "(input_train, target_train), (input_test, target_test) = mnist.load_data()"
   ]
  },
  {
   "cell_type": "markdown",
   "metadata": {
    "colab_type": "text",
    "id": "AEhFAwjL7VL2"
   },
   "source": [
    "### Data and model configuration"
   ]
  },
  {
   "cell_type": "code",
   "execution_count": 3,
   "metadata": {
    "colab": {},
    "colab_type": "code",
    "id": "jC6MoLeK7VL3"
   },
   "outputs": [],
   "source": [
    "img_width, img_height = input_train.shape[1], input_train.shape[2]\n",
    "batch_size = 128\n",
    "no_epochs = 100\n",
    "validation_split = 0.2\n",
    "verbosity = 1\n",
    "latent_dim = 2\n",
    "num_channels = 1\n",
    "\n",
    "# Reshape data\n",
    "input_train = input_train.reshape(input_train.shape[0], img_height, img_width, num_channels)\n",
    "input_test = input_test.reshape(input_test.shape[0], img_height, img_width, num_channels)\n",
    "input_shape = (img_height, img_width, num_channels)\n",
    "\n",
    "# Parse numbers as floats\n",
    "input_train = input_train.astype('float32')\n",
    "input_test = input_test.astype('float32')\n",
    "\n",
    "# Normalize data\n",
    "input_train = input_train / 255\n",
    "input_test = input_test / 255"
   ]
  },
  {
   "cell_type": "markdown",
   "metadata": {
    "colab_type": "text",
    "id": "w9VtmTgr7VL8"
   },
   "source": [
    "## Encoder"
   ]
  },
  {
   "cell_type": "code",
   "execution_count": 4,
   "metadata": {
    "colab": {},
    "colab_type": "code",
    "id": "c3z5SRaJ7VL9"
   },
   "outputs": [
    {
     "name": "stderr",
     "output_type": "stream",
     "text": [
      "WARNING: Logging before flag parsing goes to stderr.\n",
      "W0507 17:14:48.230005 4617229760 deprecation_wrapper.py:119] From /Users/sumogroup/anaconda3/lib/python3.7/site-packages/keras/backend/tensorflow_backend.py:517: The name tf.placeholder is deprecated. Please use tf.compat.v1.placeholder instead.\n",
      "\n",
      "W0507 17:14:48.248687 4617229760 deprecation_wrapper.py:119] From /Users/sumogroup/anaconda3/lib/python3.7/site-packages/keras/backend/tensorflow_backend.py:74: The name tf.get_default_graph is deprecated. Please use tf.compat.v1.get_default_graph instead.\n",
      "\n",
      "W0507 17:14:48.250730 4617229760 deprecation_wrapper.py:119] From /Users/sumogroup/anaconda3/lib/python3.7/site-packages/keras/backend/tensorflow_backend.py:4138: The name tf.random_uniform is deprecated. Please use tf.random.uniform instead.\n",
      "\n",
      "W0507 17:14:48.284502 4617229760 deprecation_wrapper.py:119] From /Users/sumogroup/anaconda3/lib/python3.7/site-packages/keras/backend/tensorflow_backend.py:174: The name tf.get_default_session is deprecated. Please use tf.compat.v1.get_default_session instead.\n",
      "\n",
      "W0507 17:14:48.285369 4617229760 deprecation_wrapper.py:119] From /Users/sumogroup/anaconda3/lib/python3.7/site-packages/keras/backend/tensorflow_backend.py:181: The name tf.ConfigProto is deprecated. Please use tf.compat.v1.ConfigProto instead.\n",
      "\n",
      "W0507 17:14:48.321498 4617229760 deprecation_wrapper.py:119] From /Users/sumogroup/anaconda3/lib/python3.7/site-packages/keras/backend/tensorflow_backend.py:1834: The name tf.nn.fused_batch_norm is deprecated. Please use tf.compat.v1.nn.fused_batch_norm instead.\n",
      "\n"
     ]
    },
    {
     "name": "stdout",
     "output_type": "stream",
     "text": [
      "__________________________________________________________________________________________________\n",
      "Layer (type)                    Output Shape         Param #     Connected to                     \n",
      "==================================================================================================\n",
      "encoder_input (InputLayer)      (None, 28, 28, 1)    0                                            \n",
      "__________________________________________________________________________________________________\n",
      "conv2d_1 (Conv2D)               (None, 14, 14, 8)    80          encoder_input[0][0]              \n",
      "__________________________________________________________________________________________________\n",
      "batch_normalization_1 (BatchNor (None, 14, 14, 8)    32          conv2d_1[0][0]                   \n",
      "__________________________________________________________________________________________________\n",
      "conv2d_2 (Conv2D)               (None, 7, 7, 16)     1168        batch_normalization_1[0][0]      \n",
      "__________________________________________________________________________________________________\n",
      "batch_normalization_2 (BatchNor (None, 7, 7, 16)     64          conv2d_2[0][0]                   \n",
      "__________________________________________________________________________________________________\n",
      "flatten_1 (Flatten)             (None, 784)          0           batch_normalization_2[0][0]      \n",
      "__________________________________________________________________________________________________\n",
      "dense_1 (Dense)                 (None, 20)           15700       flatten_1[0][0]                  \n",
      "__________________________________________________________________________________________________\n",
      "batch_normalization_3 (BatchNor (None, 20)           80          dense_1[0][0]                    \n",
      "__________________________________________________________________________________________________\n",
      "latent_mu (Dense)               (None, 2)            42          batch_normalization_3[0][0]      \n",
      "__________________________________________________________________________________________________\n",
      "latent_sigma (Dense)            (None, 2)            42          batch_normalization_3[0][0]      \n",
      "__________________________________________________________________________________________________\n",
      "z (Lambda)                      (None, 2)            0           latent_mu[0][0]                  \n",
      "                                                                 latent_sigma[0][0]               \n",
      "==================================================================================================\n",
      "Total params: 17,208\n",
      "Trainable params: 17,120\n",
      "Non-trainable params: 88\n",
      "__________________________________________________________________________________________________\n"
     ]
    }
   ],
   "source": [
    "# Definition\n",
    "i       = Input(shape=input_shape, name='encoder_input')\n",
    "cx      = Conv2D(filters=8, kernel_size=3, strides=2, padding='same', activation='relu')(i)\n",
    "cx      = BatchNormalization()(cx)\n",
    "cx      = Conv2D(filters=16, kernel_size=3, strides=2, padding='same', activation='relu')(cx)\n",
    "cx      = BatchNormalization()(cx)\n",
    "x       = Flatten()(cx)\n",
    "x       = Dense(20, activation='relu')(x)\n",
    "x       = BatchNormalization()(x)\n",
    "mu      = Dense(latent_dim, name='latent_mu')(x)\n",
    "sigma   = Dense(latent_dim, name='latent_sigma')(x)\n",
    "\n",
    "# Get Conv2D shape for Conv2DTranspose operation in decoder\n",
    "conv_shape = K.int_shape(cx)\n",
    "\n",
    "# Define sampling with reparameterization trick\n",
    "def sample_z(args):\n",
    "  mu, sigma = args\n",
    "  batch     = K.shape(mu)[0]\n",
    "  dim       = K.int_shape(mu)[1]\n",
    "  eps       = K.random_normal(shape=(batch, dim))\n",
    "  return mu + K.exp(sigma / 2) * eps\n",
    "\n",
    "# Use reparameterization trick to ....??\n",
    "z       = Lambda(sample_z, output_shape=(latent_dim, ), name='z')([mu, sigma])\n",
    "\n",
    "# Instantiate encoder\n",
    "encoder = Model(i, [mu, sigma, z], name='encoder')\n",
    "encoder.summary()"
   ]
  },
  {
   "cell_type": "markdown",
   "metadata": {
    "colab_type": "text",
    "id": "T8u0FV777VMB"
   },
   "source": [
    "## Decoder"
   ]
  },
  {
   "cell_type": "code",
   "execution_count": 5,
   "metadata": {
    "colab": {},
    "colab_type": "code",
    "id": "M1BXpZBf7VMC"
   },
   "outputs": [
    {
     "name": "stdout",
     "output_type": "stream",
     "text": [
      "_________________________________________________________________\n",
      "Layer (type)                 Output Shape              Param #   \n",
      "=================================================================\n",
      "decoder_input (InputLayer)   (None, 2)                 0         \n",
      "_________________________________________________________________\n",
      "dense_2 (Dense)              (None, 784)               2352      \n",
      "_________________________________________________________________\n",
      "batch_normalization_4 (Batch (None, 784)               3136      \n",
      "_________________________________________________________________\n",
      "reshape_1 (Reshape)          (None, 7, 7, 16)          0         \n",
      "_________________________________________________________________\n",
      "conv2d_transpose_1 (Conv2DTr (None, 14, 14, 16)        2320      \n",
      "_________________________________________________________________\n",
      "batch_normalization_5 (Batch (None, 14, 14, 16)        64        \n",
      "_________________________________________________________________\n",
      "conv2d_transpose_2 (Conv2DTr (None, 28, 28, 8)         1160      \n",
      "_________________________________________________________________\n",
      "batch_normalization_6 (Batch (None, 28, 28, 8)         32        \n",
      "_________________________________________________________________\n",
      "decoder_output (Conv2DTransp (None, 28, 28, 1)         73        \n",
      "=================================================================\n",
      "Total params: 9,137\n",
      "Trainable params: 7,521\n",
      "Non-trainable params: 1,616\n",
      "_________________________________________________________________\n"
     ]
    }
   ],
   "source": [
    "# Definition\n",
    "d_i   = Input(shape=(latent_dim, ), name='decoder_input')\n",
    "x     = Dense(conv_shape[1] * conv_shape[2] * conv_shape[3], activation='relu')(d_i)\n",
    "x     = BatchNormalization()(x)\n",
    "x     = Reshape((conv_shape[1], conv_shape[2], conv_shape[3]))(x)\n",
    "cx    = Conv2DTranspose(filters=16, kernel_size=3, strides=2, padding='same', activation='relu')(x)\n",
    "cx    = BatchNormalization()(cx)\n",
    "cx    = Conv2DTranspose(filters=8, kernel_size=3, strides=2, padding='same',  activation='relu')(cx)\n",
    "cx    = BatchNormalization()(cx)\n",
    "o     = Conv2DTranspose(filters=num_channels, kernel_size=3, activation='sigmoid', padding='same', name='decoder_output')(cx)\n",
    "\n",
    "# Instantiate decoder\n",
    "decoder = Model(d_i, o, name='decoder')\n",
    "decoder.summary()"
   ]
  },
  {
   "cell_type": "markdown",
   "metadata": {
    "colab_type": "text",
    "id": "CtIMMf-B7VMH"
   },
   "source": [
    "## VAE as a whole"
   ]
  },
  {
   "cell_type": "code",
   "execution_count": 6,
   "metadata": {
    "colab": {},
    "colab_type": "code",
    "id": "Uh6NtV0o7VMH"
   },
   "outputs": [
    {
     "name": "stderr",
     "output_type": "stream",
     "text": [
      "W0507 17:15:07.931652 4617229760 deprecation_wrapper.py:119] From /Users/sumogroup/anaconda3/lib/python3.7/site-packages/keras/optimizers.py:790: The name tf.train.Optimizer is deprecated. Please use tf.compat.v1.train.Optimizer instead.\n",
      "\n",
      "W0507 17:15:07.965475 4617229760 deprecation.py:323] From /Users/sumogroup/anaconda3/lib/python3.7/site-packages/tensorflow/python/ops/nn_impl.py:180: add_dispatch_support.<locals>.wrapper (from tensorflow.python.ops.array_ops) is deprecated and will be removed in a future version.\n",
      "Instructions for updating:\n",
      "Use tf.where in 2.0, which has the same broadcast rule as np.where\n"
     ]
    },
    {
     "name": "stdout",
     "output_type": "stream",
     "text": [
      "_________________________________________________________________\n",
      "Layer (type)                 Output Shape              Param #   \n",
      "=================================================================\n",
      "encoder_input (InputLayer)   (None, 28, 28, 1)         0         \n",
      "_________________________________________________________________\n",
      "encoder (Model)              [(None, 2), (None, 2), (N 17208     \n",
      "_________________________________________________________________\n",
      "decoder (Model)              (None, 28, 28, 1)         9137      \n",
      "=================================================================\n",
      "Total params: 26,345\n",
      "Trainable params: 24,641\n",
      "Non-trainable params: 1,704\n",
      "_________________________________________________________________\n",
      "Train on 48000 samples, validate on 12000 samples\n",
      "Epoch 1/100\n",
      "48000/48000 [==============================] - 32s 675us/step - loss: 282.6402 - val_loss: 191.8878\n",
      "Epoch 2/100\n",
      "48000/48000 [==============================] - 30s 627us/step - loss: 179.7816 - val_loss: 172.1944\n",
      "Epoch 3/100\n",
      "48000/48000 [==============================] - 28s 582us/step - loss: 169.3894 - val_loss: 165.5911\n",
      "Epoch 4/100\n",
      "48000/48000 [==============================] - 30s 621us/step - loss: 164.8803 - val_loss: 161.8327\n",
      "Epoch 5/100\n",
      "48000/48000 [==============================] - 29s 607us/step - loss: 162.4215 - val_loss: 160.4443\n",
      "Epoch 6/100\n",
      "48000/48000 [==============================] - 32s 667us/step - loss: 160.9651 - val_loss: 161.0555\n",
      "Epoch 7/100\n",
      "48000/48000 [==============================] - 32s 673us/step - loss: 159.7381 - val_loss: 157.6534\n",
      "Epoch 8/100\n",
      "48000/48000 [==============================] - 35s 720us/step - loss: 159.1051 - val_loss: 157.0833\n",
      "Epoch 9/100\n",
      "48000/48000 [==============================] - 35s 736us/step - loss: 158.4716 - val_loss: 156.4098\n",
      "Epoch 10/100\n",
      "48000/48000 [==============================] - 34s 710us/step - loss: 157.7284 - val_loss: 155.6100\n",
      "Epoch 11/100\n",
      "48000/48000 [==============================] - 32s 671us/step - loss: 157.4731 - val_loss: 155.1603\n",
      "Epoch 12/100\n",
      "48000/48000 [==============================] - 33s 684us/step - loss: 157.1696 - val_loss: 155.4890\n",
      "Epoch 13/100\n",
      "48000/48000 [==============================] - 32s 657us/step - loss: 156.8182 - val_loss: 156.5799\n",
      "Epoch 14/100\n",
      "48000/48000 [==============================] - 33s 683us/step - loss: 156.3346 - val_loss: 155.2173\n",
      "Epoch 15/100\n",
      "48000/48000 [==============================] - 32s 672us/step - loss: 156.2824 - val_loss: 155.1030\n",
      "Epoch 16/100\n",
      "48000/48000 [==============================] - 32s 672us/step - loss: 156.1549 - val_loss: 154.0615\n",
      "Epoch 17/100\n",
      "48000/48000 [==============================] - 31s 653us/step - loss: 155.6454 - val_loss: 154.0745\n",
      "Epoch 18/100\n",
      "48000/48000 [==============================] - 31s 655us/step - loss: 155.5493 - val_loss: 154.0512\n",
      "Epoch 19/100\n",
      "48000/48000 [==============================] - 32s 656us/step - loss: 155.4318 - val_loss: 153.8648\n",
      "Epoch 20/100\n",
      "48000/48000 [==============================] - 31s 653us/step - loss: 155.3987 - val_loss: 153.9883\n",
      "Epoch 21/100\n",
      "48000/48000 [==============================] - 31s 649us/step - loss: 155.2345 - val_loss: 153.2413\n",
      "Epoch 22/100\n",
      "48000/48000 [==============================] - 31s 642us/step - loss: 155.0670 - val_loss: 153.1362\n",
      "Epoch 23/100\n",
      "48000/48000 [==============================] - 31s 645us/step - loss: 155.0468 - val_loss: 153.1830\n",
      "Epoch 24/100\n",
      "48000/48000 [==============================] - 31s 650us/step - loss: 154.4495 - val_loss: 152.7172\n",
      "Epoch 25/100\n",
      "48000/48000 [==============================] - 31s 650us/step - loss: 154.6782 - val_loss: 152.1188\n",
      "Epoch 26/100\n",
      "48000/48000 [==============================] - 32s 661us/step - loss: 154.3839 - val_loss: 152.6670\n",
      "Epoch 27/100\n",
      "48000/48000 [==============================] - 31s 650us/step - loss: 154.0412 - val_loss: 154.1782\n",
      "Epoch 28/100\n",
      "48000/48000 [==============================] - 30s 634us/step - loss: 153.9416 - val_loss: 151.9995\n",
      "Epoch 29/100\n",
      "48000/48000 [==============================] - 28s 578us/step - loss: 154.2432 - val_loss: 151.7526\n",
      "Epoch 30/100\n",
      "48000/48000 [==============================] - 27s 568us/step - loss: 153.8619 - val_loss: 152.0270\n",
      "Epoch 31/100\n",
      "48000/48000 [==============================] - 28s 588us/step - loss: 153.9337 - val_loss: 152.7526\n",
      "Epoch 32/100\n",
      "48000/48000 [==============================] - 30s 616us/step - loss: 153.6941 - val_loss: 152.1115\n",
      "Epoch 33/100\n",
      "48000/48000 [==============================] - 29s 613us/step - loss: 153.4512 - val_loss: 151.3808\n",
      "Epoch 34/100\n",
      "48000/48000 [==============================] - 30s 619us/step - loss: 153.4165 - val_loss: 153.6883\n",
      "Epoch 35/100\n",
      "48000/48000 [==============================] - 29s 604us/step - loss: 153.3626 - val_loss: 151.8709\n",
      "Epoch 36/100\n",
      "48000/48000 [==============================] - 29s 613us/step - loss: 153.2554 - val_loss: 151.2123\n",
      "Epoch 37/100\n",
      "48000/48000 [==============================] - 30s 621us/step - loss: 153.4295 - val_loss: 151.1691\n",
      "Epoch 38/100\n",
      "48000/48000 [==============================] - 30s 621us/step - loss: 153.2097 - val_loss: 152.9271\n",
      "Epoch 39/100\n",
      "48000/48000 [==============================] - 30s 617us/step - loss: 153.0489 - val_loss: 150.9943\n",
      "Epoch 40/100\n",
      "48000/48000 [==============================] - 30s 626us/step - loss: 152.7766 - val_loss: 151.9899\n",
      "Epoch 41/100\n",
      "48000/48000 [==============================] - 30s 617us/step - loss: 152.6411 - val_loss: 152.1839\n",
      "Epoch 42/100\n",
      "48000/48000 [==============================] - 30s 623us/step - loss: 152.7607 - val_loss: 150.8901\n",
      "Epoch 43/100\n",
      "48000/48000 [==============================] - 29s 602us/step - loss: 152.9073 - val_loss: 151.5755\n",
      "Epoch 44/100\n",
      "48000/48000 [==============================] - 29s 612us/step - loss: 152.5126 - val_loss: 151.3620\n",
      "Epoch 45/100\n",
      "48000/48000 [==============================] - 29s 612us/step - loss: 152.7964 - val_loss: 151.3979\n",
      "Epoch 46/100\n",
      "48000/48000 [==============================] - 30s 626us/step - loss: 152.5960 - val_loss: 150.9467\n",
      "Epoch 47/100\n",
      "48000/48000 [==============================] - 29s 614us/step - loss: 152.3597 - val_loss: 151.6041\n",
      "Epoch 48/100\n",
      "48000/48000 [==============================] - 29s 613us/step - loss: 152.5447 - val_loss: 152.5923\n",
      "Epoch 49/100\n",
      "48000/48000 [==============================] - 29s 611us/step - loss: 152.3319 - val_loss: 153.4922\n",
      "Epoch 50/100\n",
      "48000/48000 [==============================] - 30s 617us/step - loss: 152.2654 - val_loss: 150.5578\n",
      "Epoch 51/100\n",
      "48000/48000 [==============================] - 29s 609us/step - loss: 152.2341 - val_loss: 153.2010\n",
      "Epoch 52/100\n",
      "48000/48000 [==============================] - 29s 614us/step - loss: 152.2042 - val_loss: 150.2640\n",
      "Epoch 53/100\n",
      "48000/48000 [==============================] - 29s 608us/step - loss: 152.1343 - val_loss: 150.3012\n",
      "Epoch 54/100\n",
      "48000/48000 [==============================] - 30s 615us/step - loss: 152.0764 - val_loss: 151.1070\n",
      "Epoch 55/100\n",
      "48000/48000 [==============================] - 30s 616us/step - loss: 151.8630 - val_loss: 151.1272\n",
      "Epoch 56/100\n",
      "48000/48000 [==============================] - 30s 618us/step - loss: 151.9242 - val_loss: 150.3808\n",
      "Epoch 57/100\n",
      "48000/48000 [==============================] - 30s 630us/step - loss: 151.8882 - val_loss: 151.4175\n",
      "Epoch 58/100\n",
      "48000/48000 [==============================] - 30s 621us/step - loss: 151.7918 - val_loss: 150.7341\n",
      "Epoch 59/100\n",
      "48000/48000 [==============================] - 30s 623us/step - loss: 151.9750 - val_loss: 150.1266\n",
      "Epoch 60/100\n",
      "48000/48000 [==============================] - 29s 614us/step - loss: 151.6871 - val_loss: 151.0165\n",
      "Epoch 61/100\n",
      "48000/48000 [==============================] - 29s 609us/step - loss: 151.6558 - val_loss: 150.1840\n",
      "Epoch 62/100\n",
      "48000/48000 [==============================] - 29s 607us/step - loss: 151.6105 - val_loss: 150.7082\n",
      "Epoch 63/100\n",
      "48000/48000 [==============================] - 28s 592us/step - loss: 151.6509 - val_loss: 151.1295\n",
      "Epoch 64/100\n",
      "48000/48000 [==============================] - 30s 622us/step - loss: 151.5697 - val_loss: 149.9209\n",
      "Epoch 65/100\n",
      "48000/48000 [==============================] - 29s 610us/step - loss: 151.5745 - val_loss: 150.6381\n",
      "Epoch 66/100\n",
      "48000/48000 [==============================] - 30s 619us/step - loss: 151.7409 - val_loss: 151.6789\n",
      "Epoch 67/100\n",
      "48000/48000 [==============================] - 29s 609us/step - loss: 151.4507 - val_loss: 151.3374\n",
      "Epoch 68/100\n",
      "48000/48000 [==============================] - 29s 610us/step - loss: 151.4073 - val_loss: 152.5191\n",
      "Epoch 69/100\n",
      "48000/48000 [==============================] - 29s 614us/step - loss: 151.3803 - val_loss: 150.2757\n",
      "Epoch 70/100\n",
      "48000/48000 [==============================] - 29s 612us/step - loss: 151.5895 - val_loss: 149.8104\n",
      "Epoch 71/100\n",
      "48000/48000 [==============================] - 29s 611us/step - loss: 151.4203 - val_loss: 149.5380\n",
      "Epoch 72/100\n",
      "48000/48000 [==============================] - 30s 624us/step - loss: 151.5187 - val_loss: 150.4574\n",
      "Epoch 73/100\n",
      "48000/48000 [==============================] - 29s 614us/step - loss: 151.2342 - val_loss: 149.7044\n",
      "Epoch 74/100\n",
      "48000/48000 [==============================] - 30s 620us/step - loss: 151.2914 - val_loss: 151.7765\n",
      "Epoch 75/100\n",
      "48000/48000 [==============================] - 30s 617us/step - loss: 151.3707 - val_loss: 150.9630\n",
      "Epoch 76/100\n",
      "48000/48000 [==============================] - 30s 619us/step - loss: 151.2949 - val_loss: 149.7725\n",
      "Epoch 77/100\n",
      "48000/48000 [==============================] - 29s 604us/step - loss: 151.1794 - val_loss: 149.6373\n",
      "Epoch 78/100\n",
      "48000/48000 [==============================] - 30s 633us/step - loss: 151.1402 - val_loss: 149.8276\n",
      "Epoch 79/100\n",
      "48000/48000 [==============================] - 30s 632us/step - loss: 151.0606 - val_loss: 149.7487\n",
      "Epoch 80/100\n",
      "48000/48000 [==============================] - 30s 627us/step - loss: 151.2953 - val_loss: 149.8346\n",
      "Epoch 81/100\n",
      "48000/48000 [==============================] - 30s 617us/step - loss: 150.9791 - val_loss: 149.5671\n",
      "Epoch 82/100\n",
      "48000/48000 [==============================] - 29s 614us/step - loss: 151.0800 - val_loss: 151.1750\n",
      "Epoch 83/100\n",
      "48000/48000 [==============================] - 29s 614us/step - loss: 150.8712 - val_loss: 152.1974\n",
      "Epoch 84/100\n",
      "48000/48000 [==============================] - 30s 619us/step - loss: 150.9941 - val_loss: 152.0425\n",
      "Epoch 85/100\n",
      "48000/48000 [==============================] - 29s 595us/step - loss: 151.0557 - val_loss: 150.2052\n",
      "Epoch 86/100\n",
      "48000/48000 [==============================] - 29s 613us/step - loss: 151.1128 - val_loss: 150.0174\n",
      "Epoch 87/100\n",
      "48000/48000 [==============================] - 32s 665us/step - loss: 150.9538 - val_loss: 149.5225\n",
      "Epoch 88/100\n",
      "48000/48000 [==============================] - 31s 637us/step - loss: 150.8443 - val_loss: 149.8242\n",
      "Epoch 89/100\n",
      "48000/48000 [==============================] - 30s 625us/step - loss: 151.1180 - val_loss: 151.7524\n",
      "Epoch 90/100\n",
      "48000/48000 [==============================] - 29s 614us/step - loss: 150.9197 - val_loss: 150.7191\n",
      "Epoch 91/100\n",
      "48000/48000 [==============================] - 30s 633us/step - loss: 151.1306 - val_loss: 149.5059\n",
      "Epoch 92/100\n",
      "48000/48000 [==============================] - 31s 644us/step - loss: 151.1641 - val_loss: 150.2550\n",
      "Epoch 93/100\n",
      "48000/48000 [==============================] - 32s 656us/step - loss: 150.7922 - val_loss: 149.5935\n",
      "Epoch 94/100\n",
      "48000/48000 [==============================] - 33s 681us/step - loss: 150.7431 - val_loss: 151.1255\n",
      "Epoch 95/100\n",
      "48000/48000 [==============================] - 30s 629us/step - loss: 150.5784 - val_loss: 149.1447\n",
      "Epoch 96/100\n",
      "48000/48000 [==============================] - 32s 663us/step - loss: 150.8609 - val_loss: 150.5442\n",
      "Epoch 97/100\n",
      "48000/48000 [==============================] - 33s 679us/step - loss: 150.7933 - val_loss: 149.8072\n",
      "Epoch 98/100\n",
      "48000/48000 [==============================] - 30s 627us/step - loss: 150.7616 - val_loss: 150.8312\n",
      "Epoch 99/100\n",
      "48000/48000 [==============================] - 31s 645us/step - loss: 150.8165 - val_loss: 150.4989\n",
      "Epoch 100/100\n",
      "48000/48000 [==============================] - 32s 669us/step - loss: 150.8565 - val_loss: 149.9699\n"
     ]
    },
    {
     "data": {
      "text/plain": [
       "<keras.callbacks.History at 0x13af0a550>"
      ]
     },
     "execution_count": 6,
     "metadata": {},
     "output_type": "execute_result"
    }
   ],
   "source": [
    "# Instantiate VAE\n",
    "vae_outputs = decoder(encoder(i)[2])\n",
    "vae         = Model(i, vae_outputs, name='vae')\n",
    "vae.summary()\n",
    "\n",
    "# Define loss\n",
    "def kl_reconstruction_loss(true, pred):\n",
    "  # Reconstruction loss\n",
    "  reconstruction_loss = binary_crossentropy(K.flatten(true), K.flatten(pred)) * img_width * img_height\n",
    "  # KL divergence loss\n",
    "  kl_loss = 1 + sigma - K.square(mu) - K.exp(sigma)\n",
    "  kl_loss = K.sum(kl_loss, axis=-1)\n",
    "  kl_loss *= -0.5\n",
    "  # Total loss = 50% rec + 50% KL divergence loss\n",
    "  return K.mean(reconstruction_loss + kl_loss)\n",
    "\n",
    "# Compile VAE\n",
    "vae.compile(optimizer='adam', loss=kl_reconstruction_loss)\n",
    "\n",
    "# Train autoencoder\n",
    "vae.fit(input_train, input_train, epochs = no_epochs, batch_size = batch_size, validation_split = validation_split)"
   ]
  },
  {
   "cell_type": "markdown",
   "metadata": {
    "colab_type": "text",
    "id": "uCUQGnmx7VMO"
   },
   "source": [
    "## Visualization of Results"
   ]
  },
  {
   "cell_type": "code",
   "execution_count": 7,
   "metadata": {
    "colab": {},
    "colab_type": "code",
    "id": "VA9dJrhl7VMP"
   },
   "outputs": [],
   "source": [
    "def viz_latent_space(encoder, data):\n",
    "  input_data, target_data = data\n",
    "  mu, _, _ = encoder.predict(input_data)\n",
    "  plt.figure(figsize=(8, 10))\n",
    "  plt.scatter(mu[:, 0], mu[:, 1], c=target_data)\n",
    "  plt.xlabel('z - dim 1')\n",
    "  plt.ylabel('z - dim 2')\n",
    "  plt.colorbar()\n",
    "  plt.show()\n",
    "\n",
    "def viz_decoded(encoder, decoder, data):\n",
    "  num_samples = 15\n",
    "  figure = np.zeros((img_width * num_samples, img_height * num_samples, num_channels))\n",
    "  grid_x = np.linspace(-4, 4, num_samples)\n",
    "  grid_y = np.linspace(-4, 4, num_samples)[::-1]\n",
    "  for i, yi in enumerate(grid_y):\n",
    "      for j, xi in enumerate(grid_x):\n",
    "          z_sample = np.array([[xi, yi]])\n",
    "          x_decoded = decoder.predict(z_sample)\n",
    "          digit = x_decoded[0].reshape(img_width, img_height, num_channels)\n",
    "          figure[i * img_width: (i + 1) * img_width,\n",
    "                  j * img_height: (j + 1) * img_height] = digit\n",
    "  plt.figure(figsize=(10, 10))\n",
    "  start_range = img_width // 2\n",
    "  end_range = num_samples * img_width + start_range + 1\n",
    "  pixel_range = np.arange(start_range, end_range, img_width)\n",
    "  sample_range_x = np.round(grid_x, 1)\n",
    "  sample_range_y = np.round(grid_y, 1)\n",
    "  plt.xticks(pixel_range, sample_range_x)\n",
    "  plt.yticks(pixel_range, sample_range_y)\n",
    "  plt.xlabel('z - dim 1')\n",
    "  plt.ylabel('z - dim 2')\n",
    "  # matplotlib.pyplot.imshow() needs a 2D array, or a 3D array with the third dimension being of shape 3 or 4!\n",
    "  # So reshape if necessary\n",
    "  fig_shape = np.shape(figure)\n",
    "  if fig_shape[2] == 1:\n",
    "    figure = figure.reshape((fig_shape[0], fig_shape[1]))\n",
    "  # Show image\n",
    "  plt.imshow(figure)\n",
    "  plt.show()"
   ]
  },
  {
   "cell_type": "markdown",
   "metadata": {
    "colab_type": "text",
    "id": "gLGeVnUz7VMT"
   },
   "source": [
    "## Plot results"
   ]
  },
  {
   "cell_type": "code",
   "execution_count": 0,
   "metadata": {
    "colab": {},
    "colab_type": "code",
    "id": "l0tKQzlD7VMU"
   },
   "outputs": [],
   "source": [
    "data = (input_test, target_test)\n",
    "viz_latent_space(encoder, data)\n",
    "viz_decoded(encoder, decoder, data)"
   ]
  },
  {
   "cell_type": "code",
   "execution_count": 0,
   "metadata": {
    "colab": {},
    "colab_type": "code",
    "id": "7gaAM9Ai7VMY"
   },
   "outputs": [],
   "source": []
  }
 ],
 "metadata": {
  "colab": {
   "collapsed_sections": [],
   "name": "4.2_VAE with Keras.ipynb",
   "provenance": []
  },
  "kernelspec": {
   "display_name": "Python 3",
   "language": "python",
   "name": "python3"
  },
  "language_info": {
   "codemirror_mode": {
    "name": "ipython",
    "version": 3
   },
   "file_extension": ".py",
   "mimetype": "text/x-python",
   "name": "python",
   "nbconvert_exporter": "python",
   "pygments_lexer": "ipython3",
   "version": "3.8.3"
  }
 },
 "nbformat": 4,
 "nbformat_minor": 1
}
