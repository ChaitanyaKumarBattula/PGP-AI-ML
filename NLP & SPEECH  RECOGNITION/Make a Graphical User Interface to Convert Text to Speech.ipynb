{
 "cells": [
  {
   "cell_type": "markdown",
   "metadata": {},
   "source": [
    "# COURSE:   PGP [AI&ML]\n",
    "\n",
    "## Learner :  Chaitanya Kumar Battula\n",
    "## Module  : NLP\n",
    "## Topic   :  Make a Graphical User Interface to Convert Text to Speech"
   ]
  },
  {
   "cell_type": "code",
   "execution_count": 1,
   "metadata": {},
   "outputs": [
    {
     "name": "stdout",
     "output_type": "stream",
     "text": [
      "< OUTPUT>\n",
      "Text Entered is:\n",
      "I am 23 Years old !\n"
     ]
    }
   ],
   "source": [
    "import tkinter as tk\n",
    "import pyttsx3 \n",
    "\n",
    "\n",
    "\n",
    "# Top level window\n",
    "frame = tk.Tk()\n",
    "frame.title(\"Text to Speech Converter\")\n",
    "frame.geometry('400x200')\n",
    "frame.config(background='pink')\n",
    "\n",
    "\n",
    "  \n",
    "def SpeakInput():\n",
    "    inp = inputtxt.get(1.0, \"end-1c\")\n",
    "    lbl.config(text = \"Provided Input: \"+inp)\n",
    "    print(\"< OUTPUT>\")\n",
    "    print(\"Text Entered is:\")\n",
    "    print(inp)\n",
    "    engine = pyttsx3.init() \n",
    "    engine.say(inp) \n",
    "    engine.runAndWait()\n",
    "  \n",
    "\n",
    "# TextBox Creation\n",
    "inputtxt = tk.Text(frame,\n",
    "                   height = 5,\n",
    "                   width = 20)\n",
    "inputtxt.pack()\n",
    "\n",
    "\n",
    "\n",
    "\n",
    "# Button Creation\n",
    "printButton = tk.Button(frame,\n",
    "                        text = \"Speak\", \n",
    "                        bg   = \"yellow\",\n",
    "                        fg   = 'red',\n",
    "                        command = SpeakInput)\n",
    "printButton.pack()\n",
    "  \n",
    "    \n",
    "    \n",
    "# Label Creation\n",
    "lbl = tk.Label(frame, text = \"\")\n",
    "lbl.pack()\n",
    "frame.mainloop()\n",
    "\n"
   ]
  },
  {
   "cell_type": "markdown",
   "metadata": {},
   "source": [
    "# Learners Comment\n",
    "\n",
    "Have entered alpha numeric text and observed that it converted to speech and delivered through an external speaker !!\n",
    "\n"
   ]
  },
  {
   "cell_type": "markdown",
   "metadata": {},
   "source": [
    "# End Of Practice Project"
   ]
  }
 ],
 "metadata": {
  "kernelspec": {
   "display_name": "Python 3",
   "language": "python",
   "name": "python3"
  },
  "language_info": {
   "codemirror_mode": {
    "name": "ipython",
    "version": 3
   },
   "file_extension": ".py",
   "mimetype": "text/x-python",
   "name": "python",
   "nbconvert_exporter": "python",
   "pygments_lexer": "ipython3",
   "version": "3.8.3"
  }
 },
 "nbformat": 4,
 "nbformat_minor": 4
}
