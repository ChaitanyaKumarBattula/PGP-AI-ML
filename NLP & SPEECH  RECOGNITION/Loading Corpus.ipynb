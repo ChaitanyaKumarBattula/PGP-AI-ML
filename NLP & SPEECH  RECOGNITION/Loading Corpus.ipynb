{
 "cells": [
  {
   "cell_type": "markdown",
   "metadata": {},
   "source": [
    "# COURSE:   PGP [AI&ML]\n",
    "\n",
    "## Learner :  Chaitanya Kumar Battula\n",
    "## Module  : NLP\n",
    "## Topic   : NLP_Loading Corpus"
   ]
  },
  {
   "cell_type": "code",
   "execution_count": 1,
   "metadata": {},
   "outputs": [
    {
     "name": "stdout",
     "output_type": "stream",
     "text": [
      "*** Introductory Examples for the NLTK Book ***\n",
      "Loading text1, ..., text9 and sent1, ..., sent9\n",
      "Type the name of the text or sentence to view it.\n",
      "Type: 'texts()' or 'sents()' to list the materials.\n",
      "text1: Moby Dick by Herman Melville 1851\n",
      "text2: Sense and Sensibility by Jane Austen 1811\n",
      "text3: The Book of Genesis\n",
      "text4: Inaugural Address Corpus\n",
      "text5: Chat Corpus\n",
      "text6: Monty Python and the Holy Grail\n",
      "text7: Wall Street Journal\n",
      "text8: Personals Corpus\n",
      "text9: The Man Who Was Thursday by G . K . Chesterton 1908\n"
     ]
    }
   ],
   "source": [
    "from nltk.book import *"
   ]
  },
  {
   "cell_type": "code",
   "execution_count": 4,
   "metadata": {},
   "outputs": [
    {
     "name": "stdout",
     "output_type": "stream",
     "text": [
      "['just', 'setting', 'up', 'my', 'twttr', 'tm', 'help', 'Wondering', 'if', 'I', 'should', 'quit', 'work', 'and', 'become', 'a', 'monk', 'who', 'secretly', 'writes', 'serial', 'murder', 'thriller', 'novels.', 'Going', 'to', 'bed.', 'gary', 'coleman', 'sighting', 'by', 'Zoom.', 'The', 'rumors', 'were', 'true', 'Festmob.', 'In', 'The', 'Signal', 'premiere.', 'Lotsa', 'buyers.', 'Good', 'luck', 'gang', 'listening', 'to', 'the', 'pocast', 'net@nite', 'while', 'setting', 'up', 'twitter', 'watching', 'windows', '386', 'promo', 'video,', 'lol', 'getting', 'ready', 'for', 'work', 'going', 'to', 'work', 'in', 'vista', 'training,', 'this', 'is', 'boring', 'just', 'came', 'back', 'from', 'supper,', 'now', 'to', 'go', 'back', 'to', 'boring', 'vista', 'training', 'just', 'finished', 'my', 'last', 'break', 'now', 'for', 'an', 'office', '2007', 'module', 'i', 'have']\n"
     ]
    }
   ],
   "source": [
    "filename = 'tweets1.txt'\n",
    "file = open(filename, 'rt')\n",
    "text = file.read()\n",
    "file.close()\n",
    "\n",
    "# split into words by white space\n",
    "words = text.split()\n",
    "print(words[:100])"
   ]
  },
  {
   "cell_type": "code",
   "execution_count": 5,
   "metadata": {},
   "outputs": [
    {
     "name": "stdout",
     "output_type": "stream",
     "text": [
      "Displaying 4 of 4 matches:\n",
      "shed my last break now for an office 2007 module i have to get up in 6 hours t\n",
      "tch some z's just finished an office 2007 test and got 100% i am in vista trai\n",
      "and am now, predictably, irate. It's 2007 & 9/10 of \"world's next top models\" \n",
      "Armin Van Buuren's A State of Trance 2007 Year Mix .. some fine trance music I\n"
     ]
    }
   ],
   "source": [
    "abstracts = nltk.Text(words)\n",
    "abstracts.concordance('2007')"
   ]
  },
  {
   "cell_type": "code",
   "execution_count": null,
   "metadata": {},
   "outputs": [],
   "source": []
  },
  {
   "cell_type": "code",
   "execution_count": null,
   "metadata": {},
   "outputs": [],
   "source": []
  },
  {
   "cell_type": "code",
   "execution_count": null,
   "metadata": {},
   "outputs": [],
   "source": []
  },
  {
   "cell_type": "code",
   "execution_count": null,
   "metadata": {},
   "outputs": [],
   "source": []
  },
  {
   "cell_type": "code",
   "execution_count": null,
   "metadata": {},
   "outputs": [],
   "source": []
  },
  {
   "cell_type": "code",
   "execution_count": null,
   "metadata": {},
   "outputs": [],
   "source": []
  },
  {
   "cell_type": "code",
   "execution_count": null,
   "metadata": {},
   "outputs": [],
   "source": []
  }
 ],
 "metadata": {
  "kernelspec": {
   "display_name": "Python 3",
   "language": "python",
   "name": "python3"
  },
  "language_info": {
   "codemirror_mode": {
    "name": "ipython",
    "version": 3
   },
   "file_extension": ".py",
   "mimetype": "text/x-python",
   "name": "python",
   "nbconvert_exporter": "python",
   "pygments_lexer": "ipython3",
   "version": "3.8.3"
  }
 },
 "nbformat": 4,
 "nbformat_minor": 4
}
