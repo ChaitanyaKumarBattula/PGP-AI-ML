{
 "cells": [
  {
   "cell_type": "markdown",
   "metadata": {},
   "source": [
    "# COURSE:   PGP [AI&ML]\n",
    "\n",
    "## Learner :  Chaitanya Kumar Battula\n",
    "## Module  : NLP\n",
    "## Topic   : Create Your Own Spell Checker-1."
   ]
  },
  {
   "cell_type": "code",
   "execution_count": 7,
   "metadata": {},
   "outputs": [],
   "source": [
    "import spacy"
   ]
  },
  {
   "cell_type": "code",
   "execution_count": 11,
   "metadata": {},
   "outputs": [],
   "source": [
    "from spacy.lang.en import English"
   ]
  },
  {
   "cell_type": "code",
   "execution_count": 12,
   "metadata": {},
   "outputs": [],
   "source": [
    "nlp = English()"
   ]
  },
  {
   "cell_type": "code",
   "execution_count": 13,
   "metadata": {},
   "outputs": [],
   "source": [
    "text = \"\"\"Simplilearn and IBM announced a partnership to introduce four master’s programs in the fields of \n",
    "Artificial Intelligence and Data Science. Through this collaboration, professionals can access live virtual classrooms \n",
    "and self-paced video courses that combine Simplilearn’s seamless training experience and world-class instructors with IBM’s \n",
    "state-of-the-art labs and AI and data science course content\"\"\""
   ]
  },
  {
   "cell_type": "code",
   "execution_count": 14,
   "metadata": {},
   "outputs": [],
   "source": [
    "my_doc = nlp(text)"
   ]
  },
  {
   "cell_type": "code",
   "execution_count": 15,
   "metadata": {},
   "outputs": [
    {
     "name": "stdout",
     "output_type": "stream",
     "text": [
      "['Simplilearn', 'and', 'IBM', 'announced', 'a', 'partnership', 'to', 'introduce', 'four', 'master', '’s', 'programs', 'in', 'the', 'fields', 'of', '\\n', 'Artificial', 'Intelligence', 'and', 'Data', 'Science', '.', 'Through', 'this', 'collaboration', ',', 'professionals', 'can', 'access', 'live', 'virtual', 'classrooms', '\\n', 'and', 'self', '-', 'paced', 'video', 'courses', 'that', 'combine', 'Simplilearn', '’s', 'seamless', 'training', 'experience', 'and', 'world', '-', 'class', 'instructors', 'with', 'IBM', '’s', '\\n', 'state', '-', 'of', '-', 'the', '-', 'art', 'labs', 'and', 'AI', 'and', 'data', 'science', 'course', 'content']\n"
     ]
    }
   ],
   "source": [
    "token_list = []\n",
    "for token in my_doc:\n",
    "    token_list.append(token.text)\n",
    "print(token_list)"
   ]
  },
  {
   "cell_type": "code",
   "execution_count": 21,
   "metadata": {},
   "outputs": [],
   "source": [
    "sbd = nlp.create_pipe('sentencizer')"
   ]
  },
  {
   "cell_type": "code",
   "execution_count": 17,
   "metadata": {},
   "outputs": [],
   "source": [
    "nlp.add_pipe(sbd)"
   ]
  },
  {
   "cell_type": "code",
   "execution_count": 18,
   "metadata": {},
   "outputs": [],
   "source": [
    "doc = nlp(text)"
   ]
  },
  {
   "cell_type": "code",
   "execution_count": 19,
   "metadata": {},
   "outputs": [
    {
     "name": "stdout",
     "output_type": "stream",
     "text": [
      "['Simplilearn and IBM announced a partnership to introduce four master’s programs in the fields of \\nArtificial Intelligence and Data Science.', 'Through this collaboration, professionals can access live virtual classrooms \\nand self-paced video courses that combine Simplilearn’s seamless training experience and world-class instructors with IBM’s \\nstate-of-the-art labs and AI and data science course content']\n"
     ]
    }
   ],
   "source": [
    "sents_list = []\n",
    "for sent in doc.sents:\n",
    "    sents_list.append(sent.text)\n",
    "print(sents_list)"
   ]
  },
  {
   "cell_type": "code",
   "execution_count": 22,
   "metadata": {},
   "outputs": [],
   "source": [
    "spacy_stopwords = spacy.lang.en.stop_words.STOP_WORDS"
   ]
  },
  {
   "cell_type": "code",
   "execution_count": 23,
   "metadata": {},
   "outputs": [],
   "source": [
    "filtered_sent=[]"
   ]
  },
  {
   "cell_type": "code",
   "execution_count": 24,
   "metadata": {},
   "outputs": [],
   "source": [
    "doc = nlp(text)"
   ]
  },
  {
   "cell_type": "code",
   "execution_count": 25,
   "metadata": {},
   "outputs": [
    {
     "name": "stdout",
     "output_type": "stream",
     "text": [
      "Filtered Sentence: [Simplilearn, IBM, announced, partnership, introduce, master, programs, fields, \n",
      ", Artificial, Intelligence, Data, Science, ., collaboration, ,, professionals, access, live, virtual, classrooms, \n",
      ", self, -, paced, video, courses, combine, Simplilearn, seamless, training, experience, world, -, class, instructors, IBM, \n",
      ", state, -, -, -, art, labs, AI, data, science, course, content]\n"
     ]
    }
   ],
   "source": [
    "for word in doc:\n",
    "    if word.is_stop==False:\n",
    "        filtered_sent.append(word)\n",
    "print(\"Filtered Sentence:\",filtered_sent)"
   ]
  },
  {
   "cell_type": "code",
   "execution_count": 26,
   "metadata": {},
   "outputs": [],
   "source": [
    "import en_core_web_sm"
   ]
  },
  {
   "cell_type": "code",
   "execution_count": 27,
   "metadata": {},
   "outputs": [],
   "source": [
    "nlp = en_core_web_sm.load()"
   ]
  },
  {
   "cell_type": "code",
   "execution_count": 31,
   "metadata": {},
   "outputs": [],
   "source": [
    "docs = nlp(text)"
   ]
  },
  {
   "cell_type": "code",
   "execution_count": 32,
   "metadata": {},
   "outputs": [
    {
     "name": "stdout",
     "output_type": "stream",
     "text": [
      "Simplilearn PROPN\n",
      "and CCONJ\n",
      "IBM PROPN\n",
      "announced VERB\n",
      "a DET\n",
      "partnership NOUN\n",
      "to PART\n",
      "introduce VERB\n",
      "four NUM\n",
      "master NOUN\n",
      "’s PROPN\n",
      "programs NOUN\n",
      "in ADP\n",
      "the DET\n",
      "fields NOUN\n",
      "of ADP\n",
      "\n",
      " SPACE\n",
      "Artificial PROPN\n",
      "Intelligence PROPN\n",
      "and CCONJ\n",
      "Data PROPN\n",
      "Science PROPN\n",
      ". PUNCT\n",
      "Through ADP\n",
      "this DET\n",
      "collaboration NOUN\n",
      ", PUNCT\n",
      "professionals NOUN\n",
      "can VERB\n",
      "access VERB\n",
      "live ADJ\n",
      "virtual ADJ\n",
      "classrooms NOUN\n",
      "\n",
      " SPACE\n",
      "and CCONJ\n",
      "self NOUN\n",
      "- PUNCT\n",
      "paced VERB\n",
      "video NOUN\n",
      "courses NOUN\n",
      "that DET\n",
      "combine VERB\n",
      "Simplilearn PROPN\n",
      "’s PROPN\n",
      "seamless ADJ\n",
      "training NOUN\n",
      "experience NOUN\n",
      "and CCONJ\n",
      "world NOUN\n",
      "- PUNCT\n",
      "class NOUN\n",
      "instructors NOUN\n",
      "with ADP\n",
      "IBM PROPN\n",
      "’s PROPN\n",
      "\n",
      " SPACE\n",
      "state NOUN\n",
      "- PUNCT\n",
      "of ADP\n",
      "- PUNCT\n",
      "the DET\n",
      "- PUNCT\n",
      "art NOUN\n",
      "labs NOUN\n",
      "and CCONJ\n",
      "AI PROPN\n",
      "and CCONJ\n",
      "data NOUN\n",
      "science NOUN\n",
      "course NOUN\n",
      "content NOUN\n"
     ]
    }
   ],
   "source": [
    "for word in docs:\n",
    "    print(word.text,word.pos_)"
   ]
  },
  {
   "cell_type": "markdown",
   "metadata": {},
   "source": [
    "# End Of  Practice Project"
   ]
  }
 ],
 "metadata": {
  "kernelspec": {
   "display_name": "Python 3",
   "language": "python",
   "name": "python3"
  },
  "language_info": {
   "codemirror_mode": {
    "name": "ipython",
    "version": 3
   },
   "file_extension": ".py",
   "mimetype": "text/x-python",
   "name": "python",
   "nbconvert_exporter": "python",
   "pygments_lexer": "ipython3",
   "version": "3.8.3"
  }
 },
 "nbformat": 4,
 "nbformat_minor": 2
}
