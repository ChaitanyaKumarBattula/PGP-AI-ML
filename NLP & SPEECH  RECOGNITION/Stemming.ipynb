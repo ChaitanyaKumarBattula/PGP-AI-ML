{
 "cells": [
  {
   "cell_type": "markdown",
   "metadata": {},
   "source": [
    "# COURSE:   PGP [AI&ML]\n",
    "\n",
    "## Learner :  Chaitanya Kumar Battula\n",
    "## Module  : NLP\n",
    "## Topic   : Stemming"
   ]
  },
  {
   "cell_type": "code",
   "execution_count": 14,
   "metadata": {},
   "outputs": [],
   "source": [
    "# Step 1:\n",
    "# import nltk Library\n",
    "import nltk\n",
    "\n",
    "from nltk.tokenize import word_tokenize\n",
    "from nltk.tokenize import sent_tokenize\n",
    "from nltk.stem import WordNetLemmatizer\n",
    "from nltk.corpus import stopwords\n",
    "import re, string\n"
   ]
  },
  {
   "cell_type": "code",
   "execution_count": 15,
   "metadata": {},
   "outputs": [],
   "source": [
    "# Step 2: Split into Sentences => \n",
    "\n",
    "\n",
    "# load data\n",
    "\n",
    "filename ='FP.txt'\n",
    "\n",
    "file = open(filename, 'rt')\n",
    "\n",
    "text = file.read()\n",
    "\n",
    "file.close()"
   ]
  },
  {
   "cell_type": "code",
   "execution_count": 10,
   "metadata": {},
   "outputs": [
    {
     "data": {
      "text/plain": [
       "'ï»¿This is financial Report of 2019-2020\\n\\n\\n\\nThe share of large borrowers in Indian banksâ€™ total loan portfolios stood at 53% as on March 2019\\n\\nThe gross non-performing assets (NPAs) as a percentage of total loans stood at 9.3% as on March 2019\\n\\nMumbai: Indian banks continue to see an improvement in asset quality with bad loans as a percentage of total loans expected to fall to 9% by March 2020, according to the Financial Stability Report released by the Reserve Bank of India (RBI) on Thursday.\\n\\nThe gross non-performing assets (NPAs) as a percentage of total loans stood at 9.3% as on March 2019.\\n\\nAccording to the bi-annual report, stress tests done on public sector banks (PSBs) revealed that gross non-performing ratio may decline to 12% by March 2020 from 12.6% in March 2019. Private sector banks too could see a fall in gross NPAs to 3.2% from 3.7% during the same period.\\n\\nThese stress tests for credit risk were done to test the resilience of Indian banks against macroeconomic shocks. It encompassed a baseline and two (medium and severe) adverse macroeconomic risk scenarios.\\n\\nUnder the baseline scenario, the capital adequacy for banks is expected to come down to 12.9% in March 2020 from 14% in March 2019.\\n\\n\\n\\nâ€œAs many as five SCBs may have CRAR below the minimum regulatory level of 9% by March 2020 without taking into account any further planned recapitalisation by the government. If macroeconomic conditions deteriorate, nine SCBs may record CRAR below 9% under a severe macro-stress scenario,\" said the report.\\n\\nThe stress test on banksâ€™ credit concentration showed that eight banks, accounting for 14.6% of the total assets, could be affected if top three individual borrowers failed to repay under an extreme scenario. The share of large borrowers in banksâ€™ total loan portfolios and their share in gross NPAs stood at 53% and 82.2%, respectively as on March 2019.\\n\\nâ€œEfforts to improve the balance sheets of banks should therefor continue. Among others, there should be special focus on governance reforms in banks. As far as PSBs are concerned, the proof of the pudding lies in the PSBsâ€™ ability to attract private capital through market discipline rather than being overly dependent on the government for capital,\" said Shaktikanta Das in a foreword to the report.\\n\\n\\nA recent Crisil report also showed a significant reduction in system-wide NPAs to 8% by March 2020, driven by resolution of large-ticket stressed assets and slowing pace of fresh accretion to NPAs. Public sector banks, which account for over 80% of the NPAs in the system, should see their gross NPAs climb down to 10.6% by March 2020 from a peak of 14.6% in March 2018, the report said.\\n\\n\\nFPI surcharge removal, stimulus measures likely to boost markets: Experts\\n2 min read . Updated: 25 Aug 2019, 05:41 PM IST\\nPTI\\nFinance Minister Nirmala Sitharaman on Friday announced rollback of enhanced surcharge on foreign portfolio investors levied in the Budget\\nThe Centre also announced a raft of measures to revive growth momentum, including exempting startups from \\'angel tax\\'\\n\\n\\nNew Delhi: The stock markets may see a relief rally this week after the government removed enhanced surcharge on FPIs and also unveiled various measures to jumpstart growth, analysts said.\\n\\nGiving in to the demands of overseas investors, Finance Minister Nirmala Sitharaman on Friday announced rollback of enhanced surcharge on foreign portfolio investors levied in the Budget.\\n\\nThe Budget proposal to hike surcharge on FPIs had spooked foreign investors, who withdrew more than $3.4 billion ( â‚¹24,500 crore) from domestic equities in July and August. The massive capital outflows also put pressure on the rupee, which slumped to 72-level against the US dollar last week.\\n\\n\"Withdrawal of enhanced surcharge on FPI is a big positive for Indian markets as it could reverse the outflows seen since post Budget. It should also help INR appreciation. Overall, a good sentiment booster for the Indian economy,\" said Rusmik Oza, Head of Fundamental Research, Kotak Securities.\\n\\nThe Centre also announced a raft of measures to revive growth momentum, including exempting startups from \\'angel tax\\', a package to address distress in the auto sector and upfront infusion of â‚¹70,000 crore into public sector banks.\\n\\n\"Withdrawal of the surcharge on FPIs is a shot in the arm for the sagging market. One can now expect reversal of the FPI selling. The market is likely to look up from now on,\" VK Vijayakumar, Chief Investment Strategist, Geojit Financial Services said.\\n\\n\"However, sustained rally in the market will happen only when we have visibility on good earnings growth and reversal of the slowdown underway in the economy. This requires more reforms,\" Vijayakumar added.\\n\\nIn a bid to address slowdown in the auto sector, the government lifted ban on purchase of vehicles by government departments, and allowed additional 15 per cent depreciation on vehicles acquired from now till March 2020.\\n\\nThe revision of one-time registration fees has also been deferred till June 2020.\\n\\nThese steps are likely to prop up the automobile sector and revive demand, said Ashwin Patil, Senior Research Analyst (Auto Sector) at LKP Securities.\\n\\n\"These are just the kind of measures which were required to boost the economy. In the immediate term, we can expect the markets to bounce back on Monday with a gap up opening, and continue the rally for a few sessions to come,\" said Amit Gupta, Co-Founder and CEO of TradingBells.\\n\\nOver the last week, the BSE Sensex lost 649.17 points, or 1.74 per cent. On Friday, the benchmark rebounded 228 points ahead of the finance minister\\'s address.'"
      ]
     },
     "execution_count": 10,
     "metadata": {},
     "output_type": "execute_result"
    }
   ],
   "source": [
    "#Read Text from file\n",
    "\n",
    "\n",
    "\n",
    "filename = 'FP.txt'\n",
    "file = open(filename, 'rt')\n",
    "text = file.read()\n",
    "file.close()\n",
    "\n",
    "text"
   ]
  },
  {
   "cell_type": "code",
   "execution_count": 16,
   "metadata": {},
   "outputs": [
    {
     "name": "stdout",
     "output_type": "stream",
     "text": [
      "ï»¿This is financial Report of 2019-2020\n",
      "\n",
      "\n",
      "\n",
      "The share of large borrowers in Indian banksâ€™ total loan portfolios stood at 53% as on March 2019\n",
      "\n",
      "The gross non-performing assets (NPAs) as a percentage of total loans stood at 9.3% as on March 2019\n",
      "\n",
      "Mumbai: Indian banks continue to see an improvement in asset quality with bad loans as a percentage of total loans expected to fall to 9% by March 2020, according to the Financial Stability Report released by the Reserve Bank of India (RBI) on Thursday.\n"
     ]
    }
   ],
   "source": [
    "# split into sentences\n",
    "\n",
    "from nltk import sent_tokenize\n",
    "\n",
    "sentences = sent_tokenize(text)\n",
    "\n",
    "print(sentences[0]) "
   ]
  },
  {
   "cell_type": "code",
   "execution_count": 17,
   "metadata": {},
   "outputs": [
    {
     "name": "stdout",
     "output_type": "stream",
     "text": [
      "['ï', '»', '¿This', 'is', 'financial', 'Report', 'of', '2019-2020', 'The', 'share']\n"
     ]
    }
   ],
   "source": [
    "# Step 3: Split into Words=>  NLTK provides a function called word_tokenize() for splitting strings into tokens (nominally words).\n",
    "# split into words\n",
    "\n",
    "from nltk.tokenize import word_tokenize\n",
    "\n",
    "tokens = word_tokenize(text)\n",
    "\n",
    "print(tokens[:10])"
   ]
  },
  {
   "cell_type": "code",
   "execution_count": 18,
   "metadata": {},
   "outputs": [
    {
     "name": "stdout",
     "output_type": "stream",
     "text": [
      "['ï', 'is', 'financial', 'Report', 'of', 'The', 'share', 'of', 'large', 'borrowers']\n"
     ]
    }
   ],
   "source": [
    "# Step 4: Filter Out Punctuation:\n",
    "# remove all tokens that are not alphabetic\n",
    "\n",
    "words = [word for word in tokens if word.isalpha()]\n",
    "\n",
    "print(words[:10])"
   ]
  },
  {
   "cell_type": "code",
   "execution_count": 19,
   "metadata": {},
   "outputs": [
    {
     "name": "stdout",
     "output_type": "stream",
     "text": [
      "['i', 'me', 'my', 'myself', 'we', 'our', 'ours', 'ourselves', 'you', \"you're\", \"you've\", \"you'll\", \"you'd\", 'your', 'yours', 'yourself', 'yourselves', 'he', 'him', 'his', 'himself', 'she', \"she's\", 'her', 'hers', 'herself', 'it', \"it's\", 'its', 'itself', 'they', 'them', 'their', 'theirs', 'themselves', 'what', 'which', 'who', 'whom', 'this', 'that', \"that'll\", 'these', 'those', 'am', 'is', 'are', 'was', 'were', 'be', 'been', 'being', 'have', 'has', 'had', 'having', 'do', 'does', 'did', 'doing', 'a', 'an', 'the', 'and', 'but', 'if', 'or', 'because', 'as', 'until', 'while', 'of', 'at', 'by', 'for', 'with', 'about', 'against', 'between', 'into', 'through', 'during', 'before', 'after', 'above', 'below', 'to', 'from', 'up', 'down', 'in', 'out', 'on', 'off', 'over', 'under', 'again', 'further', 'then', 'once', 'here', 'there', 'when', 'where', 'why', 'how', 'all', 'any', 'both', 'each', 'few', 'more', 'most', 'other', 'some', 'such', 'no', 'nor', 'not', 'only', 'own', 'same', 'so', 'than', 'too', 'very', 's', 't', 'can', 'will', 'just', 'don', \"don't\", 'should', \"should've\", 'now', 'd', 'll', 'm', 'o', 're', 've', 'y', 'ain', 'aren', \"aren't\", 'couldn', \"couldn't\", 'didn', \"didn't\", 'doesn', \"doesn't\", 'hadn', \"hadn't\", 'hasn', \"hasn't\", 'haven', \"haven't\", 'isn', \"isn't\", 'ma', 'mightn', \"mightn't\", 'mustn', \"mustn't\", 'needn', \"needn't\", 'shan', \"shan't\", 'shouldn', \"shouldn't\", 'wasn', \"wasn't\", 'weren', \"weren't\", 'won', \"won't\", 'wouldn', \"wouldn't\"]\n"
     ]
    }
   ],
   "source": [
    "# Step 5: Filter out Stop Words (and Pipeline): \n",
    "\n",
    "from nltk.corpus import stopwords\n",
    "\n",
    "stop_words = stopwords.words('english')\n",
    "\n",
    "print(stop_words)"
   ]
  },
  {
   "cell_type": "code",
   "execution_count": null,
   "metadata": {},
   "outputs": [],
   "source": []
  },
  {
   "cell_type": "code",
   "execution_count": 3,
   "metadata": {},
   "outputs": [
    {
     "name": "stdout",
     "output_type": "stream",
     "text": [
      "ï»¿This is financial Report of 2019-2020\n",
      "\n",
      "\n",
      "\n",
      "The share of large borrowers in Indian banksâ€™ total loan portfolios stood at 53% as on March 2019\n",
      "\n",
      "The gross non-performing assets (NPAs) as a percentage of total loans stood at 9.3% as on March 2019\n",
      "\n",
      "Mumbai: Indian banks continue to see an improvement in asset quality with bad loans as a percentage of total loans expected to fall to 9% by March 2020, according to the Financial Stability Report released by the Reserve Bank of India (RBI) on Thursday.\n"
     ]
    }
   ],
   "source": [
    "# split into sentences\n",
    "\n",
    "sentences = sent_tokenize(text)\n",
    "\n",
    "print(sentences[0]) "
   ]
  },
  {
   "cell_type": "code",
   "execution_count": 11,
   "metadata": {},
   "outputs": [
    {
     "name": "stdout",
     "output_type": "stream",
     "text": [
      "['ï', '»', '¿This', 'is', 'financial', 'Report', 'of', '2019-2020', 'The', 'share']\n"
     ]
    }
   ],
   "source": [
    "# split into words\n",
    "\n",
    "tokens = word_tokenize(text)\n",
    "print(tokens[:10])"
   ]
  },
  {
   "cell_type": "code",
   "execution_count": 20,
   "metadata": {},
   "outputs": [
    {
     "name": "stdout",
     "output_type": "stream",
     "text": [
      "['ï', 'is', 'financial', 'Report', 'of', 'The', 'share', 'of', 'large', 'borrowers', 'in', 'Indian', 'total', 'loan', 'portfolios', 'stood', 'at', 'as', 'on', 'March', 'The', 'gross', 'assets', 'NPAs', 'as', 'a', 'percentage', 'of', 'total', 'loans', 'stood', 'at', 'as', 'on', 'March', 'Mumbai', 'Indian', 'banks', 'continue', 'to', 'see', 'an', 'improvement', 'in', 'asset', 'quality', 'with', 'bad', 'loans', 'as', 'a', 'percentage', 'of', 'total', 'loans', 'expected', 'to', 'fall', 'to', 'by', 'March', 'according', 'to', 'the', 'Financial', 'Stability', 'Report', 'released', 'by', 'the', 'Reserve', 'Bank', 'of', 'India', 'RBI', 'on', 'Thursday', 'The', 'gross', 'assets', 'NPAs', 'as', 'a', 'percentage', 'of', 'total', 'loans', 'stood', 'at', 'as', 'on', 'March', 'According', 'to', 'the', 'report', 'stress', 'tests', 'done', 'on']\n"
     ]
    }
   ],
   "source": [
    "# remove all tokens that are not alphabetic\n",
    "\n",
    "Only_Alphabetic_words = [word for word in tokens if word.isalpha()]\n",
    "print(Only_Alphabetic_words[:100])"
   ]
  },
  {
   "cell_type": "code",
   "execution_count": 21,
   "metadata": {},
   "outputs": [
    {
     "name": "stdout",
     "output_type": "stream",
     "text": [
      "['i', 'me', 'my', 'myself', 'we', 'our', 'ours', 'ourselves', 'you', \"you're\", \"you've\", \"you'll\", \"you'd\", 'your', 'yours', 'yourself', 'yourselves', 'he', 'him', 'his', 'himself', 'she', \"she's\", 'her', 'hers', 'herself', 'it', \"it's\", 'its', 'itself', 'they', 'them', 'their', 'theirs', 'themselves', 'what', 'which', 'who', 'whom', 'this', 'that', \"that'll\", 'these', 'those', 'am', 'is', 'are', 'was', 'were', 'be', 'been', 'being', 'have', 'has', 'had', 'having', 'do', 'does', 'did', 'doing', 'a', 'an', 'the', 'and', 'but', 'if', 'or', 'because', 'as', 'until', 'while', 'of', 'at', 'by', 'for', 'with', 'about', 'against', 'between', 'into', 'through', 'during', 'before', 'after', 'above', 'below', 'to', 'from', 'up', 'down', 'in', 'out', 'on', 'off', 'over', 'under', 'again', 'further', 'then', 'once', 'here', 'there', 'when', 'where', 'why', 'how', 'all', 'any', 'both', 'each', 'few', 'more', 'most', 'other', 'some', 'such', 'no', 'nor', 'not', 'only', 'own', 'same', 'so', 'than', 'too', 'very', 's', 't', 'can', 'will', 'just', 'don', \"don't\", 'should', \"should've\", 'now', 'd', 'll', 'm', 'o', 're', 've', 'y', 'ain', 'aren', \"aren't\", 'couldn', \"couldn't\", 'didn', \"didn't\", 'doesn', \"doesn't\", 'hadn', \"hadn't\", 'hasn', \"hasn't\", 'haven', \"haven't\", 'isn', \"isn't\", 'ma', 'mightn', \"mightn't\", 'mustn', \"mustn't\", 'needn', \"needn't\", 'shan', \"shan't\", 'shouldn', \"shouldn't\", 'wasn', \"wasn't\", 'weren', \"weren't\", 'won', \"won't\", 'wouldn', \"wouldn't\"]\n"
     ]
    }
   ],
   "source": [
    "# Step 5: Filter out Stop Words (and Pipeline): \n",
    "stop_words = stopwords.words('english')\n",
    "\n",
    "print(stop_words)"
   ]
  },
  {
   "cell_type": "code",
   "execution_count": 25,
   "metadata": {},
   "outputs": [
    {
     "data": {
      "text/plain": [
       "['ï', 'financial', 'Report', 'The', 'share']"
      ]
     },
     "execution_count": 25,
     "metadata": {},
     "output_type": "execute_result"
    }
   ],
   "source": [
    "Without_StopWords = [Word for Word in Only_Alphabetic_words if not Word in stop_words]\n",
    "Without_StopWords[:5]"
   ]
  },
  {
   "cell_type": "code",
   "execution_count": 28,
   "metadata": {},
   "outputs": [
    {
     "name": "stdout",
     "output_type": "stream",
     "text": [
      "['ï', 'financi', 'report', 'the', 'share', 'larg', 'borrow', 'indian', 'total', 'loan', 'portfolio', 'stood', 'march', 'the', 'gross', 'asset', 'npa', 'percentag', 'total', 'loan', 'stood', 'march', 'mumbai', 'indian', 'bank', 'continu', 'see', 'improv', 'asset', 'qualiti', 'bad', 'loan', 'percentag', 'total', 'loan', 'expect', 'fall', 'march', 'accord', 'financi', 'stabil', 'report', 'releas', 'reserv', 'bank', 'india', 'rbi', 'thursday', 'the', 'gross', 'asset', 'npa', 'percentag', 'total', 'loan', 'stood', 'march', 'accord', 'report', 'stress', 'test', 'done', 'public', 'sector', 'bank', 'psb', 'reveal', 'gross', 'ratio', 'may', 'declin', 'march', 'march', 'privat', 'sector', 'bank', 'could', 'see', 'fall', 'gross', 'npa', 'period', 'these', 'stress', 'test', 'credit', 'risk', 'done', 'test', 'resili', 'indian', 'bank', 'macroeconom', 'shock', 'It', 'encompass', 'baselin', 'two', 'medium', 'sever', 'advers', 'macroeconom', 'risk', 'scenario', 'under', 'baselin', 'scenario', 'capit', 'adequaci', 'bank', 'expect', 'come', 'march', 'march', 'mani', 'five', 'scb', 'may', 'crar', 'minimum', 'regulatori', 'level', 'march', 'without', 'take', 'account', 'plan', 'recapitalis', 'govern', 'If', 'macroeconom', 'condit', 'deterior', 'nine', 'scb', 'may', 'record', 'crar', 'sever', 'scenario', 'said', 'report', 'the', 'stress', 'test', 'credit', 'concentr', 'show', 'eight', 'bank', 'account', 'total', 'asset', 'could', 'affect', 'top', 'three', 'individu', 'borrow', 'fail', 'repay', 'extrem', 'scenario', 'the', 'share', 'larg', 'borrow', 'total', 'loan', 'portfolio', 'share', 'gross', 'npa', 'stood', 'respect', 'march', 'improv', 'balanc', 'sheet', 'bank', 'therefor', 'continu', 'among', 'other', 'special', 'focu', 'govern', 'reform', 'bank', 'As', 'far', 'psb', 'concern', 'proof', 'pud', 'lie', 'abil', 'attract', 'privat', 'capit', 'market', 'disciplin', 'rather', 'overli', 'depend', 'govern', 'capit', 'said', 'shaktikanta', 'da', 'foreword', 'report', 'A', 'recent', 'crisil', 'report', 'also', 'show', 'signific', 'reduct', 'npa', 'march', 'driven', 'resolut', 'stress', 'asset', 'slow', 'pace', 'fresh', 'accret', 'npa', 'public', 'sector', 'bank', 'account', 'npa', 'system', 'see', 'gross', 'npa', 'climb', 'march', 'peak', 'march', 'report', 'said', 'fpi', 'surcharg', 'remov', 'stimulu', 'measur', 'like', 'boost', 'market', 'expert', 'min', 'read', 'updat', 'aug', 'PM', 'ist', 'pti', 'financ', 'minist', 'nirmala', 'sitharaman', 'friday', 'announc', 'rollback', 'enhanc', 'surcharg', 'foreign', 'portfolio', 'investor', 'levi', 'budget', 'the', 'centr', 'also', 'announc', 'raft', 'measur', 'reviv', 'growth', 'momentum', 'includ', 'exempt', 'startup', 'new', 'delhi', 'the', 'stock', 'market', 'may', 'see', 'relief', 'ralli', 'week', 'govern', 'remov', 'enhanc', 'surcharg', 'fpi', 'also', 'unveil', 'variou', 'measur', 'jumpstart', 'growth', 'analyst', 'said', 'give', 'demand', 'oversea', 'investor', 'financ', 'minist', 'nirmala', 'sitharaman', 'friday', 'announc', 'rollback', 'enhanc', 'surcharg', 'foreign', 'portfolio', 'investor', 'levi', 'budget', 'the', 'budget', 'propos', 'hike', 'surcharg', 'fpi', 'spook', 'foreign', 'investor', 'withdrew', 'billion', 'crore', 'domest', 'equiti', 'juli', 'august', 'the', 'massiv', 'capit', 'outflow', 'also', 'put', 'pressur', 'rupe', 'slump', 'US', 'dollar', 'last', 'week', 'withdraw', 'enhanc', 'surcharg', 'fpi', 'big', 'posit', 'indian', 'market', 'could', 'revers', 'outflow', 'seen', 'sinc', 'post', 'budget', 'It', 'also', 'help', 'inr', 'appreci', 'overal', 'good', 'sentiment', 'booster', 'indian', 'economi', 'said', 'rusmik', 'oza', 'head', 'fundament', 'research', 'kotak', 'secur', 'the', 'centr', 'also', 'announc', 'raft', 'measur', 'reviv', 'growth', 'momentum', 'includ', 'exempt', 'startup', 'tax', 'packag', 'address', 'distress', 'auto', 'sector', 'upfront', 'infus', 'crore', 'public', 'sector', 'bank', 'withdraw', 'surcharg', 'fpi', 'shot', 'arm', 'sag', 'market', 'one', 'expect', 'revers', 'fpi', 'sell', 'the', 'market', 'like', 'look', 'VK', 'vijayakumar', 'chief', 'invest', 'strategist', 'geojit', 'financi', 'servic', 'said', 'howev', 'sustain', 'ralli', 'market', 'happen', 'visibl', 'good', 'earn', 'growth', 'revers', 'slowdown', 'underway', 'economi', 'thi', 'requir', 'reform', 'vijayakumar', 'ad', 'In', 'bid', 'address', 'slowdown', 'auto', 'sector', 'govern', 'lift', 'ban', 'purchas', 'vehicl', 'govern', 'depart', 'allow', 'addit', 'per', 'cent', 'depreci', 'vehicl', 'acquir', 'till', 'march', 'the', 'revis', 'registr', 'fee', 'also', 'defer', 'till', 'june', 'these', 'step', 'like', 'prop', 'automobil', 'sector', 'reviv', 'demand', 'said', 'ashwin', 'patil', 'senior', 'research', 'analyst', 'auto', 'sector', 'lkp', 'secur', 'these', 'kind', 'measur', 'requir', 'boost', 'economi', 'In', 'immedi', 'term', 'expect', 'market', 'bounc', 'back', 'monday', 'gap', 'open', 'continu', 'ralli', 'session', 'come', 'said', 'amit', 'gupta', 'ceo', 'tradingbel', 'over', 'last', 'week', 'bse', 'sensex', 'lost', 'point', 'per', 'cent', 'On', 'friday', 'benchmark', 'rebound', 'point', 'ahead', 'financ', 'minist', 'address']\n"
     ]
    }
   ],
   "source": [
    "# Step 6: \n",
    "# stemming of words\n",
    "\n",
    "from nltk.stem.porter import PorterStemmer\n",
    "\n",
    "porter = PorterStemmer()\n",
    "\n",
    "stemmed = [porter.stem(word) for word in Without_StopWords]\n",
    "\n",
    "print(stemmed)"
   ]
  },
  {
   "cell_type": "code",
   "execution_count": null,
   "metadata": {},
   "outputs": [],
   "source": []
  },
  {
   "cell_type": "markdown",
   "metadata": {},
   "source": [
    "# End Of Practice project"
   ]
  }
 ],
 "metadata": {
  "kernelspec": {
   "display_name": "Python 3",
   "language": "python",
   "name": "python3"
  },
  "language_info": {
   "codemirror_mode": {
    "name": "ipython",
    "version": 3
   },
   "file_extension": ".py",
   "mimetype": "text/x-python",
   "name": "python",
   "nbconvert_exporter": "python",
   "pygments_lexer": "ipython3",
   "version": "3.8.3"
  }
 },
 "nbformat": 4,
 "nbformat_minor": 4
}
