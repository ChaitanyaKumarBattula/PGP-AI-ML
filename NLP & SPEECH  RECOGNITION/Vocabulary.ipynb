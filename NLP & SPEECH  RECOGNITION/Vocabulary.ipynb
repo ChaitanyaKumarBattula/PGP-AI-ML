{
 "cells": [
  {
   "cell_type": "markdown",
   "metadata": {},
   "source": [
    "# COURSE:   PGP [AI&ML]\n",
    "\n",
    "## Learner :  Chaitanya Kumar Battula\n",
    "## Module  : NLP\n",
    "## Topic   : Vocabulary"
   ]
  },
  {
   "cell_type": "code",
   "execution_count": 5,
   "metadata": {},
   "outputs": [],
   "source": [
    "# pip install vocabulary"
   ]
  },
  {
   "cell_type": "code",
   "execution_count": 6,
   "metadata": {},
   "outputs": [],
   "source": [
    "import vocabulary"
   ]
  },
  {
   "cell_type": "markdown",
   "metadata": {},
   "source": [
    "# Vocabulary: Antonym "
   ]
  },
  {
   "cell_type": "code",
   "execution_count": 7,
   "metadata": {},
   "outputs": [
    {
     "data": {
      "text/plain": [
       "'[{\"seq\": 0, \"text\": \"daughter\"}, {\"seq\": 1, \"text\": \"female child\"}, {\"seq\": 2, \"text\": \"girl\"}]'"
      ]
     },
     "execution_count": 7,
     "metadata": {},
     "output_type": "execute_result"
    }
   ],
   "source": [
    "from vocabulary.vocabulary import Vocabulary as vb\n",
    "vb.antonym(\"boy\")\n"
   ]
  },
  {
   "cell_type": "markdown",
   "metadata": {},
   "source": [
    "# Vocabulary:  Synonym"
   ]
  },
  {
   "cell_type": "code",
   "execution_count": 8,
   "metadata": {},
   "outputs": [
    {
     "data": {
      "text/plain": [
       "False"
      ]
     },
     "execution_count": 8,
     "metadata": {},
     "output_type": "execute_result"
    }
   ],
   "source": [
    "from vocabulary.vocabulary import Vocabulary as vb\n",
    "vb.synonym('girl')\n"
   ]
  },
  {
   "cell_type": "markdown",
   "metadata": {},
   "source": [
    "# Vocabulary: Part-of-Speech"
   ]
  },
  {
   "cell_type": "code",
   "execution_count": 9,
   "metadata": {},
   "outputs": [
    {
     "data": {
      "text/plain": [
       "'[{\"seq\": 0, \"text\": \"noun\", \"example\": \"A male child.\"}, {\"seq\": 1, \"text\": \"noun\", \"example\": \"A son.\"}, {\"seq\": 2, \"text\": \"noun\", \"example\": \"A man, especially a young man.\"}, {\"seq\": 3, \"text\": \"noun\", \"example\": \"A man socializing in a group of men.\"}, {\"seq\": 4, \"text\": \"noun\", \"example\": \"A male servant or employee.\"}, {\"seq\": 5, \"text\": \"interjection\", \"example\": \"Used to express mild astonishment, elation, or disgust.\"}, {\"seq\": 6, \"text\": null, \"example\": \"To treat as a boy, or as something belonging to or befitting a boy.\"}, {\"seq\": 7, \"text\": null, \"example\": \"To act or represent in the manner of a boy: in allusion to the acting by boys of women\\'s parts on the stage.\"}, {\"seq\": 8, \"text\": \"noun\", \"example\": \"In India, as far north as the Nerbudda river, a palankin-bearer. <em>Yule and Burnell</em>, Anglo-Ind. Glossary.\"}, {\"seq\": 9, \"text\": \"noun\", \"example\": \"A male child, from birth to full growth, but especially from the end of infancy to the beginning of youth: also applied to a young man, implying immaturity, want of vigor or judgment, etc.\"}, {\"seq\": 10, \"text\": \"noun\", \"example\": \"In familiar or playful use (usually in the plural), a grown man regarded as one of the younger members of a family, as an intimate friend or associate, or as having in any respect a boyish relation or character.\"}, {\"seq\": 11, \"text\": \"noun\", \"example\": \"Specifically, in the United States\\\\u2014 In the South, especially before the abolition of slavery, a negro man.\"}, {\"seq\": 12, \"text\": \"noun\", \"example\": \"An unscrupulous local politician, especially in a large city; one of the managers or subordinates of the \\\\u201cmachine\\\\u201d of a party in local politics and elections: as, a ticket not acceptable to the <em>boys.</em>\"}, {\"seq\": 13, \"text\": \"noun\", \"example\": \"A young servant; a page: as, \\\\u201c<em>boys</em>, grooms, and lackeys,\\\\u201d\"}, {\"seq\": 14, \"text\": \"noun\", \"example\": \"[Supposed by some to be \\\\u201ca corruption of Hind. <em>bhaiee</em>, a servant\\\\u201d; but the Hind. word, prop. <em>bh\\\\u0101\\\\u012b</em>, means \\\\u2018brother,\\\\u2019 and <em>boy</em> in this use is merely the E. word. Cf. <internalXref urlencoded=\\\\\"boy\\\\\">boy</internalXref>.] In India and the treaty-ports of China and Japan, etc., a native male servant, especially a personal servant; a butler or waiter, house-boy, office-boy, etc., as distinguished from a coolie or porter: in common use among foreigners.\"}, {\"seq\": 15, \"text\": \"noun\", \"example\": \"<strong>Old boy</strong>, a familiar name for the devil.\"}, {\"seq\": 16, \"text\": \"noun\", \"example\": \"<strong>Roaring boys.</strong> See <internalXref urlencoded=\\\\\"roaring\\\\\">roaring</internalXref>.\"}, {\"seq\": 17, \"text\": \"transitive verb\", \"example\": \"To act as a boy; -- in allusion to the former practice of boys acting women\\'s parts on the stage.\"}, {\"seq\": 18, \"text\": \"noun\", \"example\": \"A male child, from birth to the age of puberty; a lad; hence, a son.\"}, {\"seq\": 19, \"text\": \"noun\", \"example\": \"In various countries, a male servant, laborer, or slave of a native or inferior race; also, any man of such a race; -- considered derogatory by those so called, and now seldom used.\"}, {\"seq\": 20, \"text\": \"noun\", \"example\": \"a boy (usually a chorister) elected bishop, in old Christian sports, and invested with robes and other insignia. He practiced a kind of mimicry of the ceremonies in which the bishop usually officiated.\"}, {\"seq\": 21, \"text\": \"noun\", \"example\": \"the Devil.\"}, {\"seq\": 22, \"text\": \"noun\", \"example\": \"guineas.\"}, {\"seq\": 23, \"text\": \"noun\", \"example\": \"a popular English name of Southernwood (<spn>Artemisia abrotonum</spn>); -- called also <altname>lad\\'s love</altname>.\"}, {\"seq\": 24, \"text\": \"noun\", \"example\": \"childish amusements; anything trifling.\"}, {\"seq\": 25, \"text\": \"noun\", \"example\": \"Male servant.\"}, {\"seq\": 26, \"text\": \"interjection\", \"example\": \"Exclamation of surprise, pleasure or longing.\"}, {\"seq\": 27, \"text\": \"verb\", \"example\": \"To use the word boy to refer to someone.\"}, {\"seq\": 28, \"text\": \"verb\", \"example\": \"To act as a boy (in allusion to the former practice of boys acting women\\'s parts on the stage).\"}, {\"seq\": 29, \"text\": \"noun\", \"example\": \"a male human offspring\"}, {\"seq\": 30, \"text\": \"noun\", \"example\": \"(ethnic slur) offensive and disparaging term for Black man\"}, {\"seq\": 31, \"text\": \"noun\", \"example\": \"a friendly informal reference to a grown man\"}, {\"seq\": 32, \"text\": \"noun\", \"example\": \"a youthful male person\"}]'"
      ]
     },
     "execution_count": 9,
     "metadata": {},
     "output_type": "execute_result"
    }
   ],
   "source": [
    "from vocabulary.vocabulary import Vocabulary as vb\n",
    "vb.part_of_speech(\"boy\") "
   ]
  },
  {
   "cell_type": "markdown",
   "metadata": {},
   "source": [
    "# Vocabulary: Pronunciation"
   ]
  },
  {
   "cell_type": "code",
   "execution_count": 10,
   "metadata": {},
   "outputs": [
    {
     "data": {
      "text/plain": [
       "'[{\"seq\": 0, \"raw\": \"h\\\\u012dp\\\\u2033\\\\u0259-p\\\\u014ft\\\\u2032\\\\u0259-m\\\\u0259s\", \"rawType\": \"ahd-5\", \"id\": \"H5222100\", \"attributionText\": \"from The American Heritage\\\\u00ae Dictionary of the English Language, 5th Edition.\", \"attributionUrl\": \"https://ahdictionary.com/\"}, {\"seq\": 1, \"raw\": \"HH IH2 P AH0 P AA1 T AH0 M AH0 S\", \"rawType\": \"arpabet\", \"attributionText\": \"from The CMU Pronouncing Dictionary.\", \"attributionUrl\": \"http://www.speech.cs.cmu.edu/cgi-bin/cmudict\"}, {\"seq\": 2, \"raw\": \"/\\\\u02cch\\\\u026ap.\\\\u0259\\\\u02c8p\\\\u0252t.\\\\u0259.m\\\\u0259s/\", \"rawType\": \"IPA\", \"attributionText\": \"from Wiktionary, Creative Commons Attribution/Share-Alike License.\", \"attributionUrl\": \"http://creativecommons.org/licenses/by-sa/3.0/\"}]'"
      ]
     },
     "execution_count": 10,
     "metadata": {},
     "output_type": "execute_result"
    }
   ],
   "source": [
    "from vocabulary.vocabulary import Vocabulary as vb\n",
    "vb.pronunciation(\"hippopotamus\")"
   ]
  },
  {
   "cell_type": "markdown",
   "metadata": {},
   "source": [
    "# Vocabulary: Hyphenation\n"
   ]
  },
  {
   "cell_type": "code",
   "execution_count": 11,
   "metadata": {},
   "outputs": [
    {
     "name": "stdout",
     "output_type": "stream",
     "text": [
      "Help on function translate in module vocabulary.vocabulary:\n",
      "\n",
      "translate(phrase, source_lang, dest_lang, format='json')\n",
      "    Gets the translations for a given word, and returns possibilites as a list\n",
      "    Calls the glosbe API for getting the translation\n",
      "    \n",
      "    <source_lang> and <dest_lang> languages should be specifed in 3-letter ISO 639-3 format,\n",
      "    although many 2-letter codes (en, de, fr) will work.\n",
      "    \n",
      "    See http://en.wikipedia.org/wiki/List_of_ISO_639-3_codes for full list.\n",
      "    \n",
      "    :param phrase:  word for which translation is being found\n",
      "    :param source_lang: Translation from language\n",
      "    :param dest_lang: Translation to language\n",
      "    :param format: response structure type. Defaults to: \"json\"\n",
      "    :returns: returns a json object as str, False if invalid phrase\n",
      "\n"
     ]
    }
   ],
   "source": [
    "from vocabulary.vocabulary import Vocabulary as vb\n",
    "help(vb.translate)"
   ]
  },
  {
   "cell_type": "code",
   "execution_count": null,
   "metadata": {},
   "outputs": [],
   "source": []
  },
  {
   "cell_type": "code",
   "execution_count": null,
   "metadata": {},
   "outputs": [],
   "source": []
  },
  {
   "cell_type": "code",
   "execution_count": null,
   "metadata": {},
   "outputs": [],
   "source": []
  },
  {
   "cell_type": "code",
   "execution_count": null,
   "metadata": {},
   "outputs": [],
   "source": []
  },
  {
   "cell_type": "code",
   "execution_count": 3,
   "metadata": {},
   "outputs": [
    {
     "data": {
      "text/plain": [
       "[1, 2, [2, 3], [4, 5]]"
      ]
     },
     "execution_count": 3,
     "metadata": {},
     "output_type": "execute_result"
    }
   ],
   "source": [
    "a =[1,2]\n",
    "b=[[2,3],[4,5]]\n",
    "a.extend(b)\n",
    "a"
   ]
  },
  {
   "cell_type": "code",
   "execution_count": 4,
   "metadata": {},
   "outputs": [
    {
     "name": "stdout",
     "output_type": "stream",
     "text": [
      "Original List: [[1, 2, 3], [4, 5, 6], [7, 8, 9]]\n",
      "Flattened List: [1, 2, 3, 4, 5, 6, 7, 8, 9]\n"
     ]
    }
   ],
   "source": [
    "import functools\n",
    "import operator\n",
    "\n",
    "List_2D = [[1,2,3],[4,5,6],[7,8,9]] #List to be flattened\n",
    "\n",
    "List_flat = functools.reduce(operator.iconcat, List_2D, [])\n",
    "\n",
    "print(\"Original List:\",List_2D)\n",
    "print(\"Flattened List:\",List_flat)"
   ]
  },
  {
   "cell_type": "code",
   "execution_count": 1,
   "metadata": {},
   "outputs": [
    {
     "name": "stdout",
     "output_type": "stream",
     "text": [
      "['Jon', 'Smith', 21, 'Mark', 'Brown', 38, 'Maria', 'Lee', 42, 'Jill', 'Jones', 28, 'Jack', 'Ford', 55]\n"
     ]
    }
   ],
   "source": [
    "people_list = [['Jon','Smith',21],['Mark','Brown',38],['Maria','Lee',42],['Jill','Jones',28],['Jack','Ford',55]]\n",
    "flat_people_list = [i for x in people_list for i in x]\n",
    "print(flat_people_list)"
   ]
  },
  {
   "cell_type": "code",
   "execution_count": 6,
   "metadata": {},
   "outputs": [
    {
     "name": "stdout",
     "output_type": "stream",
     "text": [
      "Original List: [[1, 2, 3], [4, 5, 6], [7, 8, 9], [[1, 2, 3], [4, 5, 6]]]\n",
      "Flattened List: [1, 2, 3, 4, 5, 6, 7, 8, 9, [1, 2, 3], [4, 5, 6]]\n"
     ]
    }
   ],
   "source": [
    "import itertools\n",
    "\n",
    "List_2D = [[1,2,3],[4,5,6],[7,8,9], [[1, 2, 3], [4, 5, 6]]] #List to be flattened\n",
    "\n",
    "List_flat = list(itertools.chain(*List_2D))\n",
    "\n",
    "print(\"Original List:\",List_2D)\n",
    "print(\"Flattened List:\",List_flat)"
   ]
  },
  {
   "cell_type": "code",
   "execution_count": 7,
   "metadata": {},
   "outputs": [
    {
     "name": "stdout",
     "output_type": "stream",
     "text": [
      "[1, 2, 3, 4, 5, 6, 7, 8, 9]\n"
     ]
    }
   ],
   "source": [
    "# initializing the data and empty list\n",
    "data = [1, [2, 3, [4, 5]], 6, [[7], [8, 9]]]\n",
    "flat_list = []\n",
    "\n",
    "# function\n",
    "def flatten_list(data):\n",
    "    # iterating over the data\n",
    "    for element in data:\n",
    "        # checking for list\n",
    "        if type(element) == list:\n",
    "            # calling the same function with current element as new argument\n",
    "            flatten_list(element)\n",
    "        else:\n",
    "            flat_list.append(element)\n",
    "\n",
    "# flattening the given list\n",
    "flatten_list(data)\n",
    "\n",
    "# printing the flat_list\n",
    "print(flat_list)"
   ]
  }
 ],
 "metadata": {
  "kernelspec": {
   "display_name": "Python 3",
   "language": "python",
   "name": "python3"
  },
  "language_info": {
   "codemirror_mode": {
    "name": "ipython",
    "version": 3
   },
   "file_extension": ".py",
   "mimetype": "text/x-python",
   "name": "python",
   "nbconvert_exporter": "python",
   "pygments_lexer": "ipython3",
   "version": "3.8.3"
  }
 },
 "nbformat": 4,
 "nbformat_minor": 4
}
