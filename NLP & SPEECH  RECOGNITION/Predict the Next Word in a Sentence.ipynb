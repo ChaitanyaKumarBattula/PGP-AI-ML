{
 "cells": [
  {
   "cell_type": "markdown",
   "metadata": {},
   "source": [
    "# COURSE:   PGP [AI&ML]\n",
    "\n",
    "## Learner :  Chaitanya Kumar Battula\n",
    "## Module  : NLP\n",
    "## Topic   : To Predict the Next Word in a Sentence"
   ]
  },
  {
   "cell_type": "markdown",
   "metadata": {
    "colab_type": "text",
    "id": "y330N1NWesuf"
   },
   "source": [
    "### <b> Problem Statement: </b>\n",
    "Create an algorithm that can shift through ngrams to predict which word will most likely be typed next."
   ]
  },
  {
   "cell_type": "markdown",
   "metadata": {
    "colab_type": "text",
    "id": "3pDEa9CFfSch"
   },
   "source": [
    "### <b>Objective:</b>\n",
    "Take a word and predict the next word using bi-gram. Take the word as 'the' from the corpus to predict next word.\n",
    "\n",
    "### <b>Corpus:</b>\n",
    "\"the cat is red the cat is green the cat is blue the dog is brown"
   ]
  },
  {
   "cell_type": "code",
   "execution_count": null,
   "metadata": {
    "colab": {},
    "colab_type": "code",
    "id": "QHj-DVIEerEb"
   },
   "outputs": [],
   "source": [
    "from collections import defaultdict"
   ]
  },
  {
   "cell_type": "code",
   "execution_count": null,
   "metadata": {
    "colab": {},
    "colab_type": "code",
    "id": "_9ta7Jl0dZYM"
   },
   "outputs": [],
   "source": [
    "corpus = \"the cat is red the cat is green the cat is blue the dog is brown\""
   ]
  },
  {
   "cell_type": "code",
   "execution_count": null,
   "metadata": {
    "colab": {},
    "colab_type": "code",
    "id": "uoDbpcIHdbZ-"
   },
   "outputs": [],
   "source": [
    "tokens = corpus.split()"
   ]
  },
  {
   "cell_type": "markdown",
   "metadata": {
    "colab_type": "text",
    "id": "jE_sjdmndxRN"
   },
   "source": [
    "### Build tokens dictionary \n",
    "with next word list for each token"
   ]
  },
  {
   "cell_type": "code",
   "execution_count": 5,
   "metadata": {
    "colab": {},
    "colab_type": "code",
    "id": "EdKgArkNddaG"
   },
   "outputs": [],
   "source": [
    "previous_word = \"\"\n",
    "token_dict    = defaultdict(list)"
   ]
  },
  {
   "cell_type": "code",
   "execution_count": 6,
   "metadata": {
    "colab": {},
    "colab_type": "code",
    "id": "LFpsGAR1dvHw"
   },
   "outputs": [],
   "source": [
    "for current_word in tokens:\n",
    "    if previous_word != \"\":\n",
    "        token_dict[previous_word].append(current_word)\n",
    "        \n",
    "    previous_word = current_word"
   ]
  },
  {
   "cell_type": "code",
   "execution_count": 7,
   "metadata": {
    "colab": {
     "base_uri": "https://localhost:8080/",
     "height": 153
    },
    "colab_type": "code",
    "id": "__4ffZl9d4Re",
    "outputId": "fed1c03c-dfcf-47d0-feb5-4db076f91417"
   },
   "outputs": [
    {
     "data": {
      "text/plain": [
       "defaultdict(list,\n",
       "            {'blue': ['the'],\n",
       "             'cat': ['is', 'is', 'is'],\n",
       "             'dog': ['is'],\n",
       "             'green': ['the'],\n",
       "             'is': ['red', 'green', 'blue', 'brown'],\n",
       "             'red': ['the'],\n",
       "             'the': ['cat', 'cat', 'cat', 'dog']})"
      ]
     },
     "execution_count": 7,
     "metadata": {
      "tags": []
     },
     "output_type": "execute_result"
    }
   ],
   "source": [
    "token_dict"
   ]
  },
  {
   "cell_type": "markdown",
   "metadata": {
    "colab_type": "text",
    "id": "6iJVr94Rd_d0"
   },
   "source": [
    "#### Compute the probability of each observed next word for each word in the dictionary."
   ]
  },
  {
   "cell_type": "code",
   "execution_count": 9,
   "metadata": {
    "colab": {},
    "colab_type": "code",
    "id": "TBrV2lsid6sa"
   },
   "outputs": [],
   "source": [
    "for key in token_dict.keys():\n",
    "    \n",
    "    next_words   = token_dict[key]\n",
    "    \n",
    "    unique_words = set(next_words) # removes duplicates\n",
    "    \n",
    "    nb_words     = len(next_words)\n",
    "    \n",
    "    probabilities_token = {}\n",
    "    \n",
    "    for unique_word in unique_words:\n",
    "        probabilities_token[unique_word] = float(next_words.count(unique_word)) / nb_words\n",
    "        \n",
    "    token_dict[key] = probabilities_token"
   ]
  },
  {
   "cell_type": "code",
   "execution_count": 10,
   "metadata": {
    "colab": {
     "base_uri": "https://localhost:8080/",
     "height": 153
    },
    "colab_type": "code",
    "id": "atVpT-9-d-g-",
    "outputId": "c804f515-f150-43fe-85af-05d8d08147b0"
   },
   "outputs": [
    {
     "data": {
      "text/plain": [
       "defaultdict(list,\n",
       "            {'blue': {'the': 1.0},\n",
       "             'cat': {'is': 1.0},\n",
       "             'dog': {'is': 1.0},\n",
       "             'green': {'the': 1.0},\n",
       "             'is': {'blue': 0.25, 'brown': 0.25, 'green': 0.25, 'red': 0.25},\n",
       "             'red': {'the': 1.0},\n",
       "             'the': {'cat': 0.75, 'dog': 0.25}})"
      ]
     },
     "execution_count": 10,
     "metadata": {
      "tags": []
     },
     "output_type": "execute_result"
    }
   ],
   "source": [
    "token_dict"
   ]
  },
  {
   "cell_type": "markdown",
   "metadata": {
    "colab_type": "text",
    "id": "H-A3J-6DeY7Q"
   },
   "source": [
    "#### Predicting next word"
   ]
  },
  {
   "cell_type": "code",
   "execution_count": 12,
   "metadata": {
    "colab": {},
    "colab_type": "code",
    "id": "WyOpTjZ5eTuY"
   },
   "outputs": [],
   "source": [
    "token_ask = 'the'"
   ]
  },
  {
   "cell_type": "code",
   "execution_count": 13,
   "metadata": {
    "colab": {
     "base_uri": "https://localhost:8080/",
     "height": 51
    },
    "colab_type": "code",
    "id": "vV0V5lxOeXBF",
    "outputId": "f971b549-02ab-4cd8-eaa9-591d245343f5"
   },
   "outputs": [
    {
     "name": "stdout",
     "output_type": "stream",
     "text": [
      "{'cat': 0.75, 'dog': 0.25}\n",
      "{'cat': 0.75, 'dog': 0.25}\n"
     ]
    }
   ],
   "source": [
    "if token_ask in token_dict:\n",
    "    next_words_prob = token_dict[token_ask]\n",
    "    print(next_words_prob)\n",
    "    print({k: v for k, v in sorted(next_words_prob.items(), key=lambda item: item[1], reverse=True)})"
   ]
  },
  {
   "cell_type": "markdown",
   "metadata": {
    "colab": {},
    "colab_type": "code",
    "id": "47bm6UVXedr7"
   },
   "source": [
    "# End Of  Practice Project"
   ]
  }
 ],
 "metadata": {
  "colab": {
   "collapsed_sections": [],
   "name": "Implement n-gram to predict the next word",
   "provenance": []
  },
  "kernelspec": {
   "display_name": "Python 3",
   "language": "python",
   "name": "python3"
  },
  "language_info": {
   "codemirror_mode": {
    "name": "ipython",
    "version": 3
   },
   "file_extension": ".py",
   "mimetype": "text/x-python",
   "name": "python",
   "nbconvert_exporter": "python",
   "pygments_lexer": "ipython3",
   "version": "3.8.3"
  }
 },
 "nbformat": 4,
 "nbformat_minor": 1
}
