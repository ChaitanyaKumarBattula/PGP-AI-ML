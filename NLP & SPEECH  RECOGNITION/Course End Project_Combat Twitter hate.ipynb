{
 "cells": [
  {
   "cell_type": "markdown",
   "metadata": {},
   "source": [
    "# Tasks: \n",
    "\n",
    "## 1] Load the tweets file using read_csv function from Pandas package. \n",
    "\n",
    "\n",
    "## 2] Get the tweets into a list for easy text cleanup and manipulation.\n",
    "\n",
    "\n",
    "\n",
    "\n",
    "## 3] To cleanup: \n",
    "\n",
    "##### 3.1] Normalize the casing.\n",
    "\n",
    "##### 3.2] Using regular expressions, remove user handles. These begin with '@’.\n",
    "\n",
    "##### 3.3] Using regular expressions, remove URLs.\n",
    "\n",
    "##### 3.5] Remove stop words.\n",
    "\n",
    "##### 3.6] Remove redundant terms like ‘amp’, ‘rt’, etc.\n",
    "\n",
    "##### 3.7] Remove ‘#’ symbols from the tweet while retaining the term.\n",
    "\n",
    "\n",
    "\n",
    "\n",
    "## 4] Extra cleanup by removing terms with a length of 1.\n",
    "\n",
    "\n",
    "\n",
    "\n",
    "## 5] Check out the top terms in the tweets:\n",
    "\n",
    "##### 5.1] First, get all the tokenized terms into one large list.\n",
    "\n",
    "#####  5.2] Use the counter and find the 10 most common terms.\n",
    "\n",
    "\n",
    "\n",
    "\n",
    "## 6] Data formatting for predictive modeling:\n",
    "\n",
    "#####  6.1] Join the tokens back to form strings. This will be required for the vectorizers.\n",
    "\n",
    "#####  6.2] Assign x and y.\n",
    "\n",
    "#####  6.3] Perform train_test_split using sklearn.\n",
    "\n",
    "\n",
    "\n",
    "\n",
    "## 7] We’ll use TF-IDF values for the terms as a feature to get into a vector space model.\n",
    "\n",
    "#####  7.1] Import TF-IDF  vectorizer from sklearn.\n",
    "\n",
    "#####  7.2] Instantiate with a maximum of 5000 terms in your vocabulary.\n",
    "\n",
    "#####  7.3] Fit and apply on the train set.\n",
    "\n",
    "#####  7.4] Apply on the test set.\n",
    "\n",
    "\n",
    "\n",
    "\n",
    "## 8] Model building: Ordinary Logistic Regression\n",
    "\n",
    "#####  8.1] Instantiate Logistic Regression from sklearn with default parameters.\n",
    "\n",
    "#####  8.2] Fit into  the train data.\n",
    "\n",
    "##### 8.3] Make predictions for the train and the test set.\n",
    "\n",
    "\n",
    "\n",
    "## 9] Model evaluation: Accuracy, recall, and f_1 score.\n",
    "\n",
    "#####  9.1] Report the accuracy on the train set.\n",
    "\n",
    "#####  9.2] Report the recall on the train set: decent, high, or low.\n",
    "\n",
    "#####  9.3] Get the f1 score on the train set.\n",
    "\n",
    "\n",
    "\n",
    "##  10] Looks like you need to adjust the class imbalance, as the model seems to focus on the 0s.\n",
    "\n",
    "#####  10.1]Adjust the appropriate class in the LogisticRegression model.\n",
    "\n",
    "\n",
    "\n",
    "\n",
    "### 11] Train again with the adjustment and evaluate.\n",
    "\n",
    "##### 11.1] Train the model on the train set.\n",
    "\n",
    "#####  11.2] Evaluate the predictions on the train set: accuracy, recall, and f_1 score.\n",
    "\n",
    "\n",
    "\n",
    "\n",
    "### 12] Regularization and Hyperparameter tuning:\n",
    "\n",
    "#####  12.1] Import GridSearch and StratifiedKFold because of class imbalance.\n",
    "\n",
    "#####  12.2] Provide the parameter grid to choose for ‘C’ and ‘penalty’ parameters.\n",
    "\n",
    "#####  12.3] Use a balanced class weight while instantiating the logistic regression.\n",
    "\n",
    "\n",
    "\n",
    "\n",
    "### 13] Find the parameters with the best recall in cross-validation.\n",
    "\n",
    "#####  13.1] Choose ‘recall’ as the metric for scoring.\n",
    "\n",
    "#####  13.2] Choose a stratified 4 fold cross-validation scheme.\n",
    "\n",
    "### 13.3] Fit into  the train set.\n",
    "\n",
    "\n",
    "\n",
    "\n",
    "#####  14] What are the best parameters?\n",
    "\n",
    "\n",
    "\n",
    "\n",
    "### 15] Predict and evaluate using the best estimator.\n",
    "\n",
    "#####  15.1] Use the best estimator from the grid search to make predictions on the test set.\n",
    "\n",
    "#####  15.2] What is the recall on the test set for the toxic comments?\n",
    "\n",
    "#####  15.3] What is the f_1 score?"
   ]
  },
  {
   "cell_type": "markdown",
   "metadata": {},
   "source": [
    "# PROJECT  CODE   STARTS   FROM  HERE "
   ]
  },
  {
   "cell_type": "markdown",
   "metadata": {},
   "source": [
    "# Task-1]\n",
    "Load the tweets file using read_csv function from Pandas package. "
   ]
  },
  {
   "cell_type": "code",
   "execution_count": 1,
   "metadata": {},
   "outputs": [],
   "source": [
    "# \n",
    "import os, re\n",
    "\n",
    "import nltk\n",
    "from nltk.tokenize import TweetTokenizer\n",
    "\n",
    "from string import punctuation\n",
    "\n",
    "from nltk import FreqDist\n",
    "\n",
    "\n",
    "from sklearn.model_selection import train_test_split\n",
    "from sklearn.linear_model import LogisticRegression\n",
    "from sklearn.metrics import accuracy_score, classification_report\n",
    "\n",
    "\n",
    "\n",
    "import matplotlib.pyplot as plt\n",
    "import seaborn as sns\n"
   ]
  },
  {
   "cell_type": "markdown",
   "metadata": {},
   "source": [
    "##### Task  1.1      Load Data Set "
   ]
  },
  {
   "cell_type": "code",
   "execution_count": 2,
   "metadata": {},
   "outputs": [
    {
     "data": {
      "text/html": [
       "<div>\n",
       "<style scoped>\n",
       "    .dataframe tbody tr th:only-of-type {\n",
       "        vertical-align: middle;\n",
       "    }\n",
       "\n",
       "    .dataframe tbody tr th {\n",
       "        vertical-align: top;\n",
       "    }\n",
       "\n",
       "    .dataframe thead th {\n",
       "        text-align: right;\n",
       "    }\n",
       "</style>\n",
       "<table border=\"1\" class=\"dataframe\">\n",
       "  <thead>\n",
       "    <tr style=\"text-align: right;\">\n",
       "      <th></th>\n",
       "      <th>id</th>\n",
       "      <th>label</th>\n",
       "      <th>tweet</th>\n",
       "    </tr>\n",
       "  </thead>\n",
       "  <tbody>\n",
       "    <tr>\n",
       "      <th>0</th>\n",
       "      <td>1</td>\n",
       "      <td>0</td>\n",
       "      <td>@user when a father is dysfunctional and is s...</td>\n",
       "    </tr>\n",
       "    <tr>\n",
       "      <th>1</th>\n",
       "      <td>2</td>\n",
       "      <td>0</td>\n",
       "      <td>@user @user thanks for #lyft credit i can't us...</td>\n",
       "    </tr>\n",
       "    <tr>\n",
       "      <th>2</th>\n",
       "      <td>3</td>\n",
       "      <td>0</td>\n",
       "      <td>bihday your majesty</td>\n",
       "    </tr>\n",
       "    <tr>\n",
       "      <th>3</th>\n",
       "      <td>4</td>\n",
       "      <td>0</td>\n",
       "      <td>#model   i love u take with u all the time in ...</td>\n",
       "    </tr>\n",
       "    <tr>\n",
       "      <th>4</th>\n",
       "      <td>5</td>\n",
       "      <td>0</td>\n",
       "      <td>factsguide: society now    #motivation</td>\n",
       "    </tr>\n",
       "  </tbody>\n",
       "</table>\n",
       "</div>"
      ],
      "text/plain": [
       "   id  label                                              tweet\n",
       "0   1      0   @user when a father is dysfunctional and is s...\n",
       "1   2      0  @user @user thanks for #lyft credit i can't us...\n",
       "2   3      0                                bihday your majesty\n",
       "3   4      0  #model   i love u take with u all the time in ...\n",
       "4   5      0             factsguide: society now    #motivation"
      ]
     },
     "execution_count": 2,
     "metadata": {},
     "output_type": "execute_result"
    }
   ],
   "source": [
    "import numpy as np\n",
    "import pandas as pd\n",
    "\n",
    "df = pd.read_csv(\"TwitterHate.csv\")\n",
    "# View sample data\n",
    "\n",
    "df.head()"
   ]
  },
  {
   "cell_type": "markdown",
   "metadata": {},
   "source": [
    "#####   Task  1.2         Understand Data "
   ]
  },
  {
   "cell_type": "code",
   "execution_count": 3,
   "metadata": {},
   "outputs": [
    {
     "name": "stdout",
     "output_type": "stream",
     "text": [
      "Number Of rows: 31962\n",
      "Number of columns : 3\n",
      "\n",
      "Data Info\n",
      "<class 'pandas.core.frame.DataFrame'>\n",
      "RangeIndex: 31962 entries, 0 to 31961\n",
      "Data columns (total 3 columns):\n",
      " #   Column  Non-Null Count  Dtype \n",
      "---  ------  --------------  ----- \n",
      " 0   id      31962 non-null  int64 \n",
      " 1   label   31962 non-null  int64 \n",
      " 2   tweet   31962 non-null  object\n",
      "dtypes: int64(2), object(1)\n",
      "memory usage: 749.2+ KB\n"
     ]
    }
   ],
   "source": [
    "# Number Of rows\n",
    "\n",
    "number_of_rows = len(df.index)\n",
    "number_of_cols = len(df.columns)\n",
    "print(\"Number Of rows:\",  number_of_rows)\n",
    "print('Number of columns :', number_of_cols)\n",
    "print()\n",
    "print(\"Data Info\")\n",
    "df.info()"
   ]
  },
  {
   "cell_type": "markdown",
   "metadata": {},
   "source": [
    "#####    Task  1.3    data Sampling "
   ]
  },
  {
   "cell_type": "code",
   "execution_count": 4,
   "metadata": {},
   "outputs": [
    {
     "data": {
      "text/html": [
       "<div>\n",
       "<style scoped>\n",
       "    .dataframe tbody tr th:only-of-type {\n",
       "        vertical-align: middle;\n",
       "    }\n",
       "\n",
       "    .dataframe tbody tr th {\n",
       "        vertical-align: top;\n",
       "    }\n",
       "\n",
       "    .dataframe thead th {\n",
       "        text-align: right;\n",
       "    }\n",
       "</style>\n",
       "<table border=\"1\" class=\"dataframe\">\n",
       "  <thead>\n",
       "    <tr style=\"text-align: right;\">\n",
       "      <th></th>\n",
       "      <th>id</th>\n",
       "      <th>label</th>\n",
       "      <th>tweet</th>\n",
       "    </tr>\n",
       "  </thead>\n",
       "  <tbody>\n",
       "    <tr>\n",
       "      <th>22037</th>\n",
       "      <td>22038</td>\n",
       "      <td>0</td>\n",
       "      <td>the highest happiness on eah is the happiness ...</td>\n",
       "    </tr>\n",
       "    <tr>\n",
       "      <th>30710</th>\n",
       "      <td>30711</td>\n",
       "      <td>0</td>\n",
       "      <td>i'm   for the #weekend and i will #sing to my ...</td>\n",
       "    </tr>\n",
       "    <tr>\n",
       "      <th>1279</th>\n",
       "      <td>1280</td>\n",
       "      <td>0</td>\n",
       "      <td>âfeeling  ! just staed my own  #avon busines...</td>\n",
       "    </tr>\n",
       "  </tbody>\n",
       "</table>\n",
       "</div>"
      ],
      "text/plain": [
       "          id  label                                              tweet\n",
       "22037  22038      0  the highest happiness on eah is the happiness ...\n",
       "30710  30711      0  i'm   for the #weekend and i will #sing to my ...\n",
       "1279    1280      0  âfeeling  ! just staed my own  #avon busines..."
      ]
     },
     "execution_count": 4,
     "metadata": {},
     "output_type": "execute_result"
    }
   ],
   "source": [
    "# Sampling 0.01%  of data randomly \n",
    "\n",
    "rows = df.sample(frac =0.0001)\n",
    "\n",
    "# display\n",
    "rows"
   ]
  },
  {
   "cell_type": "code",
   "execution_count": 5,
   "metadata": {},
   "outputs": [
    {
     "data": {
      "text/html": [
       "<div>\n",
       "<style scoped>\n",
       "    .dataframe tbody tr th:only-of-type {\n",
       "        vertical-align: middle;\n",
       "    }\n",
       "\n",
       "    .dataframe tbody tr th {\n",
       "        vertical-align: top;\n",
       "    }\n",
       "\n",
       "    .dataframe thead th {\n",
       "        text-align: right;\n",
       "    }\n",
       "</style>\n",
       "<table border=\"1\" class=\"dataframe\">\n",
       "  <thead>\n",
       "    <tr style=\"text-align: right;\">\n",
       "      <th></th>\n",
       "      <th>id</th>\n",
       "      <th>label</th>\n",
       "      <th>tweet</th>\n",
       "    </tr>\n",
       "  </thead>\n",
       "  <tbody>\n",
       "    <tr>\n",
       "      <th>20552</th>\n",
       "      <td>20553</td>\n",
       "      <td>0</td>\n",
       "      <td>happy weekend.. ðð¯ #girls #friends #week...</td>\n",
       "    </tr>\n",
       "    <tr>\n",
       "      <th>8026</th>\n",
       "      <td>8027</td>\n",
       "      <td>0</td>\n",
       "      <td>for freedom friday @user @user @user @user w...</td>\n",
       "    </tr>\n",
       "    <tr>\n",
       "      <th>26645</th>\n",
       "      <td>26646</td>\n",
       "      <td>0</td>\n",
       "      <td>twinklatinboys - na: #slut #snapshot #hot #nas...</td>\n",
       "    </tr>\n",
       "  </tbody>\n",
       "</table>\n",
       "</div>"
      ],
      "text/plain": [
       "          id  label                                              tweet\n",
       "20552  20553      0  happy weekend.. ðð¯ #girls #friends #week...\n",
       "8026    8027      0    for freedom friday @user @user @user @user w...\n",
       "26645  26646      0  twinklatinboys - na: #slut #snapshot #hot #nas..."
      ]
     },
     "execution_count": 5,
     "metadata": {},
     "output_type": "execute_result"
    }
   ],
   "source": [
    "# Sampling 3nos of data randomly \n",
    "\n",
    "rows = df.sample(n = 3)\n",
    "rows"
   ]
  },
  {
   "cell_type": "code",
   "execution_count": 6,
   "metadata": {},
   "outputs": [
    {
     "data": {
      "text/plain": [
       "8830    great sta to #euro2016 last night with a great...\n",
       "Name: tweet, dtype: object"
      ]
     },
     "execution_count": 6,
     "metadata": {},
     "output_type": "execute_result"
    }
   ],
   "source": [
    "# Sample any one row randomly\n",
    "\n",
    "df.tweet.sample()"
   ]
  },
  {
   "cell_type": "code",
   "execution_count": 7,
   "metadata": {},
   "outputs": [
    {
     "data": {
      "text/plain": [
       "'anyone else have that one family member (related through marriage) that thrives off back stabbing your actual family?? #grrr   #ikeelu'"
      ]
     },
     "execution_count": 7,
     "metadata": {},
     "output_type": "execute_result"
    }
   ],
   "source": [
    "df.tweet.sample().values[0]"
   ]
  },
  {
   "cell_type": "markdown",
   "metadata": {},
   "source": [
    "#####   Task  1.4       Inspect for Data Imbalance"
   ]
  },
  {
   "cell_type": "markdown",
   "metadata": {},
   "source": [
    "Count Unique values in The label Columns"
   ]
  },
  {
   "cell_type": "code",
   "execution_count": 8,
   "metadata": {},
   "outputs": [
    {
     "data": {
      "text/plain": [
       "1     2242\n",
       "0    29720\n",
       "Name: label, dtype: int64"
      ]
     },
     "execution_count": 8,
     "metadata": {},
     "output_type": "execute_result"
    }
   ],
   "source": [
    "df['label'].value_counts(ascending=True)"
   ]
  },
  {
   "cell_type": "markdown",
   "metadata": {},
   "source": [
    "Obtain relative frequencies of the unique values."
   ]
  },
  {
   "cell_type": "code",
   "execution_count": 9,
   "metadata": {},
   "outputs": [
    {
     "data": {
      "text/plain": [
       "0    0.929854\n",
       "1    0.070146\n",
       "Name: label, dtype: float64"
      ]
     },
     "execution_count": 9,
     "metadata": {},
     "output_type": "execute_result"
    }
   ],
   "source": [
    "df['label'].value_counts(normalize=True)"
   ]
  },
  {
   "cell_type": "code",
   "execution_count": 10,
   "metadata": {},
   "outputs": [
    {
     "data": {
      "text/plain": [
       "0    0.929854\n",
       "1    0.070146\n",
       "Name: label, dtype: float64"
      ]
     },
     "execution_count": 10,
     "metadata": {},
     "output_type": "execute_result"
    }
   ],
   "source": [
    "df.label.value_counts(normalize=True)"
   ]
  },
  {
   "cell_type": "code",
   "execution_count": 11,
   "metadata": {},
   "outputs": [
    {
     "data": {
      "text/plain": [
       "<matplotlib.axes._subplots.AxesSubplot at 0x273675b10a0>"
      ]
     },
     "execution_count": 11,
     "metadata": {},
     "output_type": "execute_result"
    },
    {
     "data": {
      "image/png": "[encoded data removed]",
      "text/plain": [
       "<Figure size 432x288 with 1 Axes>"
      ]
     },
     "metadata": {
      "needs_background": "light"
     },
     "output_type": "display_data"
    }
   ],
   "source": [
    "df[\"label\"].value_counts().plot(kind=\"bar\")"
   ]
  },
  {
   "cell_type": "markdown",
   "metadata": {},
   "source": [
    "# Task-2\n",
    "Get the tweets into a list for easy text cleanup and manipulation"
   ]
  },
  {
   "cell_type": "code",
   "execution_count": 12,
   "metadata": {},
   "outputs": [],
   "source": [
    "Tweets_List = df[\"tweet\"].tolist()\n"
   ]
  },
  {
   "cell_type": "code",
   "execution_count": 13,
   "metadata": {},
   "outputs": [
    {
     "data": {
      "text/plain": [
       "list"
      ]
     },
     "execution_count": 13,
     "metadata": {},
     "output_type": "execute_result"
    }
   ],
   "source": [
    "type(Tweets_List)"
   ]
  },
  {
   "cell_type": "code",
   "execution_count": 14,
   "metadata": {},
   "outputs": [
    {
     "data": {
      "text/plain": [
       "31962"
      ]
     },
     "execution_count": 14,
     "metadata": {},
     "output_type": "execute_result"
    }
   ],
   "source": [
    "len(Tweets_List)"
   ]
  },
  {
   "cell_type": "markdown",
   "metadata": {},
   "source": [
    "#  Task.3\n",
    "## To cleanup: \n",
    "\n"
   ]
  },
  {
   "cell_type": "markdown",
   "metadata": {},
   "source": [
    "#### 3.1] Normalize the casing.\n"
   ]
  },
  {
   "cell_type": "code",
   "execution_count": 15,
   "metadata": {},
   "outputs": [
    {
     "name": "stdout",
     "output_type": "stream",
     "text": [
      "All text Coverted to lowercase !!\n"
     ]
    }
   ],
   "source": [
    "def to_lowercase(Tweets_List):\n",
    "    Tweets_Lowercase = []\n",
    "    for tweet in Tweets_List:\n",
    "        Tweets_Lowercase.append(tweet)\n",
    "    \n",
    "    return Tweets_Lowercase\n",
    "\n",
    "Tweets_Lowercase = to_lowercase(Tweets_List)\n",
    "\n",
    "print(\"All text Coverted to lowercase !!\")"
   ]
  },
  {
   "cell_type": "markdown",
   "metadata": {},
   "source": [
    "####  Task 3.2]:\n",
    "Using regular expressions, remove user handles. These begin with '@’.\n"
   ]
  },
  {
   "cell_type": "code",
   "execution_count": 16,
   "metadata": {},
   "outputs": [
    {
     "name": "stdout",
     "output_type": "stream",
     "text": [
      "All User Handles removed from The text !!!\n"
     ]
    }
   ],
   "source": [
    "def remove_user_handles(Tweets_Lowercase):\n",
    "    hashes_removed = [re.sub(\"@\\w+\",\"\", tweet) for tweet in Tweets_Lowercase]\n",
    "    return(hashes_removed)\n",
    "    \n",
    "\n",
    "\n",
    "\n",
    "\n",
    "Tweets_Without_User_Handles =  remove_user_handles(Tweets_Lowercase)\n",
    "print(\"All User Handles removed from The text !!!\")\n",
    "\n"
   ]
  },
  {
   "cell_type": "markdown",
   "metadata": {},
   "source": [
    "####  Task- 3.3\n",
    "Using regular expressions, remove URLs."
   ]
  },
  {
   "cell_type": "code",
   "execution_count": 17,
   "metadata": {},
   "outputs": [
    {
     "name": "stdout",
     "output_type": "stream",
     "text": [
      "All URLs remved form the text !!\n"
     ]
    }
   ],
   "source": [
    "def remove_URL(Tweets_Without_User_Handles):\n",
    "    URL_removed = [re.sub(\"\\w+://\\S+\",\"\", Tweet) for Tweet in Tweets_Without_User_Handles]\n",
    "    return(URL_removed)\n",
    "    \n",
    "\n",
    "\n",
    "\n",
    "Tweets_Without_URL =  remove_URL(Tweets_Without_User_Handles)\n",
    "print(\"All URLs remved form the text !!\")\n"
   ]
  },
  {
   "cell_type": "markdown",
   "metadata": {},
   "source": [
    "#### Task- 3.4\n",
    "Using TweetTokenizer from NLTK, tokenize the tweets into individual terms.\n",
    "\n"
   ]
  },
  {
   "cell_type": "code",
   "execution_count": 18,
   "metadata": {},
   "outputs": [
    {
     "name": "stdout",
     "output_type": "stream",
     "text": [
      "All the text converted to tokens !!\n"
     ]
    }
   ],
   "source": [
    "def Tokenize(Tweets_Without_URL):\n",
    "    t = TweetTokenizer()\n",
    "    Tokens = [t.tokenize(Tweet) for Tweet in Tweets_Without_URL]\n",
    "    return Tokens\n",
    "\n",
    "\n",
    "Tweet_Tokens  = Tokenize(Tweets_Without_URL)\n",
    "\n",
    "\n",
    "print(\"All the text converted to tokens !!\")\n"
   ]
  },
  {
   "cell_type": "markdown",
   "metadata": {},
   "source": [
    "#### Task- 3.5\n",
    "Remove stop words.\n"
   ]
  },
  {
   "cell_type": "code",
   "execution_count": 19,
   "metadata": {},
   "outputs": [
    {
     "name": "stdout",
     "output_type": "stream",
     "text": [
      "All STOPWORDS removed from the text !!\n"
     ]
    }
   ],
   "source": [
    "from nltk.corpus import stopwords\n",
    "\n",
    "def Remove_StopWords(Tweet_Token):\n",
    "    stop_words = stopwords.words(\"english\")\n",
    "    Without_StopWords = [Term for Term in Tweet_Token if not Term in stop_words]\n",
    "    return Without_StopWords\n",
    "\n",
    "Tweets_Without_StopWords =  [Remove_StopWords(Tweet_Token) for Tweet_Token in Tweet_Tokens ]\n",
    " \n",
    "print(\"All STOPWORDS removed from the text !!\")\n"
   ]
  },
  {
   "cell_type": "markdown",
   "metadata": {},
   "source": [
    "#### Task- 3.6\n",
    "Remove redundant terms like ‘amp’, ‘rt’, etc.\n"
   ]
  },
  {
   "cell_type": "code",
   "execution_count": 20,
   "metadata": {},
   "outputs": [
    {
     "name": "stdout",
     "output_type": "stream",
     "text": [
      "All Redunt words removed from the text !!\n"
     ]
    }
   ],
   "source": [
    "def Remove_Redunts(Tweets_Without_StopWords):\n",
    "    redunt_terms = ['rt', 'amp']\n",
    "    #Without_ReduntWords = [word for word in Tweets_Without_StopWords if not word in redunt_terms]\n",
    "    Without_ReduntWords = [word for word in Tweets_Without_StopWords if not word in redunt_terms]\n",
    "    return Without_ReduntWords\n",
    "\n",
    "Tweets_Without_Redunt_Words = Remove_Redunts(Tweets_Without_StopWords)\n",
    "print(\"All Redunt words removed from the text !!\")\n",
    "\n"
   ]
  },
  {
   "cell_type": "markdown",
   "metadata": {},
   "source": [
    "####  Task.3.7\n",
    "Remove ‘#’ symbols from the tweet while retaining the term."
   ]
  },
  {
   "cell_type": "code",
   "execution_count": 21,
   "metadata": {},
   "outputs": [
    {
     "name": "stdout",
     "output_type": "stream",
     "text": [
      "All Hashes(#) removed from the text !!\n"
     ]
    }
   ],
   "source": [
    "def Remove_Hash(Tweet):\n",
    "    return [re.sub(\"#\",\"\", term) for term in Tweet ]\n",
    "\n",
    "\n",
    "\n",
    "Tweets_Without_Hashes = [Remove_Hash(Tweet) for Tweet in Tweets_Without_Redunt_Words]\n",
    "\n",
    "\n",
    "print(\"All Hashes(#) removed from the text !!\")\n",
    "\n",
    "\n"
   ]
  },
  {
   "cell_type": "markdown",
   "metadata": {},
   "source": [
    "## Task.4\n"
   ]
  },
  {
   "cell_type": "markdown",
   "metadata": {},
   "source": [
    "####  Task  4.1 \n",
    "Extra Cleanup by removing terms with a length of 1"
   ]
  },
  {
   "cell_type": "code",
   "execution_count": 22,
   "metadata": {},
   "outputs": [
    {
     "name": "stdout",
     "output_type": "stream",
     "text": [
      "All Single Letters removed from the text !!\n"
     ]
    }
   ],
   "source": [
    "def Remove_Single_Letter(Tweet):\n",
    "    Without_Single_Letter = [word for word in Tweet if (len(word)>1)]\n",
    "    return Without_Single_Letter\n",
    "\n",
    "\n",
    "\n",
    "\n",
    "\n",
    "Tweets_Without_Single_Letters  = [Remove_Single_Letter(Tweet) for Tweet in Tweets_Without_Hashes]\n",
    "\n",
    "print(\"All Single Letters removed from the text !!\")"
   ]
  },
  {
   "cell_type": "markdown",
   "metadata": {},
   "source": [
    "#### Task 4.2\n",
    "Remove all types of Punctuations\n",
    "\n",
    "\n",
    "\n",
    "\n",
    "\n"
   ]
  },
  {
   "cell_type": "code",
   "execution_count": 23,
   "metadata": {},
   "outputs": [
    {
     "name": "stdout",
     "output_type": "stream",
     "text": [
      "All punctuations removed!!\n"
     ]
    }
   ],
   "source": [
    "from string import punctuation\n",
    "punctuations = list(punctuation)\n",
    "\n",
    "Additional_punctuations = ['...','``',\"''\",\"..\"]\n",
    "\n",
    "punctuations.extend(Additional_punctuations)\n",
    "\n",
    "def Remove_Punctuations(Tweet):\n",
    "    Without_Punctuations = [Term for Term in Tweet if Term not in punctuations]\n",
    "    return Without_Punctuations\n",
    "\n",
    "\n",
    "\n",
    "\n",
    "\n",
    "Cleaned_Tweets  = [Remove_Punctuations(Tweet) for Tweet in Tweets_Without_Single_Letters]\n",
    "print(\"All punctuations removed!!\")"
   ]
  },
  {
   "cell_type": "markdown",
   "metadata": {},
   "source": [
    "####  Cleaned Tweets Sample "
   ]
  },
  {
   "cell_type": "code",
   "execution_count": 24,
   "metadata": {},
   "outputs": [
    {
     "name": "stdout",
     "output_type": "stream",
     "text": [
      "Cleaned Tweets sample:\n",
      "[['bihday', 'majesty'], ['model', 'love', 'take', 'time', 'urð']]\n"
     ]
    }
   ],
   "source": [
    "print(\"Cleaned Tweets sample:\")\n",
    "print(Cleaned_Tweets[2:4])"
   ]
  },
  {
   "cell_type": "markdown",
   "metadata": {},
   "source": [
    "# Task.5\n",
    "Check out the top terms in the tweets"
   ]
  },
  {
   "cell_type": "markdown",
   "metadata": {},
   "source": [
    "####  Task 5.1\n",
    "First, get all the tokenized terms into one large list.\n",
    "\n"
   ]
  },
  {
   "cell_type": "code",
   "execution_count": 25,
   "metadata": {},
   "outputs": [
    {
     "data": {
      "text/plain": [
       "251558"
      ]
     },
     "execution_count": 25,
     "metadata": {},
     "output_type": "execute_result"
    }
   ],
   "source": [
    "# Merge All word lists in to a single List of words so that counting can be done\n",
    "\n",
    "Merged_Tweets = []\n",
    "\n",
    "for Tweet in Cleaned_Tweets:\n",
    "    Merged_Tweets.extend(Tweet)\n",
    "    \n",
    "\n",
    "    \n",
    "len(Merged_Tweets  )"
   ]
  },
  {
   "cell_type": "markdown",
   "metadata": {},
   "source": [
    "#### Task  5.2 \n",
    "Use the counter and find the 10 most common terms."
   ]
  },
  {
   "cell_type": "code",
   "execution_count": 26,
   "metadata": {},
   "outputs": [
    {
     "data": {
      "text/plain": [
       "[('love', 2748),\n",
       " ('day', 2276),\n",
       " ('happy', 1684),\n",
       " ('time', 1131),\n",
       " ('life', 1118),\n",
       " ('like', 1047),\n",
       " (\"i'm\", 1018),\n",
       " ('today', 1013),\n",
       " ('new', 994),\n",
       " ('thankful', 946)]"
      ]
     },
     "execution_count": 26,
     "metadata": {},
     "output_type": "execute_result"
    }
   ],
   "source": [
    "from collections import Counter\n",
    "\n",
    "\n",
    "\n",
    "term_count = Counter(Merged_Tweets)\n",
    "term_count.most_common(10)  "
   ]
  },
  {
   "cell_type": "markdown",
   "metadata": {},
   "source": [
    "####  Task  5.3\n",
    "\n",
    "Graphical Representation of the Top ten common terms"
   ]
  },
  {
   "cell_type": "markdown",
   "metadata": {},
   "source": [
    "#####  Create a  Df "
   ]
  },
  {
   "cell_type": "code",
   "execution_count": 27,
   "metadata": {},
   "outputs": [
    {
     "data": {
      "text/html": [
       "<div>\n",
       "<style scoped>\n",
       "    .dataframe tbody tr th:only-of-type {\n",
       "        vertical-align: middle;\n",
       "    }\n",
       "\n",
       "    .dataframe tbody tr th {\n",
       "        vertical-align: top;\n",
       "    }\n",
       "\n",
       "    .dataframe thead th {\n",
       "        text-align: right;\n",
       "    }\n",
       "</style>\n",
       "<table border=\"1\" class=\"dataframe\">\n",
       "  <thead>\n",
       "    <tr style=\"text-align: right;\">\n",
       "      <th></th>\n",
       "      <th>words</th>\n",
       "      <th>count</th>\n",
       "    </tr>\n",
       "  </thead>\n",
       "  <tbody>\n",
       "    <tr>\n",
       "      <th>0</th>\n",
       "      <td>love</td>\n",
       "      <td>2748</td>\n",
       "    </tr>\n",
       "    <tr>\n",
       "      <th>1</th>\n",
       "      <td>day</td>\n",
       "      <td>2276</td>\n",
       "    </tr>\n",
       "    <tr>\n",
       "      <th>2</th>\n",
       "      <td>happy</td>\n",
       "      <td>1684</td>\n",
       "    </tr>\n",
       "    <tr>\n",
       "      <th>3</th>\n",
       "      <td>time</td>\n",
       "      <td>1131</td>\n",
       "    </tr>\n",
       "    <tr>\n",
       "      <th>4</th>\n",
       "      <td>life</td>\n",
       "      <td>1118</td>\n",
       "    </tr>\n",
       "    <tr>\n",
       "      <th>5</th>\n",
       "      <td>like</td>\n",
       "      <td>1047</td>\n",
       "    </tr>\n",
       "    <tr>\n",
       "      <th>6</th>\n",
       "      <td>i'm</td>\n",
       "      <td>1018</td>\n",
       "    </tr>\n",
       "    <tr>\n",
       "      <th>7</th>\n",
       "      <td>today</td>\n",
       "      <td>1013</td>\n",
       "    </tr>\n",
       "    <tr>\n",
       "      <th>8</th>\n",
       "      <td>new</td>\n",
       "      <td>994</td>\n",
       "    </tr>\n",
       "    <tr>\n",
       "      <th>9</th>\n",
       "      <td>thankful</td>\n",
       "      <td>946</td>\n",
       "    </tr>\n",
       "  </tbody>\n",
       "</table>\n",
       "</div>"
      ],
      "text/plain": [
       "      words  count\n",
       "0      love   2748\n",
       "1       day   2276\n",
       "2     happy   1684\n",
       "3      time   1131\n",
       "4      life   1118\n",
       "5      like   1047\n",
       "6       i'm   1018\n",
       "7     today   1013\n",
       "8       new    994\n",
       "9  thankful    946"
      ]
     },
     "execution_count": 27,
     "metadata": {},
     "output_type": "execute_result"
    }
   ],
   "source": [
    "term_count_Df = pd.DataFrame(term_count.most_common(15),\n",
    "                             columns=['words', 'count'])\n",
    "\n",
    "term_count_Df.head(10)"
   ]
  },
  {
   "cell_type": "markdown",
   "metadata": {},
   "source": [
    "######   Plot Using the data in df "
   ]
  },
  {
   "cell_type": "code",
   "execution_count": 28,
   "metadata": {},
   "outputs": [
    {
     "data": {
      "image/png": "[encoded data removed]",
      "text/plain": [
       "<Figure size 720x360 with 1 Axes>"
      ]
     },
     "metadata": {
      "needs_background": "light"
     },
     "output_type": "display_data"
    }
   ],
   "source": [
    "fig, ax = plt.subplots(figsize=(10, 5))\n",
    "\n",
    "# Plot horizontal bar graph\n",
    "term_count_Df.sort_values(by='count').plot.barh(x='words',\n",
    "                      y='count',\n",
    "                      ax=ax,\n",
    "                      color=\"purple\")\n",
    "\n",
    "ax.set_title(\"Top Ten Common Words\")\n",
    "\n",
    "plt.show()\n"
   ]
  },
  {
   "cell_type": "markdown",
   "metadata": {},
   "source": [
    "##  Task.6\n",
    "Data formatting for predictive modeling "
   ]
  },
  {
   "cell_type": "markdown",
   "metadata": {},
   "source": [
    "####  Task.6.1\n",
    "Join the tokens back to form strings. This will be required for the vectorizers.\n"
   ]
  },
  {
   "cell_type": "code",
   "execution_count": 29,
   "metadata": {},
   "outputs": [
    {
     "data": {
      "text/plain": [
       "['thanks',\n",
       " 'lyft',\n",
       " 'credit',\n",
       " \"can't\",\n",
       " 'use',\n",
       " 'cause',\n",
       " 'offer',\n",
       " 'wheelchair',\n",
       " 'vans',\n",
       " 'pdx',\n",
       " 'disapointed',\n",
       " 'getthanked']"
      ]
     },
     "execution_count": 29,
     "metadata": {},
     "output_type": "execute_result"
    }
   ],
   "source": [
    "len(Cleaned_Tweets)\n",
    "Cleaned_Tweets[1]"
   ]
  },
  {
   "cell_type": "code",
   "execution_count": 30,
   "metadata": {},
   "outputs": [
    {
     "data": {
      "text/plain": [
       "'father dysfunctional selfish drags kids dysfunction run'"
      ]
     },
     "execution_count": 30,
     "metadata": {},
     "output_type": "execute_result"
    }
   ],
   "source": [
    "def form_string(Cleaned_Tweets):\n",
    "    String = [\" \".join(Tweet) for Tweet in Cleaned_Tweets]\n",
    "    return String\n",
    "\n",
    "Tweets = form_string(Cleaned_Tweets)\n",
    "Tweets[0]"
   ]
  },
  {
   "cell_type": "markdown",
   "metadata": {},
   "source": [
    "##  Cross check If  data is intact "
   ]
  },
  {
   "cell_type": "code",
   "execution_count": 31,
   "metadata": {},
   "outputs": [
    {
     "name": "stdout",
     "output_type": "stream",
     "text": [
      "No Of Rows In Original Data: 31962\n",
      "No Of Rows In Cleaned Data: 31962\n"
     ]
    }
   ],
   "source": [
    "print(\"No Of Rows In Original Data:\", len(df.label))\n",
    "print(\"No Of Rows In Cleaned Data:\", len(Tweets))"
   ]
  },
  {
   "cell_type": "markdown",
   "metadata": {},
   "source": [
    "#### Task 6.2\n",
    "Assign x and y."
   ]
  },
  {
   "cell_type": "code",
   "execution_count": 32,
   "metadata": {},
   "outputs": [],
   "source": [
    "X = Tweets\n",
    "y = df.label.values"
   ]
  },
  {
   "cell_type": "markdown",
   "metadata": {},
   "source": [
    "####  Task. 6.3\n",
    "Perform train_test_split using sklearn."
   ]
  },
  {
   "cell_type": "code",
   "execution_count": 33,
   "metadata": {},
   "outputs": [
    {
     "name": "stdout",
     "output_type": "stream",
     "text": [
      "X_train Size: 23971\n",
      "X_test Size: 7991\n"
     ]
    }
   ],
   "source": [
    "test_size = 0.25\n",
    "random_state=100\n",
    "\n",
    "\n",
    "X_train, X_test, y_train, y_test = train_test_split(X, y, test_size = test_size, random_state=random_state)\n",
    "\n",
    "print(\"X_train Size:\", len(X_train))\n",
    "print(\"X_test Size:\", len(X_test))"
   ]
  },
  {
   "cell_type": "markdown",
   "metadata": {},
   "source": [
    "## Task.7\n",
    "We’ll use TF-IDF values for the terms as a feature to get into a vector space model.\n",
    "\n",
    "\n"
   ]
  },
  {
   "cell_type": "markdown",
   "metadata": {},
   "source": [
    "##### Task  7.1\n",
    "Import TF-IDF  vectorizer from sklearn."
   ]
  },
  {
   "cell_type": "code",
   "execution_count": 34,
   "metadata": {},
   "outputs": [],
   "source": [
    "from sklearn.feature_extraction.text import TfidfVectorizer"
   ]
  },
  {
   "cell_type": "markdown",
   "metadata": {},
   "source": [
    "####  Task 7.2\n",
    "Instantiate with a maximum of 5000 terms in your vocabulary."
   ]
  },
  {
   "cell_type": "code",
   "execution_count": 35,
   "metadata": {},
   "outputs": [],
   "source": [
    "max_features = 5000\n",
    "\n",
    "vectorizer = TfidfVectorizer(max_features = max_features)"
   ]
  },
  {
   "cell_type": "markdown",
   "metadata": {},
   "source": [
    "####  Task 7.3\n",
    "Fit and apply on the train set.\n",
    "\n"
   ]
  },
  {
   "cell_type": "code",
   "execution_count": 36,
   "metadata": {},
   "outputs": [],
   "source": [
    "X_train_TFV= vectorizer.fit_transform(X_train)\n"
   ]
  },
  {
   "cell_type": "markdown",
   "metadata": {},
   "source": [
    "#### Task  7.4\n",
    "Apply On Test"
   ]
  },
  {
   "cell_type": "code",
   "execution_count": 37,
   "metadata": {},
   "outputs": [],
   "source": [
    "X_test_TFV = vectorizer.transform(X_test)"
   ]
  },
  {
   "cell_type": "code",
   "execution_count": 38,
   "metadata": {},
   "outputs": [
    {
     "name": "stdout",
     "output_type": "stream",
     "text": [
      "X_train_TFV.shape: (23971, 5000)\n",
      "X_test_TFV.shape (7991, 5000)\n"
     ]
    }
   ],
   "source": [
    "print(\"X_train_TFV.shape:\", X_train_TFV.shape)\n",
    "print(\"X_test_TFV.shape\", X_test_TFV.shape)"
   ]
  },
  {
   "cell_type": "markdown",
   "metadata": {},
   "source": [
    "# Task.8\n",
    "Model building: Ordinary Logistic Regression"
   ]
  },
  {
   "cell_type": "markdown",
   "metadata": {},
   "source": [
    "#### Task  8.1\n",
    "Instantiate Logistic Regression from sklearn with default parameters.\n"
   ]
  },
  {
   "cell_type": "code",
   "execution_count": 39,
   "metadata": {},
   "outputs": [],
   "source": [
    "Model = LogisticRegression()\n",
    "\n"
   ]
  },
  {
   "cell_type": "markdown",
   "metadata": {},
   "source": [
    "####  Task  8.2\n",
    "Fit into  the train data.\n",
    "\n"
   ]
  },
  {
   "cell_type": "code",
   "execution_count": 40,
   "metadata": {},
   "outputs": [
    {
     "data": {
      "text/plain": [
       "LogisticRegression()"
      ]
     },
     "execution_count": 40,
     "metadata": {},
     "output_type": "execute_result"
    }
   ],
   "source": [
    "Model.fit(X_train_TFV, y_train)"
   ]
  },
  {
   "cell_type": "markdown",
   "metadata": {},
   "source": [
    "#### Task  8.3\n",
    "Make predictions for the train and the test set."
   ]
  },
  {
   "cell_type": "code",
   "execution_count": 41,
   "metadata": {},
   "outputs": [],
   "source": [
    "y_train_pred = Model.predict(X_train_TFV)\n",
    "y_test_pred = Model.predict(X_test_TFV)\n",
    "\n",
    "\n"
   ]
  },
  {
   "cell_type": "markdown",
   "metadata": {
    "scrolled": true
   },
   "source": [
    "# Task.9\n",
    "Model evaluation: Accuracy, recall, and f_1 score.\n",
    "\n"
   ]
  },
  {
   "cell_type": "markdown",
   "metadata": {},
   "source": [
    "####  Task 9.1\n",
    "Report the accuracy on the train set.\n",
    "\n"
   ]
  },
  {
   "cell_type": "code",
   "execution_count": 42,
   "metadata": {},
   "outputs": [
    {
     "name": "stdout",
     "output_type": "stream",
     "text": [
      "Accuracy Of the Model 95.57%\n"
     ]
    }
   ],
   "source": [
    "\n",
    "accuracy =  round(accuracy_score(y_train, y_train_pred)*100, 2)\n",
    "\n",
    "print(\"Accuracy Of the Model {0}%\" .format(accuracy) )\n"
   ]
  },
  {
   "cell_type": "markdown",
   "metadata": {},
   "source": [
    "#### Task 9.2\n",
    "Report the recall on the train set: decent, high, or low.\n",
    "\n"
   ]
  },
  {
   "cell_type": "code",
   "execution_count": 43,
   "metadata": {},
   "outputs": [
    {
     "name": "stdout",
     "output_type": "stream",
     "text": [
      "Recall score- Decent: 69.28%\n",
      "Recall score- Low: 39%\n",
      "Recall score- High: 95.57%\n"
     ]
    }
   ],
   "source": [
    "from sklearn import metrics\n",
    "\n",
    "Decent =  round(metrics.recall_score(y_train, y_train_pred, average='macro')*100, 2)\n",
    "Low = round(metrics.recall_score(y_train, y_train_pred) * 100)\n",
    "High = round(metrics.recall_score(y_train, y_train_pred, average='weighted')*100, 2)\n",
    "    \n",
    "    \n",
    "print(\"Recall score- Decent: {}%\".format(Decent) )\n",
    "print(\"Recall score- Low: {}%\".format(Low) )\n",
    "print(\"Recall score- High: {}%\".format(High ) )"
   ]
  },
  {
   "cell_type": "code",
   "execution_count": 44,
   "metadata": {},
   "outputs": [
    {
     "name": "stdout",
     "output_type": "stream",
     "text": [
      "\n",
      "Classification Report:\n",
      "\n",
      "              precision    recall  f1-score   support\n",
      "\n",
      "           0       0.96      1.00      0.98     22289\n",
      "           1       0.95      0.39      0.55      1682\n",
      "\n",
      "    accuracy                           0.96     23971\n",
      "   macro avg       0.95      0.69      0.76     23971\n",
      "weighted avg       0.96      0.96      0.95     23971\n",
      "\n"
     ]
    }
   ],
   "source": [
    "print()\n",
    "print(\"Classification Report:\")\n",
    "print()\n",
    "print(classification_report(y_train, y_train_pred))\n",
    "report = classification_report(y_train, y_train_pred)\n"
   ]
  },
  {
   "cell_type": "markdown",
   "metadata": {},
   "source": [
    "#### Task 9.3\n",
    "Get the f1 score on the train set."
   ]
  },
  {
   "cell_type": "code",
   "execution_count": 45,
   "metadata": {},
   "outputs": [
    {
     "name": "stdout",
     "output_type": "stream",
     "text": [
      "F1 Score: 55.05%\n"
     ]
    }
   ],
   "source": [
    "from sklearn.metrics import f1_score\n",
    "\n",
    "print(\"F1 Score: {}%\".format(round(f1_score(y_train, y_train_pred)*100,2) ))"
   ]
  },
  {
   "cell_type": "markdown",
   "metadata": {},
   "source": [
    "### Learners Comments\n",
    "\n",
    "It clearly is an indication of data imbalance. The same is evidenced earlier and is represented in Line No.11"
   ]
  },
  {
   "cell_type": "markdown",
   "metadata": {},
   "source": [
    "# Task 10\n",
    "Looks like you need to adjust the class imbalance, as the model seems to focus on the 0s."
   ]
  },
  {
   "cell_type": "markdown",
   "metadata": {},
   "source": [
    "#### 10.1\n",
    "Adjust the appropriate class in the LogisticRegression model."
   ]
  },
  {
   "cell_type": "code",
   "execution_count": 46,
   "metadata": {},
   "outputs": [],
   "source": [
    "Model  = LogisticRegression(class_weight=\"balanced\")"
   ]
  },
  {
   "cell_type": "markdown",
   "metadata": {},
   "source": [
    "# Task 11\n",
    "Train again with the adjustment and evaluate.\n"
   ]
  },
  {
   "cell_type": "markdown",
   "metadata": {},
   "source": [
    "## Task  11.1 \n",
    "\n",
    "Train the model on the train set."
   ]
  },
  {
   "cell_type": "code",
   "execution_count": 47,
   "metadata": {},
   "outputs": [
    {
     "data": {
      "text/plain": [
       "LogisticRegression(class_weight='balanced')"
      ]
     },
     "execution_count": 47,
     "metadata": {},
     "output_type": "execute_result"
    }
   ],
   "source": [
    "Model.fit(X_train_TFV, y_train)"
   ]
  },
  {
   "cell_type": "markdown",
   "metadata": {},
   "source": [
    "####  Task  11.2\n",
    "\n",
    "Evaluate the predictions on the train set: accuracy, recall, and f_1 score."
   ]
  },
  {
   "cell_type": "code",
   "execution_count": 48,
   "metadata": {},
   "outputs": [
    {
     "name": "stdout",
     "output_type": "stream",
     "text": [
      "accuracy: 95.0%\n",
      "\n",
      "Recall score- Decent: 95.88%\n",
      "Recall score- Low: 97.21%\n",
      "Recall score- High: 94.74%\n",
      "\n",
      "F1 Score: 72%\n"
     ]
    }
   ],
   "source": [
    "y_train_pred = Model.predict(X_train_TFV)\n",
    "y_test_pred = Model.predict(X_test_TFV)\n",
    "\n",
    "\n",
    "\n",
    "accuracy = round(accuracy_score(y_train, y_train_pred), 2)*100\n",
    "print(\"accuracy: {}%\" .format(accuracy) )\n",
    "print()\n",
    "\n",
    "\n",
    "Decent = round(metrics.recall_score(y_train, y_train_pred, average='macro')*100, 2 )\n",
    "Low = round(metrics.recall_score(y_train, y_train_pred)*100, 2 )\n",
    "High = round(metrics.recall_score(y_train, y_train_pred, average='weighted')*100,2 )\n",
    "\n",
    "\n",
    "print(\"Recall score- Decent: {}%\".format(Decent) )\n",
    "print(\"Recall score- Low: {}%\" .format(Low) )\n",
    "print(\"Recall score- High: {}%\".format(High) )\n",
    "print()\n",
    "\n",
    "\n",
    "print(\"F1 Score: {}%\".format(round(f1_score(y_train, y_train_pred)*100), 2))\n",
    "\n",
    "\n"
   ]
  },
  {
   "cell_type": "code",
   "execution_count": 49,
   "metadata": {
    "scrolled": true
   },
   "outputs": [
    {
     "name": "stdout",
     "output_type": "stream",
     "text": [
      "Classification Report:\n",
      "\n",
      "              precision    recall  f1-score   support\n",
      "\n",
      "           0       1.00      0.95      0.97     22289\n",
      "           1       0.57      0.97      0.72      1682\n",
      "\n",
      "    accuracy                           0.95     23971\n",
      "   macro avg       0.79      0.96      0.85     23971\n",
      "weighted avg       0.97      0.95      0.95     23971\n",
      "\n"
     ]
    }
   ],
   "source": [
    "print(\"Classification Report:\")\n",
    "print()\n",
    "print(classification_report(y_train, y_train_pred))"
   ]
  },
  {
   "cell_type": "markdown",
   "metadata": {},
   "source": [
    "# Task.12\n",
    "Regularization and Hyperparameter tuning:"
   ]
  },
  {
   "cell_type": "markdown",
   "metadata": {},
   "source": [
    "####  Task  12.1\n",
    "Import GridSearch and StratifiedKFold because of class imbalance."
   ]
  },
  {
   "cell_type": "code",
   "execution_count": 50,
   "metadata": {},
   "outputs": [],
   "source": [
    "from sklearn.model_selection import GridSearchCV, StratifiedKFold"
   ]
  },
  {
   "cell_type": "markdown",
   "metadata": {},
   "source": [
    "#### Task 12.2\n",
    "Provide the parameter grid to choose for ‘C’ and ‘penalty’ parameters."
   ]
  },
  {
   "cell_type": "code",
   "execution_count": 51,
   "metadata": {},
   "outputs": [],
   "source": [
    "param_grid = { 'C': [0.001,  0.01, 0.1, 0.2, 0.3, 0.4, 0.5, 0.6, 0.7, 0.8, 0.9, 1],\n",
    "                'penalty': [\"l1\", \"l2\", \"elasticnet\"],\n",
    "                'solver' : ['newton-cg', 'lbfgs', 'liblinear', 'sag'],\n",
    "                'max_iter': [500],\n",
    "              \n",
    "             }\n",
    "\n"
   ]
  },
  {
   "cell_type": "markdown",
   "metadata": {},
   "source": [
    "####  Task  12.3\n",
    "Use a balanced class weight while instantiating the logistic regression."
   ]
  },
  {
   "cell_type": "code",
   "execution_count": 52,
   "metadata": {},
   "outputs": [],
   "source": [
    "Model = LogisticRegression(class_weight=\"balanced\")"
   ]
  },
  {
   "cell_type": "markdown",
   "metadata": {},
   "source": [
    "# Task  13\n",
    "Find the parameters with the best recall in cross-validation."
   ]
  },
  {
   "cell_type": "markdown",
   "metadata": {},
   "source": [
    "#### Task  13.1\n",
    "Choose ‘recall’ as the metric for scoring.\n",
    "\n",
    "#### Task  13.2\n",
    "Choose a stratified 4 fold cross-validation scheme.\n",
    "\n",
    "#### Task  13.3\n",
    "Fit into  the train set."
   ]
  },
  {
   "cell_type": "code",
   "execution_count": 53,
   "metadata": {},
   "outputs": [
    {
     "name": "stdout",
     "output_type": "stream",
     "text": [
      "Fitting 4 folds for each of 144 candidates, totalling 576 fits\n"
     ]
    },
    {
     "name": "stderr",
     "output_type": "stream",
     "text": [
      "C:\\Users\\USER\\anaconda3\\lib\\site-packages\\sklearn\\model_selection\\_search.py:918: UserWarning: One or more of the test scores are non-finite: [       nan        nan 0.                nan 0.66942795 0.66942795\n",
      " 0.70271604 0.67061136        nan        nan        nan        nan\n",
      "        nan        nan 0.11118793        nan 0.69856068 0.69856068\n",
      " 0.70509558 0.69856068        nan        nan        nan        nan\n",
      "        nan        nan 0.58144017        nan 0.76753195 0.76753195\n",
      " 0.76812719 0.76753195        nan        nan        nan        nan\n",
      "        nan        nan 0.67715049        nan 0.77110338 0.77110338\n",
      " 0.77110338 0.77110338        nan        nan        nan        nan\n",
      "        nan        nan 0.71757437        nan 0.77644921 0.77644921\n",
      " 0.77704445 0.77644921        nan        nan        nan        nan\n",
      "        nan        nan 0.73184595        nan 0.77704304 0.77704304\n",
      " 0.77763686 0.77704304        nan        nan        nan        nan\n",
      "        nan        nan 0.74135844        nan 0.77704162 0.77704162\n",
      " 0.77704162 0.77704162        nan        nan        nan        nan\n",
      "        nan        nan 0.73719602        nan 0.77763545 0.77763545\n",
      " 0.77822927 0.77763545        nan        nan        nan        nan\n",
      "        nan        nan 0.74254751        nan 0.7788231  0.7788231\n",
      " 0.7788231  0.7788231         nan        nan        nan        nan\n",
      "        nan        nan 0.73898173        nan 0.7764478  0.7764478\n",
      " 0.7764478  0.7764478         nan        nan        nan        nan\n",
      "        nan        nan 0.74135703        nan 0.77822786 0.77822786\n",
      " 0.77822786 0.77822786        nan        nan        nan        nan\n",
      "        nan        nan 0.74314133        nan 0.77525591 0.77525591\n",
      " 0.77525591 0.77525591        nan        nan        nan        nan]\n",
      "  warnings.warn(\n"
     ]
    }
   ],
   "source": [
    "# Instantiate the grid search model\n",
    "\n",
    "\n",
    "grid_search = GridSearchCV(estimator = Model, \n",
    "                           param_grid = param_grid, \n",
    "                           cv = StratifiedKFold(4), \n",
    "                           n_jobs = -1, \n",
    "                           verbose = 1, \n",
    "                           scoring =  \"recall\",\n",
    "                                           \n",
    "                          )\n",
    "\n",
    "\n",
    "\n",
    "\n",
    "\n",
    "result = grid_search.fit(X_train_TFV, y_train)"
   ]
  },
  {
   "cell_type": "markdown",
   "metadata": {},
   "source": [
    "# Task  14\n",
    "What are the best parameters?"
   ]
  },
  {
   "cell_type": "code",
   "execution_count": 54,
   "metadata": {},
   "outputs": [
    {
     "name": "stdout",
     "output_type": "stream",
     "text": [
      "Best Score: 78.0%\n",
      "Best Hyperparameters: {'C': 0.7, 'max_iter': 500, 'penalty': 'l2', 'solver': 'newton-cg'}\n"
     ]
    }
   ],
   "source": [
    "print('Best Score: {}%'.format(round(result.best_score_, 2)*100))\n",
    "print('Best Hyperparameters: %s' % result.best_params_)"
   ]
  },
  {
   "cell_type": "markdown",
   "metadata": {},
   "source": [
    "# Task  15\n",
    "Predict and evaluate using the best estimator.\n",
    "\n"
   ]
  },
  {
   "cell_type": "markdown",
   "metadata": {},
   "source": [
    "#### Task  15.1\n",
    "Use the best estimator from the grid search to make predictions on the test set.\n",
    "\n"
   ]
  },
  {
   "cell_type": "code",
   "execution_count": 55,
   "metadata": {},
   "outputs": [],
   "source": [
    "y_test_pred = grid_search.best_estimator_.predict(X_test_TFV)\n",
    "y_train_pred = grid_search.best_estimator_.predict(X_train_TFV)\n"
   ]
  },
  {
   "cell_type": "markdown",
   "metadata": {},
   "source": [
    "####  Task  15.2\n",
    "What is the recall on the test set for the toxic comments?"
   ]
  },
  {
   "cell_type": "code",
   "execution_count": 56,
   "metadata": {},
   "outputs": [
    {
     "name": "stdout",
     "output_type": "stream",
     "text": [
      "Recall score- Decent: 95.0%\n",
      "Recall score- Low: 96.0%\n",
      "Recall score- High: 94.0%\n"
     ]
    }
   ],
   "source": [
    "Decent =  round(metrics.recall_score(y_train, y_train_pred, average='macro'),2 )*100\n",
    "Low    =  round(metrics.recall_score(y_train, y_train_pred),2 )*100\n",
    "High   =  round(metrics.recall_score(y_train, y_train_pred, average='weighted'),2 )*100\n",
    "\n",
    "\n",
    "print(\"Recall score- Decent: {}%\". format(Decent))\n",
    "print(\"Recall score- Low: {}%\". format(Low))\n",
    "print(\"Recall score- High: {}%\". format(High))\n"
   ]
  },
  {
   "cell_type": "markdown",
   "metadata": {},
   "source": [
    "#### Task 15.3\n",
    "What is the f_1 score?"
   ]
  },
  {
   "cell_type": "code",
   "execution_count": 57,
   "metadata": {},
   "outputs": [
    {
     "name": "stdout",
     "output_type": "stream",
     "text": [
      "F1 Score: 71.0%\n"
     ]
    }
   ],
   "source": [
    "print(\"F1 Score: {}%\".format(round(f1_score(y_train, y_train_pred),2)*100))"
   ]
  },
  {
   "cell_type": "markdown",
   "metadata": {},
   "source": [
    "#### Task 15.4\n",
    "Full Classificatio Report"
   ]
  },
  {
   "cell_type": "code",
   "execution_count": 58,
   "metadata": {},
   "outputs": [
    {
     "name": "stdout",
     "output_type": "stream",
     "text": [
      "Classification Report:\n",
      "\n",
      "              precision    recall  f1-score   support\n",
      "\n",
      "           0       0.98      0.93      0.96      7431\n",
      "           1       0.47      0.79      0.59       560\n",
      "\n",
      "    accuracy                           0.92      7991\n",
      "   macro avg       0.73      0.86      0.77      7991\n",
      "weighted avg       0.95      0.92      0.93      7991\n",
      "\n"
     ]
    }
   ],
   "source": [
    "print(\"Classification Report:\")\n",
    "print()\n",
    "print(classification_report(y_test, y_test_pred))"
   ]
  },
  {
   "cell_type": "code",
   "execution_count": 59,
   "metadata": {},
   "outputs": [
    {
     "name": "stdout",
     "output_type": "stream",
     "text": [
      "Finale accuracy: 92.0%\n",
      "\n"
     ]
    }
   ],
   "source": [
    "accuracy = round(accuracy_score(y_test, y_test_pred), 2)*100\n",
    "print(\"Finale accuracy: {}%\" .format(accuracy) )\n",
    "print()"
   ]
  },
  {
   "cell_type": "markdown",
   "metadata": {},
   "source": [
    "# Learners comments"
   ]
  },
  {
   "cell_type": "markdown",
   "metadata": {},
   "source": [
    "1)  Have observed the severity of the impact of unbalanced data on the model. Realized the need to  balance the data wherever required.\n",
    "\n",
    "2) I would say the model is excellent with 90% Confidence.\n",
    "\n",
    "3) It still has a scope to experiment with Nl processing libraries and utilising ML models.\n",
    "\n",
    "4) I would like to implement neural networks to build a model for this task. As such I have not built one in tis project as it is outside the scope of the project.\n"
   ]
  },
  {
   "cell_type": "markdown",
   "metadata": {},
   "source": [
    "# END OF THE PROJECT"
   ]
  }
 ],
 "metadata": {
  "kernelspec": {
   "display_name": "Python 3",
   "language": "python",
   "name": "python3"
  },
  "language_info": {
   "codemirror_mode": {
    "name": "ipython",
    "version": 3
   },
   "file_extension": ".py",
   "mimetype": "text/x-python",
   "name": "python",
   "nbconvert_exporter": "python",
   "pygments_lexer": "ipython3",
   "version": "3.8.3"
  }
 },
 "nbformat": 4,
 "nbformat_minor": 2
}
