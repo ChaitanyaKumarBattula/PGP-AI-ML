{
 "cells": [
  {
   "cell_type": "markdown",
   "metadata": {},
   "source": [
    "# COURSE:   PGP [AI&ML]\n",
    "\n",
    "## Learner :  Chaitanya Kumar Battula\n",
    "## Module  : NLP\n",
    "## Topic   : LazyMap Demo"
   ]
  },
  {
   "cell_type": "markdown",
   "metadata": {},
   "source": [
    "A lazy sequence whose elements are formed by applying a given\n",
    "function to each element in one or more underlying lists.  The\n",
    "function is applied lazily -- i.e., when you read a value from the\n",
    "list, ``LazyMap`` will calculate that value by applying its\n",
    "function to the underlying lists' value(s).  ``LazyMap`` is\n",
    "essentially a lazy version of the Python primitive function\n",
    "``map``.  In particular, the following two expressions are\n",
    "equivalent:\n",
    "\n",
    "\n",
    "\n",
    "    \n",
    "\n",
    "\n",
    "\n",
    "Like the Python ``map`` primitive, if the source lists do not have\n",
    "equal size, then the value None will be supplied for the\n",
    "'missing' elements.\n",
    "\n",
    "\n",
    "\n",
    "Lazy maps can be useful for conserving memory, in cases where\n",
    "individual values take up a lot of space.  This is especially true\n",
    "if the underlying list's values are constructed lazily, as is the\n",
    "case with many corpus readers.\n",
    "\n",
    "\n",
    "\n",
    "A typical example of a use case for this class is performing\n",
    "feature detection on the tokens in a corpus.  Since featuresets\n",
    "are encoded as dictionaries, which can take up a lot of memory,\n",
    "using a ``LazyMap`` can significantly reduce memory usage when\n",
    "training and running classifiers."
   ]
  },
  {
   "cell_type": "code",
   "execution_count": 1,
   "metadata": {},
   "outputs": [
    {
     "data": {
      "text/plain": [
       "['1', '2', '3']"
      ]
     },
     "execution_count": 1,
     "metadata": {},
     "output_type": "execute_result"
    }
   ],
   "source": [
    "from nltk.collections import LazyMap\n",
    "\n",
    "function = str\n",
    "sequence = [1,2,3]\n",
    "map(function, sequence) # doctest: +SKIP\n",
    "\n",
    "list(LazyMap(function, sequence))\n"
   ]
  },
  {
   "cell_type": "code",
   "execution_count": null,
   "metadata": {},
   "outputs": [],
   "source": []
  },
  {
   "cell_type": "code",
   "execution_count": null,
   "metadata": {},
   "outputs": [],
   "source": []
  },
  {
   "cell_type": "code",
   "execution_count": null,
   "metadata": {},
   "outputs": [],
   "source": []
  },
  {
   "cell_type": "code",
   "execution_count": null,
   "metadata": {},
   "outputs": [],
   "source": []
  },
  {
   "cell_type": "code",
   "execution_count": null,
   "metadata": {},
   "outputs": [],
   "source": []
  }
 ],
 "metadata": {
  "kernelspec": {
   "display_name": "Python 3",
   "language": "python",
   "name": "python3"
  },
  "language_info": {
   "codemirror_mode": {
    "name": "ipython",
    "version": 3
   },
   "file_extension": ".py",
   "mimetype": "text/x-python",
   "name": "python",
   "nbconvert_exporter": "python",
   "pygments_lexer": "ipython3",
   "version": "3.8.3"
  }
 },
 "nbformat": 4,
 "nbformat_minor": 4
}
