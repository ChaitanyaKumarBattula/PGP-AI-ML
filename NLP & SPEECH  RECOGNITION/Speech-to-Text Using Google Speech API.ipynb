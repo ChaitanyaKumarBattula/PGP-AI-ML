{
 "cells": [
  {
   "cell_type": "markdown",
   "metadata": {},
   "source": [
    "# COURSE:   PGP [AI&ML]\n",
    "\n",
    "## Learner :  Chaitanya Kumar Battula\n",
    "## Module  : NLP\n",
    "## Topic   : Speech-to-Text Using Google Speech API"
   ]
  },
  {
   "cell_type": "code",
   "execution_count": 1,
   "metadata": {},
   "outputs": [],
   "source": [
    "import speech_recognition as sr"
   ]
  },
  {
   "cell_type": "code",
   "execution_count": 2,
   "metadata": {},
   "outputs": [],
   "source": [
    " # Create a Recognizer instance\n",
    "\n",
    "r = sr.Recognizer()"
   ]
  },
  {
   "cell_type": "markdown",
   "metadata": {},
   "source": [
    "recognize_bing(): Microsoft Bing Speech\n",
    "recognize_google(): Google Web Speech API\n",
    "recognize_google_cloud(): Google Cloud Speech - requires installation of the google-cloud-speech package\n",
    "recognize_houndify(): Houndify by SoundHound\n",
    "recognize_ibm(): IBM Speech to Text\n",
    "recognize_wit(): Wit.ai\n",
    "\n",
    "recognize_sphinx(): CMU Sphinx - requires installing PocketSphinx\n",
    "\n",
    "recognize_sphinx() works offline with the CMU Sphinx engine. The other six all require an internet connection."
   ]
  },
  {
   "cell_type": "code",
   "execution_count": 3,
   "metadata": {},
   "outputs": [
    {
     "name": "stdout",
     "output_type": "stream",
     "text": [
      "< OUTPUT >\n",
      "\t Printing audio file to text:-\n"
     ]
    },
    {
     "data": {
      "text/plain": [
       "'the still smell of old beer drinkers it takes hi to bring out the order I called it yourself invest a salt a kotess find the M tacos Al pastor my favourite is just for food is Bihar cross bun'"
      ]
     },
     "execution_count": 3,
     "metadata": {},
     "output_type": "execute_result"
    }
   ],
   "source": [
    "# Load an audio file\n",
    "harvard = sr.AudioFile('harvard.wav')\n",
    "\n",
    "\n",
    "# Read Audio file to an object\n",
    "with harvard as source:\n",
    "    audio = r.record(source)\n",
    "\n",
    "\n",
    "print(\"< OUTPUT >\")\n",
    "print(\"\\t Printing audio file to text:-\")\n",
    "# Display the Object\n",
    "r.recognize_google(audio)"
   ]
  },
  {
   "cell_type": "markdown",
   "metadata": {},
   "source": [
    "# End Of  Practice Project"
   ]
  }
 ],
 "metadata": {
  "kernelspec": {
   "display_name": "Python 3",
   "language": "python",
   "name": "python3"
  },
  "language_info": {
   "codemirror_mode": {
    "name": "ipython",
    "version": 3
   },
   "file_extension": ".py",
   "mimetype": "text/x-python",
   "name": "python",
   "nbconvert_exporter": "python",
   "pygments_lexer": "ipython3",
   "version": "3.8.3"
  }
 },
 "nbformat": 4,
 "nbformat_minor": 4
}
