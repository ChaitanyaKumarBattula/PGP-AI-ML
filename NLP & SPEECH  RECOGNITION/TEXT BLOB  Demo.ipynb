{
 "cells": [
  {
   "cell_type": "markdown",
   "metadata": {},
   "source": [
    "# COURSE:   PGP [AI&ML]\n",
    "\n",
    "## Learner :  Chaitanya Kumar Battula\n",
    "## Module  : NLP\n",
    "## Topic   : text blob"
   ]
  },
  {
   "cell_type": "code",
   "execution_count": 1,
   "metadata": {},
   "outputs": [],
   "source": [
    "import textblob"
   ]
  },
  {
   "cell_type": "markdown",
   "metadata": {},
   "source": [
    "# TextBlob:  Word and Phrase Frequencie"
   ]
  },
  {
   "cell_type": "code",
   "execution_count": 2,
   "metadata": {},
   "outputs": [
    {
     "name": "stdout",
     "output_type": "stream",
     "text": [
      "Word count of 'the' is:  1\n",
      "Phrase count of ‘artificial intelligence’ is: 0\n"
     ]
    }
   ],
   "source": [
    "# Textb lob  Loading library \n",
    "from textblob import TextBlob \n",
    "\n",
    "\n",
    "#Textblob object \n",
    "textblob_obj = TextBlob(\"\"\" Simplilearn is one of the world’s leading certification training providers.\"\"\") \n",
    "\n",
    "#Counting word ‘the’\n",
    "word_count = textblob_obj.word_counts['the'] \n",
    "print(\"Word count of 'the' is: \", word_count) \n",
    "\n",
    "#phrase count \n",
    "phrase_count = textblob_obj.noun_phrases.count('world’s leading') \n",
    "print(\"Phrase count of ‘artificial intelligence’ is:\", phrase_count)\n"
   ]
  },
  {
   "cell_type": "markdown",
   "metadata": {},
   "source": [
    "# TextBlob: Lemmatization"
   ]
  },
  {
   "cell_type": "code",
   "execution_count": 3,
   "metadata": {},
   "outputs": [
    {
     "name": "stdout",
     "output_type": "stream",
     "text": [
      "running\n"
     ]
    }
   ],
   "source": [
    "from textblob import Word\n",
    "\n",
    "w = Word(\"running\")\n",
    "print(w.lemmatize())"
   ]
  },
  {
   "cell_type": "markdown",
   "metadata": {},
   "source": [
    "# TextBlob: Tokenization\n"
   ]
  },
  {
   "cell_type": "code",
   "execution_count": 4,
   "metadata": {},
   "outputs": [
    {
     "data": {
      "text/plain": [
       "WordList(['Simplilearn', 'is', 'one', 'of', 'the', 'world', '’', 's', 'leading', 'certification', 'training', 'providers.We', 'partner', 'with', 'companies', 'and', 'individuals', 'to', 'address', 'their', 'unique', 'needs.We', 'provide', 'training', 'and', 'coaching', 'that', 'helps', 'working', 'professionals', 'achieve', 'their', 'career', 'goals'])"
      ]
     },
     "execution_count": 4,
     "metadata": {},
     "output_type": "execute_result"
    }
   ],
   "source": [
    "from textblob import TextBlob\n",
    "\n",
    "blob = TextBlob(\"Simplilearn is one of the world’s leading certification training providers.\"\n",
    "\"We partner with companies and individuals to address their unique needs.\"\n",
    "\"We provide training and coaching that helps working professionals achieve their career goals.\")\n",
    "                \n",
    "                \n",
    "                \n",
    "blob.words"
   ]
  },
  {
   "cell_type": "markdown",
   "metadata": {},
   "source": [
    "# TextBlob: forming a Sentence"
   ]
  },
  {
   "cell_type": "code",
   "execution_count": 5,
   "metadata": {},
   "outputs": [
    {
     "data": {
      "text/plain": [
       "[Sentence(\"Simplilearn is one of the world’s leading certification training providers.We partner with companies and individuals to address their unique needs.We provide training and coaching that helps working professionals achieve their career goals.\")]"
      ]
     },
     "execution_count": 5,
     "metadata": {},
     "output_type": "execute_result"
    }
   ],
   "source": [
    "from textblob import TextBlob\n",
    "\n",
    "WordList = ['Simplilearn', 'is', 'one', 'of', 'the', 'world', '’', 's', 'leading', 'certification', 'training', 'providers.We', 'partner', 'with', 'companies', 'and', 'individuals', 'to', 'address', 'their', 'unique', 'needs.We', 'provide', 'training', 'and', 'coaching', 'that', 'helps', 'working', 'professionals', 'achieve', 'their', 'career', 'goals']\n",
    "\n",
    "\n",
    "blob.sentences\n",
    "\n"
   ]
  },
  {
   "cell_type": "markdown",
   "metadata": {},
   "source": [
    "# TextBlob: Word Inflection"
   ]
  },
  {
   "cell_type": "markdown",
   "metadata": {},
   "source": [
    "##  Converts singular nouns to plural "
   ]
  },
  {
   "cell_type": "code",
   "execution_count": 6,
   "metadata": {},
   "outputs": [
    {
     "name": "stdout",
     "output_type": "stream",
     "text": [
      "companies\n"
     ]
    }
   ],
   "source": [
    "from textblob import Word\n",
    "\n",
    "w = Word(\"company\")\n",
    "print (w.pluralize())"
   ]
  },
  {
   "cell_type": "markdown",
   "metadata": {},
   "source": [
    "##  Converts Plural Noun to Singular "
   ]
  },
  {
   "cell_type": "code",
   "execution_count": 7,
   "metadata": {},
   "outputs": [
    {
     "name": "stdout",
     "output_type": "stream",
     "text": [
      "monkey\n"
     ]
    }
   ],
   "source": [
    "from textblob import Word\n",
    "\n",
    "w = Word(\"monkeys\")\n",
    "print (w.singularize())"
   ]
  },
  {
   "cell_type": "markdown",
   "metadata": {},
   "source": [
    "###  Singular Plural Exercise"
   ]
  },
  {
   "cell_type": "markdown",
   "metadata": {},
   "source": [
    "sentence = TextBlob(' There are 10 cows. He is a single child.')\n",
    "print (sentence.words)\n",
    "print()\n",
    "\n",
    "print (\"Singularize form of 2nd word: \", sentence.words[1].singularize())\n",
    "print (\"Pulralize form of last word: \", sentence.words[-1].pluralize())\n"
   ]
  },
  {
   "cell_type": "markdown",
   "metadata": {},
   "source": [
    "# TextBlob: Part-of-Speech Tagging"
   ]
  },
  {
   "cell_type": "code",
   "execution_count": 8,
   "metadata": {},
   "outputs": [
    {
     "name": "stdout",
     "output_type": "stream",
     "text": [
      "Simplilearn NNP\n",
      "is VBZ\n",
      "one CD\n",
      "of IN\n",
      "the DT\n",
      "world NN\n",
      "’ NN\n",
      "s NN\n",
      "leading VBG\n",
      "certification NN\n",
      "training NN\n",
      "providers NNS\n"
     ]
    }
   ],
   "source": [
    "from textblob import TextBlob\n",
    "\n",
    "blob = TextBlob(\"Simplilearn is one of the world’s leading certification training providers.\")\n",
    "\n",
    "for word, pos in blob.tags:\n",
    "    print (word, pos)"
   ]
  },
  {
   "cell_type": "markdown",
   "metadata": {},
   "source": [
    "# TextBlob: Sentiment Analysis"
   ]
  },
  {
   "cell_type": "code",
   "execution_count": 9,
   "metadata": {},
   "outputs": [
    {
     "name": "stdout",
     "output_type": "stream",
     "text": [
      "Score:  Sentiment(polarity=1.0, subjectivity=1.0)\n",
      "Polarity:  1.0\n"
     ]
    }
   ],
   "source": [
    "#Textblob Loading library\n",
    "from textblob import TextBlob\n",
    "\n",
    "# textblob_obj = TextBlob(\"Simplilearn is one of the  world’s leading certification training providers.\")\n",
    "textblob_obj = TextBlob(\"JCE is an excellent institution.\")\n",
    "\n",
    "#Find sentiment score\n",
    "sentiment_score = textblob_obj.sentiment\n",
    "\n",
    "#Find sentiment polarity\n",
    "sentiment_polarity = textblob_obj.sentiment.polarity\n",
    "\n",
    "print (\"Score: \", sentiment_score)\n",
    "print (\"Polarity: \", sentiment_polarity)\n"
   ]
  },
  {
   "cell_type": "markdown",
   "metadata": {},
   "source": [
    "# Spelling Check"
   ]
  },
  {
   "cell_type": "code",
   "execution_count": 10,
   "metadata": {},
   "outputs": [
    {
     "data": {
      "text/plain": [
       "[('provider', 1.0)]"
      ]
     },
     "execution_count": 10,
     "metadata": {},
     "output_type": "execute_result"
    }
   ],
   "source": [
    "from textblob import Word\n",
    "w = Word('proviler')\n",
    "w.spellcheck()\n"
   ]
  },
  {
   "cell_type": "markdown",
   "metadata": {},
   "source": [
    "# Spelling Correction"
   ]
  },
  {
   "cell_type": "code",
   "execution_count": 11,
   "metadata": {},
   "outputs": [
    {
     "name": "stdout",
     "output_type": "stream",
     "text": [
      "Simplilearn is one of the world’s leading mortification training provides.\n"
     ]
    }
   ],
   "source": [
    "b = TextBlob(\"Simplilearn isi one of the world’s leading certification training providers.\")\n",
    "print(b.correct())\n"
   ]
  },
  {
   "cell_type": "code",
   "execution_count": 12,
   "metadata": {},
   "outputs": [
    {
     "data": {
      "text/plain": [
       "'fr'"
      ]
     },
     "execution_count": 12,
     "metadata": {},
     "output_type": "execute_result"
    }
   ],
   "source": [
    "b = TextBlob(\"bonjour\")\n",
    "b.detect_language()"
   ]
  },
  {
   "cell_type": "code",
   "execution_count": 13,
   "metadata": {},
   "outputs": [
    {
     "data": {
      "text/plain": [
       "'en'"
      ]
     },
     "execution_count": 13,
     "metadata": {},
     "output_type": "execute_result"
    }
   ],
   "source": [
    "en_blob = TextBlob('Simplilearn is one of the world’s leading certification training providers.')\n",
    "en_blob.detect_language()"
   ]
  },
  {
   "cell_type": "markdown",
   "metadata": {},
   "source": [
    "# Translate"
   ]
  },
  {
   "cell_type": "code",
   "execution_count": 14,
   "metadata": {},
   "outputs": [
    {
     "data": {
      "text/plain": [
       "TextBlob(\"Simplilearn es uno de los proveedores de formación de certificación líderes en el mundo.\")"
      ]
     },
     "execution_count": 14,
     "metadata": {},
     "output_type": "execute_result"
    }
   ],
   "source": [
    "en_blob = TextBlob('Simplilearn is one of the world’s leading certification training providers.')\n",
    "\n",
    "\n",
    "en_blob.translate(to='es')\n"
   ]
  },
  {
   "cell_type": "markdown",
   "metadata": {},
   "source": [
    "# N Grams"
   ]
  },
  {
   "cell_type": "code",
   "execution_count": 15,
   "metadata": {},
   "outputs": [
    {
     "data": {
      "text/plain": [
       "[WordList(['Simplilearn', 'is', 'one']),\n",
       " WordList(['is', 'one', 'of']),\n",
       " WordList(['one', 'of', 'the']),\n",
       " WordList(['of', 'the', 'world']),\n",
       " WordList(['the', 'world', '’']),\n",
       " WordList(['world', '’', 's']),\n",
       " WordList(['’', 's', 'leading']),\n",
       " WordList(['s', 'leading', 'certification']),\n",
       " WordList(['leading', 'certification', 'training']),\n",
       " WordList(['certification', 'training', 'providers'])]"
      ]
     },
     "execution_count": 15,
     "metadata": {},
     "output_type": "execute_result"
    }
   ],
   "source": [
    "blob = TextBlob(\"Simplilearn is one of the world’s leading certification training providers.\")\n",
    "\n",
    "blob.ngrams(n=3)"
   ]
  },
  {
   "cell_type": "code",
   "execution_count": null,
   "metadata": {},
   "outputs": [],
   "source": []
  },
  {
   "cell_type": "code",
   "execution_count": null,
   "metadata": {},
   "outputs": [],
   "source": []
  },
  {
   "cell_type": "code",
   "execution_count": null,
   "metadata": {},
   "outputs": [],
   "source": []
  },
  {
   "cell_type": "code",
   "execution_count": null,
   "metadata": {},
   "outputs": [],
   "source": []
  },
  {
   "cell_type": "code",
   "execution_count": null,
   "metadata": {},
   "outputs": [],
   "source": []
  },
  {
   "cell_type": "code",
   "execution_count": null,
   "metadata": {},
   "outputs": [],
   "source": []
  },
  {
   "cell_type": "code",
   "execution_count": null,
   "metadata": {},
   "outputs": [],
   "source": []
  },
  {
   "cell_type": "code",
   "execution_count": null,
   "metadata": {},
   "outputs": [],
   "source": []
  },
  {
   "cell_type": "code",
   "execution_count": null,
   "metadata": {},
   "outputs": [],
   "source": []
  },
  {
   "cell_type": "code",
   "execution_count": null,
   "metadata": {},
   "outputs": [],
   "source": []
  },
  {
   "cell_type": "code",
   "execution_count": null,
   "metadata": {},
   "outputs": [],
   "source": []
  },
  {
   "cell_type": "code",
   "execution_count": null,
   "metadata": {},
   "outputs": [],
   "source": []
  },
  {
   "cell_type": "code",
   "execution_count": 16,
   "metadata": {},
   "outputs": [
    {
     "data": {
      "text/plain": [
       "[('Simple', 'NN'),\n",
       " ('is', 'VBZ'),\n",
       " ('better', 'JJR'),\n",
       " ('than', 'IN'),\n",
       " ('complex', 'JJ')]"
      ]
     },
     "execution_count": 16,
     "metadata": {},
     "output_type": "execute_result"
    }
   ],
   "source": [
    "from textblob import TextBlob\n",
    "b = TextBlob(\"Simple is better than complex.\")\n",
    "b.tags"
   ]
  },
  {
   "cell_type": "code",
   "execution_count": 17,
   "metadata": {},
   "outputs": [
    {
     "data": {
      "text/plain": [
       "WordList(['simple'])"
      ]
     },
     "execution_count": 17,
     "metadata": {},
     "output_type": "execute_result"
    }
   ],
   "source": [
    "b.noun_phrases"
   ]
  },
  {
   "cell_type": "code",
   "execution_count": null,
   "metadata": {},
   "outputs": [],
   "source": []
  },
  {
   "cell_type": "code",
   "execution_count": null,
   "metadata": {},
   "outputs": [],
   "source": []
  },
  {
   "cell_type": "code",
   "execution_count": null,
   "metadata": {},
   "outputs": [],
   "source": []
  },
  {
   "cell_type": "code",
   "execution_count": null,
   "metadata": {},
   "outputs": [],
   "source": []
  },
  {
   "cell_type": "code",
   "execution_count": null,
   "metadata": {},
   "outputs": [],
   "source": []
  }
 ],
 "metadata": {
  "kernelspec": {
   "display_name": "Python 3",
   "language": "python",
   "name": "python3"
  },
  "language_info": {
   "codemirror_mode": {
    "name": "ipython",
    "version": 3
   },
   "file_extension": ".py",
   "mimetype": "text/x-python",
   "name": "python",
   "nbconvert_exporter": "python",
   "pygments_lexer": "ipython3",
   "version": "3.8.3"
  }
 },
 "nbformat": 4,
 "nbformat_minor": 4
}
