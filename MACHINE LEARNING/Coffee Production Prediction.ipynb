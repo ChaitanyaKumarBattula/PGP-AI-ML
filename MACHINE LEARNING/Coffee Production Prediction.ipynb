{
 "cells": [
  {
   "cell_type": "markdown",
   "metadata": {
    "id": "SNQFh6A4n_Qp"
   },
   "source": [
    "# **Coffee Production Prediction**"
   ]
  },
  {
   "cell_type": "code",
   "execution_count": 1,
   "metadata": {
    "id": "9EsOLpf-vqq1"
   },
   "outputs": [],
   "source": [
    "# Importing Required Libraries\n",
    "\n",
    "import pandas as pd\n",
    "import numpy as np\n",
    "import seaborn as sns\n",
    "import matplotlib.pyplot as plt \n",
    "\n",
    "from sklearn.model_selection import train_test_split\n",
    "from sklearn.preprocessing import StandardScaler\n",
    "from sklearn.model_selection import cross_validate\n",
    "from sklearn.metrics import mean_squared_error\n",
    "\n",
    "from sklearn.ensemble import RandomForestRegressor\n",
    "from sklearn.linear_model import Ridge, Lasso, LinearRegression\n",
    "from sklearn.tree import DecisionTreeRegressor\n",
    "from sklearn.svm import SVR\n",
    "from sklearn.model_selection import GridSearchCV\n",
    "\n",
    "from sklearn.ensemble import RandomForestRegressor, GradientBoostingRegressor\n",
    "from sklearn.metrics import confusion_matrix, accuracy_score, roc_curve, classification_report\n"
   ]
  },
  {
   "cell_type": "code",
   "execution_count": 2,
   "metadata": {
    "id": "e7UUBYw3wtdc"
   },
   "outputs": [],
   "source": [
    "# load diffent data files\n",
    "\n",
    "df_paths = [\n",
    "    './DataSets/Coffee-Production-Datasets/domestic-consumption.csv',\n",
    "    './DataSets/Coffee-Production-Datasets/exports-calendar-year.csv',\n",
    "    './DataSets/Coffee-Production-Datasets/exports-crop-year.csv',\n",
    "    './DataSets/Coffee-Production-Datasets/gross-opening-stocks.csv',\n",
    "    './DataSets/Coffee-Production-Datasets/total-production.csv'\n",
    "]"
   ]
  },
  {
   "cell_type": "code",
   "execution_count": 3,
   "metadata": {
    "id": "55yY2DnWxQxD"
   },
   "outputs": [],
   "source": [
    "dfs = [pd.read_csv(df_path) for df_path in df_paths]\n"
   ]
  },
  {
   "cell_type": "code",
   "execution_count": 4,
   "metadata": {
    "id": "qpt0Y0xOxQyK"
   },
   "outputs": [],
   "source": [
    "def get_means(df):\n",
    "    df = df.copy()\n",
    "    countries = df[df.columns[0]]\n",
    "    means = df.mean(axis=1)\n",
    "    df = pd.concat([countries, means], axis=1)\n",
    "    df.columns = ['country', countries.name]\n",
    "    return df"
   ]
  },
  {
   "cell_type": "code",
   "execution_count": 5,
   "metadata": {
    "id": "ao9OCmgjxYJr"
   },
   "outputs": [],
   "source": [
    "def make_df(dfs):\n",
    "    \n",
    "    # Process all DataFrames\n",
    "    processed_dfs = []\n",
    "    \n",
    "    for df in dfs:\n",
    "        processed_dfs.append(get_means(df))\n",
    "        \n",
    "    # Merge DataFrames\n",
    "    df = processed_dfs[0]\n",
    "    \n",
    "    for i in range(1, len(processed_dfs)):\n",
    "        df = df.merge(processed_dfs[i], on='country')\n",
    "    \n",
    "    return df"
   ]
  },
  {
   "cell_type": "code",
   "execution_count": 6,
   "metadata": {
    "colab": {
     "base_uri": "https://localhost:8080/",
     "height": 203
    },
    "id": "Yit5CD8txgmT",
    "outputId": "a5053b5d-226a-4a9c-bc80-89199aefe3ee"
   },
   "outputs": [
    {
     "name": "stderr",
     "output_type": "stream",
     "text": [
      "C:\\Users\\USER\\AppData\\Local\\Temp\\ipykernel_22824\\94857722.py:4: FutureWarning: Dropping of nuisance columns in DataFrame reductions (with 'numeric_only=None') is deprecated; in a future version this will raise TypeError.  Select only valid columns before calling the reduction.\n",
      "  means = df.mean(axis=1)\n",
      "C:\\Users\\USER\\AppData\\Local\\Temp\\ipykernel_22824\\94857722.py:4: FutureWarning: Dropping of nuisance columns in DataFrame reductions (with 'numeric_only=None') is deprecated; in a future version this will raise TypeError.  Select only valid columns before calling the reduction.\n",
      "  means = df.mean(axis=1)\n",
      "C:\\Users\\USER\\AppData\\Local\\Temp\\ipykernel_22824\\94857722.py:4: FutureWarning: Dropping of nuisance columns in DataFrame reductions (with 'numeric_only=None') is deprecated; in a future version this will raise TypeError.  Select only valid columns before calling the reduction.\n",
      "  means = df.mean(axis=1)\n",
      "C:\\Users\\USER\\AppData\\Local\\Temp\\ipykernel_22824\\94857722.py:4: FutureWarning: Dropping of nuisance columns in DataFrame reductions (with 'numeric_only=None') is deprecated; in a future version this will raise TypeError.  Select only valid columns before calling the reduction.\n",
      "  means = df.mean(axis=1)\n",
      "C:\\Users\\USER\\AppData\\Local\\Temp\\ipykernel_22824\\94857722.py:4: FutureWarning: Dropping of nuisance columns in DataFrame reductions (with 'numeric_only=None') is deprecated; in a future version this will raise TypeError.  Select only valid columns before calling the reduction.\n",
      "  means = df.mean(axis=1)\n"
     ]
    },
    {
     "data": {
      "text/html": [
       "<div>\n",
       "<style scoped>\n",
       "    .dataframe tbody tr th:only-of-type {\n",
       "        vertical-align: middle;\n",
       "    }\n",
       "\n",
       "    .dataframe tbody tr th {\n",
       "        vertical-align: top;\n",
       "    }\n",
       "\n",
       "    .dataframe thead th {\n",
       "        text-align: right;\n",
       "    }\n",
       "</style>\n",
       "<table border=\"1\" class=\"dataframe\">\n",
       "  <thead>\n",
       "    <tr style=\"text-align: right;\">\n",
       "      <th></th>\n",
       "      <th>country</th>\n",
       "      <th>domestic_consumption</th>\n",
       "      <th>exports</th>\n",
       "      <th>exports_crop_year</th>\n",
       "      <th>gross_opening_stocks</th>\n",
       "      <th>total_production</th>\n",
       "    </tr>\n",
       "  </thead>\n",
       "  <tbody>\n",
       "    <tr>\n",
       "      <th>0</th>\n",
       "      <td>Angola</td>\n",
       "      <td>25.689655</td>\n",
       "      <td>24.115531</td>\n",
       "      <td>23.187083</td>\n",
       "      <td>42.068966</td>\n",
       "      <td>45.256048</td>\n",
       "    </tr>\n",
       "    <tr>\n",
       "      <th>1</th>\n",
       "      <td>Bolivia (Plurinational State of)</td>\n",
       "      <td>41.103448</td>\n",
       "      <td>78.384152</td>\n",
       "      <td>76.904748</td>\n",
       "      <td>7.237931</td>\n",
       "      <td>116.146128</td>\n",
       "    </tr>\n",
       "    <tr>\n",
       "      <th>2</th>\n",
       "      <td>Brazil</td>\n",
       "      <td>15234.310345</td>\n",
       "      <td>25706.195606</td>\n",
       "      <td>25919.128803</td>\n",
       "      <td>23213.206897</td>\n",
       "      <td>41067.783976</td>\n",
       "    </tr>\n",
       "    <tr>\n",
       "      <th>3</th>\n",
       "      <td>Burundi</td>\n",
       "      <td>1.891966</td>\n",
       "      <td>363.186423</td>\n",
       "      <td>356.056321</td>\n",
       "      <td>48.979690</td>\n",
       "      <td>350.172424</td>\n",
       "    </tr>\n",
       "    <tr>\n",
       "      <th>4</th>\n",
       "      <td>Ecuador</td>\n",
       "      <td>214.137931</td>\n",
       "      <td>1115.800914</td>\n",
       "      <td>1105.434110</td>\n",
       "      <td>108.592069</td>\n",
       "      <td>1076.504352</td>\n",
       "    </tr>\n",
       "  </tbody>\n",
       "</table>\n",
       "</div>"
      ],
      "text/plain": [
       "                            country  domestic_consumption       exports  \\\n",
       "0                            Angola             25.689655     24.115531   \n",
       "1  Bolivia (Plurinational State of)             41.103448     78.384152   \n",
       "2                            Brazil          15234.310345  25706.195606   \n",
       "3                           Burundi              1.891966    363.186423   \n",
       "4                           Ecuador            214.137931   1115.800914   \n",
       "\n",
       "   exports_crop_year  gross_opening_stocks  total_production  \n",
       "0          23.187083             42.068966         45.256048  \n",
       "1          76.904748              7.237931        116.146128  \n",
       "2       25919.128803          23213.206897      41067.783976  \n",
       "3         356.056321             48.979690        350.172424  \n",
       "4        1105.434110            108.592069       1076.504352  "
      ]
     },
     "execution_count": 6,
     "metadata": {},
     "output_type": "execute_result"
    }
   ],
   "source": [
    "# Combining different data files to make a dataset to predict coffee production from 1990 to 2018\n",
    "data = make_df(dfs)\n",
    "data.head()"
   ]
  },
  {
   "cell_type": "code",
   "execution_count": 7,
   "metadata": {
    "colab": {
     "base_uri": "https://localhost:8080/"
    },
    "id": "8kjWs6ehxkCT",
    "outputId": "8a5f86f5-1b5a-4ddf-95ef-f8903e7ea42a"
   },
   "outputs": [
    {
     "name": "stdout",
     "output_type": "stream",
     "text": [
      "<class 'pandas.core.frame.DataFrame'>\n",
      "Int64Index: 56 entries, 0 to 55\n",
      "Data columns (total 6 columns):\n",
      " #   Column                Non-Null Count  Dtype  \n",
      "---  ------                --------------  -----  \n",
      " 0   country               56 non-null     object \n",
      " 1   domestic_consumption  56 non-null     float64\n",
      " 2   exports               56 non-null     float64\n",
      " 3   exports_crop_year     56 non-null     float64\n",
      " 4   gross_opening_stocks  56 non-null     float64\n",
      " 5   total_production      56 non-null     float64\n",
      "dtypes: float64(5), object(1)\n",
      "memory usage: 3.1+ KB\n"
     ]
    }
   ],
   "source": [
    "data.info()"
   ]
  },
  {
   "cell_type": "code",
   "execution_count": 8,
   "metadata": {
    "colab": {
     "base_uri": "https://localhost:8080/"
    },
    "id": "a8umCAjuxtOM",
    "outputId": "d450e476-d33b-4dd5-e867-0a3e12e13e82"
   },
   "outputs": [
    {
     "data": {
      "text/plain": [
       "(56, 6)"
      ]
     },
     "execution_count": 8,
     "metadata": {},
     "output_type": "execute_result"
    }
   ],
   "source": [
    "data.shape"
   ]
  },
  {
   "cell_type": "code",
   "execution_count": 9,
   "metadata": {
    "colab": {
     "base_uri": "https://localhost:8080/"
    },
    "id": "6cZFBDeFxvwN",
    "outputId": "2985400c-4ed7-446b-816d-eaf2106bb338"
   },
   "outputs": [
    {
     "data": {
      "text/plain": [
       "country                 0\n",
       "domestic_consumption    0\n",
       "exports                 0\n",
       "exports_crop_year       0\n",
       "gross_opening_stocks    0\n",
       "total_production        0\n",
       "dtype: int64"
      ]
     },
     "execution_count": 9,
     "metadata": {},
     "output_type": "execute_result"
    }
   ],
   "source": [
    "data.isnull().sum()"
   ]
  },
  {
   "cell_type": "code",
   "execution_count": 10,
   "metadata": {
    "colab": {
     "base_uri": "https://localhost:8080/"
    },
    "id": "Zxm_ivT4xzi8",
    "outputId": "323561fb-480a-4ce4-e1b1-33464392e5ee"
   },
   "outputs": [
    {
     "data": {
      "text/plain": [
       "0"
      ]
     },
     "execution_count": 10,
     "metadata": {},
     "output_type": "execute_result"
    }
   ],
   "source": [
    "data.duplicated().sum()"
   ]
  },
  {
   "cell_type": "code",
   "execution_count": 11,
   "metadata": {
    "colab": {
     "base_uri": "https://localhost:8080/",
     "height": 295
    },
    "id": "5c73ZimMyit0",
    "outputId": "d9ddd981-17c6-4fe7-e668-e4958e314b20"
   },
   "outputs": [
    {
     "data": {
      "text/html": [
       "<div>\n",
       "<style scoped>\n",
       "    .dataframe tbody tr th:only-of-type {\n",
       "        vertical-align: middle;\n",
       "    }\n",
       "\n",
       "    .dataframe tbody tr th {\n",
       "        vertical-align: top;\n",
       "    }\n",
       "\n",
       "    .dataframe thead th {\n",
       "        text-align: right;\n",
       "    }\n",
       "</style>\n",
       "<table border=\"1\" class=\"dataframe\">\n",
       "  <thead>\n",
       "    <tr style=\"text-align: right;\">\n",
       "      <th></th>\n",
       "      <th>domestic_consumption</th>\n",
       "      <th>exports</th>\n",
       "      <th>exports_crop_year</th>\n",
       "      <th>gross_opening_stocks</th>\n",
       "      <th>total_production</th>\n",
       "    </tr>\n",
       "  </thead>\n",
       "  <tbody>\n",
       "    <tr>\n",
       "      <th>count</th>\n",
       "      <td>56.000000</td>\n",
       "      <td>56.000000</td>\n",
       "      <td>56.000000</td>\n",
       "      <td>56.000000</td>\n",
       "      <td>56.000000</td>\n",
       "    </tr>\n",
       "    <tr>\n",
       "      <th>mean</th>\n",
       "      <td>598.190822</td>\n",
       "      <td>1659.518787</td>\n",
       "      <td>1675.821731</td>\n",
       "      <td>649.819970</td>\n",
       "      <td>2209.623978</td>\n",
       "    </tr>\n",
       "    <tr>\n",
       "      <th>std</th>\n",
       "      <td>2081.814904</td>\n",
       "      <td>4089.426252</td>\n",
       "      <td>4148.578684</td>\n",
       "      <td>3109.283691</td>\n",
       "      <td>6018.038152</td>\n",
       "    </tr>\n",
       "    <tr>\n",
       "      <th>min</th>\n",
       "      <td>0.000000</td>\n",
       "      <td>0.063966</td>\n",
       "      <td>0.063966</td>\n",
       "      <td>0.000000</td>\n",
       "      <td>0.063966</td>\n",
       "    </tr>\n",
       "    <tr>\n",
       "      <th>25%</th>\n",
       "      <td>4.934638</td>\n",
       "      <td>30.332257</td>\n",
       "      <td>29.494833</td>\n",
       "      <td>4.586207</td>\n",
       "      <td>44.738335</td>\n",
       "    </tr>\n",
       "    <tr>\n",
       "      <th>50%</th>\n",
       "      <td>59.965517</td>\n",
       "      <td>173.106854</td>\n",
       "      <td>166.062226</td>\n",
       "      <td>39.224138</td>\n",
       "      <td>330.032916</td>\n",
       "    </tr>\n",
       "    <tr>\n",
       "      <th>75%</th>\n",
       "      <td>325.562914</td>\n",
       "      <td>1338.744688</td>\n",
       "      <td>1367.453200</td>\n",
       "      <td>157.386466</td>\n",
       "      <td>1499.984847</td>\n",
       "    </tr>\n",
       "    <tr>\n",
       "      <th>max</th>\n",
       "      <td>15234.310345</td>\n",
       "      <td>25706.195606</td>\n",
       "      <td>25919.128803</td>\n",
       "      <td>23213.206897</td>\n",
       "      <td>41067.783976</td>\n",
       "    </tr>\n",
       "  </tbody>\n",
       "</table>\n",
       "</div>"
      ],
      "text/plain": [
       "       domestic_consumption       exports  exports_crop_year  \\\n",
       "count             56.000000     56.000000          56.000000   \n",
       "mean             598.190822   1659.518787        1675.821731   \n",
       "std             2081.814904   4089.426252        4148.578684   \n",
       "min                0.000000      0.063966           0.063966   \n",
       "25%                4.934638     30.332257          29.494833   \n",
       "50%               59.965517    173.106854         166.062226   \n",
       "75%              325.562914   1338.744688        1367.453200   \n",
       "max            15234.310345  25706.195606       25919.128803   \n",
       "\n",
       "       gross_opening_stocks  total_production  \n",
       "count             56.000000         56.000000  \n",
       "mean             649.819970       2209.623978  \n",
       "std             3109.283691       6018.038152  \n",
       "min                0.000000          0.063966  \n",
       "25%                4.586207         44.738335  \n",
       "50%               39.224138        330.032916  \n",
       "75%              157.386466       1499.984847  \n",
       "max            23213.206897      41067.783976  "
      ]
     },
     "execution_count": 11,
     "metadata": {},
     "output_type": "execute_result"
    }
   ],
   "source": [
    "data.describe()\n"
   ]
  },
  {
   "cell_type": "code",
   "execution_count": 12,
   "metadata": {
    "id": "J03uqC1mz2Mm"
   },
   "outputs": [],
   "source": [
    "cor=data.corr()\n"
   ]
  },
  {
   "cell_type": "code",
   "execution_count": 13,
   "metadata": {
    "colab": {
     "base_uri": "https://localhost:8080/",
     "height": 630
    },
    "id": "wiZMOPUCydWi",
    "outputId": "05e0fde1-61c9-48d7-b482-0a575ce6320c"
   },
   "outputs": [
    {
     "data": {
      "text/plain": [
       "Text(0.5, 1.0, 'Correlation among all the Variables of the Dataset')"
      ]
     },
     "execution_count": 13,
     "metadata": {},
     "output_type": "execute_result"
    },
    {
     "data": {
      "image/png": "[encoded data removed]",
      "text/plain": [
       "<Figure size 1500x1000 with 2 Axes>"
      ]
     },
     "metadata": {},
     "output_type": "display_data"
    }
   ],
   "source": [
    "\n",
    "#Checking relationship between variables\n",
    "plt.figure(figsize=(15,10), facecolor='w')\n",
    "sns.heatmap(cor,xticklabels=cor.columns,yticklabels=cor.columns,annot=True)\n",
    "plt.title(\"Correlation among all the Variables of the Dataset\", size=20)\n"
   ]
  },
  {
   "cell_type": "code",
   "execution_count": 14,
   "metadata": {
    "id": "UUpH9OAxydbR"
   },
   "outputs": [],
   "source": [
    "def preprocess_inputs(df):\n",
    "    df = df.copy()\n",
    "    \n",
    "    # Drop country column\n",
    "    df = df.drop('country', axis=1)\n",
    "    \n",
    "    # Split df into X and y\n",
    "    y = df['total_production']\n",
    "    X = df.drop('total_production', axis=1)\n",
    "    \n",
    "    # Train-test split\n",
    "    X_train, X_test, y_train, y_test = train_test_split(X, y, train_size=0.7, shuffle=True, random_state=1)\n",
    "    \n",
    "    # Scale X\n",
    "    scaler = StandardScaler()\n",
    "    scaler.fit(X_train)\n",
    "    X_train = pd.DataFrame(scaler.transform(X_train), index=X_train.index, columns=X_train.columns)\n",
    "    X_test = pd.DataFrame(scaler.transform(X_test), index=X_test.index, columns=X_test.columns)\n",
    "    \n",
    "    return X_train, X_test, y_train, y_test"
   ]
  },
  {
   "cell_type": "code",
   "execution_count": 15,
   "metadata": {
    "id": "yqTEutUpzFDR"
   },
   "outputs": [],
   "source": [
    "X_train, X_test, y_train, y_test = preprocess_inputs(data)\n"
   ]
  },
  {
   "cell_type": "code",
   "execution_count": 16,
   "metadata": {
    "colab": {
     "base_uri": "https://localhost:8080/",
     "height": 1000
    },
    "id": "ZeDCbRJizH0Y",
    "outputId": "7949da77-46f9-4857-a626-5c6dd4dcd4c0"
   },
   "outputs": [
    {
     "data": {
      "text/html": [
       "<div>\n",
       "<style scoped>\n",
       "    .dataframe tbody tr th:only-of-type {\n",
       "        vertical-align: middle;\n",
       "    }\n",
       "\n",
       "    .dataframe tbody tr th {\n",
       "        vertical-align: top;\n",
       "    }\n",
       "\n",
       "    .dataframe thead th {\n",
       "        text-align: right;\n",
       "    }\n",
       "</style>\n",
       "<table border=\"1\" class=\"dataframe\">\n",
       "  <thead>\n",
       "    <tr style=\"text-align: right;\">\n",
       "      <th></th>\n",
       "      <th>domestic_consumption</th>\n",
       "      <th>exports</th>\n",
       "      <th>exports_crop_year</th>\n",
       "      <th>gross_opening_stocks</th>\n",
       "    </tr>\n",
       "  </thead>\n",
       "  <tbody>\n",
       "    <tr>\n",
       "      <th>52</th>\n",
       "      <td>-0.288283</td>\n",
       "      <td>0.892275</td>\n",
       "      <td>0.873300</td>\n",
       "      <td>1.747068</td>\n",
       "    </tr>\n",
       "    <tr>\n",
       "      <th>35</th>\n",
       "      <td>-0.521580</td>\n",
       "      <td>-0.437099</td>\n",
       "      <td>-0.426357</td>\n",
       "      <td>-0.515553</td>\n",
       "    </tr>\n",
       "    <tr>\n",
       "      <th>26</th>\n",
       "      <td>-0.179496</td>\n",
       "      <td>0.702419</td>\n",
       "      <td>0.649249</td>\n",
       "      <td>1.699879</td>\n",
       "    </tr>\n",
       "    <tr>\n",
       "      <th>45</th>\n",
       "      <td>-0.468220</td>\n",
       "      <td>-0.434885</td>\n",
       "      <td>-0.424262</td>\n",
       "      <td>-0.514958</td>\n",
       "    </tr>\n",
       "    <tr>\n",
       "      <th>54</th>\n",
       "      <td>1.051480</td>\n",
       "      <td>5.195041</td>\n",
       "      <td>5.259387</td>\n",
       "      <td>2.681623</td>\n",
       "    </tr>\n",
       "    <tr>\n",
       "      <th>27</th>\n",
       "      <td>-0.218160</td>\n",
       "      <td>-0.248307</td>\n",
       "      <td>-0.263722</td>\n",
       "      <td>-0.441956</td>\n",
       "    </tr>\n",
       "    <tr>\n",
       "      <th>34</th>\n",
       "      <td>-0.454459</td>\n",
       "      <td>-0.340175</td>\n",
       "      <td>-0.332771</td>\n",
       "      <td>-0.458617</td>\n",
       "    </tr>\n",
       "    <tr>\n",
       "      <th>13</th>\n",
       "      <td>-0.521855</td>\n",
       "      <td>-0.403943</td>\n",
       "      <td>-0.395213</td>\n",
       "      <td>-0.476602</td>\n",
       "    </tr>\n",
       "    <tr>\n",
       "      <th>22</th>\n",
       "      <td>-0.405190</td>\n",
       "      <td>-0.094064</td>\n",
       "      <td>-0.124317</td>\n",
       "      <td>-0.123369</td>\n",
       "    </tr>\n",
       "    <tr>\n",
       "      <th>47</th>\n",
       "      <td>-0.520582</td>\n",
       "      <td>-0.416036</td>\n",
       "      <td>-0.407476</td>\n",
       "      <td>-0.484707</td>\n",
       "    </tr>\n",
       "    <tr>\n",
       "      <th>30</th>\n",
       "      <td>3.405431</td>\n",
       "      <td>0.536894</td>\n",
       "      <td>0.538701</td>\n",
       "      <td>3.891621</td>\n",
       "    </tr>\n",
       "    <tr>\n",
       "      <th>17</th>\n",
       "      <td>-0.010805</td>\n",
       "      <td>-0.410890</td>\n",
       "      <td>-0.402830</td>\n",
       "      <td>-0.488108</td>\n",
       "    </tr>\n",
       "    <tr>\n",
       "      <th>51</th>\n",
       "      <td>-0.511005</td>\n",
       "      <td>-0.436078</td>\n",
       "      <td>-0.425737</td>\n",
       "      <td>-0.514509</td>\n",
       "    </tr>\n",
       "    <tr>\n",
       "      <th>31</th>\n",
       "      <td>-0.528349</td>\n",
       "      <td>-0.437205</td>\n",
       "      <td>-0.426498</td>\n",
       "      <td>-0.514261</td>\n",
       "    </tr>\n",
       "    <tr>\n",
       "      <th>23</th>\n",
       "      <td>-0.508229</td>\n",
       "      <td>-0.395631</td>\n",
       "      <td>-0.388369</td>\n",
       "      <td>-0.480235</td>\n",
       "    </tr>\n",
       "    <tr>\n",
       "      <th>4</th>\n",
       "      <td>-0.196163</td>\n",
       "      <td>0.044014</td>\n",
       "      <td>0.031872</td>\n",
       "      <td>-0.281479</td>\n",
       "    </tr>\n",
       "    <tr>\n",
       "      <th>14</th>\n",
       "      <td>-0.524695</td>\n",
       "      <td>-0.437084</td>\n",
       "      <td>-0.426372</td>\n",
       "      <td>-0.511391</td>\n",
       "    </tr>\n",
       "    <tr>\n",
       "      <th>29</th>\n",
       "      <td>-0.529326</td>\n",
       "      <td>-0.437282</td>\n",
       "      <td>-0.426640</td>\n",
       "      <td>-0.514795</td>\n",
       "    </tr>\n",
       "    <tr>\n",
       "      <th>28</th>\n",
       "      <td>-0.171912</td>\n",
       "      <td>0.228289</td>\n",
       "      <td>0.187325</td>\n",
       "      <td>-0.157707</td>\n",
       "    </tr>\n",
       "    <tr>\n",
       "      <th>50</th>\n",
       "      <td>-0.527402</td>\n",
       "      <td>-0.366232</td>\n",
       "      <td>-0.359822</td>\n",
       "      <td>-0.462354</td>\n",
       "    </tr>\n",
       "    <tr>\n",
       "      <th>40</th>\n",
       "      <td>-0.396490</td>\n",
       "      <td>-0.332716</td>\n",
       "      <td>-0.322930</td>\n",
       "      <td>-0.514141</td>\n",
       "    </tr>\n",
       "    <tr>\n",
       "      <th>18</th>\n",
       "      <td>1.806463</td>\n",
       "      <td>-0.424737</td>\n",
       "      <td>-0.416030</td>\n",
       "      <td>0.699350</td>\n",
       "    </tr>\n",
       "    <tr>\n",
       "      <th>55</th>\n",
       "      <td>-0.424013</td>\n",
       "      <td>-0.412747</td>\n",
       "      <td>-0.402982</td>\n",
       "      <td>-0.511985</td>\n",
       "    </tr>\n",
       "    <tr>\n",
       "      <th>20</th>\n",
       "      <td>-0.528439</td>\n",
       "      <td>-0.419163</td>\n",
       "      <td>-0.409204</td>\n",
       "      <td>-0.515404</td>\n",
       "    </tr>\n",
       "    <tr>\n",
       "      <th>25</th>\n",
       "      <td>0.046703</td>\n",
       "      <td>0.289128</td>\n",
       "      <td>0.259852</td>\n",
       "      <td>-0.182499</td>\n",
       "    </tr>\n",
       "    <tr>\n",
       "      <th>6</th>\n",
       "      <td>-0.023049</td>\n",
       "      <td>-0.312884</td>\n",
       "      <td>-0.310358</td>\n",
       "      <td>-0.326756</td>\n",
       "    </tr>\n",
       "    <tr>\n",
       "      <th>7</th>\n",
       "      <td>-0.527288</td>\n",
       "      <td>-0.417267</td>\n",
       "      <td>-0.407774</td>\n",
       "      <td>-0.504998</td>\n",
       "    </tr>\n",
       "    <tr>\n",
       "      <th>53</th>\n",
       "      <td>1.535791</td>\n",
       "      <td>-0.378612</td>\n",
       "      <td>-0.373999</td>\n",
       "      <td>-0.231800</td>\n",
       "    </tr>\n",
       "    <tr>\n",
       "      <th>1</th>\n",
       "      <td>-0.465376</td>\n",
       "      <td>-0.403826</td>\n",
       "      <td>-0.394988</td>\n",
       "      <td>-0.499952</td>\n",
       "    </tr>\n",
       "    <tr>\n",
       "      <th>16</th>\n",
       "      <td>0.025233</td>\n",
       "      <td>-0.359638</td>\n",
       "      <td>-0.356149</td>\n",
       "      <td>-0.109889</td>\n",
       "    </tr>\n",
       "    <tr>\n",
       "      <th>0</th>\n",
       "      <td>-0.489358</td>\n",
       "      <td>-0.427253</td>\n",
       "      <td>-0.417282</td>\n",
       "      <td>-0.424872</td>\n",
       "    </tr>\n",
       "    <tr>\n",
       "      <th>15</th>\n",
       "      <td>-0.197553</td>\n",
       "      <td>-0.410251</td>\n",
       "      <td>-0.401488</td>\n",
       "      <td>-0.347273</td>\n",
       "    </tr>\n",
       "    <tr>\n",
       "      <th>5</th>\n",
       "      <td>3.612517</td>\n",
       "      <td>2.099817</td>\n",
       "      <td>2.013020</td>\n",
       "      <td>0.972012</td>\n",
       "    </tr>\n",
       "    <tr>\n",
       "      <th>11</th>\n",
       "      <td>-0.527467</td>\n",
       "      <td>-0.301142</td>\n",
       "      <td>-0.297014</td>\n",
       "      <td>-0.482990</td>\n",
       "    </tr>\n",
       "    <tr>\n",
       "      <th>9</th>\n",
       "      <td>-0.499015</td>\n",
       "      <td>-0.426544</td>\n",
       "      <td>-0.418251</td>\n",
       "      <td>-0.437136</td>\n",
       "    </tr>\n",
       "    <tr>\n",
       "      <th>8</th>\n",
       "      <td>-0.526207</td>\n",
       "      <td>0.000697</td>\n",
       "      <td>-0.005652</td>\n",
       "      <td>-0.395365</td>\n",
       "    </tr>\n",
       "    <tr>\n",
       "      <th>12</th>\n",
       "      <td>-0.529090</td>\n",
       "      <td>-0.422518</td>\n",
       "      <td>-0.412079</td>\n",
       "      <td>-0.515553</td>\n",
       "    </tr>\n",
       "    <tr>\n",
       "      <th>43</th>\n",
       "      <td>-0.529326</td>\n",
       "      <td>-0.437273</td>\n",
       "      <td>-0.426374</td>\n",
       "      <td>-0.515486</td>\n",
       "    </tr>\n",
       "    <tr>\n",
       "      <th>37</th>\n",
       "      <td>1.264764</td>\n",
       "      <td>1.192905</td>\n",
       "      <td>1.190234</td>\n",
       "      <td>1.765150</td>\n",
       "    </tr>\n",
       "  </tbody>\n",
       "</table>\n",
       "</div>"
      ],
      "text/plain": [
       "    domestic_consumption   exports  exports_crop_year  gross_opening_stocks\n",
       "52             -0.288283  0.892275           0.873300              1.747068\n",
       "35             -0.521580 -0.437099          -0.426357             -0.515553\n",
       "26             -0.179496  0.702419           0.649249              1.699879\n",
       "45             -0.468220 -0.434885          -0.424262             -0.514958\n",
       "54              1.051480  5.195041           5.259387              2.681623\n",
       "27             -0.218160 -0.248307          -0.263722             -0.441956\n",
       "34             -0.454459 -0.340175          -0.332771             -0.458617\n",
       "13             -0.521855 -0.403943          -0.395213             -0.476602\n",
       "22             -0.405190 -0.094064          -0.124317             -0.123369\n",
       "47             -0.520582 -0.416036          -0.407476             -0.484707\n",
       "30              3.405431  0.536894           0.538701              3.891621\n",
       "17             -0.010805 -0.410890          -0.402830             -0.488108\n",
       "51             -0.511005 -0.436078          -0.425737             -0.514509\n",
       "31             -0.528349 -0.437205          -0.426498             -0.514261\n",
       "23             -0.508229 -0.395631          -0.388369             -0.480235\n",
       "4              -0.196163  0.044014           0.031872             -0.281479\n",
       "14             -0.524695 -0.437084          -0.426372             -0.511391\n",
       "29             -0.529326 -0.437282          -0.426640             -0.514795\n",
       "28             -0.171912  0.228289           0.187325             -0.157707\n",
       "50             -0.527402 -0.366232          -0.359822             -0.462354\n",
       "40             -0.396490 -0.332716          -0.322930             -0.514141\n",
       "18              1.806463 -0.424737          -0.416030              0.699350\n",
       "55             -0.424013 -0.412747          -0.402982             -0.511985\n",
       "20             -0.528439 -0.419163          -0.409204             -0.515404\n",
       "25              0.046703  0.289128           0.259852             -0.182499\n",
       "6              -0.023049 -0.312884          -0.310358             -0.326756\n",
       "7              -0.527288 -0.417267          -0.407774             -0.504998\n",
       "53              1.535791 -0.378612          -0.373999             -0.231800\n",
       "1              -0.465376 -0.403826          -0.394988             -0.499952\n",
       "16              0.025233 -0.359638          -0.356149             -0.109889\n",
       "0              -0.489358 -0.427253          -0.417282             -0.424872\n",
       "15             -0.197553 -0.410251          -0.401488             -0.347273\n",
       "5               3.612517  2.099817           2.013020              0.972012\n",
       "11             -0.527467 -0.301142          -0.297014             -0.482990\n",
       "9              -0.499015 -0.426544          -0.418251             -0.437136\n",
       "8              -0.526207  0.000697          -0.005652             -0.395365\n",
       "12             -0.529090 -0.422518          -0.412079             -0.515553\n",
       "43             -0.529326 -0.437273          -0.426374             -0.515486\n",
       "37              1.264764  1.192905           1.190234              1.765150"
      ]
     },
     "execution_count": 16,
     "metadata": {},
     "output_type": "execute_result"
    }
   ],
   "source": [
    "X_train\n"
   ]
  },
  {
   "cell_type": "code",
   "execution_count": 17,
   "metadata": {
    "colab": {
     "base_uri": "https://localhost:8080/"
    },
    "id": "4LYjrkvszH1n",
    "outputId": "d108c1e0-6199-4b2f-f2d3-9f5b69c573f8"
   },
   "outputs": [
    {
     "data": {
      "text/plain": [
       "52     3211.943759\n",
       "35        5.872314\n",
       "26     2658.525303\n",
       "45       45.642441\n",
       "54    15156.584548\n",
       "27      589.295686\n",
       "34      274.420314\n",
       "13       75.645990\n",
       "22      770.235855\n",
       "47       48.227941\n",
       "30     4880.789417\n",
       "17      389.662476\n",
       "51       14.417234\n",
       "31        1.539900\n",
       "23      104.515079\n",
       "4      1076.504352\n",
       "14        3.847172\n",
       "29        0.580517\n",
       "28     1598.384334\n",
       "50      161.011238\n",
       "40      300.162076\n",
       "18      501.272379\n",
       "55      107.300966\n",
       "20       43.185197\n",
       "25     2016.203052\n",
       "6       587.719424\n",
       "7        46.716359\n",
       "53     1121.038724\n",
       "1       116.146128\n",
       "16      508.823210\n",
       "0        45.256048\n",
       "15      201.634176\n",
       "5      8452.302438\n",
       "11      309.893407\n",
       "9        34.678362\n",
       "8      1010.334755\n",
       "12       35.874466\n",
       "43        0.856041\n",
       "37     4552.609690\n",
       "Name: total_production, dtype: float64"
      ]
     },
     "execution_count": 17,
     "metadata": {},
     "output_type": "execute_result"
    }
   ],
   "source": [
    "y_train\n"
   ]
  },
  {
   "cell_type": "code",
   "execution_count": 18,
   "metadata": {
    "colab": {
     "base_uri": "https://localhost:8080/"
    },
    "id": "AmC5fvU80JFk",
    "outputId": "f8a16295-3436-4ac2-8b39-3ac5a76233a2"
   },
   "outputs": [
    {
     "name": "stdout",
     "output_type": "stream",
     "text": [
      "RMSE: 587.70\n",
      "R^2: 0.99628\n"
     ]
    }
   ],
   "source": [
    "# Linear Regression\n",
    "\n",
    "model = LinearRegression()\n",
    "model.fit(X_train, y_train)\n",
    "y_pred = model.predict(X_test)\n",
    "\n",
    "lr_rmse = np.sqrt(np.mean((y_test - y_pred)**2))\n",
    "print(\"RMSE: {:.2f}\".format(lr_rmse))\n",
    "\n",
    "lr_r2 = 1 - (np.sum((y_test - y_pred)**2) / np.sum((y_test - y_test.mean())**2))\n",
    "print(\"R^2: {:.5f}\".format(lr_r2))"
   ]
  },
  {
   "cell_type": "code",
   "execution_count": 19,
   "metadata": {
    "colab": {
     "base_uri": "https://localhost:8080/"
    },
    "id": "mRbb0FpPMLOb",
    "outputId": "b88d2019-d6f5-41e6-aa39-b9f55f8974ad"
   },
   "outputs": [
    {
     "name": "stdout",
     "output_type": "stream",
     "text": [
      "RMSE: 562.75\n",
      "R^2: 0.99659\n"
     ]
    }
   ],
   "source": [
    "# Lasso Regression\n",
    "\n",
    "model = Lasso(alpha=0.1, max_iter = 10000)\n",
    "model.fit(X_train, y_train)\n",
    "y_pred = model.predict(X_test)\n",
    "\n",
    "lasso_rmse = np.sqrt(np.mean((y_test - y_pred)**2))\n",
    "print(\"RMSE: {:.2f}\".format(lasso_rmse))\n",
    "\n",
    "lasso_r2 = 1 - (np.sum((y_test - y_pred)**2) / np.sum((y_test - y_test.mean())**2))\n",
    "print(\"R^2: {:.5f}\".format(lasso_r2))"
   ]
  },
  {
   "cell_type": "code",
   "execution_count": 20,
   "metadata": {
    "colab": {
     "base_uri": "https://localhost:8080/"
    },
    "id": "Z9oAcxKHOFg1",
    "outputId": "b1f78885-55c6-4966-8440-ae3d4fd71927"
   },
   "outputs": [
    {
     "name": "stdout",
     "output_type": "stream",
     "text": [
      "RMSE: 202.90\n",
      "R^2: 0.99956\n"
     ]
    },
    {
     "name": "stderr",
     "output_type": "stream",
     "text": [
      "C:\\Users\\USER\\anaconda3\\lib\\site-packages\\sklearn\\linear_model\\_base.py:148: FutureWarning: 'normalize' was deprecated in version 1.0 and will be removed in 1.2. Please leave the normalize parameter to its default value to silence this warning. The default behavior of this estimator is to not do any normalization. If normalization is needed please use sklearn.preprocessing.StandardScaler instead.\n",
      "  warnings.warn(\n"
     ]
    }
   ],
   "source": [
    "# Ridge Regression\n",
    "\n",
    "'''params = {'alpha':[0.00001, 0.0001, 0.001, 0.01, 0.1, 1, 10, 100, 1000]}\n",
    "ridge_reg = GridSearchCV(Ridge(), param_grid = params, cv = 5, scoring = 'r2')\n",
    "ridge_reg.fit(X_train, y_train)\n",
    "print(ridge_reg.best_estimator_)'''\n",
    "\n",
    "# BEST HYPERPARAMETERS FOR THE MODEL USING GRID SEARCH CV\n",
    "model = Ridge(alpha=1, copy_X=True, fit_intercept=True, max_iter=None, normalize=False,\n",
    "      random_state=None, solver='auto', tol=0.001)\n",
    "\n",
    "model.fit(X_train, y_train)\n",
    "y_pred = model.predict(X_test)\n",
    "\n",
    "ridg_rmse = np.sqrt(np.mean((y_test - y_pred)**2))\n",
    "print(\"RMSE: {:.2f}\".format(ridg_rmse))\n",
    "\n",
    "ridg_r2 = 1 - (np.sum((y_test - y_pred)**2) / np.sum((y_test - y_test.mean())**2))\n",
    "print(\"R^2: {:.5f}\".format(ridg_r2))\n"
   ]
  },
  {
   "cell_type": "code",
   "execution_count": 21,
   "metadata": {
    "colab": {
     "base_uri": "https://localhost:8080/"
    },
    "id": "gww7JDhD0JHH",
    "outputId": "8c69c326-02fe-4dd8-be40-9f1e9c9d67c4"
   },
   "outputs": [
    {
     "name": "stdout",
     "output_type": "stream",
     "text": [
      "RMSE: 8643.10\n",
      "R^2: 0.19579\n"
     ]
    }
   ],
   "source": [
    "# Support Vector Regression\n",
    "\n",
    "'''params = [{'C': [1,10,100,1000,10000], 'epsilon': [0.0001,0.001,0.01,0.1,1],\n",
    "          'kernel': ['poly'], 'degree':[2,3,4]},\n",
    "          {'C': [1,10,100,1000,10000], 'epsilon': [0.0001,0.001,0.01,0.1,1],\n",
    "          'kernel': ['rbf']}]\n",
    "\n",
    "svr_reg = GridSearchCV(SVR(),param_grid = params, scoring = 'r2', cv = 5)\n",
    "svr_reg.fit(X_train, y_train)\n",
    "\n",
    "print(svr_reg.best_estimator_)'''\n",
    "\n",
    "\n",
    "# BEST HYPERPARAMETERS FOR THE MODEL USING GRID SEARCH CV\n",
    "model = SVR(C=10000, cache_size=200, coef0=0.0, degree=3, epsilon=0.0001, gamma='scale',\n",
    "            kernel='rbf', max_iter=-1, shrinking=True, tol=0.001, verbose=False)\n",
    "model.fit(X_train, y_train)\n",
    "y_pred = model.predict(X_test)\n",
    "\n",
    "sv_rmse = np.sqrt(np.mean((y_test - y_pred)**2))\n",
    "print(\"RMSE: {:.2f}\".format(sv_rmse))\n",
    "\n",
    "sv_r2 = 1 - (np.sum((y_test - y_pred)**2) / np.sum((y_test - y_test.mean())**2))\n",
    "print(\"R^2: {:.5f}\".format(sv_r2))"
   ]
  },
  {
   "cell_type": "code",
   "execution_count": 22,
   "metadata": {
    "colab": {
     "base_uri": "https://localhost:8080/"
    },
    "id": "LT6sumaTDE77",
    "outputId": "adf46932-6e87-4d7a-f880-b0cb91da1587"
   },
   "outputs": [
    {
     "name": "stdout",
     "output_type": "stream",
     "text": [
      "RMSE: 6010.41\n",
      "R^2: 0.61110\n"
     ]
    },
    {
     "name": "stderr",
     "output_type": "stream",
     "text": [
      "C:\\Users\\USER\\anaconda3\\lib\\site-packages\\sklearn\\ensemble\\_gb.py:286: FutureWarning: The loss 'ls' was deprecated in v1.0 and will be removed in version 1.2. Use 'squared_error' which is equivalent.\n",
      "  warnings.warn(\n"
     ]
    }
   ],
   "source": [
    "# GradientBoostingRegressor\n",
    "\n",
    "'''params = {'n_estimators': [50, 100, 200, 300],\n",
    "          'max_depth': [8,10,12,14,16],\n",
    "          'min_samples_split': [2,3,4],\n",
    "          'subsample':[0.1, 0.2]}\n",
    "\n",
    "gb_reg = GridSearchCV(GradientBoostingRegressor() ,param_grid = params, scoring = 'r2', cv = 5)\n",
    "gb_reg.fit(X_train, y_train)\n",
    "\n",
    "print(gb_reg.best_estimator_)'''\n",
    "\n",
    "# BEST HYPERPARAMETERS FOR THE MODEL USING GRID SEARCH CV\n",
    "model = GradientBoostingRegressor(alpha=0.9, ccp_alpha=0.0, criterion='friedman_mse',\n",
    "                          init=None, learning_rate=0.1, loss='ls', max_depth=12,\n",
    "                          max_features=None, max_leaf_nodes=None,\n",
    "                          min_impurity_decrease=0.0, \n",
    "                          min_samples_leaf=1, min_samples_split=3,\n",
    "                          min_weight_fraction_leaf=0.0, n_estimators=200,\n",
    "                          n_iter_no_change=None, \n",
    "                          random_state=None, subsample=0.2, tol=0.0001,\n",
    "                          validation_fraction=0.1, verbose=0, warm_start=False)\n",
    "\n",
    "model.fit(X_train, y_train)\n",
    "y_pred = model.predict(X_test)\n",
    "\n",
    "gb_rmse = np.sqrt(np.mean((y_test - y_pred)**2))\n",
    "print(\"RMSE: {:.2f}\".format(gb_rmse))\n",
    "\n",
    "gb_r2 = 1 - (np.sum((y_test - y_pred)**2) / np.sum((y_test - y_test.mean())**2))\n",
    "print(\"R^2: {:.5f}\".format(gb_r2))"
   ]
  },
  {
   "cell_type": "code",
   "execution_count": 23,
   "metadata": {
    "colab": {
     "base_uri": "https://localhost:8080/"
    },
    "id": "HZ2otBfMHdqU",
    "outputId": "ad00beba-a338-4688-88c7-e6ea6ae3de62"
   },
   "outputs": [
    {
     "name": "stdout",
     "output_type": "stream",
     "text": [
      "RMSE: 6381.03\n",
      "R^2: 0.56166\n"
     ]
    },
    {
     "name": "stderr",
     "output_type": "stream",
     "text": [
      "C:\\Users\\USER\\anaconda3\\lib\\site-packages\\sklearn\\tree\\_classes.py:359: FutureWarning: Criterion 'mse' was deprecated in v1.0 and will be removed in version 1.2. Use `criterion='squared_error'` which is equivalent.\n",
      "  warnings.warn(\n"
     ]
    }
   ],
   "source": [
    "# Decision Tree Regression\n",
    "\n",
    "'''params  = {'splitter': ['best', 'random'],'min_samples_leaf': [1, 2 ,3],\n",
    "           'max_depth': [6,8,10,12,14,16,18]}\n",
    "\n",
    "tree_reg = GridSearchCV(DecisionTreeRegressor(random_state = 0) ,param_grid = params, scoring = 'r2', cv = 5)\n",
    "tree_reg.fit(X_train, y_train)\n",
    "\n",
    "print(tree_reg.best_estimator_)'''\n",
    "\n",
    "# BEST HYPERPARAMETERS FOR THE MODEL USING GRID SEARCH CV\n",
    "model = DecisionTreeRegressor(ccp_alpha=0.0, criterion='mse', max_depth=8,\n",
    "                      max_features=None, max_leaf_nodes=None,\n",
    "                      min_impurity_decrease=0.0, \n",
    "                      min_samples_leaf=1, min_samples_split=2,\n",
    "                      min_weight_fraction_leaf=0.0, \n",
    "                      random_state=0, splitter='best')\n",
    "\n",
    "model.fit(X_train, y_train)\n",
    "y_pred = model.predict(X_test)\n",
    "\n",
    "dt_rmse = np.sqrt(np.mean((y_test - y_pred)**2))\n",
    "print(\"RMSE: {:.2f}\".format(dt_rmse))\n",
    "\n",
    "dt_r2 = 1 - (np.sum((y_test - y_pred)**2) / np.sum((y_test - y_test.mean())**2))\n",
    "print(\"R^2: {:.5f}\".format(dt_r2))"
   ]
  },
  {
   "cell_type": "code",
   "execution_count": 24,
   "metadata": {
    "colab": {
     "base_uri": "https://localhost:8080/"
    },
    "id": "h9BQ-ScaJxEa",
    "outputId": "9647b2d8-7ce4-4e3d-9d1d-d0d03f5181bb"
   },
   "outputs": [
    {
     "name": "stderr",
     "output_type": "stream",
     "text": [
      "C:\\Users\\USER\\anaconda3\\lib\\site-packages\\sklearn\\ensemble\\_forest.py:396: FutureWarning: Criterion 'mse' was deprecated in v1.0 and will be removed in version 1.2. Use `criterion='squared_error'` which is equivalent.\n",
      "  warn(\n"
     ]
    },
    {
     "name": "stdout",
     "output_type": "stream",
     "text": [
      "RMSE: 7821.45\n",
      "R^2: 0.34143\n"
     ]
    }
   ],
   "source": [
    "# Random Forest Regression\n",
    "\n",
    "'''params = {\n",
    "    'bootstrap': [True],\n",
    "    'max_depth': [8, 10, 12, 14, 16],\n",
    "    'min_samples_leaf': [1, 2, 3],\n",
    "    'n_estimators': [40, 50, 60, 70],\n",
    "    'max_features': [0.3, 0.4, 0.5]\n",
    "}\n",
    "\n",
    "forest_reg = GridSearchCV(RandomForestRegressor(), param_grid = params, scoring = 'r2', cv = 5)\n",
    "forest_reg.fit(X_train, y_train)\n",
    "\n",
    "print(forest_reg.best_estimator_)'''\n",
    "\n",
    "# BEST HYPERPARAMETERS FOR THE MODEL USING GRID SEARCH CV\n",
    "model = RandomForestRegressor(bootstrap=True, ccp_alpha=0.0, criterion='mse',\n",
    "                      max_depth=8, max_features=0.5, max_leaf_nodes=None,\n",
    "                      max_samples=None, min_impurity_decrease=0.0,\n",
    "                      min_samples_leaf=2,\n",
    "                      min_samples_split=2, min_weight_fraction_leaf=0.0,\n",
    "                      n_estimators=70, n_jobs=None, oob_score=False,\n",
    "                      random_state=None, verbose=0, warm_start=False)\n",
    "\n",
    "model.fit(X_train, y_train)\n",
    "y_pred = model.predict(X_test)\n",
    "\n",
    "rf_rmse = np.sqrt(np.mean((y_test - y_pred)**2))\n",
    "print(\"RMSE: {:.2f}\".format(rf_rmse))\n",
    "\n",
    "rf_r2 = 1 - (np.sum((y_test - y_pred)**2) / np.sum((y_test - y_test.mean())**2))\n",
    "print(\"R^2: {:.5f}\".format(rf_r2))"
   ]
  },
  {
   "cell_type": "markdown",
   "metadata": {
    "id": "nMSPN3RRTe6J"
   },
   "source": [
    "## **Models Evaluation**"
   ]
  },
  {
   "cell_type": "code",
   "execution_count": 25,
   "metadata": {
    "colab": {
     "base_uri": "https://localhost:8080/",
     "height": 265
    },
    "id": "p5XFMeP2Qpm3",
    "outputId": "bec3b9f3-abfa-4603-8763-cb328ebb1b46"
   },
   "outputs": [
    {
     "data": {
      "text/html": [
       "<div>\n",
       "<style scoped>\n",
       "    .dataframe tbody tr th:only-of-type {\n",
       "        vertical-align: middle;\n",
       "    }\n",
       "\n",
       "    .dataframe tbody tr th {\n",
       "        vertical-align: top;\n",
       "    }\n",
       "\n",
       "    .dataframe thead th {\n",
       "        text-align: right;\n",
       "    }\n",
       "</style>\n",
       "<table border=\"1\" class=\"dataframe\">\n",
       "  <thead>\n",
       "    <tr style=\"text-align: right;\">\n",
       "      <th></th>\n",
       "      <th>Model</th>\n",
       "      <th>RMSE</th>\n",
       "      <th>R^2</th>\n",
       "    </tr>\n",
       "  </thead>\n",
       "  <tbody>\n",
       "    <tr>\n",
       "      <th>0</th>\n",
       "      <td>Linear Regression</td>\n",
       "      <td>587.702473</td>\n",
       "      <td>0.996282</td>\n",
       "    </tr>\n",
       "    <tr>\n",
       "      <th>1</th>\n",
       "      <td>Lasso Regression</td>\n",
       "      <td>562.750463</td>\n",
       "      <td>0.996591</td>\n",
       "    </tr>\n",
       "    <tr>\n",
       "      <th>2</th>\n",
       "      <td>Ridge Regression</td>\n",
       "      <td>202.901006</td>\n",
       "      <td>0.999557</td>\n",
       "    </tr>\n",
       "    <tr>\n",
       "      <th>3</th>\n",
       "      <td>Support Vector Regression</td>\n",
       "      <td>8643.103741</td>\n",
       "      <td>0.195790</td>\n",
       "    </tr>\n",
       "    <tr>\n",
       "      <th>4</th>\n",
       "      <td>Gradient Boosting Regressor</td>\n",
       "      <td>6010.411811</td>\n",
       "      <td>0.611100</td>\n",
       "    </tr>\n",
       "    <tr>\n",
       "      <th>5</th>\n",
       "      <td>Decision Tree Regression</td>\n",
       "      <td>6381.033368</td>\n",
       "      <td>0.561659</td>\n",
       "    </tr>\n",
       "    <tr>\n",
       "      <th>6</th>\n",
       "      <td>Random Forest Regression</td>\n",
       "      <td>7821.452238</td>\n",
       "      <td>0.341426</td>\n",
       "    </tr>\n",
       "  </tbody>\n",
       "</table>\n",
       "</div>"
      ],
      "text/plain": [
       "                         Model         RMSE       R^2\n",
       "0            Linear Regression   587.702473  0.996282\n",
       "1             Lasso Regression   562.750463  0.996591\n",
       "2             Ridge Regression   202.901006  0.999557\n",
       "3    Support Vector Regression  8643.103741  0.195790\n",
       "4  Gradient Boosting Regressor  6010.411811  0.611100\n",
       "5     Decision Tree Regression  6381.033368  0.561659\n",
       "6     Random Forest Regression  7821.452238  0.341426"
      ]
     },
     "execution_count": 25,
     "metadata": {},
     "output_type": "execute_result"
    }
   ],
   "source": [
    "model_ev = pd.DataFrame({'Model': ['Linear Regression','Lasso Regression','Ridge Regression',\n",
    "                                   'Support Vector Regression','Gradient Boosting Regressor','Decision Tree Regression','Random Forest Regression'], \n",
    "                         'RMSE': [lr_rmse, lasso_rmse, ridg_rmse, sv_rmse, gb_rmse,\n",
    "                                      dt_rmse, rf_rmse],\n",
    "                         'R^2': [lr_r2, lasso_r2, ridg_r2, sv_r2, gb_r2, dt_r2, rf_r2]})\n",
    "model_ev"
   ]
  },
  {
   "cell_type": "markdown",
   "metadata": {
    "id": "HVgOl0DzTnAB"
   },
   "source": [
    "* From above data we see that for ridge model Root Mean Square Value is minimum and R2 Score is maximum.\n",
    "* So we choose ridge model for our final prediction."
   ]
  },
  {
   "cell_type": "markdown",
   "metadata": {
    "id": "Mo3RGNZoTU_J"
   },
   "source": [
    "## **Prediction By Best Model**"
   ]
  },
  {
   "cell_type": "code",
   "execution_count": 26,
   "metadata": {
    "colab": {
     "base_uri": "https://localhost:8080/"
    },
    "id": "aspDcsMrSYhU",
    "outputId": "76783abd-9b56-42b1-9ff0-5d053a75e20b"
   },
   "outputs": [
    {
     "name": "stdout",
     "output_type": "stream",
     "text": [
      "RMSE: 7821.45\n",
      "R^2: 0.34143\n"
     ]
    }
   ],
   "source": [
    "# Ridge Regression\n",
    "\n",
    "ridge_model = Ridge()\n",
    "\n",
    "ridge_model.fit(X_train, y_train)\n",
    "y_pred = model.predict(X_test)\n",
    "\n",
    "ridg_rmse = np.sqrt(np.mean((y_test - y_pred)**2))\n",
    "print(\"RMSE: {:.2f}\".format(ridg_rmse))\n",
    "\n",
    "ridg_r2 = 1 - (np.sum((y_test - y_pred)**2) / np.sum((y_test - y_test.mean())**2))\n",
    "print(\"R^2: {:.5f}\".format(ridg_r2))\n"
   ]
  },
  {
   "cell_type": "code",
   "execution_count": 27,
   "metadata": {
    "colab": {
     "base_uri": "https://localhost:8080/"
    },
    "id": "EdGAfhHVV5Ug",
    "outputId": "912677b6-7e44-4425-af9c-6aea09caf80c"
   },
   "outputs": [
    {
     "name": "stderr",
     "output_type": "stream",
     "text": [
      "C:\\Users\\USER\\anaconda3\\lib\\site-packages\\sklearn\\base.py:450: UserWarning: X does not have valid feature names, but Ridge was fitted with feature names\n",
      "  warnings.warn(\n"
     ]
    },
    {
     "data": {
      "text/plain": [
       "array([2494322.02869545])"
      ]
     },
     "execution_count": 27,
     "metadata": {},
     "output_type": "execute_result"
    }
   ],
   "source": [
    "ridge_model.predict([[40,1000,1000,100]])"
   ]
  },
  {
   "cell_type": "code",
   "execution_count": null,
   "metadata": {
    "id": "R1C5yR1A0JMf"
   },
   "outputs": [],
   "source": []
  }
 ],
 "metadata": {
  "colab": {
   "collapsed_sections": [],
   "name": "Coffee Production Prediction.ipynb",
   "provenance": []
  },
  "kernelspec": {
   "display_name": "Python 3 (ipykernel)",
   "language": "python",
   "name": "python3"
  },
  "language_info": {
   "codemirror_mode": {
    "name": "ipython",
    "version": 3
   },
   "file_extension": ".py",
   "mimetype": "text/x-python",
   "name": "python",
   "nbconvert_exporter": "python",
   "pygments_lexer": "ipython3",
   "version": "3.9.13"
  }
 },
 "nbformat": 4,
 "nbformat_minor": 1
}
