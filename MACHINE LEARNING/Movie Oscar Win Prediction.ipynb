{
 "cells": [
  {
   "cell_type": "markdown",
   "metadata": {},
   "source": [
    "# Movie Oscar win Prediction\n",
    "\n",
    "![](oscar1.jpg)"
   ]
  },
  {
   "cell_type": "code",
   "execution_count": 1,
   "metadata": {},
   "outputs": [],
   "source": [
    "# Importing Libraries\n",
    "import numpy as np\n",
    "import pandas as pd\n",
    "\n",
    "import warnings\n",
    "warnings.filterwarnings('ignore')\n",
    "\n",
    "\n",
    "from sklearn.ensemble import RandomForestClassifier\n",
    "from sklearn.tree import DecisionTreeClassifier\n",
    "from sklearn.naive_bayes import GaussianNB\n",
    "from sklearn.linear_model import LogisticRegression\n",
    "from sklearn.svm import SVC\n",
    "from sklearn.model_selection import train_test_split\n",
    "from sklearn.preprocessing import LabelEncoder\n",
    "from sklearn.metrics import f1_score\n",
    "\n",
    "\n",
    "# from time import time\n",
    "# from os import path, makedirs, walk\n",
    "# from joblib import dump, load\n",
    "# import json"
   ]
  },
  {
   "cell_type": "code",
   "execution_count": 2,
   "metadata": {},
   "outputs": [
    {
     "data": {
      "text/html": [
       "<div>\n",
       "<style scoped>\n",
       "    .dataframe tbody tr th:only-of-type {\n",
       "        vertical-align: middle;\n",
       "    }\n",
       "\n",
       "    .dataframe tbody tr th {\n",
       "        vertical-align: top;\n",
       "    }\n",
       "\n",
       "    .dataframe thead th {\n",
       "        text-align: right;\n",
       "    }\n",
       "</style>\n",
       "<table border=\"1\" class=\"dataframe\">\n",
       "  <thead>\n",
       "    <tr style=\"text-align: right;\">\n",
       "      <th></th>\n",
       "      <th>Marketing expense</th>\n",
       "      <th>Production expense</th>\n",
       "      <th>Multiplex coverage</th>\n",
       "      <th>Budget</th>\n",
       "      <th>Movie_length</th>\n",
       "      <th>Lead_ Actor_Rating</th>\n",
       "      <th>Lead_Actress_rating</th>\n",
       "      <th>Director_rating</th>\n",
       "      <th>Producer_rating</th>\n",
       "      <th>Critic_rating</th>\n",
       "      <th>Trailer_views</th>\n",
       "      <th>3D_available</th>\n",
       "      <th>Time_taken</th>\n",
       "      <th>Twitter_hastags</th>\n",
       "      <th>Genre</th>\n",
       "      <th>Avg_age_actors</th>\n",
       "      <th>Num_multiplex</th>\n",
       "      <th>Collection</th>\n",
       "      <th>Start_Tech_Oscar</th>\n",
       "    </tr>\n",
       "  </thead>\n",
       "  <tbody>\n",
       "    <tr>\n",
       "      <th>0</th>\n",
       "      <td>20.1264</td>\n",
       "      <td>59.62</td>\n",
       "      <td>0.462</td>\n",
       "      <td>36524.125</td>\n",
       "      <td>138.7</td>\n",
       "      <td>7.825</td>\n",
       "      <td>8.095</td>\n",
       "      <td>7.910</td>\n",
       "      <td>7.995</td>\n",
       "      <td>7.94</td>\n",
       "      <td>527367</td>\n",
       "      <td>YES</td>\n",
       "      <td>109.60</td>\n",
       "      <td>223.840</td>\n",
       "      <td>Thriller</td>\n",
       "      <td>23</td>\n",
       "      <td>494</td>\n",
       "      <td>48000</td>\n",
       "      <td>1</td>\n",
       "    </tr>\n",
       "    <tr>\n",
       "      <th>1</th>\n",
       "      <td>20.5462</td>\n",
       "      <td>69.14</td>\n",
       "      <td>0.531</td>\n",
       "      <td>35668.655</td>\n",
       "      <td>152.4</td>\n",
       "      <td>7.505</td>\n",
       "      <td>7.650</td>\n",
       "      <td>7.440</td>\n",
       "      <td>7.470</td>\n",
       "      <td>7.44</td>\n",
       "      <td>494055</td>\n",
       "      <td>NO</td>\n",
       "      <td>146.64</td>\n",
       "      <td>243.456</td>\n",
       "      <td>Drama</td>\n",
       "      <td>42</td>\n",
       "      <td>462</td>\n",
       "      <td>43200</td>\n",
       "      <td>0</td>\n",
       "    </tr>\n",
       "    <tr>\n",
       "      <th>2</th>\n",
       "      <td>20.5458</td>\n",
       "      <td>69.14</td>\n",
       "      <td>0.531</td>\n",
       "      <td>39912.675</td>\n",
       "      <td>134.6</td>\n",
       "      <td>7.485</td>\n",
       "      <td>7.570</td>\n",
       "      <td>7.495</td>\n",
       "      <td>7.515</td>\n",
       "      <td>7.44</td>\n",
       "      <td>547051</td>\n",
       "      <td>NO</td>\n",
       "      <td>147.88</td>\n",
       "      <td>2022.400</td>\n",
       "      <td>Comedy</td>\n",
       "      <td>38</td>\n",
       "      <td>458</td>\n",
       "      <td>69400</td>\n",
       "      <td>1</td>\n",
       "    </tr>\n",
       "    <tr>\n",
       "      <th>3</th>\n",
       "      <td>20.6474</td>\n",
       "      <td>59.36</td>\n",
       "      <td>0.542</td>\n",
       "      <td>38873.890</td>\n",
       "      <td>119.3</td>\n",
       "      <td>6.895</td>\n",
       "      <td>7.035</td>\n",
       "      <td>6.920</td>\n",
       "      <td>7.020</td>\n",
       "      <td>8.26</td>\n",
       "      <td>516279</td>\n",
       "      <td>YES</td>\n",
       "      <td>185.36</td>\n",
       "      <td>225.344</td>\n",
       "      <td>Drama</td>\n",
       "      <td>45</td>\n",
       "      <td>472</td>\n",
       "      <td>66800</td>\n",
       "      <td>1</td>\n",
       "    </tr>\n",
       "    <tr>\n",
       "      <th>4</th>\n",
       "      <td>21.3810</td>\n",
       "      <td>59.36</td>\n",
       "      <td>0.542</td>\n",
       "      <td>39701.585</td>\n",
       "      <td>127.7</td>\n",
       "      <td>6.920</td>\n",
       "      <td>7.070</td>\n",
       "      <td>6.815</td>\n",
       "      <td>7.070</td>\n",
       "      <td>8.26</td>\n",
       "      <td>531448</td>\n",
       "      <td>NO</td>\n",
       "      <td>176.48</td>\n",
       "      <td>225.792</td>\n",
       "      <td>Drama</td>\n",
       "      <td>55</td>\n",
       "      <td>395</td>\n",
       "      <td>72400</td>\n",
       "      <td>1</td>\n",
       "    </tr>\n",
       "  </tbody>\n",
       "</table>\n",
       "</div>"
      ],
      "text/plain": [
       "   Marketing expense  Production expense  Multiplex coverage     Budget  \\\n",
       "0            20.1264               59.62               0.462  36524.125   \n",
       "1            20.5462               69.14               0.531  35668.655   \n",
       "2            20.5458               69.14               0.531  39912.675   \n",
       "3            20.6474               59.36               0.542  38873.890   \n",
       "4            21.3810               59.36               0.542  39701.585   \n",
       "\n",
       "   Movie_length  Lead_ Actor_Rating  Lead_Actress_rating  Director_rating  \\\n",
       "0         138.7               7.825                8.095            7.910   \n",
       "1         152.4               7.505                7.650            7.440   \n",
       "2         134.6               7.485                7.570            7.495   \n",
       "3         119.3               6.895                7.035            6.920   \n",
       "4         127.7               6.920                7.070            6.815   \n",
       "\n",
       "   Producer_rating  Critic_rating  Trailer_views 3D_available  Time_taken  \\\n",
       "0            7.995           7.94         527367          YES      109.60   \n",
       "1            7.470           7.44         494055           NO      146.64   \n",
       "2            7.515           7.44         547051           NO      147.88   \n",
       "3            7.020           8.26         516279          YES      185.36   \n",
       "4            7.070           8.26         531448           NO      176.48   \n",
       "\n",
       "   Twitter_hastags     Genre  Avg_age_actors  Num_multiplex  Collection  \\\n",
       "0          223.840  Thriller              23            494       48000   \n",
       "1          243.456     Drama              42            462       43200   \n",
       "2         2022.400    Comedy              38            458       69400   \n",
       "3          225.344     Drama              45            472       66800   \n",
       "4          225.792     Drama              55            395       72400   \n",
       "\n",
       "   Start_Tech_Oscar  \n",
       "0                 1  \n",
       "1                 0  \n",
       "2                 1  \n",
       "3                 1  \n",
       "4                 1  "
      ]
     },
     "execution_count": 2,
     "metadata": {},
     "output_type": "execute_result"
    }
   ],
   "source": [
    "data = pd.read_csv('../DataSets/Movie_classification.csv')\n",
    "data.head()"
   ]
  },
  {
   "cell_type": "markdown",
   "metadata": {},
   "source": [
    "**Finding out the correlation between the attributes of the dataset**"
   ]
  },
  {
   "cell_type": "code",
   "execution_count": 3,
   "metadata": {},
   "outputs": [
    {
     "data": {
      "text/html": [
       "<div>\n",
       "<style scoped>\n",
       "    .dataframe tbody tr th:only-of-type {\n",
       "        vertical-align: middle;\n",
       "    }\n",
       "\n",
       "    .dataframe tbody tr th {\n",
       "        vertical-align: top;\n",
       "    }\n",
       "\n",
       "    .dataframe thead th {\n",
       "        text-align: right;\n",
       "    }\n",
       "</style>\n",
       "<table border=\"1\" class=\"dataframe\">\n",
       "  <thead>\n",
       "    <tr style=\"text-align: right;\">\n",
       "      <th></th>\n",
       "      <th>Marketing expense</th>\n",
       "      <th>Production expense</th>\n",
       "      <th>Multiplex coverage</th>\n",
       "      <th>Budget</th>\n",
       "      <th>Movie_length</th>\n",
       "      <th>Lead_ Actor_Rating</th>\n",
       "      <th>Lead_Actress_rating</th>\n",
       "      <th>Director_rating</th>\n",
       "      <th>Producer_rating</th>\n",
       "      <th>Critic_rating</th>\n",
       "      <th>Trailer_views</th>\n",
       "      <th>Time_taken</th>\n",
       "      <th>Twitter_hastags</th>\n",
       "      <th>Avg_age_actors</th>\n",
       "      <th>Num_multiplex</th>\n",
       "      <th>Collection</th>\n",
       "      <th>Start_Tech_Oscar</th>\n",
       "    </tr>\n",
       "  </thead>\n",
       "  <tbody>\n",
       "    <tr>\n",
       "      <th>Marketing expense</th>\n",
       "      <td>1.000000</td>\n",
       "      <td>0.406583</td>\n",
       "      <td>-0.420972</td>\n",
       "      <td>-0.219247</td>\n",
       "      <td>0.352734</td>\n",
       "      <td>0.380050</td>\n",
       "      <td>0.379813</td>\n",
       "      <td>0.380069</td>\n",
       "      <td>0.376462</td>\n",
       "      <td>-0.184985</td>\n",
       "      <td>-0.443457</td>\n",
       "      <td>0.026019</td>\n",
       "      <td>0.013518</td>\n",
       "      <td>0.059204</td>\n",
       "      <td>0.383298</td>\n",
       "      <td>-0.389582</td>\n",
       "      <td>-0.013417</td>\n",
       "    </tr>\n",
       "    <tr>\n",
       "      <th>Production expense</th>\n",
       "      <td>0.406583</td>\n",
       "      <td>1.000000</td>\n",
       "      <td>-0.763651</td>\n",
       "      <td>-0.391676</td>\n",
       "      <td>0.644779</td>\n",
       "      <td>0.706481</td>\n",
       "      <td>0.707956</td>\n",
       "      <td>0.707566</td>\n",
       "      <td>0.705819</td>\n",
       "      <td>-0.251565</td>\n",
       "      <td>-0.591657</td>\n",
       "      <td>0.015888</td>\n",
       "      <td>-0.000839</td>\n",
       "      <td>0.055810</td>\n",
       "      <td>0.707559</td>\n",
       "      <td>-0.484754</td>\n",
       "      <td>-0.024404</td>\n",
       "    </tr>\n",
       "    <tr>\n",
       "      <th>Multiplex coverage</th>\n",
       "      <td>-0.420972</td>\n",
       "      <td>-0.763651</td>\n",
       "      <td>1.000000</td>\n",
       "      <td>0.302188</td>\n",
       "      <td>-0.731470</td>\n",
       "      <td>-0.768589</td>\n",
       "      <td>-0.769724</td>\n",
       "      <td>-0.769157</td>\n",
       "      <td>-0.764873</td>\n",
       "      <td>0.145555</td>\n",
       "      <td>0.581386</td>\n",
       "      <td>0.035922</td>\n",
       "      <td>0.004882</td>\n",
       "      <td>-0.092104</td>\n",
       "      <td>-0.915495</td>\n",
       "      <td>0.429300</td>\n",
       "      <td>-0.004017</td>\n",
       "    </tr>\n",
       "    <tr>\n",
       "      <th>Budget</th>\n",
       "      <td>-0.219247</td>\n",
       "      <td>-0.391676</td>\n",
       "      <td>0.302188</td>\n",
       "      <td>1.000000</td>\n",
       "      <td>-0.240265</td>\n",
       "      <td>-0.208464</td>\n",
       "      <td>-0.203981</td>\n",
       "      <td>-0.201907</td>\n",
       "      <td>-0.205397</td>\n",
       "      <td>0.232361</td>\n",
       "      <td>0.602536</td>\n",
       "      <td>0.040773</td>\n",
       "      <td>0.030674</td>\n",
       "      <td>-0.064694</td>\n",
       "      <td>-0.282796</td>\n",
       "      <td>0.696304</td>\n",
       "      <td>-0.027148</td>\n",
       "    </tr>\n",
       "    <tr>\n",
       "      <th>Movie_length</th>\n",
       "      <td>0.352734</td>\n",
       "      <td>0.644779</td>\n",
       "      <td>-0.731470</td>\n",
       "      <td>-0.240265</td>\n",
       "      <td>1.000000</td>\n",
       "      <td>0.746904</td>\n",
       "      <td>0.746493</td>\n",
       "      <td>0.747021</td>\n",
       "      <td>0.746707</td>\n",
       "      <td>-0.217830</td>\n",
       "      <td>-0.589318</td>\n",
       "      <td>-0.019984</td>\n",
       "      <td>0.009380</td>\n",
       "      <td>0.075198</td>\n",
       "      <td>0.673896</td>\n",
       "      <td>-0.377999</td>\n",
       "      <td>0.016291</td>\n",
       "    </tr>\n",
       "    <tr>\n",
       "      <th>Lead_ Actor_Rating</th>\n",
       "      <td>0.380050</td>\n",
       "      <td>0.706481</td>\n",
       "      <td>-0.768589</td>\n",
       "      <td>-0.208464</td>\n",
       "      <td>0.746904</td>\n",
       "      <td>1.000000</td>\n",
       "      <td>0.997905</td>\n",
       "      <td>0.997735</td>\n",
       "      <td>0.994073</td>\n",
       "      <td>-0.169978</td>\n",
       "      <td>-0.490267</td>\n",
       "      <td>0.038494</td>\n",
       "      <td>0.014463</td>\n",
       "      <td>0.036794</td>\n",
       "      <td>0.706331</td>\n",
       "      <td>-0.251355</td>\n",
       "      <td>-0.035309</td>\n",
       "    </tr>\n",
       "    <tr>\n",
       "      <th>Lead_Actress_rating</th>\n",
       "      <td>0.379813</td>\n",
       "      <td>0.707956</td>\n",
       "      <td>-0.769724</td>\n",
       "      <td>-0.203981</td>\n",
       "      <td>0.746493</td>\n",
       "      <td>0.997905</td>\n",
       "      <td>1.000000</td>\n",
       "      <td>0.998097</td>\n",
       "      <td>0.994003</td>\n",
       "      <td>-0.165992</td>\n",
       "      <td>-0.487536</td>\n",
       "      <td>0.038432</td>\n",
       "      <td>0.010239</td>\n",
       "      <td>0.038005</td>\n",
       "      <td>0.708257</td>\n",
       "      <td>-0.249459</td>\n",
       "      <td>-0.040356</td>\n",
       "    </tr>\n",
       "    <tr>\n",
       "      <th>Director_rating</th>\n",
       "      <td>0.380069</td>\n",
       "      <td>0.707566</td>\n",
       "      <td>-0.769157</td>\n",
       "      <td>-0.201907</td>\n",
       "      <td>0.747021</td>\n",
       "      <td>0.997735</td>\n",
       "      <td>0.998097</td>\n",
       "      <td>1.000000</td>\n",
       "      <td>0.994126</td>\n",
       "      <td>-0.166638</td>\n",
       "      <td>-0.486452</td>\n",
       "      <td>0.036300</td>\n",
       "      <td>0.010077</td>\n",
       "      <td>0.041470</td>\n",
       "      <td>0.709364</td>\n",
       "      <td>-0.246650</td>\n",
       "      <td>-0.035768</td>\n",
       "    </tr>\n",
       "    <tr>\n",
       "      <th>Producer_rating</th>\n",
       "      <td>0.376462</td>\n",
       "      <td>0.705819</td>\n",
       "      <td>-0.764873</td>\n",
       "      <td>-0.205397</td>\n",
       "      <td>0.746707</td>\n",
       "      <td>0.994073</td>\n",
       "      <td>0.994003</td>\n",
       "      <td>0.994126</td>\n",
       "      <td>1.000000</td>\n",
       "      <td>-0.167003</td>\n",
       "      <td>-0.487911</td>\n",
       "      <td>0.028988</td>\n",
       "      <td>0.005850</td>\n",
       "      <td>0.032542</td>\n",
       "      <td>0.703518</td>\n",
       "      <td>-0.248200</td>\n",
       "      <td>-0.043612</td>\n",
       "    </tr>\n",
       "    <tr>\n",
       "      <th>Critic_rating</th>\n",
       "      <td>-0.184985</td>\n",
       "      <td>-0.251565</td>\n",
       "      <td>0.145555</td>\n",
       "      <td>0.232361</td>\n",
       "      <td>-0.217830</td>\n",
       "      <td>-0.169978</td>\n",
       "      <td>-0.165992</td>\n",
       "      <td>-0.166638</td>\n",
       "      <td>-0.167003</td>\n",
       "      <td>1.000000</td>\n",
       "      <td>0.228641</td>\n",
       "      <td>-0.015033</td>\n",
       "      <td>-0.023655</td>\n",
       "      <td>-0.049797</td>\n",
       "      <td>-0.128769</td>\n",
       "      <td>0.341288</td>\n",
       "      <td>-0.001084</td>\n",
       "    </tr>\n",
       "    <tr>\n",
       "      <th>Trailer_views</th>\n",
       "      <td>-0.443457</td>\n",
       "      <td>-0.591657</td>\n",
       "      <td>0.581386</td>\n",
       "      <td>0.602536</td>\n",
       "      <td>-0.589318</td>\n",
       "      <td>-0.490267</td>\n",
       "      <td>-0.487536</td>\n",
       "      <td>-0.486452</td>\n",
       "      <td>-0.487911</td>\n",
       "      <td>0.228641</td>\n",
       "      <td>1.000000</td>\n",
       "      <td>0.075145</td>\n",
       "      <td>-0.006704</td>\n",
       "      <td>-0.049726</td>\n",
       "      <td>-0.544100</td>\n",
       "      <td>0.720119</td>\n",
       "      <td>-0.075783</td>\n",
       "    </tr>\n",
       "    <tr>\n",
       "      <th>Time_taken</th>\n",
       "      <td>0.026019</td>\n",
       "      <td>0.015888</td>\n",
       "      <td>0.035922</td>\n",
       "      <td>0.040773</td>\n",
       "      <td>-0.019984</td>\n",
       "      <td>0.038494</td>\n",
       "      <td>0.038432</td>\n",
       "      <td>0.036300</td>\n",
       "      <td>0.028988</td>\n",
       "      <td>-0.015033</td>\n",
       "      <td>0.075145</td>\n",
       "      <td>1.000000</td>\n",
       "      <td>-0.006390</td>\n",
       "      <td>0.072849</td>\n",
       "      <td>-0.057580</td>\n",
       "      <td>0.111092</td>\n",
       "      <td>-0.064536</td>\n",
       "    </tr>\n",
       "    <tr>\n",
       "      <th>Twitter_hastags</th>\n",
       "      <td>0.013518</td>\n",
       "      <td>-0.000839</td>\n",
       "      <td>0.004882</td>\n",
       "      <td>0.030674</td>\n",
       "      <td>0.009380</td>\n",
       "      <td>0.014463</td>\n",
       "      <td>0.010239</td>\n",
       "      <td>0.010077</td>\n",
       "      <td>0.005850</td>\n",
       "      <td>-0.023655</td>\n",
       "      <td>-0.006704</td>\n",
       "      <td>-0.006390</td>\n",
       "      <td>1.000000</td>\n",
       "      <td>-0.004840</td>\n",
       "      <td>0.006255</td>\n",
       "      <td>0.023122</td>\n",
       "      <td>0.077333</td>\n",
       "    </tr>\n",
       "    <tr>\n",
       "      <th>Avg_age_actors</th>\n",
       "      <td>0.059204</td>\n",
       "      <td>0.055810</td>\n",
       "      <td>-0.092104</td>\n",
       "      <td>-0.064694</td>\n",
       "      <td>0.075198</td>\n",
       "      <td>0.036794</td>\n",
       "      <td>0.038005</td>\n",
       "      <td>0.041470</td>\n",
       "      <td>0.032542</td>\n",
       "      <td>-0.049797</td>\n",
       "      <td>-0.049726</td>\n",
       "      <td>0.072849</td>\n",
       "      <td>-0.004840</td>\n",
       "      <td>1.000000</td>\n",
       "      <td>0.078811</td>\n",
       "      <td>-0.047426</td>\n",
       "      <td>0.040581</td>\n",
       "    </tr>\n",
       "    <tr>\n",
       "      <th>Num_multiplex</th>\n",
       "      <td>0.383298</td>\n",
       "      <td>0.707559</td>\n",
       "      <td>-0.915495</td>\n",
       "      <td>-0.282796</td>\n",
       "      <td>0.673896</td>\n",
       "      <td>0.706331</td>\n",
       "      <td>0.708257</td>\n",
       "      <td>0.709364</td>\n",
       "      <td>0.703518</td>\n",
       "      <td>-0.128769</td>\n",
       "      <td>-0.544100</td>\n",
       "      <td>-0.057580</td>\n",
       "      <td>0.006255</td>\n",
       "      <td>0.078811</td>\n",
       "      <td>1.000000</td>\n",
       "      <td>-0.391729</td>\n",
       "      <td>-0.004857</td>\n",
       "    </tr>\n",
       "    <tr>\n",
       "      <th>Collection</th>\n",
       "      <td>-0.389582</td>\n",
       "      <td>-0.484754</td>\n",
       "      <td>0.429300</td>\n",
       "      <td>0.696304</td>\n",
       "      <td>-0.377999</td>\n",
       "      <td>-0.251355</td>\n",
       "      <td>-0.249459</td>\n",
       "      <td>-0.246650</td>\n",
       "      <td>-0.248200</td>\n",
       "      <td>0.341288</td>\n",
       "      <td>0.720119</td>\n",
       "      <td>0.111092</td>\n",
       "      <td>0.023122</td>\n",
       "      <td>-0.047426</td>\n",
       "      <td>-0.391729</td>\n",
       "      <td>1.000000</td>\n",
       "      <td>0.154698</td>\n",
       "    </tr>\n",
       "    <tr>\n",
       "      <th>Start_Tech_Oscar</th>\n",
       "      <td>-0.013417</td>\n",
       "      <td>-0.024404</td>\n",
       "      <td>-0.004017</td>\n",
       "      <td>-0.027148</td>\n",
       "      <td>0.016291</td>\n",
       "      <td>-0.035309</td>\n",
       "      <td>-0.040356</td>\n",
       "      <td>-0.035768</td>\n",
       "      <td>-0.043612</td>\n",
       "      <td>-0.001084</td>\n",
       "      <td>-0.075783</td>\n",
       "      <td>-0.064536</td>\n",
       "      <td>0.077333</td>\n",
       "      <td>0.040581</td>\n",
       "      <td>-0.004857</td>\n",
       "      <td>0.154698</td>\n",
       "      <td>1.000000</td>\n",
       "    </tr>\n",
       "  </tbody>\n",
       "</table>\n",
       "</div>"
      ],
      "text/plain": [
       "                     Marketing expense  Production expense  \\\n",
       "Marketing expense             1.000000            0.406583   \n",
       "Production expense            0.406583            1.000000   \n",
       "Multiplex coverage           -0.420972           -0.763651   \n",
       "Budget                       -0.219247           -0.391676   \n",
       "Movie_length                  0.352734            0.644779   \n",
       "Lead_ Actor_Rating            0.380050            0.706481   \n",
       "Lead_Actress_rating           0.379813            0.707956   \n",
       "Director_rating               0.380069            0.707566   \n",
       "Producer_rating               0.376462            0.705819   \n",
       "Critic_rating                -0.184985           -0.251565   \n",
       "Trailer_views                -0.443457           -0.591657   \n",
       "Time_taken                    0.026019            0.015888   \n",
       "Twitter_hastags               0.013518           -0.000839   \n",
       "Avg_age_actors                0.059204            0.055810   \n",
       "Num_multiplex                 0.383298            0.707559   \n",
       "Collection                   -0.389582           -0.484754   \n",
       "Start_Tech_Oscar             -0.013417           -0.024404   \n",
       "\n",
       "                     Multiplex coverage    Budget  Movie_length  \\\n",
       "Marketing expense             -0.420972 -0.219247      0.352734   \n",
       "Production expense            -0.763651 -0.391676      0.644779   \n",
       "Multiplex coverage             1.000000  0.302188     -0.731470   \n",
       "Budget                         0.302188  1.000000     -0.240265   \n",
       "Movie_length                  -0.731470 -0.240265      1.000000   \n",
       "Lead_ Actor_Rating            -0.768589 -0.208464      0.746904   \n",
       "Lead_Actress_rating           -0.769724 -0.203981      0.746493   \n",
       "Director_rating               -0.769157 -0.201907      0.747021   \n",
       "Producer_rating               -0.764873 -0.205397      0.746707   \n",
       "Critic_rating                  0.145555  0.232361     -0.217830   \n",
       "Trailer_views                  0.581386  0.602536     -0.589318   \n",
       "Time_taken                     0.035922  0.040773     -0.019984   \n",
       "Twitter_hastags                0.004882  0.030674      0.009380   \n",
       "Avg_age_actors                -0.092104 -0.064694      0.075198   \n",
       "Num_multiplex                 -0.915495 -0.282796      0.673896   \n",
       "Collection                     0.429300  0.696304     -0.377999   \n",
       "Start_Tech_Oscar              -0.004017 -0.027148      0.016291   \n",
       "\n",
       "                     Lead_ Actor_Rating  Lead_Actress_rating  Director_rating  \\\n",
       "Marketing expense              0.380050             0.379813         0.380069   \n",
       "Production expense             0.706481             0.707956         0.707566   \n",
       "Multiplex coverage            -0.768589            -0.769724        -0.769157   \n",
       "Budget                        -0.208464            -0.203981        -0.201907   \n",
       "Movie_length                   0.746904             0.746493         0.747021   \n",
       "Lead_ Actor_Rating             1.000000             0.997905         0.997735   \n",
       "Lead_Actress_rating            0.997905             1.000000         0.998097   \n",
       "Director_rating                0.997735             0.998097         1.000000   \n",
       "Producer_rating                0.994073             0.994003         0.994126   \n",
       "Critic_rating                 -0.169978            -0.165992        -0.166638   \n",
       "Trailer_views                 -0.490267            -0.487536        -0.486452   \n",
       "Time_taken                     0.038494             0.038432         0.036300   \n",
       "Twitter_hastags                0.014463             0.010239         0.010077   \n",
       "Avg_age_actors                 0.036794             0.038005         0.041470   \n",
       "Num_multiplex                  0.706331             0.708257         0.709364   \n",
       "Collection                    -0.251355            -0.249459        -0.246650   \n",
       "Start_Tech_Oscar              -0.035309            -0.040356        -0.035768   \n",
       "\n",
       "                     Producer_rating  Critic_rating  Trailer_views  \\\n",
       "Marketing expense           0.376462      -0.184985      -0.443457   \n",
       "Production expense          0.705819      -0.251565      -0.591657   \n",
       "Multiplex coverage         -0.764873       0.145555       0.581386   \n",
       "Budget                     -0.205397       0.232361       0.602536   \n",
       "Movie_length                0.746707      -0.217830      -0.589318   \n",
       "Lead_ Actor_Rating          0.994073      -0.169978      -0.490267   \n",
       "Lead_Actress_rating         0.994003      -0.165992      -0.487536   \n",
       "Director_rating             0.994126      -0.166638      -0.486452   \n",
       "Producer_rating             1.000000      -0.167003      -0.487911   \n",
       "Critic_rating              -0.167003       1.000000       0.228641   \n",
       "Trailer_views              -0.487911       0.228641       1.000000   \n",
       "Time_taken                  0.028988      -0.015033       0.075145   \n",
       "Twitter_hastags             0.005850      -0.023655      -0.006704   \n",
       "Avg_age_actors              0.032542      -0.049797      -0.049726   \n",
       "Num_multiplex               0.703518      -0.128769      -0.544100   \n",
       "Collection                 -0.248200       0.341288       0.720119   \n",
       "Start_Tech_Oscar           -0.043612      -0.001084      -0.075783   \n",
       "\n",
       "                     Time_taken  Twitter_hastags  Avg_age_actors  \\\n",
       "Marketing expense      0.026019         0.013518        0.059204   \n",
       "Production expense     0.015888        -0.000839        0.055810   \n",
       "Multiplex coverage     0.035922         0.004882       -0.092104   \n",
       "Budget                 0.040773         0.030674       -0.064694   \n",
       "Movie_length          -0.019984         0.009380        0.075198   \n",
       "Lead_ Actor_Rating     0.038494         0.014463        0.036794   \n",
       "Lead_Actress_rating    0.038432         0.010239        0.038005   \n",
       "Director_rating        0.036300         0.010077        0.041470   \n",
       "Producer_rating        0.028988         0.005850        0.032542   \n",
       "Critic_rating         -0.015033        -0.023655       -0.049797   \n",
       "Trailer_views          0.075145        -0.006704       -0.049726   \n",
       "Time_taken             1.000000        -0.006390        0.072849   \n",
       "Twitter_hastags       -0.006390         1.000000       -0.004840   \n",
       "Avg_age_actors         0.072849        -0.004840        1.000000   \n",
       "Num_multiplex         -0.057580         0.006255        0.078811   \n",
       "Collection             0.111092         0.023122       -0.047426   \n",
       "Start_Tech_Oscar      -0.064536         0.077333        0.040581   \n",
       "\n",
       "                     Num_multiplex  Collection  Start_Tech_Oscar  \n",
       "Marketing expense         0.383298   -0.389582         -0.013417  \n",
       "Production expense        0.707559   -0.484754         -0.024404  \n",
       "Multiplex coverage       -0.915495    0.429300         -0.004017  \n",
       "Budget                   -0.282796    0.696304         -0.027148  \n",
       "Movie_length              0.673896   -0.377999          0.016291  \n",
       "Lead_ Actor_Rating        0.706331   -0.251355         -0.035309  \n",
       "Lead_Actress_rating       0.708257   -0.249459         -0.040356  \n",
       "Director_rating           0.709364   -0.246650         -0.035768  \n",
       "Producer_rating           0.703518   -0.248200         -0.043612  \n",
       "Critic_rating            -0.128769    0.341288         -0.001084  \n",
       "Trailer_views            -0.544100    0.720119         -0.075783  \n",
       "Time_taken               -0.057580    0.111092         -0.064536  \n",
       "Twitter_hastags           0.006255    0.023122          0.077333  \n",
       "Avg_age_actors            0.078811   -0.047426          0.040581  \n",
       "Num_multiplex             1.000000   -0.391729         -0.004857  \n",
       "Collection               -0.391729    1.000000          0.154698  \n",
       "Start_Tech_Oscar         -0.004857    0.154698          1.000000  "
      ]
     },
     "execution_count": 3,
     "metadata": {},
     "output_type": "execute_result"
    }
   ],
   "source": [
    "data.corr()"
   ]
  },
  {
   "cell_type": "code",
   "execution_count": 4,
   "metadata": {},
   "outputs": [
    {
     "data": {
      "text/html": [
       "<div>\n",
       "<style scoped>\n",
       "    .dataframe tbody tr th:only-of-type {\n",
       "        vertical-align: middle;\n",
       "    }\n",
       "\n",
       "    .dataframe tbody tr th {\n",
       "        vertical-align: top;\n",
       "    }\n",
       "\n",
       "    .dataframe thead th {\n",
       "        text-align: right;\n",
       "    }\n",
       "</style>\n",
       "<table border=\"1\" class=\"dataframe\">\n",
       "  <thead>\n",
       "    <tr style=\"text-align: right;\">\n",
       "      <th></th>\n",
       "      <th>Marketing expense</th>\n",
       "      <th>Production expense</th>\n",
       "      <th>Multiplex coverage</th>\n",
       "      <th>Budget</th>\n",
       "      <th>Movie_length</th>\n",
       "      <th>Lead_ Actor_Rating</th>\n",
       "      <th>Lead_Actress_rating</th>\n",
       "      <th>Director_rating</th>\n",
       "      <th>Producer_rating</th>\n",
       "      <th>Critic_rating</th>\n",
       "      <th>Trailer_views</th>\n",
       "      <th>3D_available</th>\n",
       "      <th>Time_taken</th>\n",
       "      <th>Twitter_hastags</th>\n",
       "      <th>Genre</th>\n",
       "      <th>Avg_age_actors</th>\n",
       "      <th>Num_multiplex</th>\n",
       "      <th>Collection</th>\n",
       "      <th>Start_Tech_Oscar</th>\n",
       "    </tr>\n",
       "  </thead>\n",
       "  <tbody>\n",
       "    <tr>\n",
       "      <th>0</th>\n",
       "      <td>20.1264</td>\n",
       "      <td>59.62</td>\n",
       "      <td>0.462</td>\n",
       "      <td>36524.125</td>\n",
       "      <td>138.7</td>\n",
       "      <td>7.825</td>\n",
       "      <td>8.095</td>\n",
       "      <td>7.910</td>\n",
       "      <td>7.995</td>\n",
       "      <td>7.94</td>\n",
       "      <td>527367</td>\n",
       "      <td>YES</td>\n",
       "      <td>109.60</td>\n",
       "      <td>223.840</td>\n",
       "      <td>Thriller</td>\n",
       "      <td>23</td>\n",
       "      <td>494</td>\n",
       "      <td>48000</td>\n",
       "      <td>1</td>\n",
       "    </tr>\n",
       "    <tr>\n",
       "      <th>1</th>\n",
       "      <td>20.5462</td>\n",
       "      <td>69.14</td>\n",
       "      <td>0.531</td>\n",
       "      <td>35668.655</td>\n",
       "      <td>152.4</td>\n",
       "      <td>7.505</td>\n",
       "      <td>7.650</td>\n",
       "      <td>7.440</td>\n",
       "      <td>7.470</td>\n",
       "      <td>7.44</td>\n",
       "      <td>494055</td>\n",
       "      <td>NO</td>\n",
       "      <td>146.64</td>\n",
       "      <td>243.456</td>\n",
       "      <td>Drama</td>\n",
       "      <td>42</td>\n",
       "      <td>462</td>\n",
       "      <td>43200</td>\n",
       "      <td>0</td>\n",
       "    </tr>\n",
       "    <tr>\n",
       "      <th>2</th>\n",
       "      <td>20.5458</td>\n",
       "      <td>69.14</td>\n",
       "      <td>0.531</td>\n",
       "      <td>39912.675</td>\n",
       "      <td>134.6</td>\n",
       "      <td>7.485</td>\n",
       "      <td>7.570</td>\n",
       "      <td>7.495</td>\n",
       "      <td>7.515</td>\n",
       "      <td>7.44</td>\n",
       "      <td>547051</td>\n",
       "      <td>NO</td>\n",
       "      <td>147.88</td>\n",
       "      <td>2022.400</td>\n",
       "      <td>Comedy</td>\n",
       "      <td>38</td>\n",
       "      <td>458</td>\n",
       "      <td>69400</td>\n",
       "      <td>1</td>\n",
       "    </tr>\n",
       "    <tr>\n",
       "      <th>3</th>\n",
       "      <td>20.6474</td>\n",
       "      <td>59.36</td>\n",
       "      <td>0.542</td>\n",
       "      <td>38873.890</td>\n",
       "      <td>119.3</td>\n",
       "      <td>6.895</td>\n",
       "      <td>7.035</td>\n",
       "      <td>6.920</td>\n",
       "      <td>7.020</td>\n",
       "      <td>8.26</td>\n",
       "      <td>516279</td>\n",
       "      <td>YES</td>\n",
       "      <td>185.36</td>\n",
       "      <td>225.344</td>\n",
       "      <td>Drama</td>\n",
       "      <td>45</td>\n",
       "      <td>472</td>\n",
       "      <td>66800</td>\n",
       "      <td>1</td>\n",
       "    </tr>\n",
       "    <tr>\n",
       "      <th>4</th>\n",
       "      <td>21.3810</td>\n",
       "      <td>59.36</td>\n",
       "      <td>0.542</td>\n",
       "      <td>39701.585</td>\n",
       "      <td>127.7</td>\n",
       "      <td>6.920</td>\n",
       "      <td>7.070</td>\n",
       "      <td>6.815</td>\n",
       "      <td>7.070</td>\n",
       "      <td>8.26</td>\n",
       "      <td>531448</td>\n",
       "      <td>NO</td>\n",
       "      <td>176.48</td>\n",
       "      <td>225.792</td>\n",
       "      <td>Drama</td>\n",
       "      <td>55</td>\n",
       "      <td>395</td>\n",
       "      <td>72400</td>\n",
       "      <td>1</td>\n",
       "    </tr>\n",
       "  </tbody>\n",
       "</table>\n",
       "</div>"
      ],
      "text/plain": [
       "   Marketing expense  Production expense  Multiplex coverage     Budget  \\\n",
       "0            20.1264               59.62               0.462  36524.125   \n",
       "1            20.5462               69.14               0.531  35668.655   \n",
       "2            20.5458               69.14               0.531  39912.675   \n",
       "3            20.6474               59.36               0.542  38873.890   \n",
       "4            21.3810               59.36               0.542  39701.585   \n",
       "\n",
       "   Movie_length  Lead_ Actor_Rating  Lead_Actress_rating  Director_rating  \\\n",
       "0         138.7               7.825                8.095            7.910   \n",
       "1         152.4               7.505                7.650            7.440   \n",
       "2         134.6               7.485                7.570            7.495   \n",
       "3         119.3               6.895                7.035            6.920   \n",
       "4         127.7               6.920                7.070            6.815   \n",
       "\n",
       "   Producer_rating  Critic_rating  Trailer_views 3D_available  Time_taken  \\\n",
       "0            7.995           7.94         527367          YES      109.60   \n",
       "1            7.470           7.44         494055           NO      146.64   \n",
       "2            7.515           7.44         547051           NO      147.88   \n",
       "3            7.020           8.26         516279          YES      185.36   \n",
       "4            7.070           8.26         531448           NO      176.48   \n",
       "\n",
       "   Twitter_hastags     Genre  Avg_age_actors  Num_multiplex  Collection  \\\n",
       "0          223.840  Thriller              23            494       48000   \n",
       "1          243.456     Drama              42            462       43200   \n",
       "2         2022.400    Comedy              38            458       69400   \n",
       "3          225.344     Drama              45            472       66800   \n",
       "4          225.792     Drama              55            395       72400   \n",
       "\n",
       "   Start_Tech_Oscar  \n",
       "0                 1  \n",
       "1                 0  \n",
       "2                 1  \n",
       "3                 1  \n",
       "4                 1  "
      ]
     },
     "execution_count": 4,
     "metadata": {},
     "output_type": "execute_result"
    }
   ],
   "source": [
    "data.head()"
   ]
  },
  {
   "cell_type": "markdown",
   "metadata": {},
   "source": [
    "**Information about the dataset**"
   ]
  },
  {
   "cell_type": "code",
   "execution_count": 5,
   "metadata": {},
   "outputs": [
    {
     "name": "stdout",
     "output_type": "stream",
     "text": [
      "<class 'pandas.core.frame.DataFrame'>\n",
      "RangeIndex: 506 entries, 0 to 505\n",
      "Data columns (total 19 columns):\n",
      " #   Column               Non-Null Count  Dtype  \n",
      "---  ------               --------------  -----  \n",
      " 0   Marketing expense    506 non-null    float64\n",
      " 1   Production expense   506 non-null    float64\n",
      " 2   Multiplex coverage   506 non-null    float64\n",
      " 3   Budget               506 non-null    float64\n",
      " 4   Movie_length         506 non-null    float64\n",
      " 5   Lead_ Actor_Rating   506 non-null    float64\n",
      " 6   Lead_Actress_rating  506 non-null    float64\n",
      " 7   Director_rating      506 non-null    float64\n",
      " 8   Producer_rating      506 non-null    float64\n",
      " 9   Critic_rating        506 non-null    float64\n",
      " 10  Trailer_views        506 non-null    int64  \n",
      " 11  3D_available         506 non-null    object \n",
      " 12  Time_taken           494 non-null    float64\n",
      " 13  Twitter_hastags      506 non-null    float64\n",
      " 14  Genre                506 non-null    object \n",
      " 15  Avg_age_actors       506 non-null    int64  \n",
      " 16  Num_multiplex        506 non-null    int64  \n",
      " 17  Collection           506 non-null    int64  \n",
      " 18  Start_Tech_Oscar     506 non-null    int64  \n",
      "dtypes: float64(12), int64(5), object(2)\n",
      "memory usage: 75.2+ KB\n"
     ]
    }
   ],
   "source": [
    "data.info()"
   ]
  },
  {
   "cell_type": "code",
   "execution_count": 6,
   "metadata": {},
   "outputs": [
    {
     "data": {
      "text/plain": [
       "Index(['Marketing expense', 'Production expense', 'Multiplex coverage',\n",
       "       'Budget', 'Movie_length', 'Lead_ Actor_Rating', 'Lead_Actress_rating',\n",
       "       'Director_rating', 'Producer_rating', 'Critic_rating', 'Trailer_views',\n",
       "       '3D_available', 'Time_taken', 'Twitter_hastags', 'Genre',\n",
       "       'Avg_age_actors', 'Num_multiplex', 'Collection', 'Start_Tech_Oscar'],\n",
       "      dtype='object')"
      ]
     },
     "execution_count": 6,
     "metadata": {},
     "output_type": "execute_result"
    }
   ],
   "source": [
    "data.columns"
   ]
  },
  {
   "cell_type": "markdown",
   "metadata": {},
   "source": [
    "**Creating the dataset for the training and testing of the model**"
   ]
  },
  {
   "cell_type": "code",
   "execution_count": 7,
   "metadata": {},
   "outputs": [],
   "source": [
    "x = data[['Collection','Twitter_hastags']]\n",
    "y = data['Start_Tech_Oscar']\n",
    "\n",
    "x_train, x_test, y_train, y_test = train_test_split(x,y, test_size = 0.2)"
   ]
  },
  {
   "cell_type": "markdown",
   "metadata": {},
   "source": [
    "## Prediction Model Creation\n"
   ]
  },
  {
   "cell_type": "markdown",
   "metadata": {},
   "source": [
    "### Logistic Regression \n",
    "\n",
    "Logistic regression is a statistical model that in its basic form uses a logistic function to model a binary dependent variable, although many more complex extensions exist. In regression analysis, logistic regression (or logit regression) is estimating the parameters of a logistic model (a form of binary regression)."
   ]
  },
  {
   "cell_type": "code",
   "execution_count": 8,
   "metadata": {},
   "outputs": [
    {
     "data": {
      "text/plain": [
       "LogisticRegression(max_iter=1000)"
      ]
     },
     "execution_count": 8,
     "metadata": {},
     "output_type": "execute_result"
    }
   ],
   "source": [
    "logReg = LogisticRegression(max_iter = 1000)\n",
    "logReg.fit(x_train, y_train)"
   ]
  },
  {
   "cell_type": "code",
   "execution_count": 9,
   "metadata": {},
   "outputs": [
    {
     "data": {
      "text/plain": [
       "0.5098039215686274"
      ]
     },
     "execution_count": 9,
     "metadata": {},
     "output_type": "execute_result"
    }
   ],
   "source": [
    "logReg.score(x_test, y_test)"
   ]
  },
  {
   "cell_type": "markdown",
   "metadata": {},
   "source": [
    "### Decision Tree Classifier Algorithm"
   ]
  },
  {
   "cell_type": "code",
   "execution_count": 10,
   "metadata": {},
   "outputs": [
    {
     "data": {
      "text/plain": [
       "0.5196078431372549"
      ]
     },
     "execution_count": 10,
     "metadata": {},
     "output_type": "execute_result"
    }
   ],
   "source": [
    "from sklearn.tree import DecisionTreeClassifier\n",
    "dtc = DecisionTreeClassifier()\n",
    "dtc.fit(x_train, y_train)\n",
    "dtc.score(x_test, y_test)"
   ]
  },
  {
   "cell_type": "markdown",
   "metadata": {},
   "source": [
    "### Random Forest Classifier Algorithm\n"
   ]
  },
  {
   "cell_type": "code",
   "execution_count": 11,
   "metadata": {},
   "outputs": [
    {
     "data": {
      "text/plain": [
       "0.5098039215686274"
      ]
     },
     "execution_count": 11,
     "metadata": {},
     "output_type": "execute_result"
    }
   ],
   "source": [
    "rfc = RandomForestClassifier()\n",
    "rfc.fit(x_train, y_train)\n",
    "rfc.score(x_test, y_test)"
   ]
  },
  {
   "cell_type": "markdown",
   "metadata": {},
   "source": [
    "### K-Nearest Neighbours Algorithm\n"
   ]
  },
  {
   "cell_type": "code",
   "execution_count": 12,
   "metadata": {},
   "outputs": [],
   "source": [
    "from sklearn.neighbors import KNeighborsClassifier  \n",
    "classifier= KNeighborsClassifier(n_neighbors=5, metric='minkowski', p=2 ) "
   ]
  },
  {
   "cell_type": "code",
   "execution_count": 13,
   "metadata": {},
   "outputs": [
    {
     "data": {
      "text/plain": [
       "KNeighborsClassifier()"
      ]
     },
     "execution_count": 13,
     "metadata": {},
     "output_type": "execute_result"
    }
   ],
   "source": [
    "classifier.fit(x_train, y_train)  "
   ]
  },
  {
   "cell_type": "code",
   "execution_count": 14,
   "metadata": {},
   "outputs": [
    {
     "data": {
      "text/plain": [
       "0.47058823529411764"
      ]
     },
     "execution_count": 14,
     "metadata": {},
     "output_type": "execute_result"
    }
   ],
   "source": [
    "classifier.score(x_test, y_test)"
   ]
  },
  {
   "cell_type": "markdown",
   "metadata": {},
   "source": [
    "### Gausian NB Algorithm\n"
   ]
  },
  {
   "cell_type": "code",
   "execution_count": 15,
   "metadata": {},
   "outputs": [
    {
     "data": {
      "text/plain": [
       "GaussianNB()"
      ]
     },
     "execution_count": 15,
     "metadata": {},
     "output_type": "execute_result"
    }
   ],
   "source": [
    "clf = GaussianNB()\n",
    "clf.fit(x_train, y_train)"
   ]
  },
  {
   "cell_type": "code",
   "execution_count": 16,
   "metadata": {},
   "outputs": [
    {
     "data": {
      "text/plain": [
       "0.5294117647058824"
      ]
     },
     "execution_count": 16,
     "metadata": {},
     "output_type": "execute_result"
    }
   ],
   "source": [
    "clf.score(x_test, y_test)"
   ]
  },
  {
   "cell_type": "markdown",
   "metadata": {},
   "source": [
    "### Support Vector Machine Algorithm"
   ]
  },
  {
   "cell_type": "code",
   "execution_count": 17,
   "metadata": {},
   "outputs": [
    {
     "data": {
      "text/plain": [
       "SVC()"
      ]
     },
     "execution_count": 17,
     "metadata": {},
     "output_type": "execute_result"
    }
   ],
   "source": [
    "svm = SVC()\n",
    "svm.fit(x_train, y_train)"
   ]
  },
  {
   "cell_type": "code",
   "execution_count": 18,
   "metadata": {},
   "outputs": [
    {
     "data": {
      "text/plain": [
       "0.5098039215686274"
      ]
     },
     "execution_count": 18,
     "metadata": {},
     "output_type": "execute_result"
    }
   ],
   "source": [
    "svm.score(x_test, y_test)"
   ]
  },
  {
   "cell_type": "markdown",
   "metadata": {},
   "source": [
    "### Gradient Boosting"
   ]
  },
  {
   "cell_type": "code",
   "execution_count": 19,
   "metadata": {},
   "outputs": [],
   "source": [
    "from sklearn.ensemble import GradientBoostingClassifier\n",
    "clf = GradientBoostingClassifier(n_estimators=150, learning_rate=3.0,max_depth=0.5, random_state=0)"
   ]
  },
  {
   "cell_type": "code",
   "execution_count": 20,
   "metadata": {},
   "outputs": [
    {
     "data": {
      "text/plain": [
       "GradientBoostingClassifier(learning_rate=3.0, max_depth=0.5, n_estimators=150,\n",
       "                           random_state=0)"
      ]
     },
     "execution_count": 20,
     "metadata": {},
     "output_type": "execute_result"
    }
   ],
   "source": [
    "clf.fit(x_train, y_train)"
   ]
  },
  {
   "cell_type": "code",
   "execution_count": 21,
   "metadata": {},
   "outputs": [
    {
     "data": {
      "text/plain": [
       "0.5098039215686274"
      ]
     },
     "execution_count": 21,
     "metadata": {},
     "output_type": "execute_result"
    }
   ],
   "source": [
    "clf.score(x_test, y_test)"
   ]
  },
  {
   "cell_type": "markdown",
   "metadata": {},
   "source": [
    "### MLP Classifier"
   ]
  },
  {
   "cell_type": "code",
   "execution_count": 22,
   "metadata": {},
   "outputs": [],
   "source": [
    "from sklearn.neural_network import MLPClassifier\n",
    "clf = MLPClassifier(random_state=2, max_iter=300)"
   ]
  },
  {
   "cell_type": "code",
   "execution_count": 23,
   "metadata": {},
   "outputs": [
    {
     "data": {
      "text/plain": [
       "MLPClassifier(max_iter=300, random_state=2)"
      ]
     },
     "execution_count": 23,
     "metadata": {},
     "output_type": "execute_result"
    }
   ],
   "source": [
    "clf.fit(x_train, y_train)"
   ]
  },
  {
   "cell_type": "code",
   "execution_count": 24,
   "metadata": {},
   "outputs": [
    {
     "data": {
      "text/plain": [
       "0.5098039215686274"
      ]
     },
     "execution_count": 24,
     "metadata": {},
     "output_type": "execute_result"
    }
   ],
   "source": [
    "clf.score(x_test, y_test)"
   ]
  },
  {
   "cell_type": "markdown",
   "metadata": {},
   "source": [
    "### Stochastic Gradient Descent (SGD)"
   ]
  },
  {
   "cell_type": "code",
   "execution_count": 25,
   "metadata": {},
   "outputs": [],
   "source": [
    "from sklearn.linear_model import SGDClassifier\n",
    "sdg = SGDClassifier()\n"
   ]
  },
  {
   "cell_type": "code",
   "execution_count": 26,
   "metadata": {},
   "outputs": [
    {
     "data": {
      "text/plain": [
       "SGDClassifier()"
      ]
     },
     "execution_count": 26,
     "metadata": {},
     "output_type": "execute_result"
    }
   ],
   "source": [
    "sdg.fit(x_train, y_train)"
   ]
  },
  {
   "cell_type": "code",
   "execution_count": 27,
   "metadata": {},
   "outputs": [
    {
     "data": {
      "text/plain": [
       "0.49019607843137253"
      ]
     },
     "execution_count": 27,
     "metadata": {},
     "output_type": "execute_result"
    }
   ],
   "source": [
    "sdg.score(x_test, y_test)"
   ]
  },
  {
   "cell_type": "markdown",
   "metadata": {},
   "source": [
    "### Linear Discriminant Analysis (LDA)."
   ]
  },
  {
   "cell_type": "code",
   "execution_count": 28,
   "metadata": {},
   "outputs": [],
   "source": [
    "from sklearn.discriminant_analysis import LinearDiscriminantAnalysis\n",
    "lda = LinearDiscriminantAnalysis()"
   ]
  },
  {
   "cell_type": "code",
   "execution_count": 29,
   "metadata": {},
   "outputs": [
    {
     "data": {
      "text/plain": [
       "LinearDiscriminantAnalysis()"
      ]
     },
     "execution_count": 29,
     "metadata": {},
     "output_type": "execute_result"
    }
   ],
   "source": [
    "lda.fit(x_train, y_train)"
   ]
  },
  {
   "cell_type": "code",
   "execution_count": 30,
   "metadata": {},
   "outputs": [
    {
     "data": {
      "text/plain": [
       "0.5"
      ]
     },
     "execution_count": 30,
     "metadata": {},
     "output_type": "execute_result"
    }
   ],
   "source": [
    "lda.score(x_test, y_test)"
   ]
  },
  {
   "cell_type": "markdown",
   "metadata": {},
   "source": [
    "**********"
   ]
  },
  {
   "cell_type": "markdown",
   "metadata": {},
   "source": [
    "### Model  Scores\n",
    "|Name of the Model|Accuracy Score|\n",
    "|:---:|:---:|\n",
    "|Logistic Regression|0.60|\n",
    "|Decision Tree Classifier|0.47|\n",
    "|Random Forest Classifier|0.51|\n",
    "|Gausian NB Algorithm|0.50|\n",
    "|KNN Algorithm|0.61|\n",
    "|Support Vector Machine Algorithm|0.50|\n",
    "|Gradient Boosting|0.64|\n",
    "|MLP Classifier|0.64|\n",
    "|Stochastic Gradient Descent|0.64|\n",
    "|Linear Discriminant Analysis|0.51|\n",
    "\n",
    "\n"
   ]
  }
 ],
 "metadata": {
  "kernelspec": {
   "display_name": "Python 3 (ipykernel)",
   "language": "python",
   "name": "python3"
  },
  "language_info": {
   "codemirror_mode": {
    "name": "ipython",
    "version": 3
   },
   "file_extension": ".py",
   "mimetype": "text/x-python",
   "name": "python",
   "nbconvert_exporter": "python",
   "pygments_lexer": "ipython3",
   "version": "3.9.13"
  }
 },
 "nbformat": 4,
 "nbformat_minor": 4
}
