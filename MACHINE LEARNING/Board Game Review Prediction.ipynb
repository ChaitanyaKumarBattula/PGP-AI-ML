{
 "cells": [
  {
   "cell_type": "markdown",
   "metadata": {},
   "source": [
    "# Board Game Review Prediction\n",
    "\n"
   ]
  },
  {
   "cell_type": "raw",
   "metadata": {},
   "source": [
    "### Contents\n",
    "Prediction Models -\n",
    "    - Spliting the dataset into 85:15 ratio\n",
    "    - Deploying the models\n",
    "        - OLS Regression\n",
    "        - Decision Tree Regression\n",
    "        - Random Forest Regression\n",
    "        - Lasso Regression\n",
    "        - Ridge Regression\n",
    "        - MLP Regression\n",
    "        - XgBoost Regression\n",
    "        - Gradient Boosting Regression\n"
   ]
  },
  {
   "cell_type": "markdown",
   "metadata": {
    "_cell_guid": "d52e2881-cf5c-4b91-aa1c-6abc94efa679",
    "_uuid": "5e854324bd66ba0528fb0f284b094d7c6b8dacf1"
   },
   "source": [
    "### Load relevant data, clean it, and begin exploring"
   ]
  },
  {
   "cell_type": "code",
   "execution_count": 1,
   "metadata": {
    "_cell_guid": "f88c7eff-f01f-4bbc-85ee-31f5de7fe1a4",
    "_uuid": "78044aa66921f14e8f6e77dfab14ef06103614be"
   },
   "outputs": [],
   "source": [
    "#Import packages to be used\n",
    "import numpy as np\n",
    "import pandas as pd\n",
    "import matplotlib\n",
    "import matplotlib.pyplot as plt\n",
    "import statsmodels.api as sm\n",
    "import statsmodels.formula.api as smf\n",
    "import seaborn as sns\n",
    "matplotlib.style.use('ggplot')\n",
    "%matplotlib inline\n",
    "\n",
    "#Load in the data and tell me something about it\n",
    "import sqlite3\n",
    "conn = sqlite3.connect(\"./DataSets/Board-game-database.sqlite\")\n",
    "query = \"SELECT * FROM BoardGames\"\n",
    "df_boardgame_full = pd.read_sql_query(query,conn)"
   ]
  },
  {
   "cell_type": "code",
   "execution_count": 2,
   "metadata": {
    "_cell_guid": "fb6d8e02-fd04-4a8d-89fc-05865d419f60",
    "_uuid": "d08e285bc8c944828b707ccb0721630dd5a0ec2b"
   },
   "outputs": [
    {
     "name": "stdout",
     "output_type": "stream",
     "text": [
      "<class 'pandas.core.frame.DataFrame'>\n",
      "RangeIndex: 90400 entries, 0 to 90399\n",
      "Data columns (total 81 columns):\n",
      " #   Column                                    Non-Null Count  Dtype  \n",
      "---  ------                                    --------------  -----  \n",
      " 0   row_names                                 90400 non-null  object \n",
      " 1   game.id                                   90400 non-null  object \n",
      " 2   game.type                                 90400 non-null  object \n",
      " 3   details.description                       90400 non-null  object \n",
      " 4   details.image                             83508 non-null  object \n",
      " 5   details.maxplayers                        90397 non-null  float64\n",
      " 6   details.maxplaytime                       90397 non-null  float64\n",
      " 7   details.minage                            90397 non-null  float64\n",
      " 8   details.minplayers                        90397 non-null  float64\n",
      " 9   details.minplaytime                       90397 non-null  float64\n",
      " 10  details.name                              90400 non-null  object \n",
      " 11  details.playingtime                       90397 non-null  float64\n",
      " 12  details.thumbnail                         83508 non-null  object \n",
      " 13  details.yearpublished                     90397 non-null  float64\n",
      " 14  attributes.boardgameartist                34665 non-null  object \n",
      " 15  attributes.boardgamecategory              88869 non-null  object \n",
      " 16  attributes.boardgamecompilation           2295 non-null   object \n",
      " 17  attributes.boardgamedesigner              78517 non-null  object \n",
      " 18  attributes.boardgameexpansion             17787 non-null  object \n",
      " 19  attributes.boardgamefamily                50168 non-null  object \n",
      " 20  attributes.boardgameimplementation        4688 non-null   object \n",
      " 21  attributes.boardgameintegration           1284 non-null   object \n",
      " 22  attributes.boardgamemechanic              75163 non-null  object \n",
      " 23  attributes.boardgamepublisher             90305 non-null  object \n",
      " 24  attributes.total                          90400 non-null  float64\n",
      " 25  stats.average                             90400 non-null  float64\n",
      " 26  stats.averageweight                       90400 non-null  float64\n",
      " 27  stats.bayesaverage                        90400 non-null  float64\n",
      " 28  stats.family.abstracts.bayesaverage       897 non-null    float64\n",
      " 29  stats.family.abstracts.pos                858 non-null    float64\n",
      " 30  stats.family.cgs.bayesaverage             342 non-null    float64\n",
      " 31  stats.family.cgs.pos                      264 non-null    float64\n",
      " 32  stats.family.childrensgames.bayesaverage  679 non-null    float64\n",
      " 33  stats.family.childrensgames.pos           670 non-null    float64\n",
      " 34  stats.family.familygames.bayesaverage     1712 non-null   float64\n",
      " 35  stats.family.familygames.pos              1558 non-null   float64\n",
      " 36  stats.family.partygames.bayesaverage      476 non-null    float64\n",
      " 37  stats.family.partygames.pos               436 non-null    float64\n",
      " 38  stats.family.strategygames.bayesaverage   2002 non-null   float64\n",
      " 39  stats.family.strategygames.pos            1631 non-null   float64\n",
      " 40  stats.family.thematic.bayesaverage        1127 non-null   float64\n",
      " 41  stats.family.thematic.pos                 870 non-null    float64\n",
      " 42  stats.family.wargames.bayesaverage        3036 non-null   float64\n",
      " 43  stats.family.wargames.pos                 2530 non-null   float64\n",
      " 44  stats.median                              90400 non-null  float64\n",
      " 45  stats.numcomments                         90400 non-null  float64\n",
      " 46  stats.numweights                          90400 non-null  float64\n",
      " 47  stats.owned                               90400 non-null  float64\n",
      " 48  stats.stddev                              90400 non-null  float64\n",
      " 49  stats.subtype.boardgame.bayesaverage      18064 non-null  float64\n",
      " 50  stats.subtype.boardgame.pos               13693 non-null  float64\n",
      " 51  stats.trading                             90400 non-null  float64\n",
      " 52  stats.usersrated                          90400 non-null  float64\n",
      " 53  stats.wanting                             90400 non-null  float64\n",
      " 54  stats.wishing                             90400 non-null  float64\n",
      " 55  polls.language_dependence                 20728 non-null  object \n",
      " 56  polls.suggested_numplayers.1              17478 non-null  object \n",
      " 57  polls.suggested_numplayers.10             866 non-null    object \n",
      " 58  polls.suggested_numplayers.2              20381 non-null  object \n",
      " 59  polls.suggested_numplayers.3              14809 non-null  object \n",
      " 60  polls.suggested_numplayers.4              15102 non-null  object \n",
      " 61  polls.suggested_numplayers.5              8522 non-null   object \n",
      " 62  polls.suggested_numplayers.6              5984 non-null   object \n",
      " 63  polls.suggested_numplayers.7              2264 non-null   object \n",
      " 64  polls.suggested_numplayers.8              1982 non-null   object \n",
      " 65  polls.suggested_numplayers.9              920 non-null    object \n",
      " 66  polls.suggested_numplayers.Over           16175 non-null  object \n",
      " 67  polls.suggested_playerage                 18205 non-null  object \n",
      " 68  attributes.t.links.concat.2....           65 non-null     object \n",
      " 69  stats.family.amiga.bayesaverage           1 non-null      float64\n",
      " 70  stats.family.amiga.pos                    1 non-null      float64\n",
      " 71  stats.family.arcade.bayesaverage          1 non-null      float64\n",
      " 72  stats.family.arcade.pos                   1 non-null      float64\n",
      " 73  stats.family.atarist.bayesaverage         1 non-null      float64\n",
      " 74  stats.family.atarist.pos                  1 non-null      float64\n",
      " 75  stats.family.commodore64.bayesaverage     1 non-null      float64\n",
      " 76  stats.family.commodore64.pos              1 non-null      float64\n",
      " 77  stats.subtype.rpgitem.bayesaverage        4 non-null      float64\n",
      " 78  stats.subtype.rpgitem.pos                 2 non-null      float64\n",
      " 79  stats.subtype.videogame.bayesaverage      1 non-null      float64\n",
      " 80  stats.subtype.videogame.pos               1 non-null      float64\n",
      "dtypes: float64(50), object(31)\n",
      "memory usage: 55.9+ MB\n"
     ]
    }
   ],
   "source": [
    "#Let's look at what fields we have available\n",
    "df_boardgame_full.info()"
   ]
  },
  {
   "cell_type": "code",
   "execution_count": 3,
   "metadata": {
    "_cell_guid": "5e57a78d-64a5-4083-92e9-6ef701fcea9b",
    "_uuid": "6cfa3685d8e0d46032a127d71ae958f3eec2f82a"
   },
   "outputs": [],
   "source": [
    "#Parse down fields to those which describe attributes of the game\n",
    "df_boardgame = df_boardgame_full.loc[:,\n",
    "                                     ('game.id',\n",
    "                                      'game.type',\n",
    "                                      'details.description',\n",
    "                                      'details.maxplayers',\n",
    "                                      'details.maxplaytime',\n",
    "                                      'details.minage',\n",
    "                                      'details.minplayers',\n",
    "                                      'details.minplaytime',\n",
    "                                      'details.name',\n",
    "                                      'details.playingtime',\n",
    "                                      'details.yearpublished',\n",
    "                                      'attributes.boardgamecategory',\n",
    "                                      'attributes.boardgamemechanic',\n",
    "                                      'attributes.boardgamepublisher',\n",
    "                                      'stats.averageweight',\n",
    "                                      'stats.average')]"
   ]
  },
  {
   "cell_type": "markdown",
   "metadata": {},
   "source": [
    "## Data Visualization on different factors\n",
    "Exploratory Data Analysis - does this for Machine Learning enthusiast. It is a way of visualizing, summarizing and interpreting the information that is hidden in rows and column format."
   ]
  },
  {
   "cell_type": "code",
   "execution_count": 4,
   "metadata": {
    "_cell_guid": "f15711df-f426-42cf-bccd-cfaa6a90d5aa",
    "_uuid": "a148c09f2d630da1d84eea2b1089f1cc2e6d0488"
   },
   "outputs": [
    {
     "data": {
      "image/png": "[encoded data removed]",
      "text/plain": [
       "<Figure size 864x1440 with 8 Axes>"
      ]
     },
     "metadata": {
      "needs_background": "light"
     },
     "output_type": "display_data"
    }
   ],
   "source": [
    "#Let's look at some distributions\n",
    "numerics = ['int16', 'int32', 'int64', 'float16', 'float32', 'float64']\n",
    "numdf = df_boardgame.select_dtypes(include=numerics)\n",
    "numdf = numdf.dropna(axis=0, how='any')\n",
    "numdf_variables = list(numdf)\n",
    "\n",
    "#Set the number of graphs in the facet chart\n",
    "graphs = len(numdf_variables)-1\n",
    "\n",
    "#create a list of positions for the chart\n",
    "position = []\n",
    "for i in range(4):\n",
    "    for j in range(2):\n",
    "        b = i,j\n",
    "        position.append(b)\n",
    "\n",
    "#Create base of subplot chart.. rows x columbs = graphs\n",
    "fig, axes = plt.subplots(nrows=4, ncols=2, sharey=False, sharex=False, figsize=(12,20))\n",
    "fig.subplots_adjust(hspace=.5)\n",
    "\n",
    "#Fill in base with graphs based off of position\n",
    "for i in range(graphs):\n",
    "    sns.distplot(numdf[numdf_variables[i]], ax=axes[position[i]], kde=False)"
   ]
  },
  {
   "cell_type": "markdown",
   "metadata": {
    "_cell_guid": "621dbe62-2e31-4283-ae60-19f5208c2424",
    "_uuid": "17852e984eac457604f9abfa57af05750e37f1ea"
   },
   "source": [
    "Okay, so we have some variable outliers/errors here that are making the distributions way out of whack. There are many ways to deal with these outliers/errors, which we'll take on a case by case basis."
   ]
  },
  {
   "cell_type": "markdown",
   "metadata": {},
   "source": [
    "### Calculate outliers for all numeric details\n"
   ]
  },
  {
   "cell_type": "code",
   "execution_count": 5,
   "metadata": {
    "_cell_guid": "8d0356c6-ba8b-456e-87db-b3fcff41ebbb",
    "_uuid": "0586af09e50134209872e833cc84144939707781"
   },
   "outputs": [
    {
     "name": "stdout",
     "output_type": "stream",
     "text": [
      "details.maxplayers\n",
      "1135 upper outliers at 24.0\n",
      "0 lower outliers at -16.0\n",
      "details.maxplaytime\n",
      "1141 upper outliers at 307.5\n",
      "0 lower outliers at -242.5\n",
      "details.minage\n",
      "4 upper outliers at 66.0\n",
      "0 lower outliers at -54.0\n",
      "details.minplayers\n",
      "9803 upper outliers at 2.0\n",
      "14126 lower outliers at 2.0\n",
      "details.minplaytime\n",
      "1158 upper outliers at 285.0\n",
      "0 lower outliers at -215.0\n",
      "details.playingtime\n",
      "1141 upper outliers at 307.5\n",
      "0 lower outliers at -242.5\n",
      "details.yearpublished\n",
      "0 upper outliers at 2129.0\n",
      "8760 lower outliers at 1869.0\n",
      "stats.averageweight\n",
      "0 upper outliers at 9.625\n",
      "0 lower outliers at -7.875\n",
      "stats.average\n",
      "0 upper outliers at 36.666685\n",
      "0 lower outliers at -30.000014999999998\n"
     ]
    }
   ],
   "source": [
    "#Calculate outliers for all numeric details\n",
    "for field in numdf_variables:\n",
    "    value_mean = df_boardgame[field].median()\n",
    "    value_q1 = df_boardgame[field].quantile(.25)\n",
    "    value_q3 = df_boardgame[field].quantile(.75)\n",
    "    value_qrange = value_q3-value_q1\n",
    "    lower_outlier = value_q1-(4.5 * value_qrange)\n",
    "    upper_outlier = value_q3+(4.5 * value_qrange)\n",
    "    print(field)\n",
    "    print(len(df_boardgame[df_boardgame[field]>upper_outlier]), 'upper outliers at', upper_outlier)\n",
    "    print(len(df_boardgame[df_boardgame[field]<lower_outlier]), 'lower outliers at', lower_outlier)\n"
   ]
  },
  {
   "cell_type": "markdown",
   "metadata": {
    "_cell_guid": "6243b271-4cf0-4239-83b2-8d295b6ec085",
    "_uuid": "bf09bab674b84586ff97a080217d07e4eca06d7e"
   },
   "source": [
    "This may be complicated. Let's deal with these outliers later."
   ]
  },
  {
   "cell_type": "markdown",
   "metadata": {},
   "source": [
    "### Correlation Matrix"
   ]
  },
  {
   "cell_type": "code",
   "execution_count": 6,
   "metadata": {
    "_cell_guid": "cccc5055-4a3b-4ab4-8763-1b5581b0f49c",
    "_uuid": "acb7b6e516b7250027044f2830e88bc7012ebc92"
   },
   "outputs": [
    {
     "data": {
      "text/plain": [
       "stats.average            1.000000\n",
       "stats.averageweight      0.511930\n",
       "details.minage           0.238825\n",
       "details.yearpublished    0.192503\n",
       "details.playingtime      0.050798\n",
       "details.maxplaytime      0.050798\n",
       "details.minplaytime      0.046227\n",
       "details.minplayers       0.000049\n",
       "details.maxplayers      -0.001663\n",
       "Name: stats.average, dtype: float64"
      ]
     },
     "execution_count": 6,
     "metadata": {},
     "output_type": "execute_result"
    },
    {
     "data": {
      "image/png": "[encoded data removed]",
      "text/plain": [
       "<Figure size 1152x720 with 2 Axes>"
      ]
     },
     "metadata": {
      "needs_background": "light"
     },
     "output_type": "display_data"
    }
   ],
   "source": [
    "#Correlation Matrix\n",
    "fig, ax = plt.subplots(figsize=(16,10))\n",
    "corr = df_boardgame.corr()\n",
    "corr = (corr)\n",
    "sns.heatmap(corr, \n",
    "            xticklabels=corr.columns.values,\n",
    "            yticklabels=corr.columns.values, linewidths=.5, ax=ax)\n",
    "corr['stats.average'].sort_values(ascending=False)"
   ]
  },
  {
   "cell_type": "markdown",
   "metadata": {
    "_cell_guid": "827f1a35-a250-48d6-9af2-02c98547ddd0",
    "_uuid": "cfbc60acce409a86fb838355e9f40174a076cea2"
   },
   "source": [
    "The features most useful for us so far are:  stats.averageweight; details.yearpublished; details.minage"
   ]
  },
  {
   "cell_type": "markdown",
   "metadata": {},
   "source": [
    "### Let's make a new dataframe to work on categorizing the boardgame correctly"
   ]
  },
  {
   "cell_type": "code",
   "execution_count": 7,
   "metadata": {
    "_cell_guid": "869be2c2-a616-4029-8014-0b3e77ff87cb",
    "_uuid": "6c226d2350c3dcdfac328a99fdb6f4391c335618"
   },
   "outputs": [],
   "source": [
    "#New manageable data frame\n",
    "df_category = df_boardgame.loc[:, ['game.id','attributes.boardgamecategory']]\n",
    "df_category['attributes.boardgamecategory'] = df_category['attributes.boardgamecategory'].fillna(\"None\")\n",
    "\n",
    "#Use comma splits to break out individual mechanical types\n",
    "df_category = df_category['attributes.boardgamecategory'].apply(lambda x: pd.Series(x.split(',')))\n",
    "\n",
    "#Sum the rows to determine most popular category types\n",
    "category_counts = df_category.apply(pd.Series.value_counts).fillna(0)\n",
    "category_counts['Total'] = category_counts.sum(axis=1)\n",
    "\n",
    "#Let's get the most popular categories of games for our dataset\n",
    "category_counts = category_counts.sort_values(by='Total', ascending=False)\n",
    "category_list = category_counts[category_counts['Total']>500].index.tolist()\n",
    "\n",
    "#Create dummies for all the boardgame categories\n",
    "df_boardgame['attributes.boardgamecategory'].fillna(0, inplace=True)\n",
    "for i in category_list:\n",
    "    df_boardgame.loc[df_boardgame['attributes.boardgamecategory'].str.contains(i) == True ,i] = 1\n",
    "    df_boardgame.loc[df_boardgame['attributes.boardgamecategory'].str.contains(i) == False ,i] = 0\n",
    "    df_boardgame[i].fillna(0, inplace=True)"
   ]
  },
  {
   "cell_type": "markdown",
   "metadata": {},
   "source": [
    "### Create a dataframe that takes boardgame categories and sorts by their overall mean rating"
   ]
  },
  {
   "cell_type": "code",
   "execution_count": 8,
   "metadata": {
    "_cell_guid": "daf6968d-b8e4-4f65-a10a-6f63006bbabb",
    "_uuid": "f20bbf5fdd8242d57256289a1cc09357925351e3"
   },
   "outputs": [
    {
     "data": {
      "text/html": [
       "<div>\n",
       "<style scoped>\n",
       "    .dataframe tbody tr th:only-of-type {\n",
       "        vertical-align: middle;\n",
       "    }\n",
       "\n",
       "    .dataframe tbody tr th {\n",
       "        vertical-align: top;\n",
       "    }\n",
       "\n",
       "    .dataframe thead th {\n",
       "        text-align: right;\n",
       "    }\n",
       "</style>\n",
       "<table border=\"1\" class=\"dataframe\">\n",
       "  <thead>\n",
       "    <tr style=\"text-align: right;\">\n",
       "      <th></th>\n",
       "      <th>Avg_Rating</th>\n",
       "      <th>Game Type</th>\n",
       "    </tr>\n",
       "  </thead>\n",
       "  <tbody>\n",
       "    <tr>\n",
       "      <th>69</th>\n",
       "      <td>6.447312</td>\n",
       "      <td>Renaissance</td>\n",
       "    </tr>\n",
       "    <tr>\n",
       "      <th>3</th>\n",
       "      <td>6.281217</td>\n",
       "      <td>Expansion for Base-game</td>\n",
       "    </tr>\n",
       "    <tr>\n",
       "      <th>58</th>\n",
       "      <td>6.035445</td>\n",
       "      <td>Civilization</td>\n",
       "    </tr>\n",
       "    <tr>\n",
       "      <th>19</th>\n",
       "      <td>5.789767</td>\n",
       "      <td>World War II</td>\n",
       "    </tr>\n",
       "    <tr>\n",
       "      <th>63</th>\n",
       "      <td>5.743018</td>\n",
       "      <td>World War I</td>\n",
       "    </tr>\n",
       "    <tr>\n",
       "      <th>27</th>\n",
       "      <td>5.722487</td>\n",
       "      <td>Medieval</td>\n",
       "    </tr>\n",
       "    <tr>\n",
       "      <th>7</th>\n",
       "      <td>5.711969</td>\n",
       "      <td>Miniatures</td>\n",
       "    </tr>\n",
       "    <tr>\n",
       "      <th>46</th>\n",
       "      <td>5.710972</td>\n",
       "      <td>City Building</td>\n",
       "    </tr>\n",
       "    <tr>\n",
       "      <th>51</th>\n",
       "      <td>5.677852</td>\n",
       "      <td>Napoleonic</td>\n",
       "    </tr>\n",
       "    <tr>\n",
       "      <th>47</th>\n",
       "      <td>5.604465</td>\n",
       "      <td>Trains</td>\n",
       "    </tr>\n",
       "  </tbody>\n",
       "</table>\n",
       "</div>"
      ],
      "text/plain": [
       "    Avg_Rating                Game Type\n",
       "69    6.447312              Renaissance\n",
       "3     6.281217  Expansion for Base-game\n",
       "58    6.035445             Civilization\n",
       "19    5.789767             World War II\n",
       "63    5.743018              World War I\n",
       "27    5.722487                 Medieval\n",
       "7     5.711969               Miniatures\n",
       "46    5.710972            City Building\n",
       "51    5.677852               Napoleonic\n",
       "47    5.604465                   Trains"
      ]
     },
     "execution_count": 8,
     "metadata": {},
     "output_type": "execute_result"
    }
   ],
   "source": [
    "#Create a dataframe that takes boardgame categories and sorts by their overall mean rating\n",
    "d =[]\n",
    "for i in category_list:\n",
    "    score = df_boardgame[df_boardgame[i]==1]['stats.average'].mean()\n",
    "    d.append({'Avg_Rating': score, 'Game Type': i})\n",
    "df_categorymean = pd.DataFrame(d).sort_values(by='Avg_Rating', ascending=False)\n",
    "df_categorymean[:10]"
   ]
  },
  {
   "cell_type": "markdown",
   "metadata": {},
   "source": [
    "### Top rated and Lowest rated games categories"
   ]
  },
  {
   "cell_type": "code",
   "execution_count": 9,
   "metadata": {
    "_cell_guid": "9d50ea9d-bf07-4d70-9b8b-d3262ed6645f",
    "_uuid": "146b3b08bb028201f724a6b2bccb358fec024cc4"
   },
   "outputs": [
    {
     "data": {
      "image/png": "[encoded data removed]",
      "text/plain": [
       "<Figure size 1440x864 with 2 Axes>"
      ]
     },
     "metadata": {
      "needs_background": "light"
     },
     "output_type": "display_data"
    }
   ],
   "source": [
    "#Create base of subplot chart.. rows x columbs = graphs\n",
    "fig, (ax1, ax2) = plt.subplots(nrows=2, sharey=True, sharex=False, figsize=(20,12))\n",
    "fig.subplots_adjust(hspace=.5)\n",
    "sns.barplot(x=\"Game Type\", y=\"Avg_Rating\", data=df_categorymean[:10], ax=ax1)\n",
    "sns.barplot(x=\"Game Type\", y=\"Avg_Rating\", data=df_categorymean[-10:], ax=ax2)\n",
    "ax1.title.set_text('Top Rated Game Categories')\n",
    "ax2.title.set_text('Lowest Rated Game Categories')"
   ]
  },
  {
   "cell_type": "markdown",
   "metadata": {
    "_cell_guid": "3cb1fb4a-032b-44ec-81c9-8ef7b4df92f3",
    "_uuid": "3466e9d6058525727a76ad25cec9bbda8c49d49a"
   },
   "source": [
    "**Takeaways:**  \n",
    "1) Let's make an period-piece expansion boardgame set in conflict involving trains  \n",
    "2) Let's not try to incorporate school subjects into our boardgames"
   ]
  },
  {
   "cell_type": "markdown",
   "metadata": {
    "_cell_guid": "f04c68dc-b6b7-4044-b3e5-5843e01432af",
    "_uuid": "39e176d9b41898b9ff9537a6fd25cd358f2b0dea"
   },
   "source": [
    "*************************************************\n",
    "##   Prediction Model Creation\n",
    "\n",
    "Predictive modeling, also called predictive analytics, is a mathematical process that seeks to predict future events or outcomes by analyzing patterns that are likely to forecast future results.\n",
    "\n",
    "Now to build that prediction model I amgoing to use regression algorithms. Now let's find out what is regression algorithms?\n",
    "\n",
    "Regression analysis consists of a set of machine learning methods that allow us to predict a continuous outcome variable (y) based on the value of one or multiple predictor variables (x). Briefly, the goal of regression model is to build a mathematical equation that defines y as a function of the x variables.\n",
    "\n",
    "Here we are going to prepare several Regression machine learning models based on those we will do a comparative analysis that which model is better among them.\n",
    "\n",
    "I have decided to go with nine regression models to evaluate this dataset - \n",
    "\n",
    "* **OLS Regression** : Ordinary least squares (OLS) regression is a statistical method of analysis that estimates the relationship between one or more independent variables and a dependent variable; the method estimates the relationship by minimizing the sum of the squares in the difference between the observed and predicted values of the dependent variable configured as a straight line.\n",
    "\n",
    "\n",
    "* **Random Forest Regression** : Random Forest Regression is a supervised learning algorithm that uses ensemble learning method for regression. A Random Forest operates by constructing several decision trees during training time and outputting the mean of the classes as the prediction of all the trees.\n",
    "\n",
    "\n",
    "* **Decision Tree Regression** : Decision tree builds regression or classification models in the form of a tree structure. It breaks down a dataset into smaller and smaller subsets while at the same time an associated decision tree is incrementally developed. Decision trees can handle both categorical and numerical data.\n",
    "\n",
    "\n",
    "* **Lasso Regression** : In statistics and machine learning, lasso (least absolute shrinkage and selection operator; also Lasso or LASSO) is a regression analysis method that performs both variable selection and regularization in order to enhance the prediction accuracy and interpretability of the resulting statistical model.\n",
    "\n",
    "\n",
    "* **Ridge Regression** : Ridge regression is a model tuning method that is used to analyse any data that suffers from multicollinearity. This method performs L2 regularization. When the issue of multicollinearity occurs, least-squares are unbiased, and variances are large, this results in predicted values to be far away from the actual values.\n",
    "\n",
    "\n",
    "* **XgBoost Regressor** : XGBoost is a powerful approach for building supervised regression models. ... Ensemble learning involves training and combining individual models (known as base learners) to get a single prediction, and XGBoost is one of the ensemble learning methods.\n",
    "\n",
    "\n",
    "* **MLP Regressor** : A multilayer perceptron (MLP) is a class of feedforward artificial neural network (ANN). ... MLP utilizes a supervised learning technique called backpropagation for training. Its multiple layers and non-linear activation distinguish MLP from a linear perceptron. It can distinguish data that is not linearly separable.\n",
    "\n",
    "\n",
    "* **Gradient Boosting Regressor** : Gradient boosting is a machine learning technique for regression, classification and other tasks, which produces a prediction model in the form of an ensemble of weak prediction models, typically decision trees.\n",
    "\n",
    "\n",
    "\n",
    "Let's deploy the models..."
   ]
  },
  {
   "cell_type": "code",
   "execution_count": 10,
   "metadata": {
    "_cell_guid": "3411f8cc-c8a5-4a71-9122-01a74f6c94b4",
    "_uuid": "8a9216b8617e3daec809fb074a0ed8a992ceb4f3"
   },
   "outputs": [
    {
     "data": {
      "text/plain": [
       "\"\\nI don't like these details.maxplayers and details.maxplaytime, because 0s indicate the opposite\\nof their direction impact i.e. maxplayers = 0 indicates infinite players\\n\""
      ]
     },
     "execution_count": 10,
     "metadata": {},
     "output_type": "execute_result"
    }
   ],
   "source": [
    "#Drop outliers for details.minage\n",
    "df_boardgame = df_boardgame[df_boardgame['details.minage']<66]\n",
    "\n",
    "#Drop \"The Ancients\" i.e. games that came out before 1900\n",
    "df_boardgame = df_boardgame[df_boardgame['details.yearpublished']>1900]\n",
    "\n",
    "'''\n",
    "I don't like these details.maxplayers and details.maxplaytime, because 0s indicate the opposite\n",
    "of their direction impact i.e. maxplayers = 0 indicates infinite players\n",
    "'''"
   ]
  },
  {
   "cell_type": "code",
   "execution_count": 11,
   "metadata": {
    "_cell_guid": "bc87dd4d-d0d3-43df-8cec-7d8a0e5cc08f",
    "_uuid": "b74b4e10ef5acf140ac7f77c99c619e59b5424f4"
   },
   "outputs": [],
   "source": [
    "model_data = df_boardgame.loc[:,\n",
    "                                     (\n",
    "                                      'game.type',\n",
    "                                      'details.minage',\n",
    "                                      'details.minplayers',\n",
    "                                      'details.yearpublished',\n",
    "                                      'attributes.boardgamecategory',\n",
    "                                      'stats.averageweight',\n",
    "                                      'stats.average')]"
   ]
  },
  {
   "cell_type": "code",
   "execution_count": 12,
   "metadata": {
    "_cell_guid": "30f9811e-39c8-4533-b477-81cad6355f7e",
    "_uuid": "a3bb1d77ffc87146511c8d009a20c1b5c5bc979e"
   },
   "outputs": [],
   "source": [
    "#Create dummies for all the boardgame categories on model_data\n",
    "for i in category_list:\n",
    "    model_data.loc[model_data['attributes.boardgamecategory'].str.contains(i) == True ,i] = 1\n",
    "    model_data.loc[model_data['attributes.boardgamecategory'].str.contains(i) == False ,i] = 0\n",
    "    model_data[i].fillna(0, inplace=True)"
   ]
  },
  {
   "cell_type": "code",
   "execution_count": 13,
   "metadata": {
    "_cell_guid": "70c65c59-c208-4f5e-808e-6a902b34b47b",
    "_uuid": "61e6827227d10e0ad13ad7599d8a26f966ad4c9f"
   },
   "outputs": [],
   "source": [
    "#Get dummy variables for boardgame/expansion type\n",
    "model_data = pd.get_dummies(model_data, columns=['game.type'])"
   ]
  },
  {
   "cell_type": "code",
   "execution_count": 14,
   "metadata": {
    "_cell_guid": "4f3e6532-c03c-441a-9fe8-f6faad329679",
    "_uuid": "ad4fdebacb86e01a210a38475ff96df03357b456"
   },
   "outputs": [],
   "source": [
    "#Get rid of remaining object categories\n",
    "model_data = model_data.loc[:, model_data.columns != 'attributes.boardgamecategory']"
   ]
  },
  {
   "cell_type": "markdown",
   "metadata": {},
   "source": [
    "**Training and Testing Dataset Spliting using the `train_test_split`**\n",
    "  \n",
    "  * Immporting the library from the sklearn.model_selection\n",
    "  * Split the dataset into 85:15 ratio\n",
    "  * x_train and y_train are the trainning datasets\n",
    "  * x_test and y_test are the testing datasets\n",
    "  * After the spliting of the datasets the model is ready to be prepared!"
   ]
  },
  {
   "cell_type": "code",
   "execution_count": 15,
   "metadata": {
    "_cell_guid": "8d5913fe-7ea2-42b4-a63c-60d545ac761c",
    "_uuid": "f61e2ce47e68bf1cd1c89e037c2a9d8f06e4e5ad"
   },
   "outputs": [],
   "source": [
    "#Create Training / Test splits\n",
    "from sklearn.model_selection import train_test_split\n",
    "\n",
    "target_name = 'stats.average'\n",
    "X = model_data.drop('stats.average', axis=1)\n",
    "y=model_data[target_name]\n",
    "\n",
    "X_train, X_test, y_train, y_test = train_test_split(X,y,test_size=0.15, random_state=243)"
   ]
  },
  {
   "cell_type": "markdown",
   "metadata": {
    "_cell_guid": "e2e4c277-8659-4517-986c-dc9c5657e0ba",
    "_uuid": "15c233c79a2150b397bf7a376c5b32b8ef82f77f",
    "collapsed": true
   },
   "source": [
    "### OLS Regression\n",
    "Ordinary least squares (OLS) regression is a statistical method of analysis that estimates the relationship between one or more independent variables and a dependent variable; the method estimates the relationship by minimizing the sum of the squares in the difference between the observed and predicted values of the dependent variable configured as a straight line."
   ]
  },
  {
   "cell_type": "code",
   "execution_count": 16,
   "metadata": {
    "_cell_guid": "870930ec-c3c0-4e7a-9e31-13695054e5a4",
    "_uuid": "c68c93b61c7e373f0f4f52a8e7b20c93537ed463"
   },
   "outputs": [
    {
     "data": {
      "text/html": [
       "<div>\n",
       "<style scoped>\n",
       "    .dataframe tbody tr th:only-of-type {\n",
       "        vertical-align: middle;\n",
       "    }\n",
       "\n",
       "    .dataframe tbody tr th {\n",
       "        vertical-align: top;\n",
       "    }\n",
       "\n",
       "    .dataframe thead th {\n",
       "        text-align: right;\n",
       "    }\n",
       "</style>\n",
       "<table border=\"1\" class=\"dataframe\">\n",
       "  <thead>\n",
       "    <tr style=\"text-align: right;\">\n",
       "      <th></th>\n",
       "      <th>feature</th>\n",
       "      <th>importance</th>\n",
       "    </tr>\n",
       "  </thead>\n",
       "  <tbody>\n",
       "    <tr>\n",
       "      <th>3</th>\n",
       "      <td>stats.averageweight</td>\n",
       "      <td>1.035134</td>\n",
       "    </tr>\n",
       "    <tr>\n",
       "      <th>73</th>\n",
       "      <td>Renaissance</td>\n",
       "      <td>0.958619</td>\n",
       "    </tr>\n",
       "    <tr>\n",
       "      <th>51</th>\n",
       "      <td>Trains</td>\n",
       "      <td>0.511242</td>\n",
       "    </tr>\n",
       "    <tr>\n",
       "      <th>31</th>\n",
       "      <td>Medieval</td>\n",
       "      <td>0.423839</td>\n",
       "    </tr>\n",
       "    <tr>\n",
       "      <th>45</th>\n",
       "      <td>Aviation / Flight</td>\n",
       "      <td>0.410483</td>\n",
       "    </tr>\n",
       "    <tr>\n",
       "      <th>29</th>\n",
       "      <td>Bluffing</td>\n",
       "      <td>0.372610</td>\n",
       "    </tr>\n",
       "    <tr>\n",
       "      <th>55</th>\n",
       "      <td>Napoleonic</td>\n",
       "      <td>0.368572</td>\n",
       "    </tr>\n",
       "    <tr>\n",
       "      <th>41</th>\n",
       "      <td>Real-time</td>\n",
       "      <td>0.320553</td>\n",
       "    </tr>\n",
       "    <tr>\n",
       "      <th>52</th>\n",
       "      <td>Pirates</td>\n",
       "      <td>0.310300</td>\n",
       "    </tr>\n",
       "    <tr>\n",
       "      <th>32</th>\n",
       "      <td>Deduction</td>\n",
       "      <td>0.308359</td>\n",
       "    </tr>\n",
       "  </tbody>\n",
       "</table>\n",
       "</div>"
      ],
      "text/plain": [
       "                feature  importance\n",
       "3   stats.averageweight    1.035134\n",
       "73          Renaissance    0.958619\n",
       "51               Trains    0.511242\n",
       "31             Medieval    0.423839\n",
       "45    Aviation / Flight    0.410483\n",
       "29             Bluffing    0.372610\n",
       "55           Napoleonic    0.368572\n",
       "41            Real-time    0.320553\n",
       "52              Pirates    0.310300\n",
       "32            Deduction    0.308359"
      ]
     },
     "execution_count": 16,
     "metadata": {},
     "output_type": "execute_result"
    }
   ],
   "source": [
    "#Let's use the basic OLS regression from sklearn\n",
    "from sklearn.linear_model import LinearRegression\n",
    "lm = LinearRegression()\n",
    "lm.fit(X_train, y_train)\n",
    "\n",
    "#What are the features that have the most weight?\n",
    "ols_coefficients = pd.DataFrame({'feature': X_train.columns, 'importance': lm.coef_})\n",
    "ols_coefficients.sort_values('importance', ascending=False)[:10]"
   ]
  },
  {
   "cell_type": "code",
   "execution_count": 17,
   "metadata": {
    "_cell_guid": "a00fe51a-01b7-4e6d-8e4d-be56bdda0f3a",
    "_uuid": "b1c3f7cbfc5023937e16b1fa81251d19df681e13"
   },
   "outputs": [
    {
     "data": {
      "text/plain": [
       "2.3417666586137766"
      ]
     },
     "execution_count": 17,
     "metadata": {},
     "output_type": "execute_result"
    }
   ],
   "source": [
    "#Get OLS mean squared error on test dataset \n",
    "from sklearn import metrics\n",
    "ols_y_predict = lm.predict(X_test)\n",
    "ols_mse = np.sqrt(metrics.mean_squared_error(y_test, ols_y_predict))\n",
    "ols_mse"
   ]
  },
  {
   "cell_type": "code",
   "execution_count": 18,
   "metadata": {},
   "outputs": [
    {
     "name": "stdout",
     "output_type": "stream",
     "text": [
      "R2-Score: 0.3472093833499533\n"
     ]
    }
   ],
   "source": [
    "print(f'R2-Score: {metrics.r2_score(y_test, ols_y_predict)}')"
   ]
  },
  {
   "cell_type": "markdown",
   "metadata": {
    "_cell_guid": "c15390cb-db77-409a-b22a-116639d94088",
    "_uuid": "19d34f2b87fac9b06301dea80a8a01c2612b87cb"
   },
   "source": [
    "### Random Forest Regression \n",
    "Random Forest Regression is a supervised learning algorithm that uses ensemble learning method for regression. A Random Forest operates by constructing several decision trees during training time and outputting the mean of the classes as the prediction of all the trees."
   ]
  },
  {
   "cell_type": "code",
   "execution_count": 19,
   "metadata": {
    "_cell_guid": "2d34fe35-cda8-4dbf-8390-f6439d1682d3",
    "_uuid": "54ca99c8b835444394799ea192fb1c2ba62058ed"
   },
   "outputs": [
    {
     "data": {
      "text/plain": [
       "<matplotlib.axes._subplots.AxesSubplot at 0x3b3532c8>"
      ]
     },
     "execution_count": 19,
     "metadata": {},
     "output_type": "execute_result"
    },
    {
     "data": {
      "image/png": "[encoded data removed]",
      "text/plain": [
       "<Figure size 432x288 with 1 Axes>"
      ]
     },
     "metadata": {
      "needs_background": "light"
     },
     "output_type": "display_data"
    }
   ],
   "source": [
    "from sklearn.ensemble import RandomForestRegressor\n",
    "rf = RandomForestRegressor(max_depth=7, random_state=0)\n",
    "rf.fit(X_train, y_train)\n",
    "rf_importances = rf.feature_importances_\n",
    "feat_names = X_train.columns\n",
    "rf_result = pd.DataFrame({'feature': feat_names, 'importance': rf_importances})\n",
    "rf_result.sort_values(by='importance',ascending=False)[:10].plot(x='feature', y='importance', kind='bar')"
   ]
  },
  {
   "cell_type": "code",
   "execution_count": 20,
   "metadata": {
    "_cell_guid": "ac42a72c-9f53-4b8e-af50-b2b2344b4c24",
    "_uuid": "b2c769c1138bc391954114f9ff34c5dbee6d37bd"
   },
   "outputs": [
    {
     "data": {
      "text/plain": [
       "2.2270008236744814"
      ]
     },
     "execution_count": 20,
     "metadata": {},
     "output_type": "execute_result"
    }
   ],
   "source": [
    "#Get Random Forest mean squared error on test dataset\n",
    "rf_y_predict = rf.predict(X_test)\n",
    "rf_mse = np.sqrt(metrics.mean_squared_error(y_test, rf_y_predict))\n",
    "rf_mse"
   ]
  },
  {
   "cell_type": "code",
   "execution_count": 21,
   "metadata": {},
   "outputs": [
    {
     "name": "stdout",
     "output_type": "stream",
     "text": [
      "R2-Score: 0.40962572973950906\n"
     ]
    }
   ],
   "source": [
    "print(f'R2-Score: {metrics.r2_score(y_test, rf_y_predict)}')"
   ]
  },
  {
   "cell_type": "markdown",
   "metadata": {},
   "source": [
    "### Decision Tree Regressor\n",
    "Decision tree builds regression or classification models in the form of a tree structure. It breaks down a dataset into smaller and smaller subsets while at the same time an associated decision tree is incrementally developed. Decision trees can handle both categorical and numerical data."
   ]
  },
  {
   "cell_type": "code",
   "execution_count": 22,
   "metadata": {},
   "outputs": [
    {
     "data": {
      "text/plain": [
       "DecisionTreeRegressor()"
      ]
     },
     "execution_count": 22,
     "metadata": {},
     "output_type": "execute_result"
    }
   ],
   "source": [
    "from sklearn.tree import DecisionTreeRegressor\n",
    "dtr = DecisionTreeRegressor()\n",
    "dtr.fit(X_train, y_train)"
   ]
  },
  {
   "cell_type": "code",
   "execution_count": 23,
   "metadata": {},
   "outputs": [
    {
     "data": {
      "text/plain": [
       "2.8269153580235855"
      ]
     },
     "execution_count": 23,
     "metadata": {},
     "output_type": "execute_result"
    }
   ],
   "source": [
    "dtr_y_predict = dtr.predict(X_test)\n",
    "dtr_mse = np.sqrt(metrics.mean_squared_error(y_test, dtr_y_predict))\n",
    "dtr_mse"
   ]
  },
  {
   "cell_type": "code",
   "execution_count": 24,
   "metadata": {},
   "outputs": [
    {
     "name": "stdout",
     "output_type": "stream",
     "text": [
      "R2-Score: 0.048711433537314885\n"
     ]
    }
   ],
   "source": [
    "print(f'R2-Score: {metrics.r2_score(y_test, dtr_y_predict)}')"
   ]
  },
  {
   "cell_type": "markdown",
   "metadata": {},
   "source": [
    "### Lasso Regression\n",
    "In statistics and machine learning, lasso (least absolute shrinkage and selection operator; also Lasso or LASSO) is a regression analysis method that performs both variable selection and regularization in order to enhance the prediction accuracy and interpretability of the resulting statistical model."
   ]
  },
  {
   "cell_type": "code",
   "execution_count": 25,
   "metadata": {},
   "outputs": [
    {
     "data": {
      "text/plain": [
       "Lasso(alpha=0.1)"
      ]
     },
     "execution_count": 25,
     "metadata": {},
     "output_type": "execute_result"
    }
   ],
   "source": [
    "from sklearn import linear_model\n",
    "lasso = linear_model.Lasso(alpha=0.1)\n",
    "lasso.fit(X_train, y_train)"
   ]
  },
  {
   "cell_type": "code",
   "execution_count": 26,
   "metadata": {},
   "outputs": [
    {
     "data": {
      "text/plain": [
       "2.389949076413906"
      ]
     },
     "execution_count": 26,
     "metadata": {},
     "output_type": "execute_result"
    }
   ],
   "source": [
    "lasso_y_predict = lasso.predict(X_test)\n",
    "lasso_mse = np.sqrt(metrics.mean_squared_error(y_test, lasso_y_predict))\n",
    "lasso_mse"
   ]
  },
  {
   "cell_type": "code",
   "execution_count": 27,
   "metadata": {},
   "outputs": [
    {
     "name": "stdout",
     "output_type": "stream",
     "text": [
      "R2-Score: 0.32007037957356943\n"
     ]
    }
   ],
   "source": [
    "print(f'R2-Score: {metrics.r2_score(y_test, lasso_y_predict)}')"
   ]
  },
  {
   "cell_type": "markdown",
   "metadata": {},
   "source": [
    "### Ridge Regression\n",
    "\n",
    "Ridge regression is a model tuning method that is used to analyse any data that suffers from multicollinearity. This method performs L2 regularization. When the issue of multicollinearity occurs, least-squares are unbiased, and variances are large, this results in predicted values to be far away from the actual values."
   ]
  },
  {
   "cell_type": "code",
   "execution_count": 28,
   "metadata": {},
   "outputs": [
    {
     "data": {
      "text/plain": [
       "Ridge(alpha=0.1)"
      ]
     },
     "execution_count": 28,
     "metadata": {},
     "output_type": "execute_result"
    }
   ],
   "source": [
    "from sklearn import linear_model\n",
    "ridge = linear_model.Ridge(alpha=0.1)\n",
    "ridge.fit(X_train, y_train)"
   ]
  },
  {
   "cell_type": "code",
   "execution_count": 29,
   "metadata": {},
   "outputs": [
    {
     "data": {
      "text/plain": [
       "2.341766677872332"
      ]
     },
     "execution_count": 29,
     "metadata": {},
     "output_type": "execute_result"
    }
   ],
   "source": [
    "ridge_y_predict = ridge.predict(X_test)\n",
    "ridge_mse = np.sqrt(metrics.mean_squared_error(y_test, ridge_y_predict))\n",
    "ridge_mse"
   ]
  },
  {
   "cell_type": "code",
   "execution_count": 30,
   "metadata": {},
   "outputs": [
    {
     "name": "stdout",
     "output_type": "stream",
     "text": [
      "R2-Score: 0.34720937261292784\n"
     ]
    }
   ],
   "source": [
    "print(f'R2-Score: {metrics.r2_score(y_test, ridge_y_predict)}')"
   ]
  },
  {
   "cell_type": "markdown",
   "metadata": {},
   "source": [
    "### XgBoost Regressor \n",
    "XGBoost is a powerful approach for building supervised regression models. Ensemble learning involves training and combining individual models (known as base learners) to get a single prediction, and XGBoost is one of the ensemble learning methods."
   ]
  },
  {
   "cell_type": "code",
   "execution_count": 31,
   "metadata": {},
   "outputs": [
    {
     "name": "stdout",
     "output_type": "stream",
     "text": [
      "[12:05:08] WARNING: src/objective/regression_obj.cu:152: reg:linear is now deprecated in favor of reg:squarederror.\n"
     ]
    },
    {
     "data": {
      "text/plain": [
       "XGBRegressor()"
      ]
     },
     "execution_count": 31,
     "metadata": {},
     "output_type": "execute_result"
    }
   ],
   "source": [
    "from xgboost.sklearn import XGBRegressor\n",
    "xgb = XGBRegressor()\n",
    "xgb.fit(X_train, y_train)"
   ]
  },
  {
   "cell_type": "code",
   "execution_count": 32,
   "metadata": {},
   "outputs": [
    {
     "data": {
      "text/plain": [
       "2.2301457644699085"
      ]
     },
     "execution_count": 32,
     "metadata": {},
     "output_type": "execute_result"
    }
   ],
   "source": [
    "xgb_y_predict = xgb.predict(X_test)\n",
    "xgb_mse = np.sqrt(metrics.mean_squared_error(y_test, xgb_y_predict))\n",
    "xgb_mse"
   ]
  },
  {
   "cell_type": "code",
   "execution_count": 33,
   "metadata": {},
   "outputs": [
    {
     "name": "stdout",
     "output_type": "stream",
     "text": [
      "R2-Score: 0.4079571150670196\n"
     ]
    }
   ],
   "source": [
    "print(f'R2-Score: {metrics.r2_score(y_test, xgb_y_predict)}')"
   ]
  },
  {
   "cell_type": "markdown",
   "metadata": {},
   "source": [
    "### Gradient Boosting Regressor \n",
    "Gradient boosting is a machine learning technique for regression, classification and other tasks, which produces a prediction model in the form of an ensemble of weak prediction models, typically decision trees."
   ]
  },
  {
   "cell_type": "code",
   "execution_count": 34,
   "metadata": {},
   "outputs": [
    {
     "data": {
      "text/plain": [
       "GradientBoostingRegressor()"
      ]
     },
     "execution_count": 34,
     "metadata": {},
     "output_type": "execute_result"
    }
   ],
   "source": [
    "from sklearn.ensemble import GradientBoostingRegressor\n",
    "gb = GradientBoostingRegressor()\n",
    "gb.fit(X_train, y_train)"
   ]
  },
  {
   "cell_type": "code",
   "execution_count": 35,
   "metadata": {},
   "outputs": [
    {
     "data": {
      "text/plain": [
       "2.229192160009136"
      ]
     },
     "execution_count": 35,
     "metadata": {},
     "output_type": "execute_result"
    }
   ],
   "source": [
    "gb_y_predict = gb.predict(X_test)\n",
    "gb_mse = np.sqrt(metrics.mean_squared_error(y_test, gb_y_predict))\n",
    "gb_mse"
   ]
  },
  {
   "cell_type": "code",
   "execution_count": 36,
   "metadata": {},
   "outputs": [
    {
     "name": "stdout",
     "output_type": "stream",
     "text": [
      "R2-Score: 0.40846331877773456\n"
     ]
    }
   ],
   "source": [
    "print(f'R2-Score: {metrics.r2_score(y_test, gb_y_predict)}')"
   ]
  },
  {
   "cell_type": "markdown",
   "metadata": {},
   "source": [
    "### MLP Regressor \n",
    "A multilayer perceptron (MLP) is a class of feedforward artificial neural network (ANN). MLP utilizes a supervised learning technique called backpropagation for training. Its multiple layers and non-linear activation distinguish MLP from a linear perceptron. It can distinguish data that is not linearly separable."
   ]
  },
  {
   "cell_type": "code",
   "execution_count": 37,
   "metadata": {},
   "outputs": [
    {
     "data": {
      "text/plain": [
       "MLPRegressor()"
      ]
     },
     "execution_count": 37,
     "metadata": {},
     "output_type": "execute_result"
    }
   ],
   "source": [
    "from sklearn.neural_network import MLPRegressor\n",
    "mlp = MLPRegressor()\n",
    "mlp.fit(X_train, y_train)"
   ]
  },
  {
   "cell_type": "code",
   "execution_count": 38,
   "metadata": {},
   "outputs": [
    {
     "data": {
      "text/plain": [
       "2.866377803474747"
      ]
     },
     "execution_count": 38,
     "metadata": {},
     "output_type": "execute_result"
    }
   ],
   "source": [
    "mlp_y_predict = mlp.predict(X_test)\n",
    "mlp_mse = np.sqrt(metrics.mean_squared_error(y_test, mlp_y_predict))\n",
    "mlp_mse"
   ]
  },
  {
   "cell_type": "code",
   "execution_count": 39,
   "metadata": {},
   "outputs": [
    {
     "name": "stdout",
     "output_type": "stream",
     "text": [
      "R2-Score: 0.02196695045341268\n"
     ]
    }
   ],
   "source": [
    "print(f'R2-Score: {metrics.r2_score(y_test, mlp_y_predict)}')"
   ]
  },
  {
   "cell_type": "markdown",
   "metadata": {},
   "source": [
    "***************************\n",
    "### Comparative analysis among the algorithms for this project\n",
    "\n",
    "We have deployed eight machine learning algorithms and every algorithm is deployed successfully without any hesitation. We have checked the accuracy of the models based on the accuracy score of each of the models. Now let's take a look at the scores of each models.\n",
    "\n",
    "|Name of the Model|R2 Score|Mean Squared Error|\n",
    "|:---:|:---:|:---:|\n",
    "|OLS Regression|0.35|2.34|\n",
    "|Decision Tree Regressor|0.05|2.83|\n",
    "|Random Forest Regressor|0.41|2.23|\n",
    "|Lasso Regression|0.32|2.39|\n",
    "|Ridge Regression|0.35|2.34|\n",
    "|XgBoost Regressor|0.41|2.23|\n",
    "|MLP Regressor|0.02|2.86|\n",
    "|Gradient Boosting Regressor|0.41|2.23|\n",
    "\n",
    "\n",
    "### Conclusion\n",
    "\n",
    "**Comparing all those scores scored by the machine learning algorithms, it is clear that Gradient Boosting Regression, XgBoosting Regression and Random Forest Regression are having the upper hand in case of this dataset and after this, we can use Ridge Regressor, which is also having good score as compared to the other deployed algorithms**\n",
    "\n",
    "Best Fitted Models ranking - \n",
    "1. Gradient Boosting\n",
    "2. XgBoosting Regressor\n",
    "3. Random Forest\n",
    "4. OLS Regression\n",
    "5. Ridge Regressor\n",
    "6. Lasso Regressor\n",
    "7. Decision Tree Regressor\n",
    "8. MLP Regressor\n",
    "\n",
    "\n"
   ]
  }
 ],
 "metadata": {
  "kernelspec": {
   "display_name": "Python 3 (ipykernel)",
   "language": "python",
   "name": "python3"
  },
  "language_info": {
   "codemirror_mode": {
    "name": "ipython",
    "version": 3
   },
   "file_extension": ".py",
   "mimetype": "text/x-python",
   "name": "python",
   "nbconvert_exporter": "python",
   "pygments_lexer": "ipython3",
   "version": "3.9.13"
  }
 },
 "nbformat": 4,
 "nbformat_minor": 1
}
