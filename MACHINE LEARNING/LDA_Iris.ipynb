{
 "cells": [
  {
   "cell_type": "markdown",
   "metadata": {},
   "source": [
    "# COURSE:   PGP [AI&ML]\n",
    "\n",
    "## Learner :  Chaitanya Kumar Battula\n",
    "## Module  : Machine Learning\n",
    "## Topic   : LDA_Iris"
   ]
  },
  {
   "cell_type": "code",
   "execution_count": 79,
   "metadata": {},
   "outputs": [],
   "source": [
    "import numpy as np\n",
    "import pandas as pd"
   ]
  },
  {
   "cell_type": "code",
   "execution_count": 80,
   "metadata": {},
   "outputs": [],
   "source": [
    "from sklearn.datasets import load_iris"
   ]
  },
  {
   "cell_type": "code",
   "execution_count": 81,
   "metadata": {},
   "outputs": [],
   "source": [
    "iris = load_iris()"
   ]
  },
  {
   "cell_type": "code",
   "execution_count": 82,
   "metadata": {},
   "outputs": [],
   "source": [
    "X= iris.data\n",
    "y=iris.target"
   ]
  },
  {
   "cell_type": "code",
   "execution_count": 83,
   "metadata": {},
   "outputs": [],
   "source": [
    "from sklearn.model_selection import train_test_split"
   ]
  },
  {
   "cell_type": "code",
   "execution_count": 84,
   "metadata": {},
   "outputs": [],
   "source": [
    "X_train,X_test,y_train,y_test = train_test_split(X,y,test_size=0.3,random_state=42)"
   ]
  },
  {
   "cell_type": "code",
   "execution_count": 85,
   "metadata": {},
   "outputs": [],
   "source": [
    "from sklearn.preprocessing import StandardScaler"
   ]
  },
  {
   "cell_type": "code",
   "execution_count": 86,
   "metadata": {},
   "outputs": [],
   "source": [
    "scaler = StandardScaler()"
   ]
  },
  {
   "cell_type": "code",
   "execution_count": 87,
   "metadata": {},
   "outputs": [],
   "source": [
    "X_train = scaler.fit_transform(X_train) # Normalise the data\n",
    "X_test = scaler.transform(X_test) # Scaling of Test Data"
   ]
  },
  {
   "cell_type": "code",
   "execution_count": 88,
   "metadata": {},
   "outputs": [
    {
     "data": {
      "text/plain": [
       "array([[ 0.3100623 , -0.50256349,  0.484213  , -0.05282593],\n",
       "       [-0.17225683,  1.89603497, -1.26695916, -1.27039917],\n",
       "       [ 2.23933883, -0.98228318,  1.76840592,  1.43531914],\n",
       "       [ 0.18948252, -0.26270364,  0.36746819,  0.35303182],\n",
       "       [ 1.15412078, -0.50256349,  0.54258541,  0.2177459 ],\n",
       "       [-0.53399618,  0.93659559, -1.38370397, -1.13511325],\n",
       "       [-0.29283662, -0.26270364, -0.15788346,  0.08245999],\n",
       "       [ 1.27470056,  0.21701605,  0.71770262,  1.43531914],\n",
       "       [ 0.43064208, -1.94172256,  0.36746819,  0.35303182],\n",
       "       [-0.05167705, -0.74242333,  0.01723376, -0.05282593],\n",
       "       [ 0.79238143,  0.4568759 ,  0.71770262,  1.0294614 ],\n",
       "       [-1.25747488, -0.02284379, -1.44207638, -1.540971  ],\n",
       "       [-0.4134164 ,  1.17645543, -1.50044878, -1.40568508],\n",
       "       [-1.1368951 ,  0.21701605, -1.38370397, -1.540971  ],\n",
       "       [-0.89573553,  1.89603497, -1.38370397, -1.27039917],\n",
       "       [ 0.55122187,  0.69673574,  0.484213  ,  0.48831773],\n",
       "       [ 0.79238143, -0.02284379,  1.12630946,  1.30003323],\n",
       "       [-0.29283662, -1.22214302,  0.01723376, -0.18811184],\n",
       "       [-0.17225683, -0.50256349,  0.36746819,  0.08245999],\n",
       "       [ 0.67180165, -0.50256349,  1.00956465,  1.30003323],\n",
       "       [-1.37805466,  0.4568759 , -1.32533157, -1.40568508],\n",
       "       [ 0.3100623 , -0.02284379,  0.60095781,  0.75888956],\n",
       "       [-1.01631531,  0.93659559, -1.32533157, -1.13511325],\n",
       "       [ 0.67180165, -0.50256349,  1.00956465,  1.16474731],\n",
       "       [ 2.4804984 ,  1.89603497,  1.47654389,  1.0294614 ],\n",
       "       [ 1.033541  , -0.02284379,  0.77607503,  1.43531914],\n",
       "       [ 1.033541  , -1.22214302,  1.12630946,  0.75888956],\n",
       "       [ 1.15412078,  0.4568759 ,  1.18468187,  1.43531914],\n",
       "       [-1.25747488, -0.02284379, -1.44207638, -1.27039917],\n",
       "       [-1.25747488,  0.21701605, -1.32533157, -1.40568508],\n",
       "       [-1.49863445,  1.41631528, -1.675566  , -1.40568508],\n",
       "       [-0.17225683,  3.33519404, -1.38370397, -1.13511325],\n",
       "       [ 1.033541  ,  0.21701605,  0.30909579,  0.2177459 ],\n",
       "       [-1.25747488,  0.93659559, -1.32533157, -1.40568508],\n",
       "       [-1.73979401,  0.4568759 , -1.50044878, -1.40568508],\n",
       "       [ 0.55122187, -1.22214302,  0.65933022,  0.89417548],\n",
       "       [ 0.67180165,  0.4568759 ,  0.36746819,  0.35303182],\n",
       "       [-0.77515575,  1.17645543, -1.38370397, -1.40568508],\n",
       "       [-1.01631531,  1.41631528, -1.44207638, -1.40568508],\n",
       "       [-0.77515575,  2.6156145 , -1.38370397, -1.540971  ],\n",
       "       [-0.05167705, -0.74242333,  0.71770262,  0.89417548],\n",
       "       [ 0.18948252,  0.93659559,  0.36746819,  0.48831773],\n",
       "       [ 1.033541  ,  0.21701605,  0.484213  ,  0.35303182],\n",
       "       [-0.53399618,  2.13589481, -1.50044878, -1.13511325],\n",
       "       [-0.53399618,  1.65617512, -1.38370397, -1.40568508]])"
      ]
     },
     "execution_count": 88,
     "metadata": {},
     "output_type": "execute_result"
    }
   ],
   "source": [
    "X_test"
   ]
  },
  {
   "cell_type": "code",
   "execution_count": 89,
   "metadata": {},
   "outputs": [],
   "source": [
    "from sklearn.discriminant_analysis import LinearDiscriminantAnalysis as LDA"
   ]
  },
  {
   "cell_type": "code",
   "execution_count": 108,
   "metadata": {},
   "outputs": [],
   "source": [
    "lda = LDA(n_components=3)"
   ]
  },
  {
   "cell_type": "code",
   "execution_count": 109,
   "metadata": {},
   "outputs": [
    {
     "name": "stderr",
     "output_type": "stream",
     "text": [
      "/usr/local/lib/python3.7/site-packages/sklearn/discriminant_analysis.py:463: ChangedBehaviorWarning: n_components cannot be larger than min(n_features, n_classes - 1). Using min(n_features, n_classes - 1) = min(1, 3 - 1) = 1 components.\n",
      "  ChangedBehaviorWarning)\n",
      "/usr/local/lib/python3.7/site-packages/sklearn/discriminant_analysis.py:469: FutureWarning: In version 0.23, setting n_components > min(n_features, n_classes - 1) will raise a ValueError. You should set n_components to None (default), or a value smaller or equal to min(n_features, n_classes - 1).\n",
      "  warnings.warn(future_msg, FutureWarning)\n"
     ]
    }
   ],
   "source": [
    "X_train = lda.fit_transform(X_train,y_train)"
   ]
  },
  {
   "cell_type": "code",
   "execution_count": 110,
   "metadata": {},
   "outputs": [],
   "source": [
    "X_test = lda.transform(X_test)"
   ]
  },
  {
   "cell_type": "code",
   "execution_count": 111,
   "metadata": {},
   "outputs": [],
   "source": [
    "from sklearn.neighbors import KNeighborsClassifier"
   ]
  },
  {
   "cell_type": "code",
   "execution_count": 112,
   "metadata": {},
   "outputs": [],
   "source": [
    "model = KNeighborsClassifier()"
   ]
  },
  {
   "cell_type": "code",
   "execution_count": 113,
   "metadata": {},
   "outputs": [
    {
     "data": {
      "text/plain": [
       "KNeighborsClassifier(algorithm='auto', leaf_size=30, metric='minkowski',\n",
       "                     metric_params=None, n_jobs=None, n_neighbors=5, p=2,\n",
       "                     weights='uniform')"
      ]
     },
     "execution_count": 113,
     "metadata": {},
     "output_type": "execute_result"
    }
   ],
   "source": [
    "model.fit(X_train,y_train)"
   ]
  },
  {
   "cell_type": "code",
   "execution_count": 114,
   "metadata": {},
   "outputs": [],
   "source": [
    "y_preds = model.predict(X_test)"
   ]
  },
  {
   "cell_type": "code",
   "execution_count": 115,
   "metadata": {},
   "outputs": [],
   "source": [
    "from sklearn.metrics import accuracy_score"
   ]
  },
  {
   "cell_type": "code",
   "execution_count": 116,
   "metadata": {},
   "outputs": [
    {
     "data": {
      "text/plain": [
       "0.9777777777777777"
      ]
     },
     "execution_count": 116,
     "metadata": {},
     "output_type": "execute_result"
    }
   ],
   "source": [
    "accuracy_score(y_test,y_preds)"
   ]
  },
  {
   "cell_type": "code",
   "execution_count": null,
   "metadata": {},
   "outputs": [],
   "source": []
  }
 ],
 "metadata": {
  "kernelspec": {
   "display_name": "Python 3",
   "language": "python",
   "name": "python3"
  },
  "language_info": {
   "codemirror_mode": {
    "name": "ipython",
    "version": 3
   },
   "file_extension": ".py",
   "mimetype": "text/x-python",
   "name": "python",
   "nbconvert_exporter": "python",
   "pygments_lexer": "ipython3",
   "version": "3.8.3"
  }
 },
 "nbformat": 4,
 "nbformat_minor": 4
}
