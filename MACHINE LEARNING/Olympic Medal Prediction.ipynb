{
 "cells": [
  {
   "cell_type": "markdown",
   "metadata": {
    "id": "fnxKXlVHJ3IV"
   },
   "source": [
    "# **Olympic Medal Prediction**"
   ]
  },
  {
   "cell_type": "markdown",
   "metadata": {
    "id": "XGl2KTJdKBru"
   },
   "source": [
    "## Importing Libraries\n"
   ]
  },
  {
   "cell_type": "code",
   "execution_count": 1,
   "metadata": {
    "id": "xLT3C2gbV8SQ"
   },
   "outputs": [],
   "source": [
    "import numpy as np\n",
    "import pandas as pd\n",
    "\n",
    "import matplotlib.pyplot as plt\n",
    "import seaborn as sns\n",
    "\n",
    "from sklearn.preprocessing import MinMaxScaler\n",
    "from sklearn.model_selection import train_test_split\n",
    "from sklearn.metrics import classification_report, confusion_matrix,accuracy_score\n",
    "\n",
    "from sklearn.feature_selection import SelectKBest\n",
    "from sklearn.feature_selection import chi2\n",
    "\n",
    "import tensorflow as tf\n",
    "from sklearn.naive_bayes import MultinomialNB\n",
    "from sklearn.linear_model import LogisticRegression\n",
    "from sklearn.ensemble import RandomForestClassifier\n",
    "from sklearn.ensemble import GradientBoostingClassifier\n",
    "from sklearn.tree import DecisionTreeClassifier\n",
    "from sklearn.naive_bayes import GaussianNB"
   ]
  },
  {
   "cell_type": "markdown",
   "metadata": {
    "id": "V1z2DGzcKU-A"
   },
   "source": [
    "## Reading Dataset"
   ]
  },
  {
   "cell_type": "code",
   "execution_count": 2,
   "metadata": {
    "id": "EPaE2xmLZlDQ"
   },
   "outputs": [
    {
     "data": {
      "text/html": [
       "<div>\n",
       "<style scoped>\n",
       "    .dataframe tbody tr th:only-of-type {\n",
       "        vertical-align: middle;\n",
       "    }\n",
       "\n",
       "    .dataframe tbody tr th {\n",
       "        vertical-align: top;\n",
       "    }\n",
       "\n",
       "    .dataframe thead th {\n",
       "        text-align: right;\n",
       "    }\n",
       "</style>\n",
       "<table border=\"1\" class=\"dataframe\">\n",
       "  <thead>\n",
       "    <tr style=\"text-align: right;\">\n",
       "      <th></th>\n",
       "      <th>ID</th>\n",
       "      <th>Name</th>\n",
       "      <th>Sex</th>\n",
       "      <th>Age</th>\n",
       "      <th>Height</th>\n",
       "      <th>Weight</th>\n",
       "      <th>Team</th>\n",
       "      <th>NOC</th>\n",
       "      <th>Games</th>\n",
       "      <th>Year</th>\n",
       "      <th>Season</th>\n",
       "      <th>City</th>\n",
       "      <th>Sport</th>\n",
       "      <th>Event</th>\n",
       "      <th>Medal</th>\n",
       "    </tr>\n",
       "  </thead>\n",
       "  <tbody>\n",
       "    <tr>\n",
       "      <th>0</th>\n",
       "      <td>1</td>\n",
       "      <td>A Dijiang</td>\n",
       "      <td>M</td>\n",
       "      <td>24.0</td>\n",
       "      <td>180.0</td>\n",
       "      <td>80.0</td>\n",
       "      <td>China</td>\n",
       "      <td>CHN</td>\n",
       "      <td>1992 Summer</td>\n",
       "      <td>1992</td>\n",
       "      <td>Summer</td>\n",
       "      <td>Barcelona</td>\n",
       "      <td>Basketball</td>\n",
       "      <td>Basketball Men's Basketball</td>\n",
       "      <td>NaN</td>\n",
       "    </tr>\n",
       "    <tr>\n",
       "      <th>1</th>\n",
       "      <td>2</td>\n",
       "      <td>A Lamusi</td>\n",
       "      <td>M</td>\n",
       "      <td>23.0</td>\n",
       "      <td>170.0</td>\n",
       "      <td>60.0</td>\n",
       "      <td>China</td>\n",
       "      <td>CHN</td>\n",
       "      <td>2012 Summer</td>\n",
       "      <td>2012</td>\n",
       "      <td>Summer</td>\n",
       "      <td>London</td>\n",
       "      <td>Judo</td>\n",
       "      <td>Judo Men's Extra-Lightweight</td>\n",
       "      <td>NaN</td>\n",
       "    </tr>\n",
       "    <tr>\n",
       "      <th>2</th>\n",
       "      <td>3</td>\n",
       "      <td>Gunnar Nielsen Aaby</td>\n",
       "      <td>M</td>\n",
       "      <td>24.0</td>\n",
       "      <td>NaN</td>\n",
       "      <td>NaN</td>\n",
       "      <td>Denmark</td>\n",
       "      <td>DEN</td>\n",
       "      <td>1920 Summer</td>\n",
       "      <td>1920</td>\n",
       "      <td>Summer</td>\n",
       "      <td>Antwerpen</td>\n",
       "      <td>Football</td>\n",
       "      <td>Football Men's Football</td>\n",
       "      <td>NaN</td>\n",
       "    </tr>\n",
       "    <tr>\n",
       "      <th>3</th>\n",
       "      <td>4</td>\n",
       "      <td>Edgar Lindenau Aabye</td>\n",
       "      <td>M</td>\n",
       "      <td>34.0</td>\n",
       "      <td>NaN</td>\n",
       "      <td>NaN</td>\n",
       "      <td>Denmark/Sweden</td>\n",
       "      <td>DEN</td>\n",
       "      <td>1900 Summer</td>\n",
       "      <td>1900</td>\n",
       "      <td>Summer</td>\n",
       "      <td>Paris</td>\n",
       "      <td>Tug-Of-War</td>\n",
       "      <td>Tug-Of-War Men's Tug-Of-War</td>\n",
       "      <td>Gold</td>\n",
       "    </tr>\n",
       "    <tr>\n",
       "      <th>4</th>\n",
       "      <td>5</td>\n",
       "      <td>Christine Jacoba Aaftink</td>\n",
       "      <td>F</td>\n",
       "      <td>21.0</td>\n",
       "      <td>185.0</td>\n",
       "      <td>82.0</td>\n",
       "      <td>Netherlands</td>\n",
       "      <td>NED</td>\n",
       "      <td>1988 Winter</td>\n",
       "      <td>1988</td>\n",
       "      <td>Winter</td>\n",
       "      <td>Calgary</td>\n",
       "      <td>Speed Skating</td>\n",
       "      <td>Speed Skating Women's 500 metres</td>\n",
       "      <td>NaN</td>\n",
       "    </tr>\n",
       "    <tr>\n",
       "      <th>...</th>\n",
       "      <td>...</td>\n",
       "      <td>...</td>\n",
       "      <td>...</td>\n",
       "      <td>...</td>\n",
       "      <td>...</td>\n",
       "      <td>...</td>\n",
       "      <td>...</td>\n",
       "      <td>...</td>\n",
       "      <td>...</td>\n",
       "      <td>...</td>\n",
       "      <td>...</td>\n",
       "      <td>...</td>\n",
       "      <td>...</td>\n",
       "      <td>...</td>\n",
       "      <td>...</td>\n",
       "    </tr>\n",
       "    <tr>\n",
       "      <th>1018</th>\n",
       "      <td>570</td>\n",
       "      <td>Pedro Abreu Pascal</td>\n",
       "      <td>M</td>\n",
       "      <td>23.0</td>\n",
       "      <td>200.0</td>\n",
       "      <td>88.0</td>\n",
       "      <td>Cuba</td>\n",
       "      <td>CUB</td>\n",
       "      <td>1980 Summer</td>\n",
       "      <td>1980</td>\n",
       "      <td>Summer</td>\n",
       "      <td>Moskva</td>\n",
       "      <td>Basketball</td>\n",
       "      <td>Basketball Men's Basketball</td>\n",
       "      <td>NaN</td>\n",
       "    </tr>\n",
       "    <tr>\n",
       "      <th>1019</th>\n",
       "      <td>571</td>\n",
       "      <td>Rubn Abreu Rivero</td>\n",
       "      <td>M</td>\n",
       "      <td>24.0</td>\n",
       "      <td>177.0</td>\n",
       "      <td>71.0</td>\n",
       "      <td>Venezuela</td>\n",
       "      <td>VEN</td>\n",
       "      <td>1996 Summer</td>\n",
       "      <td>1996</td>\n",
       "      <td>Summer</td>\n",
       "      <td>Atlanta</td>\n",
       "      <td>Cycling</td>\n",
       "      <td>Cycling Men's Road Race, Individual</td>\n",
       "      <td>NaN</td>\n",
       "    </tr>\n",
       "    <tr>\n",
       "      <th>1020</th>\n",
       "      <td>572</td>\n",
       "      <td>Rui Pinto de Abreu</td>\n",
       "      <td>M</td>\n",
       "      <td>15.0</td>\n",
       "      <td>177.0</td>\n",
       "      <td>64.0</td>\n",
       "      <td>Portugal</td>\n",
       "      <td>POR</td>\n",
       "      <td>1976 Summer</td>\n",
       "      <td>1976</td>\n",
       "      <td>Summer</td>\n",
       "      <td>Montreal</td>\n",
       "      <td>Swimming</td>\n",
       "      <td>Swimming Men's 400 metres Freestyle</td>\n",
       "      <td>NaN</td>\n",
       "    </tr>\n",
       "    <tr>\n",
       "      <th>1021</th>\n",
       "      <td>572</td>\n",
       "      <td>Rui Pinto de Abreu</td>\n",
       "      <td>M</td>\n",
       "      <td>15.0</td>\n",
       "      <td>177.0</td>\n",
       "      <td>64.0</td>\n",
       "      <td>Portugal</td>\n",
       "      <td>POR</td>\n",
       "      <td>1976 Summer</td>\n",
       "      <td>1976</td>\n",
       "      <td>Summer</td>\n",
       "      <td>Montreal</td>\n",
       "      <td>Swimming</td>\n",
       "      <td>Swimming Men's 4 x 200 metres Freestyle Relay</td>\n",
       "      <td>NaN</td>\n",
       "    </tr>\n",
       "    <tr>\n",
       "      <th>1022</th>\n",
       "      <td>572</td>\n",
       "      <td>Rui Pinto de Abreu</td>\n",
       "      <td>M</td>\n",
       "      <td>19.0</td>\n",
       "      <td>177.0</td>\n",
       "      <td>64.0</td>\n",
       "      <td>Portugal</td>\n",
       "      <td>POR</td>\n",
       "      <td>1980 Summer</td>\n",
       "      <td>1980</td>\n",
       "      <td>Summer</td>\n",
       "      <td>Moskva</td>\n",
       "      <td>Swimming</td>\n",
       "      <td>Swimming Men's 100 metres Freestyle</td>\n",
       "      <td>NaN</td>\n",
       "    </tr>\n",
       "  </tbody>\n",
       "</table>\n",
       "<p>1023 rows × 15 columns</p>\n",
       "</div>"
      ],
      "text/plain": [
       "       ID                      Name Sex   Age  Height  Weight            Team  \\\n",
       "0       1                 A Dijiang   M  24.0   180.0    80.0           China   \n",
       "1       2                  A Lamusi   M  23.0   170.0    60.0           China   \n",
       "2       3       Gunnar Nielsen Aaby   M  24.0     NaN     NaN         Denmark   \n",
       "3       4      Edgar Lindenau Aabye   M  34.0     NaN     NaN  Denmark/Sweden   \n",
       "4       5  Christine Jacoba Aaftink   F  21.0   185.0    82.0     Netherlands   \n",
       "...   ...                       ...  ..   ...     ...     ...             ...   \n",
       "1018  570        Pedro Abreu Pascal   M  23.0   200.0    88.0            Cuba   \n",
       "1019  571         Rubn Abreu Rivero   M  24.0   177.0    71.0       Venezuela   \n",
       "1020  572        Rui Pinto de Abreu   M  15.0   177.0    64.0        Portugal   \n",
       "1021  572        Rui Pinto de Abreu   M  15.0   177.0    64.0        Portugal   \n",
       "1022  572        Rui Pinto de Abreu   M  19.0   177.0    64.0        Portugal   \n",
       "\n",
       "      NOC        Games  Year  Season       City          Sport  \\\n",
       "0     CHN  1992 Summer  1992  Summer  Barcelona     Basketball   \n",
       "1     CHN  2012 Summer  2012  Summer     London           Judo   \n",
       "2     DEN  1920 Summer  1920  Summer  Antwerpen       Football   \n",
       "3     DEN  1900 Summer  1900  Summer      Paris     Tug-Of-War   \n",
       "4     NED  1988 Winter  1988  Winter    Calgary  Speed Skating   \n",
       "...   ...          ...   ...     ...        ...            ...   \n",
       "1018  CUB  1980 Summer  1980  Summer     Moskva     Basketball   \n",
       "1019  VEN  1996 Summer  1996  Summer    Atlanta        Cycling   \n",
       "1020  POR  1976 Summer  1976  Summer   Montreal       Swimming   \n",
       "1021  POR  1976 Summer  1976  Summer   Montreal       Swimming   \n",
       "1022  POR  1980 Summer  1980  Summer     Moskva       Swimming   \n",
       "\n",
       "                                              Event Medal  \n",
       "0                       Basketball Men's Basketball   NaN  \n",
       "1                      Judo Men's Extra-Lightweight   NaN  \n",
       "2                           Football Men's Football   NaN  \n",
       "3                       Tug-Of-War Men's Tug-Of-War  Gold  \n",
       "4                  Speed Skating Women's 500 metres   NaN  \n",
       "...                                             ...   ...  \n",
       "1018                    Basketball Men's Basketball   NaN  \n",
       "1019            Cycling Men's Road Race, Individual   NaN  \n",
       "1020            Swimming Men's 400 metres Freestyle   NaN  \n",
       "1021  Swimming Men's 4 x 200 metres Freestyle Relay   NaN  \n",
       "1022            Swimming Men's 100 metres Freestyle   NaN  \n",
       "\n",
       "[1023 rows x 15 columns]"
      ]
     },
     "execution_count": 2,
     "metadata": {},
     "output_type": "execute_result"
    }
   ],
   "source": [
    "data = pd.read_csv('../DataSets/athlete_events.csv')\n",
    "data"
   ]
  },
  {
   "cell_type": "code",
   "execution_count": null,
   "metadata": {
    "colab": {
     "base_uri": "https://localhost:8080/",
     "height": 635
    },
    "id": "2lXaRKQaZrXq",
    "outputId": "f9a9bdcb-33f1-47dc-fd45-2660a1e0f7c6"
   },
   "outputs": [],
   "source": []
  },
  {
   "cell_type": "code",
   "execution_count": 3,
   "metadata": {
    "colab": {
     "base_uri": "https://localhost:8080/"
    },
    "id": "Uwo9YYzoa7fM",
    "outputId": "5a7db09c-601c-47c6-d891-d04eae55e88c"
   },
   "outputs": [
    {
     "name": "stdout",
     "output_type": "stream",
     "text": [
      "<class 'pandas.core.frame.DataFrame'>\n",
      "RangeIndex: 1023 entries, 0 to 1022\n",
      "Data columns (total 15 columns):\n",
      " #   Column  Non-Null Count  Dtype  \n",
      "---  ------  --------------  -----  \n",
      " 0   ID      1023 non-null   int64  \n",
      " 1   Name    1023 non-null   object \n",
      " 2   Sex     1023 non-null   object \n",
      " 3   Age     959 non-null    float64\n",
      " 4   Height  773 non-null    float64\n",
      " 5   Weight  776 non-null    float64\n",
      " 6   Team    1023 non-null   object \n",
      " 7   NOC     1023 non-null   object \n",
      " 8   Games   1023 non-null   object \n",
      " 9   Year    1023 non-null   int64  \n",
      " 10  Season  1023 non-null   object \n",
      " 11  City    1023 non-null   object \n",
      " 12  Sport   1023 non-null   object \n",
      " 13  Event   1023 non-null   object \n",
      " 14  Medal   112 non-null    object \n",
      "dtypes: float64(3), int64(2), object(10)\n",
      "memory usage: 120.0+ KB\n"
     ]
    }
   ],
   "source": [
    "data.info()\n"
   ]
  },
  {
   "cell_type": "code",
   "execution_count": 4,
   "metadata": {
    "colab": {
     "base_uri": "https://localhost:8080/"
    },
    "id": "0CwtauhnbB33",
    "outputId": "d0efa2df-30fe-44bc-c066-3466b4edd8b1"
   },
   "outputs": [
    {
     "data": {
      "text/plain": [
       "(1023, 15)"
      ]
     },
     "execution_count": 4,
     "metadata": {},
     "output_type": "execute_result"
    }
   ],
   "source": [
    "data.shape"
   ]
  },
  {
   "cell_type": "code",
   "execution_count": 5,
   "metadata": {
    "colab": {
     "base_uri": "https://localhost:8080/"
    },
    "id": "qvapjH0BbdsS",
    "outputId": "73629ac7-f27f-4d88-9424-b8824a977785"
   },
   "outputs": [
    {
     "data": {
      "text/plain": [
       "Gold      45\n",
       "Bronze    34\n",
       "Silver    33\n",
       "Name: Medal, dtype: int64"
      ]
     },
     "execution_count": 5,
     "metadata": {},
     "output_type": "execute_result"
    }
   ],
   "source": [
    "data['Medal'].value_counts()"
   ]
  },
  {
   "cell_type": "code",
   "execution_count": 6,
   "metadata": {
    "colab": {
     "base_uri": "https://localhost:8080/"
    },
    "id": "OJQ1pEPPlTPm",
    "outputId": "967caa76-9d20-48dc-e20b-6373950e95b0"
   },
   "outputs": [
    {
     "data": {
      "text/plain": [
       "Egypt            189\n",
       "Norway            59\n",
       "United States     41\n",
       "Finland           34\n",
       "Spain             27\n",
       "                ... \n",
       "Comoros            1\n",
       "France-1           1\n",
       "Denmark            1\n",
       "Kenya              1\n",
       "Venezuela          1\n",
       "Name: Team, Length: 115, dtype: int64"
      ]
     },
     "execution_count": 6,
     "metadata": {},
     "output_type": "execute_result"
    }
   ],
   "source": [
    "data['Team'].value_counts()"
   ]
  },
  {
   "cell_type": "markdown",
   "metadata": {
    "id": "9hpezT7CypQM"
   },
   "source": [
    "## Exploratory Data Analysis"
   ]
  },
  {
   "cell_type": "code",
   "execution_count": 7,
   "metadata": {
    "colab": {
     "base_uri": "https://localhost:8080/",
     "height": 390
    },
    "id": "ZT65ZfSTyyJz",
    "outputId": "be285638-9da5-4aa7-8f78-d9731d23df18"
   },
   "outputs": [
    {
     "data": {
      "image/png": "[encoded data removed]",
      "text/plain": [
       "<Figure size 1200x600 with 1 Axes>"
      ]
     },
     "metadata": {},
     "output_type": "display_data"
    }
   ],
   "source": [
    "# Age Distribution\n",
    "\n",
    "plt.figure(figsize=(12,6))\n",
    "plt.title(\"Age Distribution with Participant and No Counts\")\n",
    "plt.hist(data.Age,color='orange')\n",
    "plt.show()"
   ]
  },
  {
   "cell_type": "markdown",
   "metadata": {
    "id": "WQM036B-0R3-"
   },
   "source": [
    "Athletes over the age of 20 to 30 is majority age group participant\n"
   ]
  },
  {
   "cell_type": "code",
   "execution_count": 8,
   "metadata": {
    "colab": {
     "base_uri": "https://localhost:8080/"
    },
    "id": "64J0q2wi1QBW",
    "outputId": "8dcbd686-afb2-41f4-e302-4396f63ea16a"
   },
   "outputs": [
    {
     "data": {
      "text/plain": [
       "M    857\n",
       "F    166\n",
       "Name: Sex, dtype: int64"
      ]
     },
     "execution_count": 8,
     "metadata": {},
     "output_type": "execute_result"
    }
   ],
   "source": [
    "# Gender DIstribution\n",
    "gender_unique_values = data.Sex.value_counts()\n",
    "gender_unique_values"
   ]
  },
  {
   "cell_type": "code",
   "execution_count": 9,
   "metadata": {
    "colab": {
     "base_uri": "https://localhost:8080/",
     "height": 373
    },
    "id": "KbY58AwC0QAt",
    "outputId": "e79a0bd0-fcb4-4820-b185-60044a012b5d"
   },
   "outputs": [
    {
     "data": {
      "image/png": "[encoded data removed]",
      "text/plain": [
       "<Figure size 1200x600 with 1 Axes>"
      ]
     },
     "metadata": {},
     "output_type": "display_data"
    }
   ],
   "source": [
    "plt.figure(figsize=(12,6))\n",
    "plt.title(\"Gender Distribution\")\n",
    "plt.pie(gender_unique_values, labels=gender_unique_values.index, autopct=\"%.2f%%\", startangle=90)\n",
    "plt.show()"
   ]
  },
  {
   "cell_type": "markdown",
   "metadata": {
    "id": "0rtTPPGZ1jO4"
   },
   "source": [
    "Male participants are more than female partocipants in the olympic"
   ]
  },
  {
   "cell_type": "code",
   "execution_count": 10,
   "metadata": {
    "colab": {
     "base_uri": "https://localhost:8080/",
     "height": 603
    },
    "id": "BpKJyXu71Zl3",
    "outputId": "04a3b2e5-d2a4-4876-ad36-9a826276de89"
   },
   "outputs": [
    {
     "data": {
      "text/html": [
       "<div>\n",
       "<style scoped>\n",
       "    .dataframe tbody tr th:only-of-type {\n",
       "        vertical-align: middle;\n",
       "    }\n",
       "\n",
       "    .dataframe tbody tr th {\n",
       "        vertical-align: top;\n",
       "    }\n",
       "\n",
       "    .dataframe thead th {\n",
       "        text-align: right;\n",
       "    }\n",
       "</style>\n",
       "<table border=\"1\" class=\"dataframe\">\n",
       "  <thead>\n",
       "    <tr style=\"text-align: right;\">\n",
       "      <th></th>\n",
       "      <th>Year</th>\n",
       "      <th>Sex</th>\n",
       "    </tr>\n",
       "  </thead>\n",
       "  <tbody>\n",
       "    <tr>\n",
       "      <th>0</th>\n",
       "      <td>1900</td>\n",
       "      <td>2</td>\n",
       "    </tr>\n",
       "    <tr>\n",
       "      <th>1</th>\n",
       "      <td>1932</td>\n",
       "      <td>2</td>\n",
       "    </tr>\n",
       "    <tr>\n",
       "      <th>2</th>\n",
       "      <td>1948</td>\n",
       "      <td>1</td>\n",
       "    </tr>\n",
       "    <tr>\n",
       "      <th>3</th>\n",
       "      <td>1956</td>\n",
       "      <td>2</td>\n",
       "    </tr>\n",
       "    <tr>\n",
       "      <th>4</th>\n",
       "      <td>1960</td>\n",
       "      <td>5</td>\n",
       "    </tr>\n",
       "    <tr>\n",
       "      <th>5</th>\n",
       "      <td>1964</td>\n",
       "      <td>1</td>\n",
       "    </tr>\n",
       "    <tr>\n",
       "      <th>6</th>\n",
       "      <td>1972</td>\n",
       "      <td>6</td>\n",
       "    </tr>\n",
       "    <tr>\n",
       "      <th>7</th>\n",
       "      <td>1976</td>\n",
       "      <td>1</td>\n",
       "    </tr>\n",
       "    <tr>\n",
       "      <th>8</th>\n",
       "      <td>1980</td>\n",
       "      <td>3</td>\n",
       "    </tr>\n",
       "    <tr>\n",
       "      <th>9</th>\n",
       "      <td>1984</td>\n",
       "      <td>7</td>\n",
       "    </tr>\n",
       "    <tr>\n",
       "      <th>10</th>\n",
       "      <td>1988</td>\n",
       "      <td>7</td>\n",
       "    </tr>\n",
       "    <tr>\n",
       "      <th>11</th>\n",
       "      <td>1992</td>\n",
       "      <td>2</td>\n",
       "    </tr>\n",
       "    <tr>\n",
       "      <th>12</th>\n",
       "      <td>1996</td>\n",
       "      <td>8</td>\n",
       "    </tr>\n",
       "    <tr>\n",
       "      <th>13</th>\n",
       "      <td>2000</td>\n",
       "      <td>10</td>\n",
       "    </tr>\n",
       "    <tr>\n",
       "      <th>14</th>\n",
       "      <td>2004</td>\n",
       "      <td>12</td>\n",
       "    </tr>\n",
       "    <tr>\n",
       "      <th>15</th>\n",
       "      <td>2008</td>\n",
       "      <td>30</td>\n",
       "    </tr>\n",
       "    <tr>\n",
       "      <th>16</th>\n",
       "      <td>2012</td>\n",
       "      <td>19</td>\n",
       "    </tr>\n",
       "    <tr>\n",
       "      <th>17</th>\n",
       "      <td>2016</td>\n",
       "      <td>20</td>\n",
       "    </tr>\n",
       "  </tbody>\n",
       "</table>\n",
       "</div>"
      ],
      "text/plain": [
       "    Year  Sex\n",
       "0   1900    2\n",
       "1   1932    2\n",
       "2   1948    1\n",
       "3   1956    2\n",
       "4   1960    5\n",
       "5   1964    1\n",
       "6   1972    6\n",
       "7   1976    1\n",
       "8   1980    3\n",
       "9   1984    7\n",
       "10  1988    7\n",
       "11  1992    2\n",
       "12  1996    8\n",
       "13  2000   10\n",
       "14  2004   12\n",
       "15  2008   30\n",
       "16  2012   19\n",
       "17  2016   20"
      ]
     },
     "execution_count": 10,
     "metadata": {},
     "output_type": "execute_result"
    }
   ],
   "source": [
    "# Check how many female participants in each year in summer season\n",
    "\n",
    "femal_partici_p = data[(data.Sex=='F') & (data.Season == 'Summer')][['Sex', 'Year']]\n",
    "femal_partici_p = femal_partici_p.groupby('Year').count().reset_index()\n",
    "femal_partici_p"
   ]
  },
  {
   "cell_type": "code",
   "execution_count": 11,
   "metadata": {
    "colab": {
     "base_uri": "https://localhost:8080/",
     "height": 405
    },
    "id": "2im4aEH12W1h",
    "outputId": "bde0d807-984f-494f-b41b-b08516295a97"
   },
   "outputs": [
    {
     "data": {
      "text/plain": [
       "Text(0, 0.5, 'Female Participants')"
      ]
     },
     "execution_count": 11,
     "metadata": {},
     "output_type": "execute_result"
    },
    {
     "data": {
      "image/png": "[encoded data removed]",
      "text/plain": [
       "<Figure size 1200x600 with 1 Axes>"
      ]
     },
     "metadata": {},
     "output_type": "display_data"
    }
   ],
   "source": [
    "plt.figure(figsize=(12,6))\n",
    "sns.lineplot(data=femal_partici_p, x='Year', y='Sex')\n",
    "plt.xlabel('Year')\n",
    "plt.ylabel('Female Participants')"
   ]
  },
  {
   "cell_type": "markdown",
   "metadata": {
    "id": "QCQvkng63Pw7"
   },
   "source": [
    "Female participant gradually increases at high level since year 2000"
   ]
  },
  {
   "cell_type": "code",
   "execution_count": 12,
   "metadata": {
    "colab": {
     "base_uri": "https://localhost:8080/"
    },
    "id": "qADocgom2cJ9",
    "outputId": "ffb36566-dbfd-4bda-82e2-dda0824faa10"
   },
   "outputs": [
    {
     "data": {
      "text/plain": [
       "Summer    874\n",
       "Winter    149\n",
       "Name: Season, dtype: int64"
      ]
     },
     "execution_count": 12,
     "metadata": {},
     "output_type": "execute_result"
    }
   ],
   "source": [
    "# Participants accros the season\n",
    "\n",
    "seasons = data.Season.value_counts()\n",
    "seasons"
   ]
  },
  {
   "cell_type": "code",
   "execution_count": 13,
   "metadata": {
    "colab": {
     "base_uri": "https://localhost:8080/",
     "height": 297
    },
    "id": "WTHSWF3U3zVQ",
    "outputId": "d63d3515-143d-4ada-fc48-7365765590fa"
   },
   "outputs": [
    {
     "data": {
      "image/png": "[encoded data removed]",
      "text/plain": [
       "<Figure size 640x480 with 1 Axes>"
      ]
     },
     "metadata": {},
     "output_type": "display_data"
    }
   ],
   "source": [
    "fig1, ax1 = plt.subplots()\n",
    "\n",
    "colors = ['#99ff99','#66b3ff']\n",
    "\n",
    "ax1.pie(seasons, colors = colors, labels=seasons.index, autopct='%1.1f%%')\n",
    "\n",
    "centre_circle = plt.Circle((0,0),0.70,fc='white')\n",
    "fig = plt.gcf()\n",
    "fig.gca().add_artist(centre_circle)\n",
    "\n",
    "ax1.axis('equal')  \n",
    "plt.tight_layout()\n",
    "plt.show()"
   ]
  },
  {
   "cell_type": "markdown",
   "metadata": {
    "id": "fZNzzBAR4H87"
   },
   "source": [
    "Athletes among summer season are more than in winter season"
   ]
  },
  {
   "cell_type": "code",
   "execution_count": 14,
   "metadata": {
    "colab": {
     "base_uri": "https://localhost:8080/"
    },
    "id": "xX_AKjhr39Vd",
    "outputId": "c46dbe00-a0ff-4b72-a564-8caafa6b0bbb"
   },
   "outputs": [
    {
     "data": {
      "text/plain": [
       "Egypt                   189\n",
       "Norway                   59\n",
       "United States            41\n",
       "Finland                  34\n",
       "Spain                    27\n",
       "Japan                    27\n",
       "Iraq                     25\n",
       "Russia                   24\n",
       "Italy                    21\n",
       "United Arab Republic     21\n",
       "Sweden                   19\n",
       "Netherlands              19\n",
       "Portugal                 18\n",
       "Great Britain            17\n",
       "Canada                   17\n",
       "Name: Team, dtype: int64"
      ]
     },
     "execution_count": 14,
     "metadata": {},
     "output_type": "execute_result"
    }
   ],
   "source": [
    "# Top Countries Participating in Olympics\n",
    "top_countries = data.Team.value_counts().sort_values(ascending=False).head(15)\n",
    "top_countries"
   ]
  },
  {
   "cell_type": "code",
   "execution_count": 15,
   "metadata": {
    "colab": {
     "base_uri": "https://localhost:8080/",
     "height": 501
    },
    "id": "rANXjiSx4Xu-",
    "outputId": "764e2787-2171-4a81-b823-5dd1b3cd6f37"
   },
   "outputs": [
    {
     "data": {
      "text/plain": [
       "<AxesSubplot:title={'center':'Top 15 Countries OverAll Participation'}, ylabel='Team'>"
      ]
     },
     "execution_count": 15,
     "metadata": {},
     "output_type": "execute_result"
    },
    {
     "data": {
      "image/png": "[encoded data removed]",
      "text/plain": [
       "<Figure size 1200x600 with 1 Axes>"
      ]
     },
     "metadata": {},
     "output_type": "display_data"
    }
   ],
   "source": [
    "# EDA with Data Visualization\n",
    "sns.set_style('darkgrid')\n",
    "plt.figure(figsize=(12, 6))\n",
    "plt.title('Top 15 Countries OverAll Participation')\n",
    "plt.xticks(rotation=75)\n",
    "sns.barplot(x=top_countries.index, y=top_countries)"
   ]
  },
  {
   "cell_type": "code",
   "execution_count": 16,
   "metadata": {
    "colab": {
     "base_uri": "https://localhost:8080/"
    },
    "id": "XuqhQD604dZl",
    "outputId": "4e3440e6-d7ce-43a5-cb07-b5f5d1f2620f"
   },
   "outputs": [
    {
     "data": {
      "text/plain": [
       "Norway              7\n",
       "Italy               7\n",
       "France              4\n",
       "United States       4\n",
       "Spain               3\n",
       "Finland             3\n",
       "Vesper Boat Club    2\n",
       "Denmark/Sweden      1\n",
       "Unified Team        1\n",
       "Hungary             1\n",
       "Bulgaria            1\n",
       "Ethiopia            1\n",
       "Canada              1\n",
       "Japan               1\n",
       "Soviet Union        1\n",
       "Azerbaijan          1\n",
       "Uzbekistan          1\n",
       "Pakistan            1\n",
       "Cameroon            1\n",
       "Belarus             1\n",
       "Name: Team, dtype: int64"
      ]
     },
     "execution_count": 16,
     "metadata": {},
     "output_type": "execute_result"
    }
   ],
   "source": [
    "# Countries which won the maximum Gold Medals in olympic\n",
    "\n",
    "max_year_country = data[(data.Medal == 'Gold')].Team\n",
    "max_year_country = max_year_country.value_counts().head(20)\n",
    "max_year_country\n"
   ]
  },
  {
   "cell_type": "code",
   "execution_count": 17,
   "metadata": {
    "colab": {
     "base_uri": "https://localhost:8080/",
     "height": 405
    },
    "id": "VHO-cphz-pRy",
    "outputId": "7e61c729-d7d8-4f69-f27a-c66e647b260a"
   },
   "outputs": [
    {
     "data": {
      "text/plain": [
       "Text(0.5, 0, 'Top 20 Gold Medal Won Countrywise')"
      ]
     },
     "execution_count": 17,
     "metadata": {},
     "output_type": "execute_result"
    },
    {
     "data": {
      "image/png": "[encoded data removed]",
      "text/plain": [
       "<Figure size 1200x600 with 1 Axes>"
      ]
     },
     "metadata": {},
     "output_type": "display_data"
    }
   ],
   "source": [
    "plt.figure(figsize=(12,6))\n",
    "sns.barplot(x=max_year_country, y=max_year_country.index)\n",
    "plt.xlabel(\"Top 20 Gold Medal Won Countrywise\")"
   ]
  },
  {
   "cell_type": "code",
   "execution_count": 18,
   "metadata": {
    "colab": {
     "base_uri": "https://localhost:8080/",
     "height": 405
    },
    "id": "EyA3lbuO-28E",
    "outputId": "b44c100d-94d9-42a5-dbb9-cedcee47e214"
   },
   "outputs": [
    {
     "data": {
      "text/plain": [
       "Text(0, 0.5, 'Height')"
      ]
     },
     "execution_count": 18,
     "metadata": {},
     "output_type": "execute_result"
    },
    {
     "data": {
      "image/png": "[encoded data removed]",
      "text/plain": [
       "<Figure size 1200x600 with 1 Axes>"
      ]
     },
     "metadata": {},
     "output_type": "display_data"
    }
   ],
   "source": [
    "# Age vs Height Spread\n",
    "\n",
    "age_heig = data[(data.Age != 0) & (data.Height != 0.0) & (data.Medal != 'None') & (data.Season == 'Summer')]\n",
    "plt.figure(figsize=(12,6))\n",
    "sns.scatterplot(x=age_heig.Age, y=age_heig.Height, data=age_heig, hue='Sex')\n",
    "plt.xlabel('Age')\n",
    "plt.ylabel('Height')"
   ]
  },
  {
   "cell_type": "code",
   "execution_count": 19,
   "metadata": {
    "colab": {
     "base_uri": "https://localhost:8080/",
     "height": 405
    },
    "id": "ZdG-um9c_CUa",
    "outputId": "e8a19ee9-e045-44b4-b810-4faf7668c448"
   },
   "outputs": [
    {
     "data": {
      "text/plain": [
       "Text(0, 0.5, 'Weight')"
      ]
     },
     "execution_count": 19,
     "metadata": {},
     "output_type": "execute_result"
    },
    {
     "data": {
      "image/png": "[encoded data removed]",
      "text/plain": [
       "<Figure size 1200x600 with 1 Axes>"
      ]
     },
     "metadata": {},
     "output_type": "display_data"
    }
   ],
   "source": [
    "# Age vs Weight Spread\n",
    "\n",
    "age_weig = data[(data.Age != 0.0) & (data.Weight != 0.0) & (data.Medal != 'None') & (data.Season == 'Summer')]\n",
    "plt.figure(figsize=(12,6))\n",
    "sns.scatterplot(x=age_weig.Age, y=age_weig.Weight, data=age_weig, hue='Sex')\n",
    "plt.xlabel('Age')\n",
    "plt.ylabel('Weight')\n"
   ]
  },
  {
   "cell_type": "code",
   "execution_count": 20,
   "metadata": {
    "colab": {
     "base_uri": "https://localhost:8080/",
     "height": 405
    },
    "id": "An7SHqqu_mKi",
    "outputId": "aaa26e33-4d7c-4e93-cae6-960a694f6af3"
   },
   "outputs": [
    {
     "data": {
      "text/plain": [
       "Text(0, 0.5, 'Height')"
      ]
     },
     "execution_count": 20,
     "metadata": {},
     "output_type": "execute_result"
    },
    {
     "data": {
      "image/png": "[encoded data removed]",
      "text/plain": [
       "<Figure size 1200x600 with 1 Axes>"
      ]
     },
     "metadata": {},
     "output_type": "display_data"
    }
   ],
   "source": [
    "# Weight & Height Spread\n",
    "\n",
    "heig_weight = data[(data.Height != 0.0) & (data.Age != 0) & (data.Weight != 0.0) & (data.Medal != 'None') & (data.Season == 'Summer')]\n",
    "plt.figure(figsize=(12,6))\n",
    "sns.scatterplot(x=heig_weight.Weight, y=heig_weight.Height, data=heig_weight, hue='Sex')\n",
    "plt.xlabel('Weight')\n",
    "plt.ylabel('Height')"
   ]
  },
  {
   "cell_type": "markdown",
   "metadata": {
    "id": "Y5JZWC-B8HsR"
   },
   "source": [
    "## Data Cleaning"
   ]
  },
  {
   "cell_type": "code",
   "execution_count": 21,
   "metadata": {
    "id": "8sfUyL5Z7AC6"
   },
   "outputs": [],
   "source": [
    "# To fill missing values in Medal column\n",
    "data['Medal'] = data['Medal'].apply(lambda x: 1 if str(x) != 'nan' else 0)\n"
   ]
  },
  {
   "cell_type": "code",
   "execution_count": 22,
   "metadata": {
    "colab": {
     "base_uri": "https://localhost:8080/",
     "height": 635
    },
    "id": "6-JQLF2k7BLj",
    "outputId": "a111f06f-5a0a-41b4-ee77-1919f7263241"
   },
   "outputs": [
    {
     "data": {
      "text/html": [
       "<div>\n",
       "<style scoped>\n",
       "    .dataframe tbody tr th:only-of-type {\n",
       "        vertical-align: middle;\n",
       "    }\n",
       "\n",
       "    .dataframe tbody tr th {\n",
       "        vertical-align: top;\n",
       "    }\n",
       "\n",
       "    .dataframe thead th {\n",
       "        text-align: right;\n",
       "    }\n",
       "</style>\n",
       "<table border=\"1\" class=\"dataframe\">\n",
       "  <thead>\n",
       "    <tr style=\"text-align: right;\">\n",
       "      <th></th>\n",
       "      <th>ID</th>\n",
       "      <th>Name</th>\n",
       "      <th>Sex</th>\n",
       "      <th>Age</th>\n",
       "      <th>Height</th>\n",
       "      <th>Weight</th>\n",
       "      <th>Team</th>\n",
       "      <th>NOC</th>\n",
       "      <th>Games</th>\n",
       "      <th>Year</th>\n",
       "      <th>Season</th>\n",
       "      <th>City</th>\n",
       "      <th>Sport</th>\n",
       "      <th>Event</th>\n",
       "      <th>Medal</th>\n",
       "    </tr>\n",
       "  </thead>\n",
       "  <tbody>\n",
       "    <tr>\n",
       "      <th>0</th>\n",
       "      <td>1</td>\n",
       "      <td>A Dijiang</td>\n",
       "      <td>M</td>\n",
       "      <td>24.0</td>\n",
       "      <td>180.0</td>\n",
       "      <td>80.0</td>\n",
       "      <td>China</td>\n",
       "      <td>CHN</td>\n",
       "      <td>1992 Summer</td>\n",
       "      <td>1992</td>\n",
       "      <td>Summer</td>\n",
       "      <td>Barcelona</td>\n",
       "      <td>Basketball</td>\n",
       "      <td>Basketball Men's Basketball</td>\n",
       "      <td>0</td>\n",
       "    </tr>\n",
       "    <tr>\n",
       "      <th>1</th>\n",
       "      <td>2</td>\n",
       "      <td>A Lamusi</td>\n",
       "      <td>M</td>\n",
       "      <td>23.0</td>\n",
       "      <td>170.0</td>\n",
       "      <td>60.0</td>\n",
       "      <td>China</td>\n",
       "      <td>CHN</td>\n",
       "      <td>2012 Summer</td>\n",
       "      <td>2012</td>\n",
       "      <td>Summer</td>\n",
       "      <td>London</td>\n",
       "      <td>Judo</td>\n",
       "      <td>Judo Men's Extra-Lightweight</td>\n",
       "      <td>0</td>\n",
       "    </tr>\n",
       "    <tr>\n",
       "      <th>2</th>\n",
       "      <td>3</td>\n",
       "      <td>Gunnar Nielsen Aaby</td>\n",
       "      <td>M</td>\n",
       "      <td>24.0</td>\n",
       "      <td>NaN</td>\n",
       "      <td>NaN</td>\n",
       "      <td>Denmark</td>\n",
       "      <td>DEN</td>\n",
       "      <td>1920 Summer</td>\n",
       "      <td>1920</td>\n",
       "      <td>Summer</td>\n",
       "      <td>Antwerpen</td>\n",
       "      <td>Football</td>\n",
       "      <td>Football Men's Football</td>\n",
       "      <td>0</td>\n",
       "    </tr>\n",
       "    <tr>\n",
       "      <th>3</th>\n",
       "      <td>4</td>\n",
       "      <td>Edgar Lindenau Aabye</td>\n",
       "      <td>M</td>\n",
       "      <td>34.0</td>\n",
       "      <td>NaN</td>\n",
       "      <td>NaN</td>\n",
       "      <td>Denmark/Sweden</td>\n",
       "      <td>DEN</td>\n",
       "      <td>1900 Summer</td>\n",
       "      <td>1900</td>\n",
       "      <td>Summer</td>\n",
       "      <td>Paris</td>\n",
       "      <td>Tug-Of-War</td>\n",
       "      <td>Tug-Of-War Men's Tug-Of-War</td>\n",
       "      <td>1</td>\n",
       "    </tr>\n",
       "    <tr>\n",
       "      <th>4</th>\n",
       "      <td>5</td>\n",
       "      <td>Christine Jacoba Aaftink</td>\n",
       "      <td>F</td>\n",
       "      <td>21.0</td>\n",
       "      <td>185.0</td>\n",
       "      <td>82.0</td>\n",
       "      <td>Netherlands</td>\n",
       "      <td>NED</td>\n",
       "      <td>1988 Winter</td>\n",
       "      <td>1988</td>\n",
       "      <td>Winter</td>\n",
       "      <td>Calgary</td>\n",
       "      <td>Speed Skating</td>\n",
       "      <td>Speed Skating Women's 500 metres</td>\n",
       "      <td>0</td>\n",
       "    </tr>\n",
       "    <tr>\n",
       "      <th>...</th>\n",
       "      <td>...</td>\n",
       "      <td>...</td>\n",
       "      <td>...</td>\n",
       "      <td>...</td>\n",
       "      <td>...</td>\n",
       "      <td>...</td>\n",
       "      <td>...</td>\n",
       "      <td>...</td>\n",
       "      <td>...</td>\n",
       "      <td>...</td>\n",
       "      <td>...</td>\n",
       "      <td>...</td>\n",
       "      <td>...</td>\n",
       "      <td>...</td>\n",
       "      <td>...</td>\n",
       "    </tr>\n",
       "    <tr>\n",
       "      <th>1018</th>\n",
       "      <td>570</td>\n",
       "      <td>Pedro Abreu Pascal</td>\n",
       "      <td>M</td>\n",
       "      <td>23.0</td>\n",
       "      <td>200.0</td>\n",
       "      <td>88.0</td>\n",
       "      <td>Cuba</td>\n",
       "      <td>CUB</td>\n",
       "      <td>1980 Summer</td>\n",
       "      <td>1980</td>\n",
       "      <td>Summer</td>\n",
       "      <td>Moskva</td>\n",
       "      <td>Basketball</td>\n",
       "      <td>Basketball Men's Basketball</td>\n",
       "      <td>0</td>\n",
       "    </tr>\n",
       "    <tr>\n",
       "      <th>1019</th>\n",
       "      <td>571</td>\n",
       "      <td>Rubn Abreu Rivero</td>\n",
       "      <td>M</td>\n",
       "      <td>24.0</td>\n",
       "      <td>177.0</td>\n",
       "      <td>71.0</td>\n",
       "      <td>Venezuela</td>\n",
       "      <td>VEN</td>\n",
       "      <td>1996 Summer</td>\n",
       "      <td>1996</td>\n",
       "      <td>Summer</td>\n",
       "      <td>Atlanta</td>\n",
       "      <td>Cycling</td>\n",
       "      <td>Cycling Men's Road Race, Individual</td>\n",
       "      <td>0</td>\n",
       "    </tr>\n",
       "    <tr>\n",
       "      <th>1020</th>\n",
       "      <td>572</td>\n",
       "      <td>Rui Pinto de Abreu</td>\n",
       "      <td>M</td>\n",
       "      <td>15.0</td>\n",
       "      <td>177.0</td>\n",
       "      <td>64.0</td>\n",
       "      <td>Portugal</td>\n",
       "      <td>POR</td>\n",
       "      <td>1976 Summer</td>\n",
       "      <td>1976</td>\n",
       "      <td>Summer</td>\n",
       "      <td>Montreal</td>\n",
       "      <td>Swimming</td>\n",
       "      <td>Swimming Men's 400 metres Freestyle</td>\n",
       "      <td>0</td>\n",
       "    </tr>\n",
       "    <tr>\n",
       "      <th>1021</th>\n",
       "      <td>572</td>\n",
       "      <td>Rui Pinto de Abreu</td>\n",
       "      <td>M</td>\n",
       "      <td>15.0</td>\n",
       "      <td>177.0</td>\n",
       "      <td>64.0</td>\n",
       "      <td>Portugal</td>\n",
       "      <td>POR</td>\n",
       "      <td>1976 Summer</td>\n",
       "      <td>1976</td>\n",
       "      <td>Summer</td>\n",
       "      <td>Montreal</td>\n",
       "      <td>Swimming</td>\n",
       "      <td>Swimming Men's 4 x 200 metres Freestyle Relay</td>\n",
       "      <td>0</td>\n",
       "    </tr>\n",
       "    <tr>\n",
       "      <th>1022</th>\n",
       "      <td>572</td>\n",
       "      <td>Rui Pinto de Abreu</td>\n",
       "      <td>M</td>\n",
       "      <td>19.0</td>\n",
       "      <td>177.0</td>\n",
       "      <td>64.0</td>\n",
       "      <td>Portugal</td>\n",
       "      <td>POR</td>\n",
       "      <td>1980 Summer</td>\n",
       "      <td>1980</td>\n",
       "      <td>Summer</td>\n",
       "      <td>Moskva</td>\n",
       "      <td>Swimming</td>\n",
       "      <td>Swimming Men's 100 metres Freestyle</td>\n",
       "      <td>0</td>\n",
       "    </tr>\n",
       "  </tbody>\n",
       "</table>\n",
       "<p>1023 rows × 15 columns</p>\n",
       "</div>"
      ],
      "text/plain": [
       "       ID                      Name Sex   Age  Height  Weight            Team  \\\n",
       "0       1                 A Dijiang   M  24.0   180.0    80.0           China   \n",
       "1       2                  A Lamusi   M  23.0   170.0    60.0           China   \n",
       "2       3       Gunnar Nielsen Aaby   M  24.0     NaN     NaN         Denmark   \n",
       "3       4      Edgar Lindenau Aabye   M  34.0     NaN     NaN  Denmark/Sweden   \n",
       "4       5  Christine Jacoba Aaftink   F  21.0   185.0    82.0     Netherlands   \n",
       "...   ...                       ...  ..   ...     ...     ...             ...   \n",
       "1018  570        Pedro Abreu Pascal   M  23.0   200.0    88.0            Cuba   \n",
       "1019  571         Rubn Abreu Rivero   M  24.0   177.0    71.0       Venezuela   \n",
       "1020  572        Rui Pinto de Abreu   M  15.0   177.0    64.0        Portugal   \n",
       "1021  572        Rui Pinto de Abreu   M  15.0   177.0    64.0        Portugal   \n",
       "1022  572        Rui Pinto de Abreu   M  19.0   177.0    64.0        Portugal   \n",
       "\n",
       "      NOC        Games  Year  Season       City          Sport  \\\n",
       "0     CHN  1992 Summer  1992  Summer  Barcelona     Basketball   \n",
       "1     CHN  2012 Summer  2012  Summer     London           Judo   \n",
       "2     DEN  1920 Summer  1920  Summer  Antwerpen       Football   \n",
       "3     DEN  1900 Summer  1900  Summer      Paris     Tug-Of-War   \n",
       "4     NED  1988 Winter  1988  Winter    Calgary  Speed Skating   \n",
       "...   ...          ...   ...     ...        ...            ...   \n",
       "1018  CUB  1980 Summer  1980  Summer     Moskva     Basketball   \n",
       "1019  VEN  1996 Summer  1996  Summer    Atlanta        Cycling   \n",
       "1020  POR  1976 Summer  1976  Summer   Montreal       Swimming   \n",
       "1021  POR  1976 Summer  1976  Summer   Montreal       Swimming   \n",
       "1022  POR  1980 Summer  1980  Summer     Moskva       Swimming   \n",
       "\n",
       "                                              Event  Medal  \n",
       "0                       Basketball Men's Basketball      0  \n",
       "1                      Judo Men's Extra-Lightweight      0  \n",
       "2                           Football Men's Football      0  \n",
       "3                       Tug-Of-War Men's Tug-Of-War      1  \n",
       "4                  Speed Skating Women's 500 metres      0  \n",
       "...                                             ...    ...  \n",
       "1018                    Basketball Men's Basketball      0  \n",
       "1019            Cycling Men's Road Race, Individual      0  \n",
       "1020            Swimming Men's 400 metres Freestyle      0  \n",
       "1021  Swimming Men's 4 x 200 metres Freestyle Relay      0  \n",
       "1022            Swimming Men's 100 metres Freestyle      0  \n",
       "\n",
       "[1023 rows x 15 columns]"
      ]
     },
     "execution_count": 22,
     "metadata": {},
     "output_type": "execute_result"
    }
   ],
   "source": [
    "data"
   ]
  },
  {
   "cell_type": "code",
   "execution_count": 23,
   "metadata": {
    "id": "v3V9BM8P7gkL"
   },
   "outputs": [],
   "source": [
    "# Drop Uncessary columns\n",
    "data = data.drop(['ID', 'Name', 'Games'], axis=1)"
   ]
  },
  {
   "cell_type": "code",
   "execution_count": 24,
   "metadata": {
    "colab": {
     "base_uri": "https://localhost:8080/"
    },
    "id": "8ck3G6Zw7gxO",
    "outputId": "7728c04e-e8db-4a95-c0b6-4777e1bbff54"
   },
   "outputs": [
    {
     "data": {
      "text/plain": [
       "Sex       0.000000\n",
       "Age       0.062561\n",
       "Height    0.244379\n",
       "Weight    0.241447\n",
       "Team      0.000000\n",
       "NOC       0.000000\n",
       "Year      0.000000\n",
       "Season    0.000000\n",
       "City      0.000000\n",
       "Sport     0.000000\n",
       "Event     0.000000\n",
       "Medal     0.000000\n",
       "dtype: float64"
      ]
     },
     "execution_count": 24,
     "metadata": {},
     "output_type": "execute_result"
    }
   ],
   "source": [
    "# Checking null values in the data \n",
    "data.isna().mean()\n"
   ]
  },
  {
   "cell_type": "code",
   "execution_count": 25,
   "metadata": {
    "colab": {
     "base_uri": "https://localhost:8080/",
     "height": 203
    },
    "id": "vZETHw8i7gzx",
    "outputId": "2238eea8-204c-4dc6-ffaa-d2a6f77a28f8"
   },
   "outputs": [
    {
     "name": "stderr",
     "output_type": "stream",
     "text": [
      "C:\\Users\\USER\\AppData\\Local\\Temp\\ipykernel_13572\\1497006932.py:1: DeprecationWarning: `np.int` is a deprecated alias for the builtin `int`. To silence this warning, use `int` by itself. Doing this will not modify any behavior and is safe. When replacing `np.int`, you may wish to use e.g. `np.int64` or `np.int32` to specify the precision. If you wish to review your current use, check the release note link for additional information.\n",
      "Deprecated in NumPy 1.20; for more details and guidance: https://numpy.org/devdocs/release/1.20.0-notes.html#deprecations\n",
      "  data.groupby(['Medal', 'Sex']).mean().astype(np.int)\n"
     ]
    },
    {
     "data": {
      "text/html": [
       "<div>\n",
       "<style scoped>\n",
       "    .dataframe tbody tr th:only-of-type {\n",
       "        vertical-align: middle;\n",
       "    }\n",
       "\n",
       "    .dataframe tbody tr th {\n",
       "        vertical-align: top;\n",
       "    }\n",
       "\n",
       "    .dataframe thead th {\n",
       "        text-align: right;\n",
       "    }\n",
       "</style>\n",
       "<table border=\"1\" class=\"dataframe\">\n",
       "  <thead>\n",
       "    <tr style=\"text-align: right;\">\n",
       "      <th></th>\n",
       "      <th></th>\n",
       "      <th>Age</th>\n",
       "      <th>Height</th>\n",
       "      <th>Weight</th>\n",
       "      <th>Year</th>\n",
       "    </tr>\n",
       "    <tr>\n",
       "      <th>Medal</th>\n",
       "      <th>Sex</th>\n",
       "      <th></th>\n",
       "      <th></th>\n",
       "      <th></th>\n",
       "      <th></th>\n",
       "    </tr>\n",
       "  </thead>\n",
       "  <tbody>\n",
       "    <tr>\n",
       "      <th rowspan=\"2\" valign=\"top\">0</th>\n",
       "      <th>F</th>\n",
       "      <td>23</td>\n",
       "      <td>166</td>\n",
       "      <td>60</td>\n",
       "      <td>1997</td>\n",
       "    </tr>\n",
       "    <tr>\n",
       "      <th>M</th>\n",
       "      <td>25</td>\n",
       "      <td>177</td>\n",
       "      <td>73</td>\n",
       "      <td>1980</td>\n",
       "    </tr>\n",
       "    <tr>\n",
       "      <th rowspan=\"2\" valign=\"top\">1</th>\n",
       "      <th>F</th>\n",
       "      <td>21</td>\n",
       "      <td>169</td>\n",
       "      <td>60</td>\n",
       "      <td>1989</td>\n",
       "    </tr>\n",
       "    <tr>\n",
       "      <th>M</th>\n",
       "      <td>25</td>\n",
       "      <td>179</td>\n",
       "      <td>79</td>\n",
       "      <td>1974</td>\n",
       "    </tr>\n",
       "  </tbody>\n",
       "</table>\n",
       "</div>"
      ],
      "text/plain": [
       "           Age  Height  Weight  Year\n",
       "Medal Sex                           \n",
       "0     F     23     166      60  1997\n",
       "      M     25     177      73  1980\n",
       "1     F     21     169      60  1989\n",
       "      M     25     179      79  1974"
      ]
     },
     "execution_count": 25,
     "metadata": {},
     "output_type": "execute_result"
    }
   ],
   "source": [
    "data.groupby(['Medal', 'Sex']).mean().astype(np.int)"
   ]
  },
  {
   "cell_type": "code",
   "execution_count": 26,
   "metadata": {
    "id": "QRvkc9UX7g6U"
   },
   "outputs": [
    {
     "name": "stderr",
     "output_type": "stream",
     "text": [
      "C:\\Users\\USER\\AppData\\Local\\Temp\\ipykernel_13572\\1221299340.py:3: DeprecationWarning: `np.int` is a deprecated alias for the builtin `int`. To silence this warning, use `int` by itself. Doing this will not modify any behavior and is safe. When replacing `np.int`, you may wish to use e.g. `np.int64` or `np.int32` to specify the precision. If you wish to review your current use, check the release note link for additional information.\n",
      "Deprecated in NumPy 1.20; for more details and guidance: https://numpy.org/devdocs/release/1.20.0-notes.html#deprecations\n",
      "  data[column] = data.groupby(['Medal', 'Sex'])[column].apply(lambda x: x.fillna(x.mean()).astype(np.int))\n",
      "C:\\Users\\USER\\AppData\\Local\\Temp\\ipykernel_13572\\1221299340.py:3: DeprecationWarning: `np.int` is a deprecated alias for the builtin `int`. To silence this warning, use `int` by itself. Doing this will not modify any behavior and is safe. When replacing `np.int`, you may wish to use e.g. `np.int64` or `np.int32` to specify the precision. If you wish to review your current use, check the release note link for additional information.\n",
      "Deprecated in NumPy 1.20; for more details and guidance: https://numpy.org/devdocs/release/1.20.0-notes.html#deprecations\n",
      "  data[column] = data.groupby(['Medal', 'Sex'])[column].apply(lambda x: x.fillna(x.mean()).astype(np.int))\n",
      "C:\\Users\\USER\\AppData\\Local\\Temp\\ipykernel_13572\\1221299340.py:3: DeprecationWarning: `np.int` is a deprecated alias for the builtin `int`. To silence this warning, use `int` by itself. Doing this will not modify any behavior and is safe. When replacing `np.int`, you may wish to use e.g. `np.int64` or `np.int32` to specify the precision. If you wish to review your current use, check the release note link for additional information.\n",
      "Deprecated in NumPy 1.20; for more details and guidance: https://numpy.org/devdocs/release/1.20.0-notes.html#deprecations\n",
      "  data[column] = data.groupby(['Medal', 'Sex'])[column].apply(lambda x: x.fillna(x.mean()).astype(np.int))\n"
     ]
    }
   ],
   "source": [
    "# Fill null values with mean values for these columns\n",
    "for column in ['Age', 'Height', 'Weight']:\n",
    "    data[column] = data.groupby(['Medal', 'Sex'])[column].apply(lambda x: x.fillna(x.mean()).astype(np.int))"
   ]
  },
  {
   "cell_type": "code",
   "execution_count": 27,
   "metadata": {
    "colab": {
     "base_uri": "https://localhost:8080/"
    },
    "id": "NaGZX_wp7sQV",
    "outputId": "4d952d1c-3dd3-44eb-cb4f-89b78362f85e"
   },
   "outputs": [
    {
     "name": "stdout",
     "output_type": "stream",
     "text": [
      "Total missing values: 0\n"
     ]
    }
   ],
   "source": [
    "print(\"Total missing values:\", data.isna().sum().sum())\n"
   ]
  },
  {
   "cell_type": "code",
   "execution_count": 28,
   "metadata": {
    "colab": {
     "base_uri": "https://localhost:8080/",
     "height": 417
    },
    "id": "Knm19Xzn73KB",
    "outputId": "4ca48624-b1a4-42d8-ac74-436366c2cd0a"
   },
   "outputs": [
    {
     "data": {
      "text/html": [
       "<div>\n",
       "<style scoped>\n",
       "    .dataframe tbody tr th:only-of-type {\n",
       "        vertical-align: middle;\n",
       "    }\n",
       "\n",
       "    .dataframe tbody tr th {\n",
       "        vertical-align: top;\n",
       "    }\n",
       "\n",
       "    .dataframe thead th {\n",
       "        text-align: right;\n",
       "    }\n",
       "</style>\n",
       "<table border=\"1\" class=\"dataframe\">\n",
       "  <thead>\n",
       "    <tr style=\"text-align: right;\">\n",
       "      <th></th>\n",
       "      <th>Sex</th>\n",
       "      <th>Age</th>\n",
       "      <th>Height</th>\n",
       "      <th>Weight</th>\n",
       "      <th>Team</th>\n",
       "      <th>NOC</th>\n",
       "      <th>Year</th>\n",
       "      <th>Season</th>\n",
       "      <th>City</th>\n",
       "      <th>Sport</th>\n",
       "      <th>Event</th>\n",
       "      <th>Medal</th>\n",
       "    </tr>\n",
       "  </thead>\n",
       "  <tbody>\n",
       "    <tr>\n",
       "      <th>0</th>\n",
       "      <td>M</td>\n",
       "      <td>24</td>\n",
       "      <td>180</td>\n",
       "      <td>80</td>\n",
       "      <td>China</td>\n",
       "      <td>CHN</td>\n",
       "      <td>1992</td>\n",
       "      <td>Summer</td>\n",
       "      <td>Barcelona</td>\n",
       "      <td>Basketball</td>\n",
       "      <td>Basketball Men's Basketball</td>\n",
       "      <td>0</td>\n",
       "    </tr>\n",
       "    <tr>\n",
       "      <th>1</th>\n",
       "      <td>M</td>\n",
       "      <td>23</td>\n",
       "      <td>170</td>\n",
       "      <td>60</td>\n",
       "      <td>China</td>\n",
       "      <td>CHN</td>\n",
       "      <td>2012</td>\n",
       "      <td>Summer</td>\n",
       "      <td>London</td>\n",
       "      <td>Judo</td>\n",
       "      <td>Judo Men's Extra-Lightweight</td>\n",
       "      <td>0</td>\n",
       "    </tr>\n",
       "    <tr>\n",
       "      <th>2</th>\n",
       "      <td>M</td>\n",
       "      <td>24</td>\n",
       "      <td>177</td>\n",
       "      <td>73</td>\n",
       "      <td>Denmark</td>\n",
       "      <td>DEN</td>\n",
       "      <td>1920</td>\n",
       "      <td>Summer</td>\n",
       "      <td>Antwerpen</td>\n",
       "      <td>Football</td>\n",
       "      <td>Football Men's Football</td>\n",
       "      <td>0</td>\n",
       "    </tr>\n",
       "    <tr>\n",
       "      <th>3</th>\n",
       "      <td>M</td>\n",
       "      <td>34</td>\n",
       "      <td>179</td>\n",
       "      <td>79</td>\n",
       "      <td>Denmark/Sweden</td>\n",
       "      <td>DEN</td>\n",
       "      <td>1900</td>\n",
       "      <td>Summer</td>\n",
       "      <td>Paris</td>\n",
       "      <td>Tug-Of-War</td>\n",
       "      <td>Tug-Of-War Men's Tug-Of-War</td>\n",
       "      <td>1</td>\n",
       "    </tr>\n",
       "    <tr>\n",
       "      <th>4</th>\n",
       "      <td>F</td>\n",
       "      <td>21</td>\n",
       "      <td>185</td>\n",
       "      <td>82</td>\n",
       "      <td>Netherlands</td>\n",
       "      <td>NED</td>\n",
       "      <td>1988</td>\n",
       "      <td>Winter</td>\n",
       "      <td>Calgary</td>\n",
       "      <td>Speed Skating</td>\n",
       "      <td>Speed Skating Women's 500 metres</td>\n",
       "      <td>0</td>\n",
       "    </tr>\n",
       "    <tr>\n",
       "      <th>...</th>\n",
       "      <td>...</td>\n",
       "      <td>...</td>\n",
       "      <td>...</td>\n",
       "      <td>...</td>\n",
       "      <td>...</td>\n",
       "      <td>...</td>\n",
       "      <td>...</td>\n",
       "      <td>...</td>\n",
       "      <td>...</td>\n",
       "      <td>...</td>\n",
       "      <td>...</td>\n",
       "      <td>...</td>\n",
       "    </tr>\n",
       "    <tr>\n",
       "      <th>1018</th>\n",
       "      <td>M</td>\n",
       "      <td>23</td>\n",
       "      <td>200</td>\n",
       "      <td>88</td>\n",
       "      <td>Cuba</td>\n",
       "      <td>CUB</td>\n",
       "      <td>1980</td>\n",
       "      <td>Summer</td>\n",
       "      <td>Moskva</td>\n",
       "      <td>Basketball</td>\n",
       "      <td>Basketball Men's Basketball</td>\n",
       "      <td>0</td>\n",
       "    </tr>\n",
       "    <tr>\n",
       "      <th>1019</th>\n",
       "      <td>M</td>\n",
       "      <td>24</td>\n",
       "      <td>177</td>\n",
       "      <td>71</td>\n",
       "      <td>Venezuela</td>\n",
       "      <td>VEN</td>\n",
       "      <td>1996</td>\n",
       "      <td>Summer</td>\n",
       "      <td>Atlanta</td>\n",
       "      <td>Cycling</td>\n",
       "      <td>Cycling Men's Road Race, Individual</td>\n",
       "      <td>0</td>\n",
       "    </tr>\n",
       "    <tr>\n",
       "      <th>1020</th>\n",
       "      <td>M</td>\n",
       "      <td>15</td>\n",
       "      <td>177</td>\n",
       "      <td>64</td>\n",
       "      <td>Portugal</td>\n",
       "      <td>POR</td>\n",
       "      <td>1976</td>\n",
       "      <td>Summer</td>\n",
       "      <td>Montreal</td>\n",
       "      <td>Swimming</td>\n",
       "      <td>Swimming Men's 400 metres Freestyle</td>\n",
       "      <td>0</td>\n",
       "    </tr>\n",
       "    <tr>\n",
       "      <th>1021</th>\n",
       "      <td>M</td>\n",
       "      <td>15</td>\n",
       "      <td>177</td>\n",
       "      <td>64</td>\n",
       "      <td>Portugal</td>\n",
       "      <td>POR</td>\n",
       "      <td>1976</td>\n",
       "      <td>Summer</td>\n",
       "      <td>Montreal</td>\n",
       "      <td>Swimming</td>\n",
       "      <td>Swimming Men's 4 x 200 metres Freestyle Relay</td>\n",
       "      <td>0</td>\n",
       "    </tr>\n",
       "    <tr>\n",
       "      <th>1022</th>\n",
       "      <td>M</td>\n",
       "      <td>19</td>\n",
       "      <td>177</td>\n",
       "      <td>64</td>\n",
       "      <td>Portugal</td>\n",
       "      <td>POR</td>\n",
       "      <td>1980</td>\n",
       "      <td>Summer</td>\n",
       "      <td>Moskva</td>\n",
       "      <td>Swimming</td>\n",
       "      <td>Swimming Men's 100 metres Freestyle</td>\n",
       "      <td>0</td>\n",
       "    </tr>\n",
       "  </tbody>\n",
       "</table>\n",
       "<p>1023 rows × 12 columns</p>\n",
       "</div>"
      ],
      "text/plain": [
       "     Sex  Age  Height  Weight            Team  NOC  Year  Season       City  \\\n",
       "0      M   24     180      80           China  CHN  1992  Summer  Barcelona   \n",
       "1      M   23     170      60           China  CHN  2012  Summer     London   \n",
       "2      M   24     177      73         Denmark  DEN  1920  Summer  Antwerpen   \n",
       "3      M   34     179      79  Denmark/Sweden  DEN  1900  Summer      Paris   \n",
       "4      F   21     185      82     Netherlands  NED  1988  Winter    Calgary   \n",
       "...   ..  ...     ...     ...             ...  ...   ...     ...        ...   \n",
       "1018   M   23     200      88            Cuba  CUB  1980  Summer     Moskva   \n",
       "1019   M   24     177      71       Venezuela  VEN  1996  Summer    Atlanta   \n",
       "1020   M   15     177      64        Portugal  POR  1976  Summer   Montreal   \n",
       "1021   M   15     177      64        Portugal  POR  1976  Summer   Montreal   \n",
       "1022   M   19     177      64        Portugal  POR  1980  Summer     Moskva   \n",
       "\n",
       "              Sport                                          Event  Medal  \n",
       "0        Basketball                    Basketball Men's Basketball      0  \n",
       "1              Judo                   Judo Men's Extra-Lightweight      0  \n",
       "2          Football                        Football Men's Football      0  \n",
       "3        Tug-Of-War                    Tug-Of-War Men's Tug-Of-War      1  \n",
       "4     Speed Skating               Speed Skating Women's 500 metres      0  \n",
       "...             ...                                            ...    ...  \n",
       "1018     Basketball                    Basketball Men's Basketball      0  \n",
       "1019        Cycling            Cycling Men's Road Race, Individual      0  \n",
       "1020       Swimming            Swimming Men's 400 metres Freestyle      0  \n",
       "1021       Swimming  Swimming Men's 4 x 200 metres Freestyle Relay      0  \n",
       "1022       Swimming            Swimming Men's 100 metres Freestyle      0  \n",
       "\n",
       "[1023 rows x 12 columns]"
      ]
     },
     "execution_count": 28,
     "metadata": {},
     "output_type": "execute_result"
    }
   ],
   "source": [
    "data"
   ]
  },
  {
   "cell_type": "code",
   "execution_count": 29,
   "metadata": {
    "colab": {
     "base_uri": "https://localhost:8080/"
    },
    "id": "N9wfMNE1eEAd",
    "outputId": "c394ff70-0b63-4bd8-a2a1-a1bf88fc4a2d"
   },
   "outputs": [
    {
     "data": {
      "text/plain": [
       "{'Sex': 2,\n",
       " 'Team': 115,\n",
       " 'NOC': 106,\n",
       " 'Season': 2,\n",
       " 'City': 41,\n",
       " 'Sport': 47,\n",
       " 'Event': 272}"
      ]
     },
     "execution_count": 29,
     "metadata": {},
     "output_type": "execute_result"
    }
   ],
   "source": [
    "# Checking no of unique values in the column\n",
    "{column: len(data[column].unique()) for column in data.select_dtypes('object').columns}"
   ]
  },
  {
   "cell_type": "code",
   "execution_count": 30,
   "metadata": {
    "id": "CkAeDJeLeKA2"
   },
   "outputs": [],
   "source": [
    "def binary_encode(df, columns, positive_values):\n",
    "    df = df.copy()\n",
    "    for column, positive_value in zip(columns, positive_values):\n",
    "        df[column] = df[column].apply(lambda x: 1 if x == positive_value else 0)\n",
    "    return df\n",
    "\n",
    "def onehot_encode(df, columns, prefixes):\n",
    "    df = df.copy()\n",
    "    for column, prefix in zip(columns, prefixes):\n",
    "        dummies = pd.get_dummies(df[column], prefix=prefix)\n",
    "        df = pd.concat([df, dummies], axis=1)\n",
    "        df = df.drop(column, axis=1)\n",
    "    return df"
   ]
  },
  {
   "cell_type": "code",
   "execution_count": 31,
   "metadata": {
    "id": "9hQr8RC3eOSR"
   },
   "outputs": [],
   "source": [
    "data = binary_encode(\n",
    "    data,\n",
    "    columns=['Sex', 'Season'],\n",
    "    positive_values=['M', 'Summer']\n",
    ")\n",
    "\n",
    "data = onehot_encode(\n",
    "    data,\n",
    "    columns=['Team', 'NOC', 'City', 'Sport', 'Event'],\n",
    "    prefixes=['T', 'N', 'C', 'S', 'E']\n",
    ")"
   ]
  },
  {
   "cell_type": "code",
   "execution_count": 32,
   "metadata": {
    "colab": {
     "base_uri": "https://localhost:8080/",
     "height": 504
    },
    "id": "YmJHOcRweWzd",
    "outputId": "92e5e1e3-de13-4f01-c744-2bdb085dff85"
   },
   "outputs": [
    {
     "data": {
      "text/html": [
       "<div>\n",
       "<style scoped>\n",
       "    .dataframe tbody tr th:only-of-type {\n",
       "        vertical-align: middle;\n",
       "    }\n",
       "\n",
       "    .dataframe tbody tr th {\n",
       "        vertical-align: top;\n",
       "    }\n",
       "\n",
       "    .dataframe thead th {\n",
       "        text-align: right;\n",
       "    }\n",
       "</style>\n",
       "<table border=\"1\" class=\"dataframe\">\n",
       "  <thead>\n",
       "    <tr style=\"text-align: right;\">\n",
       "      <th></th>\n",
       "      <th>Sex</th>\n",
       "      <th>Age</th>\n",
       "      <th>Height</th>\n",
       "      <th>Weight</th>\n",
       "      <th>Year</th>\n",
       "      <th>Season</th>\n",
       "      <th>Medal</th>\n",
       "      <th>T_Afghanistan</th>\n",
       "      <th>T_Algeria</th>\n",
       "      <th>T_Angola</th>\n",
       "      <th>...</th>\n",
       "      <th>E_Wrestling Men's Light-Heavyweight, Freestyle</th>\n",
       "      <th>E_Wrestling Men's Light-Heavyweight, Greco-Roman</th>\n",
       "      <th>E_Wrestling Men's Lightweight, Freestyle</th>\n",
       "      <th>E_Wrestling Men's Lightweight, Greco-Roman</th>\n",
       "      <th>E_Wrestling Men's Middleweight A, Greco-Roman</th>\n",
       "      <th>E_Wrestling Men's Middleweight, Freestyle</th>\n",
       "      <th>E_Wrestling Men's Middleweight, Greco-Roman</th>\n",
       "      <th>E_Wrestling Men's Super-Heavyweight, Greco-Roman</th>\n",
       "      <th>E_Wrestling Men's Welterweight, Freestyle</th>\n",
       "      <th>E_Wrestling Men's Welterweight, Greco-Roman</th>\n",
       "    </tr>\n",
       "  </thead>\n",
       "  <tbody>\n",
       "    <tr>\n",
       "      <th>0</th>\n",
       "      <td>1</td>\n",
       "      <td>24</td>\n",
       "      <td>180</td>\n",
       "      <td>80</td>\n",
       "      <td>1992</td>\n",
       "      <td>1</td>\n",
       "      <td>0</td>\n",
       "      <td>0</td>\n",
       "      <td>0</td>\n",
       "      <td>0</td>\n",
       "      <td>...</td>\n",
       "      <td>0</td>\n",
       "      <td>0</td>\n",
       "      <td>0</td>\n",
       "      <td>0</td>\n",
       "      <td>0</td>\n",
       "      <td>0</td>\n",
       "      <td>0</td>\n",
       "      <td>0</td>\n",
       "      <td>0</td>\n",
       "      <td>0</td>\n",
       "    </tr>\n",
       "    <tr>\n",
       "      <th>1</th>\n",
       "      <td>1</td>\n",
       "      <td>23</td>\n",
       "      <td>170</td>\n",
       "      <td>60</td>\n",
       "      <td>2012</td>\n",
       "      <td>1</td>\n",
       "      <td>0</td>\n",
       "      <td>0</td>\n",
       "      <td>0</td>\n",
       "      <td>0</td>\n",
       "      <td>...</td>\n",
       "      <td>0</td>\n",
       "      <td>0</td>\n",
       "      <td>0</td>\n",
       "      <td>0</td>\n",
       "      <td>0</td>\n",
       "      <td>0</td>\n",
       "      <td>0</td>\n",
       "      <td>0</td>\n",
       "      <td>0</td>\n",
       "      <td>0</td>\n",
       "    </tr>\n",
       "    <tr>\n",
       "      <th>2</th>\n",
       "      <td>1</td>\n",
       "      <td>24</td>\n",
       "      <td>177</td>\n",
       "      <td>73</td>\n",
       "      <td>1920</td>\n",
       "      <td>1</td>\n",
       "      <td>0</td>\n",
       "      <td>0</td>\n",
       "      <td>0</td>\n",
       "      <td>0</td>\n",
       "      <td>...</td>\n",
       "      <td>0</td>\n",
       "      <td>0</td>\n",
       "      <td>0</td>\n",
       "      <td>0</td>\n",
       "      <td>0</td>\n",
       "      <td>0</td>\n",
       "      <td>0</td>\n",
       "      <td>0</td>\n",
       "      <td>0</td>\n",
       "      <td>0</td>\n",
       "    </tr>\n",
       "    <tr>\n",
       "      <th>3</th>\n",
       "      <td>1</td>\n",
       "      <td>34</td>\n",
       "      <td>179</td>\n",
       "      <td>79</td>\n",
       "      <td>1900</td>\n",
       "      <td>1</td>\n",
       "      <td>1</td>\n",
       "      <td>0</td>\n",
       "      <td>0</td>\n",
       "      <td>0</td>\n",
       "      <td>...</td>\n",
       "      <td>0</td>\n",
       "      <td>0</td>\n",
       "      <td>0</td>\n",
       "      <td>0</td>\n",
       "      <td>0</td>\n",
       "      <td>0</td>\n",
       "      <td>0</td>\n",
       "      <td>0</td>\n",
       "      <td>0</td>\n",
       "      <td>0</td>\n",
       "    </tr>\n",
       "    <tr>\n",
       "      <th>4</th>\n",
       "      <td>0</td>\n",
       "      <td>21</td>\n",
       "      <td>185</td>\n",
       "      <td>82</td>\n",
       "      <td>1988</td>\n",
       "      <td>0</td>\n",
       "      <td>0</td>\n",
       "      <td>0</td>\n",
       "      <td>0</td>\n",
       "      <td>0</td>\n",
       "      <td>...</td>\n",
       "      <td>0</td>\n",
       "      <td>0</td>\n",
       "      <td>0</td>\n",
       "      <td>0</td>\n",
       "      <td>0</td>\n",
       "      <td>0</td>\n",
       "      <td>0</td>\n",
       "      <td>0</td>\n",
       "      <td>0</td>\n",
       "      <td>0</td>\n",
       "    </tr>\n",
       "    <tr>\n",
       "      <th>...</th>\n",
       "      <td>...</td>\n",
       "      <td>...</td>\n",
       "      <td>...</td>\n",
       "      <td>...</td>\n",
       "      <td>...</td>\n",
       "      <td>...</td>\n",
       "      <td>...</td>\n",
       "      <td>...</td>\n",
       "      <td>...</td>\n",
       "      <td>...</td>\n",
       "      <td>...</td>\n",
       "      <td>...</td>\n",
       "      <td>...</td>\n",
       "      <td>...</td>\n",
       "      <td>...</td>\n",
       "      <td>...</td>\n",
       "      <td>...</td>\n",
       "      <td>...</td>\n",
       "      <td>...</td>\n",
       "      <td>...</td>\n",
       "      <td>...</td>\n",
       "    </tr>\n",
       "    <tr>\n",
       "      <th>1018</th>\n",
       "      <td>1</td>\n",
       "      <td>23</td>\n",
       "      <td>200</td>\n",
       "      <td>88</td>\n",
       "      <td>1980</td>\n",
       "      <td>1</td>\n",
       "      <td>0</td>\n",
       "      <td>0</td>\n",
       "      <td>0</td>\n",
       "      <td>0</td>\n",
       "      <td>...</td>\n",
       "      <td>0</td>\n",
       "      <td>0</td>\n",
       "      <td>0</td>\n",
       "      <td>0</td>\n",
       "      <td>0</td>\n",
       "      <td>0</td>\n",
       "      <td>0</td>\n",
       "      <td>0</td>\n",
       "      <td>0</td>\n",
       "      <td>0</td>\n",
       "    </tr>\n",
       "    <tr>\n",
       "      <th>1019</th>\n",
       "      <td>1</td>\n",
       "      <td>24</td>\n",
       "      <td>177</td>\n",
       "      <td>71</td>\n",
       "      <td>1996</td>\n",
       "      <td>1</td>\n",
       "      <td>0</td>\n",
       "      <td>0</td>\n",
       "      <td>0</td>\n",
       "      <td>0</td>\n",
       "      <td>...</td>\n",
       "      <td>0</td>\n",
       "      <td>0</td>\n",
       "      <td>0</td>\n",
       "      <td>0</td>\n",
       "      <td>0</td>\n",
       "      <td>0</td>\n",
       "      <td>0</td>\n",
       "      <td>0</td>\n",
       "      <td>0</td>\n",
       "      <td>0</td>\n",
       "    </tr>\n",
       "    <tr>\n",
       "      <th>1020</th>\n",
       "      <td>1</td>\n",
       "      <td>15</td>\n",
       "      <td>177</td>\n",
       "      <td>64</td>\n",
       "      <td>1976</td>\n",
       "      <td>1</td>\n",
       "      <td>0</td>\n",
       "      <td>0</td>\n",
       "      <td>0</td>\n",
       "      <td>0</td>\n",
       "      <td>...</td>\n",
       "      <td>0</td>\n",
       "      <td>0</td>\n",
       "      <td>0</td>\n",
       "      <td>0</td>\n",
       "      <td>0</td>\n",
       "      <td>0</td>\n",
       "      <td>0</td>\n",
       "      <td>0</td>\n",
       "      <td>0</td>\n",
       "      <td>0</td>\n",
       "    </tr>\n",
       "    <tr>\n",
       "      <th>1021</th>\n",
       "      <td>1</td>\n",
       "      <td>15</td>\n",
       "      <td>177</td>\n",
       "      <td>64</td>\n",
       "      <td>1976</td>\n",
       "      <td>1</td>\n",
       "      <td>0</td>\n",
       "      <td>0</td>\n",
       "      <td>0</td>\n",
       "      <td>0</td>\n",
       "      <td>...</td>\n",
       "      <td>0</td>\n",
       "      <td>0</td>\n",
       "      <td>0</td>\n",
       "      <td>0</td>\n",
       "      <td>0</td>\n",
       "      <td>0</td>\n",
       "      <td>0</td>\n",
       "      <td>0</td>\n",
       "      <td>0</td>\n",
       "      <td>0</td>\n",
       "    </tr>\n",
       "    <tr>\n",
       "      <th>1022</th>\n",
       "      <td>1</td>\n",
       "      <td>19</td>\n",
       "      <td>177</td>\n",
       "      <td>64</td>\n",
       "      <td>1980</td>\n",
       "      <td>1</td>\n",
       "      <td>0</td>\n",
       "      <td>0</td>\n",
       "      <td>0</td>\n",
       "      <td>0</td>\n",
       "      <td>...</td>\n",
       "      <td>0</td>\n",
       "      <td>0</td>\n",
       "      <td>0</td>\n",
       "      <td>0</td>\n",
       "      <td>0</td>\n",
       "      <td>0</td>\n",
       "      <td>0</td>\n",
       "      <td>0</td>\n",
       "      <td>0</td>\n",
       "      <td>0</td>\n",
       "    </tr>\n",
       "  </tbody>\n",
       "</table>\n",
       "<p>1023 rows × 588 columns</p>\n",
       "</div>"
      ],
      "text/plain": [
       "      Sex  Age  Height  Weight  Year  Season  Medal  T_Afghanistan  T_Algeria  \\\n",
       "0       1   24     180      80  1992       1      0              0          0   \n",
       "1       1   23     170      60  2012       1      0              0          0   \n",
       "2       1   24     177      73  1920       1      0              0          0   \n",
       "3       1   34     179      79  1900       1      1              0          0   \n",
       "4       0   21     185      82  1988       0      0              0          0   \n",
       "...   ...  ...     ...     ...   ...     ...    ...            ...        ...   \n",
       "1018    1   23     200      88  1980       1      0              0          0   \n",
       "1019    1   24     177      71  1996       1      0              0          0   \n",
       "1020    1   15     177      64  1976       1      0              0          0   \n",
       "1021    1   15     177      64  1976       1      0              0          0   \n",
       "1022    1   19     177      64  1980       1      0              0          0   \n",
       "\n",
       "      T_Angola  ...  E_Wrestling Men's Light-Heavyweight, Freestyle  \\\n",
       "0            0  ...                                               0   \n",
       "1            0  ...                                               0   \n",
       "2            0  ...                                               0   \n",
       "3            0  ...                                               0   \n",
       "4            0  ...                                               0   \n",
       "...        ...  ...                                             ...   \n",
       "1018         0  ...                                               0   \n",
       "1019         0  ...                                               0   \n",
       "1020         0  ...                                               0   \n",
       "1021         0  ...                                               0   \n",
       "1022         0  ...                                               0   \n",
       "\n",
       "      E_Wrestling Men's Light-Heavyweight, Greco-Roman  \\\n",
       "0                                                    0   \n",
       "1                                                    0   \n",
       "2                                                    0   \n",
       "3                                                    0   \n",
       "4                                                    0   \n",
       "...                                                ...   \n",
       "1018                                                 0   \n",
       "1019                                                 0   \n",
       "1020                                                 0   \n",
       "1021                                                 0   \n",
       "1022                                                 0   \n",
       "\n",
       "      E_Wrestling Men's Lightweight, Freestyle  \\\n",
       "0                                            0   \n",
       "1                                            0   \n",
       "2                                            0   \n",
       "3                                            0   \n",
       "4                                            0   \n",
       "...                                        ...   \n",
       "1018                                         0   \n",
       "1019                                         0   \n",
       "1020                                         0   \n",
       "1021                                         0   \n",
       "1022                                         0   \n",
       "\n",
       "      E_Wrestling Men's Lightweight, Greco-Roman  \\\n",
       "0                                              0   \n",
       "1                                              0   \n",
       "2                                              0   \n",
       "3                                              0   \n",
       "4                                              0   \n",
       "...                                          ...   \n",
       "1018                                           0   \n",
       "1019                                           0   \n",
       "1020                                           0   \n",
       "1021                                           0   \n",
       "1022                                           0   \n",
       "\n",
       "      E_Wrestling Men's Middleweight A, Greco-Roman  \\\n",
       "0                                                 0   \n",
       "1                                                 0   \n",
       "2                                                 0   \n",
       "3                                                 0   \n",
       "4                                                 0   \n",
       "...                                             ...   \n",
       "1018                                              0   \n",
       "1019                                              0   \n",
       "1020                                              0   \n",
       "1021                                              0   \n",
       "1022                                              0   \n",
       "\n",
       "      E_Wrestling Men's Middleweight, Freestyle  \\\n",
       "0                                             0   \n",
       "1                                             0   \n",
       "2                                             0   \n",
       "3                                             0   \n",
       "4                                             0   \n",
       "...                                         ...   \n",
       "1018                                          0   \n",
       "1019                                          0   \n",
       "1020                                          0   \n",
       "1021                                          0   \n",
       "1022                                          0   \n",
       "\n",
       "      E_Wrestling Men's Middleweight, Greco-Roman  \\\n",
       "0                                               0   \n",
       "1                                               0   \n",
       "2                                               0   \n",
       "3                                               0   \n",
       "4                                               0   \n",
       "...                                           ...   \n",
       "1018                                            0   \n",
       "1019                                            0   \n",
       "1020                                            0   \n",
       "1021                                            0   \n",
       "1022                                            0   \n",
       "\n",
       "      E_Wrestling Men's Super-Heavyweight, Greco-Roman  \\\n",
       "0                                                    0   \n",
       "1                                                    0   \n",
       "2                                                    0   \n",
       "3                                                    0   \n",
       "4                                                    0   \n",
       "...                                                ...   \n",
       "1018                                                 0   \n",
       "1019                                                 0   \n",
       "1020                                                 0   \n",
       "1021                                                 0   \n",
       "1022                                                 0   \n",
       "\n",
       "      E_Wrestling Men's Welterweight, Freestyle  \\\n",
       "0                                             0   \n",
       "1                                             0   \n",
       "2                                             0   \n",
       "3                                             0   \n",
       "4                                             0   \n",
       "...                                         ...   \n",
       "1018                                          0   \n",
       "1019                                          0   \n",
       "1020                                          0   \n",
       "1021                                          0   \n",
       "1022                                          0   \n",
       "\n",
       "      E_Wrestling Men's Welterweight, Greco-Roman  \n",
       "0                                               0  \n",
       "1                                               0  \n",
       "2                                               0  \n",
       "3                                               0  \n",
       "4                                               0  \n",
       "...                                           ...  \n",
       "1018                                            0  \n",
       "1019                                            0  \n",
       "1020                                            0  \n",
       "1021                                            0  \n",
       "1022                                            0  \n",
       "\n",
       "[1023 rows x 588 columns]"
      ]
     },
     "execution_count": 32,
     "metadata": {},
     "output_type": "execute_result"
    }
   ],
   "source": [
    "data"
   ]
  },
  {
   "cell_type": "code",
   "execution_count": 33,
   "metadata": {
    "id": "HgZ62hSlq1Zt"
   },
   "outputs": [],
   "source": [
    "# Spilt data in target column and features columns\n",
    "y = data['Medal']\n",
    "X = data.drop('Medal', axis=1)"
   ]
  },
  {
   "cell_type": "markdown",
   "metadata": {
    "id": "LnbY1oL2RCGA"
   },
   "source": [
    "## Feature Selection"
   ]
  },
  {
   "cell_type": "code",
   "execution_count": 34,
   "metadata": {
    "id": "I_dx_kJx7OPK"
   },
   "outputs": [],
   "source": [
    "#Apply SelectKBest and extract top 10 features\n",
    "best=SelectKBest(score_func=chi2, k=10)"
   ]
  },
  {
   "cell_type": "code",
   "execution_count": 35,
   "metadata": {
    "id": "HvL7iLHA7OoX"
   },
   "outputs": [],
   "source": [
    "fit=best.fit(X,y)\n"
   ]
  },
  {
   "cell_type": "code",
   "execution_count": 36,
   "metadata": {
    "id": "uzZgxTZ17OxY"
   },
   "outputs": [],
   "source": [
    "data_scores=pd.DataFrame(fit.scores_)\n",
    "data_columns=pd.DataFrame(X.columns)"
   ]
  },
  {
   "cell_type": "code",
   "execution_count": 37,
   "metadata": {
    "colab": {
     "base_uri": "https://localhost:8080/"
    },
    "id": "H8NWThk07O1o",
    "outputId": "7c597a8d-0e5c-4528-fbad-f108522ed279"
   },
   "outputs": [
    {
     "name": "stdout",
     "output_type": "stream",
     "text": [
      "                                             Feature      Score\n",
      "3                                             Weight  37.606077\n",
      "56                                           T_Italy  36.976169\n",
      "172                                            N_ITA  36.976169\n",
      "476                       E_Rowing Men's Coxed Pairs  33.664149\n",
      "49                                         T_Hungary  32.245193\n",
      "164                                            N_HUN  32.245193\n",
      "319                    E_Alpine Skiing Men's Super G  24.453160\n",
      "449  E_Gymnastics Men's Team All-Around, Free System  24.401786\n",
      "298                                         S_Rowing  22.201309\n",
      "35                                           T_Egypt  21.044390\n",
      "148                                            N_EGY  21.044390\n"
     ]
    }
   ],
   "source": [
    "#Join the two dataframes\n",
    "scores=pd.concat([data_columns,data_scores],axis=1)\n",
    "scores.columns=['Feature','Score']\n",
    "print(scores.nlargest(11,'Score'))\n"
   ]
  },
  {
   "cell_type": "code",
   "execution_count": 38,
   "metadata": {
    "colab": {
     "base_uri": "https://localhost:8080/"
    },
    "id": "MuQsNThW7O7D",
    "outputId": "f63fc619-91c0-4d7a-f45e-55262c8c9d20"
   },
   "outputs": [
    {
     "data": {
      "text/plain": [
       "['Sex',\n",
       " 'Age',\n",
       " 'Height',\n",
       " 'Weight',\n",
       " 'Year',\n",
       " 'Season',\n",
       " 'T_Afghanistan',\n",
       " 'T_Algeria',\n",
       " 'T_Angola',\n",
       " 'T_Argentina']"
      ]
     },
     "execution_count": 38,
     "metadata": {},
     "output_type": "execute_result"
    }
   ],
   "source": [
    "#Select 10 features\n",
    "features=scores[\"Feature\"].tolist()[:10]\n",
    "features"
   ]
  },
  {
   "cell_type": "markdown",
   "metadata": {
    "id": "K7sRUD-gRgCc"
   },
   "source": [
    "## Make new dataset with cleaned data"
   ]
  },
  {
   "cell_type": "code",
   "execution_count": 39,
   "metadata": {
    "colab": {
     "base_uri": "https://localhost:8080/",
     "height": 203
    },
    "id": "amgfnPgs7kJv",
    "outputId": "085a6dc5-aa61-47b7-8a32-48b73978c42f"
   },
   "outputs": [
    {
     "data": {
      "text/html": [
       "<div>\n",
       "<style scoped>\n",
       "    .dataframe tbody tr th:only-of-type {\n",
       "        vertical-align: middle;\n",
       "    }\n",
       "\n",
       "    .dataframe tbody tr th {\n",
       "        vertical-align: top;\n",
       "    }\n",
       "\n",
       "    .dataframe thead th {\n",
       "        text-align: right;\n",
       "    }\n",
       "</style>\n",
       "<table border=\"1\" class=\"dataframe\">\n",
       "  <thead>\n",
       "    <tr style=\"text-align: right;\">\n",
       "      <th></th>\n",
       "      <th>Age</th>\n",
       "      <th>Sex</th>\n",
       "      <th>Height</th>\n",
       "      <th>Weight</th>\n",
       "      <th>Year</th>\n",
       "      <th>Season</th>\n",
       "      <th>T_Afghanistan</th>\n",
       "      <th>T_Algeria</th>\n",
       "      <th>T_Angola</th>\n",
       "      <th>T_Argentina</th>\n",
       "      <th>Medal</th>\n",
       "    </tr>\n",
       "  </thead>\n",
       "  <tbody>\n",
       "    <tr>\n",
       "      <th>0</th>\n",
       "      <td>24</td>\n",
       "      <td>1</td>\n",
       "      <td>180</td>\n",
       "      <td>80</td>\n",
       "      <td>1992</td>\n",
       "      <td>1</td>\n",
       "      <td>0</td>\n",
       "      <td>0</td>\n",
       "      <td>0</td>\n",
       "      <td>0</td>\n",
       "      <td>0</td>\n",
       "    </tr>\n",
       "    <tr>\n",
       "      <th>1</th>\n",
       "      <td>23</td>\n",
       "      <td>1</td>\n",
       "      <td>170</td>\n",
       "      <td>60</td>\n",
       "      <td>2012</td>\n",
       "      <td>1</td>\n",
       "      <td>0</td>\n",
       "      <td>0</td>\n",
       "      <td>0</td>\n",
       "      <td>0</td>\n",
       "      <td>0</td>\n",
       "    </tr>\n",
       "    <tr>\n",
       "      <th>2</th>\n",
       "      <td>24</td>\n",
       "      <td>1</td>\n",
       "      <td>177</td>\n",
       "      <td>73</td>\n",
       "      <td>1920</td>\n",
       "      <td>1</td>\n",
       "      <td>0</td>\n",
       "      <td>0</td>\n",
       "      <td>0</td>\n",
       "      <td>0</td>\n",
       "      <td>0</td>\n",
       "    </tr>\n",
       "    <tr>\n",
       "      <th>3</th>\n",
       "      <td>34</td>\n",
       "      <td>1</td>\n",
       "      <td>179</td>\n",
       "      <td>79</td>\n",
       "      <td>1900</td>\n",
       "      <td>1</td>\n",
       "      <td>0</td>\n",
       "      <td>0</td>\n",
       "      <td>0</td>\n",
       "      <td>0</td>\n",
       "      <td>1</td>\n",
       "    </tr>\n",
       "    <tr>\n",
       "      <th>4</th>\n",
       "      <td>21</td>\n",
       "      <td>0</td>\n",
       "      <td>185</td>\n",
       "      <td>82</td>\n",
       "      <td>1988</td>\n",
       "      <td>0</td>\n",
       "      <td>0</td>\n",
       "      <td>0</td>\n",
       "      <td>0</td>\n",
       "      <td>0</td>\n",
       "      <td>0</td>\n",
       "    </tr>\n",
       "  </tbody>\n",
       "</table>\n",
       "</div>"
      ],
      "text/plain": [
       "   Age  Sex  Height  Weight  Year  Season  T_Afghanistan  T_Algeria  T_Angola  \\\n",
       "0   24    1     180      80  1992       1              0          0         0   \n",
       "1   23    1     170      60  2012       1              0          0         0   \n",
       "2   24    1     177      73  1920       1              0          0         0   \n",
       "3   34    1     179      79  1900       1              0          0         0   \n",
       "4   21    0     185      82  1988       0              0          0         0   \n",
       "\n",
       "   T_Argentina  Medal  \n",
       "0            0      0  \n",
       "1            0      0  \n",
       "2            0      0  \n",
       "3            0      1  \n",
       "4            0      0  "
      ]
     },
     "execution_count": 39,
     "metadata": {},
     "output_type": "execute_result"
    }
   ],
   "source": [
    "data=data[['Age','Sex','Height','Weight','Year','Season','T_Afghanistan','T_Algeria','T_Angola','T_Argentina','Medal']]\n",
    "data.head()"
   ]
  },
  {
   "cell_type": "code",
   "execution_count": 40,
   "metadata": {
    "id": "XxFf_eJ28Qo4"
   },
   "outputs": [],
   "source": [
    "y = data['Medal']\n",
    "X = data.drop(['Medal'], axis=1)\n",
    "\n",
    "#Split data into training and testing data\n",
    "train_x, test_x, train_y, test_y = train_test_split(X, y, test_size=0.4, random_state=1)\n"
   ]
  },
  {
   "cell_type": "markdown",
   "metadata": {
    "id": "zl3u97MGR4jN"
   },
   "source": [
    "## Feature Scaling"
   ]
  },
  {
   "cell_type": "code",
   "execution_count": 41,
   "metadata": {
    "id": "iMrc5Wcr8gBI"
   },
   "outputs": [],
   "source": [
    "# Scaling data \n",
    "scaler = MinMaxScaler()\n",
    "train_x = scaler.fit_transform(train_x)\n",
    "test_x = scaler.transform(test_x)"
   ]
  },
  {
   "cell_type": "markdown",
   "metadata": {
    "id": "D_1XPe4DR-py"
   },
   "source": [
    "## Predictive Modeling"
   ]
  },
  {
   "cell_type": "code",
   "execution_count": 42,
   "metadata": {
    "colab": {
     "base_uri": "https://localhost:8080/"
    },
    "id": "b8hpiG39zeRN",
    "outputId": "df42d849-e720-4094-a2cc-c1140becaa20"
   },
   "outputs": [
    {
     "name": "stdout",
     "output_type": "stream",
     "text": [
      "confusion matrix\n",
      "[[359   0]\n",
      " [ 51   0]]\n",
      "\n",
      "\n",
      "Accuracy of Logistic Regression: 87.5609756097561 \n",
      "\n",
      "              precision    recall  f1-score   support\n",
      "\n",
      "           0       0.88      1.00      0.93       359\n",
      "           1       0.00      0.00      0.00        51\n",
      "\n",
      "    accuracy                           0.88       410\n",
      "   macro avg       0.44      0.50      0.47       410\n",
      "weighted avg       0.77      0.88      0.82       410\n",
      "\n"
     ]
    },
    {
     "name": "stderr",
     "output_type": "stream",
     "text": [
      "C:\\Users\\USER\\anaconda3\\lib\\site-packages\\sklearn\\metrics\\_classification.py:1318: UndefinedMetricWarning: Precision and F-score are ill-defined and being set to 0.0 in labels with no predicted samples. Use `zero_division` parameter to control this behavior.\n",
      "  _warn_prf(average, modifier, msg_start, len(result))\n",
      "C:\\Users\\USER\\anaconda3\\lib\\site-packages\\sklearn\\metrics\\_classification.py:1318: UndefinedMetricWarning: Precision and F-score are ill-defined and being set to 0.0 in labels with no predicted samples. Use `zero_division` parameter to control this behavior.\n",
      "  _warn_prf(average, modifier, msg_start, len(result))\n",
      "C:\\Users\\USER\\anaconda3\\lib\\site-packages\\sklearn\\metrics\\_classification.py:1318: UndefinedMetricWarning: Precision and F-score are ill-defined and being set to 0.0 in labels with no predicted samples. Use `zero_division` parameter to control this behavior.\n",
      "  _warn_prf(average, modifier, msg_start, len(result))\n"
     ]
    }
   ],
   "source": [
    "m1 = 'LogisticRegression'\n",
    "lr = LogisticRegression(random_state=1, max_iter=1000)\n",
    "lr.fit(train_x, train_y)\n",
    "lr_predict = lr.predict(test_x)\n",
    "lr_conf_matrix = confusion_matrix(test_y, lr_predict)\n",
    "lr_acc_score = accuracy_score(test_y, lr_predict)\n",
    "print(\"confusion matrix\")\n",
    "print(lr_conf_matrix)\n",
    "print(\"\\n\")\n",
    "print(\"Accuracy of Logistic Regression:\",lr_acc_score*100,'\\n')\n",
    "print(classification_report(test_y,lr_predict))"
   ]
  },
  {
   "cell_type": "code",
   "execution_count": 43,
   "metadata": {
    "colab": {
     "base_uri": "https://localhost:8080/"
    },
    "id": "wvQPSxoo8493",
    "outputId": "5666d767-168a-4f33-8ec8-92adfc68e17c"
   },
   "outputs": [
    {
     "name": "stdout",
     "output_type": "stream",
     "text": [
      "confusion matrix\n",
      "[[359   0]\n",
      " [ 51   0]]\n",
      "\n",
      "\n",
      "Accuracy of Logistic Regression: 87.5609756097561 \n",
      "\n",
      "              precision    recall  f1-score   support\n",
      "\n",
      "           0       0.88      1.00      0.93       359\n",
      "           1       0.00      0.00      0.00        51\n",
      "\n",
      "    accuracy                           0.88       410\n",
      "   macro avg       0.44      0.50      0.47       410\n",
      "weighted avg       0.77      0.88      0.82       410\n",
      "\n"
     ]
    },
    {
     "name": "stderr",
     "output_type": "stream",
     "text": [
      "C:\\Users\\USER\\anaconda3\\lib\\site-packages\\sklearn\\metrics\\_classification.py:1318: UndefinedMetricWarning: Precision and F-score are ill-defined and being set to 0.0 in labels with no predicted samples. Use `zero_division` parameter to control this behavior.\n",
      "  _warn_prf(average, modifier, msg_start, len(result))\n",
      "C:\\Users\\USER\\anaconda3\\lib\\site-packages\\sklearn\\metrics\\_classification.py:1318: UndefinedMetricWarning: Precision and F-score are ill-defined and being set to 0.0 in labels with no predicted samples. Use `zero_division` parameter to control this behavior.\n",
      "  _warn_prf(average, modifier, msg_start, len(result))\n",
      "C:\\Users\\USER\\anaconda3\\lib\\site-packages\\sklearn\\metrics\\_classification.py:1318: UndefinedMetricWarning: Precision and F-score are ill-defined and being set to 0.0 in labels with no predicted samples. Use `zero_division` parameter to control this behavior.\n",
      "  _warn_prf(average, modifier, msg_start, len(result))\n"
     ]
    }
   ],
   "source": [
    "m2 = 'MultinomialNB'\n",
    "nv = MultinomialNB()\n",
    "nv.fit(train_x, train_y)\n",
    "nv_predict = nv.predict(test_x)\n",
    "nv_conf_matrix = confusion_matrix(test_y, nv_predict)\n",
    "nv_acc_score = accuracy_score(test_y, nv_predict)\n",
    "print(\"confusion matrix\")\n",
    "print(nv_conf_matrix)\n",
    "print(\"\\n\")\n",
    "print(\"Accuracy of Logistic Regression:\",nv_acc_score*100,'\\n')\n",
    "print(classification_report(test_y,nv_predict))"
   ]
  },
  {
   "cell_type": "code",
   "execution_count": 44,
   "metadata": {
    "colab": {
     "base_uri": "https://localhost:8080/"
    },
    "id": "TjHe5kdSzHBN",
    "outputId": "5cfc4b8d-24d9-45fe-b661-30260d7a878f"
   },
   "outputs": [
    {
     "name": "stdout",
     "output_type": "stream",
     "text": [
      "confusion matrix\n",
      "[[339  20]\n",
      " [ 32  19]]\n",
      "\n",
      "\n",
      "Accuracy of DecisionTreeClassifier: 87.3170731707317 \n",
      "\n",
      "              precision    recall  f1-score   support\n",
      "\n",
      "           0       0.91      0.94      0.93       359\n",
      "           1       0.49      0.37      0.42        51\n",
      "\n",
      "    accuracy                           0.87       410\n",
      "   macro avg       0.70      0.66      0.68       410\n",
      "weighted avg       0.86      0.87      0.87       410\n",
      "\n"
     ]
    }
   ],
   "source": [
    "m3 = 'DecisionTreeClassifier'\n",
    "dt = DecisionTreeClassifier(criterion = 'entropy',random_state=0,max_depth = 30)\n",
    "dt.fit(train_x,train_y)\n",
    "dt_predicted = dt.predict(test_x)\n",
    "dt_conf_matrix = confusion_matrix(test_y, dt_predicted)\n",
    "dt_acc_score = accuracy_score(test_y, dt_predicted)\n",
    "print(\"confusion matrix\")\n",
    "print(dt_conf_matrix)\n",
    "print(\"\\n\")\n",
    "print(\"Accuracy of DecisionTreeClassifier:\",dt_acc_score*100,'\\n')\n",
    "print(classification_report(test_y,dt_predicted))"
   ]
  },
  {
   "cell_type": "code",
   "execution_count": 45,
   "metadata": {
    "colab": {
     "base_uri": "https://localhost:8080/"
    },
    "id": "Qs0IlU1f-WiG",
    "outputId": "b361971c-bf21-449e-d1b1-83278bf191b0"
   },
   "outputs": [
    {
     "name": "stdout",
     "output_type": "stream",
     "text": [
      "confusion matrix\n",
      "[[351   8]\n",
      " [ 37  14]]\n",
      "\n",
      "\n",
      "Accuracy of Random Forest: 89.02439024390245 \n",
      "\n",
      "              precision    recall  f1-score   support\n",
      "\n",
      "           0       0.90      0.98      0.94       359\n",
      "           1       0.64      0.27      0.38        51\n",
      "\n",
      "    accuracy                           0.89       410\n",
      "   macro avg       0.77      0.63      0.66       410\n",
      "weighted avg       0.87      0.89      0.87       410\n",
      "\n"
     ]
    }
   ],
   "source": [
    "m4 = 'Random Forest Classfier'\n",
    "rf = RandomForestClassifier(n_estimators=200, random_state=0,max_depth=12)\n",
    "rf.fit(train_x,train_y)\n",
    "rf_predicted = rf.predict(test_x)\n",
    "rf_conf_matrix = confusion_matrix(test_y, rf_predicted)\n",
    "rf_acc_score = accuracy_score(test_y, rf_predicted)\n",
    "print(\"confusion matrix\")\n",
    "print(rf_conf_matrix)\n",
    "print(\"\\n\")\n",
    "print(\"Accuracy of Random Forest:\",rf_acc_score*100,'\\n')\n",
    "print(classification_report(test_y,rf_predicted))"
   ]
  },
  {
   "cell_type": "code",
   "execution_count": 46,
   "metadata": {
    "colab": {
     "base_uri": "https://localhost:8080/"
    },
    "id": "VZ8nXmZ7-MXs",
    "outputId": "d7e90324-1b22-422f-fda4-b961c5eea09c"
   },
   "outputs": [
    {
     "name": "stdout",
     "output_type": "stream",
     "text": [
      "confusion matrix\n",
      "[[350   9]\n",
      " [ 38  13]]\n",
      "\n",
      "\n",
      "Accuracy of Gradient Boosting Classifier: 88.53658536585365 \n",
      "\n",
      "              precision    recall  f1-score   support\n",
      "\n",
      "           0       0.90      0.97      0.94       359\n",
      "           1       0.59      0.25      0.36        51\n",
      "\n",
      "    accuracy                           0.89       410\n",
      "   macro avg       0.75      0.61      0.65       410\n",
      "weighted avg       0.86      0.89      0.86       410\n",
      "\n"
     ]
    }
   ],
   "source": [
    "m5 = 'Gradient Boosting Classifier'\n",
    "gvc =  GradientBoostingClassifier()\n",
    "gvc.fit(train_x,train_y)\n",
    "gvc_predicted = gvc.predict(test_x)\n",
    "gvc_conf_matrix = confusion_matrix(test_y, gvc_predicted)\n",
    "gvc_acc_score = accuracy_score(test_y, gvc_predicted)\n",
    "print(\"confusion matrix\")\n",
    "print(gvc_conf_matrix)\n",
    "print(\"\\n\")\n",
    "print(\"Accuracy of Gradient Boosting Classifier:\",gvc_acc_score*100,'\\n')\n",
    "print(classification_report(test_y,gvc_predicted))"
   ]
  },
  {
   "cell_type": "code",
   "execution_count": 47,
   "metadata": {
    "colab": {
     "base_uri": "https://localhost:8080/"
    },
    "id": "Z7iXxndH_7sj",
    "outputId": "9103f06f-290a-446a-80f8-670d5d8ede6f"
   },
   "outputs": [
    {
     "name": "stdout",
     "output_type": "stream",
     "text": [
      "Epoch 1/100\n",
      "16/16 [==============================] - 1s 17ms/step - loss: 0.5946 - accuracy: 0.7980 - auc: 0.5804 - val_loss: 0.4602 - val_accuracy: 0.9187 - val_auc: 0.6279\n",
      "Epoch 2/100\n",
      "16/16 [==============================] - 0s 3ms/step - loss: 0.4159 - accuracy: 0.8959 - auc: 0.4657 - val_loss: 0.3214 - val_accuracy: 0.9187 - val_auc: 0.6080\n",
      "Epoch 3/100\n",
      "16/16 [==============================] - 0s 3ms/step - loss: 0.3439 - accuracy: 0.8959 - auc: 0.4778 - val_loss: 0.2842 - val_accuracy: 0.9187 - val_auc: 0.6102\n",
      "Epoch 4/100\n",
      "16/16 [==============================] - 0s 3ms/step - loss: 0.3366 - accuracy: 0.8959 - auc: 0.4962 - val_loss: 0.2815 - val_accuracy: 0.9187 - val_auc: 0.6168\n",
      "Epoch 5/100\n",
      "16/16 [==============================] - 0s 6ms/step - loss: 0.3353 - accuracy: 0.8959 - auc: 0.5105 - val_loss: 0.2821 - val_accuracy: 0.9187 - val_auc: 0.6319\n",
      "Epoch 6/100\n",
      "16/16 [==============================] - 0s 3ms/step - loss: 0.3341 - accuracy: 0.8959 - auc: 0.5105 - val_loss: 0.2841 - val_accuracy: 0.9187 - val_auc: 0.6624\n",
      "Epoch 7/100\n",
      "16/16 [==============================] - 0s 3ms/step - loss: 0.3327 - accuracy: 0.8959 - auc: 0.5325 - val_loss: 0.2807 - val_accuracy: 0.9187 - val_auc: 0.6655\n",
      "Epoch 8/100\n",
      "16/16 [==============================] - 0s 4ms/step - loss: 0.3323 - accuracy: 0.8959 - auc: 0.5153 - val_loss: 0.2789 - val_accuracy: 0.9187 - val_auc: 0.6752\n",
      "Epoch 9/100\n",
      "16/16 [==============================] - 0s 4ms/step - loss: 0.3323 - accuracy: 0.8959 - auc: 0.5310 - val_loss: 0.2763 - val_accuracy: 0.9187 - val_auc: 0.6801\n",
      "Epoch 10/100\n",
      "16/16 [==============================] - 0s 3ms/step - loss: 0.3305 - accuracy: 0.8959 - auc: 0.5472 - val_loss: 0.2802 - val_accuracy: 0.9187 - val_auc: 0.6938\n",
      "Epoch 11/100\n",
      "16/16 [==============================] - 0s 3ms/step - loss: 0.3290 - accuracy: 0.8959 - auc: 0.5776 - val_loss: 0.2767 - val_accuracy: 0.9187 - val_auc: 0.6827\n",
      "Epoch 12/100\n",
      "16/16 [==============================] - 0s 3ms/step - loss: 0.3281 - accuracy: 0.8959 - auc: 0.5748 - val_loss: 0.2749 - val_accuracy: 0.9187 - val_auc: 0.6858\n",
      "Epoch 13/100\n",
      "16/16 [==============================] - 0s 3ms/step - loss: 0.3275 - accuracy: 0.8959 - auc: 0.5768 - val_loss: 0.2771 - val_accuracy: 0.9187 - val_auc: 0.6942\n",
      "Epoch 14/100\n",
      "16/16 [==============================] - 0s 3ms/step - loss: 0.3277 - accuracy: 0.8959 - auc: 0.5793 - val_loss: 0.2747 - val_accuracy: 0.9187 - val_auc: 0.7075\n",
      "Epoch 15/100\n",
      "16/16 [==============================] - 0s 4ms/step - loss: 0.3285 - accuracy: 0.8959 - auc: 0.6000 - val_loss: 0.2787 - val_accuracy: 0.9187 - val_auc: 0.7146\n",
      "Epoch 16/100\n",
      "16/16 [==============================] - 0s 4ms/step - loss: 0.3244 - accuracy: 0.8959 - auc: 0.6283 - val_loss: 0.2719 - val_accuracy: 0.9187 - val_auc: 0.7013\n",
      "Epoch 17/100\n",
      "16/16 [==============================] - 0s 3ms/step - loss: 0.3247 - accuracy: 0.8959 - auc: 0.6335 - val_loss: 0.2734 - val_accuracy: 0.9187 - val_auc: 0.7062\n",
      "Epoch 18/100\n",
      "16/16 [==============================] - 0s 3ms/step - loss: 0.3248 - accuracy: 0.8959 - auc: 0.6438 - val_loss: 0.2776 - val_accuracy: 0.9187 - val_auc: 0.7235\n",
      "Epoch 19/100\n",
      "16/16 [==============================] - 0s 3ms/step - loss: 0.3225 - accuracy: 0.8959 - auc: 0.6467 - val_loss: 0.2715 - val_accuracy: 0.9187 - val_auc: 0.6969\n",
      "Epoch 20/100\n",
      "16/16 [==============================] - 0s 3ms/step - loss: 0.3231 - accuracy: 0.8959 - auc: 0.6518 - val_loss: 0.2723 - val_accuracy: 0.9187 - val_auc: 0.7044\n",
      "Epoch 21/100\n",
      "16/16 [==============================] - 0s 3ms/step - loss: 0.3216 - accuracy: 0.8959 - auc: 0.6522 - val_loss: 0.2717 - val_accuracy: 0.9187 - val_auc: 0.7164\n",
      "Epoch 22/100\n",
      "16/16 [==============================] - 0s 4ms/step - loss: 0.3207 - accuracy: 0.8959 - auc: 0.6613 - val_loss: 0.2737 - val_accuracy: 0.9187 - val_auc: 0.7283\n"
     ]
    }
   ],
   "source": [
    "m6 = 'Neural Network'\n",
    "inputs = tf.keras.Input(shape=(X.shape[1]))\n",
    "x = tf.keras.layers.Dense(64, activation='relu')(inputs)\n",
    "x = tf.keras.layers.Dense(64, activation='relu')(x)\n",
    "outputs = tf.keras.layers.Dense(1, activation='sigmoid')(x)\n",
    "\n",
    "model = tf.keras.Model(inputs, outputs)\n",
    "\n",
    "\n",
    "model.compile(\n",
    "    optimizer='adam',\n",
    "    loss='binary_crossentropy',\n",
    "    metrics=[\n",
    "        'accuracy',\n",
    "        tf.keras.metrics.AUC(name='auc')\n",
    "    ]\n",
    ")\n",
    "\n",
    "\n",
    "history = model.fit(\n",
    "    train_x,\n",
    "    train_y,\n",
    "    validation_split=0.2,\n",
    "    batch_size=32,\n",
    "    epochs=100,\n",
    "    callbacks=[\n",
    "        tf.keras.callbacks.EarlyStopping(\n",
    "            monitor='val_loss',\n",
    "            patience=3,\n",
    "            restore_best_weights=True\n",
    "        )\n",
    "    ]\n",
    ")"
   ]
  },
  {
   "cell_type": "code",
   "execution_count": 48,
   "metadata": {
    "colab": {
     "base_uri": "https://localhost:8080/"
    },
    "id": "95v3vzdcG-sP",
    "outputId": "95aaea92-c540-414e-c9f1-325b92ab17f8"
   },
   "outputs": [
    {
     "name": "stdout",
     "output_type": "stream",
     "text": [
      "13/13 [==============================] - 0s 1ms/step - loss: 0.3753 - accuracy: 0.8756 - auc: 0.5870\n"
     ]
    },
    {
     "data": {
      "text/plain": [
       "[0.3753325939178467, 0.8756097555160522, 0.5870336890220642]"
      ]
     },
     "execution_count": 48,
     "metadata": {},
     "output_type": "execute_result"
    }
   ],
   "source": [
    "model.evaluate(test_x, test_y)"
   ]
  },
  {
   "cell_type": "code",
   "execution_count": 49,
   "metadata": {
    "id": "VfNCQ5piHFIr"
   },
   "outputs": [
    {
     "name": "stdout",
     "output_type": "stream",
     "text": [
      "13/13 [==============================] - 0s 1000us/step\n"
     ]
    },
    {
     "name": "stderr",
     "output_type": "stream",
     "text": [
      "C:\\Users\\USER\\AppData\\Local\\Temp\\ipykernel_13572\\1102159664.py:2: DeprecationWarning: `np.int` is a deprecated alias for the builtin `int`. To silence this warning, use `int` by itself. Doing this will not modify any behavior and is safe. When replacing `np.int`, you may wish to use e.g. `np.int64` or `np.int32` to specify the precision. If you wish to review your current use, check the release note link for additional information.\n",
      "Deprecated in NumPy 1.20; for more details and guidance: https://numpy.org/devdocs/release/1.20.0-notes.html#deprecations\n",
      "  y_pred = np.squeeze(np.array(model.predict(test_x) >= 0.5, dtype=np.int))\n"
     ]
    }
   ],
   "source": [
    "y_true = np.array(test_y)\n",
    "y_pred = np.squeeze(np.array(model.predict(test_x) >= 0.5, dtype=np.int))"
   ]
  },
  {
   "cell_type": "code",
   "execution_count": 50,
   "metadata": {
    "colab": {
     "base_uri": "https://localhost:8080/"
    },
    "id": "IM43qwX3AZ82",
    "outputId": "b1df02d1-03af-423d-e9f5-b1b6aa084c49"
   },
   "outputs": [
    {
     "name": "stdout",
     "output_type": "stream",
     "text": [
      "confusion matrix\n",
      "[[350   9]\n",
      " [ 38  13]]\n",
      "\n",
      "\n",
      "Accuracy of Neural Network: 87.5609756097561 \n",
      "\n",
      "              precision    recall  f1-score   support\n",
      "\n",
      "           0       0.88      1.00      0.93       359\n",
      "           1       0.00      0.00      0.00        51\n",
      "\n",
      "    accuracy                           0.88       410\n",
      "   macro avg       0.44      0.50      0.47       410\n",
      "weighted avg       0.77      0.88      0.82       410\n",
      "\n"
     ]
    },
    {
     "name": "stderr",
     "output_type": "stream",
     "text": [
      "C:\\Users\\USER\\anaconda3\\lib\\site-packages\\sklearn\\metrics\\_classification.py:1318: UndefinedMetricWarning: Precision and F-score are ill-defined and being set to 0.0 in labels with no predicted samples. Use `zero_division` parameter to control this behavior.\n",
      "  _warn_prf(average, modifier, msg_start, len(result))\n",
      "C:\\Users\\USER\\anaconda3\\lib\\site-packages\\sklearn\\metrics\\_classification.py:1318: UndefinedMetricWarning: Precision and F-score are ill-defined and being set to 0.0 in labels with no predicted samples. Use `zero_division` parameter to control this behavior.\n",
      "  _warn_prf(average, modifier, msg_start, len(result))\n",
      "C:\\Users\\USER\\anaconda3\\lib\\site-packages\\sklearn\\metrics\\_classification.py:1318: UndefinedMetricWarning: Precision and F-score are ill-defined and being set to 0.0 in labels with no predicted samples. Use `zero_division` parameter to control this behavior.\n",
      "  _warn_prf(average, modifier, msg_start, len(result))\n"
     ]
    }
   ],
   "source": [
    "nn_conf_matrix = confusion_matrix(y_true, y_pred)\n",
    "nn_acc_score = accuracy_score(y_true, y_pred)\n",
    "print(\"confusion matrix\")\n",
    "print(gvc_conf_matrix)\n",
    "print(\"\\n\")\n",
    "print(\"Accuracy of Neural Network:\",nn_acc_score*100,'\\n')\n",
    "print(classification_report(y_true, y_pred))"
   ]
  },
  {
   "cell_type": "markdown",
   "metadata": {
    "id": "Wh4CcToOSMk5"
   },
   "source": [
    "## Model Evaluation"
   ]
  },
  {
   "cell_type": "code",
   "execution_count": 51,
   "metadata": {
    "colab": {
     "base_uri": "https://localhost:8080/",
     "height": 234
    },
    "id": "0E6sUgZ_HVUt",
    "outputId": "617429ca-0633-409f-db69-95fc707effa3"
   },
   "outputs": [
    {
     "data": {
      "text/html": [
       "<div>\n",
       "<style scoped>\n",
       "    .dataframe tbody tr th:only-of-type {\n",
       "        vertical-align: middle;\n",
       "    }\n",
       "\n",
       "    .dataframe tbody tr th {\n",
       "        vertical-align: top;\n",
       "    }\n",
       "\n",
       "    .dataframe thead th {\n",
       "        text-align: right;\n",
       "    }\n",
       "</style>\n",
       "<table border=\"1\" class=\"dataframe\">\n",
       "  <thead>\n",
       "    <tr style=\"text-align: right;\">\n",
       "      <th></th>\n",
       "      <th>Model</th>\n",
       "      <th>Accuracy</th>\n",
       "    </tr>\n",
       "  </thead>\n",
       "  <tbody>\n",
       "    <tr>\n",
       "      <th>0</th>\n",
       "      <td>Logistic Regression</td>\n",
       "      <td>87.560976</td>\n",
       "    </tr>\n",
       "    <tr>\n",
       "      <th>1</th>\n",
       "      <td>MultinomialNB</td>\n",
       "      <td>87.560976</td>\n",
       "    </tr>\n",
       "    <tr>\n",
       "      <th>2</th>\n",
       "      <td>Decision Tree</td>\n",
       "      <td>87.317073</td>\n",
       "    </tr>\n",
       "    <tr>\n",
       "      <th>3</th>\n",
       "      <td>Random Forest</td>\n",
       "      <td>89.024390</td>\n",
       "    </tr>\n",
       "    <tr>\n",
       "      <th>4</th>\n",
       "      <td>Gradient Boosting</td>\n",
       "      <td>88.536585</td>\n",
       "    </tr>\n",
       "    <tr>\n",
       "      <th>5</th>\n",
       "      <td>Neural Network</td>\n",
       "      <td>87.560976</td>\n",
       "    </tr>\n",
       "  </tbody>\n",
       "</table>\n",
       "</div>"
      ],
      "text/plain": [
       "                 Model   Accuracy\n",
       "0  Logistic Regression  87.560976\n",
       "1        MultinomialNB  87.560976\n",
       "2        Decision Tree  87.317073\n",
       "3        Random Forest  89.024390\n",
       "4    Gradient Boosting  88.536585\n",
       "5       Neural Network  87.560976"
      ]
     },
     "execution_count": 51,
     "metadata": {},
     "output_type": "execute_result"
    }
   ],
   "source": [
    "model_ev = pd.DataFrame({'Model': ['Logistic Regression','MultinomialNB','Decision Tree','Random Forest',\n",
    "                                  'Gradient Boosting','Neural Network'], \n",
    "                         'Accuracy': [lr_acc_score*100, nv_acc_score*100, dt_acc_score*100, rf_acc_score*100,gvc_acc_score*100,\n",
    "                                      nn_acc_score*100]})\n",
    "model_ev"
   ]
  },
  {
   "cell_type": "markdown",
   "metadata": {
    "id": "ZZtJLVdxSZ2L"
   },
   "source": [
    "## Final Random Forest Classifier Model\n"
   ]
  },
  {
   "cell_type": "code",
   "execution_count": 52,
   "metadata": {
    "colab": {
     "base_uri": "https://localhost:8080/"
    },
    "id": "RUmwAP-lH7IF",
    "outputId": "dfe3a3a2-06e6-46f8-c6c0-5aba674987c6"
   },
   "outputs": [
    {
     "name": "stdout",
     "output_type": "stream",
     "text": [
      "Accuracy of Random Forest: 89.02439024390245 \n",
      "\n"
     ]
    }
   ],
   "source": [
    "model = RandomForestClassifier(n_estimators=200, random_state=0,max_depth=12)\n",
    "model.fit(train_x,train_y)\n",
    "predicted = model.predict(test_x)\n",
    "accuracy = accuracy_score(test_y, rf_predicted)\n",
    "print(\"Accuracy of Random Forest:\",accuracy*100,'\\n')\n"
   ]
  },
  {
   "cell_type": "markdown",
   "metadata": {
    "id": "3P3LCXnSSf9z"
   },
   "source": [
    "## Conclusion\n",
    "Random Forest Classifier Model performs best among all models"
   ]
  }
 ],
 "metadata": {
  "colab": {
   "name": "Olympic_Medal_Prediction.ipynb",
   "provenance": []
  },
  "kernelspec": {
   "display_name": "Python 3 (ipykernel)",
   "language": "python",
   "name": "python3"
  },
  "language_info": {
   "codemirror_mode": {
    "name": "ipython",
    "version": 3
   },
   "file_extension": ".py",
   "mimetype": "text/x-python",
   "name": "python",
   "nbconvert_exporter": "python",
   "pygments_lexer": "ipython3",
   "version": "3.9.13"
  }
 },
 "nbformat": 4,
 "nbformat_minor": 1
}
