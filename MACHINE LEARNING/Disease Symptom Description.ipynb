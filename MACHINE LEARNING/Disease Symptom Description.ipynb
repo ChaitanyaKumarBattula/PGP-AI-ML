{
 "cells": [
  {
   "cell_type": "markdown",
   "metadata": {
    "_cell_guid": "29d803ef-727b-40de-97bb-09c762a94335",
    "_uuid": "7e8f0ab3-c665-47d0-aa74-4d63d9b4d40a",
    "execution": {
     "iopub.execute_input": "2023-09-20T11:28:42.960426Z",
     "iopub.status.busy": "2023-09-20T11:28:42.959795Z",
     "iopub.status.idle": "2023-09-20T11:28:43.093905Z",
     "shell.execute_reply": "2023-09-20T11:28:43.092107Z",
     "shell.execute_reply.started": "2023-09-20T11:28:42.960306Z"
    },
    "jupyter": {
     "outputs_hidden": false
    }
   },
   "source": [
    "# disease-symptom-description"
   ]
  },
  {
   "cell_type": "code",
   "execution_count": 1,
   "metadata": {
    "_cell_guid": "769d7dfe-4275-42c0-b13a-b2e1a51323d3",
    "_uuid": "04ba2606-383c-47c1-8b3a-c2fec9ab7f90",
    "execution": {
     "iopub.execute_input": "2023-09-20T11:28:43.098027Z",
     "iopub.status.busy": "2023-09-20T11:28:43.097416Z",
     "iopub.status.idle": "2023-09-20T11:28:47.204331Z",
     "shell.execute_reply": "2023-09-20T11:28:47.202384Z",
     "shell.execute_reply.started": "2023-09-20T11:28:43.097979Z"
    },
    "jupyter": {
     "outputs_hidden": false
    },
    "papermill": {
     "duration": 1.394335,
     "end_time": "2021-08-30T15:05:17.551091",
     "exception": false,
     "start_time": "2021-08-30T15:05:16.156756",
     "status": "completed"
    },
    "tags": []
   },
   "outputs": [],
   "source": [
    "import pandas as pd\n",
    "import numpy as np\n",
    "import matplotlib.pyplot as plt\n",
    "\n",
    "from sklearn.model_selection import train_test_split\n",
    "from sklearn.ensemble import RandomForestClassifier\n",
    "from sklearn.tree import DecisionTreeClassifier\n",
    "# from sklearn import metrics\n",
    "from sklearn.metrics import f1_score, accuracy_score, confusion_matrix,classification_report,plot_confusion_matrix,plot_roc_curve,precision_score,roc_curve\n",
    "import seaborn as sns\n",
    "\n",
    "\n",
    "\n",
    "\n",
    "\n",
    "import joblib"
   ]
  },
  {
   "cell_type": "markdown",
   "metadata": {
    "_cell_guid": "e1480d23-615f-449d-899c-980c4745d98a",
    "_uuid": "e4080fe0-1a9b-474a-a75c-7edf10baded4",
    "papermill": {
     "duration": 0.024723,
     "end_time": "2021-08-30T15:05:17.748249",
     "exception": false,
     "start_time": "2021-08-30T15:05:17.723526",
     "status": "completed"
    },
    "tags": []
   },
   "source": [
    "**Read and shuffle the dataset**"
   ]
  },
  {
   "cell_type": "code",
   "execution_count": 2,
   "metadata": {
    "_cell_guid": "004332d9-692e-421f-91cc-5d0335a40ac9",
    "_uuid": "0b07b2a3-a895-48e5-9bc2-05c749e1a761",
    "execution": {
     "iopub.execute_input": "2023-09-20T11:28:47.207878Z",
     "iopub.status.busy": "2023-09-20T11:28:47.207155Z",
     "iopub.status.idle": "2023-09-20T11:28:47.322487Z",
     "shell.execute_reply": "2023-09-20T11:28:47.320573Z",
     "shell.execute_reply.started": "2023-09-20T11:28:47.207802Z"
    },
    "jupyter": {
     "outputs_hidden": false
    },
    "papermill": {
     "duration": 0.098404,
     "end_time": "2021-08-30T15:05:17.923833",
     "exception": false,
     "start_time": "2021-08-30T15:05:17.825429",
     "status": "completed"
    },
    "tags": []
   },
   "outputs": [
    {
     "ename": "NameError",
     "evalue": "name 'shuffle' is not defined",
     "output_type": "error",
     "traceback": [
      "\u001b[1;31m---------------------------------------------------------------------------\u001b[0m",
      "\u001b[1;31mNameError\u001b[0m                                 Traceback (most recent call last)",
      "\u001b[1;32m~\\AppData\\Local\\Temp\\ipykernel_26020\\3840825946.py\u001b[0m in \u001b[0;36m<module>\u001b[1;34m\u001b[0m\n\u001b[0;32m      1\u001b[0m \u001b[0mdf\u001b[0m \u001b[1;33m=\u001b[0m \u001b[0mpd\u001b[0m\u001b[1;33m.\u001b[0m\u001b[0mread_csv\u001b[0m\u001b[1;33m(\u001b[0m\u001b[1;34m'./DataSets/disease-symptom-description-datasets/dataset.csv'\u001b[0m\u001b[1;33m)\u001b[0m\u001b[1;33m\u001b[0m\u001b[1;33m\u001b[0m\u001b[0m\n\u001b[1;32m----> 2\u001b[1;33m \u001b[0mdf\u001b[0m \u001b[1;33m=\u001b[0m \u001b[0mshuffle\u001b[0m\u001b[1;33m(\u001b[0m\u001b[0mdf\u001b[0m\u001b[1;33m,\u001b[0m\u001b[0mrandom_state\u001b[0m\u001b[1;33m=\u001b[0m\u001b[1;36m42\u001b[0m\u001b[1;33m)\u001b[0m\u001b[1;33m\u001b[0m\u001b[1;33m\u001b[0m\u001b[0m\n\u001b[0m\u001b[0;32m      3\u001b[0m \u001b[0mdf\u001b[0m\u001b[1;33m.\u001b[0m\u001b[0mhead\u001b[0m\u001b[1;33m(\u001b[0m\u001b[1;33m)\u001b[0m\u001b[1;33m\u001b[0m\u001b[1;33m\u001b[0m\u001b[0m\n",
      "\u001b[1;31mNameError\u001b[0m: name 'shuffle' is not defined"
     ]
    }
   ],
   "source": [
    "df = pd.read_csv('./DataSets/disease-symptom-description-datasets/dataset.csv')\n",
    "df = shuffle(df,random_state=42)\n",
    "df.head()"
   ]
  },
  {
   "cell_type": "markdown",
   "metadata": {
    "_cell_guid": "47319647-a30b-4685-9ff6-4f55c37e34ea",
    "_uuid": "5af2a859-25dc-44d9-b69c-3641957ace0c"
   },
   "source": [
    "**Removing Hyphen from strings**"
   ]
  },
  {
   "cell_type": "code",
   "execution_count": null,
   "metadata": {
    "_cell_guid": "9ce44588-29e9-4649-9b29-9f24abbcaad4",
    "_uuid": "119a2f4f-eb9c-4d73-8d45-6d2004a45323",
    "execution": {
     "iopub.execute_input": "2023-09-20T11:28:47.326244Z",
     "iopub.status.busy": "2023-09-20T11:28:47.324751Z",
     "iopub.status.idle": "2023-09-20T11:28:47.422426Z",
     "shell.execute_reply": "2023-09-20T11:28:47.42094Z",
     "shell.execute_reply.started": "2023-09-20T11:28:47.326173Z"
    },
    "jupyter": {
     "outputs_hidden": false
    }
   },
   "outputs": [],
   "source": [
    "for col in df.columns:\n",
    "    \n",
    "    df[col] = df[col].str.replace('_',' ')\n",
    "df.head()"
   ]
  },
  {
   "cell_type": "markdown",
   "metadata": {
    "_cell_guid": "78557c8d-a2a0-473d-9069-42b051975473",
    "_uuid": "c6115f4c-2ede-4c40-8aa0-43295c6d1c7c",
    "papermill": {
     "duration": 0.030266,
     "end_time": "2021-08-30T15:05:17.979853",
     "exception": false,
     "start_time": "2021-08-30T15:05:17.949587",
     "status": "completed"
    },
    "tags": []
   },
   "source": [
    "**Dataset characteristics**"
   ]
  },
  {
   "cell_type": "code",
   "execution_count": null,
   "metadata": {
    "_cell_guid": "14a82079-f2b6-46ce-950b-405f2f70abb6",
    "_uuid": "beb6dbf9-da62-478a-9040-d8711b444711",
    "execution": {
     "iopub.execute_input": "2023-09-20T11:28:47.427762Z",
     "iopub.status.busy": "2023-09-20T11:28:47.427098Z",
     "iopub.status.idle": "2023-09-20T11:28:47.530002Z",
     "shell.execute_reply": "2023-09-20T11:28:47.52885Z",
     "shell.execute_reply.started": "2023-09-20T11:28:47.427711Z"
    },
    "jupyter": {
     "outputs_hidden": false
    },
    "papermill": {
     "duration": 0.139299,
     "end_time": "2021-08-30T15:05:18.145989",
     "exception": false,
     "start_time": "2021-08-30T15:05:18.00669",
     "status": "completed"
    },
    "tags": []
   },
   "outputs": [],
   "source": [
    "df.describe()"
   ]
  },
  {
   "cell_type": "markdown",
   "metadata": {
    "_cell_guid": "56f93f7e-bd47-49d6-b0dc-bfed04a0697e",
    "_uuid": "ce5418f5-54ac-43c4-a7b3-311eda5688f8",
    "papermill": {
     "duration": 0.025542,
     "end_time": "2021-08-30T15:05:18.197707",
     "exception": false,
     "start_time": "2021-08-30T15:05:18.172165",
     "status": "completed"
    },
    "tags": []
   },
   "source": [
    "**Check for null and NaN values**"
   ]
  },
  {
   "cell_type": "code",
   "execution_count": null,
   "metadata": {
    "_cell_guid": "93f88c82-f1df-490a-98a4-6ec5bb1d12b5",
    "_uuid": "03563103-4b47-410b-b357-26a8cc7dc49a",
    "execution": {
     "iopub.execute_input": "2023-09-20T11:28:47.532769Z",
     "iopub.status.busy": "2023-09-20T11:28:47.53198Z",
     "iopub.status.idle": "2023-09-20T11:28:47.57266Z",
     "shell.execute_reply": "2023-09-20T11:28:47.570833Z",
     "shell.execute_reply.started": "2023-09-20T11:28:47.532722Z"
    },
    "jupyter": {
     "outputs_hidden": false
    }
   },
   "outputs": [],
   "source": [
    "null_checker = df.apply(lambda x: sum(x.isnull())).to_frame(name='count')\n",
    "print(null_checker)"
   ]
  },
  {
   "cell_type": "code",
   "execution_count": null,
   "metadata": {
    "_cell_guid": "87008a7a-934f-41b8-8b28-34fdfa07519e",
    "_uuid": "2d7edf45-89a4-411e-80d1-57070ebf0968",
    "execution": {
     "iopub.execute_input": "2023-09-20T11:28:47.576083Z",
     "iopub.status.busy": "2023-09-20T11:28:47.57482Z",
     "iopub.status.idle": "2023-09-20T11:28:47.991341Z",
     "shell.execute_reply": "2023-09-20T11:28:47.989127Z",
     "shell.execute_reply.started": "2023-09-20T11:28:47.576024Z"
    },
    "jupyter": {
     "outputs_hidden": false
    },
    "papermill": {
     "duration": 0.044062,
     "end_time": "2021-08-30T15:05:18.267712",
     "exception": false,
     "start_time": "2021-08-30T15:05:18.22365",
     "status": "completed"
    },
    "tags": []
   },
   "outputs": [],
   "source": [
    "plt.figure(figsize=(10,5))\n",
    "plt.plot(null_checker.index, null_checker['count'])\n",
    "plt.xticks(null_checker.index, null_checker.index, rotation=45,\n",
    "horizontalalignment='right')\n",
    "plt.title('Before removing Null values')\n",
    "plt.xlabel('column names')\n",
    "plt.margins(0.1)\n",
    "plt.show()"
   ]
  },
  {
   "cell_type": "markdown",
   "metadata": {
    "_cell_guid": "898e2022-4963-4147-a4dd-673bc6ba00a7",
    "_uuid": "77184a5d-7b3a-490c-bc17-4cce50f2a0d9",
    "papermill": {
     "duration": 0.026579,
     "end_time": "2021-08-30T15:05:18.393419",
     "exception": false,
     "start_time": "2021-08-30T15:05:18.36684",
     "status": "completed"
    },
    "tags": []
   },
   "source": [
    "**Remove the trailing space from the symptom columns**"
   ]
  },
  {
   "cell_type": "code",
   "execution_count": null,
   "metadata": {
    "_cell_guid": "ed5970ec-69a3-410c-8327-f0ca6697facf",
    "_uuid": "5b215ab2-e0a9-486a-bcc5-e25add893722",
    "execution": {
     "iopub.execute_input": "2023-09-20T11:28:47.996228Z",
     "iopub.status.busy": "2023-09-20T11:28:47.994759Z",
     "iopub.status.idle": "2023-09-20T11:28:48.106789Z",
     "shell.execute_reply": "2023-09-20T11:28:48.105239Z",
     "shell.execute_reply.started": "2023-09-20T11:28:47.99612Z"
    },
    "jupyter": {
     "outputs_hidden": false
    },
    "papermill": {
     "duration": 0.097172,
     "end_time": "2021-08-30T15:05:18.517252",
     "exception": false,
     "start_time": "2021-08-30T15:05:18.42008",
     "status": "completed"
    },
    "tags": []
   },
   "outputs": [],
   "source": [
    "cols = df.columns\n",
    "data = df[cols].values.flatten()\n",
    "\n",
    "s = pd.Series(data)\n",
    "s = s.str.strip()\n",
    "s = s.values.reshape(df.shape)\n",
    "\n",
    "df = pd.DataFrame(s, columns=df.columns)\n",
    "df.head()"
   ]
  },
  {
   "cell_type": "markdown",
   "metadata": {
    "_cell_guid": "c0904d9c-c75f-4aa6-b68a-870657ee7159",
    "_uuid": "70f88710-e15c-4741-8dc7-7eab588d3009",
    "papermill": {
     "duration": 0.027747,
     "end_time": "2021-08-30T15:05:18.57314",
     "exception": false,
     "start_time": "2021-08-30T15:05:18.545393",
     "status": "completed"
    },
    "tags": []
   },
   "source": [
    "**Fill the NaN values with zero**"
   ]
  },
  {
   "cell_type": "code",
   "execution_count": null,
   "metadata": {
    "_cell_guid": "a0808f69-e215-43de-a320-c3634185edf1",
    "_uuid": "6088daf3-98bb-499d-ba1c-bd572e744676",
    "execution": {
     "iopub.execute_input": "2023-09-20T11:28:48.109169Z",
     "iopub.status.busy": "2023-09-20T11:28:48.108679Z",
     "iopub.status.idle": "2023-09-20T11:28:48.156104Z",
     "shell.execute_reply": "2023-09-20T11:28:48.154604Z",
     "shell.execute_reply.started": "2023-09-20T11:28:48.109125Z"
    },
    "jupyter": {
     "outputs_hidden": false
    },
    "papermill": {
     "duration": 0.066576,
     "end_time": "2021-08-30T15:05:18.667519",
     "exception": false,
     "start_time": "2021-08-30T15:05:18.600943",
     "status": "completed"
    },
    "tags": []
   },
   "outputs": [],
   "source": [
    "df = df.fillna(0)\n",
    "df.head()"
   ]
  },
  {
   "cell_type": "markdown",
   "metadata": {
    "_cell_guid": "f54aa1bc-3a83-4c82-80df-1522dba1993f",
    "_uuid": "93cdd318-0a70-478c-9f07-5cddcdc61dc5",
    "papermill": {
     "duration": 0.027881,
     "end_time": "2021-08-30T15:05:18.7235",
     "exception": false,
     "start_time": "2021-08-30T15:05:18.695619",
     "status": "completed"
    },
    "tags": []
   },
   "source": [
    "**Symptom severity rank**"
   ]
  },
  {
   "cell_type": "code",
   "execution_count": null,
   "metadata": {
    "_cell_guid": "1d432f5c-f8fa-4925-9fca-7be39c07c4d9",
    "_uuid": "d76fdc32-363a-4347-af14-924479214b10",
    "execution": {
     "iopub.execute_input": "2023-09-20T11:28:48.158303Z",
     "iopub.status.busy": "2023-09-20T11:28:48.157799Z",
     "iopub.status.idle": "2023-09-20T11:28:48.187348Z",
     "shell.execute_reply": "2023-09-20T11:28:48.186188Z",
     "shell.execute_reply.started": "2023-09-20T11:28:48.158261Z"
    },
    "jupyter": {
     "outputs_hidden": false
    },
    "papermill": {
     "duration": 0.04616,
     "end_time": "2021-08-30T15:05:18.797645",
     "exception": false,
     "start_time": "2021-08-30T15:05:18.751485",
     "status": "completed"
    },
    "tags": []
   },
   "outputs": [],
   "source": [
    "df1 = pd.read_csv('./Datasets/disease-symptom-description-datasets/Symptom-severity.csv')\n",
    "df1['Symptom'] = df1['Symptom'].str.replace('_',' ')\n",
    "df1.head()"
   ]
  },
  {
   "cell_type": "markdown",
   "metadata": {
    "_cell_guid": "6714dd53-5370-437e-b310-c1fab54f6ebc",
    "_uuid": "6904ea6e-ce4c-4f0b-9191-51102483967f",
    "papermill": {
     "duration": 0.028392,
     "end_time": "2021-08-30T15:05:18.854505",
     "exception": false,
     "start_time": "2021-08-30T15:05:18.826113",
     "status": "completed"
    },
    "tags": []
   },
   "source": [
    "**Get overall list of symptoms**"
   ]
  },
  {
   "cell_type": "code",
   "execution_count": null,
   "metadata": {
    "_cell_guid": "b03c9c89-9ab5-4d6d-bae1-91f7a0646a71",
    "_uuid": "e1485d20-86c0-4b22-8ae1-63af1b9cd6d3",
    "execution": {
     "iopub.execute_input": "2023-09-20T11:28:48.192246Z",
     "iopub.status.busy": "2023-09-20T11:28:48.191631Z",
     "iopub.status.idle": "2023-09-20T11:28:48.203908Z",
     "shell.execute_reply": "2023-09-20T11:28:48.202339Z",
     "shell.execute_reply.started": "2023-09-20T11:28:48.192189Z"
    },
    "jupyter": {
     "outputs_hidden": false
    },
    "papermill": {
     "duration": 0.039041,
     "end_time": "2021-08-30T15:05:18.92221",
     "exception": false,
     "start_time": "2021-08-30T15:05:18.883169",
     "status": "completed"
    },
    "tags": []
   },
   "outputs": [],
   "source": [
    "df1['Symptom'].unique()"
   ]
  },
  {
   "cell_type": "markdown",
   "metadata": {
    "_cell_guid": "61d79aed-3a85-4946-bddf-292d75d717f0",
    "_uuid": "7008e41b-15ea-4a00-bb83-d034d1ffe609",
    "papermill": {
     "duration": 0.029149,
     "end_time": "2021-08-30T15:05:18.980116",
     "exception": false,
     "start_time": "2021-08-30T15:05:18.950967",
     "status": "completed"
    },
    "tags": []
   },
   "source": [
    "**Encode symptoms in the data with the symptom rank**"
   ]
  },
  {
   "cell_type": "code",
   "execution_count": null,
   "metadata": {
    "_cell_guid": "8eff5e73-f5db-4e55-8e22-657f48e402e9",
    "_uuid": "611e9eaa-ffdb-44a3-8593-578fc62d05e6",
    "execution": {
     "iopub.execute_input": "2023-09-20T11:28:48.20661Z",
     "iopub.status.busy": "2023-09-20T11:28:48.205934Z",
     "iopub.status.idle": "2023-09-20T11:28:56.382855Z",
     "shell.execute_reply": "2023-09-20T11:28:56.381182Z",
     "shell.execute_reply.started": "2023-09-20T11:28:48.20655Z"
    },
    "jupyter": {
     "outputs_hidden": false
    },
    "papermill": {
     "duration": 0.689792,
     "end_time": "2021-08-30T15:05:19.699129",
     "exception": false,
     "start_time": "2021-08-30T15:05:19.009337",
     "status": "completed"
    },
    "tags": []
   },
   "outputs": [],
   "source": [
    "vals = df.values\n",
    "symptoms = df1['Symptom'].unique()\n",
    "\n",
    "for i in range(len(symptoms)):\n",
    "    vals[vals == symptoms[i]] = df1[df1['Symptom'] == symptoms[i]]['weight'].values[0]\n",
    "    \n",
    "d = pd.DataFrame(vals, columns=cols)\n",
    "d.head()"
   ]
  },
  {
   "cell_type": "markdown",
   "metadata": {
    "_cell_guid": "6974f7cb-a2b5-42af-a97f-d2e66b247433",
    "_uuid": "ebc80d1f-3893-427e-9dce-239e9eb417d7",
    "papermill": {
     "duration": 0.029325,
     "end_time": "2021-08-30T15:05:19.757938",
     "exception": false,
     "start_time": "2021-08-30T15:05:19.728613",
     "status": "completed"
    },
    "tags": []
   },
   "source": [
    "**Assign symptoms with no rank to zero**"
   ]
  },
  {
   "cell_type": "code",
   "execution_count": null,
   "metadata": {
    "_cell_guid": "e2302539-6fa6-4c17-9a62-08c78fff8c3b",
    "_uuid": "9cc19600-63d5-4dd5-885c-35d8a33111fa",
    "execution": {
     "iopub.execute_input": "2023-09-20T11:28:56.388407Z",
     "iopub.status.busy": "2023-09-20T11:28:56.387915Z",
     "iopub.status.idle": "2023-09-20T11:28:56.62505Z",
     "shell.execute_reply": "2023-09-20T11:28:56.623567Z",
     "shell.execute_reply.started": "2023-09-20T11:28:56.388369Z"
    },
    "jupyter": {
     "outputs_hidden": false
    },
    "papermill": {
     "duration": 0.100573,
     "end_time": "2021-08-30T15:05:19.888131",
     "exception": false,
     "start_time": "2021-08-30T15:05:19.787558",
     "status": "completed"
    },
    "tags": []
   },
   "outputs": [],
   "source": [
    "d = d.replace('dischromic  patches', 0)\n",
    "d = d.replace('spotting  urination',0)\n",
    "df = d.replace('foul smell of urine',0)\n",
    "df.head(10)"
   ]
  },
  {
   "cell_type": "markdown",
   "metadata": {
    "_cell_guid": "8fca4221-feb8-47da-88ef-1ceacc044a0d",
    "_uuid": "097e0035-b42a-4730-b9f9-fcc81adba99c",
    "papermill": {
     "duration": 0.02973,
     "end_time": "2021-08-30T15:05:19.948081",
     "exception": false,
     "start_time": "2021-08-30T15:05:19.918351",
     "status": "completed"
    },
    "tags": []
   },
   "source": [
    "**Check if entire columns have zero values so we can drop those values**"
   ]
  },
  {
   "cell_type": "code",
   "execution_count": null,
   "metadata": {
    "_cell_guid": "6cd61d74-8ce2-4ecc-91af-6150b2aa7a07",
    "_uuid": "0dd702ce-df6a-43d6-b666-6683b3a83a83",
    "execution": {
     "iopub.execute_input": "2023-09-20T11:28:56.636902Z",
     "iopub.status.busy": "2023-09-20T11:28:56.634914Z",
     "iopub.status.idle": "2023-09-20T11:28:56.664749Z",
     "shell.execute_reply": "2023-09-20T11:28:56.663368Z",
     "shell.execute_reply.started": "2023-09-20T11:28:56.636844Z"
    },
    "jupyter": {
     "outputs_hidden": false
    },
    "papermill": {
     "duration": 0.046686,
     "end_time": "2021-08-30T15:05:20.024958",
     "exception": false,
     "start_time": "2021-08-30T15:05:19.978272",
     "status": "completed"
    },
    "tags": []
   },
   "outputs": [],
   "source": [
    "null_checker = df.apply(lambda x: sum(x.isnull())).to_frame(name='count')\n",
    "print(null_checker)"
   ]
  },
  {
   "cell_type": "code",
   "execution_count": null,
   "metadata": {
    "_cell_guid": "21f77440-eb5e-4618-aea3-dc2efc707040",
    "_uuid": "2a7fd353-14a9-477a-90d9-4b2be95920f7",
    "execution": {
     "iopub.execute_input": "2023-09-20T11:28:56.667493Z",
     "iopub.status.busy": "2023-09-20T11:28:56.666978Z",
     "iopub.status.idle": "2023-09-20T11:28:56.823117Z",
     "shell.execute_reply": "2023-09-20T11:28:56.820592Z",
     "shell.execute_reply.started": "2023-09-20T11:28:56.66743Z"
    },
    "jupyter": {
     "outputs_hidden": false
    }
   },
   "outputs": [],
   "source": [
    "plt.figure(figsize=(10,5))\n",
    "plt.plot(null_checker.index, null_checker['count'])\n",
    "plt.xticks(null_checker.index, null_checker.index, rotation=45,\n",
    "horizontalalignment='right')\n",
    "plt.title('After removing Null values')\n",
    "plt.xlabel('column names')\n",
    "plt.margins(0.01)\n",
    "plt.show()"
   ]
  },
  {
   "cell_type": "code",
   "execution_count": null,
   "metadata": {
    "_cell_guid": "2fc05134-a8fd-42e6-be79-92d2c83328c4",
    "_uuid": "f0559287-b607-4bd0-a07c-93e8a144a982",
    "execution": {
     "iopub.execute_input": "2023-09-20T11:28:56.831837Z",
     "iopub.status.busy": "2023-09-20T11:28:56.830063Z",
     "iopub.status.idle": "2023-09-20T11:28:56.847862Z",
     "shell.execute_reply": "2023-09-20T11:28:56.84552Z",
     "shell.execute_reply.started": "2023-09-20T11:28:56.831738Z"
    },
    "jupyter": {
     "outputs_hidden": false
    }
   },
   "outputs": [],
   "source": [
    "print(\"Number of symptoms used to identify the disease \",len(df1['Symptom'].unique()))\n",
    "print(\"Number of diseases that can be identified \",len(df['Disease'].unique()))"
   ]
  },
  {
   "cell_type": "markdown",
   "metadata": {
    "_cell_guid": "68faa3c9-2e3d-4e3b-ad38-7bdecff9be19",
    "_uuid": "866d4ebe-823c-45c4-b725-71e4810e2bd5",
    "papermill": {
     "duration": 0.031307,
     "end_time": "2021-08-30T15:05:20.164109",
     "exception": false,
     "start_time": "2021-08-30T15:05:20.132802",
     "status": "completed"
    },
    "tags": []
   },
   "source": [
    "**Get the names of diseases from data**"
   ]
  },
  {
   "cell_type": "code",
   "execution_count": null,
   "metadata": {
    "_cell_guid": "edf05d9a-3867-462c-941e-1064a9671b47",
    "_uuid": "31370021-65d3-4a6f-a1f2-3057605bc70b",
    "execution": {
     "iopub.execute_input": "2023-09-20T11:28:56.853236Z",
     "iopub.status.busy": "2023-09-20T11:28:56.85149Z",
     "iopub.status.idle": "2023-09-20T11:28:56.870105Z",
     "shell.execute_reply": "2023-09-20T11:28:56.867591Z",
     "shell.execute_reply.started": "2023-09-20T11:28:56.853132Z"
    },
    "jupyter": {
     "outputs_hidden": false
    },
    "papermill": {
     "duration": 0.041096,
     "end_time": "2021-08-30T15:05:20.236599",
     "exception": false,
     "start_time": "2021-08-30T15:05:20.195503",
     "status": "completed"
    },
    "tags": []
   },
   "outputs": [],
   "source": [
    "df['Disease'].unique()"
   ]
  },
  {
   "cell_type": "markdown",
   "metadata": {
    "_cell_guid": "18ee0dab-0601-4f9c-b8bb-7891e041184f",
    "_uuid": "4474ec57-74c6-4dc8-ac9f-953a2b30d95f",
    "papermill": {
     "duration": 0.031128,
     "end_time": "2021-08-30T15:05:20.299065",
     "exception": false,
     "start_time": "2021-08-30T15:05:20.267937",
     "status": "completed"
    },
    "tags": []
   },
   "source": [
    "### Select the features as symptoms column and label as Disease column\n",
    "\n",
    "Explination: A **feature** is an input; **label** is an output.\n",
    "A feature is one column of the data in your input set. For instance, if you're trying to predict the type of pet someone will choose, your input features might include age, home region, family income, etc. The label is the final choice, such as dog, fish, iguana, rock, etc.\n",
    "\n",
    "Once you've trained your model, you will give it sets of new input containing those features; it will return the predicted \"label\" (pet type) for that person."
   ]
  },
  {
   "cell_type": "code",
   "execution_count": null,
   "metadata": {
    "_cell_guid": "d4ff920c-64ec-4d35-9336-fdabd0b22f1a",
    "_uuid": "29d03525-5cdc-4697-a355-65fe20426a2e",
    "execution": {
     "iopub.execute_input": "2023-09-20T11:28:56.875142Z",
     "iopub.status.busy": "2023-09-20T11:28:56.873834Z",
     "iopub.status.idle": "2023-09-20T11:28:56.893277Z",
     "shell.execute_reply": "2023-09-20T11:28:56.890835Z",
     "shell.execute_reply.started": "2023-09-20T11:28:56.875056Z"
    },
    "jupyter": {
     "outputs_hidden": false
    },
    "papermill": {
     "duration": 0.040479,
     "end_time": "2021-08-30T15:05:20.434812",
     "exception": false,
     "start_time": "2021-08-30T15:05:20.394333",
     "status": "completed"
    },
    "tags": []
   },
   "outputs": [],
   "source": [
    "data = df.iloc[:,1:].values\n",
    "labels = df['Disease'].values\n",
    "\n",
    "x_train, x_test, y_train, y_test = train_test_split(data, labels, train_size = 0.8,random_state=42)\n",
    "print(x_train.shape, x_test.shape, y_train.shape, y_test.shape)"
   ]
  },
  {
   "cell_type": "markdown",
   "metadata": {
    "_cell_guid": "7015d70f-7c62-44b8-b5e8-d1da80d267dc",
    "_uuid": "4cb981fa-26b0-4107-a048-c4051dbaa4da"
   },
   "source": [
    "### Compute the F1 score, also known as balanced F-score or F-measure.\n",
    "\n",
    "The F1 score can be interpreted as a weighted average of the precision and\n",
    "recall, where an F1 score reaches its best value at 1 and worst score at 0.\n",
    "The relative contribution of precision and recall to the F1 score are\n",
    "equal. The formula for the F1 score is\n",
    "\n",
    "    F1 = 2 * (precision * recall) / (precision + recall)"
   ]
  },
  {
   "cell_type": "markdown",
   "metadata": {
    "_cell_guid": "c5efdc06-c346-4ee6-944b-3a6d7e5c3032",
    "_uuid": "92928d82-f8a6-4499-bde3-e2488aebcc57"
   },
   "source": [
    "# Decision Tree"
   ]
  },
  {
   "cell_type": "code",
   "execution_count": null,
   "metadata": {
    "_cell_guid": "c8a9e420-8f98-4308-b367-57b113fb449c",
    "_uuid": "8bdeebe4-9432-47ee-802a-1c58244619d1",
    "execution": {
     "iopub.execute_input": "2023-09-20T11:28:56.909494Z",
     "iopub.status.busy": "2023-09-20T11:28:56.908206Z",
     "iopub.status.idle": "2023-09-20T11:28:57.449375Z",
     "shell.execute_reply": "2023-09-20T11:28:57.447855Z",
     "shell.execute_reply.started": "2023-09-20T11:28:56.90941Z"
    },
    "jupyter": {
     "outputs_hidden": false
    }
   },
   "outputs": [],
   "source": [
    "tree =DecisionTreeClassifier(criterion='gini',random_state=42,max_depth=13)\n",
    "tree.fit(x_train, y_train)\n",
    "preds=tree.predict(x_test)\n",
    "conf_mat = confusion_matrix(y_test, preds)\n",
    "df_cm = pd.DataFrame(conf_mat, index=df['Disease'].unique(), columns=df['Disease'].unique())\n",
    "print('F1-score% =', f1_score(y_test, preds, average='macro')*100, '|', 'Accuracy% =', accuracy_score(y_test, preds)*100)\n",
    "sns.heatmap(df_cm)"
   ]
  },
  {
   "cell_type": "code",
   "execution_count": null,
   "metadata": {
    "_cell_guid": "7f51eb7f-7e3a-41c5-8d8c-554e2d0d1343",
    "_uuid": "94286911-3306-458a-8f0e-a77e59ed78ea",
    "execution": {
     "iopub.execute_input": "2023-09-20T11:28:57.452496Z",
     "iopub.status.busy": "2023-09-20T11:28:57.451855Z",
     "iopub.status.idle": "2023-09-20T11:28:57.627944Z",
     "shell.execute_reply": "2023-09-20T11:28:57.626357Z",
     "shell.execute_reply.started": "2023-09-20T11:28:57.452418Z"
    },
    "jupyter": {
     "outputs_hidden": false
    }
   },
   "outputs": [],
   "source": [
    "kfold = KFold(n_splits=10,shuffle=True,random_state=42)\n",
    "DS_train =cross_val_score(tree, x_train, y_train, cv=kfold, scoring='accuracy')\n",
    "pd.DataFrame(DS_train,columns=['Scores'])\n",
    "print(\"Mean Accuracy: %.3f%%, Standard Deviation: (%.2f%%)\" % (DS_train.mean()*100.0, DS_train.std()*100.0))"
   ]
  },
  {
   "cell_type": "code",
   "execution_count": null,
   "metadata": {
    "_cell_guid": "802a24a9-7595-4dc5-891a-046cb17de946",
    "_uuid": "a15f00f5-92ab-4209-b27b-ab93dda10f70",
    "execution": {
     "iopub.execute_input": "2023-09-20T11:28:57.630447Z",
     "iopub.status.busy": "2023-09-20T11:28:57.62988Z",
     "iopub.status.idle": "2023-09-20T11:28:57.708648Z",
     "shell.execute_reply": "2023-09-20T11:28:57.706373Z",
     "shell.execute_reply.started": "2023-09-20T11:28:57.630391Z"
    },
    "jupyter": {
     "outputs_hidden": false
    }
   },
   "outputs": [],
   "source": [
    "kfold = KFold(n_splits=10,shuffle=True,random_state=42)\n",
    "DS_test =cross_val_score(tree, x_test, y_test, cv=kfold, scoring='accuracy')\n",
    "pd.DataFrame(DS_test,columns=['Scores'])\n",
    "print(\"Mean Accuracy: %.3f%%, Standard Deviation: (%.2f%%)\" % (DS_test.mean()*100.0, DS_test.std()*100.0))"
   ]
  },
  {
   "cell_type": "markdown",
   "metadata": {
    "_cell_guid": "af666bda-8bd8-48c2-895b-1494e3fc10ab",
    "_uuid": "5e8264a7-caca-46f5-9dc8-910373c6757c"
   },
   "source": [
    "# Random Forest"
   ]
  },
  {
   "cell_type": "code",
   "execution_count": null,
   "metadata": {
    "_cell_guid": "a870e5f4-9438-4b74-b89a-7d308a8b4d5d",
    "_uuid": "7d7019c6-586d-4903-ac8b-bd66ebb32ae3",
    "execution": {
     "iopub.execute_input": "2023-09-20T11:28:57.712667Z",
     "iopub.status.busy": "2023-09-20T11:28:57.712007Z",
     "iopub.status.idle": "2023-09-20T11:28:57.719521Z",
     "shell.execute_reply": "2023-09-20T11:28:57.71828Z",
     "shell.execute_reply.started": "2023-09-20T11:28:57.712605Z"
    },
    "jupyter": {
     "outputs_hidden": false
    }
   },
   "outputs": [],
   "source": [
    "rfc=RandomForestClassifier(random_state=42)"
   ]
  },
  {
   "cell_type": "code",
   "execution_count": null,
   "metadata": {
    "_cell_guid": "1855177b-822b-46b7-bc97-e962af727a04",
    "_uuid": "a563b409-5026-4353-97a9-30f95eff42eb",
    "execution": {
     "iopub.execute_input": "2023-09-20T12:02:27.323601Z",
     "iopub.status.busy": "2023-09-20T12:02:27.322903Z",
     "iopub.status.idle": "2023-09-20T12:02:30.589611Z",
     "shell.execute_reply": "2023-09-20T12:02:30.588206Z",
     "shell.execute_reply.started": "2023-09-20T12:02:27.323547Z"
    },
    "jupyter": {
     "outputs_hidden": false
    }
   },
   "outputs": [],
   "source": [
    "rnd_forest = RandomForestClassifier(random_state=42, max_features='sqrt', n_estimators= 500, max_depth=13)\n",
    "rnd_forest.fit(x_train,y_train)\n",
    "preds=rnd_forest.predict(x_test)\n",
    "print(x_test[0])\n",
    "print(preds[0])\n",
    "conf_mat = confusion_matrix(y_test, preds)\n",
    "df_cm = pd.DataFrame(conf_mat, index=df['Disease'].unique(), columns=df['Disease'].unique())\n",
    "print('F1-score% =', f1_score(y_test, preds, average='macro')*100, '|', 'Accuracy% =', accuracy_score(y_test, preds)*100)\n",
    "sns.heatmap(df_cm)"
   ]
  },
  {
   "cell_type": "code",
   "execution_count": null,
   "metadata": {
    "_cell_guid": "8e5a217d-4e05-41d8-b381-a1f8f583cd8a",
    "_uuid": "cb0b2ccc-9359-410a-92b8-5636c44bf917",
    "execution": {
     "iopub.execute_input": "2023-09-20T11:29:00.583372Z",
     "iopub.status.busy": "2023-09-20T11:29:00.582931Z",
     "iopub.status.idle": "2023-09-20T11:29:22.642974Z",
     "shell.execute_reply": "2023-09-20T11:29:22.641627Z",
     "shell.execute_reply.started": "2023-09-20T11:29:00.583334Z"
    },
    "jupyter": {
     "outputs_hidden": false
    }
   },
   "outputs": [],
   "source": [
    "kfold = KFold(n_splits=10,shuffle=True,random_state=42)\n",
    "rnd_forest_train =cross_val_score(rnd_forest, x_train, y_train, cv=kfold, scoring='accuracy')\n",
    "pd.DataFrame(rnd_forest_train,columns=['Scores'])\n",
    "print(\"Mean Accuracy: %.3f%%, Standard Deviation: (%.2f%%)\" % (rnd_forest_train.mean()*100.0, rnd_forest_train.std()*100.0))"
   ]
  },
  {
   "cell_type": "code",
   "execution_count": null,
   "metadata": {
    "_cell_guid": "e5600f7a-2c8d-4c49-8985-09cd92221103",
    "_uuid": "d4e1bcaa-15d3-4e39-8cb4-7a1cf7ec1d3b",
    "execution": {
     "iopub.execute_input": "2023-09-20T11:29:22.645226Z",
     "iopub.status.busy": "2023-09-20T11:29:22.644772Z",
     "iopub.status.idle": "2023-09-20T11:29:36.505935Z",
     "shell.execute_reply": "2023-09-20T11:29:36.504642Z",
     "shell.execute_reply.started": "2023-09-20T11:29:22.645183Z"
    },
    "jupyter": {
     "outputs_hidden": false
    }
   },
   "outputs": [],
   "source": [
    "kfold = KFold(n_splits=10,shuffle=True,random_state=42)\n",
    "rnd_forest_test =cross_val_score(rnd_forest, x_test, y_test, cv=kfold, scoring='accuracy')\n",
    "pd.DataFrame(rnd_forest_test,columns=['Scores'])\n",
    "print(\"Mean Accuracy: %.3f%%, Standard Deviation: (%.2f%%)\" % (rnd_forest_test.mean()*100.0, rnd_forest_test.std()*100.0))"
   ]
  },
  {
   "cell_type": "markdown",
   "metadata": {
    "_cell_guid": "aeba95ef-c8a6-46af-a930-cf045c02e675",
    "_uuid": "5af59942-b60d-40df-ae17-91d7acddec12"
   },
   "source": [
    "# Fucntion to manually test the models"
   ]
  },
  {
   "cell_type": "code",
   "execution_count": null,
   "metadata": {
    "_cell_guid": "61419045-cc8e-40c8-8c88-5d8b996350cf",
    "_uuid": "54c4be9e-befc-42eb-94d6-2fb759cee77c",
    "execution": {
     "iopub.execute_input": "2023-09-20T11:29:36.508932Z",
     "iopub.status.busy": "2023-09-20T11:29:36.50798Z",
     "iopub.status.idle": "2023-09-20T11:29:36.535403Z",
     "shell.execute_reply": "2023-09-20T11:29:36.533868Z",
     "shell.execute_reply.started": "2023-09-20T11:29:36.508874Z"
    },
    "jupyter": {
     "outputs_hidden": false
    }
   },
   "outputs": [],
   "source": [
    "discrp = pd.read_csv(\"./DataSets/disease-symptom-description-datasets/symptom_Description.csv\")"
   ]
  },
  {
   "cell_type": "code",
   "execution_count": null,
   "metadata": {
    "_cell_guid": "545b91a9-1693-4853-a367-e3137713e82b",
    "_uuid": "1bc7d645-87fb-4356-a8de-c92e30e54895",
    "execution": {
     "iopub.execute_input": "2023-09-20T11:29:36.538413Z",
     "iopub.status.busy": "2023-09-20T11:29:36.537345Z",
     "iopub.status.idle": "2023-09-20T11:29:36.551994Z",
     "shell.execute_reply": "2023-09-20T11:29:36.550735Z",
     "shell.execute_reply.started": "2023-09-20T11:29:36.538365Z"
    },
    "jupyter": {
     "outputs_hidden": false
    }
   },
   "outputs": [],
   "source": [
    "discrp.head()"
   ]
  },
  {
   "cell_type": "code",
   "execution_count": null,
   "metadata": {
    "_cell_guid": "f24fad20-368d-4f93-9dc4-a4f84012a926",
    "_uuid": "e6e8db22-b8a4-4c00-bcb3-1cc6c1684c4b",
    "execution": {
     "iopub.execute_input": "2023-09-20T11:29:36.554697Z",
     "iopub.status.busy": "2023-09-20T11:29:36.553874Z",
     "iopub.status.idle": "2023-09-20T11:29:36.581198Z",
     "shell.execute_reply": "2023-09-20T11:29:36.578274Z",
     "shell.execute_reply.started": "2023-09-20T11:29:36.554648Z"
    },
    "jupyter": {
     "outputs_hidden": false
    }
   },
   "outputs": [],
   "source": [
    "ektra7at = pd.read_csv(\"./DataSets/disease-symptom-description-datasets/symptom_precaution.csv\")"
   ]
  },
  {
   "cell_type": "code",
   "execution_count": null,
   "metadata": {
    "_cell_guid": "7b8a4127-1444-444c-8667-d98fd3f73308",
    "_uuid": "9927446e-9fb7-46b7-bd04-eaf2fd84d808",
    "execution": {
     "iopub.execute_input": "2023-09-20T11:29:36.584855Z",
     "iopub.status.busy": "2023-09-20T11:29:36.584056Z",
     "iopub.status.idle": "2023-09-20T11:29:36.603513Z",
     "shell.execute_reply": "2023-09-20T11:29:36.601582Z",
     "shell.execute_reply.started": "2023-09-20T11:29:36.584799Z"
    },
    "jupyter": {
     "outputs_hidden": false
    }
   },
   "outputs": [],
   "source": [
    "ektra7at.head()"
   ]
  },
  {
   "cell_type": "markdown",
   "metadata": {
    "_cell_guid": "b330842d-c161-47a4-bd14-f47f88acac08",
    "_uuid": "e83f6bd5-f387-417f-b4df-47c39fc5a178"
   },
   "source": [
    "**Save Random Forest model**"
   ]
  },
  {
   "cell_type": "code",
   "execution_count": null,
   "metadata": {
    "_cell_guid": "2143c8d3-dc55-48ce-90b2-e0de4980e7ee",
    "_uuid": "ab6f91a4-ae17-4c3e-959d-7ad4cba854fa",
    "execution": {
     "iopub.execute_input": "2023-09-20T11:29:36.606227Z",
     "iopub.status.busy": "2023-09-20T11:29:36.605726Z",
     "iopub.status.idle": "2023-09-20T11:29:36.625299Z",
     "shell.execute_reply": "2023-09-20T11:29:36.623799Z",
     "shell.execute_reply.started": "2023-09-20T11:29:36.606185Z"
    },
    "jupyter": {
     "outputs_hidden": false
    }
   },
   "outputs": [],
   "source": [
    "# save\n",
    "joblib.dump(rfc, \"random_forest.joblib\")"
   ]
  },
  {
   "cell_type": "markdown",
   "metadata": {
    "_cell_guid": "373dfe35-5c91-48c0-80ea-a2d1ae113e4c",
    "_uuid": "189ddab0-93bb-4682-8e24-578ab2b85930"
   },
   "source": [
    "**Load Model**"
   ]
  },
  {
   "cell_type": "code",
   "execution_count": null,
   "metadata": {
    "_cell_guid": "460e6559-3ae6-4799-b2ed-f1e4e48f9845",
    "_uuid": "bf5eceec-92cc-4661-84ed-909d840b4e6c",
    "execution": {
     "iopub.execute_input": "2023-09-20T11:29:36.628826Z",
     "iopub.status.busy": "2023-09-20T11:29:36.628116Z",
     "iopub.status.idle": "2023-09-20T11:29:36.638389Z",
     "shell.execute_reply": "2023-09-20T11:29:36.636873Z",
     "shell.execute_reply.started": "2023-09-20T11:29:36.628749Z"
    },
    "jupyter": {
     "outputs_hidden": false
    }
   },
   "outputs": [],
   "source": [
    "# load, no need to initialize the loaded_rf\n",
    "loaded_rf = joblib.load(\"random_forest.joblib\")"
   ]
  },
  {
   "cell_type": "code",
   "execution_count": null,
   "metadata": {
    "_cell_guid": "86411b8b-e2db-4aa1-aec0-54b5c01a7164",
    "_uuid": "ecd6419c-ca99-4a9b-8b41-aba85f917eba",
    "execution": {
     "iopub.execute_input": "2023-09-20T11:29:36.642168Z",
     "iopub.status.busy": "2023-09-20T11:29:36.640366Z",
     "iopub.status.idle": "2023-09-20T11:29:36.663439Z",
     "shell.execute_reply": "2023-09-20T11:29:36.661575Z",
     "shell.execute_reply.started": "2023-09-20T11:29:36.642093Z"
    },
    "jupyter": {
     "outputs_hidden": false
    }
   },
   "outputs": [],
   "source": [
    "def predd(x,S1,S2,S3,S4,S5,S6,S7,S8,S9,S10,S11,S12,S13,S14,S15,S16,S17):\n",
    "    psymptoms = [S1,S2,S3,S4,S5,S6,S7,S8,S9,S10,S11,S12,S13,S14,S15,S16,S17]\n",
    "    #print(psymptoms)\n",
    "    a = np.array(df1[\"Symptom\"])\n",
    "    b = np.array(df1[\"weight\"])\n",
    "    for j in range(len(psymptoms)):\n",
    "        for k in range(len(a)):\n",
    "            if psymptoms[j]==a[k]:\n",
    "                psymptoms[j]=b[k]\n",
    "    psy = [psymptoms]\n",
    "    pred2 = x.predict(psy)\n",
    "    disp= discrp[discrp['Disease']==pred2[0]]\n",
    "    disp = disp.values[0][1]\n",
    "    recomnd = ektra7at[ektra7at['Disease']==pred2[0]]\n",
    "    c=np.where(ektra7at['Disease']==pred2[0])[0][0]\n",
    "    precuation_list=[]\n",
    "    for i in range(1,len(ektra7at.iloc[c])):\n",
    "          precuation_list.append(ektra7at.iloc[c,i])\n",
    "    print(\"The Disease Name: \",pred2[0])\n",
    "    print(\"The Disease Discription: \",disp)\n",
    "    print(\"Recommended Things to do at home: \")\n",
    "    for i in precuation_list:\n",
    "        print(i)"
   ]
  },
  {
   "cell_type": "markdown",
   "metadata": {
    "_cell_guid": "7717f738-4f1c-4128-809f-f781c37c2a8b",
    "_uuid": "23b095ae-c494-4fa2-aac6-49f5d89f6f3d"
   },
   "source": [
    "# Comparison between algorithms testing and training"
   ]
  },
  {
   "cell_type": "code",
   "execution_count": null,
   "metadata": {
    "_cell_guid": "0be53a08-6835-4653-8540-5661f4f03160",
    "_uuid": "eb223f60-ec21-4430-81b5-ba1078b4317f",
    "execution": {
     "iopub.execute_input": "2023-09-20T11:29:36.666703Z",
     "iopub.status.busy": "2023-09-20T11:29:36.665689Z",
     "iopub.status.idle": "2023-09-20T11:29:36.679315Z",
     "shell.execute_reply": "2023-09-20T11:29:36.677516Z",
     "shell.execute_reply.started": "2023-09-20T11:29:36.666643Z"
    },
    "jupyter": {
     "outputs_hidden": false
    }
   },
   "outputs": [],
   "source": [
    "n_groups = 2\n",
    "algorithms = ('Decision Tree', 'Random Forest')\n",
    "train_accuracy = (DS_train.mean()*100.0,\n",
    "                 rnd_forest_train.mean()*100.0,)"
   ]
  },
  {
   "cell_type": "code",
   "execution_count": null,
   "metadata": {
    "_cell_guid": "e19bac66-130a-4381-a93d-6d571d054230",
    "_uuid": "6ff6e50e-c79e-45d2-ad71-a96a2e6fa12c",
    "execution": {
     "iopub.execute_input": "2023-09-20T11:29:36.682975Z",
     "iopub.status.busy": "2023-09-20T11:29:36.681651Z",
     "iopub.status.idle": "2023-09-20T11:29:36.692024Z",
     "shell.execute_reply": "2023-09-20T11:29:36.690412Z",
     "shell.execute_reply.started": "2023-09-20T11:29:36.68291Z"
    },
    "jupyter": {
     "outputs_hidden": false
    }
   },
   "outputs": [],
   "source": [
    "test_accuracy = (DS_test.mean()*100.0,\n",
    "                 rnd_forest_test.mean()*100.0)"
   ]
  },
  {
   "cell_type": "code",
   "execution_count": null,
   "metadata": {
    "_cell_guid": "e98f3945-4dd1-4d10-8fbb-83b24a389ab0",
    "_uuid": "4a74952f-39ba-4400-a06a-a2e3452e20c3",
    "execution": {
     "iopub.execute_input": "2023-09-20T11:29:36.695206Z",
     "iopub.status.busy": "2023-09-20T11:29:36.694409Z",
     "iopub.status.idle": "2023-09-20T11:29:36.706486Z",
     "shell.execute_reply": "2023-09-20T11:29:36.704564Z",
     "shell.execute_reply.started": "2023-09-20T11:29:36.695141Z"
    },
    "jupyter": {
     "outputs_hidden": false
    }
   },
   "outputs": [],
   "source": [
    "Standard_Deviation=(DS_test.std()*100.0,     \n",
    "                 rnd_forest_test.std()*100.0)"
   ]
  },
  {
   "cell_type": "code",
   "execution_count": null,
   "metadata": {
    "_cell_guid": "0fc8784f-61b9-4c0e-abfb-b670954358a9",
    "_uuid": "0b3df1e1-37b1-4c10-b371-f845a6bb1c68",
    "execution": {
     "iopub.execute_input": "2023-09-20T11:29:36.710555Z",
     "iopub.status.busy": "2023-09-20T11:29:36.709355Z",
     "iopub.status.idle": "2023-09-20T11:29:36.883793Z",
     "shell.execute_reply": "2023-09-20T11:29:36.881819Z",
     "shell.execute_reply.started": "2023-09-20T11:29:36.710487Z"
    },
    "jupyter": {
     "outputs_hidden": false
    }
   },
   "outputs": [],
   "source": [
    "# create plot\n",
    "fig, ax = plt.subplots(figsize=(15, 10))\n",
    "index = np.arange(n_groups)\n",
    "bar_width = 0.3\n",
    "opacity = 1\n",
    "rects1 = plt.bar(index, train_accuracy, bar_width, alpha = opacity, color='Cornflowerblue', label='Train')\n",
    "rects2 = plt.bar(index + bar_width, test_accuracy, bar_width, alpha = opacity, color='Teal', label='Test')\n",
    "rects3 = plt.bar(index + bar_width, Standard_Deviation, bar_width, alpha = opacity, color='red', label='Standard Deviation')\n",
    "plt.xlabel('Algorithm') # x axis label\n",
    "plt.ylabel('Accuracy (%)') # y axis label\n",
    "plt.ylim(0, 115)\n",
    "plt.title('Comparison of Algorithm Accuracies') # plot title\n",
    "plt.xticks(index + bar_width * 0.5, algorithms) # x axis data labels\n",
    "plt.legend(loc = 'upper right') # show legend\n",
    "for index, data in enumerate(train_accuracy):\n",
    "    plt.text(x = index - 0.035, y = data + 1, s = round(data, 2), fontdict = dict(fontsize = 8))\n",
    "for index, data in enumerate(test_accuracy):\n",
    "    plt.text(x = index + 0.25, y = data + 1, s = round(data, 2), fontdict = dict(fontsize = 8))\n",
    "for index, data in enumerate(Standard_Deviation):\n",
    "    plt.text(x = index + 0.25, y = data + 1, s = round(data, 2), fontdict = dict(fontsize = 8))"
   ]
  },
  {
   "cell_type": "markdown",
   "metadata": {
    "_cell_guid": "6a625d4b-687e-4c3c-8622-9515ec5e5f0a",
    "_uuid": "41179faa-8b0e-4edf-8b4c-406149c3ebc6"
   },
   "source": [
    "**Test it Like The user would do**"
   ]
  },
  {
   "cell_type": "code",
   "execution_count": null,
   "metadata": {
    "_cell_guid": "b1f012be-7f47-4bbb-9b8b-d666c2288832",
    "_uuid": "14175d0b-987f-40e0-92be-4160621ca228",
    "execution": {
     "iopub.execute_input": "2023-09-20T11:29:36.888101Z",
     "iopub.status.busy": "2023-09-20T11:29:36.88681Z",
     "iopub.status.idle": "2023-09-20T11:29:37.000599Z",
     "shell.execute_reply": "2023-09-20T11:29:36.997956Z",
     "shell.execute_reply.started": "2023-09-20T11:29:36.888016Z"
    },
    "jupyter": {
     "outputs_hidden": false
    }
   },
   "outputs": [],
   "source": [
    "sympList=df1[\"Symptom\"].to_list()\n",
    "predd(rnd_forest,sympList[7],sympList[5],sympList[2],sympList[80],0,0,0,0,0,0,0,0,0,0,0,0,0)"
   ]
  },
  {
   "cell_type": "code",
   "execution_count": null,
   "metadata": {
    "_cell_guid": "e07e9315-d0da-48d7-a131-9c4b8b54a171",
    "_uuid": "7aacd624-d3ba-4dc0-912e-794edf07a115",
    "jupyter": {
     "outputs_hidden": false
    }
   },
   "outputs": [],
   "source": []
  }
 ],
 "metadata": {
  "kaggle": {
   "accelerator": "none",
   "dataSources": [
    {
     "datasetId": 672162,
     "sourceId": 1182853,
     "sourceType": "datasetVersion"
    }
   ],
   "dockerImageVersionId": 30301,
   "isGpuEnabled": false,
   "isInternetEnabled": false,
   "language": "python",
   "sourceType": "notebook"
  },
  "kernelspec": {
   "display_name": "Python 3 (ipykernel)",
   "language": "python",
   "name": "python3"
  },
  "language_info": {
   "codemirror_mode": {
    "name": "ipython",
    "version": 3
   },
   "file_extension": ".py",
   "mimetype": "text/x-python",
   "name": "python",
   "nbconvert_exporter": "python",
   "pygments_lexer": "ipython3",
   "version": "3.9.13"
  }
 },
 "nbformat": 4,
 "nbformat_minor": 4
}
