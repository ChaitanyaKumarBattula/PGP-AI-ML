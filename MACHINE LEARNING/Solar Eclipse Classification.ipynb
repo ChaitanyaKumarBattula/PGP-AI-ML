{
 "cells": [
  {
   "cell_type": "markdown",
   "metadata": {
    "id": "HuVadOIHK7_P"
   },
   "source": [
    "# Solar Eclipse Classification"
   ]
  },
  {
   "cell_type": "code",
   "execution_count": 1,
   "metadata": {
    "id": "GQP44HQiBl1h"
   },
   "outputs": [],
   "source": [
    "import numpy as np\n",
    "import pandas as pd\n",
    "import seaborn as sns\n",
    "import matplotlib.pyplot as plt\n",
    "\n",
    "from datetime import timedelta\n",
    "import re\n",
    "from sklearn.metrics import accuracy_score\n",
    "from datetime import datetime"
   ]
  },
  {
   "cell_type": "code",
   "execution_count": 2,
   "metadata": {
    "id": "aSAVs10gB2P3"
   },
   "outputs": [
    {
     "data": {
      "text/html": [
       "<div>\n",
       "<style scoped>\n",
       "    .dataframe tbody tr th:only-of-type {\n",
       "        vertical-align: middle;\n",
       "    }\n",
       "\n",
       "    .dataframe tbody tr th {\n",
       "        vertical-align: top;\n",
       "    }\n",
       "\n",
       "    .dataframe thead th {\n",
       "        text-align: right;\n",
       "    }\n",
       "</style>\n",
       "<table border=\"1\" class=\"dataframe\">\n",
       "  <thead>\n",
       "    <tr style=\"text-align: right;\">\n",
       "      <th></th>\n",
       "      <th>Unnamed: 0</th>\n",
       "      <th>Catalog Number</th>\n",
       "      <th>Calendar Date</th>\n",
       "      <th>Eclipse Time</th>\n",
       "      <th>Delta T (s)</th>\n",
       "      <th>Lunation Number</th>\n",
       "      <th>Saros Number</th>\n",
       "      <th>Eclipse Type</th>\n",
       "      <th>Gamma</th>\n",
       "      <th>Eclipse Magnitude</th>\n",
       "      <th>Latitude</th>\n",
       "      <th>Longitude</th>\n",
       "      <th>Sun Altitude</th>\n",
       "      <th>Sun Azimuth</th>\n",
       "      <th>Path Width (km)</th>\n",
       "      <th>Central Duration</th>\n",
       "    </tr>\n",
       "  </thead>\n",
       "  <tbody>\n",
       "    <tr>\n",
       "      <th>0</th>\n",
       "      <td>0</td>\n",
       "      <td>1</td>\n",
       "      <td>-1999 June 12</td>\n",
       "      <td>3:14:51</td>\n",
       "      <td>NaN</td>\n",
       "      <td>-49456</td>\n",
       "      <td>NaN</td>\n",
       "      <td>T</td>\n",
       "      <td>NaN</td>\n",
       "      <td>NaN</td>\n",
       "      <td>6.0N</td>\n",
       "      <td>33.3W</td>\n",
       "      <td>NaN</td>\n",
       "      <td>344</td>\n",
       "      <td>247</td>\n",
       "      <td>06m37s</td>\n",
       "    </tr>\n",
       "    <tr>\n",
       "      <th>1</th>\n",
       "      <td>1</td>\n",
       "      <td>2</td>\n",
       "      <td>-1999 December 5</td>\n",
       "      <td>23:45:23</td>\n",
       "      <td>46426.0</td>\n",
       "      <td>-49450</td>\n",
       "      <td>10.0</td>\n",
       "      <td>A</td>\n",
       "      <td>-0.2317</td>\n",
       "      <td>0.9382</td>\n",
       "      <td>32.9S</td>\n",
       "      <td>10.8E</td>\n",
       "      <td>76.0</td>\n",
       "      <td>21</td>\n",
       "      <td>236</td>\n",
       "      <td>06m44s</td>\n",
       "    </tr>\n",
       "    <tr>\n",
       "      <th>2</th>\n",
       "      <td>2</td>\n",
       "      <td>3</td>\n",
       "      <td>-1998 June 1</td>\n",
       "      <td>18:09:16</td>\n",
       "      <td>46415.0</td>\n",
       "      <td>-49444</td>\n",
       "      <td>15.0</td>\n",
       "      <td>T</td>\n",
       "      <td>0.4994</td>\n",
       "      <td>1.0284</td>\n",
       "      <td>46.2N</td>\n",
       "      <td>83.4E</td>\n",
       "      <td>60.0</td>\n",
       "      <td>151</td>\n",
       "      <td>111</td>\n",
       "      <td>02m15s</td>\n",
       "    </tr>\n",
       "    <tr>\n",
       "      <th>3</th>\n",
       "      <td>3</td>\n",
       "      <td>4</td>\n",
       "      <td>-1998 November 25</td>\n",
       "      <td>5:57:03</td>\n",
       "      <td>46403.0</td>\n",
       "      <td>-49438</td>\n",
       "      <td>20.0</td>\n",
       "      <td>A</td>\n",
       "      <td>-0.9045</td>\n",
       "      <td>0.9806</td>\n",
       "      <td>67.8S</td>\n",
       "      <td>143.8W</td>\n",
       "      <td>25.0</td>\n",
       "      <td>74</td>\n",
       "      <td>162</td>\n",
       "      <td>01m14s</td>\n",
       "    </tr>\n",
       "    <tr>\n",
       "      <th>4</th>\n",
       "      <td>4</td>\n",
       "      <td>5</td>\n",
       "      <td>-1997 April 22</td>\n",
       "      <td>13:19:56</td>\n",
       "      <td>46393.0</td>\n",
       "      <td>-49433</td>\n",
       "      <td>-13.0</td>\n",
       "      <td>P</td>\n",
       "      <td>-1.4670</td>\n",
       "      <td>0.1611</td>\n",
       "      <td>60.6S</td>\n",
       "      <td>106.4W</td>\n",
       "      <td>0.0</td>\n",
       "      <td>281</td>\n",
       "      <td>NaN</td>\n",
       "      <td>NaN</td>\n",
       "    </tr>\n",
       "    <tr>\n",
       "      <th>...</th>\n",
       "      <td>...</td>\n",
       "      <td>...</td>\n",
       "      <td>...</td>\n",
       "      <td>...</td>\n",
       "      <td>...</td>\n",
       "      <td>...</td>\n",
       "      <td>...</td>\n",
       "      <td>...</td>\n",
       "      <td>...</td>\n",
       "      <td>...</td>\n",
       "      <td>...</td>\n",
       "      <td>...</td>\n",
       "      <td>...</td>\n",
       "      <td>...</td>\n",
       "      <td>...</td>\n",
       "      <td>...</td>\n",
       "    </tr>\n",
       "    <tr>\n",
       "      <th>9513</th>\n",
       "      <td>9513</td>\n",
       "      <td>9514</td>\n",
       "      <td>2002 December 4</td>\n",
       "      <td>7:32:16</td>\n",
       "      <td>64.0</td>\n",
       "      <td>36</td>\n",
       "      <td>142.0</td>\n",
       "      <td>T</td>\n",
       "      <td>-0.3020</td>\n",
       "      <td>1.0244</td>\n",
       "      <td>39.5S</td>\n",
       "      <td>59.6E</td>\n",
       "      <td>72.0</td>\n",
       "      <td>16</td>\n",
       "      <td>87</td>\n",
       "      <td>02m04s</td>\n",
       "    </tr>\n",
       "    <tr>\n",
       "      <th>9514</th>\n",
       "      <td>9514</td>\n",
       "      <td>9515</td>\n",
       "      <td>2003 May 31</td>\n",
       "      <td>4:09:22</td>\n",
       "      <td>64.0</td>\n",
       "      <td>42</td>\n",
       "      <td>147.0</td>\n",
       "      <td>An</td>\n",
       "      <td>0.9960</td>\n",
       "      <td>0.9384</td>\n",
       "      <td>66.6N</td>\n",
       "      <td>24.5W</td>\n",
       "      <td>3.0</td>\n",
       "      <td>35</td>\n",
       "      <td>-</td>\n",
       "      <td>03m37s</td>\n",
       "    </tr>\n",
       "    <tr>\n",
       "      <th>9515</th>\n",
       "      <td>9515</td>\n",
       "      <td>9516</td>\n",
       "      <td>2003 November 23</td>\n",
       "      <td>22:50:22</td>\n",
       "      <td>64.0</td>\n",
       "      <td>48</td>\n",
       "      <td>152.0</td>\n",
       "      <td>T</td>\n",
       "      <td>-0.9638</td>\n",
       "      <td>1.0379</td>\n",
       "      <td>72.7S</td>\n",
       "      <td>88.4E</td>\n",
       "      <td>15.0</td>\n",
       "      <td>111</td>\n",
       "      <td>495</td>\n",
       "      <td>01m57s</td>\n",
       "    </tr>\n",
       "    <tr>\n",
       "      <th>9516</th>\n",
       "      <td>9516</td>\n",
       "      <td>9517</td>\n",
       "      <td>2004 April 19</td>\n",
       "      <td>13:35:05</td>\n",
       "      <td>65.0</td>\n",
       "      <td>53</td>\n",
       "      <td>119.0</td>\n",
       "      <td>P</td>\n",
       "      <td>-1.1335</td>\n",
       "      <td>0.7367</td>\n",
       "      <td>61.6S</td>\n",
       "      <td>44.3E</td>\n",
       "      <td>0.0</td>\n",
       "      <td>295</td>\n",
       "      <td>NaN</td>\n",
       "      <td>NaN</td>\n",
       "    </tr>\n",
       "    <tr>\n",
       "      <th>9517</th>\n",
       "      <td>9517</td>\n",
       "      <td>9518</td>\n",
       "      <td>2004 October 14</td>\n",
       "      <td>3:00:23</td>\n",
       "      <td>65.0</td>\n",
       "      <td>59</td>\n",
       "      <td>124.0</td>\n",
       "      <td>P</td>\n",
       "      <td>1.0348</td>\n",
       "      <td>0.9282</td>\n",
       "      <td>61.2N</td>\n",
       "      <td>153.7W</td>\n",
       "      <td>0.0</td>\n",
       "      <td>253</td>\n",
       "      <td>NaN</td>\n",
       "      <td>NaN</td>\n",
       "    </tr>\n",
       "  </tbody>\n",
       "</table>\n",
       "<p>9518 rows × 16 columns</p>\n",
       "</div>"
      ],
      "text/plain": [
       "      Unnamed: 0  Catalog Number      Calendar Date Eclipse Time  Delta T (s)  \\\n",
       "0              0               1      -1999 June 12      3:14:51          NaN   \n",
       "1              1               2   -1999 December 5     23:45:23      46426.0   \n",
       "2              2               3       -1998 June 1     18:09:16      46415.0   \n",
       "3              3               4  -1998 November 25      5:57:03      46403.0   \n",
       "4              4               5     -1997 April 22     13:19:56      46393.0   \n",
       "...          ...             ...                ...          ...          ...   \n",
       "9513        9513            9514    2002 December 4      7:32:16         64.0   \n",
       "9514        9514            9515        2003 May 31      4:09:22         64.0   \n",
       "9515        9515            9516   2003 November 23     22:50:22         64.0   \n",
       "9516        9516            9517      2004 April 19     13:35:05         65.0   \n",
       "9517        9517            9518    2004 October 14      3:00:23         65.0   \n",
       "\n",
       "      Lunation Number  Saros Number Eclipse Type   Gamma  Eclipse Magnitude  \\\n",
       "0              -49456           NaN            T     NaN                NaN   \n",
       "1              -49450          10.0            A -0.2317             0.9382   \n",
       "2              -49444          15.0            T  0.4994             1.0284   \n",
       "3              -49438          20.0            A -0.9045             0.9806   \n",
       "4              -49433         -13.0            P -1.4670             0.1611   \n",
       "...               ...           ...          ...     ...                ...   \n",
       "9513               36         142.0            T -0.3020             1.0244   \n",
       "9514               42         147.0           An  0.9960             0.9384   \n",
       "9515               48         152.0            T -0.9638             1.0379   \n",
       "9516               53         119.0            P -1.1335             0.7367   \n",
       "9517               59         124.0            P  1.0348             0.9282   \n",
       "\n",
       "     Latitude Longitude  Sun Altitude  Sun Azimuth Path Width (km)  \\\n",
       "0        6.0N     33.3W           NaN          344             247   \n",
       "1       32.9S     10.8E          76.0           21             236   \n",
       "2       46.2N     83.4E          60.0          151             111   \n",
       "3       67.8S    143.8W          25.0           74             162   \n",
       "4       60.6S    106.4W           0.0          281             NaN   \n",
       "...       ...       ...           ...          ...             ...   \n",
       "9513    39.5S     59.6E          72.0           16              87   \n",
       "9514    66.6N     24.5W           3.0           35               -   \n",
       "9515    72.7S     88.4E          15.0          111             495   \n",
       "9516    61.6S     44.3E           0.0          295             NaN   \n",
       "9517    61.2N    153.7W           0.0          253             NaN   \n",
       "\n",
       "     Central Duration  \n",
       "0              06m37s  \n",
       "1              06m44s  \n",
       "2              02m15s  \n",
       "3              01m14s  \n",
       "4                 NaN  \n",
       "...               ...  \n",
       "9513           02m04s  \n",
       "9514           03m37s  \n",
       "9515           01m57s  \n",
       "9516              NaN  \n",
       "9517              NaN  \n",
       "\n",
       "[9518 rows x 16 columns]"
      ]
     },
     "execution_count": 2,
     "metadata": {},
     "output_type": "execute_result"
    }
   ],
   "source": [
    "train_df=pd.read_csv(\"../DataSets/Solar-Eclipse/train.csv\")\n",
    "train_df"
   ]
  },
  {
   "cell_type": "code",
   "execution_count": 3,
   "metadata": {
    "id": "V6G1Yl3lCKY-"
   },
   "outputs": [
    {
     "data": {
      "text/html": [
       "<div>\n",
       "<style scoped>\n",
       "    .dataframe tbody tr th:only-of-type {\n",
       "        vertical-align: middle;\n",
       "    }\n",
       "\n",
       "    .dataframe tbody tr th {\n",
       "        vertical-align: top;\n",
       "    }\n",
       "\n",
       "    .dataframe thead th {\n",
       "        text-align: right;\n",
       "    }\n",
       "</style>\n",
       "<table border=\"1\" class=\"dataframe\">\n",
       "  <thead>\n",
       "    <tr style=\"text-align: right;\">\n",
       "      <th></th>\n",
       "      <th>Unnamed: 0</th>\n",
       "      <th>Catalog Number</th>\n",
       "      <th>Calendar Date</th>\n",
       "      <th>Eclipse Time</th>\n",
       "      <th>Delta T (s)</th>\n",
       "      <th>Lunation Number</th>\n",
       "      <th>Saros Number</th>\n",
       "      <th>Eclipse Type</th>\n",
       "      <th>Gamma</th>\n",
       "      <th>Eclipse Magnitude</th>\n",
       "      <th>Latitude</th>\n",
       "      <th>Longitude</th>\n",
       "      <th>Sun Altitude</th>\n",
       "      <th>Sun Azimuth</th>\n",
       "      <th>Path Width (km)</th>\n",
       "      <th>Central Duration</th>\n",
       "    </tr>\n",
       "  </thead>\n",
       "  <tbody>\n",
       "    <tr>\n",
       "      <th>0</th>\n",
       "      <td>9518</td>\n",
       "      <td>9519</td>\n",
       "      <td>2005 April 8</td>\n",
       "      <td>20:36:51</td>\n",
       "      <td>65.0</td>\n",
       "      <td>65</td>\n",
       "      <td>129.0</td>\n",
       "      <td>H</td>\n",
       "      <td>-0.3473</td>\n",
       "      <td>1.0074</td>\n",
       "      <td>10.6S</td>\n",
       "      <td>119.0W</td>\n",
       "      <td>70.0</td>\n",
       "      <td>332</td>\n",
       "      <td>27</td>\n",
       "      <td>00m42s</td>\n",
       "    </tr>\n",
       "    <tr>\n",
       "      <th>1</th>\n",
       "      <td>9519</td>\n",
       "      <td>9520</td>\n",
       "      <td>2005 October 3</td>\n",
       "      <td>10:32:47</td>\n",
       "      <td>65.0</td>\n",
       "      <td>71</td>\n",
       "      <td>134.0</td>\n",
       "      <td>A</td>\n",
       "      <td>0.3306</td>\n",
       "      <td>0.9576</td>\n",
       "      <td>12.9N</td>\n",
       "      <td>28.7E</td>\n",
       "      <td>71.0</td>\n",
       "      <td>209</td>\n",
       "      <td>162</td>\n",
       "      <td>04m32s</td>\n",
       "    </tr>\n",
       "    <tr>\n",
       "      <th>2</th>\n",
       "      <td>9520</td>\n",
       "      <td>9521</td>\n",
       "      <td>2006 March 29</td>\n",
       "      <td>10:12:23</td>\n",
       "      <td>65.0</td>\n",
       "      <td>77</td>\n",
       "      <td>139.0</td>\n",
       "      <td>T</td>\n",
       "      <td>0.3843</td>\n",
       "      <td>1.0515</td>\n",
       "      <td>23.2N</td>\n",
       "      <td>16.7E</td>\n",
       "      <td>67.0</td>\n",
       "      <td>149</td>\n",
       "      <td>184</td>\n",
       "      <td>04m07s</td>\n",
       "    </tr>\n",
       "    <tr>\n",
       "      <th>3</th>\n",
       "      <td>9521</td>\n",
       "      <td>9522</td>\n",
       "      <td>2006 September 22</td>\n",
       "      <td>11:41:16</td>\n",
       "      <td>65.0</td>\n",
       "      <td>83</td>\n",
       "      <td>144.0</td>\n",
       "      <td>A</td>\n",
       "      <td>-0.4062</td>\n",
       "      <td>0.9352</td>\n",
       "      <td>20.6S</td>\n",
       "      <td>9.1W</td>\n",
       "      <td>66.0</td>\n",
       "      <td>31</td>\n",
       "      <td>261</td>\n",
       "      <td>07m09s</td>\n",
       "    </tr>\n",
       "    <tr>\n",
       "      <th>4</th>\n",
       "      <td>9522</td>\n",
       "      <td>9523</td>\n",
       "      <td>2007 March 19</td>\n",
       "      <td>2:32:57</td>\n",
       "      <td>65.0</td>\n",
       "      <td>89</td>\n",
       "      <td>149.0</td>\n",
       "      <td>P</td>\n",
       "      <td>1.0728</td>\n",
       "      <td>0.8756</td>\n",
       "      <td>61.0N</td>\n",
       "      <td>55.5E</td>\n",
       "      <td>0.0</td>\n",
       "      <td>92</td>\n",
       "      <td>NaN</td>\n",
       "      <td>NaN</td>\n",
       "    </tr>\n",
       "    <tr>\n",
       "      <th>...</th>\n",
       "      <td>...</td>\n",
       "      <td>...</td>\n",
       "      <td>...</td>\n",
       "      <td>...</td>\n",
       "      <td>...</td>\n",
       "      <td>...</td>\n",
       "      <td>...</td>\n",
       "      <td>...</td>\n",
       "      <td>...</td>\n",
       "      <td>...</td>\n",
       "      <td>...</td>\n",
       "      <td>...</td>\n",
       "      <td>...</td>\n",
       "      <td>...</td>\n",
       "      <td>...</td>\n",
       "      <td>...</td>\n",
       "    </tr>\n",
       "    <tr>\n",
       "      <th>2375</th>\n",
       "      <td>11893</td>\n",
       "      <td>11894</td>\n",
       "      <td>2998 December 10</td>\n",
       "      <td>3:18:31</td>\n",
       "      <td>4414.0</td>\n",
       "      <td>12355</td>\n",
       "      <td>187.0</td>\n",
       "      <td>P</td>\n",
       "      <td>1.2838</td>\n",
       "      <td>0.4773</td>\n",
       "      <td>67.2N</td>\n",
       "      <td>145.0E</td>\n",
       "      <td>0.0</td>\n",
       "      <td>179</td>\n",
       "      <td>NaN</td>\n",
       "      <td>NaN</td>\n",
       "    </tr>\n",
       "    <tr>\n",
       "      <th>2376</th>\n",
       "      <td>11894</td>\n",
       "      <td>11895</td>\n",
       "      <td>2999 May 6</td>\n",
       "      <td>23:23:57</td>\n",
       "      <td>4417.0</td>\n",
       "      <td>12360</td>\n",
       "      <td>154.0</td>\n",
       "      <td>T</td>\n",
       "      <td>0.8388</td>\n",
       "      <td>1.0566</td>\n",
       "      <td>71.5N</td>\n",
       "      <td>177.3E</td>\n",
       "      <td>33.0</td>\n",
       "      <td>146</td>\n",
       "      <td>345</td>\n",
       "      <td>03m25s</td>\n",
       "    </tr>\n",
       "    <tr>\n",
       "      <th>2377</th>\n",
       "      <td>11895</td>\n",
       "      <td>11896</td>\n",
       "      <td>2999 October 30</td>\n",
       "      <td>9:34:33</td>\n",
       "      <td>4420.0</td>\n",
       "      <td>12366</td>\n",
       "      <td>159.0</td>\n",
       "      <td>A-</td>\n",
       "      <td>-1.0023</td>\n",
       "      <td>0.9586</td>\n",
       "      <td>70.9S</td>\n",
       "      <td>84.7W</td>\n",
       "      <td>0.0</td>\n",
       "      <td>137</td>\n",
       "      <td>-</td>\n",
       "      <td>-</td>\n",
       "    </tr>\n",
       "    <tr>\n",
       "      <th>2378</th>\n",
       "      <td>11896</td>\n",
       "      <td>11897</td>\n",
       "      <td>3000 April 26</td>\n",
       "      <td>14:18:06</td>\n",
       "      <td>4424.0</td>\n",
       "      <td>12372</td>\n",
       "      <td>164.0</td>\n",
       "      <td>T</td>\n",
       "      <td>0.1310</td>\n",
       "      <td>1.0222</td>\n",
       "      <td>21.1N</td>\n",
       "      <td>18.4W</td>\n",
       "      <td>82.0</td>\n",
       "      <td>166</td>\n",
       "      <td>76</td>\n",
       "      <td>02m11s</td>\n",
       "    </tr>\n",
       "    <tr>\n",
       "      <th>2379</th>\n",
       "      <td>11897</td>\n",
       "      <td>11898</td>\n",
       "      <td>3000 October 19</td>\n",
       "      <td>16:10:16</td>\n",
       "      <td>4428.0</td>\n",
       "      <td>12378</td>\n",
       "      <td>169.0</td>\n",
       "      <td>H</td>\n",
       "      <td>-0.2303</td>\n",
       "      <td>1.0049</td>\n",
       "      <td>23.1S</td>\n",
       "      <td>51.6W</td>\n",
       "      <td>77.0</td>\n",
       "      <td>16</td>\n",
       "      <td>17</td>\n",
       "      <td>00m29s</td>\n",
       "    </tr>\n",
       "  </tbody>\n",
       "</table>\n",
       "<p>2380 rows × 16 columns</p>\n",
       "</div>"
      ],
      "text/plain": [
       "      Unnamed: 0  Catalog Number      Calendar Date Eclipse Time  Delta T (s)  \\\n",
       "0           9518            9519       2005 April 8     20:36:51         65.0   \n",
       "1           9519            9520     2005 October 3     10:32:47         65.0   \n",
       "2           9520            9521      2006 March 29     10:12:23         65.0   \n",
       "3           9521            9522  2006 September 22     11:41:16         65.0   \n",
       "4           9522            9523      2007 March 19      2:32:57         65.0   \n",
       "...          ...             ...                ...          ...          ...   \n",
       "2375       11893           11894   2998 December 10      3:18:31       4414.0   \n",
       "2376       11894           11895         2999 May 6     23:23:57       4417.0   \n",
       "2377       11895           11896    2999 October 30      9:34:33       4420.0   \n",
       "2378       11896           11897      3000 April 26     14:18:06       4424.0   \n",
       "2379       11897           11898    3000 October 19     16:10:16       4428.0   \n",
       "\n",
       "      Lunation Number  Saros Number Eclipse Type   Gamma  Eclipse Magnitude  \\\n",
       "0                  65         129.0            H -0.3473             1.0074   \n",
       "1                  71         134.0            A  0.3306             0.9576   \n",
       "2                  77         139.0            T  0.3843             1.0515   \n",
       "3                  83         144.0            A -0.4062             0.9352   \n",
       "4                  89         149.0            P  1.0728             0.8756   \n",
       "...               ...           ...          ...     ...                ...   \n",
       "2375            12355         187.0            P  1.2838             0.4773   \n",
       "2376            12360         154.0            T  0.8388             1.0566   \n",
       "2377            12366         159.0           A- -1.0023             0.9586   \n",
       "2378            12372         164.0            T  0.1310             1.0222   \n",
       "2379            12378         169.0            H -0.2303             1.0049   \n",
       "\n",
       "     Latitude Longitude  Sun Altitude  Sun Azimuth Path Width (km)  \\\n",
       "0       10.6S    119.0W          70.0          332              27   \n",
       "1       12.9N     28.7E          71.0          209             162   \n",
       "2       23.2N     16.7E          67.0          149             184   \n",
       "3       20.6S      9.1W          66.0           31             261   \n",
       "4       61.0N     55.5E           0.0           92             NaN   \n",
       "...       ...       ...           ...          ...             ...   \n",
       "2375    67.2N    145.0E           0.0          179             NaN   \n",
       "2376    71.5N    177.3E          33.0          146             345   \n",
       "2377    70.9S     84.7W           0.0          137               -   \n",
       "2378    21.1N     18.4W          82.0          166              76   \n",
       "2379    23.1S     51.6W          77.0           16              17   \n",
       "\n",
       "     Central Duration  \n",
       "0              00m42s  \n",
       "1              04m32s  \n",
       "2              04m07s  \n",
       "3              07m09s  \n",
       "4                 NaN  \n",
       "...               ...  \n",
       "2375              NaN  \n",
       "2376           03m25s  \n",
       "2377                -  \n",
       "2378           02m11s  \n",
       "2379           00m29s  \n",
       "\n",
       "[2380 rows x 16 columns]"
      ]
     },
     "execution_count": 3,
     "metadata": {},
     "output_type": "execute_result"
    }
   ],
   "source": [
    "test_df=pd.read_csv(\"../DataSets/Solar-Eclipse/test.csv\")\n",
    "test_df"
   ]
  },
  {
   "cell_type": "code",
   "execution_count": null,
   "metadata": {
    "colab": {
     "base_uri": "https://localhost:8080/",
     "height": 551
    },
    "id": "QQlpi2u4CdHf",
    "outputId": "5a2400c9-d65d-401e-c3a9-438bd2dfd72c"
   },
   "outputs": [],
   "source": []
  },
  {
   "cell_type": "code",
   "execution_count": null,
   "metadata": {
    "colab": {
     "base_uri": "https://localhost:8080/",
     "height": 568
    },
    "id": "HC-B98RXCfw9",
    "outputId": "54841153-8561-49e4-f7f3-1867ec617a07"
   },
   "outputs": [],
   "source": []
  },
  {
   "cell_type": "markdown",
   "metadata": {
    "id": "rSLhQEjtMB9Q"
   },
   "source": [
    "### Concatenating both the training and test set"
   ]
  },
  {
   "cell_type": "code",
   "execution_count": 4,
   "metadata": {
    "id": "CryEgSLkChQA"
   },
   "outputs": [],
   "source": [
    "frames = [train_df, test_df]\n",
    "df = pd.concat(frames, sort=False)"
   ]
  },
  {
   "cell_type": "code",
   "execution_count": 5,
   "metadata": {
    "colab": {
     "base_uri": "https://localhost:8080/"
    },
    "id": "y9QrBmxlGKPX",
    "outputId": "92c9d948-e108-4db0-a46e-e9677f87a51f"
   },
   "outputs": [
    {
     "name": "stdout",
     "output_type": "stream",
     "text": [
      "<class 'pandas.core.frame.DataFrame'>\n",
      "Int64Index: 11898 entries, 0 to 2379\n",
      "Data columns (total 16 columns):\n",
      " #   Column             Non-Null Count  Dtype  \n",
      "---  ------             --------------  -----  \n",
      " 0   Unnamed: 0         11898 non-null  int64  \n",
      " 1   Catalog Number     11898 non-null  int64  \n",
      " 2   Calendar Date      11898 non-null  object \n",
      " 3   Eclipse Time       11898 non-null  object \n",
      " 4   Delta T (s)        11874 non-null  float64\n",
      " 5   Lunation Number    11898 non-null  int64  \n",
      " 6   Saros Number       11886 non-null  float64\n",
      " 7   Eclipse Type       11898 non-null  object \n",
      " 8   Gamma              11878 non-null  float64\n",
      " 9   Eclipse Magnitude  11868 non-null  float64\n",
      " 10  Latitude           11898 non-null  object \n",
      " 11  Longitude          11898 non-null  object \n",
      " 12  Sun Altitude       11881 non-null  float64\n",
      " 13  Sun Azimuth        11898 non-null  int64  \n",
      " 14  Path Width (km)    7698 non-null   object \n",
      " 15  Central Duration   7698 non-null   object \n",
      "dtypes: float64(5), int64(4), object(7)\n",
      "memory usage: 1.5+ MB\n"
     ]
    }
   ],
   "source": [
    "df.info()"
   ]
  },
  {
   "cell_type": "code",
   "execution_count": 6,
   "metadata": {
    "colab": {
     "base_uri": "https://localhost:8080/"
    },
    "id": "_bbG-EcQGNk5",
    "outputId": "68b59baa-a82f-4c55-b52f-34a7b3723aaa"
   },
   "outputs": [
    {
     "data": {
      "text/plain": [
       "(11898, 16)"
      ]
     },
     "execution_count": 6,
     "metadata": {},
     "output_type": "execute_result"
    }
   ],
   "source": [
    "df.shape"
   ]
  },
  {
   "cell_type": "code",
   "execution_count": 7,
   "metadata": {
    "colab": {
     "base_uri": "https://localhost:8080/"
    },
    "id": "6LQ8xc70GNhL",
    "outputId": "f5ebfcd7-3dd7-405a-9f62-a242a82fe2b5"
   },
   "outputs": [
    {
     "data": {
      "text/plain": [
       "Index(['Unnamed: 0', 'Catalog Number', 'Calendar Date', 'Eclipse Time',\n",
       "       'Delta T (s)', 'Lunation Number', 'Saros Number', 'Eclipse Type',\n",
       "       'Gamma', 'Eclipse Magnitude', 'Latitude', 'Longitude', 'Sun Altitude',\n",
       "       'Sun Azimuth', 'Path Width (km)', 'Central Duration'],\n",
       "      dtype='object')"
      ]
     },
     "execution_count": 7,
     "metadata": {},
     "output_type": "execute_result"
    }
   ],
   "source": [
    "df.columns"
   ]
  },
  {
   "cell_type": "code",
   "execution_count": 8,
   "metadata": {
    "colab": {
     "base_uri": "https://localhost:8080/"
    },
    "id": "YaRBq6vCGNeR",
    "outputId": "0300428c-a9fc-4bf3-935b-52ebbc073da1"
   },
   "outputs": [
    {
     "data": {
      "text/plain": [
       "Index(['Unnamed:_0', 'Catalog_Number', 'Calendar_Date', 'Eclipse_Time',\n",
       "       'Delta_T_(s)', 'Lunation_Number', 'Saros_Number', 'Eclipse_Type',\n",
       "       'Gamma', 'Eclipse_Magnitude', 'Latitude', 'Longitude', 'Sun_Altitude',\n",
       "       'Sun_Azimuth', 'Path_Width_(km)', 'Central_Duration'],\n",
       "      dtype='object')"
      ]
     },
     "execution_count": 8,
     "metadata": {},
     "output_type": "execute_result"
    }
   ],
   "source": [
    "df.columns = df.columns.str.replace(' ','_') # replacing space between words with underscore\n",
    "df.columns"
   ]
  },
  {
   "cell_type": "code",
   "execution_count": 9,
   "metadata": {
    "colab": {
     "base_uri": "https://localhost:8080/"
    },
    "id": "xjEfHNuuGNaz",
    "outputId": "3e45e6b2-2071-4f86-fa1e-6994534ac662"
   },
   "outputs": [
    {
     "data": {
      "text/plain": [
       "Unnamed:_0             int64\n",
       "Catalog_Number         int64\n",
       "Calendar_Date         object\n",
       "Eclipse_Time          object\n",
       "Delta_T_(s)          float64\n",
       "Lunation_Number        int64\n",
       "Saros_Number         float64\n",
       "Eclipse_Type          object\n",
       "Gamma                float64\n",
       "Eclipse_Magnitude    float64\n",
       "Latitude              object\n",
       "Longitude             object\n",
       "Sun_Altitude         float64\n",
       "Sun_Azimuth            int64\n",
       "Path_Width_(km)       object\n",
       "Central_Duration      object\n",
       "dtype: object"
      ]
     },
     "execution_count": 9,
     "metadata": {},
     "output_type": "execute_result"
    }
   ],
   "source": [
    "df.dtypes"
   ]
  },
  {
   "cell_type": "markdown",
   "metadata": {
    "id": "RvruBEN0MMAp"
   },
   "source": [
    "### Dealing with null values"
   ]
  },
  {
   "cell_type": "code",
   "execution_count": 10,
   "metadata": {
    "colab": {
     "base_uri": "https://localhost:8080/"
    },
    "id": "9Nv7h1YddKr6",
    "outputId": "8b35176e-c5d9-4d48-a0de-f75e756c1381"
   },
   "outputs": [
    {
     "data": {
      "text/plain": [
       "Unnamed:_0              0\n",
       "Catalog_Number          0\n",
       "Calendar_Date           0\n",
       "Eclipse_Time            0\n",
       "Delta_T_(s)            24\n",
       "Lunation_Number         0\n",
       "Saros_Number           12\n",
       "Eclipse_Type            0\n",
       "Gamma                  20\n",
       "Eclipse_Magnitude      30\n",
       "Latitude                0\n",
       "Longitude               0\n",
       "Sun_Altitude           17\n",
       "Sun_Azimuth             0\n",
       "Path_Width_(km)      4200\n",
       "Central_Duration     4200\n",
       "dtype: int64"
      ]
     },
     "execution_count": 10,
     "metadata": {},
     "output_type": "execute_result"
    }
   ],
   "source": [
    "df.isnull().sum()"
   ]
  },
  {
   "cell_type": "code",
   "execution_count": 11,
   "metadata": {
    "id": "n3KeoIZzdcyG"
   },
   "outputs": [],
   "source": [
    "df = df.dropna(axis=0, subset=['Delta_T_(s)','Saros_Number','Gamma','Eclipse_Magnitude','Sun_Altitude'])"
   ]
  },
  {
   "cell_type": "code",
   "execution_count": 12,
   "metadata": {
    "colab": {
     "base_uri": "https://localhost:8080/"
    },
    "id": "-1IwY09PfDT5",
    "outputId": "8fbebd5b-c00f-4896-c691-934a858c0100"
   },
   "outputs": [
    {
     "data": {
      "text/plain": [
       "Unnamed:_0              0\n",
       "Catalog_Number          0\n",
       "Calendar_Date           0\n",
       "Eclipse_Time            0\n",
       "Delta_T_(s)             0\n",
       "Lunation_Number         0\n",
       "Saros_Number            0\n",
       "Eclipse_Type            0\n",
       "Gamma                   0\n",
       "Eclipse_Magnitude       0\n",
       "Latitude                0\n",
       "Longitude               0\n",
       "Sun_Altitude            0\n",
       "Sun_Azimuth             0\n",
       "Path_Width_(km)      4183\n",
       "Central_Duration     4183\n",
       "dtype: int64"
      ]
     },
     "execution_count": 12,
     "metadata": {},
     "output_type": "execute_result"
    }
   ],
   "source": [
    "df.isnull().sum()"
   ]
  },
  {
   "cell_type": "code",
   "execution_count": 13,
   "metadata": {
    "id": "gcvpb_JmfHjR"
   },
   "outputs": [],
   "source": [
    "df.drop(['Unnamed:_0','Catalog_Number'],axis=1,inplace=True)"
   ]
  },
  {
   "cell_type": "code",
   "execution_count": 14,
   "metadata": {
    "id": "ab-zxkIpfqo_"
   },
   "outputs": [],
   "source": [
    "for i in ['Path_Width_(km)','Central_Duration']:\n",
    "  df[i].fillna('0',inplace=True)"
   ]
  },
  {
   "cell_type": "code",
   "execution_count": 15,
   "metadata": {
    "colab": {
     "base_uri": "https://localhost:8080/",
     "height": 521
    },
    "id": "Md7IxZCkgb1q",
    "outputId": "dba43ee1-b9f4-4f5a-a673-5a61eccc51cb"
   },
   "outputs": [
    {
     "data": {
      "text/html": [
       "<div>\n",
       "<style scoped>\n",
       "    .dataframe tbody tr th:only-of-type {\n",
       "        vertical-align: middle;\n",
       "    }\n",
       "\n",
       "    .dataframe tbody tr th {\n",
       "        vertical-align: top;\n",
       "    }\n",
       "\n",
       "    .dataframe thead th {\n",
       "        text-align: right;\n",
       "    }\n",
       "</style>\n",
       "<table border=\"1\" class=\"dataframe\">\n",
       "  <thead>\n",
       "    <tr style=\"text-align: right;\">\n",
       "      <th></th>\n",
       "      <th>Calendar_Date</th>\n",
       "      <th>Eclipse_Time</th>\n",
       "      <th>Delta_T_(s)</th>\n",
       "      <th>Lunation_Number</th>\n",
       "      <th>Saros_Number</th>\n",
       "      <th>Eclipse_Type</th>\n",
       "      <th>Gamma</th>\n",
       "      <th>Eclipse_Magnitude</th>\n",
       "      <th>Latitude</th>\n",
       "      <th>Longitude</th>\n",
       "      <th>Sun_Altitude</th>\n",
       "      <th>Sun_Azimuth</th>\n",
       "      <th>Path_Width_(km)</th>\n",
       "      <th>Central_Duration</th>\n",
       "    </tr>\n",
       "  </thead>\n",
       "  <tbody>\n",
       "    <tr>\n",
       "      <th>1</th>\n",
       "      <td>-1999 December 5</td>\n",
       "      <td>23:45:23</td>\n",
       "      <td>46426.0</td>\n",
       "      <td>-49450</td>\n",
       "      <td>10.0</td>\n",
       "      <td>A</td>\n",
       "      <td>-0.2317</td>\n",
       "      <td>0.9382</td>\n",
       "      <td>32.9S</td>\n",
       "      <td>10.8E</td>\n",
       "      <td>76.0</td>\n",
       "      <td>21</td>\n",
       "      <td>236</td>\n",
       "      <td>06m44s</td>\n",
       "    </tr>\n",
       "    <tr>\n",
       "      <th>2</th>\n",
       "      <td>-1998 June 1</td>\n",
       "      <td>18:09:16</td>\n",
       "      <td>46415.0</td>\n",
       "      <td>-49444</td>\n",
       "      <td>15.0</td>\n",
       "      <td>T</td>\n",
       "      <td>0.4994</td>\n",
       "      <td>1.0284</td>\n",
       "      <td>46.2N</td>\n",
       "      <td>83.4E</td>\n",
       "      <td>60.0</td>\n",
       "      <td>151</td>\n",
       "      <td>111</td>\n",
       "      <td>02m15s</td>\n",
       "    </tr>\n",
       "    <tr>\n",
       "      <th>3</th>\n",
       "      <td>-1998 November 25</td>\n",
       "      <td>5:57:03</td>\n",
       "      <td>46403.0</td>\n",
       "      <td>-49438</td>\n",
       "      <td>20.0</td>\n",
       "      <td>A</td>\n",
       "      <td>-0.9045</td>\n",
       "      <td>0.9806</td>\n",
       "      <td>67.8S</td>\n",
       "      <td>143.8W</td>\n",
       "      <td>25.0</td>\n",
       "      <td>74</td>\n",
       "      <td>162</td>\n",
       "      <td>01m14s</td>\n",
       "    </tr>\n",
       "    <tr>\n",
       "      <th>4</th>\n",
       "      <td>-1997 April 22</td>\n",
       "      <td>13:19:56</td>\n",
       "      <td>46393.0</td>\n",
       "      <td>-49433</td>\n",
       "      <td>-13.0</td>\n",
       "      <td>P</td>\n",
       "      <td>-1.4670</td>\n",
       "      <td>0.1611</td>\n",
       "      <td>60.6S</td>\n",
       "      <td>106.4W</td>\n",
       "      <td>0.0</td>\n",
       "      <td>281</td>\n",
       "      <td>0</td>\n",
       "      <td>0</td>\n",
       "    </tr>\n",
       "    <tr>\n",
       "      <th>5</th>\n",
       "      <td>-1997 May 22</td>\n",
       "      <td>2:45:35</td>\n",
       "      <td>46391.0</td>\n",
       "      <td>-49432</td>\n",
       "      <td>25.0</td>\n",
       "      <td>P</td>\n",
       "      <td>1.3253</td>\n",
       "      <td>0.4035</td>\n",
       "      <td>61.7N</td>\n",
       "      <td>151.7W</td>\n",
       "      <td>0.0</td>\n",
       "      <td>55</td>\n",
       "      <td>0</td>\n",
       "      <td>0</td>\n",
       "    </tr>\n",
       "    <tr>\n",
       "      <th>...</th>\n",
       "      <td>...</td>\n",
       "      <td>...</td>\n",
       "      <td>...</td>\n",
       "      <td>...</td>\n",
       "      <td>...</td>\n",
       "      <td>...</td>\n",
       "      <td>...</td>\n",
       "      <td>...</td>\n",
       "      <td>...</td>\n",
       "      <td>...</td>\n",
       "      <td>...</td>\n",
       "      <td>...</td>\n",
       "      <td>...</td>\n",
       "      <td>...</td>\n",
       "    </tr>\n",
       "    <tr>\n",
       "      <th>2375</th>\n",
       "      <td>2998 December 10</td>\n",
       "      <td>3:18:31</td>\n",
       "      <td>4414.0</td>\n",
       "      <td>12355</td>\n",
       "      <td>187.0</td>\n",
       "      <td>P</td>\n",
       "      <td>1.2838</td>\n",
       "      <td>0.4773</td>\n",
       "      <td>67.2N</td>\n",
       "      <td>145.0E</td>\n",
       "      <td>0.0</td>\n",
       "      <td>179</td>\n",
       "      <td>0</td>\n",
       "      <td>0</td>\n",
       "    </tr>\n",
       "    <tr>\n",
       "      <th>2376</th>\n",
       "      <td>2999 May 6</td>\n",
       "      <td>23:23:57</td>\n",
       "      <td>4417.0</td>\n",
       "      <td>12360</td>\n",
       "      <td>154.0</td>\n",
       "      <td>T</td>\n",
       "      <td>0.8388</td>\n",
       "      <td>1.0566</td>\n",
       "      <td>71.5N</td>\n",
       "      <td>177.3E</td>\n",
       "      <td>33.0</td>\n",
       "      <td>146</td>\n",
       "      <td>345</td>\n",
       "      <td>03m25s</td>\n",
       "    </tr>\n",
       "    <tr>\n",
       "      <th>2377</th>\n",
       "      <td>2999 October 30</td>\n",
       "      <td>9:34:33</td>\n",
       "      <td>4420.0</td>\n",
       "      <td>12366</td>\n",
       "      <td>159.0</td>\n",
       "      <td>A-</td>\n",
       "      <td>-1.0023</td>\n",
       "      <td>0.9586</td>\n",
       "      <td>70.9S</td>\n",
       "      <td>84.7W</td>\n",
       "      <td>0.0</td>\n",
       "      <td>137</td>\n",
       "      <td>-</td>\n",
       "      <td>-</td>\n",
       "    </tr>\n",
       "    <tr>\n",
       "      <th>2378</th>\n",
       "      <td>3000 April 26</td>\n",
       "      <td>14:18:06</td>\n",
       "      <td>4424.0</td>\n",
       "      <td>12372</td>\n",
       "      <td>164.0</td>\n",
       "      <td>T</td>\n",
       "      <td>0.1310</td>\n",
       "      <td>1.0222</td>\n",
       "      <td>21.1N</td>\n",
       "      <td>18.4W</td>\n",
       "      <td>82.0</td>\n",
       "      <td>166</td>\n",
       "      <td>76</td>\n",
       "      <td>02m11s</td>\n",
       "    </tr>\n",
       "    <tr>\n",
       "      <th>2379</th>\n",
       "      <td>3000 October 19</td>\n",
       "      <td>16:10:16</td>\n",
       "      <td>4428.0</td>\n",
       "      <td>12378</td>\n",
       "      <td>169.0</td>\n",
       "      <td>H</td>\n",
       "      <td>-0.2303</td>\n",
       "      <td>1.0049</td>\n",
       "      <td>23.1S</td>\n",
       "      <td>51.6W</td>\n",
       "      <td>77.0</td>\n",
       "      <td>16</td>\n",
       "      <td>17</td>\n",
       "      <td>00m29s</td>\n",
       "    </tr>\n",
       "  </tbody>\n",
       "</table>\n",
       "<p>11834 rows × 14 columns</p>\n",
       "</div>"
      ],
      "text/plain": [
       "          Calendar_Date Eclipse_Time  Delta_T_(s)  Lunation_Number  \\\n",
       "1      -1999 December 5     23:45:23      46426.0           -49450   \n",
       "2          -1998 June 1     18:09:16      46415.0           -49444   \n",
       "3     -1998 November 25      5:57:03      46403.0           -49438   \n",
       "4        -1997 April 22     13:19:56      46393.0           -49433   \n",
       "5          -1997 May 22      2:45:35      46391.0           -49432   \n",
       "...                 ...          ...          ...              ...   \n",
       "2375   2998 December 10      3:18:31       4414.0            12355   \n",
       "2376         2999 May 6     23:23:57       4417.0            12360   \n",
       "2377    2999 October 30      9:34:33       4420.0            12366   \n",
       "2378      3000 April 26     14:18:06       4424.0            12372   \n",
       "2379    3000 October 19     16:10:16       4428.0            12378   \n",
       "\n",
       "      Saros_Number Eclipse_Type   Gamma  Eclipse_Magnitude Latitude Longitude  \\\n",
       "1             10.0            A -0.2317             0.9382    32.9S     10.8E   \n",
       "2             15.0            T  0.4994             1.0284    46.2N     83.4E   \n",
       "3             20.0            A -0.9045             0.9806    67.8S    143.8W   \n",
       "4            -13.0            P -1.4670             0.1611    60.6S    106.4W   \n",
       "5             25.0            P  1.3253             0.4035    61.7N    151.7W   \n",
       "...            ...          ...     ...                ...      ...       ...   \n",
       "2375         187.0            P  1.2838             0.4773    67.2N    145.0E   \n",
       "2376         154.0            T  0.8388             1.0566    71.5N    177.3E   \n",
       "2377         159.0           A- -1.0023             0.9586    70.9S     84.7W   \n",
       "2378         164.0            T  0.1310             1.0222    21.1N     18.4W   \n",
       "2379         169.0            H -0.2303             1.0049    23.1S     51.6W   \n",
       "\n",
       "      Sun_Altitude  Sun_Azimuth Path_Width_(km) Central_Duration  \n",
       "1             76.0           21             236           06m44s  \n",
       "2             60.0          151             111           02m15s  \n",
       "3             25.0           74             162           01m14s  \n",
       "4              0.0          281               0                0  \n",
       "5              0.0           55               0                0  \n",
       "...            ...          ...             ...              ...  \n",
       "2375           0.0          179               0                0  \n",
       "2376          33.0          146             345           03m25s  \n",
       "2377           0.0          137               -                -  \n",
       "2378          82.0          166              76           02m11s  \n",
       "2379          77.0           16              17           00m29s  \n",
       "\n",
       "[11834 rows x 14 columns]"
      ]
     },
     "execution_count": 15,
     "metadata": {},
     "output_type": "execute_result"
    }
   ],
   "source": [
    "df"
   ]
  },
  {
   "cell_type": "markdown",
   "metadata": {
    "id": "uhpsLmKBKW0S"
   },
   "source": [
    "### Dealing with the target variable and extracting only the main types of eclipses"
   ]
  },
  {
   "cell_type": "code",
   "execution_count": 16,
   "metadata": {
    "colab": {
     "base_uri": "https://localhost:8080/"
    },
    "id": "s9Hu0W2yGNXr",
    "outputId": "798dc144-2979-4d19-8891-4f8a10a72bdd"
   },
   "outputs": [
    {
     "data": {
      "text/plain": [
       "P     3859\n",
       "A     3730\n",
       "T     3030\n",
       "H      501\n",
       "Pb     163\n",
       "Pe     161\n",
       "Tm      72\n",
       "Am      71\n",
       "An      36\n",
       "A+      34\n",
       "A-      34\n",
       "H3      26\n",
       "H2      24\n",
       "As      24\n",
       "Hm      17\n",
       "T-      17\n",
       "Tn      14\n",
       "Ts      12\n",
       "T+       9\n",
       "Name: Eclipse_Type, dtype: int64"
      ]
     },
     "execution_count": 16,
     "metadata": {},
     "output_type": "execute_result"
    }
   ],
   "source": [
    "df['Eclipse_Type'].value_counts()"
   ]
  },
  {
   "cell_type": "code",
   "execution_count": 17,
   "metadata": {
    "id": "g6JXNaiuGNUz"
   },
   "outputs": [],
   "source": [
    "def EclipseClean(x):  # taking only main 4 types of lunar eclipse: P, A, T, H \n",
    "    if 'P' in x:\n",
    "        return('P')\n",
    "    if 'A' in x:\n",
    "        return('A')\n",
    "    if 'T' in x:\n",
    "        return('T')\n",
    "    if 'H' in x:\n",
    "        return('H')"
   ]
  },
  {
   "cell_type": "code",
   "execution_count": 18,
   "metadata": {
    "colab": {
     "base_uri": "https://localhost:8080/"
    },
    "id": "N_oofJf7GNTo",
    "outputId": "bfd7a862-ebe6-4622-fa23-585f51d6b1e1"
   },
   "outputs": [
    {
     "data": {
      "text/plain": [
       "P    4183\n",
       "A    3929\n",
       "T    3154\n",
       "H     568\n",
       "Name: Eclipse_Type, dtype: int64"
      ]
     },
     "execution_count": 18,
     "metadata": {},
     "output_type": "execute_result"
    }
   ],
   "source": [
    "df['Eclipse_Type'] = list(map(EclipseClean,df['Eclipse_Type']))\n",
    "df['Eclipse_Type'].value_counts()"
   ]
  },
  {
   "cell_type": "code",
   "execution_count": 19,
   "metadata": {
    "colab": {
     "base_uri": "https://localhost:8080/"
    },
    "id": "_D7VQnlwGNPt",
    "outputId": "fecc8655-3de8-4abc-f3b0-4460fca895fe"
   },
   "outputs": [
    {
     "data": {
      "text/plain": [
       "4"
      ]
     },
     "execution_count": 19,
     "metadata": {},
     "output_type": "execute_result"
    }
   ],
   "source": [
    "len(df['Eclipse_Type'].value_counts())"
   ]
  },
  {
   "cell_type": "markdown",
   "metadata": {
    "id": "QTMI5dotMTpF"
   },
   "source": [
    "### Dealing with the Calender Date column "
   ]
  },
  {
   "cell_type": "code",
   "execution_count": 20,
   "metadata": {
    "id": "XwiQndv7jzJW"
   },
   "outputs": [],
   "source": [
    "def cleaning1(x):     \n",
    "    if '-' in x:\n",
    "        x = x.replace('-','')\n",
    "    return x"
   ]
  },
  {
   "cell_type": "code",
   "execution_count": 21,
   "metadata": {
    "colab": {
     "base_uri": "https://localhost:8080/",
     "height": 257
    },
    "id": "FC72De6ckH4C",
    "outputId": "07314224-bd01-44fb-976f-1355327c9e31"
   },
   "outputs": [
    {
     "data": {
      "text/html": [
       "<div>\n",
       "<style scoped>\n",
       "    .dataframe tbody tr th:only-of-type {\n",
       "        vertical-align: middle;\n",
       "    }\n",
       "\n",
       "    .dataframe tbody tr th {\n",
       "        vertical-align: top;\n",
       "    }\n",
       "\n",
       "    .dataframe thead th {\n",
       "        text-align: right;\n",
       "    }\n",
       "</style>\n",
       "<table border=\"1\" class=\"dataframe\">\n",
       "  <thead>\n",
       "    <tr style=\"text-align: right;\">\n",
       "      <th></th>\n",
       "      <th>Calendar_Date</th>\n",
       "      <th>Eclipse_Time</th>\n",
       "      <th>Delta_T_(s)</th>\n",
       "      <th>Lunation_Number</th>\n",
       "      <th>Saros_Number</th>\n",
       "      <th>Eclipse_Type</th>\n",
       "      <th>Gamma</th>\n",
       "      <th>Eclipse_Magnitude</th>\n",
       "      <th>Latitude</th>\n",
       "      <th>Longitude</th>\n",
       "      <th>Sun_Altitude</th>\n",
       "      <th>Sun_Azimuth</th>\n",
       "      <th>Path_Width_(km)</th>\n",
       "      <th>Central_Duration</th>\n",
       "    </tr>\n",
       "  </thead>\n",
       "  <tbody>\n",
       "    <tr>\n",
       "      <th>1</th>\n",
       "      <td>1999 December 5</td>\n",
       "      <td>23:45:23</td>\n",
       "      <td>46426.0</td>\n",
       "      <td>-49450</td>\n",
       "      <td>10.0</td>\n",
       "      <td>A</td>\n",
       "      <td>-0.2317</td>\n",
       "      <td>0.9382</td>\n",
       "      <td>32.9S</td>\n",
       "      <td>10.8E</td>\n",
       "      <td>76.0</td>\n",
       "      <td>21</td>\n",
       "      <td>236</td>\n",
       "      <td>06m44s</td>\n",
       "    </tr>\n",
       "    <tr>\n",
       "      <th>2</th>\n",
       "      <td>1998 June 1</td>\n",
       "      <td>18:09:16</td>\n",
       "      <td>46415.0</td>\n",
       "      <td>-49444</td>\n",
       "      <td>15.0</td>\n",
       "      <td>T</td>\n",
       "      <td>0.4994</td>\n",
       "      <td>1.0284</td>\n",
       "      <td>46.2N</td>\n",
       "      <td>83.4E</td>\n",
       "      <td>60.0</td>\n",
       "      <td>151</td>\n",
       "      <td>111</td>\n",
       "      <td>02m15s</td>\n",
       "    </tr>\n",
       "    <tr>\n",
       "      <th>3</th>\n",
       "      <td>1998 November 25</td>\n",
       "      <td>5:57:03</td>\n",
       "      <td>46403.0</td>\n",
       "      <td>-49438</td>\n",
       "      <td>20.0</td>\n",
       "      <td>A</td>\n",
       "      <td>-0.9045</td>\n",
       "      <td>0.9806</td>\n",
       "      <td>67.8S</td>\n",
       "      <td>143.8W</td>\n",
       "      <td>25.0</td>\n",
       "      <td>74</td>\n",
       "      <td>162</td>\n",
       "      <td>01m14s</td>\n",
       "    </tr>\n",
       "    <tr>\n",
       "      <th>4</th>\n",
       "      <td>1997 April 22</td>\n",
       "      <td>13:19:56</td>\n",
       "      <td>46393.0</td>\n",
       "      <td>-49433</td>\n",
       "      <td>-13.0</td>\n",
       "      <td>P</td>\n",
       "      <td>-1.4670</td>\n",
       "      <td>0.1611</td>\n",
       "      <td>60.6S</td>\n",
       "      <td>106.4W</td>\n",
       "      <td>0.0</td>\n",
       "      <td>281</td>\n",
       "      <td>0</td>\n",
       "      <td>0</td>\n",
       "    </tr>\n",
       "    <tr>\n",
       "      <th>5</th>\n",
       "      <td>1997 May 22</td>\n",
       "      <td>2:45:35</td>\n",
       "      <td>46391.0</td>\n",
       "      <td>-49432</td>\n",
       "      <td>25.0</td>\n",
       "      <td>P</td>\n",
       "      <td>1.3253</td>\n",
       "      <td>0.4035</td>\n",
       "      <td>61.7N</td>\n",
       "      <td>151.7W</td>\n",
       "      <td>0.0</td>\n",
       "      <td>55</td>\n",
       "      <td>0</td>\n",
       "      <td>0</td>\n",
       "    </tr>\n",
       "  </tbody>\n",
       "</table>\n",
       "</div>"
      ],
      "text/plain": [
       "      Calendar_Date Eclipse_Time  Delta_T_(s)  Lunation_Number  Saros_Number  \\\n",
       "1   1999 December 5     23:45:23      46426.0           -49450          10.0   \n",
       "2       1998 June 1     18:09:16      46415.0           -49444          15.0   \n",
       "3  1998 November 25      5:57:03      46403.0           -49438          20.0   \n",
       "4     1997 April 22     13:19:56      46393.0           -49433         -13.0   \n",
       "5       1997 May 22      2:45:35      46391.0           -49432          25.0   \n",
       "\n",
       "  Eclipse_Type   Gamma  Eclipse_Magnitude Latitude Longitude  Sun_Altitude  \\\n",
       "1            A -0.2317             0.9382    32.9S     10.8E          76.0   \n",
       "2            T  0.4994             1.0284    46.2N     83.4E          60.0   \n",
       "3            A -0.9045             0.9806    67.8S    143.8W          25.0   \n",
       "4            P -1.4670             0.1611    60.6S    106.4W           0.0   \n",
       "5            P  1.3253             0.4035    61.7N    151.7W           0.0   \n",
       "\n",
       "   Sun_Azimuth Path_Width_(km) Central_Duration  \n",
       "1           21             236           06m44s  \n",
       "2          151             111           02m15s  \n",
       "3           74             162           01m14s  \n",
       "4          281               0                0  \n",
       "5           55               0                0  "
      ]
     },
     "execution_count": 21,
     "metadata": {},
     "output_type": "execute_result"
    }
   ],
   "source": [
    "df['Calendar_Date'] = list(map(cleaning1, df['Calendar_Date']))   #column without -ve symbol\n",
    "df.head()"
   ]
  },
  {
   "cell_type": "markdown",
   "metadata": {
    "id": "tvoZavvqMrxv"
   },
   "source": [
    "#### Extracting the year, month and date values"
   ]
  },
  {
   "cell_type": "code",
   "execution_count": 22,
   "metadata": {
    "colab": {
     "base_uri": "https://localhost:8080/"
    },
    "id": "RbBB3X0mLQXr",
    "outputId": "2676c789-df11-4380-ac1f-2787d6dd4a43"
   },
   "outputs": [
    {
     "data": {
      "text/plain": [
       "1        [1999, December, 5]\n",
       "2            [1998, June, 1]\n",
       "3       [1998, November, 25]\n",
       "4          [1997, April, 22]\n",
       "5            [1997, May, 22]\n",
       "                ...         \n",
       "2375    [2998, December, 10]\n",
       "2376          [2999, May, 6]\n",
       "2377     [2999, October, 30]\n",
       "2378       [3000, April, 26]\n",
       "2379     [3000, October, 19]\n",
       "Name: Calendar_Date, Length: 11834, dtype: object"
      ]
     },
     "execution_count": 22,
     "metadata": {},
     "output_type": "execute_result"
    }
   ],
   "source": [
    "calendar_date = df['Calendar_Date'].str.split(' ')\n",
    "calendar_date"
   ]
  },
  {
   "cell_type": "code",
   "execution_count": 23,
   "metadata": {
    "id": "4RnkO-JFLQTW"
   },
   "outputs": [],
   "source": [
    "df['Calendar_Year'] = calendar_date.str[0]\n",
    "df['Calendar_Month'] = calendar_date.str[1]\n",
    "df['Calendar_Day'] = calendar_date.str[2].astype(float)"
   ]
  },
  {
   "cell_type": "code",
   "execution_count": 24,
   "metadata": {
    "colab": {
     "base_uri": "https://localhost:8080/"
    },
    "id": "GVMMFhMsjK7E",
    "outputId": "cbe7e91c-821b-43d2-bcad-261d1fff3f5b"
   },
   "outputs": [
    {
     "data": {
      "text/plain": [
       "Calendar_Date         object\n",
       "Eclipse_Time          object\n",
       "Delta_T_(s)          float64\n",
       "Lunation_Number        int64\n",
       "Saros_Number         float64\n",
       "Eclipse_Type          object\n",
       "Gamma                float64\n",
       "Eclipse_Magnitude    float64\n",
       "Latitude              object\n",
       "Longitude             object\n",
       "Sun_Altitude         float64\n",
       "Sun_Azimuth            int64\n",
       "Path_Width_(km)       object\n",
       "Central_Duration      object\n",
       "Calendar_Year         object\n",
       "Calendar_Month        object\n",
       "Calendar_Day         float64\n",
       "dtype: object"
      ]
     },
     "execution_count": 24,
     "metadata": {},
     "output_type": "execute_result"
    }
   ],
   "source": [
    "df.dtypes"
   ]
  },
  {
   "cell_type": "code",
   "execution_count": 25,
   "metadata": {
    "id": "tnm-a3dCYQ3W"
   },
   "outputs": [],
   "source": [
    "df.drop(['Calendar_Date'],axis=1,inplace=True)"
   ]
  },
  {
   "cell_type": "code",
   "execution_count": 26,
   "metadata": {
    "colab": {
     "base_uri": "https://localhost:8080/",
     "height": 223
    },
    "id": "c9tREROpLQMB",
    "outputId": "a319e61a-c329-47b9-eba7-af00972d6b54"
   },
   "outputs": [
    {
     "data": {
      "text/html": [
       "<div>\n",
       "<style scoped>\n",
       "    .dataframe tbody tr th:only-of-type {\n",
       "        vertical-align: middle;\n",
       "    }\n",
       "\n",
       "    .dataframe tbody tr th {\n",
       "        vertical-align: top;\n",
       "    }\n",
       "\n",
       "    .dataframe thead th {\n",
       "        text-align: right;\n",
       "    }\n",
       "</style>\n",
       "<table border=\"1\" class=\"dataframe\">\n",
       "  <thead>\n",
       "    <tr style=\"text-align: right;\">\n",
       "      <th></th>\n",
       "      <th>Eclipse_Time</th>\n",
       "      <th>Delta_T_(s)</th>\n",
       "      <th>Lunation_Number</th>\n",
       "      <th>Saros_Number</th>\n",
       "      <th>Eclipse_Type</th>\n",
       "      <th>Gamma</th>\n",
       "      <th>Eclipse_Magnitude</th>\n",
       "      <th>Latitude</th>\n",
       "      <th>Longitude</th>\n",
       "      <th>Sun_Altitude</th>\n",
       "      <th>Sun_Azimuth</th>\n",
       "      <th>Path_Width_(km)</th>\n",
       "      <th>Central_Duration</th>\n",
       "      <th>Calendar_Year</th>\n",
       "      <th>Calendar_Month</th>\n",
       "      <th>Calendar_Day</th>\n",
       "    </tr>\n",
       "  </thead>\n",
       "  <tbody>\n",
       "    <tr>\n",
       "      <th>1</th>\n",
       "      <td>23:45:23</td>\n",
       "      <td>46426.0</td>\n",
       "      <td>-49450</td>\n",
       "      <td>10.0</td>\n",
       "      <td>A</td>\n",
       "      <td>-0.2317</td>\n",
       "      <td>0.9382</td>\n",
       "      <td>32.9S</td>\n",
       "      <td>10.8E</td>\n",
       "      <td>76.0</td>\n",
       "      <td>21</td>\n",
       "      <td>236</td>\n",
       "      <td>06m44s</td>\n",
       "      <td>1999</td>\n",
       "      <td>December</td>\n",
       "      <td>5.0</td>\n",
       "    </tr>\n",
       "    <tr>\n",
       "      <th>2</th>\n",
       "      <td>18:09:16</td>\n",
       "      <td>46415.0</td>\n",
       "      <td>-49444</td>\n",
       "      <td>15.0</td>\n",
       "      <td>T</td>\n",
       "      <td>0.4994</td>\n",
       "      <td>1.0284</td>\n",
       "      <td>46.2N</td>\n",
       "      <td>83.4E</td>\n",
       "      <td>60.0</td>\n",
       "      <td>151</td>\n",
       "      <td>111</td>\n",
       "      <td>02m15s</td>\n",
       "      <td>1998</td>\n",
       "      <td>June</td>\n",
       "      <td>1.0</td>\n",
       "    </tr>\n",
       "    <tr>\n",
       "      <th>3</th>\n",
       "      <td>5:57:03</td>\n",
       "      <td>46403.0</td>\n",
       "      <td>-49438</td>\n",
       "      <td>20.0</td>\n",
       "      <td>A</td>\n",
       "      <td>-0.9045</td>\n",
       "      <td>0.9806</td>\n",
       "      <td>67.8S</td>\n",
       "      <td>143.8W</td>\n",
       "      <td>25.0</td>\n",
       "      <td>74</td>\n",
       "      <td>162</td>\n",
       "      <td>01m14s</td>\n",
       "      <td>1998</td>\n",
       "      <td>November</td>\n",
       "      <td>25.0</td>\n",
       "    </tr>\n",
       "    <tr>\n",
       "      <th>4</th>\n",
       "      <td>13:19:56</td>\n",
       "      <td>46393.0</td>\n",
       "      <td>-49433</td>\n",
       "      <td>-13.0</td>\n",
       "      <td>P</td>\n",
       "      <td>-1.4670</td>\n",
       "      <td>0.1611</td>\n",
       "      <td>60.6S</td>\n",
       "      <td>106.4W</td>\n",
       "      <td>0.0</td>\n",
       "      <td>281</td>\n",
       "      <td>0</td>\n",
       "      <td>0</td>\n",
       "      <td>1997</td>\n",
       "      <td>April</td>\n",
       "      <td>22.0</td>\n",
       "    </tr>\n",
       "    <tr>\n",
       "      <th>5</th>\n",
       "      <td>2:45:35</td>\n",
       "      <td>46391.0</td>\n",
       "      <td>-49432</td>\n",
       "      <td>25.0</td>\n",
       "      <td>P</td>\n",
       "      <td>1.3253</td>\n",
       "      <td>0.4035</td>\n",
       "      <td>61.7N</td>\n",
       "      <td>151.7W</td>\n",
       "      <td>0.0</td>\n",
       "      <td>55</td>\n",
       "      <td>0</td>\n",
       "      <td>0</td>\n",
       "      <td>1997</td>\n",
       "      <td>May</td>\n",
       "      <td>22.0</td>\n",
       "    </tr>\n",
       "  </tbody>\n",
       "</table>\n",
       "</div>"
      ],
      "text/plain": [
       "  Eclipse_Time  Delta_T_(s)  Lunation_Number  Saros_Number Eclipse_Type  \\\n",
       "1     23:45:23      46426.0           -49450          10.0            A   \n",
       "2     18:09:16      46415.0           -49444          15.0            T   \n",
       "3      5:57:03      46403.0           -49438          20.0            A   \n",
       "4     13:19:56      46393.0           -49433         -13.0            P   \n",
       "5      2:45:35      46391.0           -49432          25.0            P   \n",
       "\n",
       "    Gamma  Eclipse_Magnitude Latitude Longitude  Sun_Altitude  Sun_Azimuth  \\\n",
       "1 -0.2317             0.9382    32.9S     10.8E          76.0           21   \n",
       "2  0.4994             1.0284    46.2N     83.4E          60.0          151   \n",
       "3 -0.9045             0.9806    67.8S    143.8W          25.0           74   \n",
       "4 -1.4670             0.1611    60.6S    106.4W           0.0          281   \n",
       "5  1.3253             0.4035    61.7N    151.7W           0.0           55   \n",
       "\n",
       "  Path_Width_(km) Central_Duration Calendar_Year Calendar_Month  Calendar_Day  \n",
       "1             236           06m44s          1999       December           5.0  \n",
       "2             111           02m15s          1998           June           1.0  \n",
       "3             162           01m14s          1998       November          25.0  \n",
       "4               0                0          1997          April          22.0  \n",
       "5               0                0          1997            May          22.0  "
      ]
     },
     "execution_count": 26,
     "metadata": {},
     "output_type": "execute_result"
    }
   ],
   "source": [
    "df.head()"
   ]
  },
  {
   "cell_type": "code",
   "execution_count": 27,
   "metadata": {
    "colab": {
     "base_uri": "https://localhost:8080/"
    },
    "id": "a08epN-R6yZb",
    "outputId": "0f7a0ca7-71ad-497f-a531-5a01758cfa79"
   },
   "outputs": [
    {
     "data": {
      "text/plain": [
       "Eclipse_Time          0\n",
       "Delta_T_(s)           0\n",
       "Lunation_Number       0\n",
       "Saros_Number          0\n",
       "Eclipse_Type          0\n",
       "Gamma                 0\n",
       "Eclipse_Magnitude     0\n",
       "Latitude              0\n",
       "Longitude             0\n",
       "Sun_Altitude          0\n",
       "Sun_Azimuth           0\n",
       "Path_Width_(km)       0\n",
       "Central_Duration      0\n",
       "Calendar_Year         0\n",
       "Calendar_Month       70\n",
       "Calendar_Day         70\n",
       "dtype: int64"
      ]
     },
     "execution_count": 27,
     "metadata": {},
     "output_type": "execute_result"
    }
   ],
   "source": [
    "df.isnull().sum()"
   ]
  },
  {
   "cell_type": "code",
   "execution_count": 28,
   "metadata": {
    "id": "dvVrvf5l65zj"
   },
   "outputs": [],
   "source": [
    "df = df.dropna(axis=0, subset=['Calendar_Month','Calendar_Day'])"
   ]
  },
  {
   "cell_type": "markdown",
   "metadata": {
    "id": "exuQJr1VYp3t"
   },
   "source": [
    "### Dealing with the Eclipse Time column"
   ]
  },
  {
   "cell_type": "code",
   "execution_count": 29,
   "metadata": {
    "id": "epoo8z_5LQJq"
   },
   "outputs": [],
   "source": [
    "def change_into_datetime(col):\n",
    "  df[col] = pd.to_datetime(df[col])"
   ]
  },
  {
   "cell_type": "markdown",
   "metadata": {
    "id": "KrlyPMZgM1YI"
   },
   "source": [
    "#### Changing into Datetime format"
   ]
  },
  {
   "cell_type": "code",
   "execution_count": 30,
   "metadata": {
    "colab": {
     "base_uri": "https://localhost:8080/"
    },
    "id": "jrTHn-SvLQGn",
    "outputId": "69b808aa-f3d9-4c7e-b653-8534438639e3"
   },
   "outputs": [
    {
     "name": "stderr",
     "output_type": "stream",
     "text": [
      "C:\\Users\\USER\\AppData\\Local\\Temp\\ipykernel_1524\\4195164111.py:2: SettingWithCopyWarning: \n",
      "A value is trying to be set on a copy of a slice from a DataFrame.\n",
      "Try using .loc[row_indexer,col_indexer] = value instead\n",
      "\n",
      "See the caveats in the documentation: https://pandas.pydata.org/pandas-docs/stable/user_guide/indexing.html#returning-a-view-versus-a-copy\n",
      "  df[col] = pd.to_datetime(df[col])\n"
     ]
    }
   ],
   "source": [
    "for i in ['Eclipse_Time']:\n",
    "  change_into_datetime(i)"
   ]
  },
  {
   "cell_type": "code",
   "execution_count": 31,
   "metadata": {
    "colab": {
     "base_uri": "https://localhost:8080/"
    },
    "id": "d2Pz_RM8LQEI",
    "outputId": "7b52b674-7721-49e4-b436-e9cf66192d6a"
   },
   "outputs": [
    {
     "data": {
      "text/plain": [
       "Eclipse_Time         datetime64[ns]\n",
       "Delta_T_(s)                 float64\n",
       "Lunation_Number               int64\n",
       "Saros_Number                float64\n",
       "Eclipse_Type                 object\n",
       "Gamma                       float64\n",
       "Eclipse_Magnitude           float64\n",
       "Latitude                     object\n",
       "Longitude                    object\n",
       "Sun_Altitude                float64\n",
       "Sun_Azimuth                   int64\n",
       "Path_Width_(km)              object\n",
       "Central_Duration             object\n",
       "Calendar_Year                object\n",
       "Calendar_Month               object\n",
       "Calendar_Day                float64\n",
       "dtype: object"
      ]
     },
     "execution_count": 31,
     "metadata": {},
     "output_type": "execute_result"
    }
   ],
   "source": [
    "df.dtypes"
   ]
  },
  {
   "cell_type": "markdown",
   "metadata": {
    "id": "LOrovQ4yM7cW"
   },
   "source": [
    "#### Extracting the hour, minutes and seconds"
   ]
  },
  {
   "cell_type": "code",
   "execution_count": 32,
   "metadata": {
    "id": "_4uqbjgqLQBA"
   },
   "outputs": [],
   "source": [
    "def extract_hour(df,col):\n",
    "  df[col + '_hour'] = df[col].dt.hour\n",
    "  \n",
    "def extract_minute(df,col):\n",
    "  df[col + '_minute'] = df[col].dt.minute\n",
    "\n",
    "def extract_seconds(df,col):\n",
    "  df[col + '_seconds'] = df[col].dt.second"
   ]
  },
  {
   "cell_type": "code",
   "execution_count": 33,
   "metadata": {
    "colab": {
     "base_uri": "https://localhost:8080/"
    },
    "id": "1GqYXkL5LP-T",
    "outputId": "997fb78d-9e34-49b7-d2e3-7cd15a3ec6ad"
   },
   "outputs": [
    {
     "name": "stderr",
     "output_type": "stream",
     "text": [
      "C:\\Users\\USER\\AppData\\Local\\Temp\\ipykernel_1524\\2064256942.py:2: SettingWithCopyWarning: \n",
      "A value is trying to be set on a copy of a slice from a DataFrame.\n",
      "Try using .loc[row_indexer,col_indexer] = value instead\n",
      "\n",
      "See the caveats in the documentation: https://pandas.pydata.org/pandas-docs/stable/user_guide/indexing.html#returning-a-view-versus-a-copy\n",
      "  df[col + '_hour'] = df[col].dt.hour\n",
      "C:\\Users\\USER\\AppData\\Local\\Temp\\ipykernel_1524\\2064256942.py:5: SettingWithCopyWarning: \n",
      "A value is trying to be set on a copy of a slice from a DataFrame.\n",
      "Try using .loc[row_indexer,col_indexer] = value instead\n",
      "\n",
      "See the caveats in the documentation: https://pandas.pydata.org/pandas-docs/stable/user_guide/indexing.html#returning-a-view-versus-a-copy\n",
      "  df[col + '_minute'] = df[col].dt.minute\n",
      "C:\\Users\\USER\\AppData\\Local\\Temp\\ipykernel_1524\\2064256942.py:8: SettingWithCopyWarning: \n",
      "A value is trying to be set on a copy of a slice from a DataFrame.\n",
      "Try using .loc[row_indexer,col_indexer] = value instead\n",
      "\n",
      "See the caveats in the documentation: https://pandas.pydata.org/pandas-docs/stable/user_guide/indexing.html#returning-a-view-versus-a-copy\n",
      "  df[col + '_seconds'] = df[col].dt.second\n"
     ]
    }
   ],
   "source": [
    "extract_hour(df,'Eclipse_Time')\n",
    "extract_minute(df,'Eclipse_Time')\n",
    "extract_seconds(df,'Eclipse_Time')"
   ]
  },
  {
   "cell_type": "code",
   "execution_count": 34,
   "metadata": {
    "colab": {
     "base_uri": "https://localhost:8080/"
    },
    "id": "y3RGvDk2apCt",
    "outputId": "0b3f7927-f6f2-4a05-c9c3-571d97d1b0d8"
   },
   "outputs": [
    {
     "name": "stderr",
     "output_type": "stream",
     "text": [
      "C:\\Users\\USER\\AppData\\Local\\Temp\\ipykernel_1524\\3060274168.py:1: SettingWithCopyWarning: \n",
      "A value is trying to be set on a copy of a slice from a DataFrame\n",
      "\n",
      "See the caveats in the documentation: https://pandas.pydata.org/pandas-docs/stable/user_guide/indexing.html#returning-a-view-versus-a-copy\n",
      "  df.drop(['Eclipse_Time'],axis=1,inplace=True)\n"
     ]
    }
   ],
   "source": [
    "df.drop(['Eclipse_Time'],axis=1,inplace=True)"
   ]
  },
  {
   "cell_type": "code",
   "execution_count": 35,
   "metadata": {
    "colab": {
     "base_uri": "https://localhost:8080/",
     "height": 437
    },
    "id": "ZvI5IJuNLP7K",
    "outputId": "0a63937b-a298-4fe1-cb21-14820887771c"
   },
   "outputs": [
    {
     "data": {
      "text/html": [
       "<div>\n",
       "<style scoped>\n",
       "    .dataframe tbody tr th:only-of-type {\n",
       "        vertical-align: middle;\n",
       "    }\n",
       "\n",
       "    .dataframe tbody tr th {\n",
       "        vertical-align: top;\n",
       "    }\n",
       "\n",
       "    .dataframe thead th {\n",
       "        text-align: right;\n",
       "    }\n",
       "</style>\n",
       "<table border=\"1\" class=\"dataframe\">\n",
       "  <thead>\n",
       "    <tr style=\"text-align: right;\">\n",
       "      <th></th>\n",
       "      <th>Delta_T_(s)</th>\n",
       "      <th>Lunation_Number</th>\n",
       "      <th>Saros_Number</th>\n",
       "      <th>Eclipse_Type</th>\n",
       "      <th>Gamma</th>\n",
       "      <th>Eclipse_Magnitude</th>\n",
       "      <th>Latitude</th>\n",
       "      <th>Longitude</th>\n",
       "      <th>Sun_Altitude</th>\n",
       "      <th>Sun_Azimuth</th>\n",
       "      <th>Path_Width_(km)</th>\n",
       "      <th>Central_Duration</th>\n",
       "      <th>Calendar_Year</th>\n",
       "      <th>Calendar_Month</th>\n",
       "      <th>Calendar_Day</th>\n",
       "      <th>Eclipse_Time_hour</th>\n",
       "      <th>Eclipse_Time_minute</th>\n",
       "      <th>Eclipse_Time_seconds</th>\n",
       "    </tr>\n",
       "  </thead>\n",
       "  <tbody>\n",
       "    <tr>\n",
       "      <th>1</th>\n",
       "      <td>46426.0</td>\n",
       "      <td>-49450</td>\n",
       "      <td>10.0</td>\n",
       "      <td>A</td>\n",
       "      <td>-0.2317</td>\n",
       "      <td>0.9382</td>\n",
       "      <td>32.9S</td>\n",
       "      <td>10.8E</td>\n",
       "      <td>76.0</td>\n",
       "      <td>21</td>\n",
       "      <td>236</td>\n",
       "      <td>06m44s</td>\n",
       "      <td>1999</td>\n",
       "      <td>December</td>\n",
       "      <td>5.0</td>\n",
       "      <td>23</td>\n",
       "      <td>45</td>\n",
       "      <td>23</td>\n",
       "    </tr>\n",
       "    <tr>\n",
       "      <th>2</th>\n",
       "      <td>46415.0</td>\n",
       "      <td>-49444</td>\n",
       "      <td>15.0</td>\n",
       "      <td>T</td>\n",
       "      <td>0.4994</td>\n",
       "      <td>1.0284</td>\n",
       "      <td>46.2N</td>\n",
       "      <td>83.4E</td>\n",
       "      <td>60.0</td>\n",
       "      <td>151</td>\n",
       "      <td>111</td>\n",
       "      <td>02m15s</td>\n",
       "      <td>1998</td>\n",
       "      <td>June</td>\n",
       "      <td>1.0</td>\n",
       "      <td>18</td>\n",
       "      <td>9</td>\n",
       "      <td>16</td>\n",
       "    </tr>\n",
       "    <tr>\n",
       "      <th>3</th>\n",
       "      <td>46403.0</td>\n",
       "      <td>-49438</td>\n",
       "      <td>20.0</td>\n",
       "      <td>A</td>\n",
       "      <td>-0.9045</td>\n",
       "      <td>0.9806</td>\n",
       "      <td>67.8S</td>\n",
       "      <td>143.8W</td>\n",
       "      <td>25.0</td>\n",
       "      <td>74</td>\n",
       "      <td>162</td>\n",
       "      <td>01m14s</td>\n",
       "      <td>1998</td>\n",
       "      <td>November</td>\n",
       "      <td>25.0</td>\n",
       "      <td>5</td>\n",
       "      <td>57</td>\n",
       "      <td>3</td>\n",
       "    </tr>\n",
       "    <tr>\n",
       "      <th>4</th>\n",
       "      <td>46393.0</td>\n",
       "      <td>-49433</td>\n",
       "      <td>-13.0</td>\n",
       "      <td>P</td>\n",
       "      <td>-1.4670</td>\n",
       "      <td>0.1611</td>\n",
       "      <td>60.6S</td>\n",
       "      <td>106.4W</td>\n",
       "      <td>0.0</td>\n",
       "      <td>281</td>\n",
       "      <td>0</td>\n",
       "      <td>0</td>\n",
       "      <td>1997</td>\n",
       "      <td>April</td>\n",
       "      <td>22.0</td>\n",
       "      <td>13</td>\n",
       "      <td>19</td>\n",
       "      <td>56</td>\n",
       "    </tr>\n",
       "    <tr>\n",
       "      <th>5</th>\n",
       "      <td>46391.0</td>\n",
       "      <td>-49432</td>\n",
       "      <td>25.0</td>\n",
       "      <td>P</td>\n",
       "      <td>1.3253</td>\n",
       "      <td>0.4035</td>\n",
       "      <td>61.7N</td>\n",
       "      <td>151.7W</td>\n",
       "      <td>0.0</td>\n",
       "      <td>55</td>\n",
       "      <td>0</td>\n",
       "      <td>0</td>\n",
       "      <td>1997</td>\n",
       "      <td>May</td>\n",
       "      <td>22.0</td>\n",
       "      <td>2</td>\n",
       "      <td>45</td>\n",
       "      <td>35</td>\n",
       "    </tr>\n",
       "    <tr>\n",
       "      <th>...</th>\n",
       "      <td>...</td>\n",
       "      <td>...</td>\n",
       "      <td>...</td>\n",
       "      <td>...</td>\n",
       "      <td>...</td>\n",
       "      <td>...</td>\n",
       "      <td>...</td>\n",
       "      <td>...</td>\n",
       "      <td>...</td>\n",
       "      <td>...</td>\n",
       "      <td>...</td>\n",
       "      <td>...</td>\n",
       "      <td>...</td>\n",
       "      <td>...</td>\n",
       "      <td>...</td>\n",
       "      <td>...</td>\n",
       "      <td>...</td>\n",
       "      <td>...</td>\n",
       "    </tr>\n",
       "    <tr>\n",
       "      <th>2375</th>\n",
       "      <td>4414.0</td>\n",
       "      <td>12355</td>\n",
       "      <td>187.0</td>\n",
       "      <td>P</td>\n",
       "      <td>1.2838</td>\n",
       "      <td>0.4773</td>\n",
       "      <td>67.2N</td>\n",
       "      <td>145.0E</td>\n",
       "      <td>0.0</td>\n",
       "      <td>179</td>\n",
       "      <td>0</td>\n",
       "      <td>0</td>\n",
       "      <td>2998</td>\n",
       "      <td>December</td>\n",
       "      <td>10.0</td>\n",
       "      <td>3</td>\n",
       "      <td>18</td>\n",
       "      <td>31</td>\n",
       "    </tr>\n",
       "    <tr>\n",
       "      <th>2376</th>\n",
       "      <td>4417.0</td>\n",
       "      <td>12360</td>\n",
       "      <td>154.0</td>\n",
       "      <td>T</td>\n",
       "      <td>0.8388</td>\n",
       "      <td>1.0566</td>\n",
       "      <td>71.5N</td>\n",
       "      <td>177.3E</td>\n",
       "      <td>33.0</td>\n",
       "      <td>146</td>\n",
       "      <td>345</td>\n",
       "      <td>03m25s</td>\n",
       "      <td>2999</td>\n",
       "      <td>May</td>\n",
       "      <td>6.0</td>\n",
       "      <td>23</td>\n",
       "      <td>23</td>\n",
       "      <td>57</td>\n",
       "    </tr>\n",
       "    <tr>\n",
       "      <th>2377</th>\n",
       "      <td>4420.0</td>\n",
       "      <td>12366</td>\n",
       "      <td>159.0</td>\n",
       "      <td>A</td>\n",
       "      <td>-1.0023</td>\n",
       "      <td>0.9586</td>\n",
       "      <td>70.9S</td>\n",
       "      <td>84.7W</td>\n",
       "      <td>0.0</td>\n",
       "      <td>137</td>\n",
       "      <td>-</td>\n",
       "      <td>-</td>\n",
       "      <td>2999</td>\n",
       "      <td>October</td>\n",
       "      <td>30.0</td>\n",
       "      <td>9</td>\n",
       "      <td>34</td>\n",
       "      <td>33</td>\n",
       "    </tr>\n",
       "    <tr>\n",
       "      <th>2378</th>\n",
       "      <td>4424.0</td>\n",
       "      <td>12372</td>\n",
       "      <td>164.0</td>\n",
       "      <td>T</td>\n",
       "      <td>0.1310</td>\n",
       "      <td>1.0222</td>\n",
       "      <td>21.1N</td>\n",
       "      <td>18.4W</td>\n",
       "      <td>82.0</td>\n",
       "      <td>166</td>\n",
       "      <td>76</td>\n",
       "      <td>02m11s</td>\n",
       "      <td>3000</td>\n",
       "      <td>April</td>\n",
       "      <td>26.0</td>\n",
       "      <td>14</td>\n",
       "      <td>18</td>\n",
       "      <td>6</td>\n",
       "    </tr>\n",
       "    <tr>\n",
       "      <th>2379</th>\n",
       "      <td>4428.0</td>\n",
       "      <td>12378</td>\n",
       "      <td>169.0</td>\n",
       "      <td>H</td>\n",
       "      <td>-0.2303</td>\n",
       "      <td>1.0049</td>\n",
       "      <td>23.1S</td>\n",
       "      <td>51.6W</td>\n",
       "      <td>77.0</td>\n",
       "      <td>16</td>\n",
       "      <td>17</td>\n",
       "      <td>00m29s</td>\n",
       "      <td>3000</td>\n",
       "      <td>October</td>\n",
       "      <td>19.0</td>\n",
       "      <td>16</td>\n",
       "      <td>10</td>\n",
       "      <td>16</td>\n",
       "    </tr>\n",
       "  </tbody>\n",
       "</table>\n",
       "<p>11764 rows × 18 columns</p>\n",
       "</div>"
      ],
      "text/plain": [
       "      Delta_T_(s)  Lunation_Number  Saros_Number Eclipse_Type   Gamma  \\\n",
       "1         46426.0           -49450          10.0            A -0.2317   \n",
       "2         46415.0           -49444          15.0            T  0.4994   \n",
       "3         46403.0           -49438          20.0            A -0.9045   \n",
       "4         46393.0           -49433         -13.0            P -1.4670   \n",
       "5         46391.0           -49432          25.0            P  1.3253   \n",
       "...           ...              ...           ...          ...     ...   \n",
       "2375       4414.0            12355         187.0            P  1.2838   \n",
       "2376       4417.0            12360         154.0            T  0.8388   \n",
       "2377       4420.0            12366         159.0            A -1.0023   \n",
       "2378       4424.0            12372         164.0            T  0.1310   \n",
       "2379       4428.0            12378         169.0            H -0.2303   \n",
       "\n",
       "      Eclipse_Magnitude Latitude Longitude  Sun_Altitude  Sun_Azimuth  \\\n",
       "1                0.9382    32.9S     10.8E          76.0           21   \n",
       "2                1.0284    46.2N     83.4E          60.0          151   \n",
       "3                0.9806    67.8S    143.8W          25.0           74   \n",
       "4                0.1611    60.6S    106.4W           0.0          281   \n",
       "5                0.4035    61.7N    151.7W           0.0           55   \n",
       "...                 ...      ...       ...           ...          ...   \n",
       "2375             0.4773    67.2N    145.0E           0.0          179   \n",
       "2376             1.0566    71.5N    177.3E          33.0          146   \n",
       "2377             0.9586    70.9S     84.7W           0.0          137   \n",
       "2378             1.0222    21.1N     18.4W          82.0          166   \n",
       "2379             1.0049    23.1S     51.6W          77.0           16   \n",
       "\n",
       "     Path_Width_(km) Central_Duration Calendar_Year Calendar_Month  \\\n",
       "1                236           06m44s          1999       December   \n",
       "2                111           02m15s          1998           June   \n",
       "3                162           01m14s          1998       November   \n",
       "4                  0                0          1997          April   \n",
       "5                  0                0          1997            May   \n",
       "...              ...              ...           ...            ...   \n",
       "2375               0                0          2998       December   \n",
       "2376             345           03m25s          2999            May   \n",
       "2377               -                -          2999        October   \n",
       "2378              76           02m11s          3000          April   \n",
       "2379              17           00m29s          3000        October   \n",
       "\n",
       "      Calendar_Day  Eclipse_Time_hour  Eclipse_Time_minute  \\\n",
       "1              5.0                 23                   45   \n",
       "2              1.0                 18                    9   \n",
       "3             25.0                  5                   57   \n",
       "4             22.0                 13                   19   \n",
       "5             22.0                  2                   45   \n",
       "...            ...                ...                  ...   \n",
       "2375          10.0                  3                   18   \n",
       "2376           6.0                 23                   23   \n",
       "2377          30.0                  9                   34   \n",
       "2378          26.0                 14                   18   \n",
       "2379          19.0                 16                   10   \n",
       "\n",
       "      Eclipse_Time_seconds  \n",
       "1                       23  \n",
       "2                       16  \n",
       "3                        3  \n",
       "4                       56  \n",
       "5                       35  \n",
       "...                    ...  \n",
       "2375                    31  \n",
       "2376                    57  \n",
       "2377                    33  \n",
       "2378                     6  \n",
       "2379                    16  \n",
       "\n",
       "[11764 rows x 18 columns]"
      ]
     },
     "execution_count": 35,
     "metadata": {},
     "output_type": "execute_result"
    }
   ],
   "source": [
    "df"
   ]
  },
  {
   "cell_type": "markdown",
   "metadata": {
    "id": "ng2tmExkhhCB"
   },
   "source": [
    "### Dealing with Latitude and Longitude Column"
   ]
  },
  {
   "cell_type": "code",
   "execution_count": 36,
   "metadata": {
    "colab": {
     "base_uri": "https://localhost:8080/"
    },
    "id": "DTM3DHMGLP1h",
    "outputId": "7e9f7ca5-0f2d-46fc-ff57-09fae0d3cefb"
   },
   "outputs": [
    {
     "name": "stderr",
     "output_type": "stream",
     "text": [
      "C:\\Users\\USER\\AppData\\Local\\Temp\\ipykernel_1524\\1305389450.py:1: SettingWithCopyWarning: \n",
      "A value is trying to be set on a copy of a slice from a DataFrame.\n",
      "Try using .loc[row_indexer,col_indexer] = value instead\n",
      "\n",
      "See the caveats in the documentation: https://pandas.pydata.org/pandas-docs/stable/user_guide/indexing.html#returning-a-view-versus-a-copy\n",
      "  df['Latitude_number'] = df['Latitude'].str.slice(stop=-1)\n",
      "C:\\Users\\USER\\AppData\\Local\\Temp\\ipykernel_1524\\1305389450.py:2: SettingWithCopyWarning: \n",
      "A value is trying to be set on a copy of a slice from a DataFrame.\n",
      "Try using .loc[row_indexer,col_indexer] = value instead\n",
      "\n",
      "See the caveats in the documentation: https://pandas.pydata.org/pandas-docs/stable/user_guide/indexing.html#returning-a-view-versus-a-copy\n",
      "  df[\"Latitude_number\"] = pd.to_numeric(df[\"Latitude_number\"])\n",
      "C:\\Users\\USER\\AppData\\Local\\Temp\\ipykernel_1524\\1305389450.py:4: SettingWithCopyWarning: \n",
      "A value is trying to be set on a copy of a slice from a DataFrame.\n",
      "Try using .loc[row_indexer,col_indexer] = value instead\n",
      "\n",
      "See the caveats in the documentation: https://pandas.pydata.org/pandas-docs/stable/user_guide/indexing.html#returning-a-view-versus-a-copy\n",
      "  df['Latitude_letter'] = df['Latitude'].str.slice(start=-1)\n"
     ]
    }
   ],
   "source": [
    "df['Latitude_number'] = df['Latitude'].str.slice(stop=-1)\n",
    "df[\"Latitude_number\"] = pd.to_numeric(df[\"Latitude_number\"])\n",
    "\n",
    "df['Latitude_letter'] = df['Latitude'].str.slice(start=-1)"
   ]
  },
  {
   "cell_type": "markdown",
   "metadata": {
    "id": "w47DvpWXOe6s"
   },
   "source": [
    "#### Extracting the longitude and latitude numeric value and direction "
   ]
  },
  {
   "cell_type": "code",
   "execution_count": 37,
   "metadata": {
    "colab": {
     "base_uri": "https://localhost:8080/"
    },
    "id": "2J50quSnGNHr",
    "outputId": "4cbba969-8dcc-43ec-b9b6-b6b3f4ab9373"
   },
   "outputs": [
    {
     "name": "stderr",
     "output_type": "stream",
     "text": [
      "C:\\Users\\USER\\AppData\\Local\\Temp\\ipykernel_1524\\1432538413.py:1: SettingWithCopyWarning: \n",
      "A value is trying to be set on a copy of a slice from a DataFrame.\n",
      "Try using .loc[row_indexer,col_indexer] = value instead\n",
      "\n",
      "See the caveats in the documentation: https://pandas.pydata.org/pandas-docs/stable/user_guide/indexing.html#returning-a-view-versus-a-copy\n",
      "  df['Longitude_number'] = df['Longitude'].str.slice(stop=-1)\n",
      "C:\\Users\\USER\\AppData\\Local\\Temp\\ipykernel_1524\\1432538413.py:2: SettingWithCopyWarning: \n",
      "A value is trying to be set on a copy of a slice from a DataFrame.\n",
      "Try using .loc[row_indexer,col_indexer] = value instead\n",
      "\n",
      "See the caveats in the documentation: https://pandas.pydata.org/pandas-docs/stable/user_guide/indexing.html#returning-a-view-versus-a-copy\n",
      "  df[\"Longitude_number\"] = pd.to_numeric(df[\"Longitude_number\"])\n",
      "C:\\Users\\USER\\AppData\\Local\\Temp\\ipykernel_1524\\1432538413.py:4: SettingWithCopyWarning: \n",
      "A value is trying to be set on a copy of a slice from a DataFrame.\n",
      "Try using .loc[row_indexer,col_indexer] = value instead\n",
      "\n",
      "See the caveats in the documentation: https://pandas.pydata.org/pandas-docs/stable/user_guide/indexing.html#returning-a-view-versus-a-copy\n",
      "  df['Longitude_letter'] = df['Longitude'].str.slice(start=-1)\n"
     ]
    }
   ],
   "source": [
    "df['Longitude_number'] = df['Longitude'].str.slice(stop=-1)\n",
    "df[\"Longitude_number\"] = pd.to_numeric(df[\"Longitude_number\"])\n",
    "\n",
    "df['Longitude_letter'] = df['Longitude'].str.slice(start=-1)"
   ]
  },
  {
   "cell_type": "code",
   "execution_count": 38,
   "metadata": {
    "colab": {
     "base_uri": "https://localhost:8080/"
    },
    "id": "C1rcL1carjTC",
    "outputId": "32b4fc80-9686-4925-bf00-8535de5e1fc4"
   },
   "outputs": [
    {
     "name": "stderr",
     "output_type": "stream",
     "text": [
      "C:\\Users\\USER\\AppData\\Local\\Temp\\ipykernel_1524\\422925045.py:1: SettingWithCopyWarning: \n",
      "A value is trying to be set on a copy of a slice from a DataFrame\n",
      "\n",
      "See the caveats in the documentation: https://pandas.pydata.org/pandas-docs/stable/user_guide/indexing.html#returning-a-view-versus-a-copy\n",
      "  df.drop(['Latitude','Longitude'],axis=1,inplace=True)\n"
     ]
    }
   ],
   "source": [
    "df.drop(['Latitude','Longitude'],axis=1,inplace=True)"
   ]
  },
  {
   "cell_type": "code",
   "execution_count": 39,
   "metadata": {
    "colab": {
     "base_uri": "https://localhost:8080/",
     "height": 223
    },
    "id": "PqByareZGNFF",
    "outputId": "de1d93cd-0d11-4d61-f704-a570404082a1"
   },
   "outputs": [
    {
     "data": {
      "text/html": [
       "<div>\n",
       "<style scoped>\n",
       "    .dataframe tbody tr th:only-of-type {\n",
       "        vertical-align: middle;\n",
       "    }\n",
       "\n",
       "    .dataframe tbody tr th {\n",
       "        vertical-align: top;\n",
       "    }\n",
       "\n",
       "    .dataframe thead th {\n",
       "        text-align: right;\n",
       "    }\n",
       "</style>\n",
       "<table border=\"1\" class=\"dataframe\">\n",
       "  <thead>\n",
       "    <tr style=\"text-align: right;\">\n",
       "      <th></th>\n",
       "      <th>Delta_T_(s)</th>\n",
       "      <th>Lunation_Number</th>\n",
       "      <th>Saros_Number</th>\n",
       "      <th>Eclipse_Type</th>\n",
       "      <th>Gamma</th>\n",
       "      <th>Eclipse_Magnitude</th>\n",
       "      <th>Sun_Altitude</th>\n",
       "      <th>Sun_Azimuth</th>\n",
       "      <th>Path_Width_(km)</th>\n",
       "      <th>Central_Duration</th>\n",
       "      <th>Calendar_Year</th>\n",
       "      <th>Calendar_Month</th>\n",
       "      <th>Calendar_Day</th>\n",
       "      <th>Eclipse_Time_hour</th>\n",
       "      <th>Eclipse_Time_minute</th>\n",
       "      <th>Eclipse_Time_seconds</th>\n",
       "      <th>Latitude_number</th>\n",
       "      <th>Latitude_letter</th>\n",
       "      <th>Longitude_number</th>\n",
       "      <th>Longitude_letter</th>\n",
       "    </tr>\n",
       "  </thead>\n",
       "  <tbody>\n",
       "    <tr>\n",
       "      <th>1</th>\n",
       "      <td>46426.0</td>\n",
       "      <td>-49450</td>\n",
       "      <td>10.0</td>\n",
       "      <td>A</td>\n",
       "      <td>-0.2317</td>\n",
       "      <td>0.9382</td>\n",
       "      <td>76.0</td>\n",
       "      <td>21</td>\n",
       "      <td>236</td>\n",
       "      <td>06m44s</td>\n",
       "      <td>1999</td>\n",
       "      <td>December</td>\n",
       "      <td>5.0</td>\n",
       "      <td>23</td>\n",
       "      <td>45</td>\n",
       "      <td>23</td>\n",
       "      <td>32.9</td>\n",
       "      <td>S</td>\n",
       "      <td>10.8</td>\n",
       "      <td>E</td>\n",
       "    </tr>\n",
       "    <tr>\n",
       "      <th>2</th>\n",
       "      <td>46415.0</td>\n",
       "      <td>-49444</td>\n",
       "      <td>15.0</td>\n",
       "      <td>T</td>\n",
       "      <td>0.4994</td>\n",
       "      <td>1.0284</td>\n",
       "      <td>60.0</td>\n",
       "      <td>151</td>\n",
       "      <td>111</td>\n",
       "      <td>02m15s</td>\n",
       "      <td>1998</td>\n",
       "      <td>June</td>\n",
       "      <td>1.0</td>\n",
       "      <td>18</td>\n",
       "      <td>9</td>\n",
       "      <td>16</td>\n",
       "      <td>46.2</td>\n",
       "      <td>N</td>\n",
       "      <td>83.4</td>\n",
       "      <td>E</td>\n",
       "    </tr>\n",
       "    <tr>\n",
       "      <th>3</th>\n",
       "      <td>46403.0</td>\n",
       "      <td>-49438</td>\n",
       "      <td>20.0</td>\n",
       "      <td>A</td>\n",
       "      <td>-0.9045</td>\n",
       "      <td>0.9806</td>\n",
       "      <td>25.0</td>\n",
       "      <td>74</td>\n",
       "      <td>162</td>\n",
       "      <td>01m14s</td>\n",
       "      <td>1998</td>\n",
       "      <td>November</td>\n",
       "      <td>25.0</td>\n",
       "      <td>5</td>\n",
       "      <td>57</td>\n",
       "      <td>3</td>\n",
       "      <td>67.8</td>\n",
       "      <td>S</td>\n",
       "      <td>143.8</td>\n",
       "      <td>W</td>\n",
       "    </tr>\n",
       "    <tr>\n",
       "      <th>4</th>\n",
       "      <td>46393.0</td>\n",
       "      <td>-49433</td>\n",
       "      <td>-13.0</td>\n",
       "      <td>P</td>\n",
       "      <td>-1.4670</td>\n",
       "      <td>0.1611</td>\n",
       "      <td>0.0</td>\n",
       "      <td>281</td>\n",
       "      <td>0</td>\n",
       "      <td>0</td>\n",
       "      <td>1997</td>\n",
       "      <td>April</td>\n",
       "      <td>22.0</td>\n",
       "      <td>13</td>\n",
       "      <td>19</td>\n",
       "      <td>56</td>\n",
       "      <td>60.6</td>\n",
       "      <td>S</td>\n",
       "      <td>106.4</td>\n",
       "      <td>W</td>\n",
       "    </tr>\n",
       "    <tr>\n",
       "      <th>5</th>\n",
       "      <td>46391.0</td>\n",
       "      <td>-49432</td>\n",
       "      <td>25.0</td>\n",
       "      <td>P</td>\n",
       "      <td>1.3253</td>\n",
       "      <td>0.4035</td>\n",
       "      <td>0.0</td>\n",
       "      <td>55</td>\n",
       "      <td>0</td>\n",
       "      <td>0</td>\n",
       "      <td>1997</td>\n",
       "      <td>May</td>\n",
       "      <td>22.0</td>\n",
       "      <td>2</td>\n",
       "      <td>45</td>\n",
       "      <td>35</td>\n",
       "      <td>61.7</td>\n",
       "      <td>N</td>\n",
       "      <td>151.7</td>\n",
       "      <td>W</td>\n",
       "    </tr>\n",
       "  </tbody>\n",
       "</table>\n",
       "</div>"
      ],
      "text/plain": [
       "   Delta_T_(s)  Lunation_Number  Saros_Number Eclipse_Type   Gamma  \\\n",
       "1      46426.0           -49450          10.0            A -0.2317   \n",
       "2      46415.0           -49444          15.0            T  0.4994   \n",
       "3      46403.0           -49438          20.0            A -0.9045   \n",
       "4      46393.0           -49433         -13.0            P -1.4670   \n",
       "5      46391.0           -49432          25.0            P  1.3253   \n",
       "\n",
       "   Eclipse_Magnitude  Sun_Altitude  Sun_Azimuth Path_Width_(km)  \\\n",
       "1             0.9382          76.0           21             236   \n",
       "2             1.0284          60.0          151             111   \n",
       "3             0.9806          25.0           74             162   \n",
       "4             0.1611           0.0          281               0   \n",
       "5             0.4035           0.0           55               0   \n",
       "\n",
       "  Central_Duration Calendar_Year Calendar_Month  Calendar_Day  \\\n",
       "1           06m44s          1999       December           5.0   \n",
       "2           02m15s          1998           June           1.0   \n",
       "3           01m14s          1998       November          25.0   \n",
       "4                0          1997          April          22.0   \n",
       "5                0          1997            May          22.0   \n",
       "\n",
       "   Eclipse_Time_hour  Eclipse_Time_minute  Eclipse_Time_seconds  \\\n",
       "1                 23                   45                    23   \n",
       "2                 18                    9                    16   \n",
       "3                  5                   57                     3   \n",
       "4                 13                   19                    56   \n",
       "5                  2                   45                    35   \n",
       "\n",
       "   Latitude_number Latitude_letter  Longitude_number Longitude_letter  \n",
       "1             32.9               S              10.8                E  \n",
       "2             46.2               N              83.4                E  \n",
       "3             67.8               S             143.8                W  \n",
       "4             60.6               S             106.4                W  \n",
       "5             61.7               N             151.7                W  "
      ]
     },
     "execution_count": 39,
     "metadata": {},
     "output_type": "execute_result"
    }
   ],
   "source": [
    "df.head()"
   ]
  },
  {
   "cell_type": "code",
   "execution_count": 40,
   "metadata": {
    "colab": {
     "base_uri": "https://localhost:8080/"
    },
    "id": "3KapIbK3qb-7",
    "outputId": "486f94c7-c5a7-416e-8b42-ebd94cb67970"
   },
   "outputs": [
    {
     "data": {
      "text/plain": [
       "Delta_T_(s)             float64\n",
       "Lunation_Number           int64\n",
       "Saros_Number            float64\n",
       "Eclipse_Type             object\n",
       "Gamma                   float64\n",
       "Eclipse_Magnitude       float64\n",
       "Sun_Altitude            float64\n",
       "Sun_Azimuth               int64\n",
       "Path_Width_(km)          object\n",
       "Central_Duration         object\n",
       "Calendar_Year            object\n",
       "Calendar_Month           object\n",
       "Calendar_Day            float64\n",
       "Eclipse_Time_hour         int64\n",
       "Eclipse_Time_minute       int64\n",
       "Eclipse_Time_seconds      int64\n",
       "Latitude_number         float64\n",
       "Latitude_letter          object\n",
       "Longitude_number        float64\n",
       "Longitude_letter         object\n",
       "dtype: object"
      ]
     },
     "execution_count": 40,
     "metadata": {},
     "output_type": "execute_result"
    }
   ],
   "source": [
    "df.dtypes"
   ]
  },
  {
   "cell_type": "markdown",
   "metadata": {
    "id": "Rm_GO4tVtE6d"
   },
   "source": [
    "### Dealing with the Central Duration column"
   ]
  },
  {
   "cell_type": "markdown",
   "metadata": {
    "id": "BCQ-mG5yOx_4"
   },
   "source": [
    "#### Extracting the minutes and seconds  "
   ]
  },
  {
   "cell_type": "code",
   "execution_count": 41,
   "metadata": {
    "colab": {
     "base_uri": "https://localhost:8080/"
    },
    "id": "FBA450xarrxl",
    "outputId": "9d0e7804-f35c-456a-be4a-bc7cfec23e9f"
   },
   "outputs": [
    {
     "name": "stderr",
     "output_type": "stream",
     "text": [
      "C:\\Users\\USER\\AppData\\Local\\Temp\\ipykernel_1524\\1034601796.py:1: SettingWithCopyWarning: \n",
      "A value is trying to be set on a copy of a slice from a DataFrame.\n",
      "Try using .loc[row_indexer,col_indexer] = value instead\n",
      "\n",
      "See the caveats in the documentation: https://pandas.pydata.org/pandas-docs/stable/user_guide/indexing.html#returning-a-view-versus-a-copy\n",
      "  df['Duration_minutes'] = df['Central_Duration'].str.slice(stop=2)\n",
      "C:\\Users\\USER\\AppData\\Local\\Temp\\ipykernel_1524\\1034601796.py:2: SettingWithCopyWarning: \n",
      "A value is trying to be set on a copy of a slice from a DataFrame.\n",
      "Try using .loc[row_indexer,col_indexer] = value instead\n",
      "\n",
      "See the caveats in the documentation: https://pandas.pydata.org/pandas-docs/stable/user_guide/indexing.html#returning-a-view-versus-a-copy\n",
      "  df['Duration_seconds'] = df['Central_Duration'].str.slice(start=3,stop=-1)\n",
      "C:\\Users\\USER\\AppData\\Local\\Temp\\ipykernel_1524\\1034601796.py:4: SettingWithCopyWarning: \n",
      "A value is trying to be set on a copy of a slice from a DataFrame\n",
      "\n",
      "See the caveats in the documentation: https://pandas.pydata.org/pandas-docs/stable/user_guide/indexing.html#returning-a-view-versus-a-copy\n",
      "  df.drop(['Central_Duration'],axis=1,inplace=True)\n"
     ]
    }
   ],
   "source": [
    "df['Duration_minutes'] = df['Central_Duration'].str.slice(stop=2)\n",
    "df['Duration_seconds'] = df['Central_Duration'].str.slice(start=3,stop=-1)\n",
    "\n",
    "df.drop(['Central_Duration'],axis=1,inplace=True)"
   ]
  },
  {
   "cell_type": "code",
   "execution_count": 42,
   "metadata": {
    "colab": {
     "base_uri": "https://localhost:8080/",
     "height": 437
    },
    "id": "6Hj69Vtmtdif",
    "outputId": "56b462fa-6c0e-4076-f285-30778f227d83"
   },
   "outputs": [
    {
     "data": {
      "text/html": [
       "<div>\n",
       "<style scoped>\n",
       "    .dataframe tbody tr th:only-of-type {\n",
       "        vertical-align: middle;\n",
       "    }\n",
       "\n",
       "    .dataframe tbody tr th {\n",
       "        vertical-align: top;\n",
       "    }\n",
       "\n",
       "    .dataframe thead th {\n",
       "        text-align: right;\n",
       "    }\n",
       "</style>\n",
       "<table border=\"1\" class=\"dataframe\">\n",
       "  <thead>\n",
       "    <tr style=\"text-align: right;\">\n",
       "      <th></th>\n",
       "      <th>Delta_T_(s)</th>\n",
       "      <th>Lunation_Number</th>\n",
       "      <th>Saros_Number</th>\n",
       "      <th>Eclipse_Type</th>\n",
       "      <th>Gamma</th>\n",
       "      <th>Eclipse_Magnitude</th>\n",
       "      <th>Sun_Altitude</th>\n",
       "      <th>Sun_Azimuth</th>\n",
       "      <th>Path_Width_(km)</th>\n",
       "      <th>Calendar_Year</th>\n",
       "      <th>...</th>\n",
       "      <th>Calendar_Day</th>\n",
       "      <th>Eclipse_Time_hour</th>\n",
       "      <th>Eclipse_Time_minute</th>\n",
       "      <th>Eclipse_Time_seconds</th>\n",
       "      <th>Latitude_number</th>\n",
       "      <th>Latitude_letter</th>\n",
       "      <th>Longitude_number</th>\n",
       "      <th>Longitude_letter</th>\n",
       "      <th>Duration_minutes</th>\n",
       "      <th>Duration_seconds</th>\n",
       "    </tr>\n",
       "  </thead>\n",
       "  <tbody>\n",
       "    <tr>\n",
       "      <th>1</th>\n",
       "      <td>46426.0</td>\n",
       "      <td>-49450</td>\n",
       "      <td>10.0</td>\n",
       "      <td>A</td>\n",
       "      <td>-0.2317</td>\n",
       "      <td>0.9382</td>\n",
       "      <td>76.0</td>\n",
       "      <td>21</td>\n",
       "      <td>236</td>\n",
       "      <td>1999</td>\n",
       "      <td>...</td>\n",
       "      <td>5.0</td>\n",
       "      <td>23</td>\n",
       "      <td>45</td>\n",
       "      <td>23</td>\n",
       "      <td>32.9</td>\n",
       "      <td>S</td>\n",
       "      <td>10.8</td>\n",
       "      <td>E</td>\n",
       "      <td>06</td>\n",
       "      <td>44</td>\n",
       "    </tr>\n",
       "    <tr>\n",
       "      <th>2</th>\n",
       "      <td>46415.0</td>\n",
       "      <td>-49444</td>\n",
       "      <td>15.0</td>\n",
       "      <td>T</td>\n",
       "      <td>0.4994</td>\n",
       "      <td>1.0284</td>\n",
       "      <td>60.0</td>\n",
       "      <td>151</td>\n",
       "      <td>111</td>\n",
       "      <td>1998</td>\n",
       "      <td>...</td>\n",
       "      <td>1.0</td>\n",
       "      <td>18</td>\n",
       "      <td>9</td>\n",
       "      <td>16</td>\n",
       "      <td>46.2</td>\n",
       "      <td>N</td>\n",
       "      <td>83.4</td>\n",
       "      <td>E</td>\n",
       "      <td>02</td>\n",
       "      <td>15</td>\n",
       "    </tr>\n",
       "    <tr>\n",
       "      <th>3</th>\n",
       "      <td>46403.0</td>\n",
       "      <td>-49438</td>\n",
       "      <td>20.0</td>\n",
       "      <td>A</td>\n",
       "      <td>-0.9045</td>\n",
       "      <td>0.9806</td>\n",
       "      <td>25.0</td>\n",
       "      <td>74</td>\n",
       "      <td>162</td>\n",
       "      <td>1998</td>\n",
       "      <td>...</td>\n",
       "      <td>25.0</td>\n",
       "      <td>5</td>\n",
       "      <td>57</td>\n",
       "      <td>3</td>\n",
       "      <td>67.8</td>\n",
       "      <td>S</td>\n",
       "      <td>143.8</td>\n",
       "      <td>W</td>\n",
       "      <td>01</td>\n",
       "      <td>14</td>\n",
       "    </tr>\n",
       "    <tr>\n",
       "      <th>4</th>\n",
       "      <td>46393.0</td>\n",
       "      <td>-49433</td>\n",
       "      <td>-13.0</td>\n",
       "      <td>P</td>\n",
       "      <td>-1.4670</td>\n",
       "      <td>0.1611</td>\n",
       "      <td>0.0</td>\n",
       "      <td>281</td>\n",
       "      <td>0</td>\n",
       "      <td>1997</td>\n",
       "      <td>...</td>\n",
       "      <td>22.0</td>\n",
       "      <td>13</td>\n",
       "      <td>19</td>\n",
       "      <td>56</td>\n",
       "      <td>60.6</td>\n",
       "      <td>S</td>\n",
       "      <td>106.4</td>\n",
       "      <td>W</td>\n",
       "      <td>0</td>\n",
       "      <td></td>\n",
       "    </tr>\n",
       "    <tr>\n",
       "      <th>5</th>\n",
       "      <td>46391.0</td>\n",
       "      <td>-49432</td>\n",
       "      <td>25.0</td>\n",
       "      <td>P</td>\n",
       "      <td>1.3253</td>\n",
       "      <td>0.4035</td>\n",
       "      <td>0.0</td>\n",
       "      <td>55</td>\n",
       "      <td>0</td>\n",
       "      <td>1997</td>\n",
       "      <td>...</td>\n",
       "      <td>22.0</td>\n",
       "      <td>2</td>\n",
       "      <td>45</td>\n",
       "      <td>35</td>\n",
       "      <td>61.7</td>\n",
       "      <td>N</td>\n",
       "      <td>151.7</td>\n",
       "      <td>W</td>\n",
       "      <td>0</td>\n",
       "      <td></td>\n",
       "    </tr>\n",
       "    <tr>\n",
       "      <th>...</th>\n",
       "      <td>...</td>\n",
       "      <td>...</td>\n",
       "      <td>...</td>\n",
       "      <td>...</td>\n",
       "      <td>...</td>\n",
       "      <td>...</td>\n",
       "      <td>...</td>\n",
       "      <td>...</td>\n",
       "      <td>...</td>\n",
       "      <td>...</td>\n",
       "      <td>...</td>\n",
       "      <td>...</td>\n",
       "      <td>...</td>\n",
       "      <td>...</td>\n",
       "      <td>...</td>\n",
       "      <td>...</td>\n",
       "      <td>...</td>\n",
       "      <td>...</td>\n",
       "      <td>...</td>\n",
       "      <td>...</td>\n",
       "      <td>...</td>\n",
       "    </tr>\n",
       "    <tr>\n",
       "      <th>2375</th>\n",
       "      <td>4414.0</td>\n",
       "      <td>12355</td>\n",
       "      <td>187.0</td>\n",
       "      <td>P</td>\n",
       "      <td>1.2838</td>\n",
       "      <td>0.4773</td>\n",
       "      <td>0.0</td>\n",
       "      <td>179</td>\n",
       "      <td>0</td>\n",
       "      <td>2998</td>\n",
       "      <td>...</td>\n",
       "      <td>10.0</td>\n",
       "      <td>3</td>\n",
       "      <td>18</td>\n",
       "      <td>31</td>\n",
       "      <td>67.2</td>\n",
       "      <td>N</td>\n",
       "      <td>145.0</td>\n",
       "      <td>E</td>\n",
       "      <td>0</td>\n",
       "      <td></td>\n",
       "    </tr>\n",
       "    <tr>\n",
       "      <th>2376</th>\n",
       "      <td>4417.0</td>\n",
       "      <td>12360</td>\n",
       "      <td>154.0</td>\n",
       "      <td>T</td>\n",
       "      <td>0.8388</td>\n",
       "      <td>1.0566</td>\n",
       "      <td>33.0</td>\n",
       "      <td>146</td>\n",
       "      <td>345</td>\n",
       "      <td>2999</td>\n",
       "      <td>...</td>\n",
       "      <td>6.0</td>\n",
       "      <td>23</td>\n",
       "      <td>23</td>\n",
       "      <td>57</td>\n",
       "      <td>71.5</td>\n",
       "      <td>N</td>\n",
       "      <td>177.3</td>\n",
       "      <td>E</td>\n",
       "      <td>03</td>\n",
       "      <td>25</td>\n",
       "    </tr>\n",
       "    <tr>\n",
       "      <th>2377</th>\n",
       "      <td>4420.0</td>\n",
       "      <td>12366</td>\n",
       "      <td>159.0</td>\n",
       "      <td>A</td>\n",
       "      <td>-1.0023</td>\n",
       "      <td>0.9586</td>\n",
       "      <td>0.0</td>\n",
       "      <td>137</td>\n",
       "      <td>-</td>\n",
       "      <td>2999</td>\n",
       "      <td>...</td>\n",
       "      <td>30.0</td>\n",
       "      <td>9</td>\n",
       "      <td>34</td>\n",
       "      <td>33</td>\n",
       "      <td>70.9</td>\n",
       "      <td>S</td>\n",
       "      <td>84.7</td>\n",
       "      <td>W</td>\n",
       "      <td>-</td>\n",
       "      <td></td>\n",
       "    </tr>\n",
       "    <tr>\n",
       "      <th>2378</th>\n",
       "      <td>4424.0</td>\n",
       "      <td>12372</td>\n",
       "      <td>164.0</td>\n",
       "      <td>T</td>\n",
       "      <td>0.1310</td>\n",
       "      <td>1.0222</td>\n",
       "      <td>82.0</td>\n",
       "      <td>166</td>\n",
       "      <td>76</td>\n",
       "      <td>3000</td>\n",
       "      <td>...</td>\n",
       "      <td>26.0</td>\n",
       "      <td>14</td>\n",
       "      <td>18</td>\n",
       "      <td>6</td>\n",
       "      <td>21.1</td>\n",
       "      <td>N</td>\n",
       "      <td>18.4</td>\n",
       "      <td>W</td>\n",
       "      <td>02</td>\n",
       "      <td>11</td>\n",
       "    </tr>\n",
       "    <tr>\n",
       "      <th>2379</th>\n",
       "      <td>4428.0</td>\n",
       "      <td>12378</td>\n",
       "      <td>169.0</td>\n",
       "      <td>H</td>\n",
       "      <td>-0.2303</td>\n",
       "      <td>1.0049</td>\n",
       "      <td>77.0</td>\n",
       "      <td>16</td>\n",
       "      <td>17</td>\n",
       "      <td>3000</td>\n",
       "      <td>...</td>\n",
       "      <td>19.0</td>\n",
       "      <td>16</td>\n",
       "      <td>10</td>\n",
       "      <td>16</td>\n",
       "      <td>23.1</td>\n",
       "      <td>S</td>\n",
       "      <td>51.6</td>\n",
       "      <td>W</td>\n",
       "      <td>00</td>\n",
       "      <td>29</td>\n",
       "    </tr>\n",
       "  </tbody>\n",
       "</table>\n",
       "<p>11764 rows × 21 columns</p>\n",
       "</div>"
      ],
      "text/plain": [
       "      Delta_T_(s)  Lunation_Number  Saros_Number Eclipse_Type   Gamma  \\\n",
       "1         46426.0           -49450          10.0            A -0.2317   \n",
       "2         46415.0           -49444          15.0            T  0.4994   \n",
       "3         46403.0           -49438          20.0            A -0.9045   \n",
       "4         46393.0           -49433         -13.0            P -1.4670   \n",
       "5         46391.0           -49432          25.0            P  1.3253   \n",
       "...           ...              ...           ...          ...     ...   \n",
       "2375       4414.0            12355         187.0            P  1.2838   \n",
       "2376       4417.0            12360         154.0            T  0.8388   \n",
       "2377       4420.0            12366         159.0            A -1.0023   \n",
       "2378       4424.0            12372         164.0            T  0.1310   \n",
       "2379       4428.0            12378         169.0            H -0.2303   \n",
       "\n",
       "      Eclipse_Magnitude  Sun_Altitude  Sun_Azimuth Path_Width_(km)  \\\n",
       "1                0.9382          76.0           21             236   \n",
       "2                1.0284          60.0          151             111   \n",
       "3                0.9806          25.0           74             162   \n",
       "4                0.1611           0.0          281               0   \n",
       "5                0.4035           0.0           55               0   \n",
       "...                 ...           ...          ...             ...   \n",
       "2375             0.4773           0.0          179               0   \n",
       "2376             1.0566          33.0          146             345   \n",
       "2377             0.9586           0.0          137               -   \n",
       "2378             1.0222          82.0          166              76   \n",
       "2379             1.0049          77.0           16              17   \n",
       "\n",
       "     Calendar_Year  ... Calendar_Day  Eclipse_Time_hour  Eclipse_Time_minute  \\\n",
       "1             1999  ...          5.0                 23                   45   \n",
       "2             1998  ...          1.0                 18                    9   \n",
       "3             1998  ...         25.0                  5                   57   \n",
       "4             1997  ...         22.0                 13                   19   \n",
       "5             1997  ...         22.0                  2                   45   \n",
       "...            ...  ...          ...                ...                  ...   \n",
       "2375          2998  ...         10.0                  3                   18   \n",
       "2376          2999  ...          6.0                 23                   23   \n",
       "2377          2999  ...         30.0                  9                   34   \n",
       "2378          3000  ...         26.0                 14                   18   \n",
       "2379          3000  ...         19.0                 16                   10   \n",
       "\n",
       "      Eclipse_Time_seconds  Latitude_number  Latitude_letter Longitude_number  \\\n",
       "1                       23             32.9                S             10.8   \n",
       "2                       16             46.2                N             83.4   \n",
       "3                        3             67.8                S            143.8   \n",
       "4                       56             60.6                S            106.4   \n",
       "5                       35             61.7                N            151.7   \n",
       "...                    ...              ...              ...              ...   \n",
       "2375                    31             67.2                N            145.0   \n",
       "2376                    57             71.5                N            177.3   \n",
       "2377                    33             70.9                S             84.7   \n",
       "2378                     6             21.1                N             18.4   \n",
       "2379                    16             23.1                S             51.6   \n",
       "\n",
       "      Longitude_letter Duration_minutes Duration_seconds  \n",
       "1                    E               06               44  \n",
       "2                    E               02               15  \n",
       "3                    W               01               14  \n",
       "4                    W                0                   \n",
       "5                    W                0                   \n",
       "...                ...              ...              ...  \n",
       "2375                 E                0                   \n",
       "2376                 E               03               25  \n",
       "2377                 W                -                   \n",
       "2378                 W               02               11  \n",
       "2379                 W               00               29  \n",
       "\n",
       "[11764 rows x 21 columns]"
      ]
     },
     "execution_count": 42,
     "metadata": {},
     "output_type": "execute_result"
    }
   ],
   "source": [
    "df"
   ]
  },
  {
   "cell_type": "markdown",
   "metadata": {
    "id": "bhN5xMPgPjZs"
   },
   "source": [
    "#### Performing One Hot Encoding on the categorical columns"
   ]
  },
  {
   "cell_type": "code",
   "execution_count": 43,
   "metadata": {
    "id": "vv8TFCm1tdc6"
   },
   "outputs": [],
   "source": [
    "lat = pd.get_dummies(df['Latitude_letter'])\n",
    "lon = pd.get_dummies(df['Longitude_letter'])"
   ]
  },
  {
   "cell_type": "code",
   "execution_count": 44,
   "metadata": {
    "id": "WqAZMyX2tdap"
   },
   "outputs": [],
   "source": [
    "df = pd.concat([df,lat,lon],axis=1)"
   ]
  },
  {
   "cell_type": "code",
   "execution_count": 45,
   "metadata": {
    "id": "LRgTxbpxtdYU"
   },
   "outputs": [],
   "source": [
    "df.drop(['Latitude_letter','Longitude_letter'],axis=1,inplace=True)"
   ]
  },
  {
   "cell_type": "markdown",
   "metadata": {
    "id": "k4_9stPrPvNm"
   },
   "source": [
    "#### Performing Label Encoding on the categorical columns "
   ]
  },
  {
   "cell_type": "code",
   "execution_count": 46,
   "metadata": {
    "id": "Isg3RMr1tdW5"
   },
   "outputs": [],
   "source": [
    "from sklearn.preprocessing import LabelEncoder\n",
    "\n",
    "le = LabelEncoder()"
   ]
  },
  {
   "cell_type": "code",
   "execution_count": 47,
   "metadata": {
    "id": "OLFUUj-etdUE"
   },
   "outputs": [],
   "source": [
    "for i in ['Calendar_Year','Calendar_Month']:\n",
    "  df[i] = le.fit_transform(df[i])"
   ]
  },
  {
   "cell_type": "code",
   "execution_count": 48,
   "metadata": {
    "colab": {
     "base_uri": "https://localhost:8080/",
     "height": 437
    },
    "id": "ZIYf009FtdR5",
    "outputId": "aad3a22f-9e87-49ef-f4cd-22ccf9f3a74d"
   },
   "outputs": [
    {
     "data": {
      "text/html": [
       "<div>\n",
       "<style scoped>\n",
       "    .dataframe tbody tr th:only-of-type {\n",
       "        vertical-align: middle;\n",
       "    }\n",
       "\n",
       "    .dataframe tbody tr th {\n",
       "        vertical-align: top;\n",
       "    }\n",
       "\n",
       "    .dataframe thead th {\n",
       "        text-align: right;\n",
       "    }\n",
       "</style>\n",
       "<table border=\"1\" class=\"dataframe\">\n",
       "  <thead>\n",
       "    <tr style=\"text-align: right;\">\n",
       "      <th></th>\n",
       "      <th>Delta_T_(s)</th>\n",
       "      <th>Lunation_Number</th>\n",
       "      <th>Saros_Number</th>\n",
       "      <th>Eclipse_Type</th>\n",
       "      <th>Gamma</th>\n",
       "      <th>Eclipse_Magnitude</th>\n",
       "      <th>Sun_Altitude</th>\n",
       "      <th>Sun_Azimuth</th>\n",
       "      <th>Path_Width_(km)</th>\n",
       "      <th>Calendar_Year</th>\n",
       "      <th>...</th>\n",
       "      <th>Eclipse_Time_minute</th>\n",
       "      <th>Eclipse_Time_seconds</th>\n",
       "      <th>Latitude_number</th>\n",
       "      <th>Longitude_number</th>\n",
       "      <th>Duration_minutes</th>\n",
       "      <th>Duration_seconds</th>\n",
       "      <th>N</th>\n",
       "      <th>S</th>\n",
       "      <th>E</th>\n",
       "      <th>W</th>\n",
       "    </tr>\n",
       "  </thead>\n",
       "  <tbody>\n",
       "    <tr>\n",
       "      <th>1</th>\n",
       "      <td>46426.0</td>\n",
       "      <td>-49450</td>\n",
       "      <td>10.0</td>\n",
       "      <td>A</td>\n",
       "      <td>-0.2317</td>\n",
       "      <td>0.9382</td>\n",
       "      <td>76.0</td>\n",
       "      <td>21</td>\n",
       "      <td>236</td>\n",
       "      <td>1111</td>\n",
       "      <td>...</td>\n",
       "      <td>45</td>\n",
       "      <td>23</td>\n",
       "      <td>32.9</td>\n",
       "      <td>10.8</td>\n",
       "      <td>06</td>\n",
       "      <td>44</td>\n",
       "      <td>0</td>\n",
       "      <td>1</td>\n",
       "      <td>1</td>\n",
       "      <td>0</td>\n",
       "    </tr>\n",
       "    <tr>\n",
       "      <th>2</th>\n",
       "      <td>46415.0</td>\n",
       "      <td>-49444</td>\n",
       "      <td>15.0</td>\n",
       "      <td>T</td>\n",
       "      <td>0.4994</td>\n",
       "      <td>1.0284</td>\n",
       "      <td>60.0</td>\n",
       "      <td>151</td>\n",
       "      <td>111</td>\n",
       "      <td>1110</td>\n",
       "      <td>...</td>\n",
       "      <td>9</td>\n",
       "      <td>16</td>\n",
       "      <td>46.2</td>\n",
       "      <td>83.4</td>\n",
       "      <td>02</td>\n",
       "      <td>15</td>\n",
       "      <td>1</td>\n",
       "      <td>0</td>\n",
       "      <td>1</td>\n",
       "      <td>0</td>\n",
       "    </tr>\n",
       "    <tr>\n",
       "      <th>3</th>\n",
       "      <td>46403.0</td>\n",
       "      <td>-49438</td>\n",
       "      <td>20.0</td>\n",
       "      <td>A</td>\n",
       "      <td>-0.9045</td>\n",
       "      <td>0.9806</td>\n",
       "      <td>25.0</td>\n",
       "      <td>74</td>\n",
       "      <td>162</td>\n",
       "      <td>1110</td>\n",
       "      <td>...</td>\n",
       "      <td>57</td>\n",
       "      <td>3</td>\n",
       "      <td>67.8</td>\n",
       "      <td>143.8</td>\n",
       "      <td>01</td>\n",
       "      <td>14</td>\n",
       "      <td>0</td>\n",
       "      <td>1</td>\n",
       "      <td>0</td>\n",
       "      <td>1</td>\n",
       "    </tr>\n",
       "    <tr>\n",
       "      <th>4</th>\n",
       "      <td>46393.0</td>\n",
       "      <td>-49433</td>\n",
       "      <td>-13.0</td>\n",
       "      <td>P</td>\n",
       "      <td>-1.4670</td>\n",
       "      <td>0.1611</td>\n",
       "      <td>0.0</td>\n",
       "      <td>281</td>\n",
       "      <td>0</td>\n",
       "      <td>1109</td>\n",
       "      <td>...</td>\n",
       "      <td>19</td>\n",
       "      <td>56</td>\n",
       "      <td>60.6</td>\n",
       "      <td>106.4</td>\n",
       "      <td>0</td>\n",
       "      <td></td>\n",
       "      <td>0</td>\n",
       "      <td>1</td>\n",
       "      <td>0</td>\n",
       "      <td>1</td>\n",
       "    </tr>\n",
       "    <tr>\n",
       "      <th>5</th>\n",
       "      <td>46391.0</td>\n",
       "      <td>-49432</td>\n",
       "      <td>25.0</td>\n",
       "      <td>P</td>\n",
       "      <td>1.3253</td>\n",
       "      <td>0.4035</td>\n",
       "      <td>0.0</td>\n",
       "      <td>55</td>\n",
       "      <td>0</td>\n",
       "      <td>1109</td>\n",
       "      <td>...</td>\n",
       "      <td>45</td>\n",
       "      <td>35</td>\n",
       "      <td>61.7</td>\n",
       "      <td>151.7</td>\n",
       "      <td>0</td>\n",
       "      <td></td>\n",
       "      <td>1</td>\n",
       "      <td>0</td>\n",
       "      <td>0</td>\n",
       "      <td>1</td>\n",
       "    </tr>\n",
       "    <tr>\n",
       "      <th>...</th>\n",
       "      <td>...</td>\n",
       "      <td>...</td>\n",
       "      <td>...</td>\n",
       "      <td>...</td>\n",
       "      <td>...</td>\n",
       "      <td>...</td>\n",
       "      <td>...</td>\n",
       "      <td>...</td>\n",
       "      <td>...</td>\n",
       "      <td>...</td>\n",
       "      <td>...</td>\n",
       "      <td>...</td>\n",
       "      <td>...</td>\n",
       "      <td>...</td>\n",
       "      <td>...</td>\n",
       "      <td>...</td>\n",
       "      <td>...</td>\n",
       "      <td>...</td>\n",
       "      <td>...</td>\n",
       "      <td>...</td>\n",
       "      <td>...</td>\n",
       "    </tr>\n",
       "    <tr>\n",
       "      <th>2375</th>\n",
       "      <td>4414.0</td>\n",
       "      <td>12355</td>\n",
       "      <td>187.0</td>\n",
       "      <td>P</td>\n",
       "      <td>1.2838</td>\n",
       "      <td>0.4773</td>\n",
       "      <td>0.0</td>\n",
       "      <td>179</td>\n",
       "      <td>0</td>\n",
       "      <td>2221</td>\n",
       "      <td>...</td>\n",
       "      <td>18</td>\n",
       "      <td>31</td>\n",
       "      <td>67.2</td>\n",
       "      <td>145.0</td>\n",
       "      <td>0</td>\n",
       "      <td></td>\n",
       "      <td>1</td>\n",
       "      <td>0</td>\n",
       "      <td>1</td>\n",
       "      <td>0</td>\n",
       "    </tr>\n",
       "    <tr>\n",
       "      <th>2376</th>\n",
       "      <td>4417.0</td>\n",
       "      <td>12360</td>\n",
       "      <td>154.0</td>\n",
       "      <td>T</td>\n",
       "      <td>0.8388</td>\n",
       "      <td>1.0566</td>\n",
       "      <td>33.0</td>\n",
       "      <td>146</td>\n",
       "      <td>345</td>\n",
       "      <td>2222</td>\n",
       "      <td>...</td>\n",
       "      <td>23</td>\n",
       "      <td>57</td>\n",
       "      <td>71.5</td>\n",
       "      <td>177.3</td>\n",
       "      <td>03</td>\n",
       "      <td>25</td>\n",
       "      <td>1</td>\n",
       "      <td>0</td>\n",
       "      <td>1</td>\n",
       "      <td>0</td>\n",
       "    </tr>\n",
       "    <tr>\n",
       "      <th>2377</th>\n",
       "      <td>4420.0</td>\n",
       "      <td>12366</td>\n",
       "      <td>159.0</td>\n",
       "      <td>A</td>\n",
       "      <td>-1.0023</td>\n",
       "      <td>0.9586</td>\n",
       "      <td>0.0</td>\n",
       "      <td>137</td>\n",
       "      <td>-</td>\n",
       "      <td>2222</td>\n",
       "      <td>...</td>\n",
       "      <td>34</td>\n",
       "      <td>33</td>\n",
       "      <td>70.9</td>\n",
       "      <td>84.7</td>\n",
       "      <td>-</td>\n",
       "      <td></td>\n",
       "      <td>0</td>\n",
       "      <td>1</td>\n",
       "      <td>0</td>\n",
       "      <td>1</td>\n",
       "    </tr>\n",
       "    <tr>\n",
       "      <th>2378</th>\n",
       "      <td>4424.0</td>\n",
       "      <td>12372</td>\n",
       "      <td>164.0</td>\n",
       "      <td>T</td>\n",
       "      <td>0.1310</td>\n",
       "      <td>1.0222</td>\n",
       "      <td>82.0</td>\n",
       "      <td>166</td>\n",
       "      <td>76</td>\n",
       "      <td>2226</td>\n",
       "      <td>...</td>\n",
       "      <td>18</td>\n",
       "      <td>6</td>\n",
       "      <td>21.1</td>\n",
       "      <td>18.4</td>\n",
       "      <td>02</td>\n",
       "      <td>11</td>\n",
       "      <td>1</td>\n",
       "      <td>0</td>\n",
       "      <td>0</td>\n",
       "      <td>1</td>\n",
       "    </tr>\n",
       "    <tr>\n",
       "      <th>2379</th>\n",
       "      <td>4428.0</td>\n",
       "      <td>12378</td>\n",
       "      <td>169.0</td>\n",
       "      <td>H</td>\n",
       "      <td>-0.2303</td>\n",
       "      <td>1.0049</td>\n",
       "      <td>77.0</td>\n",
       "      <td>16</td>\n",
       "      <td>17</td>\n",
       "      <td>2226</td>\n",
       "      <td>...</td>\n",
       "      <td>10</td>\n",
       "      <td>16</td>\n",
       "      <td>23.1</td>\n",
       "      <td>51.6</td>\n",
       "      <td>00</td>\n",
       "      <td>29</td>\n",
       "      <td>0</td>\n",
       "      <td>1</td>\n",
       "      <td>0</td>\n",
       "      <td>1</td>\n",
       "    </tr>\n",
       "  </tbody>\n",
       "</table>\n",
       "<p>11764 rows × 23 columns</p>\n",
       "</div>"
      ],
      "text/plain": [
       "      Delta_T_(s)  Lunation_Number  Saros_Number Eclipse_Type   Gamma  \\\n",
       "1         46426.0           -49450          10.0            A -0.2317   \n",
       "2         46415.0           -49444          15.0            T  0.4994   \n",
       "3         46403.0           -49438          20.0            A -0.9045   \n",
       "4         46393.0           -49433         -13.0            P -1.4670   \n",
       "5         46391.0           -49432          25.0            P  1.3253   \n",
       "...           ...              ...           ...          ...     ...   \n",
       "2375       4414.0            12355         187.0            P  1.2838   \n",
       "2376       4417.0            12360         154.0            T  0.8388   \n",
       "2377       4420.0            12366         159.0            A -1.0023   \n",
       "2378       4424.0            12372         164.0            T  0.1310   \n",
       "2379       4428.0            12378         169.0            H -0.2303   \n",
       "\n",
       "      Eclipse_Magnitude  Sun_Altitude  Sun_Azimuth Path_Width_(km)  \\\n",
       "1                0.9382          76.0           21             236   \n",
       "2                1.0284          60.0          151             111   \n",
       "3                0.9806          25.0           74             162   \n",
       "4                0.1611           0.0          281               0   \n",
       "5                0.4035           0.0           55               0   \n",
       "...                 ...           ...          ...             ...   \n",
       "2375             0.4773           0.0          179               0   \n",
       "2376             1.0566          33.0          146             345   \n",
       "2377             0.9586           0.0          137               -   \n",
       "2378             1.0222          82.0          166              76   \n",
       "2379             1.0049          77.0           16              17   \n",
       "\n",
       "      Calendar_Year  ...  Eclipse_Time_minute  Eclipse_Time_seconds  \\\n",
       "1              1111  ...                   45                    23   \n",
       "2              1110  ...                    9                    16   \n",
       "3              1110  ...                   57                     3   \n",
       "4              1109  ...                   19                    56   \n",
       "5              1109  ...                   45                    35   \n",
       "...             ...  ...                  ...                   ...   \n",
       "2375           2221  ...                   18                    31   \n",
       "2376           2222  ...                   23                    57   \n",
       "2377           2222  ...                   34                    33   \n",
       "2378           2226  ...                   18                     6   \n",
       "2379           2226  ...                   10                    16   \n",
       "\n",
       "      Latitude_number  Longitude_number  Duration_minutes  Duration_seconds  \\\n",
       "1                32.9              10.8                06                44   \n",
       "2                46.2              83.4                02                15   \n",
       "3                67.8             143.8                01                14   \n",
       "4                60.6             106.4                 0                     \n",
       "5                61.7             151.7                 0                     \n",
       "...               ...               ...               ...               ...   \n",
       "2375             67.2             145.0                 0                     \n",
       "2376             71.5             177.3                03                25   \n",
       "2377             70.9              84.7                 -                     \n",
       "2378             21.1              18.4                02                11   \n",
       "2379             23.1              51.6                00                29   \n",
       "\n",
       "      N  S  E  W  \n",
       "1     0  1  1  0  \n",
       "2     1  0  1  0  \n",
       "3     0  1  0  1  \n",
       "4     0  1  0  1  \n",
       "5     1  0  0  1  \n",
       "...  .. .. .. ..  \n",
       "2375  1  0  1  0  \n",
       "2376  1  0  1  0  \n",
       "2377  0  1  0  1  \n",
       "2378  1  0  0  1  \n",
       "2379  0  1  0  1  \n",
       "\n",
       "[11764 rows x 23 columns]"
      ]
     },
     "execution_count": 48,
     "metadata": {},
     "output_type": "execute_result"
    }
   ],
   "source": [
    "df"
   ]
  },
  {
   "cell_type": "markdown",
   "metadata": {
    "id": "KF3fqhTfP-cc"
   },
   "source": [
    "#### Converting the object data types into numeric data types"
   ]
  },
  {
   "cell_type": "code",
   "execution_count": 49,
   "metadata": {
    "id": "tQblITpIDLgN"
   },
   "outputs": [],
   "source": [
    "df['Path_Width_(km)'] = list(map(cleaning1, df['Path_Width_(km)'])) \n",
    "df['Duration_minutes'] = list(map(cleaning1, df['Duration_minutes']))\n",
    "df['Duration_seconds'] = list(map(cleaning1, df['Duration_seconds']))\n",
    "\n",
    "df[\"Path_Width_(km)\"] = pd.to_numeric(df[\"Path_Width_(km)\"])\n",
    "df[\"Duration_minutes\"] = pd.to_numeric(df[\"Duration_minutes\"])\n",
    "df[\"Duration_seconds\"] = pd.to_numeric(df[\"Duration_seconds\"])"
   ]
  },
  {
   "cell_type": "code",
   "execution_count": 50,
   "metadata": {
    "colab": {
     "base_uri": "https://localhost:8080/"
    },
    "id": "SIqPEg2jrm2I",
    "outputId": "28ddbecb-b81f-4e41-a284-d8e9d4df1b07"
   },
   "outputs": [
    {
     "data": {
      "text/plain": [
       "Delta_T_(s)                0\n",
       "Lunation_Number            0\n",
       "Saros_Number               0\n",
       "Eclipse_Type               0\n",
       "Gamma                      0\n",
       "Eclipse_Magnitude          0\n",
       "Sun_Altitude               0\n",
       "Sun_Azimuth                0\n",
       "Path_Width_(km)          180\n",
       "Calendar_Year              0\n",
       "Calendar_Month             0\n",
       "Calendar_Day               0\n",
       "Eclipse_Time_hour          0\n",
       "Eclipse_Time_minute        0\n",
       "Eclipse_Time_seconds       0\n",
       "Latitude_number            0\n",
       "Longitude_number           0\n",
       "Duration_minutes          94\n",
       "Duration_seconds        4251\n",
       "N                          0\n",
       "S                          0\n",
       "E                          0\n",
       "W                          0\n",
       "dtype: int64"
      ]
     },
     "execution_count": 50,
     "metadata": {},
     "output_type": "execute_result"
    }
   ],
   "source": [
    "df.isnull().sum()"
   ]
  },
  {
   "cell_type": "code",
   "execution_count": 51,
   "metadata": {
    "id": "zurQLFF3r1NM"
   },
   "outputs": [],
   "source": [
    "df = df.drop(['Duration_seconds'], axis = 1)\n",
    "df = df.dropna(axis=0, subset=['Path_Width_(km)','Duration_minutes'])"
   ]
  },
  {
   "cell_type": "markdown",
   "metadata": {
    "id": "rxR6pAbzQKfa"
   },
   "source": [
    "## Now we can use this dataframe to train different models as all the indepedent features are having numeric data types"
   ]
  },
  {
   "cell_type": "code",
   "execution_count": 52,
   "metadata": {
    "colab": {
     "base_uri": "https://localhost:8080/"
    },
    "id": "z2OIJ2w0e21U",
    "outputId": "65f18485-1d0e-497a-9668-8630b7e3ba9f"
   },
   "outputs": [
    {
     "data": {
      "text/plain": [
       "Delta_T_(s)             float64\n",
       "Lunation_Number           int64\n",
       "Saros_Number            float64\n",
       "Eclipse_Type             object\n",
       "Gamma                   float64\n",
       "Eclipse_Magnitude       float64\n",
       "Sun_Altitude            float64\n",
       "Sun_Azimuth               int64\n",
       "Path_Width_(km)         float64\n",
       "Calendar_Year             int32\n",
       "Calendar_Month            int32\n",
       "Calendar_Day            float64\n",
       "Eclipse_Time_hour         int64\n",
       "Eclipse_Time_minute       int64\n",
       "Eclipse_Time_seconds      int64\n",
       "Latitude_number         float64\n",
       "Longitude_number        float64\n",
       "Duration_minutes        float64\n",
       "N                         uint8\n",
       "S                         uint8\n",
       "E                         uint8\n",
       "W                         uint8\n",
       "dtype: object"
      ]
     },
     "execution_count": 52,
     "metadata": {},
     "output_type": "execute_result"
    }
   ],
   "source": [
    "df.dtypes"
   ]
  },
  {
   "cell_type": "code",
   "execution_count": 53,
   "metadata": {
    "colab": {
     "base_uri": "https://localhost:8080/",
     "height": 223
    },
    "id": "MvGCNajUCQSm",
    "outputId": "2919ecc4-57cb-4520-c8ed-39befeb21ea7"
   },
   "outputs": [
    {
     "data": {
      "text/html": [
       "<div>\n",
       "<style scoped>\n",
       "    .dataframe tbody tr th:only-of-type {\n",
       "        vertical-align: middle;\n",
       "    }\n",
       "\n",
       "    .dataframe tbody tr th {\n",
       "        vertical-align: top;\n",
       "    }\n",
       "\n",
       "    .dataframe thead th {\n",
       "        text-align: right;\n",
       "    }\n",
       "</style>\n",
       "<table border=\"1\" class=\"dataframe\">\n",
       "  <thead>\n",
       "    <tr style=\"text-align: right;\">\n",
       "      <th></th>\n",
       "      <th>Delta_T_(s)</th>\n",
       "      <th>Lunation_Number</th>\n",
       "      <th>Saros_Number</th>\n",
       "      <th>Gamma</th>\n",
       "      <th>Eclipse_Magnitude</th>\n",
       "      <th>Sun_Altitude</th>\n",
       "      <th>Sun_Azimuth</th>\n",
       "      <th>Path_Width_(km)</th>\n",
       "      <th>Calendar_Year</th>\n",
       "      <th>Calendar_Month</th>\n",
       "      <th>...</th>\n",
       "      <th>Eclipse_Time_hour</th>\n",
       "      <th>Eclipse_Time_minute</th>\n",
       "      <th>Eclipse_Time_seconds</th>\n",
       "      <th>Latitude_number</th>\n",
       "      <th>Longitude_number</th>\n",
       "      <th>Duration_minutes</th>\n",
       "      <th>N</th>\n",
       "      <th>S</th>\n",
       "      <th>E</th>\n",
       "      <th>W</th>\n",
       "    </tr>\n",
       "  </thead>\n",
       "  <tbody>\n",
       "    <tr>\n",
       "      <th>1</th>\n",
       "      <td>46426.0</td>\n",
       "      <td>-49450</td>\n",
       "      <td>10.0</td>\n",
       "      <td>-0.2317</td>\n",
       "      <td>0.9382</td>\n",
       "      <td>76.0</td>\n",
       "      <td>21</td>\n",
       "      <td>236.0</td>\n",
       "      <td>1111</td>\n",
       "      <td>2</td>\n",
       "      <td>...</td>\n",
       "      <td>23</td>\n",
       "      <td>45</td>\n",
       "      <td>23</td>\n",
       "      <td>32.9</td>\n",
       "      <td>10.8</td>\n",
       "      <td>6.0</td>\n",
       "      <td>0</td>\n",
       "      <td>1</td>\n",
       "      <td>1</td>\n",
       "      <td>0</td>\n",
       "    </tr>\n",
       "    <tr>\n",
       "      <th>2</th>\n",
       "      <td>46415.0</td>\n",
       "      <td>-49444</td>\n",
       "      <td>15.0</td>\n",
       "      <td>0.4994</td>\n",
       "      <td>1.0284</td>\n",
       "      <td>60.0</td>\n",
       "      <td>151</td>\n",
       "      <td>111.0</td>\n",
       "      <td>1110</td>\n",
       "      <td>6</td>\n",
       "      <td>...</td>\n",
       "      <td>18</td>\n",
       "      <td>9</td>\n",
       "      <td>16</td>\n",
       "      <td>46.2</td>\n",
       "      <td>83.4</td>\n",
       "      <td>2.0</td>\n",
       "      <td>1</td>\n",
       "      <td>0</td>\n",
       "      <td>1</td>\n",
       "      <td>0</td>\n",
       "    </tr>\n",
       "    <tr>\n",
       "      <th>3</th>\n",
       "      <td>46403.0</td>\n",
       "      <td>-49438</td>\n",
       "      <td>20.0</td>\n",
       "      <td>-0.9045</td>\n",
       "      <td>0.9806</td>\n",
       "      <td>25.0</td>\n",
       "      <td>74</td>\n",
       "      <td>162.0</td>\n",
       "      <td>1110</td>\n",
       "      <td>9</td>\n",
       "      <td>...</td>\n",
       "      <td>5</td>\n",
       "      <td>57</td>\n",
       "      <td>3</td>\n",
       "      <td>67.8</td>\n",
       "      <td>143.8</td>\n",
       "      <td>1.0</td>\n",
       "      <td>0</td>\n",
       "      <td>1</td>\n",
       "      <td>0</td>\n",
       "      <td>1</td>\n",
       "    </tr>\n",
       "    <tr>\n",
       "      <th>4</th>\n",
       "      <td>46393.0</td>\n",
       "      <td>-49433</td>\n",
       "      <td>-13.0</td>\n",
       "      <td>-1.4670</td>\n",
       "      <td>0.1611</td>\n",
       "      <td>0.0</td>\n",
       "      <td>281</td>\n",
       "      <td>0.0</td>\n",
       "      <td>1109</td>\n",
       "      <td>0</td>\n",
       "      <td>...</td>\n",
       "      <td>13</td>\n",
       "      <td>19</td>\n",
       "      <td>56</td>\n",
       "      <td>60.6</td>\n",
       "      <td>106.4</td>\n",
       "      <td>0.0</td>\n",
       "      <td>0</td>\n",
       "      <td>1</td>\n",
       "      <td>0</td>\n",
       "      <td>1</td>\n",
       "    </tr>\n",
       "    <tr>\n",
       "      <th>5</th>\n",
       "      <td>46391.0</td>\n",
       "      <td>-49432</td>\n",
       "      <td>25.0</td>\n",
       "      <td>1.3253</td>\n",
       "      <td>0.4035</td>\n",
       "      <td>0.0</td>\n",
       "      <td>55</td>\n",
       "      <td>0.0</td>\n",
       "      <td>1109</td>\n",
       "      <td>8</td>\n",
       "      <td>...</td>\n",
       "      <td>2</td>\n",
       "      <td>45</td>\n",
       "      <td>35</td>\n",
       "      <td>61.7</td>\n",
       "      <td>151.7</td>\n",
       "      <td>0.0</td>\n",
       "      <td>1</td>\n",
       "      <td>0</td>\n",
       "      <td>0</td>\n",
       "      <td>1</td>\n",
       "    </tr>\n",
       "  </tbody>\n",
       "</table>\n",
       "<p>5 rows × 21 columns</p>\n",
       "</div>"
      ],
      "text/plain": [
       "   Delta_T_(s)  Lunation_Number  Saros_Number   Gamma  Eclipse_Magnitude  \\\n",
       "1      46426.0           -49450          10.0 -0.2317             0.9382   \n",
       "2      46415.0           -49444          15.0  0.4994             1.0284   \n",
       "3      46403.0           -49438          20.0 -0.9045             0.9806   \n",
       "4      46393.0           -49433         -13.0 -1.4670             0.1611   \n",
       "5      46391.0           -49432          25.0  1.3253             0.4035   \n",
       "\n",
       "   Sun_Altitude  Sun_Azimuth  Path_Width_(km)  Calendar_Year  Calendar_Month  \\\n",
       "1          76.0           21            236.0           1111               2   \n",
       "2          60.0          151            111.0           1110               6   \n",
       "3          25.0           74            162.0           1110               9   \n",
       "4           0.0          281              0.0           1109               0   \n",
       "5           0.0           55              0.0           1109               8   \n",
       "\n",
       "   ...  Eclipse_Time_hour  Eclipse_Time_minute  Eclipse_Time_seconds  \\\n",
       "1  ...                 23                   45                    23   \n",
       "2  ...                 18                    9                    16   \n",
       "3  ...                  5                   57                     3   \n",
       "4  ...                 13                   19                    56   \n",
       "5  ...                  2                   45                    35   \n",
       "\n",
       "   Latitude_number  Longitude_number  Duration_minutes  N  S  E  W  \n",
       "1             32.9              10.8               6.0  0  1  1  0  \n",
       "2             46.2              83.4               2.0  1  0  1  0  \n",
       "3             67.8             143.8               1.0  0  1  0  1  \n",
       "4             60.6             106.4               0.0  0  1  0  1  \n",
       "5             61.7             151.7               0.0  1  0  0  1  \n",
       "\n",
       "[5 rows x 21 columns]"
      ]
     },
     "execution_count": 53,
     "metadata": {},
     "output_type": "execute_result"
    }
   ],
   "source": [
    "X = df.drop('Eclipse_Type', axis=1)\n",
    "X.head()"
   ]
  },
  {
   "cell_type": "code",
   "execution_count": 54,
   "metadata": {
    "colab": {
     "base_uri": "https://localhost:8080/"
    },
    "id": "Iusdj2UtCQQ0",
    "outputId": "ada63aa9-c5d2-4152-ab13-0b2af255d096"
   },
   "outputs": [
    {
     "data": {
      "text/plain": [
       "(11584, 21)"
      ]
     },
     "execution_count": 54,
     "metadata": {},
     "output_type": "execute_result"
    }
   ],
   "source": [
    "X.shape"
   ]
  },
  {
   "cell_type": "markdown",
   "metadata": {
    "id": "uc_GEcZtlrTJ"
   },
   "source": [
    "### Visualization of the independent features"
   ]
  },
  {
   "cell_type": "code",
   "execution_count": 55,
   "metadata": {
    "colab": {
     "base_uri": "https://localhost:8080/",
     "height": 223
    },
    "id": "iZx67z50lq9E",
    "outputId": "b537a976-ae44-48a8-b389-395b1c3bb5c5"
   },
   "outputs": [
    {
     "data": {
      "text/html": [
       "<div>\n",
       "<style scoped>\n",
       "    .dataframe tbody tr th:only-of-type {\n",
       "        vertical-align: middle;\n",
       "    }\n",
       "\n",
       "    .dataframe tbody tr th {\n",
       "        vertical-align: top;\n",
       "    }\n",
       "\n",
       "    .dataframe thead th {\n",
       "        text-align: right;\n",
       "    }\n",
       "</style>\n",
       "<table border=\"1\" class=\"dataframe\">\n",
       "  <thead>\n",
       "    <tr style=\"text-align: right;\">\n",
       "      <th></th>\n",
       "      <th>Delta_T_(s)</th>\n",
       "      <th>Lunation_Number</th>\n",
       "      <th>Saros_Number</th>\n",
       "      <th>Gamma</th>\n",
       "      <th>Eclipse_Magnitude</th>\n",
       "      <th>Sun_Altitude</th>\n",
       "      <th>Sun_Azimuth</th>\n",
       "      <th>Path_Width_(km)</th>\n",
       "      <th>Calendar_Year</th>\n",
       "      <th>Calendar_Month</th>\n",
       "      <th>...</th>\n",
       "      <th>Eclipse_Time_hour</th>\n",
       "      <th>Eclipse_Time_minute</th>\n",
       "      <th>Eclipse_Time_seconds</th>\n",
       "      <th>Latitude_number</th>\n",
       "      <th>Longitude_number</th>\n",
       "      <th>Duration_minutes</th>\n",
       "      <th>N</th>\n",
       "      <th>S</th>\n",
       "      <th>E</th>\n",
       "      <th>W</th>\n",
       "    </tr>\n",
       "  </thead>\n",
       "  <tbody>\n",
       "    <tr>\n",
       "      <th>Delta_T_(s)</th>\n",
       "      <td>1.000000</td>\n",
       "      <td>-0.896926</td>\n",
       "      <td>-0.863243</td>\n",
       "      <td>0.000293</td>\n",
       "      <td>-0.011801</td>\n",
       "      <td>-0.002531</td>\n",
       "      <td>0.000219</td>\n",
       "      <td>0.000120</td>\n",
       "      <td>-0.165969</td>\n",
       "      <td>0.000623</td>\n",
       "      <td>...</td>\n",
       "      <td>0.005962</td>\n",
       "      <td>0.004849</td>\n",
       "      <td>0.010525</td>\n",
       "      <td>-0.000915</td>\n",
       "      <td>-0.001265</td>\n",
       "      <td>-0.006298</td>\n",
       "      <td>-0.002771</td>\n",
       "      <td>0.002771</td>\n",
       "      <td>-0.008779</td>\n",
       "      <td>0.008779</td>\n",
       "    </tr>\n",
       "    <tr>\n",
       "      <th>Lunation_Number</th>\n",
       "      <td>-0.896926</td>\n",
       "      <td>1.000000</td>\n",
       "      <td>0.965807</td>\n",
       "      <td>-0.001779</td>\n",
       "      <td>0.001760</td>\n",
       "      <td>0.001384</td>\n",
       "      <td>0.001657</td>\n",
       "      <td>-0.001780</td>\n",
       "      <td>0.092843</td>\n",
       "      <td>0.001814</td>\n",
       "      <td>...</td>\n",
       "      <td>0.000293</td>\n",
       "      <td>-0.001142</td>\n",
       "      <td>-0.010257</td>\n",
       "      <td>0.004167</td>\n",
       "      <td>0.002918</td>\n",
       "      <td>0.004017</td>\n",
       "      <td>0.001403</td>\n",
       "      <td>-0.001403</td>\n",
       "      <td>0.012002</td>\n",
       "      <td>-0.012002</td>\n",
       "    </tr>\n",
       "    <tr>\n",
       "      <th>Saros_Number</th>\n",
       "      <td>-0.863243</td>\n",
       "      <td>0.965807</td>\n",
       "      <td>1.000000</td>\n",
       "      <td>-0.003194</td>\n",
       "      <td>0.001204</td>\n",
       "      <td>0.001359</td>\n",
       "      <td>-0.038188</td>\n",
       "      <td>-0.000244</td>\n",
       "      <td>0.087069</td>\n",
       "      <td>0.016702</td>\n",
       "      <td>...</td>\n",
       "      <td>0.002516</td>\n",
       "      <td>0.000032</td>\n",
       "      <td>-0.010598</td>\n",
       "      <td>0.003853</td>\n",
       "      <td>0.002592</td>\n",
       "      <td>0.004721</td>\n",
       "      <td>0.002051</td>\n",
       "      <td>-0.002051</td>\n",
       "      <td>0.010096</td>\n",
       "      <td>-0.010096</td>\n",
       "    </tr>\n",
       "    <tr>\n",
       "      <th>Gamma</th>\n",
       "      <td>0.000293</td>\n",
       "      <td>-0.001779</td>\n",
       "      <td>-0.003194</td>\n",
       "      <td>1.000000</td>\n",
       "      <td>0.004749</td>\n",
       "      <td>0.003166</td>\n",
       "      <td>-0.003251</td>\n",
       "      <td>-0.008317</td>\n",
       "      <td>-0.002665</td>\n",
       "      <td>0.009968</td>\n",
       "      <td>...</td>\n",
       "      <td>-0.001417</td>\n",
       "      <td>0.000909</td>\n",
       "      <td>-0.002928</td>\n",
       "      <td>-0.000343</td>\n",
       "      <td>-0.000870</td>\n",
       "      <td>0.001134</td>\n",
       "      <td>0.835741</td>\n",
       "      <td>-0.835741</td>\n",
       "      <td>0.003451</td>\n",
       "      <td>-0.003451</td>\n",
       "    </tr>\n",
       "    <tr>\n",
       "      <th>Eclipse_Magnitude</th>\n",
       "      <td>-0.011801</td>\n",
       "      <td>0.001760</td>\n",
       "      <td>0.001204</td>\n",
       "      <td>0.004749</td>\n",
       "      <td>1.000000</td>\n",
       "      <td>0.708709</td>\n",
       "      <td>0.003332</td>\n",
       "      <td>0.482040</td>\n",
       "      <td>0.018698</td>\n",
       "      <td>-0.001847</td>\n",
       "      <td>...</td>\n",
       "      <td>-0.002685</td>\n",
       "      <td>0.001118</td>\n",
       "      <td>-0.004338</td>\n",
       "      <td>-0.564832</td>\n",
       "      <td>-0.002721</td>\n",
       "      <td>0.500194</td>\n",
       "      <td>0.011690</td>\n",
       "      <td>-0.011690</td>\n",
       "      <td>0.000778</td>\n",
       "      <td>-0.000778</td>\n",
       "    </tr>\n",
       "  </tbody>\n",
       "</table>\n",
       "<p>5 rows × 21 columns</p>\n",
       "</div>"
      ],
      "text/plain": [
       "                   Delta_T_(s)  Lunation_Number  Saros_Number     Gamma  \\\n",
       "Delta_T_(s)           1.000000        -0.896926     -0.863243  0.000293   \n",
       "Lunation_Number      -0.896926         1.000000      0.965807 -0.001779   \n",
       "Saros_Number         -0.863243         0.965807      1.000000 -0.003194   \n",
       "Gamma                 0.000293        -0.001779     -0.003194  1.000000   \n",
       "Eclipse_Magnitude    -0.011801         0.001760      0.001204  0.004749   \n",
       "\n",
       "                   Eclipse_Magnitude  Sun_Altitude  Sun_Azimuth  \\\n",
       "Delta_T_(s)                -0.011801     -0.002531     0.000219   \n",
       "Lunation_Number             0.001760      0.001384     0.001657   \n",
       "Saros_Number                0.001204      0.001359    -0.038188   \n",
       "Gamma                       0.004749      0.003166    -0.003251   \n",
       "Eclipse_Magnitude           1.000000      0.708709     0.003332   \n",
       "\n",
       "                   Path_Width_(km)  Calendar_Year  Calendar_Month  ...  \\\n",
       "Delta_T_(s)               0.000120      -0.165969        0.000623  ...   \n",
       "Lunation_Number          -0.001780       0.092843        0.001814  ...   \n",
       "Saros_Number             -0.000244       0.087069        0.016702  ...   \n",
       "Gamma                    -0.008317      -0.002665        0.009968  ...   \n",
       "Eclipse_Magnitude         0.482040       0.018698       -0.001847  ...   \n",
       "\n",
       "                   Eclipse_Time_hour  Eclipse_Time_minute  \\\n",
       "Delta_T_(s)                 0.005962             0.004849   \n",
       "Lunation_Number             0.000293            -0.001142   \n",
       "Saros_Number                0.002516             0.000032   \n",
       "Gamma                      -0.001417             0.000909   \n",
       "Eclipse_Magnitude          -0.002685             0.001118   \n",
       "\n",
       "                   Eclipse_Time_seconds  Latitude_number  Longitude_number  \\\n",
       "Delta_T_(s)                    0.010525        -0.000915         -0.001265   \n",
       "Lunation_Number               -0.010257         0.004167          0.002918   \n",
       "Saros_Number                  -0.010598         0.003853          0.002592   \n",
       "Gamma                         -0.002928        -0.000343         -0.000870   \n",
       "Eclipse_Magnitude             -0.004338        -0.564832         -0.002721   \n",
       "\n",
       "                   Duration_minutes         N         S         E         W  \n",
       "Delta_T_(s)               -0.006298 -0.002771  0.002771 -0.008779  0.008779  \n",
       "Lunation_Number            0.004017  0.001403 -0.001403  0.012002 -0.012002  \n",
       "Saros_Number               0.004721  0.002051 -0.002051  0.010096 -0.010096  \n",
       "Gamma                      0.001134  0.835741 -0.835741  0.003451 -0.003451  \n",
       "Eclipse_Magnitude          0.500194  0.011690 -0.011690  0.000778 -0.000778  \n",
       "\n",
       "[5 rows x 21 columns]"
      ]
     },
     "execution_count": 55,
     "metadata": {},
     "output_type": "execute_result"
    }
   ],
   "source": [
    "corr_matrix = X.corr()\n",
    "corr_matrix.head()"
   ]
  },
  {
   "cell_type": "markdown",
   "metadata": {
    "id": "97hlxqCJQpZY"
   },
   "source": [
    "#### Heatmap of the correlation matrix"
   ]
  },
  {
   "cell_type": "code",
   "execution_count": 56,
   "metadata": {
    "colab": {
     "base_uri": "https://localhost:8080/",
     "height": 1000
    },
    "id": "h-oBMdykl5lh",
    "outputId": "9815fe22-9853-4b0a-e832-692ac4d99ac1"
   },
   "outputs": [
    {
     "data": {
      "text/plain": [
       "<AxesSubplot:>"
      ]
     },
     "execution_count": 56,
     "metadata": {},
     "output_type": "execute_result"
    },
    {
     "data": {
      "image/png": "[encoded data removed]",
      "text/plain": [
       "<Figure size 2000x2000 with 2 Axes>"
      ]
     },
     "metadata": {},
     "output_type": "display_data"
    }
   ],
   "source": [
    "fig, ax = plt.subplots(figsize=(20,20))\n",
    "heatmap = sns.heatmap(corr_matrix, annot =True, ax=ax)\n",
    "heatmap"
   ]
  },
  {
   "cell_type": "markdown",
   "metadata": {
    "id": "bOrqGuwJne1U"
   },
   "source": [
    "### Performing Feature Scaling"
   ]
  },
  {
   "cell_type": "code",
   "execution_count": 57,
   "metadata": {
    "id": "6QXrbK_Vs6n7"
   },
   "outputs": [],
   "source": [
    "import pandas as pd\n",
    "from sklearn import preprocessing\n",
    "\n",
    "X = X.values #returns a numpy array\n",
    "min_max_scaler = preprocessing.MinMaxScaler()\n",
    "X_scaled = min_max_scaler.fit_transform(X)\n",
    "X = pd.DataFrame(X_scaled)"
   ]
  },
  {
   "cell_type": "code",
   "execution_count": 58,
   "metadata": {
    "colab": {
     "base_uri": "https://localhost:8080/",
     "height": 437
    },
    "id": "pavvXM-9s6j4",
    "outputId": "3f8d7939-fd42-420b-a87f-9baa2e945804"
   },
   "outputs": [
    {
     "data": {
      "text/html": [
       "<div>\n",
       "<style scoped>\n",
       "    .dataframe tbody tr th:only-of-type {\n",
       "        vertical-align: middle;\n",
       "    }\n",
       "\n",
       "    .dataframe tbody tr th {\n",
       "        vertical-align: top;\n",
       "    }\n",
       "\n",
       "    .dataframe thead th {\n",
       "        text-align: right;\n",
       "    }\n",
       "</style>\n",
       "<table border=\"1\" class=\"dataframe\">\n",
       "  <thead>\n",
       "    <tr style=\"text-align: right;\">\n",
       "      <th></th>\n",
       "      <th>0</th>\n",
       "      <th>1</th>\n",
       "      <th>2</th>\n",
       "      <th>3</th>\n",
       "      <th>4</th>\n",
       "      <th>5</th>\n",
       "      <th>6</th>\n",
       "      <th>7</th>\n",
       "      <th>8</th>\n",
       "      <th>9</th>\n",
       "      <th>...</th>\n",
       "      <th>11</th>\n",
       "      <th>12</th>\n",
       "      <th>13</th>\n",
       "      <th>14</th>\n",
       "      <th>15</th>\n",
       "      <th>16</th>\n",
       "      <th>17</th>\n",
       "      <th>18</th>\n",
       "      <th>19</th>\n",
       "      <th>20</th>\n",
       "    </tr>\n",
       "  </thead>\n",
       "  <tbody>\n",
       "    <tr>\n",
       "      <th>0</th>\n",
       "      <td>1.000000</td>\n",
       "      <td>0.000000</td>\n",
       "      <td>0.113300</td>\n",
       "      <td>0.425946</td>\n",
       "      <td>0.867659</td>\n",
       "      <td>0.844444</td>\n",
       "      <td>0.058333</td>\n",
       "      <td>0.166314</td>\n",
       "      <td>0.370333</td>\n",
       "      <td>0.181818</td>\n",
       "      <td>...</td>\n",
       "      <td>1.000000</td>\n",
       "      <td>0.762712</td>\n",
       "      <td>0.389831</td>\n",
       "      <td>0.367598</td>\n",
       "      <td>0.060000</td>\n",
       "      <td>0.500000</td>\n",
       "      <td>0.0</td>\n",
       "      <td>1.0</td>\n",
       "      <td>1.0</td>\n",
       "      <td>0.0</td>\n",
       "    </tr>\n",
       "    <tr>\n",
       "      <th>1</th>\n",
       "      <td>0.999763</td>\n",
       "      <td>0.000097</td>\n",
       "      <td>0.137931</td>\n",
       "      <td>0.658810</td>\n",
       "      <td>0.951077</td>\n",
       "      <td>0.666667</td>\n",
       "      <td>0.419444</td>\n",
       "      <td>0.078224</td>\n",
       "      <td>0.370000</td>\n",
       "      <td>0.545455</td>\n",
       "      <td>...</td>\n",
       "      <td>0.782609</td>\n",
       "      <td>0.152542</td>\n",
       "      <td>0.271186</td>\n",
       "      <td>0.516201</td>\n",
       "      <td>0.463333</td>\n",
       "      <td>0.166667</td>\n",
       "      <td>1.0</td>\n",
       "      <td>0.0</td>\n",
       "      <td>1.0</td>\n",
       "      <td>0.0</td>\n",
       "    </tr>\n",
       "    <tr>\n",
       "      <th>2</th>\n",
       "      <td>0.999505</td>\n",
       "      <td>0.000194</td>\n",
       "      <td>0.162562</td>\n",
       "      <td>0.211651</td>\n",
       "      <td>0.906871</td>\n",
       "      <td>0.277778</td>\n",
       "      <td>0.205556</td>\n",
       "      <td>0.114165</td>\n",
       "      <td>0.370000</td>\n",
       "      <td>0.818182</td>\n",
       "      <td>...</td>\n",
       "      <td>0.217391</td>\n",
       "      <td>0.966102</td>\n",
       "      <td>0.050847</td>\n",
       "      <td>0.757542</td>\n",
       "      <td>0.798889</td>\n",
       "      <td>0.083333</td>\n",
       "      <td>0.0</td>\n",
       "      <td>1.0</td>\n",
       "      <td>0.0</td>\n",
       "      <td>1.0</td>\n",
       "    </tr>\n",
       "    <tr>\n",
       "      <th>3</th>\n",
       "      <td>0.999289</td>\n",
       "      <td>0.000275</td>\n",
       "      <td>0.000000</td>\n",
       "      <td>0.032488</td>\n",
       "      <td>0.148987</td>\n",
       "      <td>0.000000</td>\n",
       "      <td>0.780556</td>\n",
       "      <td>0.000000</td>\n",
       "      <td>0.369667</td>\n",
       "      <td>0.000000</td>\n",
       "      <td>...</td>\n",
       "      <td>0.565217</td>\n",
       "      <td>0.322034</td>\n",
       "      <td>0.949153</td>\n",
       "      <td>0.677095</td>\n",
       "      <td>0.591111</td>\n",
       "      <td>0.000000</td>\n",
       "      <td>0.0</td>\n",
       "      <td>1.0</td>\n",
       "      <td>0.0</td>\n",
       "      <td>1.0</td>\n",
       "    </tr>\n",
       "    <tr>\n",
       "      <th>4</th>\n",
       "      <td>0.999246</td>\n",
       "      <td>0.000291</td>\n",
       "      <td>0.187192</td>\n",
       "      <td>0.921869</td>\n",
       "      <td>0.373162</td>\n",
       "      <td>0.000000</td>\n",
       "      <td>0.152778</td>\n",
       "      <td>0.000000</td>\n",
       "      <td>0.369667</td>\n",
       "      <td>0.727273</td>\n",
       "      <td>...</td>\n",
       "      <td>0.086957</td>\n",
       "      <td>0.762712</td>\n",
       "      <td>0.593220</td>\n",
       "      <td>0.689385</td>\n",
       "      <td>0.842778</td>\n",
       "      <td>0.000000</td>\n",
       "      <td>1.0</td>\n",
       "      <td>0.0</td>\n",
       "      <td>0.0</td>\n",
       "      <td>1.0</td>\n",
       "    </tr>\n",
       "    <tr>\n",
       "      <th>...</th>\n",
       "      <td>...</td>\n",
       "      <td>...</td>\n",
       "      <td>...</td>\n",
       "      <td>...</td>\n",
       "      <td>...</td>\n",
       "      <td>...</td>\n",
       "      <td>...</td>\n",
       "      <td>...</td>\n",
       "      <td>...</td>\n",
       "      <td>...</td>\n",
       "      <td>...</td>\n",
       "      <td>...</td>\n",
       "      <td>...</td>\n",
       "      <td>...</td>\n",
       "      <td>...</td>\n",
       "      <td>...</td>\n",
       "      <td>...</td>\n",
       "      <td>...</td>\n",
       "      <td>...</td>\n",
       "      <td>...</td>\n",
       "      <td>...</td>\n",
       "    </tr>\n",
       "    <tr>\n",
       "      <th>11579</th>\n",
       "      <td>0.095107</td>\n",
       "      <td>0.999531</td>\n",
       "      <td>0.960591</td>\n",
       "      <td>0.176201</td>\n",
       "      <td>0.905577</td>\n",
       "      <td>0.000000</td>\n",
       "      <td>0.025000</td>\n",
       "      <td>0.000000</td>\n",
       "      <td>0.740333</td>\n",
       "      <td>0.545455</td>\n",
       "      <td>...</td>\n",
       "      <td>0.608696</td>\n",
       "      <td>0.830508</td>\n",
       "      <td>0.457627</td>\n",
       "      <td>0.743017</td>\n",
       "      <td>0.180556</td>\n",
       "      <td>0.000000</td>\n",
       "      <td>0.0</td>\n",
       "      <td>1.0</td>\n",
       "      <td>0.0</td>\n",
       "      <td>1.0</td>\n",
       "    </tr>\n",
       "    <tr>\n",
       "      <th>11580</th>\n",
       "      <td>0.095193</td>\n",
       "      <td>0.999628</td>\n",
       "      <td>0.985222</td>\n",
       "      <td>0.908651</td>\n",
       "      <td>0.441413</td>\n",
       "      <td>0.000000</td>\n",
       "      <td>0.497222</td>\n",
       "      <td>0.000000</td>\n",
       "      <td>0.740333</td>\n",
       "      <td>0.181818</td>\n",
       "      <td>...</td>\n",
       "      <td>0.130435</td>\n",
       "      <td>0.305085</td>\n",
       "      <td>0.525424</td>\n",
       "      <td>0.750838</td>\n",
       "      <td>0.805556</td>\n",
       "      <td>0.000000</td>\n",
       "      <td>1.0</td>\n",
       "      <td>0.0</td>\n",
       "      <td>1.0</td>\n",
       "      <td>0.0</td>\n",
       "    </tr>\n",
       "    <tr>\n",
       "      <th>11581</th>\n",
       "      <td>0.095258</td>\n",
       "      <td>0.999709</td>\n",
       "      <td>0.822660</td>\n",
       "      <td>0.766913</td>\n",
       "      <td>0.977157</td>\n",
       "      <td>0.366667</td>\n",
       "      <td>0.405556</td>\n",
       "      <td>0.243129</td>\n",
       "      <td>0.740667</td>\n",
       "      <td>0.727273</td>\n",
       "      <td>...</td>\n",
       "      <td>1.000000</td>\n",
       "      <td>0.389831</td>\n",
       "      <td>0.966102</td>\n",
       "      <td>0.798883</td>\n",
       "      <td>0.985000</td>\n",
       "      <td>0.250000</td>\n",
       "      <td>1.0</td>\n",
       "      <td>0.0</td>\n",
       "      <td>1.0</td>\n",
       "      <td>0.0</td>\n",
       "    </tr>\n",
       "    <tr>\n",
       "      <th>11582</th>\n",
       "      <td>0.095408</td>\n",
       "      <td>0.999903</td>\n",
       "      <td>0.871921</td>\n",
       "      <td>0.541470</td>\n",
       "      <td>0.945344</td>\n",
       "      <td>0.911111</td>\n",
       "      <td>0.461111</td>\n",
       "      <td>0.053559</td>\n",
       "      <td>0.742000</td>\n",
       "      <td>0.000000</td>\n",
       "      <td>...</td>\n",
       "      <td>0.608696</td>\n",
       "      <td>0.305085</td>\n",
       "      <td>0.101695</td>\n",
       "      <td>0.235754</td>\n",
       "      <td>0.102222</td>\n",
       "      <td>0.166667</td>\n",
       "      <td>1.0</td>\n",
       "      <td>0.0</td>\n",
       "      <td>0.0</td>\n",
       "      <td>1.0</td>\n",
       "    </tr>\n",
       "    <tr>\n",
       "      <th>11583</th>\n",
       "      <td>0.095494</td>\n",
       "      <td>1.000000</td>\n",
       "      <td>0.896552</td>\n",
       "      <td>0.426392</td>\n",
       "      <td>0.929344</td>\n",
       "      <td>0.855556</td>\n",
       "      <td>0.044444</td>\n",
       "      <td>0.011980</td>\n",
       "      <td>0.742000</td>\n",
       "      <td>0.909091</td>\n",
       "      <td>...</td>\n",
       "      <td>0.695652</td>\n",
       "      <td>0.169492</td>\n",
       "      <td>0.271186</td>\n",
       "      <td>0.258101</td>\n",
       "      <td>0.286667</td>\n",
       "      <td>0.000000</td>\n",
       "      <td>0.0</td>\n",
       "      <td>1.0</td>\n",
       "      <td>0.0</td>\n",
       "      <td>1.0</td>\n",
       "    </tr>\n",
       "  </tbody>\n",
       "</table>\n",
       "<p>11584 rows × 21 columns</p>\n",
       "</div>"
      ],
      "text/plain": [
       "             0         1         2         3         4         5         6   \\\n",
       "0      1.000000  0.000000  0.113300  0.425946  0.867659  0.844444  0.058333   \n",
       "1      0.999763  0.000097  0.137931  0.658810  0.951077  0.666667  0.419444   \n",
       "2      0.999505  0.000194  0.162562  0.211651  0.906871  0.277778  0.205556   \n",
       "3      0.999289  0.000275  0.000000  0.032488  0.148987  0.000000  0.780556   \n",
       "4      0.999246  0.000291  0.187192  0.921869  0.373162  0.000000  0.152778   \n",
       "...         ...       ...       ...       ...       ...       ...       ...   \n",
       "11579  0.095107  0.999531  0.960591  0.176201  0.905577  0.000000  0.025000   \n",
       "11580  0.095193  0.999628  0.985222  0.908651  0.441413  0.000000  0.497222   \n",
       "11581  0.095258  0.999709  0.822660  0.766913  0.977157  0.366667  0.405556   \n",
       "11582  0.095408  0.999903  0.871921  0.541470  0.945344  0.911111  0.461111   \n",
       "11583  0.095494  1.000000  0.896552  0.426392  0.929344  0.855556  0.044444   \n",
       "\n",
       "             7         8         9   ...        11        12        13  \\\n",
       "0      0.166314  0.370333  0.181818  ...  1.000000  0.762712  0.389831   \n",
       "1      0.078224  0.370000  0.545455  ...  0.782609  0.152542  0.271186   \n",
       "2      0.114165  0.370000  0.818182  ...  0.217391  0.966102  0.050847   \n",
       "3      0.000000  0.369667  0.000000  ...  0.565217  0.322034  0.949153   \n",
       "4      0.000000  0.369667  0.727273  ...  0.086957  0.762712  0.593220   \n",
       "...         ...       ...       ...  ...       ...       ...       ...   \n",
       "11579  0.000000  0.740333  0.545455  ...  0.608696  0.830508  0.457627   \n",
       "11580  0.000000  0.740333  0.181818  ...  0.130435  0.305085  0.525424   \n",
       "11581  0.243129  0.740667  0.727273  ...  1.000000  0.389831  0.966102   \n",
       "11582  0.053559  0.742000  0.000000  ...  0.608696  0.305085  0.101695   \n",
       "11583  0.011980  0.742000  0.909091  ...  0.695652  0.169492  0.271186   \n",
       "\n",
       "             14        15        16   17   18   19   20  \n",
       "0      0.367598  0.060000  0.500000  0.0  1.0  1.0  0.0  \n",
       "1      0.516201  0.463333  0.166667  1.0  0.0  1.0  0.0  \n",
       "2      0.757542  0.798889  0.083333  0.0  1.0  0.0  1.0  \n",
       "3      0.677095  0.591111  0.000000  0.0  1.0  0.0  1.0  \n",
       "4      0.689385  0.842778  0.000000  1.0  0.0  0.0  1.0  \n",
       "...         ...       ...       ...  ...  ...  ...  ...  \n",
       "11579  0.743017  0.180556  0.000000  0.0  1.0  0.0  1.0  \n",
       "11580  0.750838  0.805556  0.000000  1.0  0.0  1.0  0.0  \n",
       "11581  0.798883  0.985000  0.250000  1.0  0.0  1.0  0.0  \n",
       "11582  0.235754  0.102222  0.166667  1.0  0.0  0.0  1.0  \n",
       "11583  0.258101  0.286667  0.000000  0.0  1.0  0.0  1.0  \n",
       "\n",
       "[11584 rows x 21 columns]"
      ]
     },
     "execution_count": 58,
     "metadata": {},
     "output_type": "execute_result"
    }
   ],
   "source": [
    "X"
   ]
  },
  {
   "cell_type": "code",
   "execution_count": 59,
   "metadata": {
    "colab": {
     "base_uri": "https://localhost:8080/",
     "height": 437
    },
    "id": "o8aa60EQs6hK",
    "outputId": "87026ba1-6a03-49f5-b865-8fd671c5b9d7"
   },
   "outputs": [
    {
     "data": {
      "text/html": [
       "<div>\n",
       "<style scoped>\n",
       "    .dataframe tbody tr th:only-of-type {\n",
       "        vertical-align: middle;\n",
       "    }\n",
       "\n",
       "    .dataframe tbody tr th {\n",
       "        vertical-align: top;\n",
       "    }\n",
       "\n",
       "    .dataframe thead th {\n",
       "        text-align: right;\n",
       "    }\n",
       "</style>\n",
       "<table border=\"1\" class=\"dataframe\">\n",
       "  <thead>\n",
       "    <tr style=\"text-align: right;\">\n",
       "      <th></th>\n",
       "      <th>0</th>\n",
       "      <th>1</th>\n",
       "      <th>2</th>\n",
       "      <th>3</th>\n",
       "      <th>4</th>\n",
       "      <th>5</th>\n",
       "      <th>6</th>\n",
       "      <th>7</th>\n",
       "      <th>8</th>\n",
       "      <th>9</th>\n",
       "      <th>...</th>\n",
       "      <th>11</th>\n",
       "      <th>12</th>\n",
       "      <th>13</th>\n",
       "      <th>14</th>\n",
       "      <th>15</th>\n",
       "      <th>16</th>\n",
       "      <th>17</th>\n",
       "      <th>18</th>\n",
       "      <th>19</th>\n",
       "      <th>20</th>\n",
       "    </tr>\n",
       "  </thead>\n",
       "  <tbody>\n",
       "    <tr>\n",
       "      <th>0</th>\n",
       "      <td>0.377920</td>\n",
       "      <td>0.000000</td>\n",
       "      <td>0.042818</td>\n",
       "      <td>0.160973</td>\n",
       "      <td>0.327906</td>\n",
       "      <td>0.319132</td>\n",
       "      <td>0.022045</td>\n",
       "      <td>0.062853</td>\n",
       "      <td>0.139956</td>\n",
       "      <td>0.068713</td>\n",
       "      <td>...</td>\n",
       "      <td>0.377920</td>\n",
       "      <td>0.288244</td>\n",
       "      <td>0.147325</td>\n",
       "      <td>0.138922</td>\n",
       "      <td>0.022675</td>\n",
       "      <td>0.188960</td>\n",
       "      <td>0.000000</td>\n",
       "      <td>0.377920</td>\n",
       "      <td>0.377920</td>\n",
       "      <td>0.000000</td>\n",
       "    </tr>\n",
       "    <tr>\n",
       "      <th>1</th>\n",
       "      <td>0.388093</td>\n",
       "      <td>0.000038</td>\n",
       "      <td>0.053543</td>\n",
       "      <td>0.255740</td>\n",
       "      <td>0.369194</td>\n",
       "      <td>0.258790</td>\n",
       "      <td>0.162822</td>\n",
       "      <td>0.030365</td>\n",
       "      <td>0.143628</td>\n",
       "      <td>0.211737</td>\n",
       "      <td>...</td>\n",
       "      <td>0.303797</td>\n",
       "      <td>0.059215</td>\n",
       "      <td>0.105270</td>\n",
       "      <td>0.200381</td>\n",
       "      <td>0.179859</td>\n",
       "      <td>0.064697</td>\n",
       "      <td>0.388185</td>\n",
       "      <td>0.000000</td>\n",
       "      <td>0.388185</td>\n",
       "      <td>0.000000</td>\n",
       "    </tr>\n",
       "    <tr>\n",
       "      <th>2</th>\n",
       "      <td>0.360814</td>\n",
       "      <td>0.000070</td>\n",
       "      <td>0.058684</td>\n",
       "      <td>0.076405</td>\n",
       "      <td>0.327374</td>\n",
       "      <td>0.100276</td>\n",
       "      <td>0.074204</td>\n",
       "      <td>0.041213</td>\n",
       "      <td>0.133567</td>\n",
       "      <td>0.295358</td>\n",
       "      <td>...</td>\n",
       "      <td>0.078477</td>\n",
       "      <td>0.348756</td>\n",
       "      <td>0.018356</td>\n",
       "      <td>0.273467</td>\n",
       "      <td>0.288393</td>\n",
       "      <td>0.030083</td>\n",
       "      <td>0.000000</td>\n",
       "      <td>0.360993</td>\n",
       "      <td>0.000000</td>\n",
       "      <td>0.360993</td>\n",
       "    </tr>\n",
       "    <tr>\n",
       "      <th>3</th>\n",
       "      <td>0.395322</td>\n",
       "      <td>0.000109</td>\n",
       "      <td>0.000000</td>\n",
       "      <td>0.012852</td>\n",
       "      <td>0.058940</td>\n",
       "      <td>0.000000</td>\n",
       "      <td>0.308791</td>\n",
       "      <td>0.000000</td>\n",
       "      <td>0.146241</td>\n",
       "      <td>0.000000</td>\n",
       "      <td>...</td>\n",
       "      <td>0.223602</td>\n",
       "      <td>0.127398</td>\n",
       "      <td>0.375488</td>\n",
       "      <td>0.267861</td>\n",
       "      <td>0.233846</td>\n",
       "      <td>0.000000</td>\n",
       "      <td>0.000000</td>\n",
       "      <td>0.395604</td>\n",
       "      <td>0.000000</td>\n",
       "      <td>0.395604</td>\n",
       "    </tr>\n",
       "    <tr>\n",
       "      <th>4</th>\n",
       "      <td>0.369123</td>\n",
       "      <td>0.000108</td>\n",
       "      <td>0.069149</td>\n",
       "      <td>0.340540</td>\n",
       "      <td>0.137847</td>\n",
       "      <td>0.000000</td>\n",
       "      <td>0.056436</td>\n",
       "      <td>0.000000</td>\n",
       "      <td>0.136556</td>\n",
       "      <td>0.268656</td>\n",
       "      <td>...</td>\n",
       "      <td>0.032122</td>\n",
       "      <td>0.281747</td>\n",
       "      <td>0.219137</td>\n",
       "      <td>0.254660</td>\n",
       "      <td>0.311324</td>\n",
       "      <td>0.000000</td>\n",
       "      <td>0.369402</td>\n",
       "      <td>0.000000</td>\n",
       "      <td>0.000000</td>\n",
       "      <td>0.369402</td>\n",
       "    </tr>\n",
       "    <tr>\n",
       "      <th>...</th>\n",
       "      <td>...</td>\n",
       "      <td>...</td>\n",
       "      <td>...</td>\n",
       "      <td>...</td>\n",
       "      <td>...</td>\n",
       "      <td>...</td>\n",
       "      <td>...</td>\n",
       "      <td>...</td>\n",
       "      <td>...</td>\n",
       "      <td>...</td>\n",
       "      <td>...</td>\n",
       "      <td>...</td>\n",
       "      <td>...</td>\n",
       "      <td>...</td>\n",
       "      <td>...</td>\n",
       "      <td>...</td>\n",
       "      <td>...</td>\n",
       "      <td>...</td>\n",
       "      <td>...</td>\n",
       "      <td>...</td>\n",
       "      <td>...</td>\n",
       "    </tr>\n",
       "    <tr>\n",
       "      <th>11579</th>\n",
       "      <td>0.034273</td>\n",
       "      <td>0.360198</td>\n",
       "      <td>0.346166</td>\n",
       "      <td>0.063497</td>\n",
       "      <td>0.326340</td>\n",
       "      <td>0.000000</td>\n",
       "      <td>0.009009</td>\n",
       "      <td>0.000000</td>\n",
       "      <td>0.266792</td>\n",
       "      <td>0.196564</td>\n",
       "      <td>...</td>\n",
       "      <td>0.219354</td>\n",
       "      <td>0.299288</td>\n",
       "      <td>0.164914</td>\n",
       "      <td>0.267759</td>\n",
       "      <td>0.065066</td>\n",
       "      <td>0.000000</td>\n",
       "      <td>0.000000</td>\n",
       "      <td>0.360367</td>\n",
       "      <td>0.000000</td>\n",
       "      <td>0.360367</td>\n",
       "    </tr>\n",
       "    <tr>\n",
       "      <th>11580</th>\n",
       "      <td>0.034721</td>\n",
       "      <td>0.364607</td>\n",
       "      <td>0.359352</td>\n",
       "      <td>0.331424</td>\n",
       "      <td>0.161002</td>\n",
       "      <td>0.000000</td>\n",
       "      <td>0.181358</td>\n",
       "      <td>0.000000</td>\n",
       "      <td>0.270031</td>\n",
       "      <td>0.066317</td>\n",
       "      <td>...</td>\n",
       "      <td>0.047575</td>\n",
       "      <td>0.111277</td>\n",
       "      <td>0.191645</td>\n",
       "      <td>0.273863</td>\n",
       "      <td>0.293821</td>\n",
       "      <td>0.000000</td>\n",
       "      <td>0.364743</td>\n",
       "      <td>0.000000</td>\n",
       "      <td>0.364743</td>\n",
       "      <td>0.000000</td>\n",
       "    </tr>\n",
       "    <tr>\n",
       "      <th>11581</th>\n",
       "      <td>0.029470</td>\n",
       "      <td>0.309286</td>\n",
       "      <td>0.254511</td>\n",
       "      <td>0.237265</td>\n",
       "      <td>0.302309</td>\n",
       "      <td>0.113438</td>\n",
       "      <td>0.125469</td>\n",
       "      <td>0.075218</td>\n",
       "      <td>0.229145</td>\n",
       "      <td>0.225001</td>\n",
       "      <td>...</td>\n",
       "      <td>0.309376</td>\n",
       "      <td>0.120604</td>\n",
       "      <td>0.298889</td>\n",
       "      <td>0.247155</td>\n",
       "      <td>0.304736</td>\n",
       "      <td>0.077344</td>\n",
       "      <td>0.309376</td>\n",
       "      <td>0.000000</td>\n",
       "      <td>0.309376</td>\n",
       "      <td>0.000000</td>\n",
       "    </tr>\n",
       "    <tr>\n",
       "      <th>11582</th>\n",
       "      <td>0.034130</td>\n",
       "      <td>0.357693</td>\n",
       "      <td>0.311910</td>\n",
       "      <td>0.193699</td>\n",
       "      <td>0.338176</td>\n",
       "      <td>0.325930</td>\n",
       "      <td>0.164952</td>\n",
       "      <td>0.019159</td>\n",
       "      <td>0.265434</td>\n",
       "      <td>0.000000</td>\n",
       "      <td>...</td>\n",
       "      <td>0.217747</td>\n",
       "      <td>0.109137</td>\n",
       "      <td>0.036379</td>\n",
       "      <td>0.084336</td>\n",
       "      <td>0.036568</td>\n",
       "      <td>0.059621</td>\n",
       "      <td>0.357728</td>\n",
       "      <td>0.000000</td>\n",
       "      <td>0.000000</td>\n",
       "      <td>0.357728</td>\n",
       "    </tr>\n",
       "    <tr>\n",
       "      <th>11583</th>\n",
       "      <td>0.033627</td>\n",
       "      <td>0.352136</td>\n",
       "      <td>0.315708</td>\n",
       "      <td>0.150148</td>\n",
       "      <td>0.327256</td>\n",
       "      <td>0.301272</td>\n",
       "      <td>0.015651</td>\n",
       "      <td>0.004219</td>\n",
       "      <td>0.261285</td>\n",
       "      <td>0.320124</td>\n",
       "      <td>...</td>\n",
       "      <td>0.244964</td>\n",
       "      <td>0.059684</td>\n",
       "      <td>0.095495</td>\n",
       "      <td>0.090887</td>\n",
       "      <td>0.100946</td>\n",
       "      <td>0.000000</td>\n",
       "      <td>0.000000</td>\n",
       "      <td>0.352136</td>\n",
       "      <td>0.000000</td>\n",
       "      <td>0.352136</td>\n",
       "    </tr>\n",
       "  </tbody>\n",
       "</table>\n",
       "<p>11584 rows × 21 columns</p>\n",
       "</div>"
      ],
      "text/plain": [
       "             0         1         2         3         4         5         6   \\\n",
       "0      0.377920  0.000000  0.042818  0.160973  0.327906  0.319132  0.022045   \n",
       "1      0.388093  0.000038  0.053543  0.255740  0.369194  0.258790  0.162822   \n",
       "2      0.360814  0.000070  0.058684  0.076405  0.327374  0.100276  0.074204   \n",
       "3      0.395322  0.000109  0.000000  0.012852  0.058940  0.000000  0.308791   \n",
       "4      0.369123  0.000108  0.069149  0.340540  0.137847  0.000000  0.056436   \n",
       "...         ...       ...       ...       ...       ...       ...       ...   \n",
       "11579  0.034273  0.360198  0.346166  0.063497  0.326340  0.000000  0.009009   \n",
       "11580  0.034721  0.364607  0.359352  0.331424  0.161002  0.000000  0.181358   \n",
       "11581  0.029470  0.309286  0.254511  0.237265  0.302309  0.113438  0.125469   \n",
       "11582  0.034130  0.357693  0.311910  0.193699  0.338176  0.325930  0.164952   \n",
       "11583  0.033627  0.352136  0.315708  0.150148  0.327256  0.301272  0.015651   \n",
       "\n",
       "             7         8         9   ...        11        12        13  \\\n",
       "0      0.062853  0.139956  0.068713  ...  0.377920  0.288244  0.147325   \n",
       "1      0.030365  0.143628  0.211737  ...  0.303797  0.059215  0.105270   \n",
       "2      0.041213  0.133567  0.295358  ...  0.078477  0.348756  0.018356   \n",
       "3      0.000000  0.146241  0.000000  ...  0.223602  0.127398  0.375488   \n",
       "4      0.000000  0.136556  0.268656  ...  0.032122  0.281747  0.219137   \n",
       "...         ...       ...       ...  ...       ...       ...       ...   \n",
       "11579  0.000000  0.266792  0.196564  ...  0.219354  0.299288  0.164914   \n",
       "11580  0.000000  0.270031  0.066317  ...  0.047575  0.111277  0.191645   \n",
       "11581  0.075218  0.229145  0.225001  ...  0.309376  0.120604  0.298889   \n",
       "11582  0.019159  0.265434  0.000000  ...  0.217747  0.109137  0.036379   \n",
       "11583  0.004219  0.261285  0.320124  ...  0.244964  0.059684  0.095495   \n",
       "\n",
       "             14        15        16        17        18        19        20  \n",
       "0      0.138922  0.022675  0.188960  0.000000  0.377920  0.377920  0.000000  \n",
       "1      0.200381  0.179859  0.064697  0.388185  0.000000  0.388185  0.000000  \n",
       "2      0.273467  0.288393  0.030083  0.000000  0.360993  0.000000  0.360993  \n",
       "3      0.267861  0.233846  0.000000  0.000000  0.395604  0.000000  0.395604  \n",
       "4      0.254660  0.311324  0.000000  0.369402  0.000000  0.000000  0.369402  \n",
       "...         ...       ...       ...       ...       ...       ...       ...  \n",
       "11579  0.267759  0.065066  0.000000  0.000000  0.360367  0.000000  0.360367  \n",
       "11580  0.273863  0.293821  0.000000  0.364743  0.000000  0.364743  0.000000  \n",
       "11581  0.247155  0.304736  0.077344  0.309376  0.000000  0.309376  0.000000  \n",
       "11582  0.084336  0.036568  0.059621  0.357728  0.000000  0.000000  0.357728  \n",
       "11583  0.090887  0.100946  0.000000  0.000000  0.352136  0.000000  0.352136  \n",
       "\n",
       "[11584 rows x 21 columns]"
      ]
     },
     "execution_count": 59,
     "metadata": {},
     "output_type": "execute_result"
    }
   ],
   "source": [
    "from sklearn.preprocessing import Normalizer\n",
    "transformer = Normalizer().fit(X)\n",
    "X_normalized = transformer.transform(X)\n",
    "pd.DataFrame(X_normalized)"
   ]
  },
  {
   "cell_type": "markdown",
   "metadata": {
    "id": "mSaVYqxIm2f-"
   },
   "source": [
    "### Visualization of the Target feature(Eclipse Type)"
   ]
  },
  {
   "cell_type": "code",
   "execution_count": 60,
   "metadata": {
    "colab": {
     "base_uri": "https://localhost:8080/",
     "height": 280
    },
    "id": "1Bf2XeKrl5jK",
    "outputId": "df87da1a-9f7b-47cd-9c12-30a0869d49b5"
   },
   "outputs": [
    {
     "data": {
      "text/plain": [
       "([0, 1, 2, 3],\n",
       " [Text(0, 0, ''), Text(0, 0, ''), Text(0, 0, ''), Text(0, 0, '')])"
      ]
     },
     "execution_count": 60,
     "metadata": {},
     "output_type": "execute_result"
    },
    {
     "data": {
      "image/png": "[encoded data removed]",
      "text/plain": [
       "<Figure size 640x480 with 1 Axes>"
      ]
     },
     "metadata": {},
     "output_type": "display_data"
    }
   ],
   "source": [
    "plt.hist(df[\"Eclipse_Type\"], bins = len(df[\"Eclipse_Type\"].unique()))\n",
    "plt.xticks(rotation='vertical')"
   ]
  },
  {
   "cell_type": "code",
   "execution_count": 61,
   "metadata": {
    "colab": {
     "base_uri": "https://localhost:8080/"
    },
    "id": "H0TFJ9FECQPQ",
    "outputId": "289984bc-f671-4f8a-e0a7-f1eda82b959d"
   },
   "outputs": [
    {
     "data": {
      "text/plain": [
       "1    A\n",
       "2    T\n",
       "3    A\n",
       "4    P\n",
       "5    P\n",
       "Name: Eclipse_Type, dtype: object"
      ]
     },
     "execution_count": 61,
     "metadata": {},
     "output_type": "execute_result"
    }
   ],
   "source": [
    "y = df['Eclipse_Type']\n",
    "y.head()"
   ]
  },
  {
   "cell_type": "code",
   "execution_count": 62,
   "metadata": {
    "colab": {
     "base_uri": "https://localhost:8080/"
    },
    "id": "TQyORu8XCQKV",
    "outputId": "e55b45cf-c15d-4ca0-8e5a-013acd3d57af"
   },
   "outputs": [
    {
     "data": {
      "text/plain": [
       "(11584,)"
      ]
     },
     "execution_count": 62,
     "metadata": {},
     "output_type": "execute_result"
    }
   ],
   "source": [
    "y.shape"
   ]
  },
  {
   "cell_type": "code",
   "execution_count": 63,
   "metadata": {
    "colab": {
     "base_uri": "https://localhost:8080/"
    },
    "id": "lNDTKKNElk5U",
    "outputId": "b628821a-4671-4559-c44d-1d1a5f9664c0"
   },
   "outputs": [
    {
     "data": {
      "text/plain": [
       "array([0, 3, 0, ..., 3, 3, 1])"
      ]
     },
     "execution_count": 63,
     "metadata": {},
     "output_type": "execute_result"
    }
   ],
   "source": [
    "from sklearn.preprocessing import LabelEncoder \n",
    "le = LabelEncoder()  \n",
    "y = le.fit_transform(y)\n",
    "y"
   ]
  },
  {
   "cell_type": "markdown",
   "metadata": {
    "id": "zWZr5T8TQ0wv"
   },
   "source": [
    "### Splitting the data"
   ]
  },
  {
   "cell_type": "code",
   "execution_count": 64,
   "metadata": {
    "id": "kIGAmGX6lk3F"
   },
   "outputs": [],
   "source": [
    "from sklearn.model_selection import train_test_split"
   ]
  },
  {
   "cell_type": "code",
   "execution_count": 65,
   "metadata": {
    "id": "q4ehgByQlk0x"
   },
   "outputs": [],
   "source": [
    "X_train, X_test, y_train, y_test = train_test_split(X_normalized, y, test_size=0.2)"
   ]
  },
  {
   "cell_type": "code",
   "execution_count": 66,
   "metadata": {
    "colab": {
     "base_uri": "https://localhost:8080/"
    },
    "id": "V6LdiP5nlkzC",
    "outputId": "4c27609a-1322-4598-bfec-cf15d52f4287"
   },
   "outputs": [
    {
     "name": "stdout",
     "output_type": "stream",
     "text": [
      "(9267, 21) (9267,)\n",
      "(2317, 21) (2317,)\n"
     ]
    }
   ],
   "source": [
    "print(X_train.shape, y_train.shape)\n",
    "print(X_test.shape, y_test.shape)"
   ]
  },
  {
   "cell_type": "markdown",
   "metadata": {
    "id": "I8FB023XpfRO"
   },
   "source": [
    "## Using Logistic Regression"
   ]
  },
  {
   "cell_type": "code",
   "execution_count": 67,
   "metadata": {
    "colab": {
     "base_uri": "https://localhost:8080/"
    },
    "id": "k18q5s-JvizQ",
    "outputId": "987a4e49-ec25-4049-bc87-ef5a76040e88"
   },
   "outputs": [
    {
     "name": "stderr",
     "output_type": "stream",
     "text": [
      "C:\\Users\\USER\\anaconda3\\lib\\site-packages\\sklearn\\linear_model\\_logistic.py:814: ConvergenceWarning: lbfgs failed to converge (status=1):\n",
      "STOP: TOTAL NO. of ITERATIONS REACHED LIMIT.\n",
      "\n",
      "Increase the number of iterations (max_iter) or scale the data as shown in:\n",
      "    https://scikit-learn.org/stable/modules/preprocessing.html\n",
      "Please also refer to the documentation for alternative solver options:\n",
      "    https://scikit-learn.org/stable/modules/linear_model.html#logistic-regression\n",
      "  n_iter_i = _check_optimize_result(\n"
     ]
    },
    {
     "data": {
      "text/plain": [
       "LogisticRegression()"
      ]
     },
     "execution_count": 67,
     "metadata": {},
     "output_type": "execute_result"
    }
   ],
   "source": [
    "from sklearn import linear_model\n",
    "from sklearn.linear_model import LogisticRegression\n",
    "\n",
    "lg_model = LogisticRegression()\n",
    "\n",
    "lg_model.fit(X_train, y_train)"
   ]
  },
  {
   "cell_type": "code",
   "execution_count": 68,
   "metadata": {
    "colab": {
     "base_uri": "https://localhost:8080/",
     "height": 417
    },
    "id": "wCTwTgfgviu5",
    "outputId": "a6afca2c-6cac-4dc7-ea5e-61d51f81bab6"
   },
   "outputs": [
    {
     "data": {
      "text/html": [
       "<div>\n",
       "<style scoped>\n",
       "    .dataframe tbody tr th:only-of-type {\n",
       "        vertical-align: middle;\n",
       "    }\n",
       "\n",
       "    .dataframe tbody tr th {\n",
       "        vertical-align: top;\n",
       "    }\n",
       "\n",
       "    .dataframe thead th {\n",
       "        text-align: right;\n",
       "    }\n",
       "</style>\n",
       "<table border=\"1\" class=\"dataframe\">\n",
       "  <thead>\n",
       "    <tr style=\"text-align: right;\">\n",
       "      <th></th>\n",
       "      <th>0</th>\n",
       "    </tr>\n",
       "  </thead>\n",
       "  <tbody>\n",
       "    <tr>\n",
       "      <th>0</th>\n",
       "      <td>3</td>\n",
       "    </tr>\n",
       "    <tr>\n",
       "      <th>1</th>\n",
       "      <td>0</td>\n",
       "    </tr>\n",
       "    <tr>\n",
       "      <th>2</th>\n",
       "      <td>3</td>\n",
       "    </tr>\n",
       "    <tr>\n",
       "      <th>3</th>\n",
       "      <td>0</td>\n",
       "    </tr>\n",
       "    <tr>\n",
       "      <th>4</th>\n",
       "      <td>1</td>\n",
       "    </tr>\n",
       "    <tr>\n",
       "      <th>...</th>\n",
       "      <td>...</td>\n",
       "    </tr>\n",
       "    <tr>\n",
       "      <th>2312</th>\n",
       "      <td>3</td>\n",
       "    </tr>\n",
       "    <tr>\n",
       "      <th>2313</th>\n",
       "      <td>2</td>\n",
       "    </tr>\n",
       "    <tr>\n",
       "      <th>2314</th>\n",
       "      <td>3</td>\n",
       "    </tr>\n",
       "    <tr>\n",
       "      <th>2315</th>\n",
       "      <td>0</td>\n",
       "    </tr>\n",
       "    <tr>\n",
       "      <th>2316</th>\n",
       "      <td>0</td>\n",
       "    </tr>\n",
       "  </tbody>\n",
       "</table>\n",
       "<p>2317 rows × 1 columns</p>\n",
       "</div>"
      ],
      "text/plain": [
       "      0\n",
       "0     3\n",
       "1     0\n",
       "2     3\n",
       "3     0\n",
       "4     1\n",
       "...  ..\n",
       "2312  3\n",
       "2313  2\n",
       "2314  3\n",
       "2315  0\n",
       "2316  0\n",
       "\n",
       "[2317 rows x 1 columns]"
      ]
     },
     "execution_count": 68,
     "metadata": {},
     "output_type": "execute_result"
    }
   ],
   "source": [
    "pd.DataFrame(y_test)"
   ]
  },
  {
   "cell_type": "code",
   "execution_count": 69,
   "metadata": {
    "id": "Kmd3BPxgvipq"
   },
   "outputs": [],
   "source": [
    "from sklearn.metrics import classification_report, accuracy_score\n",
    "predictions = lg_model.predict(pd.DataFrame(X_test))"
   ]
  },
  {
   "cell_type": "markdown",
   "metadata": {
    "id": "aoVL2hFLQ8ig"
   },
   "source": [
    "#### Classification report"
   ]
  },
  {
   "cell_type": "code",
   "execution_count": 70,
   "metadata": {
    "colab": {
     "base_uri": "https://localhost:8080/"
    },
    "id": "aVTDjmGtvikn",
    "outputId": "6a24ea52-0258-4e39-812b-faf4588f41f4"
   },
   "outputs": [
    {
     "name": "stdout",
     "output_type": "stream",
     "text": [
      "              precision    recall  f1-score   support\n",
      "\n",
      "           0       0.90      0.80      0.85       766\n",
      "           1       0.60      0.13      0.21       119\n",
      "           2       0.96      1.00      0.98       792\n",
      "           3       0.72      0.89      0.80       640\n",
      "\n",
      "    accuracy                           0.86      2317\n",
      "   macro avg       0.80      0.70      0.71      2317\n",
      "weighted avg       0.86      0.86      0.85      2317\n",
      "\n",
      "0.8584376348726802\n"
     ]
    }
   ],
   "source": [
    "print(classification_report(y_test, predictions))\n",
    "print(accuracy_score(y_test, predictions))"
   ]
  },
  {
   "cell_type": "markdown",
   "metadata": {
    "id": "tlXWJQlnRAFL"
   },
   "source": [
    "#### Training accuracy - 88%\n",
    "#### Testing accuracy - 88.17%"
   ]
  },
  {
   "cell_type": "markdown",
   "metadata": {
    "id": "q7Ip80k5wEeZ"
   },
   "source": [
    "## Using Random Forest Algorithm"
   ]
  },
  {
   "cell_type": "code",
   "execution_count": 71,
   "metadata": {
    "id": "PRJZcwLzt1aD"
   },
   "outputs": [],
   "source": [
    "from sklearn.ensemble import RandomForestClassifier\n",
    "\n",
    "randomForestClassification = RandomForestClassifier(n_estimators=100,random_state=259)\n",
    "randomForestClassification.fit(X_train, y_train)\n",
    "y_pred = randomForestClassification.predict(X_test)"
   ]
  },
  {
   "cell_type": "code",
   "execution_count": 72,
   "metadata": {
    "colab": {
     "base_uri": "https://localhost:8080/"
    },
    "id": "GPem0nbqt1Wf",
    "outputId": "483ae1dc-1d2f-4102-e245-a12bd3c143e0"
   },
   "outputs": [
    {
     "data": {
      "text/plain": [
       "2    792\n",
       "0    776\n",
       "3    635\n",
       "1    114\n",
       "dtype: int64"
      ]
     },
     "execution_count": 72,
     "metadata": {},
     "output_type": "execute_result"
    }
   ],
   "source": [
    "pd.Series(y_pred).value_counts()"
   ]
  },
  {
   "cell_type": "markdown",
   "metadata": {
    "id": "YwRgSsE_RTLi"
   },
   "source": [
    "#### Classification report"
   ]
  },
  {
   "cell_type": "code",
   "execution_count": 73,
   "metadata": {
    "colab": {
     "base_uri": "https://localhost:8080/"
    },
    "id": "Q8-cRu2Ut1TR",
    "outputId": "2a4f1504-def5-4c11-bdd6-58182f7edbc3"
   },
   "outputs": [
    {
     "name": "stdout",
     "output_type": "stream",
     "text": [
      "              precision    recall  f1-score   support\n",
      "\n",
      "           0       0.94      0.95      0.95       766\n",
      "           1       0.74      0.71      0.72       119\n",
      "           2       1.00      1.00      1.00       792\n",
      "           3       0.99      0.98      0.98       640\n",
      "\n",
      "    accuracy                           0.96      2317\n",
      "   macro avg       0.92      0.91      0.91      2317\n",
      "weighted avg       0.96      0.96      0.96      2317\n",
      "\n",
      "0.963314630988347\n"
     ]
    }
   ],
   "source": [
    "from sklearn.metrics import classification_report, confusion_matrix, accuracy_score\n",
    "\n",
    "print(classification_report(y_test,y_pred))\n",
    "print(accuracy_score(y_test, y_pred))"
   ]
  },
  {
   "cell_type": "markdown",
   "metadata": {
    "id": "fpMhO0oPRZPc"
   },
   "source": [
    "#### Training accuracy - 96%\n",
    "#### Testing accuracy - 96.07%"
   ]
  },
  {
   "cell_type": "code",
   "execution_count": 74,
   "metadata": {
    "colab": {
     "base_uri": "https://localhost:8080/"
    },
    "id": "YkacJbzit1Ot",
    "outputId": "c7ac2d89-be81-4631-b20d-6b41244b521c"
   },
   "outputs": [
    {
     "data": {
      "text/plain": [
       "array([0.01023192, 0.00993062, 0.01021084, 0.05150094, 0.22739161,\n",
       "       0.15327554, 0.01118998, 0.16092772, 0.01259017, 0.01115354,\n",
       "       0.00820592, 0.00806996, 0.00847154, 0.00851578, 0.05002287,\n",
       "       0.00769957, 0.15768332, 0.02257865, 0.02587903, 0.02357089,\n",
       "       0.02089958])"
      ]
     },
     "execution_count": 74,
     "metadata": {},
     "output_type": "execute_result"
    }
   ],
   "source": [
    "randomForestClassification.feature_importances_"
   ]
  },
  {
   "cell_type": "markdown",
   "metadata": {
    "id": "5q_cjbGkwef0"
   },
   "source": [
    "## Using Support Vector Machine(SVM)"
   ]
  },
  {
   "cell_type": "code",
   "execution_count": 75,
   "metadata": {
    "colab": {
     "base_uri": "https://localhost:8080/"
    },
    "id": "Na_aABMplkkZ",
    "outputId": "1b087f1e-a9ec-4b54-bca1-09d70f100282"
   },
   "outputs": [
    {
     "data": {
      "text/plain": [
       "SVC(kernel='linear')"
      ]
     },
     "execution_count": 75,
     "metadata": {},
     "output_type": "execute_result"
    }
   ],
   "source": [
    "from sklearn.svm import SVC\n",
    "clf = SVC(kernel='linear') \n",
    "  \n",
    "clf.fit(X, y)"
   ]
  },
  {
   "cell_type": "markdown",
   "metadata": {
    "id": "MHp752VfRlXl"
   },
   "source": [
    "#### Classification report"
   ]
  },
  {
   "cell_type": "code",
   "execution_count": 76,
   "metadata": {
    "colab": {
     "base_uri": "https://localhost:8080/"
    },
    "id": "qsAGkQoPlkhF",
    "outputId": "606b7af0-a39d-437f-be2c-98c791d51fdc"
   },
   "outputs": [
    {
     "name": "stdout",
     "output_type": "stream",
     "text": [
      "              precision    recall  f1-score   support\n",
      "\n",
      "           0       0.90      0.80      0.85       766\n",
      "           1       0.60      0.13      0.21       119\n",
      "           2       0.96      1.00      0.98       792\n",
      "           3       0.72      0.89      0.80       640\n",
      "\n",
      "    accuracy                           0.86      2317\n",
      "   macro avg       0.80      0.70      0.71      2317\n",
      "weighted avg       0.86      0.86      0.85      2317\n",
      "\n",
      "0.8584376348726802\n"
     ]
    }
   ],
   "source": [
    "print(classification_report(y_test, predictions))\n",
    "print(accuracy_score(y_test, predictions))"
   ]
  },
  {
   "cell_type": "markdown",
   "metadata": {
    "id": "ezc9mlYlRo5e"
   },
   "source": [
    "#### Training accuracy - 88%\n",
    "#### Testing accuracy - 88.17%"
   ]
  },
  {
   "cell_type": "markdown",
   "metadata": {
    "id": "Z58xw58HEaMk"
   },
   "source": [
    "## Using XGBoost"
   ]
  },
  {
   "cell_type": "code",
   "execution_count": 77,
   "metadata": {
    "id": "FYQ_yZgFEZZQ"
   },
   "outputs": [],
   "source": [
    "import xgboost as xgb"
   ]
  },
  {
   "cell_type": "code",
   "execution_count": 78,
   "metadata": {
    "colab": {
     "base_uri": "https://localhost:8080/"
    },
    "id": "__JjECliEsOA",
    "outputId": "752186b8-cb46-4964-c7d4-b23ac212d3a5"
   },
   "outputs": [
    {
     "data": {
      "text/plain": [
       "XGBClassifier(base_score=None, booster=None, callbacks=None,\n",
       "              colsample_bylevel=None, colsample_bynode=None,\n",
       "              colsample_bytree=None, early_stopping_rounds=None,\n",
       "              enable_categorical=False, eval_metric=None, feature_types=None,\n",
       "              gamma=None, gpu_id=None, grow_policy=None, importance_type=None,\n",
       "              interaction_constraints=None, learning_rate=None, max_bin=None,\n",
       "              max_cat_threshold=None, max_cat_to_onehot=None,\n",
       "              max_delta_step=None, max_depth=None, max_leaves=None,\n",
       "              min_child_weight=None, missing=nan, monotone_constraints=None,\n",
       "              n_estimators=100, n_jobs=None, num_parallel_tree=None,\n",
       "              objective='multi:softprob', predictor=None, ...)"
      ]
     },
     "execution_count": 78,
     "metadata": {},
     "output_type": "execute_result"
    }
   ],
   "source": [
    "XGBclassifier = xgb.XGBClassifier()\n",
    "XGBclassifier.fit(X_train, y_train)"
   ]
  },
  {
   "cell_type": "code",
   "execution_count": 79,
   "metadata": {
    "id": "ea7592PVFxLi"
   },
   "outputs": [],
   "source": [
    "y_pred = XGBclassifier.predict(X_test)"
   ]
  },
  {
   "cell_type": "code",
   "execution_count": 80,
   "metadata": {
    "colab": {
     "base_uri": "https://localhost:8080/"
    },
    "id": "6586lR2iF4MH",
    "outputId": "0f64bbf4-3fdb-405c-fc14-f19ff59f23de"
   },
   "outputs": [
    {
     "data": {
      "text/plain": [
       "2    792\n",
       "0    769\n",
       "3    642\n",
       "1    114\n",
       "dtype: int64"
      ]
     },
     "execution_count": 80,
     "metadata": {},
     "output_type": "execute_result"
    }
   ],
   "source": [
    "pd.Series(y_pred).value_counts()"
   ]
  },
  {
   "cell_type": "markdown",
   "metadata": {
    "id": "PbWIpyR6R176"
   },
   "source": [
    "#### Classification report"
   ]
  },
  {
   "cell_type": "code",
   "execution_count": 81,
   "metadata": {
    "colab": {
     "base_uri": "https://localhost:8080/"
    },
    "id": "4j3se0gVF7mk",
    "outputId": "dde41249-9701-473e-882d-d6642ee504f2"
   },
   "outputs": [
    {
     "name": "stdout",
     "output_type": "stream",
     "text": [
      "              precision    recall  f1-score   support\n",
      "\n",
      "           0       0.97      0.97      0.97       766\n",
      "           1       0.82      0.78      0.80       119\n",
      "           2       1.00      1.00      1.00       792\n",
      "           3       0.99      1.00      0.99       640\n",
      "\n",
      "    accuracy                           0.98      2317\n",
      "   macro avg       0.94      0.94      0.94      2317\n",
      "weighted avg       0.98      0.98      0.98      2317\n",
      "\n",
      "0.9779887785930081\n"
     ]
    }
   ],
   "source": [
    "from sklearn.metrics import classification_report, confusion_matrix, accuracy_score\n",
    "\n",
    "print(classification_report(y_test,y_pred))\n",
    "print(accuracy_score(y_test, y_pred))"
   ]
  },
  {
   "cell_type": "markdown",
   "metadata": {
    "id": "V0Y0fSduRxJU"
   },
   "source": [
    "#### Training accuracy - 97%\n",
    "#### Testing accuracy - 97.36%"
   ]
  },
  {
   "cell_type": "markdown",
   "metadata": {
    "id": "9AG2mRu1w810"
   },
   "source": [
    "## Hyperparameter Tuning using RandomisedSearchCV"
   ]
  },
  {
   "cell_type": "code",
   "execution_count": 82,
   "metadata": {
    "id": "MTiMN_7Clkdg"
   },
   "outputs": [],
   "source": [
    "from sklearn.model_selection import RandomizedSearchCV"
   ]
  },
  {
   "cell_type": "code",
   "execution_count": 83,
   "metadata": {
    "id": "XssTEpcDlkZr"
   },
   "outputs": [],
   "source": [
    "n_estimators = [int(x) for x in np.linspace(start=100,stop=1200,num=6)]\n",
    "max_depth = [int(x) for x in np.linspace(start=5,stop=30,num=4)]"
   ]
  },
  {
   "cell_type": "code",
   "execution_count": 84,
   "metadata": {
    "id": "eyZJKENLlkVx"
   },
   "outputs": [],
   "source": [
    "random_params = {\n",
    "    'n_estimators':n_estimators,\n",
    "    'max_features':['auto','sqrt'],\n",
    "    'max_depth':max_depth,\n",
    "    'min_samples_split':[5,10,15,100]\n",
    "}"
   ]
  },
  {
   "cell_type": "code",
   "execution_count": 85,
   "metadata": {
    "colab": {
     "base_uri": "https://localhost:8080/"
    },
    "id": "l5XNg_m0lkRk",
    "outputId": "a792ca09-203f-4170-d515-349bcd656a68"
   },
   "outputs": [
    {
     "data": {
      "text/plain": [
       "{'n_estimators': [100, 320, 540, 760, 980, 1200],\n",
       " 'max_features': ['auto', 'sqrt'],\n",
       " 'max_depth': [5, 13, 21, 30],\n",
       " 'min_samples_split': [5, 10, 15, 100]}"
      ]
     },
     "execution_count": 85,
     "metadata": {},
     "output_type": "execute_result"
    }
   ],
   "source": [
    "random_params"
   ]
  },
  {
   "cell_type": "code",
   "execution_count": 86,
   "metadata": {
    "id": "8hnx-awTlkNq"
   },
   "outputs": [],
   "source": [
    "rf = RandomForestClassifier()"
   ]
  },
  {
   "cell_type": "code",
   "execution_count": 87,
   "metadata": {
    "id": "l891mObvtdLS"
   },
   "outputs": [],
   "source": [
    "hypertuned_classifier =  RandomizedSearchCV(\n",
    "    estimator=rf,\n",
    "    param_distributions=random_params,\n",
    "    cv=5,\n",
    "    verbose=2,\n",
    "    n_jobs=-1\n",
    ")"
   ]
  },
  {
   "cell_type": "code",
   "execution_count": 88,
   "metadata": {
    "colab": {
     "base_uri": "https://localhost:8080/"
    },
    "id": "BKAi55VrxolZ",
    "outputId": "0bfca8df-b6d4-4948-8786-9b29a86f22a1"
   },
   "outputs": [
    {
     "name": "stdout",
     "output_type": "stream",
     "text": [
      "Fitting 5 folds for each of 10 candidates, totalling 50 fits\n"
     ]
    },
    {
     "data": {
      "text/plain": [
       "RandomizedSearchCV(cv=5, estimator=RandomForestClassifier(), n_jobs=-1,\n",
       "                   param_distributions={'max_depth': [5, 13, 21, 30],\n",
       "                                        'max_features': ['auto', 'sqrt'],\n",
       "                                        'min_samples_split': [5, 10, 15, 100],\n",
       "                                        'n_estimators': [100, 320, 540, 760,\n",
       "                                                         980, 1200]},\n",
       "                   verbose=2)"
      ]
     },
     "execution_count": 88,
     "metadata": {},
     "output_type": "execute_result"
    }
   ],
   "source": [
    "hypertuned_classifier.fit(X_train,y_train)"
   ]
  },
  {
   "cell_type": "code",
   "execution_count": 89,
   "metadata": {
    "colab": {
     "base_uri": "https://localhost:8080/"
    },
    "id": "D9x1-vYgxtjL",
    "outputId": "9baf3da0-e10c-42b8-83b0-0f47d36ca583"
   },
   "outputs": [
    {
     "data": {
      "text/plain": [
       "{'n_estimators': 540,\n",
       " 'min_samples_split': 5,\n",
       " 'max_features': 'sqrt',\n",
       " 'max_depth': 21}"
      ]
     },
     "execution_count": 89,
     "metadata": {},
     "output_type": "execute_result"
    }
   ],
   "source": [
    "hypertuned_classifier.best_params_"
   ]
  },
  {
   "cell_type": "code",
   "execution_count": 90,
   "metadata": {
    "id": "geCDY2BgzncT"
   },
   "outputs": [],
   "source": [
    "predictions = hypertuned_classifier.predict(X_test)"
   ]
  },
  {
   "cell_type": "code",
   "execution_count": 91,
   "metadata": {
    "colab": {
     "base_uri": "https://localhost:8080/"
    },
    "id": "VqOb1q6iz0P6",
    "outputId": "f954ee62-c88d-4f28-f5fe-42987b887ebe"
   },
   "outputs": [
    {
     "name": "stdout",
     "output_type": "stream",
     "text": [
      "              precision    recall  f1-score   support\n",
      "\n",
      "           0       0.94      0.95      0.95       766\n",
      "           1       0.73      0.69      0.71       119\n",
      "           2       1.00      1.00      1.00       792\n",
      "           3       0.99      0.98      0.99       640\n",
      "\n",
      "    accuracy                           0.96      2317\n",
      "   macro avg       0.91      0.91      0.91      2317\n",
      "weighted avg       0.96      0.96      0.96      2317\n",
      "\n",
      "0.963314630988347\n"
     ]
    }
   ],
   "source": [
    "print(classification_report(y_test,predictions))\n",
    "print(accuracy_score(y_test, predictions))"
   ]
  },
  {
   "cell_type": "markdown",
   "metadata": {
    "id": "bCSWr2JAR87H"
   },
   "source": [
    "#### Training accuracy - 97%\n",
    "#### Testing accuracy - 96.54%"
   ]
  },
  {
   "cell_type": "markdown",
   "metadata": {
    "id": "kcujB8FzGAyI"
   },
   "source": [
    "### Hyperparameter tuning using XGBoost"
   ]
  },
  {
   "cell_type": "code",
   "execution_count": 92,
   "metadata": {
    "id": "WrEO6Ll-1SHr"
   },
   "outputs": [],
   "source": [
    "from sklearn.model_selection import GridSearchCV\n",
    "from xgboost import XGBClassifier\n",
    "from sklearn.metrics import mean_squared_error\n",
    "from sklearn.metrics import mean_absolute_error"
   ]
  },
  {
   "cell_type": "code",
   "execution_count": 93,
   "metadata": {
    "id": "Rfe19MOdGnqc"
   },
   "outputs": [],
   "source": [
    "def hyperParameterTuning(X_train, y_train):\n",
    "    param_tuning = {\n",
    "        'learning_rate': [0.01, 0.1],\n",
    "        'max_depth': [3, 5, 7, 10],\n",
    "        'min_child_weight': [1, 3, 5],\n",
    "        'subsample': [0.5, 0.7],\n",
    "        'colsample_bytree': [0.5, 0.7],\n",
    "        'n_estimators' : [100, 200, 500],\n",
    "        'objective': ['reg:squarederror']\n",
    "    }\n",
    "    XGB = XGBClassifier()\n",
    "    \n",
    "    gridsearch = GridSearchCV(estimator = XGB,\n",
    "                           param_grid = param_tuning,                        \n",
    "                           cv = 5,\n",
    "                           n_jobs = -1,\n",
    "                           verbose = 1)\n",
    "\n",
    "    gridsearch.fit(X_train,y_train)\n",
    "\n",
    "    return gridsearch.best_params"
   ]
  },
  {
   "cell_type": "code",
   "execution_count": 94,
   "metadata": {
    "colab": {
     "base_uri": "https://localhost:8080/"
    },
    "id": "WxqDEDfKGnnj",
    "outputId": "079523c3-d0a4-471a-cb15-fef125ba492a"
   },
   "outputs": [
    {
     "name": "stderr",
     "output_type": "stream",
     "text": [
      "C:\\Users\\USER\\anaconda3\\lib\\site-packages\\xgboost\\sklearn.py:835: UserWarning: `early_stopping_rounds` in `fit` method is deprecated for better compatibility with scikit-learn, use `early_stopping_rounds` in constructor or`set_params` instead.\n",
      "  warnings.warn(\n"
     ]
    },
    {
     "data": {
      "text/plain": [
       "XGBClassifier(base_score=None, booster=None, callbacks=None,\n",
       "              colsample_bylevel=None, colsample_bynode=None,\n",
       "              colsample_bytree=0.5, early_stopping_rounds=None,\n",
       "              enable_categorical=False, eval_metric=None, feature_types=None,\n",
       "              gamma=None, gpu_id=None, grow_policy=None, importance_type=None,\n",
       "              interaction_constraints=None, learning_rate=0.05, max_bin=None,\n",
       "              max_cat_threshold=None, max_cat_to_onehot=None,\n",
       "              max_delta_step=None, max_depth=6, max_leaves=None,\n",
       "              min_child_weight=1, missing=nan, monotone_constraints=None,\n",
       "              n_estimators=1000, n_jobs=None, num_parallel_tree=None,\n",
       "              objective='multi:softprob', predictor=None, ...)"
      ]
     },
     "execution_count": 94,
     "metadata": {},
     "output_type": "execute_result"
    }
   ],
   "source": [
    "XGB = XGBClassifier(\n",
    "        objective = 'reg:squarederror',\n",
    "        colsample_bytree = 0.5,\n",
    "        learning_rate = 0.05,\n",
    "        max_depth = 6,\n",
    "        min_child_weight = 1,\n",
    "        n_estimators = 1000,\n",
    "        subsample = 0.7)\n",
    "\n",
    "XGB.fit(X_train, y_train, early_stopping_rounds=5, eval_set=[(X_test, y_test)], verbose=False)"
   ]
  },
  {
   "cell_type": "code",
   "execution_count": 95,
   "metadata": {
    "id": "MMdRULCpGnkc"
   },
   "outputs": [],
   "source": [
    "y_preds = XGB.predict(X_test)"
   ]
  },
  {
   "cell_type": "markdown",
   "metadata": {
    "id": "Hq_0Dbz6SGc4"
   },
   "source": [
    "##### Confusion matrix"
   ]
  },
  {
   "cell_type": "code",
   "execution_count": 96,
   "metadata": {
    "colab": {
     "base_uri": "https://localhost:8080/"
    },
    "id": "IJxIhwXTGnik",
    "outputId": "eac4d2d4-c17b-4a45-81bc-46577a1e8fba"
   },
   "outputs": [
    {
     "name": "stdout",
     "output_type": "stream",
     "text": [
      "[[744  20   0   2]\n",
      " [ 31  86   0   2]\n",
      " [  0   0 792   0]\n",
      " [  1   1   0 638]]\n"
     ]
    }
   ],
   "source": [
    "from sklearn.metrics import confusion_matrix\n",
    "confusion_matrix = confusion_matrix(y_test, y_preds)\n",
    "print(confusion_matrix)"
   ]
  },
  {
   "cell_type": "markdown",
   "metadata": {
    "id": "l0LohbdgSO-O"
   },
   "source": [
    "#### Classification report"
   ]
  },
  {
   "cell_type": "code",
   "execution_count": 97,
   "metadata": {
    "colab": {
     "base_uri": "https://localhost:8080/"
    },
    "id": "dqoLE_ZsGncR",
    "outputId": "f5fa2874-44f2-4cc5-a2b4-15eaab65233f"
   },
   "outputs": [
    {
     "name": "stdout",
     "output_type": "stream",
     "text": [
      "              precision    recall  f1-score   support\n",
      "\n",
      "           0       0.96      0.97      0.96       766\n",
      "           1       0.80      0.72      0.76       119\n",
      "           2       1.00      1.00      1.00       792\n",
      "           3       0.99      1.00      1.00       640\n",
      "\n",
      "    accuracy                           0.98      2317\n",
      "   macro avg       0.94      0.92      0.93      2317\n",
      "weighted avg       0.97      0.98      0.97      2317\n",
      "\n",
      "0.9753992231333621\n"
     ]
    }
   ],
   "source": [
    "from sklearn.metrics import classification_report\n",
    "print(classification_report(y_test,y_preds))\n",
    "print(accuracy_score(y_test, y_preds))"
   ]
  },
  {
   "cell_type": "raw",
   "metadata": {
    "id": "6B4ky7XjScOp"
   },
   "source": [
    "Conclusion\n",
    "Top performing classifier: Hypertuned XGboost"
   ]
  },
  {
   "cell_type": "code",
   "execution_count": null,
   "metadata": {},
   "outputs": [],
   "source": []
  }
 ],
 "metadata": {
  "colab": {
   "collapsed_sections": [],
   "name": "Solar Eclipse Classification",
   "provenance": []
  },
  "kernelspec": {
   "display_name": "Python 3 (ipykernel)",
   "language": "python",
   "name": "python3"
  },
  "language_info": {
   "codemirror_mode": {
    "name": "ipython",
    "version": 3
   },
   "file_extension": ".py",
   "mimetype": "text/x-python",
   "name": "python",
   "nbconvert_exporter": "python",
   "pygments_lexer": "ipython3",
   "version": "3.9.13"
  }
 },
 "nbformat": 4,
 "nbformat_minor": 1
}
