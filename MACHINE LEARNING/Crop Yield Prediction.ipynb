{
 "cells": [
  {
   "cell_type": "code",
   "execution_count": 1,
   "id": "d7e84034",
   "metadata": {},
   "outputs": [],
   "source": [
    "# importing libraries\n",
    "\n",
    "import pandas as pd\n",
    "import numpy as np\n",
    "import category_encoders as ce\n",
    "from sklearn.model_selection import train_test_split\n",
    "\n",
    "\n",
    "from sklearn.ensemble import RandomForestRegressor\n",
    "from sklearn.tree import DecisionTreeRegressor\n",
    "from sklearn.metrics import mean_squared_error,mean_absolute_error,r2_score\n",
    "\n",
    "import matplotlib.pyplot as plt\n",
    "import seaborn as sns"
   ]
  },
  {
   "cell_type": "code",
   "execution_count": 2,
   "id": "64c417ba",
   "metadata": {},
   "outputs": [
    {
     "data": {
      "text/html": [
       "<div>\n",
       "<style scoped>\n",
       "    .dataframe tbody tr th:only-of-type {\n",
       "        vertical-align: middle;\n",
       "    }\n",
       "\n",
       "    .dataframe tbody tr th {\n",
       "        vertical-align: top;\n",
       "    }\n",
       "\n",
       "    .dataframe thead th {\n",
       "        text-align: right;\n",
       "    }\n",
       "</style>\n",
       "<table border=\"1\" class=\"dataframe\">\n",
       "  <thead>\n",
       "    <tr style=\"text-align: right;\">\n",
       "      <th></th>\n",
       "      <th>Program</th>\n",
       "      <th>Year</th>\n",
       "      <th>Period</th>\n",
       "      <th>Week Ending</th>\n",
       "      <th>Geo Level</th>\n",
       "      <th>State</th>\n",
       "      <th>State ANSI</th>\n",
       "      <th>Ag District</th>\n",
       "      <th>Ag District Code</th>\n",
       "      <th>County</th>\n",
       "      <th>...</th>\n",
       "      <th>Zip Code</th>\n",
       "      <th>Region</th>\n",
       "      <th>watershed_code</th>\n",
       "      <th>Watershed</th>\n",
       "      <th>Commodity</th>\n",
       "      <th>Data Item</th>\n",
       "      <th>Domain</th>\n",
       "      <th>Domain Category</th>\n",
       "      <th>Value</th>\n",
       "      <th>CV (%)</th>\n",
       "    </tr>\n",
       "  </thead>\n",
       "  <tbody>\n",
       "    <tr>\n",
       "      <th>0</th>\n",
       "      <td>SURVEY</td>\n",
       "      <td>2015</td>\n",
       "      <td>YEAR</td>\n",
       "      <td>NaN</td>\n",
       "      <td>STATE</td>\n",
       "      <td>ALABAMA</td>\n",
       "      <td>1.0</td>\n",
       "      <td>NaN</td>\n",
       "      <td>NaN</td>\n",
       "      <td>NaN</td>\n",
       "      <td>...</td>\n",
       "      <td>NaN</td>\n",
       "      <td>NaN</td>\n",
       "      <td>0</td>\n",
       "      <td>NaN</td>\n",
       "      <td>CORN</td>\n",
       "      <td>CORN, GRAIN - ACRES HARVESTED</td>\n",
       "      <td>TOTAL</td>\n",
       "      <td>NOT SPECIFIED</td>\n",
       "      <td>245,000</td>\n",
       "      <td>NaN</td>\n",
       "    </tr>\n",
       "    <tr>\n",
       "      <th>1</th>\n",
       "      <td>SURVEY</td>\n",
       "      <td>2015</td>\n",
       "      <td>YEAR</td>\n",
       "      <td>NaN</td>\n",
       "      <td>STATE</td>\n",
       "      <td>ALABAMA</td>\n",
       "      <td>1.0</td>\n",
       "      <td>NaN</td>\n",
       "      <td>NaN</td>\n",
       "      <td>NaN</td>\n",
       "      <td>...</td>\n",
       "      <td>NaN</td>\n",
       "      <td>NaN</td>\n",
       "      <td>0</td>\n",
       "      <td>NaN</td>\n",
       "      <td>CORN</td>\n",
       "      <td>CORN, GRAIN - PRODUCTION, MEASURED IN BU</td>\n",
       "      <td>TOTAL</td>\n",
       "      <td>NOT SPECIFIED</td>\n",
       "      <td>36,015,000</td>\n",
       "      <td>NaN</td>\n",
       "    </tr>\n",
       "    <tr>\n",
       "      <th>2</th>\n",
       "      <td>SURVEY</td>\n",
       "      <td>2015</td>\n",
       "      <td>YEAR</td>\n",
       "      <td>NaN</td>\n",
       "      <td>STATE</td>\n",
       "      <td>ALABAMA</td>\n",
       "      <td>1.0</td>\n",
       "      <td>NaN</td>\n",
       "      <td>NaN</td>\n",
       "      <td>NaN</td>\n",
       "      <td>...</td>\n",
       "      <td>NaN</td>\n",
       "      <td>NaN</td>\n",
       "      <td>0</td>\n",
       "      <td>NaN</td>\n",
       "      <td>CORN</td>\n",
       "      <td>CORN, SILAGE - ACRES HARVESTED</td>\n",
       "      <td>TOTAL</td>\n",
       "      <td>NOT SPECIFIED</td>\n",
       "      <td>9,000</td>\n",
       "      <td>NaN</td>\n",
       "    </tr>\n",
       "    <tr>\n",
       "      <th>3</th>\n",
       "      <td>SURVEY</td>\n",
       "      <td>2015</td>\n",
       "      <td>YEAR</td>\n",
       "      <td>NaN</td>\n",
       "      <td>STATE</td>\n",
       "      <td>ALABAMA</td>\n",
       "      <td>1.0</td>\n",
       "      <td>NaN</td>\n",
       "      <td>NaN</td>\n",
       "      <td>NaN</td>\n",
       "      <td>...</td>\n",
       "      <td>NaN</td>\n",
       "      <td>NaN</td>\n",
       "      <td>0</td>\n",
       "      <td>NaN</td>\n",
       "      <td>CORN</td>\n",
       "      <td>CORN, SILAGE - YIELD, MEASURED IN TONS / ACRE</td>\n",
       "      <td>TOTAL</td>\n",
       "      <td>NOT SPECIFIED</td>\n",
       "      <td>15</td>\n",
       "      <td>NaN</td>\n",
       "    </tr>\n",
       "    <tr>\n",
       "      <th>4</th>\n",
       "      <td>SURVEY</td>\n",
       "      <td>2015</td>\n",
       "      <td>YEAR</td>\n",
       "      <td>NaN</td>\n",
       "      <td>STATE</td>\n",
       "      <td>ARIZONA</td>\n",
       "      <td>4.0</td>\n",
       "      <td>NaN</td>\n",
       "      <td>NaN</td>\n",
       "      <td>NaN</td>\n",
       "      <td>...</td>\n",
       "      <td>NaN</td>\n",
       "      <td>NaN</td>\n",
       "      <td>0</td>\n",
       "      <td>NaN</td>\n",
       "      <td>CORN</td>\n",
       "      <td>CORN, GRAIN - ACRES HARVESTED</td>\n",
       "      <td>TOTAL</td>\n",
       "      <td>NOT SPECIFIED</td>\n",
       "      <td>34,000</td>\n",
       "      <td>NaN</td>\n",
       "    </tr>\n",
       "  </tbody>\n",
       "</table>\n",
       "<p>5 rows × 21 columns</p>\n",
       "</div>"
      ],
      "text/plain": [
       "  Program  Year Period  Week Ending Geo Level    State  State ANSI  \\\n",
       "0  SURVEY  2015   YEAR          NaN     STATE  ALABAMA         1.0   \n",
       "1  SURVEY  2015   YEAR          NaN     STATE  ALABAMA         1.0   \n",
       "2  SURVEY  2015   YEAR          NaN     STATE  ALABAMA         1.0   \n",
       "3  SURVEY  2015   YEAR          NaN     STATE  ALABAMA         1.0   \n",
       "4  SURVEY  2015   YEAR          NaN     STATE  ARIZONA         4.0   \n",
       "\n",
       "   Ag District  Ag District Code  County  ...  Zip Code  Region  \\\n",
       "0          NaN               NaN     NaN  ...       NaN     NaN   \n",
       "1          NaN               NaN     NaN  ...       NaN     NaN   \n",
       "2          NaN               NaN     NaN  ...       NaN     NaN   \n",
       "3          NaN               NaN     NaN  ...       NaN     NaN   \n",
       "4          NaN               NaN     NaN  ...       NaN     NaN   \n",
       "\n",
       "   watershed_code  Watershed  Commodity  \\\n",
       "0               0        NaN       CORN   \n",
       "1               0        NaN       CORN   \n",
       "2               0        NaN       CORN   \n",
       "3               0        NaN       CORN   \n",
       "4               0        NaN       CORN   \n",
       "\n",
       "                                       Data Item Domain Domain Category  \\\n",
       "0                  CORN, GRAIN - ACRES HARVESTED  TOTAL   NOT SPECIFIED   \n",
       "1       CORN, GRAIN - PRODUCTION, MEASURED IN BU  TOTAL   NOT SPECIFIED   \n",
       "2                 CORN, SILAGE - ACRES HARVESTED  TOTAL   NOT SPECIFIED   \n",
       "3  CORN, SILAGE - YIELD, MEASURED IN TONS / ACRE  TOTAL   NOT SPECIFIED   \n",
       "4                  CORN, GRAIN - ACRES HARVESTED  TOTAL   NOT SPECIFIED   \n",
       "\n",
       "        Value CV (%)  \n",
       "0     245,000    NaN  \n",
       "1  36,015,000    NaN  \n",
       "2       9,000    NaN  \n",
       "3          15    NaN  \n",
       "4      34,000    NaN  \n",
       "\n",
       "[5 rows x 21 columns]"
      ]
     },
     "execution_count": 2,
     "metadata": {},
     "output_type": "execute_result"
    }
   ],
   "source": [
    "df = pd.read_csv('../DataSets/corn-yield.csv')\n",
    "df.head()"
   ]
  },
  {
   "cell_type": "code",
   "execution_count": 3,
   "id": "29468744",
   "metadata": {},
   "outputs": [
    {
     "data": {
      "text/plain": [
       "Index(['Program', 'Year', 'Period', 'Week Ending', 'Geo Level', 'State',\n",
       "       'State ANSI', 'Ag District', 'Ag District Code', 'County',\n",
       "       'County ANSI', 'Zip Code', 'Region', 'watershed_code', 'Watershed',\n",
       "       'Commodity', 'Data Item', 'Domain', 'Domain Category', 'Value',\n",
       "       'CV (%)'],\n",
       "      dtype='object')"
      ]
     },
     "execution_count": 3,
     "metadata": {},
     "output_type": "execute_result"
    }
   ],
   "source": [
    "df.columns"
   ]
  },
  {
   "cell_type": "code",
   "execution_count": null,
   "id": "2ea6ffac",
   "metadata": {},
   "outputs": [],
   "source": []
  },
  {
   "cell_type": "markdown",
   "id": "23057847",
   "metadata": {},
   "source": [
    "### Data inspection\n"
   ]
  },
  {
   "cell_type": "code",
   "execution_count": 4,
   "id": "ad125c98",
   "metadata": {},
   "outputs": [
    {
     "data": {
      "text/html": [
       "<div>\n",
       "<style scoped>\n",
       "    .dataframe tbody tr th:only-of-type {\n",
       "        vertical-align: middle;\n",
       "    }\n",
       "\n",
       "    .dataframe tbody tr th {\n",
       "        vertical-align: top;\n",
       "    }\n",
       "\n",
       "    .dataframe thead th {\n",
       "        text-align: right;\n",
       "    }\n",
       "</style>\n",
       "<table border=\"1\" class=\"dataframe\">\n",
       "  <thead>\n",
       "    <tr style=\"text-align: right;\">\n",
       "      <th></th>\n",
       "      <th>Year</th>\n",
       "      <th>Week Ending</th>\n",
       "      <th>State ANSI</th>\n",
       "      <th>Ag District</th>\n",
       "      <th>Ag District Code</th>\n",
       "      <th>County</th>\n",
       "      <th>County ANSI</th>\n",
       "      <th>Zip Code</th>\n",
       "      <th>Region</th>\n",
       "      <th>watershed_code</th>\n",
       "      <th>Watershed</th>\n",
       "      <th>CV (%)</th>\n",
       "    </tr>\n",
       "  </thead>\n",
       "  <tbody>\n",
       "    <tr>\n",
       "      <th>count</th>\n",
       "      <td>23474.000000</td>\n",
       "      <td>0.0</td>\n",
       "      <td>23440.000000</td>\n",
       "      <td>0.0</td>\n",
       "      <td>0.0</td>\n",
       "      <td>0.0</td>\n",
       "      <td>0.0</td>\n",
       "      <td>0.0</td>\n",
       "      <td>0.0</td>\n",
       "      <td>23474.0</td>\n",
       "      <td>0.0</td>\n",
       "      <td>0.0</td>\n",
       "    </tr>\n",
       "    <tr>\n",
       "      <th>mean</th>\n",
       "      <td>1954.280907</td>\n",
       "      <td>NaN</td>\n",
       "      <td>30.023379</td>\n",
       "      <td>NaN</td>\n",
       "      <td>NaN</td>\n",
       "      <td>NaN</td>\n",
       "      <td>NaN</td>\n",
       "      <td>NaN</td>\n",
       "      <td>NaN</td>\n",
       "      <td>0.0</td>\n",
       "      <td>NaN</td>\n",
       "      <td>NaN</td>\n",
       "    </tr>\n",
       "    <tr>\n",
       "      <th>std</th>\n",
       "      <td>40.371092</td>\n",
       "      <td>NaN</td>\n",
       "      <td>15.388973</td>\n",
       "      <td>NaN</td>\n",
       "      <td>NaN</td>\n",
       "      <td>NaN</td>\n",
       "      <td>NaN</td>\n",
       "      <td>NaN</td>\n",
       "      <td>NaN</td>\n",
       "      <td>0.0</td>\n",
       "      <td>NaN</td>\n",
       "      <td>NaN</td>\n",
       "    </tr>\n",
       "    <tr>\n",
       "      <th>min</th>\n",
       "      <td>1866.000000</td>\n",
       "      <td>NaN</td>\n",
       "      <td>1.000000</td>\n",
       "      <td>NaN</td>\n",
       "      <td>NaN</td>\n",
       "      <td>NaN</td>\n",
       "      <td>NaN</td>\n",
       "      <td>NaN</td>\n",
       "      <td>NaN</td>\n",
       "      <td>0.0</td>\n",
       "      <td>NaN</td>\n",
       "      <td>NaN</td>\n",
       "    </tr>\n",
       "    <tr>\n",
       "      <th>25%</th>\n",
       "      <td>1925.000000</td>\n",
       "      <td>NaN</td>\n",
       "      <td>18.000000</td>\n",
       "      <td>NaN</td>\n",
       "      <td>NaN</td>\n",
       "      <td>NaN</td>\n",
       "      <td>NaN</td>\n",
       "      <td>NaN</td>\n",
       "      <td>NaN</td>\n",
       "      <td>0.0</td>\n",
       "      <td>NaN</td>\n",
       "      <td>NaN</td>\n",
       "    </tr>\n",
       "    <tr>\n",
       "      <th>50%</th>\n",
       "      <td>1956.000000</td>\n",
       "      <td>NaN</td>\n",
       "      <td>30.000000</td>\n",
       "      <td>NaN</td>\n",
       "      <td>NaN</td>\n",
       "      <td>NaN</td>\n",
       "      <td>NaN</td>\n",
       "      <td>NaN</td>\n",
       "      <td>NaN</td>\n",
       "      <td>0.0</td>\n",
       "      <td>NaN</td>\n",
       "      <td>NaN</td>\n",
       "    </tr>\n",
       "    <tr>\n",
       "      <th>75%</th>\n",
       "      <td>1989.000000</td>\n",
       "      <td>NaN</td>\n",
       "      <td>42.000000</td>\n",
       "      <td>NaN</td>\n",
       "      <td>NaN</td>\n",
       "      <td>NaN</td>\n",
       "      <td>NaN</td>\n",
       "      <td>NaN</td>\n",
       "      <td>NaN</td>\n",
       "      <td>0.0</td>\n",
       "      <td>NaN</td>\n",
       "      <td>NaN</td>\n",
       "    </tr>\n",
       "    <tr>\n",
       "      <th>max</th>\n",
       "      <td>2015.000000</td>\n",
       "      <td>NaN</td>\n",
       "      <td>56.000000</td>\n",
       "      <td>NaN</td>\n",
       "      <td>NaN</td>\n",
       "      <td>NaN</td>\n",
       "      <td>NaN</td>\n",
       "      <td>NaN</td>\n",
       "      <td>NaN</td>\n",
       "      <td>0.0</td>\n",
       "      <td>NaN</td>\n",
       "      <td>NaN</td>\n",
       "    </tr>\n",
       "  </tbody>\n",
       "</table>\n",
       "</div>"
      ],
      "text/plain": [
       "               Year  Week Ending    State ANSI  Ag District  Ag District Code  \\\n",
       "count  23474.000000          0.0  23440.000000          0.0               0.0   \n",
       "mean    1954.280907          NaN     30.023379          NaN               NaN   \n",
       "std       40.371092          NaN     15.388973          NaN               NaN   \n",
       "min     1866.000000          NaN      1.000000          NaN               NaN   \n",
       "25%     1925.000000          NaN     18.000000          NaN               NaN   \n",
       "50%     1956.000000          NaN     30.000000          NaN               NaN   \n",
       "75%     1989.000000          NaN     42.000000          NaN               NaN   \n",
       "max     2015.000000          NaN     56.000000          NaN               NaN   \n",
       "\n",
       "       County  County ANSI  Zip Code  Region  watershed_code  Watershed  \\\n",
       "count     0.0          0.0       0.0     0.0         23474.0        0.0   \n",
       "mean      NaN          NaN       NaN     NaN             0.0        NaN   \n",
       "std       NaN          NaN       NaN     NaN             0.0        NaN   \n",
       "min       NaN          NaN       NaN     NaN             0.0        NaN   \n",
       "25%       NaN          NaN       NaN     NaN             0.0        NaN   \n",
       "50%       NaN          NaN       NaN     NaN             0.0        NaN   \n",
       "75%       NaN          NaN       NaN     NaN             0.0        NaN   \n",
       "max       NaN          NaN       NaN     NaN             0.0        NaN   \n",
       "\n",
       "       CV (%)  \n",
       "count     0.0  \n",
       "mean      NaN  \n",
       "std       NaN  \n",
       "min       NaN  \n",
       "25%       NaN  \n",
       "50%       NaN  \n",
       "75%       NaN  \n",
       "max       NaN  "
      ]
     },
     "execution_count": 4,
     "metadata": {},
     "output_type": "execute_result"
    }
   ],
   "source": [
    "df.describe()"
   ]
  },
  {
   "cell_type": "code",
   "execution_count": 5,
   "id": "991e6bd0",
   "metadata": {},
   "outputs": [
    {
     "name": "stdout",
     "output_type": "stream",
     "text": [
      "<class 'pandas.core.frame.DataFrame'>\n",
      "RangeIndex: 23474 entries, 0 to 23473\n",
      "Data columns (total 21 columns):\n",
      " #   Column            Non-Null Count  Dtype  \n",
      "---  ------            --------------  -----  \n",
      " 0   Program           23474 non-null  object \n",
      " 1   Year              23474 non-null  int64  \n",
      " 2   Period            23474 non-null  object \n",
      " 3   Week Ending       0 non-null      float64\n",
      " 4   Geo Level         23474 non-null  object \n",
      " 5   State             23474 non-null  object \n",
      " 6   State ANSI        23440 non-null  float64\n",
      " 7   Ag District       0 non-null      float64\n",
      " 8   Ag District Code  0 non-null      float64\n",
      " 9   County            0 non-null      float64\n",
      " 10  County ANSI       0 non-null      float64\n",
      " 11  Zip Code          0 non-null      float64\n",
      " 12  Region            0 non-null      float64\n",
      " 13  watershed_code    23474 non-null  int64  \n",
      " 14  Watershed         0 non-null      float64\n",
      " 15  Commodity         23474 non-null  object \n",
      " 16  Data Item         23474 non-null  object \n",
      " 17  Domain            23474 non-null  object \n",
      " 18  Domain Category   23474 non-null  object \n",
      " 19  Value             23474 non-null  object \n",
      " 20  CV (%)            0 non-null      float64\n",
      "dtypes: float64(10), int64(2), object(9)\n",
      "memory usage: 3.8+ MB\n"
     ]
    }
   ],
   "source": [
    "df.info()"
   ]
  },
  {
   "cell_type": "code",
   "execution_count": 6,
   "id": "bda9dfc2",
   "metadata": {},
   "outputs": [
    {
     "name": "stdout",
     "output_type": "stream",
     "text": [
      "SURVEY    23474\n",
      "Name: Program, dtype: int64\n",
      "2015    496\n",
      "2012    483\n",
      "2014    483\n",
      "2013    376\n",
      "1935    192\n",
      "       ... \n",
      "1877     72\n",
      "1878     72\n",
      "1868     70\n",
      "1867     70\n",
      "1866     70\n",
      "Name: Year, Length: 150, dtype: int64\n",
      "YEAR                   22352\n",
      "YEAR - AUG FORECAST      264\n",
      "YEAR - NOV FORECAST      264\n",
      "YEAR - SEP FORECAST      264\n",
      "YEAR - OCT FORECAST      207\n",
      "YEAR - JUN FORECAST      123\n",
      "Name: Period, dtype: int64\n",
      "Series([], Name: Week Ending, dtype: int64)\n",
      "STATE    23474\n",
      "Name: Geo Level, dtype: int64\n",
      "ALABAMA           527\n",
      "MARYLAND          527\n",
      "WISCONSIN         527\n",
      "VIRGINIA          527\n",
      "TEXAS             527\n",
      "TENNESSEE         527\n",
      "SOUTH CAROLINA    527\n",
      "PENNSYLVANIA      527\n",
      "OHIO              527\n",
      "NORTH CAROLINA    527\n",
      "NEW YORK          527\n",
      "NEW JERSEY        527\n",
      "MISSOURI          527\n",
      "MISSISSIPPI       527\n",
      "MINNESOTA         527\n",
      "MICHIGAN          527\n",
      "NEBRASKA          527\n",
      "INDIANA           527\n",
      "LOUISIANA         527\n",
      "KENTUCKY          527\n",
      "KANSAS            527\n",
      "IOWA              527\n",
      "ARKANSAS          527\n",
      "DELAWARE          527\n",
      "GEORGIA           527\n",
      "ILLINOIS          527\n",
      "CALIFORNIA        527\n",
      "COLORADO          501\n",
      "FLORIDA           498\n",
      "WEST VIRGINIA     498\n",
      "NORTH DAKOTA      495\n",
      "SOUTH DAKOTA      495\n",
      "WASHINGTON        495\n",
      "OREGON            492\n",
      "NEW MEXICO        466\n",
      "UTAH              466\n",
      "ARIZONA           466\n",
      "OKLAHOMA          461\n",
      "WYOMING           452\n",
      "IDAHO             446\n",
      "MONTANA           446\n",
      "CONNECTICUT       396\n",
      "MASSACHUSETTS     396\n",
      "VERMONT           396\n",
      "RHODE ISLAND      374\n",
      "NEW HAMPSHIRE     374\n",
      "MAINE             374\n",
      "NEVADA            224\n",
      "OTHER STATES       34\n",
      "Name: State, dtype: int64\n",
      "1.0     527\n",
      "24.0    527\n",
      "55.0    527\n",
      "51.0    527\n",
      "48.0    527\n",
      "47.0    527\n",
      "45.0    527\n",
      "42.0    527\n",
      "39.0    527\n",
      "37.0    527\n",
      "36.0    527\n",
      "34.0    527\n",
      "29.0    527\n",
      "28.0    527\n",
      "27.0    527\n",
      "26.0    527\n",
      "31.0    527\n",
      "13.0    527\n",
      "19.0    527\n",
      "6.0     527\n",
      "17.0    527\n",
      "5.0     527\n",
      "18.0    527\n",
      "20.0    527\n",
      "21.0    527\n",
      "22.0    527\n",
      "10.0    527\n",
      "8.0     501\n",
      "54.0    498\n",
      "12.0    498\n",
      "53.0    495\n",
      "46.0    495\n",
      "38.0    495\n",
      "41.0    492\n",
      "4.0     466\n",
      "35.0    466\n",
      "49.0    466\n",
      "40.0    461\n",
      "56.0    452\n",
      "16.0    446\n",
      "30.0    446\n",
      "9.0     396\n",
      "25.0    396\n",
      "50.0    396\n",
      "44.0    374\n",
      "33.0    374\n",
      "23.0    374\n",
      "32.0    224\n",
      "Name: State ANSI, dtype: int64\n",
      "Series([], Name: Ag District, dtype: int64)\n",
      "Series([], Name: Ag District Code, dtype: int64)\n",
      "Series([], Name: County, dtype: int64)\n",
      "Series([], Name: County ANSI, dtype: int64)\n",
      "Series([], Name: Zip Code, dtype: int64)\n",
      "Series([], Name: Region, dtype: int64)\n",
      "0    23474\n",
      "Name: watershed_code, dtype: int64\n",
      "Series([], Name: Watershed, dtype: int64)\n",
      "CORN    23474\n",
      "Name: Commodity, dtype: int64\n",
      "CORN, GRAIN - ACRES HARVESTED                    7173\n",
      "CORN, GRAIN - PRODUCTION, MEASURED IN BU         7041\n",
      "CORN, SILAGE - ACRES HARVESTED                   4630\n",
      "CORN, SILAGE - YIELD, MEASURED IN TONS / ACRE    4630\n",
      "Name: Data Item, dtype: int64\n",
      "TOTAL    23474\n",
      "Name: Domain, dtype: int64\n",
      "NOT SPECIFIED    23474\n",
      "Name: Domain Category, dtype: int64\n",
      "3,000         228\n",
      "10            206\n",
      "15            194\n",
      "2,000         179\n",
      "10,000        172\n",
      "             ... \n",
      "1,533,000       1\n",
      "3,763,000       1\n",
      "30,752,000      1\n",
      "496,000         1\n",
      "14,250,000      1\n",
      "Name: Value, Length: 7145, dtype: int64\n",
      "Series([], Name: CV (%), dtype: int64)\n"
     ]
    }
   ],
   "source": [
    "for i in df.columns:\n",
    "    print(df[i].value_counts())\n",
    "    "
   ]
  },
  {
   "cell_type": "markdown",
   "id": "e95b3942",
   "metadata": {},
   "source": [
    "## Data preprocessing"
   ]
  },
  {
   "cell_type": "code",
   "execution_count": 7,
   "id": "c62a2443",
   "metadata": {},
   "outputs": [],
   "source": [
    "cols_to_be_removed = [\"Program\",\"Week Ending\",\"Ag District\",\"Ag District Code\",\"County\",\"County ANSI\",\"Zip Code\",\"Region\",\"Watershed\",\"CV (%)\",\"Domain Category\",\"Commodity\",\"Geo Level\",\"watershed_code\",\"Domain\"]\n",
    "df.drop(columns=cols_to_be_removed,axis = 1,inplace=True)\n"
   ]
  },
  {
   "cell_type": "code",
   "execution_count": 8,
   "id": "930011d4",
   "metadata": {},
   "outputs": [
    {
     "data": {
      "text/plain": [
       "Year           0\n",
       "Period         0\n",
       "State          0\n",
       "State ANSI    34\n",
       "Data Item      0\n",
       "Value          0\n",
       "dtype: int64"
      ]
     },
     "execution_count": 8,
     "metadata": {},
     "output_type": "execute_result"
    }
   ],
   "source": [
    "# Check null values\n",
    "df.isna().sum()"
   ]
  },
  {
   "cell_type": "code",
   "execution_count": 9,
   "id": "1ba278e1",
   "metadata": {},
   "outputs": [
    {
     "data": {
      "text/plain": [
       "Year          0\n",
       "Period        0\n",
       "State         0\n",
       "State ANSI    0\n",
       "Data Item     0\n",
       "Value         0\n",
       "dtype: int64"
      ]
     },
     "execution_count": 9,
     "metadata": {},
     "output_type": "execute_result"
    }
   ],
   "source": [
    "# Filling missing values\n",
    "df[\"State ANSI\"].fillna(0,inplace=True)\n",
    "\n",
    "# Re-Check null values\n",
    "df.isnull().sum()"
   ]
  },
  {
   "cell_type": "code",
   "execution_count": 10,
   "id": "447bd1bd",
   "metadata": {},
   "outputs": [
    {
     "data": {
      "text/plain": [
       "Index(['Year', 'Period', 'State', 'State ANSI', 'Data Item', 'Value'], dtype='object')"
      ]
     },
     "execution_count": 10,
     "metadata": {},
     "output_type": "execute_result"
    }
   ],
   "source": [
    "df.columns"
   ]
  },
  {
   "cell_type": "code",
   "execution_count": 11,
   "id": "fe4cc0dd",
   "metadata": {},
   "outputs": [
    {
     "name": "stdout",
     "output_type": "stream",
     "text": [
      "<class 'pandas.core.frame.DataFrame'>\n",
      "RangeIndex: 23474 entries, 0 to 23473\n",
      "Data columns (total 6 columns):\n",
      " #   Column      Non-Null Count  Dtype  \n",
      "---  ------      --------------  -----  \n",
      " 0   Year        23474 non-null  int64  \n",
      " 1   Period      23474 non-null  object \n",
      " 2   State       23474 non-null  object \n",
      " 3   State ANSI  23474 non-null  float64\n",
      " 4   Data Item   23474 non-null  object \n",
      " 5   Value       23474 non-null  object \n",
      "dtypes: float64(1), int64(1), object(4)\n",
      "memory usage: 1.1+ MB\n"
     ]
    }
   ],
   "source": [
    "df.info()"
   ]
  },
  {
   "cell_type": "code",
   "execution_count": 12,
   "id": "2e75c000",
   "metadata": {},
   "outputs": [
    {
     "data": {
      "text/plain": [
       "3,000         228\n",
       "10            206\n",
       "15            194\n",
       "2,000         179\n",
       "10,000        172\n",
       "             ... \n",
       "1,533,000       1\n",
       "3,763,000       1\n",
       "30,752,000      1\n",
       "496,000         1\n",
       "14,250,000      1\n",
       "Name: Value, Length: 7145, dtype: int64"
      ]
     },
     "execution_count": 12,
     "metadata": {},
     "output_type": "execute_result"
    }
   ],
   "source": [
    "df['Value'].value_counts()"
   ]
  },
  {
   "cell_type": "code",
   "execution_count": 13,
   "id": "b46c2e1e",
   "metadata": {},
   "outputs": [],
   "source": [
    "df[\"Value\"] = df[\"Value\"].str.replace(',','')\n",
    "df['Value'].value_counts()\n",
    "df[\"Value\"] = df[\"Value\"].astype(\"float\")"
   ]
  },
  {
   "cell_type": "code",
   "execution_count": 14,
   "id": "e7804b15",
   "metadata": {},
   "outputs": [],
   "source": [
    "df[\"State ANSI\"] = df[\"State ANSI\"].astype(\"int\")\n"
   ]
  },
  {
   "cell_type": "code",
   "execution_count": 15,
   "id": "74b58b68",
   "metadata": {},
   "outputs": [
    {
     "data": {
      "text/html": [
       "<div>\n",
       "<style scoped>\n",
       "    .dataframe tbody tr th:only-of-type {\n",
       "        vertical-align: middle;\n",
       "    }\n",
       "\n",
       "    .dataframe tbody tr th {\n",
       "        vertical-align: top;\n",
       "    }\n",
       "\n",
       "    .dataframe thead th {\n",
       "        text-align: right;\n",
       "    }\n",
       "</style>\n",
       "<table border=\"1\" class=\"dataframe\">\n",
       "  <thead>\n",
       "    <tr style=\"text-align: right;\">\n",
       "      <th></th>\n",
       "      <th>Year</th>\n",
       "      <th>Period</th>\n",
       "      <th>State</th>\n",
       "      <th>State ANSI</th>\n",
       "      <th>Data Item</th>\n",
       "      <th>Value</th>\n",
       "    </tr>\n",
       "  </thead>\n",
       "  <tbody>\n",
       "    <tr>\n",
       "      <th>0</th>\n",
       "      <td>2015</td>\n",
       "      <td>YEAR</td>\n",
       "      <td>ALABAMA</td>\n",
       "      <td>1</td>\n",
       "      <td>CORN, GRAIN - ACRES HARVESTED</td>\n",
       "      <td>245000.0</td>\n",
       "    </tr>\n",
       "    <tr>\n",
       "      <th>1</th>\n",
       "      <td>2015</td>\n",
       "      <td>YEAR</td>\n",
       "      <td>ALABAMA</td>\n",
       "      <td>1</td>\n",
       "      <td>CORN, GRAIN - PRODUCTION, MEASURED IN BU</td>\n",
       "      <td>36015000.0</td>\n",
       "    </tr>\n",
       "    <tr>\n",
       "      <th>2</th>\n",
       "      <td>2015</td>\n",
       "      <td>YEAR</td>\n",
       "      <td>ALABAMA</td>\n",
       "      <td>1</td>\n",
       "      <td>CORN, SILAGE - ACRES HARVESTED</td>\n",
       "      <td>9000.0</td>\n",
       "    </tr>\n",
       "    <tr>\n",
       "      <th>3</th>\n",
       "      <td>2015</td>\n",
       "      <td>YEAR</td>\n",
       "      <td>ALABAMA</td>\n",
       "      <td>1</td>\n",
       "      <td>CORN, SILAGE - YIELD, MEASURED IN TONS / ACRE</td>\n",
       "      <td>15.0</td>\n",
       "    </tr>\n",
       "    <tr>\n",
       "      <th>4</th>\n",
       "      <td>2015</td>\n",
       "      <td>YEAR</td>\n",
       "      <td>ARIZONA</td>\n",
       "      <td>4</td>\n",
       "      <td>CORN, GRAIN - ACRES HARVESTED</td>\n",
       "      <td>34000.0</td>\n",
       "    </tr>\n",
       "  </tbody>\n",
       "</table>\n",
       "</div>"
      ],
      "text/plain": [
       "   Year Period    State  State ANSI  \\\n",
       "0  2015   YEAR  ALABAMA           1   \n",
       "1  2015   YEAR  ALABAMA           1   \n",
       "2  2015   YEAR  ALABAMA           1   \n",
       "3  2015   YEAR  ALABAMA           1   \n",
       "4  2015   YEAR  ARIZONA           4   \n",
       "\n",
       "                                       Data Item       Value  \n",
       "0                  CORN, GRAIN - ACRES HARVESTED    245000.0  \n",
       "1       CORN, GRAIN - PRODUCTION, MEASURED IN BU  36015000.0  \n",
       "2                 CORN, SILAGE - ACRES HARVESTED      9000.0  \n",
       "3  CORN, SILAGE - YIELD, MEASURED IN TONS / ACRE        15.0  \n",
       "4                  CORN, GRAIN - ACRES HARVESTED     34000.0  "
      ]
     },
     "execution_count": 15,
     "metadata": {},
     "output_type": "execute_result"
    }
   ],
   "source": [
    "df.head()"
   ]
  },
  {
   "cell_type": "code",
   "execution_count": 16,
   "id": "4e7ea2d9",
   "metadata": {},
   "outputs": [],
   "source": [
    "#Covert the data in appropriate data\n",
    "def one_hot_encoding(df,column):\n",
    "    one_hot_encoder=ce.OneHotEncoder(cols=column,return_df=True,use_cat_names=True)\n",
    "    df_final = one_hot_encoder.fit_transform(df)\n",
    "    return df_final"
   ]
  },
  {
   "cell_type": "code",
   "execution_count": 17,
   "id": "a35cdd47",
   "metadata": {},
   "outputs": [],
   "source": [
    "df = one_hot_encoding(df,\"Period\")\n",
    "df = one_hot_encoding(df,\"Data Item\")\n",
    "df = one_hot_encoding(df,\"State\")"
   ]
  },
  {
   "cell_type": "code",
   "execution_count": 18,
   "id": "e97184b8",
   "metadata": {},
   "outputs": [
    {
     "data": {
      "text/html": [
       "<div>\n",
       "<style scoped>\n",
       "    .dataframe tbody tr th:only-of-type {\n",
       "        vertical-align: middle;\n",
       "    }\n",
       "\n",
       "    .dataframe tbody tr th {\n",
       "        vertical-align: top;\n",
       "    }\n",
       "\n",
       "    .dataframe thead th {\n",
       "        text-align: right;\n",
       "    }\n",
       "</style>\n",
       "<table border=\"1\" class=\"dataframe\">\n",
       "  <thead>\n",
       "    <tr style=\"text-align: right;\">\n",
       "      <th></th>\n",
       "      <th>Year</th>\n",
       "      <th>Period_YEAR</th>\n",
       "      <th>Period_YEAR - AUG FORECAST</th>\n",
       "      <th>Period_YEAR - JUN FORECAST</th>\n",
       "      <th>Period_YEAR - NOV FORECAST</th>\n",
       "      <th>Period_YEAR - OCT FORECAST</th>\n",
       "      <th>Period_YEAR - SEP FORECAST</th>\n",
       "      <th>State_ALABAMA</th>\n",
       "      <th>State_ARIZONA</th>\n",
       "      <th>State_ARKANSAS</th>\n",
       "      <th>...</th>\n",
       "      <th>State_WASHINGTON</th>\n",
       "      <th>State_WEST VIRGINIA</th>\n",
       "      <th>State_WISCONSIN</th>\n",
       "      <th>State_WYOMING</th>\n",
       "      <th>State ANSI</th>\n",
       "      <th>Data Item_CORN, GRAIN - ACRES HARVESTED</th>\n",
       "      <th>Data Item_CORN, GRAIN - PRODUCTION, MEASURED IN BU</th>\n",
       "      <th>Data Item_CORN, SILAGE - ACRES HARVESTED</th>\n",
       "      <th>Data Item_CORN, SILAGE - YIELD, MEASURED IN TONS / ACRE</th>\n",
       "      <th>Value</th>\n",
       "    </tr>\n",
       "  </thead>\n",
       "  <tbody>\n",
       "    <tr>\n",
       "      <th>0</th>\n",
       "      <td>2015</td>\n",
       "      <td>1</td>\n",
       "      <td>0</td>\n",
       "      <td>0</td>\n",
       "      <td>0</td>\n",
       "      <td>0</td>\n",
       "      <td>0</td>\n",
       "      <td>1</td>\n",
       "      <td>0</td>\n",
       "      <td>0</td>\n",
       "      <td>...</td>\n",
       "      <td>0</td>\n",
       "      <td>0</td>\n",
       "      <td>0</td>\n",
       "      <td>0</td>\n",
       "      <td>1</td>\n",
       "      <td>1</td>\n",
       "      <td>0</td>\n",
       "      <td>0</td>\n",
       "      <td>0</td>\n",
       "      <td>245000.0</td>\n",
       "    </tr>\n",
       "    <tr>\n",
       "      <th>1</th>\n",
       "      <td>2015</td>\n",
       "      <td>1</td>\n",
       "      <td>0</td>\n",
       "      <td>0</td>\n",
       "      <td>0</td>\n",
       "      <td>0</td>\n",
       "      <td>0</td>\n",
       "      <td>1</td>\n",
       "      <td>0</td>\n",
       "      <td>0</td>\n",
       "      <td>...</td>\n",
       "      <td>0</td>\n",
       "      <td>0</td>\n",
       "      <td>0</td>\n",
       "      <td>0</td>\n",
       "      <td>1</td>\n",
       "      <td>0</td>\n",
       "      <td>1</td>\n",
       "      <td>0</td>\n",
       "      <td>0</td>\n",
       "      <td>36015000.0</td>\n",
       "    </tr>\n",
       "    <tr>\n",
       "      <th>2</th>\n",
       "      <td>2015</td>\n",
       "      <td>1</td>\n",
       "      <td>0</td>\n",
       "      <td>0</td>\n",
       "      <td>0</td>\n",
       "      <td>0</td>\n",
       "      <td>0</td>\n",
       "      <td>1</td>\n",
       "      <td>0</td>\n",
       "      <td>0</td>\n",
       "      <td>...</td>\n",
       "      <td>0</td>\n",
       "      <td>0</td>\n",
       "      <td>0</td>\n",
       "      <td>0</td>\n",
       "      <td>1</td>\n",
       "      <td>0</td>\n",
       "      <td>0</td>\n",
       "      <td>1</td>\n",
       "      <td>0</td>\n",
       "      <td>9000.0</td>\n",
       "    </tr>\n",
       "    <tr>\n",
       "      <th>3</th>\n",
       "      <td>2015</td>\n",
       "      <td>1</td>\n",
       "      <td>0</td>\n",
       "      <td>0</td>\n",
       "      <td>0</td>\n",
       "      <td>0</td>\n",
       "      <td>0</td>\n",
       "      <td>1</td>\n",
       "      <td>0</td>\n",
       "      <td>0</td>\n",
       "      <td>...</td>\n",
       "      <td>0</td>\n",
       "      <td>0</td>\n",
       "      <td>0</td>\n",
       "      <td>0</td>\n",
       "      <td>1</td>\n",
       "      <td>0</td>\n",
       "      <td>0</td>\n",
       "      <td>0</td>\n",
       "      <td>1</td>\n",
       "      <td>15.0</td>\n",
       "    </tr>\n",
       "    <tr>\n",
       "      <th>4</th>\n",
       "      <td>2015</td>\n",
       "      <td>1</td>\n",
       "      <td>0</td>\n",
       "      <td>0</td>\n",
       "      <td>0</td>\n",
       "      <td>0</td>\n",
       "      <td>0</td>\n",
       "      <td>0</td>\n",
       "      <td>1</td>\n",
       "      <td>0</td>\n",
       "      <td>...</td>\n",
       "      <td>0</td>\n",
       "      <td>0</td>\n",
       "      <td>0</td>\n",
       "      <td>0</td>\n",
       "      <td>4</td>\n",
       "      <td>1</td>\n",
       "      <td>0</td>\n",
       "      <td>0</td>\n",
       "      <td>0</td>\n",
       "      <td>34000.0</td>\n",
       "    </tr>\n",
       "  </tbody>\n",
       "</table>\n",
       "<p>5 rows × 62 columns</p>\n",
       "</div>"
      ],
      "text/plain": [
       "   Year  Period_YEAR  Period_YEAR - AUG FORECAST  Period_YEAR - JUN FORECAST  \\\n",
       "0  2015            1                           0                           0   \n",
       "1  2015            1                           0                           0   \n",
       "2  2015            1                           0                           0   \n",
       "3  2015            1                           0                           0   \n",
       "4  2015            1                           0                           0   \n",
       "\n",
       "   Period_YEAR - NOV FORECAST  Period_YEAR - OCT FORECAST  \\\n",
       "0                           0                           0   \n",
       "1                           0                           0   \n",
       "2                           0                           0   \n",
       "3                           0                           0   \n",
       "4                           0                           0   \n",
       "\n",
       "   Period_YEAR - SEP FORECAST  State_ALABAMA  State_ARIZONA  State_ARKANSAS  \\\n",
       "0                           0              1              0               0   \n",
       "1                           0              1              0               0   \n",
       "2                           0              1              0               0   \n",
       "3                           0              1              0               0   \n",
       "4                           0              0              1               0   \n",
       "\n",
       "   ...  State_WASHINGTON  State_WEST VIRGINIA  State_WISCONSIN  State_WYOMING  \\\n",
       "0  ...                 0                    0                0              0   \n",
       "1  ...                 0                    0                0              0   \n",
       "2  ...                 0                    0                0              0   \n",
       "3  ...                 0                    0                0              0   \n",
       "4  ...                 0                    0                0              0   \n",
       "\n",
       "   State ANSI  Data Item_CORN, GRAIN - ACRES HARVESTED  \\\n",
       "0           1                                        1   \n",
       "1           1                                        0   \n",
       "2           1                                        0   \n",
       "3           1                                        0   \n",
       "4           4                                        1   \n",
       "\n",
       "   Data Item_CORN, GRAIN - PRODUCTION, MEASURED IN BU  \\\n",
       "0                                                  0    \n",
       "1                                                  1    \n",
       "2                                                  0    \n",
       "3                                                  0    \n",
       "4                                                  0    \n",
       "\n",
       "   Data Item_CORN, SILAGE - ACRES HARVESTED  \\\n",
       "0                                         0   \n",
       "1                                         0   \n",
       "2                                         1   \n",
       "3                                         0   \n",
       "4                                         0   \n",
       "\n",
       "   Data Item_CORN, SILAGE - YIELD, MEASURED IN TONS / ACRE       Value  \n",
       "0                                                  0          245000.0  \n",
       "1                                                  0        36015000.0  \n",
       "2                                                  0            9000.0  \n",
       "3                                                  1              15.0  \n",
       "4                                                  0           34000.0  \n",
       "\n",
       "[5 rows x 62 columns]"
      ]
     },
     "execution_count": 18,
     "metadata": {},
     "output_type": "execute_result"
    }
   ],
   "source": [
    "df.head()"
   ]
  },
  {
   "cell_type": "code",
   "execution_count": 19,
   "id": "2f08bfe9",
   "metadata": {},
   "outputs": [],
   "source": [
    "X = df.drop(\"Value\",axis = 1)\n",
    "Y = df[\"Value\"]"
   ]
  },
  {
   "cell_type": "code",
   "execution_count": 20,
   "id": "a163becb",
   "metadata": {},
   "outputs": [],
   "source": [
    "# Splitting the data\n",
    "X_train,X_test,Y_train,Y_test = train_test_split(X,Y,random_state=27,test_size=0.2)"
   ]
  },
  {
   "cell_type": "code",
   "execution_count": 21,
   "id": "0e0c5d08",
   "metadata": {},
   "outputs": [],
   "source": [
    "train,test = train_test_split(df, test_size=0.25,random_state= 27)\n"
   ]
  },
  {
   "cell_type": "markdown",
   "id": "e011e64e",
   "metadata": {},
   "source": [
    "# Training Models"
   ]
  },
  {
   "cell_type": "markdown",
   "id": "c57daf49",
   "metadata": {},
   "source": [
    "## RandomForestRegressor"
   ]
  },
  {
   "cell_type": "code",
   "execution_count": 22,
   "id": "decffa88",
   "metadata": {},
   "outputs": [],
   "source": [
    "random_reg = RandomForestRegressor(n_estimators = 100, random_state = 0)\n",
    "random_reg.fit(X_train, Y_train)\n",
    "Y_pred = random_reg.predict(X_test)"
   ]
  },
  {
   "cell_type": "markdown",
   "id": "4089d94a",
   "metadata": {},
   "source": [
    "####  Evaluation Metrics"
   ]
  },
  {
   "cell_type": "code",
   "execution_count": 23,
   "id": "f395e0b2",
   "metadata": {},
   "outputs": [
    {
     "data": {
      "text/plain": [
       "776880642843646.2"
      ]
     },
     "execution_count": 23,
     "metadata": {},
     "output_type": "execute_result"
    }
   ],
   "source": [
    "mse = mean_squared_error(Y_pred,Y_test)\n",
    "mse"
   ]
  },
  {
   "cell_type": "code",
   "execution_count": 24,
   "id": "9fd3173e",
   "metadata": {},
   "outputs": [
    {
     "data": {
      "text/plain": [
       "4932323.292541001"
      ]
     },
     "execution_count": 24,
     "metadata": {},
     "output_type": "execute_result"
    }
   ],
   "source": [
    "mae = mean_absolute_error(Y_pred,Y_test)\n",
    "mae"
   ]
  },
  {
   "cell_type": "code",
   "execution_count": 25,
   "id": "8b5cedc7",
   "metadata": {},
   "outputs": [
    {
     "data": {
      "text/plain": [
       "0.9735367065373357"
      ]
     },
     "execution_count": 25,
     "metadata": {},
     "output_type": "execute_result"
    }
   ],
   "source": [
    "r2_score = random_reg.score(X_test,Y_test)\n",
    "r2_score"
   ]
  },
  {
   "cell_type": "code",
   "execution_count": 26,
   "id": "ee3f343d",
   "metadata": {},
   "outputs": [
    {
     "name": "stderr",
     "output_type": "stream",
     "text": [
      "C:\\Users\\USER\\anaconda3\\lib\\site-packages\\seaborn\\_decorators.py:36: FutureWarning: Pass the following variables as keyword args: x, y. From version 0.12, the only valid positional argument will be `data`, and passing other arguments without an explicit keyword will result in an error or misinterpretation.\n",
      "  warnings.warn(\n"
     ]
    },
    {
     "data": {
      "text/plain": [
       "[Text(0.5, 0, 'Predicted'), Text(0, 0.5, 'Actual')]"
      ]
     },
     "execution_count": 26,
     "metadata": {},
     "output_type": "execute_result"
    },
    {
     "data": {
      "image/png": "[encoded data removed]",
      "text/plain": [
       "<Figure size 640x480 with 1 Axes>"
      ]
     },
     "metadata": {},
     "output_type": "display_data"
    }
   ],
   "source": [
    "plot = sns.regplot(Y_pred,Y_test)\n",
    "plot.set(xlabel=\"Predicted\",ylabel = \"Actual\")"
   ]
  },
  {
   "cell_type": "markdown",
   "id": "8672369d",
   "metadata": {},
   "source": [
    "### Insights\n",
    " The R2 value between predicted and actual values shows a strong positive correlation"
   ]
  },
  {
   "cell_type": "markdown",
   "id": "db5ee4a7",
   "metadata": {},
   "source": [
    "## Decision Tree Regressor"
   ]
  },
  {
   "cell_type": "code",
   "execution_count": 27,
   "id": "386b1fcc",
   "metadata": {},
   "outputs": [],
   "source": [
    "decision_reg = DecisionTreeRegressor(random_state = 0)\n",
    "decision_reg.fit(X_train, Y_train)\n",
    "Y_pred = decision_reg.predict(X_test)"
   ]
  },
  {
   "cell_type": "markdown",
   "id": "10efa7da",
   "metadata": {},
   "source": [
    "####  Evaluation Metrics"
   ]
  },
  {
   "cell_type": "code",
   "execution_count": 28,
   "id": "25633f62",
   "metadata": {},
   "outputs": [
    {
     "data": {
      "text/plain": [
       "1165779654946752.8"
      ]
     },
     "execution_count": 28,
     "metadata": {},
     "output_type": "execute_result"
    }
   ],
   "source": [
    "mse = mean_squared_error(Y_pred,Y_test)\n",
    "mse"
   ]
  },
  {
   "cell_type": "code",
   "execution_count": 29,
   "id": "06c88154",
   "metadata": {},
   "outputs": [
    {
     "data": {
      "text/plain": [
       "5844223.27772098"
      ]
     },
     "execution_count": 29,
     "metadata": {},
     "output_type": "execute_result"
    }
   ],
   "source": [
    "mae = mean_absolute_error(Y_pred,Y_test)\n",
    "mae"
   ]
  },
  {
   "cell_type": "code",
   "execution_count": 30,
   "id": "914a0a05",
   "metadata": {},
   "outputs": [
    {
     "data": {
      "text/plain": [
       "0.960289435184359"
      ]
     },
     "execution_count": 30,
     "metadata": {},
     "output_type": "execute_result"
    }
   ],
   "source": [
    "\n",
    "r2_score = decision_reg.score(X_test,Y_test)\n",
    "r2_score"
   ]
  },
  {
   "cell_type": "markdown",
   "id": "d5f65e56",
   "metadata": {},
   "source": [
    "# K- Nearest Neighbors Regressor"
   ]
  },
  {
   "cell_type": "code",
   "execution_count": 31,
   "id": "370ec033",
   "metadata": {},
   "outputs": [],
   "source": [
    "from sklearn.neighbors import KNeighborsRegressor\n",
    "neighbors_reg = KNeighborsRegressor()\n",
    "neighbors_reg.fit(X_train, Y_train)\n",
    "Y_pred = neighbors_reg.predict(X_test)"
   ]
  },
  {
   "cell_type": "markdown",
   "id": "038a9674",
   "metadata": {},
   "source": [
    "####  Evaluation Metrics"
   ]
  },
  {
   "cell_type": "code",
   "execution_count": 32,
   "id": "dfaac940",
   "metadata": {},
   "outputs": [
    {
     "data": {
      "text/plain": [
       "1.2043881544633224e+16"
      ]
     },
     "execution_count": 32,
     "metadata": {},
     "output_type": "execute_result"
    }
   ],
   "source": [
    "mse = mean_squared_error(Y_pred,Y_test)\n",
    "mse"
   ]
  },
  {
   "cell_type": "code",
   "execution_count": 33,
   "id": "70651004",
   "metadata": {},
   "outputs": [
    {
     "data": {
      "text/plain": [
       "37318241.428643234"
      ]
     },
     "execution_count": 33,
     "metadata": {},
     "output_type": "execute_result"
    }
   ],
   "source": [
    "mae = mean_absolute_error(Y_pred,Y_test)\n",
    "mae"
   ]
  },
  {
   "cell_type": "code",
   "execution_count": 34,
   "id": "aace13d9",
   "metadata": {},
   "outputs": [
    {
     "data": {
      "text/plain": [
       "0.5897429358278647"
      ]
     },
     "execution_count": 34,
     "metadata": {},
     "output_type": "execute_result"
    }
   ],
   "source": [
    "r2_score = neighbors_reg.score(X_test,Y_test)\n",
    "r2_score"
   ]
  },
  {
   "cell_type": "code",
   "execution_count": null,
   "id": "741aba5f",
   "metadata": {},
   "outputs": [],
   "source": []
  }
 ],
 "metadata": {
  "kernelspec": {
   "display_name": "Python 3 (ipykernel)",
   "language": "python",
   "name": "python3"
  },
  "language_info": {
   "codemirror_mode": {
    "name": "ipython",
    "version": 3
   },
   "file_extension": ".py",
   "mimetype": "text/x-python",
   "name": "python",
   "nbconvert_exporter": "python",
   "pygments_lexer": "ipython3",
   "version": "3.9.13"
  }
 },
 "nbformat": 4,
 "nbformat_minor": 5
}
