{
 "cells": [
  {
   "cell_type": "markdown",
   "metadata": {},
   "source": [
    "# COURSE:   PGP [AI&ML]\n",
    "\n",
    "## Learner :  Chaitanya Kumar Battula\n",
    "## Module  : Machine Learning\n",
    "## Topic   : Hierarchical_Clustering"
   ]
  },
  {
   "cell_type": "code",
   "execution_count": 7,
   "metadata": {},
   "outputs": [],
   "source": [
    "import numpy as np\n",
    "import pandas as pd\n",
    "from scipy.cluster.hierarchy import dendrogram,linkage\n",
    "from matplotlib import pyplot as plt\n",
    "import matplotlib.pyplot as plt"
   ]
  },
  {
   "cell_type": "code",
   "execution_count": 8,
   "metadata": {},
   "outputs": [],
   "source": [
    "X = np.array([[5,3],[10,15],[15,12],[24,10],[30,30],[85,70],[71,80],[60,78],[70,55],[80,91]])"
   ]
  },
  {
   "cell_type": "code",
   "execution_count": 9,
   "metadata": {},
   "outputs": [
    {
     "data": {
      "text/plain": [
       "array([[ 5,  3],\n",
       "       [10, 15],\n",
       "       [15, 12],\n",
       "       [24, 10],\n",
       "       [30, 30],\n",
       "       [85, 70],\n",
       "       [71, 80],\n",
       "       [60, 78],\n",
       "       [70, 55],\n",
       "       [80, 91]])"
      ]
     },
     "execution_count": 9,
     "metadata": {},
     "output_type": "execute_result"
    }
   ],
   "source": [
    "X"
   ]
  },
  {
   "cell_type": "code",
   "execution_count": 10,
   "metadata": {},
   "outputs": [],
   "source": [
    "link_mechanism = linkage(X,'single')"
   ]
  },
  {
   "cell_type": "code",
   "execution_count": 11,
   "metadata": {},
   "outputs": [],
   "source": [
    "labelList = range(1,11)"
   ]
  },
  {
   "cell_type": "code",
   "execution_count": 13,
   "metadata": {},
   "outputs": [
    {
     "data": {
      "text/plain": [
       "{'icoord': [[35.0, 35.0, 45.0, 45.0],\n",
       "  [25.0, 25.0, 40.0, 40.0],\n",
       "  [15.0, 15.0, 32.5, 32.5],\n",
       "  [5.0, 5.0, 23.75, 23.75],\n",
       "  [85.0, 85.0, 95.0, 95.0],\n",
       "  [75.0, 75.0, 90.0, 90.0],\n",
       "  [65.0, 65.0, 82.5, 82.5],\n",
       "  [55.0, 55.0, 73.75, 73.75],\n",
       "  [14.375, 14.375, 64.375, 64.375]],\n",
       " 'dcoord': [[0.0, 5.830951894845301, 5.830951894845301, 0.0],\n",
       "  [0.0, 9.219544457292887, 9.219544457292887, 5.830951894845301],\n",
       "  [0.0, 13.0, 13.0, 9.219544457292887],\n",
       "  [0.0, 20.8806130178211, 20.8806130178211, 13.0],\n",
       "  [0.0, 11.180339887498949, 11.180339887498949, 0.0],\n",
       "  [0.0, 14.212670403551895, 14.212670403551895, 11.180339887498949],\n",
       "  [0.0, 17.204650534085253, 17.204650534085253, 14.212670403551895],\n",
       "  [0.0, 21.213203435596427, 21.213203435596427, 17.204650534085253],\n",
       "  [20.8806130178211,\n",
       "   47.16990566028302,\n",
       "   47.16990566028302,\n",
       "   21.213203435596427]],\n",
       " 'ivl': [5, 1, 4, 2, 3, 9, 6, 10, 7, 8],\n",
       " 'leaves': [4, 0, 3, 1, 2, 8, 5, 9, 6, 7],\n",
       " 'color_list': ['g', 'g', 'g', 'g', 'r', 'r', 'r', 'r', 'b']}"
      ]
     },
     "execution_count": 13,
     "metadata": {},
     "output_type": "execute_result"
    },
    {
     "data": {
      "image/png": "[encoded data removed]",
      "text/plain": [
       "<Figure size 720x504 with 1 Axes>"
      ]
     },
     "metadata": {
      "needs_background": "light"
     },
     "output_type": "display_data"
    }
   ],
   "source": [
    "plt.figure(figsize=(10,7))\n",
    "dendrogram(link_mechanism,orientation='top',labels=labelList,show_leaf_counts=True)"
   ]
  },
  {
   "cell_type": "code",
   "execution_count": null,
   "metadata": {},
   "outputs": [],
   "source": []
  }
 ],
 "metadata": {
  "kernelspec": {
   "display_name": "Python 3",
   "language": "python",
   "name": "python3"
  },
  "language_info": {
   "codemirror_mode": {
    "name": "ipython",
    "version": 3
   },
   "file_extension": ".py",
   "mimetype": "text/x-python",
   "name": "python",
   "nbconvert_exporter": "python",
   "pygments_lexer": "ipython3",
   "version": "3.8.3"
  }
 },
 "nbformat": 4,
 "nbformat_minor": 4
}
