{
 "cells": [
  {
   "cell_type": "markdown",
   "metadata": {},
   "source": [
    "# USA House Price Prediction\n",
    "![](us1.jpg)"
   ]
  },
  {
   "cell_type": "markdown",
   "metadata": {},
   "source": [
    "### Contents \n",
    "1. Exploratory Data Analysis\n",
    "    - Distribution of data plotting using distplot\n",
    "    - Feature distribution using Boxplot\n",
    "    - Data Pre-processing\n",
    "2. Build Regression Models\n",
    "    - Linear regression\n",
    "    - Random Forest regression\n",
    "    - Lasso regression+\n",
    "    - Ridge regression\n",
    "    - Gradient Boosting regression\n",
    "    - XGBoosting regression\n",
    "    - MLP regression\n",
    "    - Support vector regressor\n",
    "3. Compare Linear and Polynomial Features \n",
    "\n",
    "\n",
    "\n",
    "\n"
   ]
  },
  {
   "cell_type": "markdown",
   "metadata": {
    "papermill": {
     "duration": 0.019165,
     "end_time": "2021-02-24T13:36:39.258711",
     "exception": false,
     "start_time": "2021-02-24T13:36:39.239546",
     "status": "completed"
    },
    "tags": []
   },
   "source": [
    "### 3   Importing Libraries and dataset "
   ]
  },
  {
   "cell_type": "code",
   "execution_count": 1,
   "metadata": {
    "execution": {
     "iopub.execute_input": "2021-02-24T13:36:39.297684Z",
     "iopub.status.busy": "2021-02-24T13:36:39.297109Z",
     "iopub.status.idle": "2021-02-24T13:36:41.531214Z",
     "shell.execute_reply": "2021-02-24T13:36:41.531671Z"
    },
    "papermill": {
     "duration": 2.255395,
     "end_time": "2021-02-24T13:36:41.532026",
     "exception": false,
     "start_time": "2021-02-24T13:36:39.276631",
     "status": "completed"
    },
    "tags": []
   },
   "outputs": [],
   "source": [
    "import numpy as np\n",
    "import matplotlib.pyplot as plt\n",
    "import pandas as pd\n",
    "\n",
    "import seaborn as sns\n",
    "\n",
    "from sklearn.ensemble import RandomForestRegressor\n",
    "from sklearn.feature_selection import SelectKBest, f_regression\n",
    "from sklearn.linear_model import LinearRegression, Ridge, Lasso\n",
    "from sklearn.model_selection import train_test_split, cross_val_score\n",
    "from sklearn.neural_network import MLPRegressor\n",
    "from xgboost.sklearn import XGBRegressor\n",
    "from sklearn.ensemble import GradientBoostingRegressor\n",
    "from sklearn.preprocessing import StandardScaler, MinMaxScaler\n",
    "from sklearn.preprocessing import PolynomialFeatures\n",
    "from sklearn.svm import SVR\n",
    "\n",
    "import statsmodels.api as sm\n",
    "\n",
    "import warnings\n",
    "warnings.filterwarnings('ignore')\n",
    "\n",
    "pd.set_option('display.max.columns', None)"
   ]
  },
  {
   "cell_type": "markdown",
   "metadata": {
    "papermill": {
     "duration": 0.017709,
     "end_time": "2021-02-24T13:36:41.568295",
     "exception": false,
     "start_time": "2021-02-24T13:36:41.550586",
     "status": "completed"
    },
    "tags": []
   },
   "source": [
    "### 4   Data loading and overview"
   ]
  },
  {
   "cell_type": "code",
   "execution_count": 2,
   "metadata": {
    "execution": {
     "iopub.execute_input": "2021-02-24T13:36:41.608658Z",
     "iopub.status.busy": "2021-02-24T13:36:41.608089Z",
     "iopub.status.idle": "2021-02-24T13:36:41.688431Z",
     "shell.execute_reply": "2021-02-24T13:36:41.688831Z"
    },
    "papermill": {
     "duration": 0.102716,
     "end_time": "2021-02-24T13:36:41.688998",
     "exception": false,
     "start_time": "2021-02-24T13:36:41.586282",
     "status": "completed"
    },
    "tags": []
   },
   "outputs": [
    {
     "data": {
      "text/html": [
       "<div>\n",
       "<style scoped>\n",
       "    .dataframe tbody tr th:only-of-type {\n",
       "        vertical-align: middle;\n",
       "    }\n",
       "\n",
       "    .dataframe tbody tr th {\n",
       "        vertical-align: top;\n",
       "    }\n",
       "\n",
       "    .dataframe thead th {\n",
       "        text-align: right;\n",
       "    }\n",
       "</style>\n",
       "<table border=\"1\" class=\"dataframe\">\n",
       "  <thead>\n",
       "    <tr style=\"text-align: right;\">\n",
       "      <th></th>\n",
       "      <th>Avg. Area Income</th>\n",
       "      <th>Avg. Area House Age</th>\n",
       "      <th>Avg. Area Number of Rooms</th>\n",
       "      <th>Avg. Area Number of Bedrooms</th>\n",
       "      <th>Area Population</th>\n",
       "      <th>Price</th>\n",
       "      <th>Address</th>\n",
       "    </tr>\n",
       "  </thead>\n",
       "  <tbody>\n",
       "    <tr>\n",
       "      <th>0</th>\n",
       "      <td>79545.458574</td>\n",
       "      <td>5.682861</td>\n",
       "      <td>7.009188</td>\n",
       "      <td>4.09</td>\n",
       "      <td>23086.800503</td>\n",
       "      <td>1.059034e+06</td>\n",
       "      <td>208 Michael Ferry Apt. 674\\nLaurabury, NE 3701...</td>\n",
       "    </tr>\n",
       "    <tr>\n",
       "      <th>1</th>\n",
       "      <td>79248.642455</td>\n",
       "      <td>6.002900</td>\n",
       "      <td>6.730821</td>\n",
       "      <td>3.09</td>\n",
       "      <td>40173.072174</td>\n",
       "      <td>1.505891e+06</td>\n",
       "      <td>188 Johnson Views Suite 079\\nLake Kathleen, CA...</td>\n",
       "    </tr>\n",
       "    <tr>\n",
       "      <th>2</th>\n",
       "      <td>61287.067179</td>\n",
       "      <td>5.865890</td>\n",
       "      <td>8.512727</td>\n",
       "      <td>5.13</td>\n",
       "      <td>36882.159400</td>\n",
       "      <td>1.058988e+06</td>\n",
       "      <td>9127 Elizabeth Stravenue\\nDanieltown, WI 06482...</td>\n",
       "    </tr>\n",
       "    <tr>\n",
       "      <th>3</th>\n",
       "      <td>63345.240046</td>\n",
       "      <td>7.188236</td>\n",
       "      <td>5.586729</td>\n",
       "      <td>3.26</td>\n",
       "      <td>34310.242831</td>\n",
       "      <td>1.260617e+06</td>\n",
       "      <td>USS Barnett\\nFPO AP 44820</td>\n",
       "    </tr>\n",
       "    <tr>\n",
       "      <th>4</th>\n",
       "      <td>59982.197226</td>\n",
       "      <td>5.040555</td>\n",
       "      <td>7.839388</td>\n",
       "      <td>4.23</td>\n",
       "      <td>26354.109472</td>\n",
       "      <td>6.309435e+05</td>\n",
       "      <td>USNS Raymond\\nFPO AE 09386</td>\n",
       "    </tr>\n",
       "  </tbody>\n",
       "</table>\n",
       "</div>"
      ],
      "text/plain": [
       "   Avg. Area Income  Avg. Area House Age  Avg. Area Number of Rooms  \\\n",
       "0      79545.458574             5.682861                   7.009188   \n",
       "1      79248.642455             6.002900                   6.730821   \n",
       "2      61287.067179             5.865890                   8.512727   \n",
       "3      63345.240046             7.188236                   5.586729   \n",
       "4      59982.197226             5.040555                   7.839388   \n",
       "\n",
       "   Avg. Area Number of Bedrooms  Area Population         Price  \\\n",
       "0                          4.09     23086.800503  1.059034e+06   \n",
       "1                          3.09     40173.072174  1.505891e+06   \n",
       "2                          5.13     36882.159400  1.058988e+06   \n",
       "3                          3.26     34310.242831  1.260617e+06   \n",
       "4                          4.23     26354.109472  6.309435e+05   \n",
       "\n",
       "                                             Address  \n",
       "0  208 Michael Ferry Apt. 674\\nLaurabury, NE 3701...  \n",
       "1  188 Johnson Views Suite 079\\nLake Kathleen, CA...  \n",
       "2  9127 Elizabeth Stravenue\\nDanieltown, WI 06482...  \n",
       "3                          USS Barnett\\nFPO AP 44820  \n",
       "4                         USNS Raymond\\nFPO AE 09386  "
      ]
     },
     "execution_count": 2,
     "metadata": {},
     "output_type": "execute_result"
    }
   ],
   "source": [
    "df = pd.read_csv('../DataSets/USA_Housing.csv')\n",
    "df.head()"
   ]
  },
  {
   "cell_type": "code",
   "execution_count": 3,
   "metadata": {
    "execution": {
     "iopub.execute_input": "2021-02-24T13:36:41.729530Z",
     "iopub.status.busy": "2021-02-24T13:36:41.728954Z",
     "iopub.status.idle": "2021-02-24T13:36:41.745631Z",
     "shell.execute_reply": "2021-02-24T13:36:41.746108Z"
    },
    "papermill": {
     "duration": 0.038498,
     "end_time": "2021-02-24T13:36:41.746305",
     "exception": false,
     "start_time": "2021-02-24T13:36:41.707807",
     "status": "completed"
    },
    "tags": []
   },
   "outputs": [
    {
     "name": "stdout",
     "output_type": "stream",
     "text": [
      "<class 'pandas.core.frame.DataFrame'>\n",
      "RangeIndex: 5000 entries, 0 to 4999\n",
      "Data columns (total 7 columns):\n",
      " #   Column                        Non-Null Count  Dtype  \n",
      "---  ------                        --------------  -----  \n",
      " 0   Avg. Area Income              5000 non-null   float64\n",
      " 1   Avg. Area House Age           5000 non-null   float64\n",
      " 2   Avg. Area Number of Rooms     5000 non-null   float64\n",
      " 3   Avg. Area Number of Bedrooms  5000 non-null   float64\n",
      " 4   Area Population               5000 non-null   float64\n",
      " 5   Price                         5000 non-null   float64\n",
      " 6   Address                       5000 non-null   object \n",
      "dtypes: float64(6), object(1)\n",
      "memory usage: 273.6+ KB\n"
     ]
    }
   ],
   "source": [
    "df.info()"
   ]
  },
  {
   "cell_type": "markdown",
   "metadata": {
    "papermill": {
     "duration": 0.018658,
     "end_time": "2021-02-24T13:36:41.784194",
     "exception": false,
     "start_time": "2021-02-24T13:36:41.765536",
     "status": "completed"
    },
    "tags": []
   },
   "source": [
    "## 5   EDA : Exploratory Data Analysis\n",
    "Exploratory Data Analysis refers to the critical process of performing initial investigations on data so as to discover patterns,to spot anomalies,to test hypothesis and to check assumptions with the help of summary statistics and graphical representations.\n",
    "\n",
    "Let's visualize the dataset...\n",
    "\n",
    "### 5.A   Visualization using Distplot on the various attributes\n",
    "distplot() function is used to plot the distplot. The distplot represents the univariate distribution of data i.e. data distribution of a variable against the density distribution. The seaborn. distplot() function accepts the data variable as an argument and returns the plot with the density distribution.\n",
    "\n",
    "We look at the distribution"
   ]
  },
  {
   "cell_type": "markdown",
   "metadata": {},
   "source": [
    "**Average Area Income**"
   ]
  },
  {
   "cell_type": "code",
   "execution_count": 4,
   "metadata": {
    "execution": {
     "iopub.execute_input": "2021-02-24T13:36:41.825524Z",
     "iopub.status.busy": "2021-02-24T13:36:41.824922Z",
     "iopub.status.idle": "2021-02-24T13:36:42.113032Z",
     "shell.execute_reply": "2021-02-24T13:36:42.113503Z"
    },
    "papermill": {
     "duration": 0.310363,
     "end_time": "2021-02-24T13:36:42.113690",
     "exception": false,
     "start_time": "2021-02-24T13:36:41.803327",
     "status": "completed"
    },
    "scrolled": true,
    "tags": []
   },
   "outputs": [
    {
     "data": {
      "text/plain": [
       "<AxesSubplot:xlabel='Avg. Area Income', ylabel='Density'>"
      ]
     },
     "execution_count": 4,
     "metadata": {},
     "output_type": "execute_result"
    },
    {
     "data": {
      "image/png": "[encoded data removed]",
      "text/plain": [
       "<Figure size 640x480 with 1 Axes>"
      ]
     },
     "metadata": {},
     "output_type": "display_data"
    }
   ],
   "source": [
    "sns.distplot(df['Avg. Area Income'])"
   ]
  },
  {
   "cell_type": "markdown",
   "metadata": {},
   "source": [
    "**Average Area House Age**"
   ]
  },
  {
   "cell_type": "code",
   "execution_count": 5,
   "metadata": {
    "execution": {
     "iopub.execute_input": "2021-02-24T13:36:42.157698Z",
     "iopub.status.busy": "2021-02-24T13:36:42.157060Z",
     "iopub.status.idle": "2021-02-24T13:36:42.407148Z",
     "shell.execute_reply": "2021-02-24T13:36:42.406592Z"
    },
    "papermill": {
     "duration": 0.27272,
     "end_time": "2021-02-24T13:36:42.407350",
     "exception": false,
     "start_time": "2021-02-24T13:36:42.134630",
     "status": "completed"
    },
    "tags": []
   },
   "outputs": [
    {
     "data": {
      "text/plain": [
       "<AxesSubplot:xlabel='Avg. Area House Age', ylabel='Density'>"
      ]
     },
     "execution_count": 5,
     "metadata": {},
     "output_type": "execute_result"
    },
    {
     "data": {
      "image/png": "[encoded data removed]",
      "text/plain": [
       "<Figure size 640x480 with 1 Axes>"
      ]
     },
     "metadata": {},
     "output_type": "display_data"
    }
   ],
   "source": [
    "sns.distplot(df['Avg. Area House Age'])"
   ]
  },
  {
   "cell_type": "markdown",
   "metadata": {},
   "source": [
    "**Average Area Number of rooms**"
   ]
  },
  {
   "cell_type": "code",
   "execution_count": 6,
   "metadata": {
    "execution": {
     "iopub.execute_input": "2021-02-24T13:36:42.468242Z",
     "iopub.status.busy": "2021-02-24T13:36:42.467604Z",
     "iopub.status.idle": "2021-02-24T13:36:42.696728Z",
     "shell.execute_reply": "2021-02-24T13:36:42.696097Z"
    },
    "papermill": {
     "duration": 0.267623,
     "end_time": "2021-02-24T13:36:42.696868",
     "exception": false,
     "start_time": "2021-02-24T13:36:42.429245",
     "status": "completed"
    },
    "scrolled": true,
    "tags": []
   },
   "outputs": [
    {
     "data": {
      "text/plain": [
       "<AxesSubplot:xlabel='Avg. Area Number of Rooms', ylabel='Density'>"
      ]
     },
     "execution_count": 6,
     "metadata": {},
     "output_type": "execute_result"
    },
    {
     "data": {
      "image/png": "[encoded data removed]",
      "text/plain": [
       "<Figure size 640x480 with 1 Axes>"
      ]
     },
     "metadata": {},
     "output_type": "display_data"
    }
   ],
   "source": [
    "sns.distplot(df['Avg. Area Number of Rooms'])"
   ]
  },
  {
   "cell_type": "markdown",
   "metadata": {},
   "source": [
    "**Average Area Number of bedrooms**"
   ]
  },
  {
   "cell_type": "code",
   "execution_count": 7,
   "metadata": {
    "execution": {
     "iopub.execute_input": "2021-02-24T13:36:42.853118Z",
     "iopub.status.busy": "2021-02-24T13:36:42.852381Z",
     "iopub.status.idle": "2021-02-24T13:36:43.052463Z",
     "shell.execute_reply": "2021-02-24T13:36:43.051476Z"
    },
    "papermill": {
     "duration": 0.332727,
     "end_time": "2021-02-24T13:36:43.052610",
     "exception": false,
     "start_time": "2021-02-24T13:36:42.719883",
     "status": "completed"
    },
    "tags": []
   },
   "outputs": [
    {
     "data": {
      "text/plain": [
       "<AxesSubplot:xlabel='Avg. Area Number of Bedrooms', ylabel='Density'>"
      ]
     },
     "execution_count": 7,
     "metadata": {},
     "output_type": "execute_result"
    },
    {
     "data": {
      "image/png": "[encoded data removed]",
      "text/plain": [
       "<Figure size 640x480 with 1 Axes>"
      ]
     },
     "metadata": {},
     "output_type": "display_data"
    }
   ],
   "source": [
    "sns.distplot(df['Avg. Area Number of Bedrooms'])"
   ]
  },
  {
   "cell_type": "markdown",
   "metadata": {},
   "source": [
    "**Area Population**"
   ]
  },
  {
   "cell_type": "code",
   "execution_count": 8,
   "metadata": {
    "execution": {
     "iopub.execute_input": "2021-02-24T13:36:43.123450Z",
     "iopub.status.busy": "2021-02-24T13:36:43.122500Z",
     "iopub.status.idle": "2021-02-24T13:36:43.352922Z",
     "shell.execute_reply": "2021-02-24T13:36:43.352399Z"
    },
    "papermill": {
     "duration": 0.277062,
     "end_time": "2021-02-24T13:36:43.353068",
     "exception": false,
     "start_time": "2021-02-24T13:36:43.076006",
     "status": "completed"
    },
    "tags": []
   },
   "outputs": [
    {
     "data": {
      "text/plain": [
       "<AxesSubplot:xlabel='Area Population', ylabel='Density'>"
      ]
     },
     "execution_count": 8,
     "metadata": {},
     "output_type": "execute_result"
    },
    {
     "data": {
      "image/png": "[encoded data removed]",
      "text/plain": [
       "<Figure size 640x480 with 1 Axes>"
      ]
     },
     "metadata": {},
     "output_type": "display_data"
    }
   ],
   "source": [
    "sns.distplot(df['Area Population'])"
   ]
  },
  {
   "cell_type": "markdown",
   "metadata": {},
   "source": [
    "**Price**"
   ]
  },
  {
   "cell_type": "code",
   "execution_count": 9,
   "metadata": {
    "execution": {
     "iopub.execute_input": "2021-02-24T13:36:43.424722Z",
     "iopub.status.busy": "2021-02-24T13:36:43.422547Z",
     "iopub.status.idle": "2021-02-24T13:36:43.633563Z",
     "shell.execute_reply": "2021-02-24T13:36:43.633044Z"
    },
    "papermill": {
     "duration": 0.255984,
     "end_time": "2021-02-24T13:36:43.633699",
     "exception": false,
     "start_time": "2021-02-24T13:36:43.377715",
     "status": "completed"
    },
    "tags": []
   },
   "outputs": [
    {
     "data": {
      "text/plain": [
       "<AxesSubplot:xlabel='Price', ylabel='Density'>"
      ]
     },
     "execution_count": 9,
     "metadata": {},
     "output_type": "execute_result"
    },
    {
     "data": {
      "image/png": "[encoded data removed]",
      "text/plain": [
       "<Figure size 640x480 with 1 Axes>"
      ]
     },
     "metadata": {},
     "output_type": "display_data"
    }
   ],
   "source": [
    "sns.distplot(df['Price'])"
   ]
  },
  {
   "cell_type": "markdown",
   "metadata": {
    "papermill": {
     "duration": 0.025272,
     "end_time": "2021-02-24T13:36:43.684248",
     "exception": false,
     "start_time": "2021-02-24T13:36:43.658976",
     "status": "completed"
    },
    "tags": []
   },
   "source": [
    "Feature distribution is normal"
   ]
  },
  {
   "cell_type": "markdown",
   "metadata": {
    "papermill": {
     "duration": 0.025209,
     "end_time": "2021-02-24T13:36:43.735207",
     "exception": false,
     "start_time": "2021-02-24T13:36:43.709998",
     "status": "completed"
    },
    "tags": []
   },
   "source": [
    "### 5.B   Visualization using Boxplot\n",
    "A boxplot is a standardized way of displaying the distribution of data based on a five number summary (“minimum”, first quartile (Q1), median, third quartile (Q3), and “maximum”). ... It can also tell you if your data is symmetrical, how tightly your data is grouped, and if and how your data is skewed."
   ]
  },
  {
   "cell_type": "markdown",
   "metadata": {},
   "source": [
    "**Average Area Income**"
   ]
  },
  {
   "cell_type": "code",
   "execution_count": 10,
   "metadata": {
    "execution": {
     "iopub.execute_input": "2021-02-24T13:36:43.810935Z",
     "iopub.status.busy": "2021-02-24T13:36:43.806832Z",
     "iopub.status.idle": "2021-02-24T13:36:43.890048Z",
     "shell.execute_reply": "2021-02-24T13:36:43.889562Z"
    },
    "papermill": {
     "duration": 0.127978,
     "end_time": "2021-02-24T13:36:43.890201",
     "exception": false,
     "start_time": "2021-02-24T13:36:43.762223",
     "status": "completed"
    },
    "tags": []
   },
   "outputs": [
    {
     "data": {
      "text/plain": [
       "<AxesSubplot:xlabel='Avg. Area Income'>"
      ]
     },
     "execution_count": 10,
     "metadata": {},
     "output_type": "execute_result"
    },
    {
     "data": {
      "image/png": "[encoded data removed]",
      "text/plain": [
       "<Figure size 640x480 with 1 Axes>"
      ]
     },
     "metadata": {},
     "output_type": "display_data"
    }
   ],
   "source": [
    "sns.boxplot(x='Avg. Area Income', data = df)"
   ]
  },
  {
   "cell_type": "markdown",
   "metadata": {},
   "source": [
    "**Average Area House Age**"
   ]
  },
  {
   "cell_type": "code",
   "execution_count": 11,
   "metadata": {
    "execution": {
     "iopub.execute_input": "2021-02-24T13:36:43.961932Z",
     "iopub.status.busy": "2021-02-24T13:36:43.947980Z",
     "iopub.status.idle": "2021-02-24T13:36:44.048722Z",
     "shell.execute_reply": "2021-02-24T13:36:44.049150Z"
    },
    "papermill": {
     "duration": 0.132747,
     "end_time": "2021-02-24T13:36:44.049356",
     "exception": false,
     "start_time": "2021-02-24T13:36:43.916609",
     "status": "completed"
    },
    "tags": []
   },
   "outputs": [
    {
     "data": {
      "text/plain": [
       "<AxesSubplot:xlabel='Avg. Area House Age'>"
      ]
     },
     "execution_count": 11,
     "metadata": {},
     "output_type": "execute_result"
    },
    {
     "data": {
      "image/png": "[encoded data removed]",
      "text/plain": [
       "<Figure size 640x480 with 1 Axes>"
      ]
     },
     "metadata": {},
     "output_type": "display_data"
    }
   ],
   "source": [
    "sns.boxplot(x='Avg. Area House Age', data = df)"
   ]
  },
  {
   "cell_type": "markdown",
   "metadata": {},
   "source": [
    "**Average Area Number of rooms**"
   ]
  },
  {
   "cell_type": "code",
   "execution_count": 12,
   "metadata": {
    "execution": {
     "iopub.execute_input": "2021-02-24T13:36:44.107536Z",
     "iopub.status.busy": "2021-02-24T13:36:44.106739Z",
     "iopub.status.idle": "2021-02-24T13:36:44.213776Z",
     "shell.execute_reply": "2021-02-24T13:36:44.214311Z"
    },
    "papermill": {
     "duration": 0.137657,
     "end_time": "2021-02-24T13:36:44.214486",
     "exception": false,
     "start_time": "2021-02-24T13:36:44.076829",
     "status": "completed"
    },
    "tags": []
   },
   "outputs": [
    {
     "data": {
      "text/plain": [
       "<AxesSubplot:xlabel='Avg. Area Number of Rooms'>"
      ]
     },
     "execution_count": 12,
     "metadata": {},
     "output_type": "execute_result"
    },
    {
     "data": {
      "image/png": "[encoded data removed]",
      "text/plain": [
       "<Figure size 640x480 with 1 Axes>"
      ]
     },
     "metadata": {},
     "output_type": "display_data"
    }
   ],
   "source": [
    "sns.boxplot(x='Avg. Area Number of Rooms', data = df)"
   ]
  },
  {
   "cell_type": "markdown",
   "metadata": {},
   "source": [
    "**Average Area Number of bedrooms**"
   ]
  },
  {
   "cell_type": "code",
   "execution_count": 13,
   "metadata": {
    "execution": {
     "iopub.execute_input": "2021-02-24T13:36:44.274048Z",
     "iopub.status.busy": "2021-02-24T13:36:44.273391Z",
     "iopub.status.idle": "2021-02-24T13:36:44.363686Z",
     "shell.execute_reply": "2021-02-24T13:36:44.364136Z"
    },
    "papermill": {
     "duration": 0.121839,
     "end_time": "2021-02-24T13:36:44.364324",
     "exception": false,
     "start_time": "2021-02-24T13:36:44.242485",
     "status": "completed"
    },
    "tags": []
   },
   "outputs": [
    {
     "data": {
      "text/plain": [
       "<AxesSubplot:xlabel='Avg. Area Number of Bedrooms'>"
      ]
     },
     "execution_count": 13,
     "metadata": {},
     "output_type": "execute_result"
    },
    {
     "data": {
      "image/png": "[encoded data removed]",
      "text/plain": [
       "<Figure size 640x480 with 1 Axes>"
      ]
     },
     "metadata": {},
     "output_type": "display_data"
    }
   ],
   "source": [
    "sns.boxplot(x='Avg. Area Number of Bedrooms', data = df)"
   ]
  },
  {
   "cell_type": "markdown",
   "metadata": {},
   "source": [
    "**Area Population**"
   ]
  },
  {
   "cell_type": "code",
   "execution_count": 14,
   "metadata": {
    "execution": {
     "iopub.execute_input": "2021-02-24T13:36:44.425728Z",
     "iopub.status.busy": "2021-02-24T13:36:44.424831Z",
     "iopub.status.idle": "2021-02-24T13:36:44.529681Z",
     "shell.execute_reply": "2021-02-24T13:36:44.530069Z"
    },
    "papermill": {
     "duration": 0.137075,
     "end_time": "2021-02-24T13:36:44.530256",
     "exception": false,
     "start_time": "2021-02-24T13:36:44.393181",
     "status": "completed"
    },
    "tags": []
   },
   "outputs": [
    {
     "data": {
      "text/plain": [
       "<AxesSubplot:xlabel='Area Population'>"
      ]
     },
     "execution_count": 14,
     "metadata": {},
     "output_type": "execute_result"
    },
    {
     "data": {
      "image/png": "[encoded data removed]",
      "text/plain": [
       "<Figure size 640x480 with 1 Axes>"
      ]
     },
     "metadata": {},
     "output_type": "display_data"
    }
   ],
   "source": [
    "sns.boxplot(x='Area Population', data = df)"
   ]
  },
  {
   "cell_type": "markdown",
   "metadata": {},
   "source": [
    "**Price**"
   ]
  },
  {
   "cell_type": "code",
   "execution_count": 15,
   "metadata": {
    "execution": {
     "iopub.execute_input": "2021-02-24T13:36:44.593662Z",
     "iopub.status.busy": "2021-02-24T13:36:44.592758Z",
     "iopub.status.idle": "2021-02-24T13:36:44.691863Z",
     "shell.execute_reply": "2021-02-24T13:36:44.691258Z"
    },
    "papermill": {
     "duration": 0.132173,
     "end_time": "2021-02-24T13:36:44.692003",
     "exception": false,
     "start_time": "2021-02-24T13:36:44.559830",
     "status": "completed"
    },
    "scrolled": true,
    "tags": []
   },
   "outputs": [
    {
     "data": {
      "text/plain": [
       "<AxesSubplot:xlabel='Price'>"
      ]
     },
     "execution_count": 15,
     "metadata": {},
     "output_type": "execute_result"
    },
    {
     "data": {
      "image/png": "[encoded data removed]",
      "text/plain": [
       "<Figure size 640x480 with 1 Axes>"
      ]
     },
     "metadata": {},
     "output_type": "display_data"
    }
   ],
   "source": [
    "sns.boxplot(x='Price', data = df)"
   ]
  },
  {
   "cell_type": "markdown",
   "metadata": {
    "papermill": {
     "duration": 0.030782,
     "end_time": "2021-02-24T13:36:44.753786",
     "exception": false,
     "start_time": "2021-02-24T13:36:44.723004",
     "status": "completed"
    },
    "tags": []
   },
   "source": [
    "We have outliers"
   ]
  },
  {
   "cell_type": "markdown",
   "metadata": {
    "papermill": {
     "duration": 0.030327,
     "end_time": "2021-02-24T13:36:44.815091",
     "exception": false,
     "start_time": "2021-02-24T13:36:44.784764",
     "status": "completed"
    },
    "tags": []
   },
   "source": [
    "### 5.C   Data Preprocessing\n",
    "Data preprocessing is an important step in the data mining process. The phrase \"garbage in, garbage out\" is particularly applicable to data mining and machine learning projects. Data-gathering methods are often loosely controlled, resulting in out-of-range values, impossible data combinations, and missing values, etc. "
   ]
  },
  {
   "cell_type": "code",
   "execution_count": 16,
   "metadata": {
    "execution": {
     "iopub.execute_input": "2021-02-24T13:36:44.887881Z",
     "iopub.status.busy": "2021-02-24T13:36:44.887022Z",
     "iopub.status.idle": "2021-02-24T13:36:44.894702Z",
     "shell.execute_reply": "2021-02-24T13:36:44.894173Z"
    },
    "papermill": {
     "duration": 0.049408,
     "end_time": "2021-02-24T13:36:44.894836",
     "exception": false,
     "start_time": "2021-02-24T13:36:44.845428",
     "status": "completed"
    },
    "scrolled": true,
    "tags": []
   },
   "outputs": [
    {
     "data": {
      "text/plain": [
       "Avg. Area Income                0\n",
       "Avg. Area House Age             0\n",
       "Avg. Area Number of Rooms       0\n",
       "Avg. Area Number of Bedrooms    0\n",
       "Area Population                 0\n",
       "Price                           0\n",
       "Address                         0\n",
       "dtype: int64"
      ]
     },
     "execution_count": 16,
     "metadata": {},
     "output_type": "execute_result"
    }
   ],
   "source": [
    "df.isnull().sum()"
   ]
  },
  {
   "cell_type": "code",
   "execution_count": 17,
   "metadata": {
    "execution": {
     "iopub.execute_input": "2021-02-24T13:36:44.990047Z",
     "iopub.status.busy": "2021-02-24T13:36:44.989070Z",
     "iopub.status.idle": "2021-02-24T13:36:45.021785Z",
     "shell.execute_reply": "2021-02-24T13:36:45.022248Z"
    },
    "papermill": {
     "duration": 0.084671,
     "end_time": "2021-02-24T13:36:45.022451",
     "exception": false,
     "start_time": "2021-02-24T13:36:44.937780",
     "status": "completed"
    },
    "tags": []
   },
   "outputs": [
    {
     "data": {
      "text/html": [
       "<div>\n",
       "<style scoped>\n",
       "    .dataframe tbody tr th:only-of-type {\n",
       "        vertical-align: middle;\n",
       "    }\n",
       "\n",
       "    .dataframe tbody tr th {\n",
       "        vertical-align: top;\n",
       "    }\n",
       "\n",
       "    .dataframe thead th {\n",
       "        text-align: right;\n",
       "    }\n",
       "</style>\n",
       "<table border=\"1\" class=\"dataframe\">\n",
       "  <thead>\n",
       "    <tr style=\"text-align: right;\">\n",
       "      <th></th>\n",
       "      <th>Avg. Area Income</th>\n",
       "      <th>Avg. Area House Age</th>\n",
       "      <th>Avg. Area Number of Rooms</th>\n",
       "      <th>Avg. Area Number of Bedrooms</th>\n",
       "      <th>Area Population</th>\n",
       "      <th>Price</th>\n",
       "    </tr>\n",
       "  </thead>\n",
       "  <tbody>\n",
       "    <tr>\n",
       "      <th>count</th>\n",
       "      <td>5000.000000</td>\n",
       "      <td>5000.000000</td>\n",
       "      <td>5000.000000</td>\n",
       "      <td>5000.000000</td>\n",
       "      <td>5000.000000</td>\n",
       "      <td>5.000000e+03</td>\n",
       "    </tr>\n",
       "    <tr>\n",
       "      <th>mean</th>\n",
       "      <td>68583.108984</td>\n",
       "      <td>5.977222</td>\n",
       "      <td>6.987792</td>\n",
       "      <td>3.981330</td>\n",
       "      <td>36163.516039</td>\n",
       "      <td>1.232073e+06</td>\n",
       "    </tr>\n",
       "    <tr>\n",
       "      <th>std</th>\n",
       "      <td>10657.991214</td>\n",
       "      <td>0.991456</td>\n",
       "      <td>1.005833</td>\n",
       "      <td>1.234137</td>\n",
       "      <td>9925.650114</td>\n",
       "      <td>3.531176e+05</td>\n",
       "    </tr>\n",
       "    <tr>\n",
       "      <th>min</th>\n",
       "      <td>17796.631190</td>\n",
       "      <td>2.644304</td>\n",
       "      <td>3.236194</td>\n",
       "      <td>2.000000</td>\n",
       "      <td>172.610686</td>\n",
       "      <td>1.593866e+04</td>\n",
       "    </tr>\n",
       "    <tr>\n",
       "      <th>25%</th>\n",
       "      <td>61480.562388</td>\n",
       "      <td>5.322283</td>\n",
       "      <td>6.299250</td>\n",
       "      <td>3.140000</td>\n",
       "      <td>29403.928702</td>\n",
       "      <td>9.975771e+05</td>\n",
       "    </tr>\n",
       "    <tr>\n",
       "      <th>50%</th>\n",
       "      <td>68804.286404</td>\n",
       "      <td>5.970429</td>\n",
       "      <td>7.002902</td>\n",
       "      <td>4.050000</td>\n",
       "      <td>36199.406689</td>\n",
       "      <td>1.232669e+06</td>\n",
       "    </tr>\n",
       "    <tr>\n",
       "      <th>75%</th>\n",
       "      <td>75783.338666</td>\n",
       "      <td>6.650808</td>\n",
       "      <td>7.665871</td>\n",
       "      <td>4.490000</td>\n",
       "      <td>42861.290769</td>\n",
       "      <td>1.471210e+06</td>\n",
       "    </tr>\n",
       "    <tr>\n",
       "      <th>max</th>\n",
       "      <td>107701.748378</td>\n",
       "      <td>9.519088</td>\n",
       "      <td>10.759588</td>\n",
       "      <td>6.500000</td>\n",
       "      <td>69621.713378</td>\n",
       "      <td>2.469066e+06</td>\n",
       "    </tr>\n",
       "  </tbody>\n",
       "</table>\n",
       "</div>"
      ],
      "text/plain": [
       "       Avg. Area Income  Avg. Area House Age  Avg. Area Number of Rooms  \\\n",
       "count       5000.000000          5000.000000                5000.000000   \n",
       "mean       68583.108984             5.977222                   6.987792   \n",
       "std        10657.991214             0.991456                   1.005833   \n",
       "min        17796.631190             2.644304                   3.236194   \n",
       "25%        61480.562388             5.322283                   6.299250   \n",
       "50%        68804.286404             5.970429                   7.002902   \n",
       "75%        75783.338666             6.650808                   7.665871   \n",
       "max       107701.748378             9.519088                  10.759588   \n",
       "\n",
       "       Avg. Area Number of Bedrooms  Area Population         Price  \n",
       "count                   5000.000000      5000.000000  5.000000e+03  \n",
       "mean                       3.981330     36163.516039  1.232073e+06  \n",
       "std                        1.234137      9925.650114  3.531176e+05  \n",
       "min                        2.000000       172.610686  1.593866e+04  \n",
       "25%                        3.140000     29403.928702  9.975771e+05  \n",
       "50%                        4.050000     36199.406689  1.232669e+06  \n",
       "75%                        4.490000     42861.290769  1.471210e+06  \n",
       "max                        6.500000     69621.713378  2.469066e+06  "
      ]
     },
     "execution_count": 17,
     "metadata": {},
     "output_type": "execute_result"
    }
   ],
   "source": [
    "df.describe()"
   ]
  },
  {
   "cell_type": "code",
   "execution_count": 18,
   "metadata": {
    "execution": {
     "iopub.execute_input": "2021-02-24T13:36:45.097644Z",
     "iopub.status.busy": "2021-02-24T13:36:45.096982Z",
     "iopub.status.idle": "2021-02-24T13:36:45.100480Z",
     "shell.execute_reply": "2021-02-24T13:36:45.100939Z"
    },
    "papermill": {
     "duration": 0.0471,
     "end_time": "2021-02-24T13:36:45.101105",
     "exception": false,
     "start_time": "2021-02-24T13:36:45.054005",
     "status": "completed"
    },
    "tags": []
   },
   "outputs": [
    {
     "data": {
      "text/html": [
       "<div>\n",
       "<style scoped>\n",
       "    .dataframe tbody tr th:only-of-type {\n",
       "        vertical-align: middle;\n",
       "    }\n",
       "\n",
       "    .dataframe tbody tr th {\n",
       "        vertical-align: top;\n",
       "    }\n",
       "\n",
       "    .dataframe thead th {\n",
       "        text-align: right;\n",
       "    }\n",
       "</style>\n",
       "<table border=\"1\" class=\"dataframe\">\n",
       "  <thead>\n",
       "    <tr style=\"text-align: right;\">\n",
       "      <th></th>\n",
       "      <th>Avg. Area Income</th>\n",
       "      <th>Avg. Area House Age</th>\n",
       "      <th>Avg. Area Number of Rooms</th>\n",
       "      <th>Avg. Area Number of Bedrooms</th>\n",
       "      <th>Area Population</th>\n",
       "      <th>Price</th>\n",
       "    </tr>\n",
       "  </thead>\n",
       "  <tbody>\n",
       "    <tr>\n",
       "      <th>0</th>\n",
       "      <td>79545.458574</td>\n",
       "      <td>5.682861</td>\n",
       "      <td>7.009188</td>\n",
       "      <td>4.09</td>\n",
       "      <td>23086.800503</td>\n",
       "      <td>1.059034e+06</td>\n",
       "    </tr>\n",
       "    <tr>\n",
       "      <th>1</th>\n",
       "      <td>79248.642455</td>\n",
       "      <td>6.002900</td>\n",
       "      <td>6.730821</td>\n",
       "      <td>3.09</td>\n",
       "      <td>40173.072174</td>\n",
       "      <td>1.505891e+06</td>\n",
       "    </tr>\n",
       "    <tr>\n",
       "      <th>2</th>\n",
       "      <td>61287.067179</td>\n",
       "      <td>5.865890</td>\n",
       "      <td>8.512727</td>\n",
       "      <td>5.13</td>\n",
       "      <td>36882.159400</td>\n",
       "      <td>1.058988e+06</td>\n",
       "    </tr>\n",
       "    <tr>\n",
       "      <th>3</th>\n",
       "      <td>63345.240046</td>\n",
       "      <td>7.188236</td>\n",
       "      <td>5.586729</td>\n",
       "      <td>3.26</td>\n",
       "      <td>34310.242831</td>\n",
       "      <td>1.260617e+06</td>\n",
       "    </tr>\n",
       "    <tr>\n",
       "      <th>4</th>\n",
       "      <td>59982.197226</td>\n",
       "      <td>5.040555</td>\n",
       "      <td>7.839388</td>\n",
       "      <td>4.23</td>\n",
       "      <td>26354.109472</td>\n",
       "      <td>6.309435e+05</td>\n",
       "    </tr>\n",
       "  </tbody>\n",
       "</table>\n",
       "</div>"
      ],
      "text/plain": [
       "   Avg. Area Income  Avg. Area House Age  Avg. Area Number of Rooms  \\\n",
       "0      79545.458574             5.682861                   7.009188   \n",
       "1      79248.642455             6.002900                   6.730821   \n",
       "2      61287.067179             5.865890                   8.512727   \n",
       "3      63345.240046             7.188236                   5.586729   \n",
       "4      59982.197226             5.040555                   7.839388   \n",
       "\n",
       "   Avg. Area Number of Bedrooms  Area Population         Price  \n",
       "0                          4.09     23086.800503  1.059034e+06  \n",
       "1                          3.09     40173.072174  1.505891e+06  \n",
       "2                          5.13     36882.159400  1.058988e+06  \n",
       "3                          3.26     34310.242831  1.260617e+06  \n",
       "4                          4.23     26354.109472  6.309435e+05  "
      ]
     },
     "execution_count": 18,
     "metadata": {},
     "output_type": "execute_result"
    }
   ],
   "source": [
    "df = df.drop('Address', axis = 1)\n",
    "df.head()"
   ]
  },
  {
   "cell_type": "code",
   "execution_count": 19,
   "metadata": {
    "execution": {
     "iopub.execute_input": "2021-02-24T13:36:45.192045Z",
     "iopub.status.busy": "2021-02-24T13:36:45.187618Z",
     "iopub.status.idle": "2021-02-24T13:36:45.613948Z",
     "shell.execute_reply": "2021-02-24T13:36:45.613412Z"
    },
    "papermill": {
     "duration": 0.480963,
     "end_time": "2021-02-24T13:36:45.614078",
     "exception": false,
     "start_time": "2021-02-24T13:36:45.133115",
     "status": "completed"
    },
    "tags": []
   },
   "outputs": [
    {
     "data": {
      "text/plain": [
       "<AxesSubplot:>"
      ]
     },
     "execution_count": 19,
     "metadata": {},
     "output_type": "execute_result"
    },
    {
     "data": {
      "image/png": "[encoded data removed]",
      "text/plain": [
       "<Figure size 1000x800 with 2 Axes>"
      ]
     },
     "metadata": {},
     "output_type": "display_data"
    }
   ],
   "source": [
    "f, ax = plt.subplots(figsize=(10,8))\n",
    "corr = df.corr()\n",
    "sns.heatmap(corr, annot=True, mask=np.zeros_like(corr, dtype=np.bool),\n",
    "           cmap = sns.diverging_palette(240, 10, as_cmap = True), \n",
    "           square = True, ax = ax)"
   ]
  },
  {
   "cell_type": "code",
   "execution_count": 20,
   "metadata": {
    "execution": {
     "iopub.execute_input": "2021-02-24T13:36:45.685812Z",
     "iopub.status.busy": "2021-02-24T13:36:45.685257Z",
     "iopub.status.idle": "2021-02-24T13:36:45.691234Z",
     "shell.execute_reply": "2021-02-24T13:36:45.691679Z"
    },
    "papermill": {
     "duration": 0.044352,
     "end_time": "2021-02-24T13:36:45.691859",
     "exception": false,
     "start_time": "2021-02-24T13:36:45.647507",
     "status": "completed"
    },
    "tags": []
   },
   "outputs": [
    {
     "data": {
      "text/plain": [
       "Avg. Area Number of Bedrooms    0.171071\n",
       "Avg. Area Number of Rooms       0.335664\n",
       "Area Population                 0.408556\n",
       "Avg. Area House Age             0.452543\n",
       "Avg. Area Income                0.639734\n",
       "Price                           1.000000\n",
       "Name: Price, dtype: float64"
      ]
     },
     "execution_count": 20,
     "metadata": {},
     "output_type": "execute_result"
    }
   ],
   "source": [
    "df.corr()['Price'].sort_values()"
   ]
  },
  {
   "cell_type": "code",
   "execution_count": 21,
   "metadata": {
    "execution": {
     "iopub.execute_input": "2021-02-24T13:36:45.768483Z",
     "iopub.status.busy": "2021-02-24T13:36:45.767532Z",
     "iopub.status.idle": "2021-02-24T13:36:45.773844Z",
     "shell.execute_reply": "2021-02-24T13:36:45.773399Z"
    },
    "papermill": {
     "duration": 0.04742,
     "end_time": "2021-02-24T13:36:45.773978",
     "exception": false,
     "start_time": "2021-02-24T13:36:45.726558",
     "status": "completed"
    },
    "tags": []
   },
   "outputs": [],
   "source": [
    "std = StandardScaler()\n",
    "df_std = std.fit_transform(df)\n",
    "df_std = pd.DataFrame(df_std, columns = df.columns)"
   ]
  },
  {
   "cell_type": "code",
   "execution_count": 22,
   "metadata": {
    "execution": {
     "iopub.execute_input": "2021-02-24T13:36:45.854362Z",
     "iopub.status.busy": "2021-02-24T13:36:45.853624Z",
     "iopub.status.idle": "2021-02-24T13:36:45.857711Z",
     "shell.execute_reply": "2021-02-24T13:36:45.857262Z"
    },
    "papermill": {
     "duration": 0.050339,
     "end_time": "2021-02-24T13:36:45.857853",
     "exception": false,
     "start_time": "2021-02-24T13:36:45.807514",
     "status": "completed"
    },
    "tags": []
   },
   "outputs": [
    {
     "data": {
      "text/html": [
       "<div>\n",
       "<style scoped>\n",
       "    .dataframe tbody tr th:only-of-type {\n",
       "        vertical-align: middle;\n",
       "    }\n",
       "\n",
       "    .dataframe tbody tr th {\n",
       "        vertical-align: top;\n",
       "    }\n",
       "\n",
       "    .dataframe thead th {\n",
       "        text-align: right;\n",
       "    }\n",
       "</style>\n",
       "<table border=\"1\" class=\"dataframe\">\n",
       "  <thead>\n",
       "    <tr style=\"text-align: right;\">\n",
       "      <th></th>\n",
       "      <th>Avg. Area Income</th>\n",
       "      <th>Avg. Area House Age</th>\n",
       "      <th>Avg. Area Number of Rooms</th>\n",
       "      <th>Avg. Area Number of Bedrooms</th>\n",
       "      <th>Area Population</th>\n",
       "      <th>Price</th>\n",
       "    </tr>\n",
       "  </thead>\n",
       "  <tbody>\n",
       "    <tr>\n",
       "      <th>0</th>\n",
       "      <td>1.028660</td>\n",
       "      <td>-0.296927</td>\n",
       "      <td>0.021274</td>\n",
       "      <td>0.088062</td>\n",
       "      <td>-1.317599</td>\n",
       "      <td>-0.490081</td>\n",
       "    </tr>\n",
       "    <tr>\n",
       "      <th>1</th>\n",
       "      <td>1.000808</td>\n",
       "      <td>0.025902</td>\n",
       "      <td>-0.255506</td>\n",
       "      <td>-0.722301</td>\n",
       "      <td>0.403999</td>\n",
       "      <td>0.775508</td>\n",
       "    </tr>\n",
       "    <tr>\n",
       "      <th>2</th>\n",
       "      <td>-0.684629</td>\n",
       "      <td>-0.112303</td>\n",
       "      <td>1.516243</td>\n",
       "      <td>0.930840</td>\n",
       "      <td>0.072410</td>\n",
       "      <td>-0.490211</td>\n",
       "    </tr>\n",
       "    <tr>\n",
       "      <th>3</th>\n",
       "      <td>-0.491499</td>\n",
       "      <td>1.221572</td>\n",
       "      <td>-1.393077</td>\n",
       "      <td>-0.584540</td>\n",
       "      <td>-0.186734</td>\n",
       "      <td>0.080843</td>\n",
       "    </tr>\n",
       "    <tr>\n",
       "      <th>4</th>\n",
       "      <td>-0.807073</td>\n",
       "      <td>-0.944834</td>\n",
       "      <td>0.846742</td>\n",
       "      <td>0.201513</td>\n",
       "      <td>-0.988387</td>\n",
       "      <td>-1.702518</td>\n",
       "    </tr>\n",
       "  </tbody>\n",
       "</table>\n",
       "</div>"
      ],
      "text/plain": [
       "   Avg. Area Income  Avg. Area House Age  Avg. Area Number of Rooms  \\\n",
       "0          1.028660            -0.296927                   0.021274   \n",
       "1          1.000808             0.025902                  -0.255506   \n",
       "2         -0.684629            -0.112303                   1.516243   \n",
       "3         -0.491499             1.221572                  -1.393077   \n",
       "4         -0.807073            -0.944834                   0.846742   \n",
       "\n",
       "   Avg. Area Number of Bedrooms  Area Population     Price  \n",
       "0                      0.088062        -1.317599 -0.490081  \n",
       "1                     -0.722301         0.403999  0.775508  \n",
       "2                      0.930840         0.072410 -0.490211  \n",
       "3                     -0.584540        -0.186734  0.080843  \n",
       "4                      0.201513        -0.988387 -1.702518  "
      ]
     },
     "execution_count": 22,
     "metadata": {},
     "output_type": "execute_result"
    }
   ],
   "source": [
    "df_std.head()"
   ]
  },
  {
   "cell_type": "markdown",
   "metadata": {
    "papermill": {
     "duration": 0.034533,
     "end_time": "2021-02-24T13:36:45.926660",
     "exception": false,
     "start_time": "2021-02-24T13:36:45.892127",
     "status": "completed"
    },
    "tags": []
   },
   "source": [
    "## 6   Build Regression Models"
   ]
  },
  {
   "cell_type": "code",
   "execution_count": 23,
   "metadata": {
    "execution": {
     "iopub.execute_input": "2021-02-24T13:36:46.001451Z",
     "iopub.status.busy": "2021-02-24T13:36:46.000836Z",
     "iopub.status.idle": "2021-02-24T13:36:46.003861Z",
     "shell.execute_reply": "2021-02-24T13:36:46.003395Z"
    },
    "papermill": {
     "duration": 0.043205,
     "end_time": "2021-02-24T13:36:46.003989",
     "exception": false,
     "start_time": "2021-02-24T13:36:45.960784",
     "status": "completed"
    },
    "tags": []
   },
   "outputs": [],
   "source": [
    "X = df.drop('Price', axis = 1)\n",
    "y = df.Price"
   ]
  },
  {
   "cell_type": "code",
   "execution_count": 24,
   "metadata": {
    "execution": {
     "iopub.execute_input": "2021-02-24T13:36:46.078851Z",
     "iopub.status.busy": "2021-02-24T13:36:46.078050Z",
     "iopub.status.idle": "2021-02-24T13:36:46.084009Z",
     "shell.execute_reply": "2021-02-24T13:36:46.083423Z"
    },
    "papermill": {
     "duration": 0.045839,
     "end_time": "2021-02-24T13:36:46.084170",
     "exception": false,
     "start_time": "2021-02-24T13:36:46.038331",
     "status": "completed"
    },
    "tags": []
   },
   "outputs": [
    {
     "name": "stdout",
     "output_type": "stream",
     "text": [
      "(4000, 5)\n",
      "(1000, 5)\n",
      "(4000,)\n",
      "(1000,)\n"
     ]
    }
   ],
   "source": [
    "X_train, X_test, y_train, y_test = train_test_split(X,y, test_size = 0.2, random_state = 42)\n",
    "print(X_train.shape)\n",
    "print(X_test.shape)\n",
    "print(y_train.shape)\n",
    "print(y_test.shape)"
   ]
  },
  {
   "cell_type": "code",
   "execution_count": 25,
   "metadata": {
    "execution": {
     "iopub.execute_input": "2021-02-24T13:36:46.164585Z",
     "iopub.status.busy": "2021-02-24T13:36:46.163962Z",
     "iopub.status.idle": "2021-02-24T13:36:46.181723Z",
     "shell.execute_reply": "2021-02-24T13:36:46.182394Z"
    },
    "papermill": {
     "duration": 0.063488,
     "end_time": "2021-02-24T13:36:46.182624",
     "exception": false,
     "start_time": "2021-02-24T13:36:46.119136",
     "status": "completed"
    },
    "tags": []
   },
   "outputs": [
    {
     "name": "stdout",
     "output_type": "stream",
     "text": [
      "                                 OLS Regression Results                                \n",
      "=======================================================================================\n",
      "Dep. Variable:                  Price   R-squared (uncentered):                   0.964\n",
      "Model:                            OLS   Adj. R-squared (uncentered):              0.964\n",
      "Method:                 Least Squares   F-statistic:                          2.150e+04\n",
      "Date:                Sat, 16 Dec 2023   Prob (F-statistic):                        0.00\n",
      "Time:                        10:26:30   Log-Likelihood:                         -55265.\n",
      "No. Observations:                4000   AIC:                                  1.105e+05\n",
      "Df Residuals:                    3995   BIC:                                  1.106e+05\n",
      "Df Model:                           5                                                  \n",
      "Covariance Type:            nonrobust                                                  \n",
      "================================================================================================\n",
      "                                   coef    std err          t      P>|t|      [0.025      0.975]\n",
      "------------------------------------------------------------------------------------------------\n",
      "Avg. Area Income                10.3689      0.300     34.618      0.000       9.782      10.956\n",
      "Avg. Area House Age           5.016e+04   3302.563     15.190      0.000    4.37e+04    5.66e+04\n",
      "Avg. Area Number of Rooms    -1.093e+04   3638.102     -3.004      0.003   -1.81e+04   -3795.389\n",
      "Avg. Area Number of Bedrooms  5449.1071   3531.723      1.543      0.123   -1475.041    1.24e+04\n",
      "Area Population                  8.0800      0.364     22.225      0.000       7.367       8.793\n",
      "==============================================================================\n",
      "Omnibus:                        1.870   Durbin-Watson:                   2.004\n",
      "Prob(Omnibus):                  0.393   Jarque-Bera (JB):                1.860\n",
      "Skew:                          -0.025   Prob(JB):                        0.395\n",
      "Kurtosis:                       2.907   Cond. No.                     9.31e+04\n",
      "==============================================================================\n",
      "\n",
      "Notes:\n",
      "[1] R² is computed without centering (uncentered) since the model does not contain a constant.\n",
      "[2] Standard Errors assume that the covariance matrix of the errors is correctly specified.\n",
      "[3] The condition number is large, 9.31e+04. This might indicate that there are\n",
      "strong multicollinearity or other numerical problems.\n"
     ]
    }
   ],
   "source": [
    "regressor = sm.OLS(y_train, X_train).fit()\n",
    "print(regressor.summary())\n",
    "\n",
    "X_train_dropped = X_train.copy()"
   ]
  },
  {
   "cell_type": "markdown",
   "metadata": {
    "papermill": {
     "duration": 0.034939,
     "end_time": "2021-02-24T13:36:46.253437",
     "exception": false,
     "start_time": "2021-02-24T13:36:46.218498",
     "status": "completed"
    },
    "tags": []
   },
   "source": [
    "**The function removes features with high p-value**"
   ]
  },
  {
   "cell_type": "code",
   "execution_count": 26,
   "metadata": {
    "execution": {
     "iopub.execute_input": "2021-02-24T13:36:46.334890Z",
     "iopub.status.busy": "2021-02-24T13:36:46.333965Z",
     "iopub.status.idle": "2021-02-24T13:36:46.342322Z",
     "shell.execute_reply": "2021-02-24T13:36:46.343034Z"
    },
    "papermill": {
     "duration": 0.054614,
     "end_time": "2021-02-24T13:36:46.343646",
     "exception": false,
     "start_time": "2021-02-24T13:36:46.289032",
     "status": "completed"
    },
    "tags": []
   },
   "outputs": [
    {
     "name": "stdout",
     "output_type": "stream",
     "text": [
      "Dropping Avg. Area Number of Bedrooms and running regression again because pvalue is: 0.12293348245949313\n",
      "All p values less than 0.05\n"
     ]
    }
   ],
   "source": [
    "while True:\n",
    "    if max(regressor.pvalues) > 0.05:\n",
    "        drop_variable = regressor.pvalues[regressor.pvalues == max(regressor.pvalues)]\n",
    "        print(\"Dropping \" + drop_variable.index[0] + \" and running regression again because pvalue is: \" + str(drop_variable[0]))\n",
    "        X_train_dropped = X_train_dropped.drop(columns = [drop_variable.index[0]])\n",
    "        regressor = sm.OLS(y_train, X_train_dropped).fit()\n",
    "    else:\n",
    "        print(\"All p values less than 0.05\")\n",
    "        break\n"
   ]
  },
  {
   "cell_type": "markdown",
   "metadata": {},
   "source": [
    "**Summary report for the model fitting and creation**"
   ]
  },
  {
   "cell_type": "code",
   "execution_count": 27,
   "metadata": {
    "execution": {
     "iopub.execute_input": "2021-02-24T13:36:46.421908Z",
     "iopub.status.busy": "2021-02-24T13:36:46.420925Z",
     "iopub.status.idle": "2021-02-24T13:36:46.432957Z",
     "shell.execute_reply": "2021-02-24T13:36:46.432497Z"
    },
    "papermill": {
     "duration": 0.052922,
     "end_time": "2021-02-24T13:36:46.433096",
     "exception": false,
     "start_time": "2021-02-24T13:36:46.380174",
     "status": "completed"
    },
    "tags": []
   },
   "outputs": [
    {
     "name": "stdout",
     "output_type": "stream",
     "text": [
      "                                 OLS Regression Results                                \n",
      "=======================================================================================\n",
      "Dep. Variable:                  Price   R-squared (uncentered):                   0.964\n",
      "Model:                            OLS   Adj. R-squared (uncentered):              0.964\n",
      "Method:                 Least Squares   F-statistic:                          2.687e+04\n",
      "Date:                Sat, 16 Dec 2023   Prob (F-statistic):                        0.00\n",
      "Time:                        10:26:30   Log-Likelihood:                         -55266.\n",
      "No. Observations:                4000   AIC:                                  1.105e+05\n",
      "Df Residuals:                    3996   BIC:                                  1.106e+05\n",
      "Df Model:                           4                                                  \n",
      "Covariance Type:            nonrobust                                                  \n",
      "=============================================================================================\n",
      "                                coef    std err          t      P>|t|      [0.025      0.975]\n",
      "---------------------------------------------------------------------------------------------\n",
      "Avg. Area Income             10.3813      0.299     34.666      0.000       9.794      10.968\n",
      "Avg. Area House Age         5.02e+04   3303.060     15.198      0.000    4.37e+04    5.67e+04\n",
      "Avg. Area Number of Rooms -7898.3185   3063.161     -2.578      0.010   -1.39e+04   -1892.814\n",
      "Area Population               8.0664      0.364     22.190      0.000       7.354       8.779\n",
      "==============================================================================\n",
      "Omnibus:                        2.260   Durbin-Watson:                   2.001\n",
      "Prob(Omnibus):                  0.323   Jarque-Bera (JB):                2.214\n",
      "Skew:                          -0.027   Prob(JB):                        0.331\n",
      "Kurtosis:                       2.898   Cond. No.                     7.77e+04\n",
      "==============================================================================\n",
      "\n",
      "Notes:\n",
      "[1] R² is computed without centering (uncentered) since the model does not contain a constant.\n",
      "[2] Standard Errors assume that the covariance matrix of the errors is correctly specified.\n",
      "[3] The condition number is large, 7.77e+04. This might indicate that there are\n",
      "strong multicollinearity or other numerical problems.\n"
     ]
    }
   ],
   "source": [
    "print(regressor.summary())\n"
   ]
  },
  {
   "cell_type": "markdown",
   "metadata": {
    "papermill": {
     "duration": 0.035859,
     "end_time": "2021-02-24T13:36:46.505289",
     "exception": false,
     "start_time": "2021-02-24T13:36:46.469430",
     "status": "completed"
    },
    "tags": []
   },
   "source": [
    "### SelectKBest\n",
    "SelectKBest then simply retains the first k features of X with the highest scores. So, for example, if you pass chi2 as a score function, SelectKBest will compute the chi2 statistic between each feature of X and y (assumed to be class labels). A small value will mean the feature is independent of y."
   ]
  },
  {
   "cell_type": "code",
   "execution_count": 28,
   "metadata": {
    "execution": {
     "iopub.execute_input": "2021-02-24T13:36:46.581293Z",
     "iopub.status.busy": "2021-02-24T13:36:46.580723Z",
     "iopub.status.idle": "2021-02-24T13:36:46.782273Z",
     "shell.execute_reply": "2021-02-24T13:36:46.781641Z"
    },
    "papermill": {
     "duration": 0.24046,
     "end_time": "2021-02-24T13:36:46.782412",
     "exception": false,
     "start_time": "2021-02-24T13:36:46.541952",
     "status": "completed"
    },
    "tags": []
   },
   "outputs": [
    {
     "data": {
      "text/plain": [
       "<AxesSubplot:>"
      ]
     },
     "execution_count": 28,
     "metadata": {},
     "output_type": "execute_result"
    },
    {
     "data": {
      "image/png": "[encoded data removed]",
      "text/plain": [
       "<Figure size 640x480 with 1 Axes>"
      ]
     },
     "metadata": {},
     "output_type": "display_data"
    }
   ],
   "source": [
    "column_names = df.drop(columns = ['Price']).columns\n",
    "\n",
    "no_of_features = []\n",
    "r_squared_train = []\n",
    "r_squared_test = []\n",
    "\n",
    "#Look at shape\n",
    "for k in range(1, 5):\n",
    "    selector = SelectKBest(f_regression, k = k)\n",
    "    X_train_transformed = selector.fit_transform(X_train, y_train)\n",
    "    X_test_transformed = selector.transform(X_test)\n",
    "    regressor = LinearRegression()\n",
    "    regressor.fit(X_train_transformed, y_train)\n",
    "    no_of_features.append(k)\n",
    "    r_squared_train.append(regressor.score(X_train_transformed, y_train))\n",
    "    r_squared_test.append(regressor.score(X_test_transformed, y_test))\n",
    "    \n",
    "sns.lineplot(x = no_of_features, y = r_squared_train, legend = 'full')\n",
    "sns.lineplot(x = no_of_features, y = r_squared_test, legend = 'full')"
   ]
  },
  {
   "cell_type": "code",
   "execution_count": 29,
   "metadata": {
    "execution": {
     "iopub.execute_input": "2021-02-24T13:36:46.863585Z",
     "iopub.status.busy": "2021-02-24T13:36:46.862917Z",
     "iopub.status.idle": "2021-02-24T13:36:46.875638Z",
     "shell.execute_reply": "2021-02-24T13:36:46.874886Z"
    },
    "papermill": {
     "duration": 0.056058,
     "end_time": "2021-02-24T13:36:46.875806",
     "exception": false,
     "start_time": "2021-02-24T13:36:46.819748",
     "status": "completed"
    },
    "tags": []
   },
   "outputs": [
    {
     "data": {
      "text/plain": [
       "Index(['Avg. Area Income', 'Avg. Area House Age', 'Avg. Area Number of Rooms',\n",
       "       'Area Population'],\n",
       "      dtype='object')"
      ]
     },
     "execution_count": 29,
     "metadata": {},
     "output_type": "execute_result"
    }
   ],
   "source": [
    "# k = 4 because look at orange line\n",
    "selector = SelectKBest(f_regression, k = 4)\n",
    "X_train_transformed = selector.fit_transform(X_train, y_train)\n",
    "X_test_transformed = selector.transform(X_test)\n",
    "column_names[selector.get_support()]\n"
   ]
  },
  {
   "cell_type": "code",
   "execution_count": 30,
   "metadata": {
    "execution": {
     "iopub.execute_input": "2021-02-24T13:36:46.957965Z",
     "iopub.status.busy": "2021-02-24T13:36:46.957402Z",
     "iopub.status.idle": "2021-02-24T13:36:46.960356Z",
     "shell.execute_reply": "2021-02-24T13:36:46.959816Z"
    },
    "papermill": {
     "duration": 0.045036,
     "end_time": "2021-02-24T13:36:46.960503",
     "exception": false,
     "start_time": "2021-02-24T13:36:46.915467",
     "status": "completed"
    },
    "tags": []
   },
   "outputs": [],
   "source": [
    "def regression_model(model):\n",
    "    \"\"\"\n",
    "    Will fit the regression model passed and will return the regressor object and the score\n",
    "    \"\"\"\n",
    "    regressor = model\n",
    "    regressor.fit(X_train_transformed, y_train)\n",
    "    score = regressor.score(X_test_transformed, y_test)\n",
    "    return regressor, score"
   ]
  },
  {
   "cell_type": "markdown",
   "metadata": {},
   "source": [
    "###  7.     Model performance evaluation using the Accuracy Scores"
   ]
  },
  {
   "cell_type": "code",
   "execution_count": 31,
   "metadata": {
    "execution": {
     "iopub.execute_input": "2021-02-24T13:36:47.040450Z",
     "iopub.status.busy": "2021-02-24T13:36:47.039673Z",
     "iopub.status.idle": "2021-02-24T13:36:53.034350Z",
     "shell.execute_reply": "2021-02-24T13:36:53.033795Z"
    },
    "papermill": {
     "duration": 6.035251,
     "end_time": "2021-02-24T13:36:53.034491",
     "exception": false,
     "start_time": "2021-02-24T13:36:46.999240",
     "status": "completed"
    },
    "tags": []
   },
   "outputs": [
    {
     "data": {
      "text/html": [
       "<div>\n",
       "<style scoped>\n",
       "    .dataframe tbody tr th:only-of-type {\n",
       "        vertical-align: middle;\n",
       "    }\n",
       "\n",
       "    .dataframe tbody tr th {\n",
       "        vertical-align: top;\n",
       "    }\n",
       "\n",
       "    .dataframe thead th {\n",
       "        text-align: right;\n",
       "    }\n",
       "</style>\n",
       "<table border=\"1\" class=\"dataframe\">\n",
       "  <thead>\n",
       "    <tr style=\"text-align: right;\">\n",
       "      <th></th>\n",
       "      <th>Features</th>\n",
       "      <th>Model</th>\n",
       "      <th>Score</th>\n",
       "    </tr>\n",
       "  </thead>\n",
       "  <tbody>\n",
       "    <tr>\n",
       "      <th>0</th>\n",
       "      <td>Linear</td>\n",
       "      <td>LinearRegression()</td>\n",
       "      <td>0.92</td>\n",
       "    </tr>\n",
       "    <tr>\n",
       "      <th>1</th>\n",
       "      <td>Linear</td>\n",
       "      <td>Ridge()</td>\n",
       "      <td>0.92</td>\n",
       "    </tr>\n",
       "    <tr>\n",
       "      <th>2</th>\n",
       "      <td>Linear</td>\n",
       "      <td>Lasso()</td>\n",
       "      <td>0.92</td>\n",
       "    </tr>\n",
       "    <tr>\n",
       "      <th>7</th>\n",
       "      <td>Linear</td>\n",
       "      <td>([DecisionTreeRegressor(criterion='friedman_ms...</td>\n",
       "      <td>0.90</td>\n",
       "    </tr>\n",
       "    <tr>\n",
       "      <th>4</th>\n",
       "      <td>Linear</td>\n",
       "      <td>(DecisionTreeRegressor(max_features='auto', ra...</td>\n",
       "      <td>0.89</td>\n",
       "    </tr>\n",
       "    <tr>\n",
       "      <th>6</th>\n",
       "      <td>Linear</td>\n",
       "      <td>XGBRegressor(base_score=None, booster=None, ca...</td>\n",
       "      <td>0.88</td>\n",
       "    </tr>\n",
       "    <tr>\n",
       "      <th>5</th>\n",
       "      <td>Linear</td>\n",
       "      <td>MLPRegressor()</td>\n",
       "      <td>0.49</td>\n",
       "    </tr>\n",
       "    <tr>\n",
       "      <th>3</th>\n",
       "      <td>Linear</td>\n",
       "      <td>SVR()</td>\n",
       "      <td>-0.00</td>\n",
       "    </tr>\n",
       "  </tbody>\n",
       "</table>\n",
       "</div>"
      ],
      "text/plain": [
       "  Features                                              Model  Score\n",
       "0   Linear                                 LinearRegression()   0.92\n",
       "1   Linear                                            Ridge()   0.92\n",
       "2   Linear                                            Lasso()   0.92\n",
       "7   Linear  ([DecisionTreeRegressor(criterion='friedman_ms...   0.90\n",
       "4   Linear  (DecisionTreeRegressor(max_features='auto', ra...   0.89\n",
       "6   Linear  XGBRegressor(base_score=None, booster=None, ca...   0.88\n",
       "5   Linear                                     MLPRegressor()   0.49\n",
       "3   Linear                                              SVR()  -0.00"
      ]
     },
     "execution_count": 31,
     "metadata": {},
     "output_type": "execute_result"
    }
   ],
   "source": [
    "model_performance = pd.DataFrame(columns = [\"Features\", \"Model\", \"Score\"])\n",
    "\n",
    "models_to_evaluate = [LinearRegression(), Ridge(), Lasso(), SVR(), RandomForestRegressor(), MLPRegressor(), XGBRegressor(), GradientBoostingRegressor()]\n",
    "\n",
    "for model in models_to_evaluate:\n",
    "    regressor, score = regression_model(model)\n",
    "    model_performance = model_performance.append({\"Features\": \"Linear\",\"Model\": model, \"Score\": round(score, 2)}, ignore_index=True)\n",
    "\n",
    "model_performance.sort_values(by = 'Score', ascending = False)"
   ]
  },
  {
   "cell_type": "markdown",
   "metadata": {},
   "source": [
    "**Deploying the polynomial features as well**"
   ]
  },
  {
   "cell_type": "code",
   "execution_count": 32,
   "metadata": {
    "execution": {
     "iopub.execute_input": "2021-02-24T13:36:53.122714Z",
     "iopub.status.busy": "2021-02-24T13:36:53.122089Z",
     "iopub.status.idle": "2021-02-24T13:36:53.397521Z",
     "shell.execute_reply": "2021-02-24T13:36:53.397023Z"
    },
    "papermill": {
     "duration": 0.323917,
     "end_time": "2021-02-24T13:36:53.397665",
     "exception": false,
     "start_time": "2021-02-24T13:36:53.073748",
     "status": "completed"
    },
    "tags": []
   },
   "outputs": [
    {
     "name": "stdout",
     "output_type": "stream",
     "text": [
      "(4000, 21)\n"
     ]
    },
    {
     "data": {
      "text/plain": [
       "<AxesSubplot:>"
      ]
     },
     "execution_count": 32,
     "metadata": {},
     "output_type": "execute_result"
    },
    {
     "data": {
      "image/png": "[encoded data removed]",
      "text/plain": [
       "<Figure size 640x480 with 1 Axes>"
      ]
     },
     "metadata": {},
     "output_type": "display_data"
    }
   ],
   "source": [
    "poly = PolynomialFeatures()\n",
    "X_train_transformed_poly = poly.fit_transform(X_train)\n",
    "X_test_transformed_poly = poly.transform(X_test)\n",
    "\n",
    "print(X_train_transformed_poly.shape)\n",
    "\n",
    "no_of_features = []\n",
    "r_squared = []\n",
    "\n",
    "for k in range(3, 21):\n",
    "    selector = SelectKBest(f_regression, k = k)\n",
    "    X_train_transformed = selector.fit_transform(X_train_transformed_poly, y_train)\n",
    "    regressor = LinearRegression()\n",
    "    regressor.fit(X_train_transformed, y_train)\n",
    "    no_of_features.append(k)\n",
    "    r_squared.append(regressor.score(X_train_transformed, y_train))\n",
    "    \n",
    "sns.lineplot(x = no_of_features, y = r_squared)"
   ]
  },
  {
   "cell_type": "code",
   "execution_count": 33,
   "metadata": {
    "execution": {
     "iopub.execute_input": "2021-02-24T13:36:53.482526Z",
     "iopub.status.busy": "2021-02-24T13:36:53.481623Z",
     "iopub.status.idle": "2021-02-24T13:36:53.486634Z",
     "shell.execute_reply": "2021-02-24T13:36:53.487058Z"
    },
    "papermill": {
     "duration": 0.049788,
     "end_time": "2021-02-24T13:36:53.487248",
     "exception": false,
     "start_time": "2021-02-24T13:36:53.437460",
     "status": "completed"
    },
    "tags": []
   },
   "outputs": [],
   "source": [
    "selector = SelectKBest(f_regression, k = 16)\n",
    "X_train_transformed = selector.fit_transform(X_train_transformed_poly, y_train)\n",
    "X_test_transformed = selector.transform(X_test_transformed_poly)"
   ]
  },
  {
   "cell_type": "markdown",
   "metadata": {},
   "source": [
    "### Compare Linear and Polynomial Features \n",
    "\n"
   ]
  },
  {
   "cell_type": "code",
   "execution_count": 34,
   "metadata": {
    "execution": {
     "iopub.execute_input": "2021-02-24T13:36:53.572101Z",
     "iopub.status.busy": "2021-02-24T13:36:53.571509Z",
     "iopub.status.idle": "2021-02-24T13:37:06.728337Z",
     "shell.execute_reply": "2021-02-24T13:37:06.727780Z"
    },
    "papermill": {
     "duration": 13.202142,
     "end_time": "2021-02-24T13:37:06.728539",
     "exception": false,
     "start_time": "2021-02-24T13:36:53.526397",
     "status": "completed"
    },
    "scrolled": false,
    "tags": []
   },
   "outputs": [
    {
     "data": {
      "text/html": [
       "<div>\n",
       "<style scoped>\n",
       "    .dataframe tbody tr th:only-of-type {\n",
       "        vertical-align: middle;\n",
       "    }\n",
       "\n",
       "    .dataframe tbody tr th {\n",
       "        vertical-align: top;\n",
       "    }\n",
       "\n",
       "    .dataframe thead th {\n",
       "        text-align: right;\n",
       "    }\n",
       "</style>\n",
       "<table border=\"1\" class=\"dataframe\">\n",
       "  <thead>\n",
       "    <tr style=\"text-align: right;\">\n",
       "      <th></th>\n",
       "      <th>Features</th>\n",
       "      <th>Model</th>\n",
       "      <th>Score</th>\n",
       "    </tr>\n",
       "  </thead>\n",
       "  <tbody>\n",
       "    <tr>\n",
       "      <th>0</th>\n",
       "      <td>Linear</td>\n",
       "      <td>LinearRegression()</td>\n",
       "      <td>0.92</td>\n",
       "    </tr>\n",
       "    <tr>\n",
       "      <th>1</th>\n",
       "      <td>Linear</td>\n",
       "      <td>Ridge()</td>\n",
       "      <td>0.92</td>\n",
       "    </tr>\n",
       "    <tr>\n",
       "      <th>2</th>\n",
       "      <td>Linear</td>\n",
       "      <td>Lasso()</td>\n",
       "      <td>0.92</td>\n",
       "    </tr>\n",
       "    <tr>\n",
       "      <th>8</th>\n",
       "      <td>Polynomial</td>\n",
       "      <td>LinearRegression()</td>\n",
       "      <td>0.92</td>\n",
       "    </tr>\n",
       "    <tr>\n",
       "      <th>9</th>\n",
       "      <td>Polynomial</td>\n",
       "      <td>Ridge()</td>\n",
       "      <td>0.92</td>\n",
       "    </tr>\n",
       "    <tr>\n",
       "      <th>10</th>\n",
       "      <td>Polynomial</td>\n",
       "      <td>Lasso()</td>\n",
       "      <td>0.92</td>\n",
       "    </tr>\n",
       "    <tr>\n",
       "      <th>15</th>\n",
       "      <td>Polynomial</td>\n",
       "      <td>([DecisionTreeRegressor(criterion='friedman_ms...</td>\n",
       "      <td>0.91</td>\n",
       "    </tr>\n",
       "    <tr>\n",
       "      <th>7</th>\n",
       "      <td>Linear</td>\n",
       "      <td>([DecisionTreeRegressor(criterion='friedman_ms...</td>\n",
       "      <td>0.90</td>\n",
       "    </tr>\n",
       "    <tr>\n",
       "      <th>12</th>\n",
       "      <td>Polynomial</td>\n",
       "      <td>(DecisionTreeRegressor(max_features='auto', ra...</td>\n",
       "      <td>0.90</td>\n",
       "    </tr>\n",
       "    <tr>\n",
       "      <th>4</th>\n",
       "      <td>Linear</td>\n",
       "      <td>(DecisionTreeRegressor(max_features='auto', ra...</td>\n",
       "      <td>0.89</td>\n",
       "    </tr>\n",
       "    <tr>\n",
       "      <th>14</th>\n",
       "      <td>Polynomial</td>\n",
       "      <td>XGBRegressor(base_score=None, booster=None, ca...</td>\n",
       "      <td>0.89</td>\n",
       "    </tr>\n",
       "    <tr>\n",
       "      <th>6</th>\n",
       "      <td>Linear</td>\n",
       "      <td>XGBRegressor(base_score=None, booster=None, ca...</td>\n",
       "      <td>0.88</td>\n",
       "    </tr>\n",
       "    <tr>\n",
       "      <th>5</th>\n",
       "      <td>Linear</td>\n",
       "      <td>MLPRegressor()</td>\n",
       "      <td>0.49</td>\n",
       "    </tr>\n",
       "    <tr>\n",
       "      <th>3</th>\n",
       "      <td>Linear</td>\n",
       "      <td>SVR()</td>\n",
       "      <td>-0.00</td>\n",
       "    </tr>\n",
       "    <tr>\n",
       "      <th>11</th>\n",
       "      <td>Polynomial</td>\n",
       "      <td>SVR()</td>\n",
       "      <td>-0.00</td>\n",
       "    </tr>\n",
       "    <tr>\n",
       "      <th>13</th>\n",
       "      <td>Polynomial</td>\n",
       "      <td>MLPRegressor()</td>\n",
       "      <td>-3.78</td>\n",
       "    </tr>\n",
       "  </tbody>\n",
       "</table>\n",
       "</div>"
      ],
      "text/plain": [
       "      Features                                              Model  Score\n",
       "0       Linear                                 LinearRegression()   0.92\n",
       "1       Linear                                            Ridge()   0.92\n",
       "2       Linear                                            Lasso()   0.92\n",
       "8   Polynomial                                 LinearRegression()   0.92\n",
       "9   Polynomial                                            Ridge()   0.92\n",
       "10  Polynomial                                            Lasso()   0.92\n",
       "15  Polynomial  ([DecisionTreeRegressor(criterion='friedman_ms...   0.91\n",
       "7       Linear  ([DecisionTreeRegressor(criterion='friedman_ms...   0.90\n",
       "12  Polynomial  (DecisionTreeRegressor(max_features='auto', ra...   0.90\n",
       "4       Linear  (DecisionTreeRegressor(max_features='auto', ra...   0.89\n",
       "14  Polynomial  XGBRegressor(base_score=None, booster=None, ca...   0.89\n",
       "6       Linear  XGBRegressor(base_score=None, booster=None, ca...   0.88\n",
       "5       Linear                                     MLPRegressor()   0.49\n",
       "3       Linear                                              SVR()  -0.00\n",
       "11  Polynomial                                              SVR()  -0.00\n",
       "13  Polynomial                                     MLPRegressor()  -3.78"
      ]
     },
     "execution_count": 34,
     "metadata": {},
     "output_type": "execute_result"
    }
   ],
   "source": [
    "models = [LinearRegression(), Ridge(), Lasso(), SVR(), RandomForestRegressor(), MLPRegressor(), XGBRegressor(), GradientBoostingRegressor()]\n",
    "\n",
    "for model in models:\n",
    "    regressor, score = regression_model(model)\n",
    "    model_performance = model_performance.append({\"Features\": \"Polynomial\",\"Model\": model, \"Score\": round(score, 2)}, ignore_index=True)\n",
    "\n",
    "model_performance.sort_values(by = 'Score', ascending = False)\n"
   ]
  },
  {
   "cell_type": "markdown",
   "metadata": {},
   "source": [
    "*******************"
   ]
  }
 ],
 "metadata": {
  "kernelspec": {
   "display_name": "Python 3 (ipykernel)",
   "language": "python",
   "name": "python3"
  },
  "language_info": {
   "codemirror_mode": {
    "name": "ipython",
    "version": 3
   },
   "file_extension": ".py",
   "mimetype": "text/x-python",
   "name": "python",
   "nbconvert_exporter": "python",
   "pygments_lexer": "ipython3",
   "version": "3.9.13"
  },
  "papermill": {
   "default_parameters": {},
   "duration": 33.337674,
   "end_time": "2021-02-24T13:37:07.559242",
   "environment_variables": {},
   "exception": null,
   "input_path": "__notebook__.ipynb",
   "output_path": "__notebook__.ipynb",
   "parameters": {},
   "start_time": "2021-02-24T13:36:34.221568",
   "version": "2.2.2"
  }
 },
 "nbformat": 4,
 "nbformat_minor": 4
}
