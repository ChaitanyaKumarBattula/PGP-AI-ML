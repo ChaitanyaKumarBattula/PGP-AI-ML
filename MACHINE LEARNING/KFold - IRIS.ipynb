{
 "cells": [
  {
   "cell_type": "markdown",
   "metadata": {},
   "source": [
    "# COURSE:   PGP [AI&ML]\n",
    "\n",
    "## Learner :  Chaitanya Kumar Battula\n",
    "## Module  : Machine Learning\n",
    "## Topic   : KFOLD - IRIS"
   ]
  },
  {
   "cell_type": "code",
   "execution_count": 1,
   "metadata": {},
   "outputs": [],
   "source": [
    "from sklearn.datasets import load_iris"
   ]
  },
  {
   "cell_type": "code",
   "execution_count": 2,
   "metadata": {},
   "outputs": [],
   "source": [
    "iris_data = load_iris()"
   ]
  },
  {
   "cell_type": "code",
   "execution_count": 6,
   "metadata": {},
   "outputs": [],
   "source": [
    "data_input = iris_data.data\n",
    "data_output = iris_data.target"
   ]
  },
  {
   "cell_type": "code",
   "execution_count": 7,
   "metadata": {},
   "outputs": [],
   "source": [
    "from sklearn.model_selection import KFold"
   ]
  },
  {
   "cell_type": "code",
   "execution_count": 10,
   "metadata": {},
   "outputs": [
    {
     "data": {
      "text/plain": [
       "(150, 4)"
      ]
     },
     "execution_count": 10,
     "metadata": {},
     "output_type": "execute_result"
    }
   ],
   "source": [
    "data_input.shape"
   ]
  },
  {
   "cell_type": "code",
   "execution_count": 11,
   "metadata": {},
   "outputs": [],
   "source": [
    "kf = KFold(n_splits=10,shuffle=True)"
   ]
  },
  {
   "cell_type": "code",
   "execution_count": 12,
   "metadata": {},
   "outputs": [
    {
     "name": "stdout",
     "output_type": "stream",
     "text": [
      "Train_Set                                                   Test_Set\n",
      "[  0   2   3   4   5   6   7   8   9  10  11  12  13  14  15  16  17  18\n",
      "  19  20  21  22  23  24  25  26  27  28  29  30  31  32  33  34  35  36\n",
      "  37  38  39  40  41  42  43  45  46  48  50  51  52  53  54  55  56  57\n",
      "  58  59  60  61  62  63  64  65  66  67  68  69  70  71  72  74  75  76\n",
      "  77  78  79  80  81  82  83  84  85  86  87  88  89  90  91  92  93  94\n",
      "  95  96  97  98  99 100 101 102 104 105 106 108 110 112 113 114 115 117\n",
      " 118 120 121 122 123 124 125 126 127 128 130 131 133 134 135 137 138 139\n",
      " 141 142 143 144 145 146 147 148 149] [  1  44  47  49  73 103 107 109 111 116 119 129 132 136 140]\n",
      "[  0   1   2   4   5   6   7   9  10  11  12  14  15  17  18  19  20  21\n",
      "  22  23  24  25  26  27  28  29  30  32  33  34  35  36  37  38  39  40\n",
      "  41  42  43  44  46  47  48  49  51  52  53  54  55  57  58  59  60  61\n",
      "  63  64  65  66  67  68  70  71  72  73  74  75  76  77  78  79  80  81\n",
      "  82  83  85  86  87  88  89  90  91  92  93  94  95  96  97  98  99 100\n",
      " 101 102 103 105 106 107 108 109 110 111 112 113 114 115 116 118 119 120\n",
      " 121 122 123 124 125 126 127 128 129 131 132 133 134 135 136 137 139 140\n",
      " 141 142 143 144 145 146 147 148 149] [  3   8  13  16  31  45  50  56  62  69  84 104 117 130 138]\n",
      "[  0   1   2   3   4   5   7   8   9  10  11  12  13  14  15  16  17  18\n",
      "  19  20  21  22  23  24  25  26  27  28  29  30  31  32  34  35  36  38\n",
      "  39  40  41  42  43  44  45  47  48  49  50  51  52  54  56  57  58  59\n",
      "  60  61  62  63  64  65  66  67  68  69  70  71  72  73  74  75  76  77\n",
      "  78  79  80  81  82  83  84  85  86  87  88  90  92  93  95  96  97  98\n",
      "  99 100 102 103 104 105 106 107 108 109 111 112 114 115 116 117 118 119\n",
      " 121 122 123 124 125 126 127 128 129 130 131 132 133 134 135 136 137 138\n",
      " 139 140 142 143 144 145 146 148 149] [  6  33  37  46  53  55  89  91  94 101 110 113 120 141 147]\n",
      "[  1   2   3   4   5   6   7   8   9  10  11  12  13  15  16  17  18  20\n",
      "  22  23  24  25  26  29  30  31  32  33  34  35  36  37  38  39  41  42\n",
      "  43  44  45  46  47  48  49  50  51  52  53  54  55  56  57  59  60  61\n",
      "  62  63  64  65  67  68  69  70  72  73  74  76  78  79  80  81  83  84\n",
      "  85  86  87  88  89  90  91  92  93  94  95  96  97  98 100 101 102 103\n",
      " 104 105 106 107 108 109 110 111 112 113 114 115 116 117 118 119 120 121\n",
      " 122 123 124 126 127 128 129 130 131 132 133 134 135 136 137 138 139 140\n",
      " 141 142 143 144 145 146 147 148 149] [  0  14  19  21  27  28  40  58  66  71  75  77  82  99 125]\n",
      "[  0   1   2   3   4   5   6   7   8   9  10  11  12  13  14  16  19  20\n",
      "  21  23  24  25  26  27  28  29  30  31  32  33  34  35  36  37  38  39\n",
      "  40  41  43  44  45  46  47  48  49  50  51  52  53  54  55  56  58  60\n",
      "  61  62  64  65  66  67  69  71  72  73  74  75  76  77  78  79  80  81\n",
      "  82  83  84  85  86  87  88  89  91  92  94  95  96  97  98  99 100 101\n",
      " 102 103 104 105 106 107 108 109 110 111 112 113 114 115 116 117 118 119\n",
      " 120 122 123 124 125 127 129 130 131 132 133 134 135 136 137 138 139 140\n",
      " 141 142 143 144 145 146 147 148 149] [ 15  17  18  22  42  57  59  63  68  70  90  93 121 126 128]\n",
      "[  0   1   2   3   4   5   6   7   8   9  12  13  14  15  16  17  18  19\n",
      "  21  22  23  24  25  27  28  29  30  31  33  34  35  36  37  39  40  41\n",
      "  42  43  44  45  46  47  49  50  51  53  54  55  56  57  58  59  60  61\n",
      "  62  63  64  65  66  67  68  69  70  71  72  73  74  75  76  77  78  79\n",
      "  80  81  82  83  84  86  87  88  89  90  91  92  93  94  96  97  98  99\n",
      " 100 101 102 103 104 105 106 107 108 109 110 111 113 114 115 116 117 118\n",
      " 119 120 121 122 123 124 125 126 128 129 130 131 132 133 134 135 136 137\n",
      " 138 140 141 142 143 144 145 147 149] [ 10  11  20  26  32  38  48  52  85  95 112 127 139 146 148]\n",
      "[  0   1   3   4   5   6   7   8   9  10  11  12  13  14  15  16  17  18\n",
      "  19  20  21  22  23  24  25  26  27  28  29  30  31  32  33  35  37  38\n",
      "  40  41  42  43  44  45  46  47  48  49  50  51  52  53  54  55  56  57\n",
      "  58  59  60  61  62  63  65  66  67  68  69  70  71  73  75  76  77  79\n",
      "  80  81  82  83  84  85  87  89  90  91  92  93  94  95  97  98  99 100\n",
      " 101 102 103 104 105 106 107 108 109 110 111 112 113 115 116 117 118 119\n",
      " 120 121 123 124 125 126 127 128 129 130 131 132 133 134 135 136 137 138\n",
      " 139 140 141 142 144 145 146 147 148] [  2  34  36  39  64  72  74  78  86  88  96 114 122 143 149]\n",
      "[  0   1   2   3   4   6   7   8   9  10  11  12  13  14  15  16  17  18\n",
      "  19  20  21  22  23  24  25  26  27  28  31  32  33  34  35  36  37  38\n",
      "  39  40  41  42  44  45  46  47  48  49  50  52  53  55  56  57  58  59\n",
      "  60  62  63  64  65  66  67  68  69  70  71  72  73  74  75  76  77  78\n",
      "  79  82  83  84  85  86  87  88  89  90  91  92  93  94  95  96  97  99\n",
      " 100 101 102 103 104 106 107 108 109 110 111 112 113 114 115 116 117 118\n",
      " 119 120 121 122 124 125 126 127 128 129 130 131 132 134 135 136 138 139\n",
      " 140 141 143 144 145 146 147 148 149] [  5  29  30  43  51  54  61  80  81  98 105 123 133 137 142]\n",
      "[  0   1   2   3   5   6   8  10  11  13  14  15  16  17  18  19  20  21\n",
      "  22  24  25  26  27  28  29  30  31  32  33  34  35  36  37  38  39  40\n",
      "  42  43  44  45  46  47  48  49  50  51  52  53  54  55  56  57  58  59\n",
      "  60  61  62  63  64  65  66  67  68  69  70  71  72  73  74  75  77  78\n",
      "  79  80  81  82  83  84  85  86  87  88  89  90  91  93  94  95  96  98\n",
      "  99 100 101 102 103 104 105 107 109 110 111 112 113 114 116 117 119 120\n",
      " 121 122 123 124 125 126 127 128 129 130 131 132 133 134 136 137 138 139\n",
      " 140 141 142 143 145 146 147 148 149] [  4   7   9  12  23  41  76  92  97 106 108 115 118 135 144]\n",
      "[  0   1   2   3   4   5   6   7   8   9  10  11  12  13  14  15  16  17\n",
      "  18  19  20  21  22  23  26  27  28  29  30  31  32  33  34  36  37  38\n",
      "  39  40  41  42  43  44  45  46  47  48  49  50  51  52  53  54  55  56\n",
      "  57  58  59  61  62  63  64  66  68  69  70  71  72  73  74  75  76  77\n",
      "  78  80  81  82  84  85  86  88  89  90  91  92  93  94  95  96  97  98\n",
      "  99 101 103 104 105 106 107 108 109 110 111 112 113 114 115 116 117 118\n",
      " 119 120 121 122 123 125 126 127 128 129 130 132 133 135 136 137 138 139\n",
      " 140 141 142 143 144 146 147 148 149] [ 24  25  35  60  65  67  79  83  87 100 102 124 131 134 145]\n"
     ]
    }
   ],
   "source": [
    "print(\"Train_Set                                                   Test_Set\")\n",
    "for train_set,test_set in kf.split(data_input):\n",
    "    print(train_set,test_set)"
   ]
  },
  {
   "cell_type": "code",
   "execution_count": 13,
   "metadata": {},
   "outputs": [],
   "source": [
    "from sklearn.ensemble import RandomForestClassifier"
   ]
  },
  {
   "cell_type": "code",
   "execution_count": 14,
   "metadata": {},
   "outputs": [],
   "source": [
    "model = RandomForestClassifier(n_estimators=10)"
   ]
  },
  {
   "cell_type": "code",
   "execution_count": 15,
   "metadata": {},
   "outputs": [
    {
     "data": {
      "text/plain": [
       "RandomForestClassifier(bootstrap=True, ccp_alpha=0.0, class_weight=None,\n",
       "                       criterion='gini', max_depth=None, max_features='auto',\n",
       "                       max_leaf_nodes=None, max_samples=None,\n",
       "                       min_impurity_decrease=0.0, min_impurity_split=None,\n",
       "                       min_samples_leaf=1, min_samples_split=2,\n",
       "                       min_weight_fraction_leaf=0.0, n_estimators=10,\n",
       "                       n_jobs=None, oob_score=False, random_state=None,\n",
       "                       verbose=0, warm_start=False)"
      ]
     },
     "execution_count": 15,
     "metadata": {},
     "output_type": "execute_result"
    }
   ],
   "source": [
    "model.fit(data_input,data_output)"
   ]
  },
  {
   "cell_type": "code",
   "execution_count": 16,
   "metadata": {},
   "outputs": [],
   "source": [
    "y_preds_rfc = model.predict(data_input)"
   ]
  },
  {
   "cell_type": "code",
   "execution_count": 17,
   "metadata": {},
   "outputs": [],
   "source": [
    "from sklearn.metrics import accuracy_score"
   ]
  },
  {
   "cell_type": "code",
   "execution_count": 18,
   "metadata": {},
   "outputs": [
    {
     "data": {
      "text/plain": [
       "0.9933333333333333"
      ]
     },
     "execution_count": 18,
     "metadata": {},
     "output_type": "execute_result"
    }
   ],
   "source": [
    "accuracy_score(data_output,y_preds_rfc)"
   ]
  },
  {
   "cell_type": "code",
   "execution_count": 19,
   "metadata": {},
   "outputs": [],
   "source": [
    "from sklearn.model_selection import cross_val_score"
   ]
  },
  {
   "cell_type": "code",
   "execution_count": 20,
   "metadata": {},
   "outputs": [
    {
     "name": "stdout",
     "output_type": "stream",
     "text": [
      "[1.         0.93333333 1.         0.93333333 0.93333333 0.93333333\n",
      " 0.93333333 1.         1.         1.        ]\n"
     ]
    }
   ],
   "source": [
    "print(cross_val_score(model,data_input,data_output,cv=10,scoring='accuracy'))"
   ]
  },
  {
   "cell_type": "code",
   "execution_count": 21,
   "metadata": {},
   "outputs": [],
   "source": [
    "accuracy = cross_val_score(model,data_input,data_output,cv=10,scoring='accuracy').mean()"
   ]
  },
  {
   "cell_type": "code",
   "execution_count": 22,
   "metadata": {},
   "outputs": [
    {
     "data": {
      "text/plain": [
       "0.9533333333333334"
      ]
     },
     "execution_count": 22,
     "metadata": {},
     "output_type": "execute_result"
    }
   ],
   "source": [
    "accuracy"
   ]
  },
  {
   "cell_type": "code",
   "execution_count": 23,
   "metadata": {},
   "outputs": [],
   "source": [
    "from sklearn.neighbors import KNeighborsClassifier"
   ]
  },
  {
   "cell_type": "code",
   "execution_count": 24,
   "metadata": {},
   "outputs": [],
   "source": [
    "model2 = KNeighborsClassifier()"
   ]
  },
  {
   "cell_type": "code",
   "execution_count": 25,
   "metadata": {},
   "outputs": [
    {
     "data": {
      "text/plain": [
       "KNeighborsClassifier(algorithm='auto', leaf_size=30, metric='minkowski',\n",
       "                     metric_params=None, n_jobs=None, n_neighbors=5, p=2,\n",
       "                     weights='uniform')"
      ]
     },
     "execution_count": 25,
     "metadata": {},
     "output_type": "execute_result"
    }
   ],
   "source": [
    "model2.fit(data_input,data_output)"
   ]
  },
  {
   "cell_type": "code",
   "execution_count": 26,
   "metadata": {},
   "outputs": [],
   "source": [
    "y_preds_knn = model2.predict(data_input)"
   ]
  },
  {
   "cell_type": "code",
   "execution_count": 27,
   "metadata": {},
   "outputs": [
    {
     "data": {
      "text/plain": [
       "0.9666666666666667"
      ]
     },
     "execution_count": 27,
     "metadata": {},
     "output_type": "execute_result"
    }
   ],
   "source": [
    "accuracy_score(data_output,y_preds_knn)"
   ]
  },
  {
   "cell_type": "code",
   "execution_count": null,
   "metadata": {},
   "outputs": [],
   "source": []
  }
 ],
 "metadata": {
  "kernelspec": {
   "display_name": "Python 3",
   "language": "python",
   "name": "python3"
  },
  "language_info": {
   "codemirror_mode": {
    "name": "ipython",
    "version": 3
   },
   "file_extension": ".py",
   "mimetype": "text/x-python",
   "name": "python",
   "nbconvert_exporter": "python",
   "pygments_lexer": "ipython3",
   "version": "3.8.3"
  }
 },
 "nbformat": 4,
 "nbformat_minor": 4
}
