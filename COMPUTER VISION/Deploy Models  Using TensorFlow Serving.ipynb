{
 "cells": [
  {
   "cell_type": "markdown",
   "metadata": {},
   "source": [
    "# COURSE:   PGP [AI&ML]\n",
    "\n",
    "## Learner :  Chaitanya Kumar Battula\n",
    "## Module  : Advanced Deep Learning\n",
    "## Topic   : Tensorflow Serving"
   ]
  },
  {
   "cell_type": "markdown",
   "metadata": {
    "id": "o6kbTEHsgaRb"
   },
   "source": [
    "# STEP #0: PROBLEM STATEMENT"
   ]
  },
  {
   "cell_type": "markdown",
   "metadata": {
    "id": "o74UO-LQgeIj"
   },
   "source": [
    "- In this project, we will build, train and test a model to classify fashion items using TensorFlow 2.0 similar to what we have already done in the past\n",
    "- What's new is that we are going to deploy the model in practice using Tensorflow Serving.\n",
    "- Fashion training set consists of 70,000 images divided into 60,000 training and 10,000 testing samples. Dataset sample consists of 28x28 grayscale image, associated with a label from 10 classes. \n",
    "\n",
    "- The 10 classes are as follows:  \n",
    "  - 0 => T-shirt/top\n",
    "  - 1 => Trouser\n",
    "  - 2 => Pullover\n",
    "  - 3 => Dress\n",
    "  - 4 => Coat\n",
    "  - 5 => Sandal\n",
    "  - 6 => Shirt\n",
    "  - 7 => Sneaker\n",
    "  - 8 => Bag\n",
    "  - 9 => Ankle boot\n",
    "\n",
    "- Each image is 28 pixels in height and 28 pixels in width, for a total of 784 pixels in total. Each pixel has a single pixel-value associated with it, indicating the lightness or darkness of that pixel, with higher numbers meaning darker. This pixel-value is an integer between 0 and 255. \n",
    "\n",
    "- Note: TF serving code section is based upon the TensorFlow 2.0 Documentation: https://www.tensorflow.org/tfx/serving/tutorials/Serving_REST_simple "
   ]
  },
  {
   "cell_type": "markdown",
   "metadata": {
    "id": "yCrzPgLp7W1h"
   },
   "source": [
    "## STEP #1: IMPORT PACKAGES"
   ]
  },
  {
   "cell_type": "code",
   "execution_count": 1,
   "metadata": {
    "executionInfo": {
     "elapsed": 3321,
     "status": "ok",
     "timestamp": 1619877557920,
     "user": {
      "displayName": "Prashant Nair",
      "photoUrl": "",
      "userId": "01567311054365266478"
     },
     "user_tz": -330
    },
    "id": "JH6B6mQBgHT1"
   },
   "outputs": [],
   "source": [
    "import tensorflow as tf\n",
    "import random\n",
    "import json\n",
    "import numpy as np\n",
    "import matplotlib.pyplot as plt\n",
    "import os\n",
    "import tempfile\n"
   ]
  },
  {
   "cell_type": "markdown",
   "metadata": {
    "id": "x1ly9iCehER1"
   },
   "source": [
    "# STEP #2: IMPORT DATASET"
   ]
  },
  {
   "cell_type": "code",
   "execution_count": 2,
   "metadata": {
    "colab": {
     "base_uri": "https://localhost:8080/"
    },
    "executionInfo": {
     "elapsed": 2947,
     "status": "ok",
     "timestamp": 1619877560061,
     "user": {
      "displayName": "Prashant Nair",
      "photoUrl": "",
      "userId": "01567311054365266478"
     },
     "user_tz": -330
    },
    "id": "FbhfksXVg44A",
    "outputId": "7624a871-8cb2-42a1-a422-0d45081c0d73"
   },
   "outputs": [
    {
     "name": "stdout",
     "output_type": "stream",
     "text": [
      "Downloading data from https://storage.googleapis.com/tensorflow/tf-keras-datasets/train-labels-idx1-ubyte.gz\n",
      "32768/29515 [=================================] - 0s 0us/step\n",
      "Downloading data from https://storage.googleapis.com/tensorflow/tf-keras-datasets/train-images-idx3-ubyte.gz\n",
      "26427392/26421880 [==============================] - 0s 0us/step\n",
      "Downloading data from https://storage.googleapis.com/tensorflow/tf-keras-datasets/t10k-labels-idx1-ubyte.gz\n",
      "8192/5148 [===============================================] - 0s 0us/step\n",
      "Downloading data from https://storage.googleapis.com/tensorflow/tf-keras-datasets/t10k-images-idx3-ubyte.gz\n",
      "4423680/4422102 [==============================] - 0s 0us/step\n"
     ]
    }
   ],
   "source": [
    "# import Fashion MNIST Dataset using Keras \n",
    "(X_train, y_train), (X_test, y_test) = tf.keras.datasets.fashion_mnist.load_data()"
   ]
  },
  {
   "cell_type": "code",
   "execution_count": 3,
   "metadata": {
    "colab": {
     "base_uri": "https://localhost:8080/"
    },
    "executionInfo": {
     "elapsed": 898,
     "status": "ok",
     "timestamp": 1619877567213,
     "user": {
      "displayName": "Prashant Nair",
      "photoUrl": "",
      "userId": "01567311054365266478"
     },
     "user_tz": -330
    },
    "id": "oW3Q8KzdOgmZ",
    "outputId": "5dbd6c02-0b1b-49da-8375-84442e681276"
   },
   "outputs": [
    {
     "data": {
      "text/plain": [
       "array([9, 0, 0, ..., 3, 0, 5], dtype=uint8)"
      ]
     },
     "execution_count": 3,
     "metadata": {
      "tags": []
     },
     "output_type": "execute_result"
    }
   ],
   "source": [
    "y_train"
   ]
  },
  {
   "cell_type": "code",
   "execution_count": null,
   "metadata": {
    "id": "Wiq4GQLKhLbe"
   },
   "outputs": [],
   "source": [
    "# Data Normalization -> Between 0 and 1 \n",
    "X_train = X_train / 255.0\n",
    "X_test = X_test / 255.0\n"
   ]
  },
  {
   "cell_type": "code",
   "execution_count": null,
   "metadata": {
    "colab": {
     "base_uri": "https://localhost:8080/",
     "height": 34
    },
    "executionInfo": {
     "elapsed": 678,
     "status": "ok",
     "timestamp": 1600585698500,
     "user": {
      "displayName": "Prashant Nair",
      "photoUrl": "",
      "userId": "01567311054365266478"
     },
     "user_tz": -330
    },
    "id": "msBye7EfxgI1",
    "outputId": "94880a2f-403a-49ee-937e-3d4dc703d911"
   },
   "outputs": [
    {
     "data": {
      "text/plain": [
       "(60000, 28, 28)"
      ]
     },
     "execution_count": 4,
     "metadata": {
      "tags": []
     },
     "output_type": "execute_result"
    }
   ],
   "source": [
    "X_train.shape"
   ]
  },
  {
   "cell_type": "code",
   "execution_count": null,
   "metadata": {
    "colab": {
     "base_uri": "https://localhost:8080/",
     "height": 34
    },
    "executionInfo": {
     "elapsed": 906,
     "status": "ok",
     "timestamp": 1600585701134,
     "user": {
      "displayName": "Prashant Nair",
      "photoUrl": "",
      "userId": "01567311054365266478"
     },
     "user_tz": -330
    },
    "id": "vVrtMMCgxnka",
    "outputId": "c0d0c8be-a89f-438f-ae00-f44aa6203f34"
   },
   "outputs": [
    {
     "data": {
      "text/plain": [
       "(10000, 28, 28)"
      ]
     },
     "execution_count": 5,
     "metadata": {
      "tags": []
     },
     "output_type": "execute_result"
    }
   ],
   "source": [
    "X_test.shape"
   ]
  },
  {
   "cell_type": "code",
   "execution_count": null,
   "metadata": {
    "id": "P1HUwLz3hMak"
   },
   "outputs": [],
   "source": [
    "# Reshape training data to be = (60000, 28, 28, 1) instead of (60000, 28,28)\n",
    "X_train = X_train.reshape(X_train.shape[0], 28, 28, 1)\n"
   ]
  },
  {
   "cell_type": "code",
   "execution_count": null,
   "metadata": {
    "colab": {
     "base_uri": "https://localhost:8080/",
     "height": 34
    },
    "executionInfo": {
     "elapsed": 604,
     "status": "ok",
     "timestamp": 1600585703107,
     "user": {
      "displayName": "Prashant Nair",
      "photoUrl": "",
      "userId": "01567311054365266478"
     },
     "user_tz": -330
    },
    "id": "p9c_5Z2SyBuJ",
    "outputId": "8be2c502-cde9-4388-ab0b-073e454cdcc5"
   },
   "outputs": [
    {
     "data": {
      "text/plain": [
       "(60000, 28, 28, 1)"
      ]
     },
     "execution_count": 7,
     "metadata": {
      "tags": []
     },
     "output_type": "execute_result"
    }
   ],
   "source": [
    "X_train.shape"
   ]
  },
  {
   "cell_type": "code",
   "execution_count": null,
   "metadata": {
    "id": "3Lh3TY_Jx6tt"
   },
   "outputs": [],
   "source": [
    "# Do the same for the testing dataset\n",
    "X_test = X_test.reshape(X_test.shape[0], 28, 28, 1)"
   ]
  },
  {
   "cell_type": "code",
   "execution_count": null,
   "metadata": {
    "colab": {
     "base_uri": "https://localhost:8080/",
     "height": 34
    },
    "executionInfo": {
     "elapsed": 624,
     "status": "ok",
     "timestamp": 1600585705192,
     "user": {
      "displayName": "Prashant Nair",
      "photoUrl": "",
      "userId": "01567311054365266478"
     },
     "user_tz": -330
    },
    "id": "-UUp6ROshioF",
    "outputId": "1c84f8c3-8dbd-4314-e025-5b679d40707c"
   },
   "outputs": [
    {
     "data": {
      "text/plain": [
       "(10000, 28, 28, 1)"
      ]
     },
     "execution_count": 9,
     "metadata": {
      "tags": []
     },
     "output_type": "execute_result"
    }
   ],
   "source": [
    "X_test.shape"
   ]
  },
  {
   "cell_type": "code",
   "execution_count": null,
   "metadata": {
    "id": "dvS-P-24hh8X"
   },
   "outputs": [],
   "source": [
    "\n",
    "class_names = ['T-shirt/top', 'Trouser', 'Pullover', 'Dress', 'Coat',\n",
    "               'Sandal', 'Shirt', 'Sneaker', 'Bag', 'Ankle boot']\n"
   ]
  },
  {
   "cell_type": "code",
   "execution_count": null,
   "metadata": {
    "colab": {
     "base_uri": "https://localhost:8080/",
     "height": 34
    },
    "executionInfo": {
     "elapsed": 644,
     "status": "ok",
     "timestamp": 1600585707630,
     "user": {
      "displayName": "Prashant Nair",
      "photoUrl": "",
      "userId": "01567311054365266478"
     },
     "user_tz": -330
    },
    "id": "fi5_V_ZKzrSx",
    "outputId": "fef7e3ba-55ed-4a04-804e-5adc4d2548fd"
   },
   "outputs": [
    {
     "data": {
      "text/plain": [
       "60000"
      ]
     },
     "execution_count": 11,
     "metadata": {
      "tags": []
     },
     "output_type": "execute_result"
    }
   ],
   "source": [
    "len(X_train)"
   ]
  },
  {
   "cell_type": "code",
   "execution_count": null,
   "metadata": {
    "colab": {
     "base_uri": "https://localhost:8080/",
     "height": 862
    },
    "executionInfo": {
     "elapsed": 1817,
     "status": "ok",
     "timestamp": 1600585709927,
     "user": {
      "displayName": "Prashant Nair",
      "photoUrl": "",
      "userId": "01567311054365266478"
     },
     "user_tz": -330
    },
    "id": "vdOwUT2cy5cX",
    "outputId": "d7eb17f6-4641-45fc-d47f-9b03a6d7817c"
   },
   "outputs": [
    {
     "data": {
      "image/png": "[encoded data removed]",
      "text/plain": [
       "<Figure size 1080x1080 with 16 Axes>"
      ]
     },
     "metadata": {
      "needs_background": "light",
      "tags": []
     },
     "output_type": "display_data"
    }
   ],
   "source": [
    "W_grid = 4\n",
    "L_grid = 4\n",
    "\n",
    "fig, axes = plt.subplots(L_grid, W_grid, figsize = (15, 15))\n",
    "axes = axes.ravel()\n",
    "\n",
    "n_training = len(X_train)\n",
    "\n",
    "for i in np.arange(0, L_grid * W_grid):\n",
    "    index = np.random.randint(0, n_training) # pick a random number\n",
    "    axes[i].imshow(X_train[index].reshape(28,28))\n",
    "    axes[i].set_title(y_train[index])\n",
    "    axes[i].axis('off')\n",
    "    \n",
    "plt.subplots_adjust(hspace = 0.4)"
   ]
  },
  {
   "cell_type": "markdown",
   "metadata": {
    "id": "iU01OdjbhoKJ"
   },
   "source": [
    "# STEP #3: BUILD, TRAIN AND TEST THE MODEL"
   ]
  },
  {
   "cell_type": "code",
   "execution_count": null,
   "metadata": {
    "colab": {
     "base_uri": "https://localhost:8080/",
     "height": 369
    },
    "executionInfo": {
     "elapsed": 6301,
     "status": "ok",
     "timestamp": 1600585718269,
     "user": {
      "displayName": "Prashant Nair",
      "photoUrl": "",
      "userId": "01567311054365266478"
     },
     "user_tz": -330
    },
    "id": "7Sx9lFlIht6W",
    "outputId": "b41db293-2de0-4217-9fae-ef540b9ca083"
   },
   "outputs": [
    {
     "name": "stdout",
     "output_type": "stream",
     "text": [
      "Model: \"sequential\"\n",
      "_________________________________________________________________\n",
      "Layer (type)                 Output Shape              Param #   \n",
      "=================================================================\n",
      "conv2d (Conv2D)              (None, 26, 26, 32)        320       \n",
      "_________________________________________________________________\n",
      "max_pooling2d (MaxPooling2D) (None, 13, 13, 32)        0         \n",
      "_________________________________________________________________\n",
      "conv2d_1 (Conv2D)            (None, 11, 11, 64)        18496     \n",
      "_________________________________________________________________\n",
      "flatten (Flatten)            (None, 7744)              0         \n",
      "_________________________________________________________________\n",
      "dense (Dense)                (None, 64)                495680    \n",
      "_________________________________________________________________\n",
      "dense_1 (Dense)              (None, 10)                650       \n",
      "=================================================================\n",
      "Total params: 515,146\n",
      "Trainable params: 515,146\n",
      "Non-trainable params: 0\n",
      "_________________________________________________________________\n"
     ]
    }
   ],
   "source": [
    "cnn = tf.keras.models.Sequential()\n",
    "\n",
    "cnn.add(tf.keras.layers.Conv2D(32, (3,3), activation = 'relu', input_shape = (28,28,1)))\n",
    "cnn.add(tf.keras.layers.MaxPooling2D(2,2))\n",
    "\n",
    "cnn.add(tf.keras.layers.Conv2D(64, (3, 3), activation='relu'))\n",
    "\n",
    "cnn.add(tf.keras.layers.Flatten())\n",
    "\n",
    "cnn.add(tf.keras.layers.Dense(64, activation = 'relu'))\n",
    "\n",
    "cnn.add(tf.keras.layers.Dense(10, activation = 'softmax'))\n",
    "cnn.summary()"
   ]
  },
  {
   "cell_type": "code",
   "execution_count": null,
   "metadata": {
    "id": "TeRGYB-khwFA"
   },
   "outputs": [],
   "source": [
    "epochs = 5\n",
    "\n",
    "cnn.compile(optimizer=tf.keras.optimizers.Adam(), \n",
    "              loss='sparse_categorical_crossentropy',\n",
    "              metrics=['accuracy'])\n"
   ]
  },
  {
   "cell_type": "code",
   "execution_count": null,
   "metadata": {
    "colab": {
     "base_uri": "https://localhost:8080/",
     "height": 246
    },
    "executionInfo": {
     "elapsed": 29609,
     "status": "ok",
     "timestamp": 1600585809634,
     "user": {
      "displayName": "Prashant Nair",
      "photoUrl": "",
      "userId": "01567311054365266478"
     },
     "user_tz": -330
    },
    "id": "m1eDzfqih2FY",
    "outputId": "cef3e576-103d-4cac-988c-e3cd11609a07"
   },
   "outputs": [
    {
     "name": "stdout",
     "output_type": "stream",
     "text": [
      "Epoch 1/5\n",
      "1875/1875 [==============================] - 4s 2ms/step - loss: 0.4169 - accuracy: 0.8508\n",
      "Epoch 2/5\n",
      "1875/1875 [==============================] - 4s 2ms/step - loss: 0.2738 - accuracy: 0.9008\n",
      "Epoch 3/5\n",
      "1875/1875 [==============================] - 4s 2ms/step - loss: 0.2243 - accuracy: 0.9179\n",
      "Epoch 4/5\n",
      "1875/1875 [==============================] - 4s 2ms/step - loss: 0.1905 - accuracy: 0.9297\n",
      "Epoch 5/5\n",
      "1875/1875 [==============================] - 4s 2ms/step - loss: 0.1609 - accuracy: 0.9400\n",
      "313/313 [==============================] - 1s 2ms/step - loss: 0.2308 - accuracy: 0.9171\n",
      "\n",
      "Test accuracy: 0.9171000123023987\n"
     ]
    }
   ],
   "source": [
    "cnn.fit(X_train, y_train, epochs=epochs)\n",
    "\n",
    "test_loss, test_acc = cnn.evaluate(X_test, y_test)\n",
    "print('\\nTest accuracy: {}'.format(test_acc))"
   ]
  },
  {
   "cell_type": "markdown",
   "metadata": {
    "id": "k-hlIDqfh9oX"
   },
   "source": [
    "# STEP #4: SAVE THE MODEL"
   ]
  },
  {
   "cell_type": "markdown",
   "metadata": {
    "id": "oKGNNXB1iUCB"
   },
   "source": [
    "- We now need to save our trained model and it has to be saved in a SavedModel format.\n",
    "- The model will have a version number and will be saved in a structured directory \n",
    "- tf.saved_model.simple_save is a function used to build a saved model that is suitable for serving using Tensorflow Serving. \n",
    "- After the model is saved, we can now use TensorFlow Serving to start making inference requests using a specific version of our trained model \"servable\".\n",
    "- Use SavedModel to save and load your model—variables, the graph, and the graph's metadata. \n",
    "- This is a language-neutral, recoverable, hermetic serialization format that enables higher-level systems and tools to produce, consume, and transform TensorFlow models.\n",
    "- simple_save offers a very easy way to save a model as follows: \n",
    "\n",
    "  - simple_save(session,\n",
    "            export_dir,\n",
    "            inputs={\"x\": x, \"y\": y},\n",
    "            outputs={\"z\": z})\n",
    "            \n",
    "- Check this out for more information: \n",
    "https://www.tensorflow.org/guide/saved_model"
   ]
  },
  {
   "cell_type": "code",
   "execution_count": null,
   "metadata": {
    "id": "wgTRGCqSh9az"
   },
   "outputs": [],
   "source": [
    "# Let's obtain a temporary storage directory\n",
    "MODEL_DIR = tempfile.gettempdir()"
   ]
  },
  {
   "cell_type": "code",
   "execution_count": null,
   "metadata": {
    "colab": {
     "base_uri": "https://localhost:8080/",
     "height": 35
    },
    "executionInfo": {
     "elapsed": 897,
     "status": "ok",
     "timestamp": 1600585822890,
     "user": {
      "displayName": "Prashant Nair",
      "photoUrl": "",
      "userId": "01567311054365266478"
     },
     "user_tz": -330
    },
    "id": "J7mLmAw3jfNX",
    "outputId": "76701bee-2d8a-4959-cb10-78805d3d74ab"
   },
   "outputs": [
    {
     "data": {
      "application/vnd.google.colaboratory.intrinsic+json": {
       "type": "string"
      },
      "text/plain": [
       "'/tmp'"
      ]
     },
     "execution_count": 21,
     "metadata": {
      "tags": []
     },
     "output_type": "execute_result"
    }
   ],
   "source": [
    "MODEL_DIR"
   ]
  },
  {
   "cell_type": "code",
   "execution_count": null,
   "metadata": {
    "id": "lOkq8bMejgHX"
   },
   "outputs": [],
   "source": [
    "# Let's specify the model version, choose #1 for now \n",
    "version = 1 "
   ]
  },
  {
   "cell_type": "code",
   "execution_count": null,
   "metadata": {
    "colab": {
     "base_uri": "https://localhost:8080/",
     "height": 52
    },
    "executionInfo": {
     "elapsed": 885,
     "status": "ok",
     "timestamp": 1600585828099,
     "user": {
      "displayName": "Prashant Nair",
      "photoUrl": "",
      "userId": "01567311054365266478"
     },
     "user_tz": -330
    },
    "id": "JCyIxt7Xj43C",
    "outputId": "d18041b8-68bc-4a54-ea5a-d6888bce001f"
   },
   "outputs": [
    {
     "name": "stdout",
     "output_type": "stream",
     "text": [
      "export_path = /tmp/1\n",
      "\n"
     ]
    }
   ],
   "source": [
    "# Let's join the temp model directory with our chosen version number \n",
    "# The expected result will be = '\\tmp\\version number'\n",
    "export_path = os.path.join(MODEL_DIR, str(version))\n",
    "print('export_path = {}\\n'.format(export_path))"
   ]
  },
  {
   "cell_type": "code",
   "execution_count": null,
   "metadata": {
    "colab": {
     "base_uri": "https://localhost:8080/",
     "height": 160
    },
    "executionInfo": {
     "elapsed": 1842,
     "status": "ok",
     "timestamp": 1600586139760,
     "user": {
      "displayName": "Prashant Nair",
      "photoUrl": "",
      "userId": "01567311054365266478"
     },
     "user_tz": -330
    },
    "id": "raMbK1M7j8Yh",
    "outputId": "7711e6a6-853f-4965-a3f0-16e8e95c0f1c"
   },
   "outputs": [
    {
     "name": "stdout",
     "output_type": "stream",
     "text": [
      "WARNING:tensorflow:From /usr/local/lib/python3.6/dist-packages/tensorflow/python/training/tracking/tracking.py:111: Model.state_updates (from tensorflow.python.keras.engine.training) is deprecated and will be removed in a future version.\n",
      "Instructions for updating:\n",
      "This property should not be used in TensorFlow 2.0, as updates are applied automatically.\n",
      "WARNING:tensorflow:From /usr/local/lib/python3.6/dist-packages/tensorflow/python/training/tracking/tracking.py:111: Layer.updates (from tensorflow.python.keras.engine.base_layer) is deprecated and will be removed in a future version.\n",
      "Instructions for updating:\n",
      "This property should not be used in TensorFlow 2.0, as updates are applied automatically.\n",
      "INFO:tensorflow:Assets written to: /tmp/1/assets\n"
     ]
    }
   ],
   "source": [
    "# Let's save the model using simple_save\n",
    "# If the directory already exists, we will remove it using '!rm' \n",
    "# rm removes each file specified on the command line. \n",
    "\n",
    "if os.path.isdir(export_path):\n",
    "  print('\\nAlready saved a model, cleaning up\\n')\n",
    "  !rm -r {export_path}\n",
    "\n",
    "tf.saved_model.save(cnn, \"/tmp/1\")\n",
    "\n",
    "#tf.saved_model.save(\n",
    "#    tf.keras.backend.get_session(),\n",
    "#    export_path,\n",
    "#    inputs={'input_image': cnn.input},\n",
    "#   outputs={t.name:t for t in cnn.outputs})\n"
   ]
  },
  {
   "cell_type": "code",
   "execution_count": null,
   "metadata": {
    "colab": {
     "base_uri": "https://localhost:8080/",
     "height": 87
    },
    "executionInfo": {
     "elapsed": 1180,
     "status": "ok",
     "timestamp": 1600586140345,
     "user": {
      "displayName": "Prashant Nair",
      "photoUrl": "",
      "userId": "01567311054365266478"
     },
     "user_tz": -330
    },
    "id": "OUnZKrFUqGel",
    "outputId": "abbbfe96-989c-44f6-9e72-9b8a9e8392a8"
   },
   "outputs": [
    {
     "name": "stdout",
     "output_type": "stream",
     "text": [
      "total 128\n",
      "drwxr-xr-x 2 root root   4096 Sep 20 07:15 assets\n",
      "-rw-r--r-- 1 root root 122436 Sep 20 07:15 saved_model.pb\n",
      "drwxr-xr-x 2 root root   4096 Sep 20 07:15 variables\n"
     ]
    }
   ],
   "source": [
    "!ls -l {export_path}"
   ]
  },
  {
   "cell_type": "markdown",
   "metadata": {
    "id": "29Pe_MdvosVq"
   },
   "source": [
    "# STEP #5: EXPLORE OUR SAVED MODEL"
   ]
  },
  {
   "cell_type": "markdown",
   "metadata": {
    "id": "2VcYU9ZlowoB"
   },
   "source": [
    "- saved_model_cli will be used to explore MetaGraphDefs (the models) and SignatureDefs (the methods you can call) in our SavedModel. \n",
    "- A MetaGraph is a dataflow graph, plus its associated variables, assets, and signatures. \n",
    "- A signature is the set of inputs to and outputs from a graph."
   ]
  },
  {
   "cell_type": "code",
   "execution_count": null,
   "metadata": {
    "colab": {
     "base_uri": "https://localhost:8080/",
     "height": 1000
    },
    "executionInfo": {
     "elapsed": 3185,
     "status": "ok",
     "timestamp": 1600586148540,
     "user": {
      "displayName": "Prashant Nair",
      "photoUrl": "",
      "userId": "01567311054365266478"
     },
     "user_tz": -330
    },
    "id": "SEHscgCMkovz",
    "outputId": "999437ce-bd47-4128-9152-df8c844c4d46"
   },
   "outputs": [
    {
     "name": "stdout",
     "output_type": "stream",
     "text": [
      "\n",
      "MetaGraphDef with tag-set: 'serve' contains the following SignatureDefs:\n",
      "\n",
      "signature_def['__saved_model_init_op']:\n",
      "  The given SavedModel SignatureDef contains the following input(s):\n",
      "  The given SavedModel SignatureDef contains the following output(s):\n",
      "    outputs['__saved_model_init_op'] tensor_info:\n",
      "        dtype: DT_INVALID\n",
      "        shape: unknown_rank\n",
      "        name: NoOp\n",
      "  Method name is: \n",
      "\n",
      "signature_def['serving_default']:\n",
      "  The given SavedModel SignatureDef contains the following input(s):\n",
      "    inputs['conv2d_input'] tensor_info:\n",
      "        dtype: DT_FLOAT\n",
      "        shape: (-1, 28, 28, 1)\n",
      "        name: serving_default_conv2d_input:0\n",
      "  The given SavedModel SignatureDef contains the following output(s):\n",
      "    outputs['dense_1'] tensor_info:\n",
      "        dtype: DT_FLOAT\n",
      "        shape: (-1, 10)\n",
      "        name: StatefulPartitionedCall:0\n",
      "  Method name is: tensorflow/serving/predict\n",
      "WARNING: Logging before flag parsing goes to stderr.\n",
      "W0920 07:15:47.835007 139701007091584 deprecation.py:506] From /usr/local/lib/python2.7/dist-packages/tensorflow_core/python/ops/resource_variable_ops.py:1786: calling __init__ (from tensorflow.python.ops.resource_variable_ops) with constraint is deprecated and will be removed in a future version.\n",
      "Instructions for updating:\n",
      "If using Keras pass *_constraint arguments to layers.\n",
      "\n",
      "Defined Functions:\n",
      "  Function Name: '__call__'\n",
      "    Option #1\n",
      "      Callable with:\n",
      "        Argument #1\n",
      "          inputs: TensorSpec(shape=(None, 28, 28, 1), dtype=tf.float32, name=u'inputs')\n",
      "        Argument #2\n",
      "          DType: bool\n",
      "          Value: False\n",
      "        Argument #3\n",
      "          DType: NoneType\n",
      "          Value: None\n",
      "    Option #2\n",
      "      Callable with:\n",
      "        Argument #1\n",
      "          conv2d_input: TensorSpec(shape=(None, 28, 28, 1), dtype=tf.float32, name=u'conv2d_input')\n",
      "        Argument #2\n",
      "          DType: bool\n",
      "          Value: False\n",
      "        Argument #3\n",
      "          DType: NoneType\n",
      "          Value: None\n",
      "    Option #3\n",
      "      Callable with:\n",
      "        Argument #1\n",
      "          conv2d_input: TensorSpec(shape=(None, 28, 28, 1), dtype=tf.float32, name=u'conv2d_input')\n",
      "        Argument #2\n",
      "          DType: bool\n",
      "          Value: True\n",
      "        Argument #3\n",
      "          DType: NoneType\n",
      "          Value: None\n",
      "    Option #4\n",
      "      Callable with:\n",
      "        Argument #1\n",
      "          inputs: TensorSpec(shape=(None, 28, 28, 1), dtype=tf.float32, name=u'inputs')\n",
      "        Argument #2\n",
      "          DType: bool\n",
      "          Value: True\n",
      "        Argument #3\n",
      "          DType: NoneType\n",
      "          Value: None\n",
      "\n",
      "  Function Name: '_default_save_signature'\n",
      "    Option #1\n",
      "      Callable with:\n",
      "        Argument #1\n",
      "          conv2d_input: TensorSpec(shape=(None, 28, 28, 1), dtype=tf.float32, name=u'conv2d_input')\n",
      "\n",
      "  Function Name: 'call_and_return_all_conditional_losses'\n",
      "    Option #1\n",
      "      Callable with:\n",
      "        Argument #1\n",
      "          inputs: TensorSpec(shape=(None, 28, 28, 1), dtype=tf.float32, name=u'inputs')\n",
      "        Argument #2\n",
      "          DType: bool\n",
      "          Value: False\n",
      "        Argument #3\n",
      "          DType: NoneType\n",
      "          Value: None\n",
      "    Option #2\n",
      "      Callable with:\n",
      "        Argument #1\n",
      "          conv2d_input: TensorSpec(shape=(None, 28, 28, 1), dtype=tf.float32, name=u'conv2d_input')\n",
      "        Argument #2\n",
      "          DType: bool\n",
      "          Value: True\n",
      "        Argument #3\n",
      "          DType: NoneType\n",
      "          Value: None\n",
      "    Option #3\n",
      "      Callable with:\n",
      "        Argument #1\n",
      "          conv2d_input: TensorSpec(shape=(None, 28, 28, 1), dtype=tf.float32, name=u'conv2d_input')\n",
      "        Argument #2\n",
      "          DType: bool\n",
      "          Value: False\n",
      "        Argument #3\n",
      "          DType: NoneType\n",
      "          Value: None\n",
      "    Option #4\n",
      "      Callable with:\n",
      "        Argument #1\n",
      "          inputs: TensorSpec(shape=(None, 28, 28, 1), dtype=tf.float32, name=u'inputs')\n",
      "        Argument #2\n",
      "          DType: bool\n",
      "          Value: True\n",
      "        Argument #3\n",
      "          DType: NoneType\n",
      "          Value: None\n"
     ]
    }
   ],
   "source": [
    "# Now we can view our saved model\n",
    "!saved_model_cli show --dir {export_path} --all"
   ]
  },
  {
   "cell_type": "markdown",
   "metadata": {
    "id": "dcgj7TWAlkIA"
   },
   "source": [
    "# STEP #6: SERVE THE MODEL USING TENSORFLOW SERVING"
   ]
  },
  {
   "cell_type": "markdown",
   "metadata": {
    "id": "xCEZ9lvgln3X"
   },
   "source": [
    "  # STEP 6.1: Let's add tensorflow-model-server package to our list of packages "
   ]
  },
  {
   "cell_type": "code",
   "execution_count": null,
   "metadata": {
    "colab": {
     "base_uri": "https://localhost:8080/",
     "height": 545
    },
    "executionInfo": {
     "elapsed": 7220,
     "status": "ok",
     "timestamp": 1600586164569,
     "user": {
      "displayName": "Prashant Nair",
      "photoUrl": "",
      "userId": "01567311054365266478"
     },
     "user_tz": -330
    },
    "id": "AwjH17Tal2jv",
    "outputId": "f454e42b-ef09-423f-8e1d-7cba578b9a8f"
   },
   "outputs": [
    {
     "name": "stdout",
     "output_type": "stream",
     "text": [
      "deb http://storage.googleapis.com/tensorflow-serving-apt stable tensorflow-model-server tensorflow-model-server-universal\n",
      "  % Total    % Received % Xferd  Average Speed   Time    Time     Time  Current\n",
      "                                 Dload  Upload   Total   Spent    Left  Speed\n",
      "100  2943  100  2943    0     0  18509      0 --:--:-- --:--:-- --:--:-- 18509\n",
      "OK\n",
      "Get:1 https://cloud.r-project.org/bin/linux/ubuntu bionic-cran35/ InRelease [3,626 B]\n",
      "Get:2 http://storage.googleapis.com/tensorflow-serving-apt stable InRelease [3,012 B]\n",
      "Ign:3 https://developer.download.nvidia.com/compute/cuda/repos/ubuntu1804/x86_64  InRelease\n",
      "Ign:4 https://developer.download.nvidia.com/compute/machine-learning/repos/ubuntu1804/x86_64  InRelease\n",
      "Hit:5 https://developer.download.nvidia.com/compute/cuda/repos/ubuntu1804/x86_64  Release\n",
      "Hit:6 https://developer.download.nvidia.com/compute/machine-learning/repos/ubuntu1804/x86_64  Release\n",
      "Hit:7 http://ppa.launchpad.net/graphics-drivers/ppa/ubuntu bionic InRelease\n",
      "Hit:8 http://archive.ubuntu.com/ubuntu bionic InRelease\n",
      "Get:9 http://security.ubuntu.com/ubuntu bionic-security InRelease [88.7 kB]\n",
      "Get:10 http://archive.ubuntu.com/ubuntu bionic-updates InRelease [88.7 kB]\n",
      "Get:11 http://storage.googleapis.com/tensorflow-serving-apt stable/tensorflow-model-server amd64 Packages [341 B]\n",
      "Get:13 http://storage.googleapis.com/tensorflow-serving-apt stable/tensorflow-model-server-universal amd64 Packages [349 B]\n",
      "Get:14 http://ppa.launchpad.net/marutter/c2d4u3.5/ubuntu bionic InRelease [15.4 kB]\n",
      "Get:16 http://archive.ubuntu.com/ubuntu bionic-backports InRelease [74.6 kB]\n",
      "Get:17 http://ppa.launchpad.net/marutter/c2d4u3.5/ubuntu bionic/main Sources [1,876 kB]\n",
      "Get:18 http://security.ubuntu.com/ubuntu bionic-security/universe amd64 Packages [903 kB]\n",
      "Get:19 http://archive.ubuntu.com/ubuntu bionic-updates/universe amd64 Packages [1,430 kB]\n",
      "Get:20 http://security.ubuntu.com/ubuntu bionic-security/main amd64 Packages [1,094 kB]\n",
      "Get:21 http://archive.ubuntu.com/ubuntu bionic-updates/main amd64 Packages [1,385 kB]\n",
      "Get:22 http://ppa.launchpad.net/marutter/c2d4u3.5/ubuntu bionic/main amd64 Packages [906 kB]\n",
      "Fetched 7,870 kB in 4s (2,129 kB/s)\n",
      "Reading package lists... Done\n",
      "Building dependency tree       \n",
      "Reading state information... Done\n",
      "38 packages can be upgraded. Run 'apt list --upgradable' to see them.\n"
     ]
    }
   ],
   "source": [
    "!echo \"deb http://storage.googleapis.com/tensorflow-serving-apt stable tensorflow-model-server tensorflow-model-server-universal\" | tee /etc/apt/sources.list.d/tensorflow-serving.list && \\\n",
    "curl https://storage.googleapis.com/tensorflow-serving-apt/tensorflow-serving.release.pub.gpg | apt-key add -\n",
    "!apt update"
   ]
  },
  {
   "cell_type": "markdown",
   "metadata": {
    "id": "r0rJEorwuNK_"
   },
   "source": [
    "# Step 6.2: Let's install tensorflow model server:"
   ]
  },
  {
   "cell_type": "code",
   "execution_count": null,
   "metadata": {
    "colab": {
     "base_uri": "https://localhost:8080/",
     "height": 281
    },
    "executionInfo": {
     "elapsed": 10346,
     "status": "ok",
     "timestamp": 1600586286029,
     "user": {
      "displayName": "Prashant Nair",
      "photoUrl": "",
      "userId": "01567311054365266478"
     },
     "user_tz": -330
    },
    "id": "TJ3t-7_huGn0",
    "outputId": "48d0811d-52ea-434f-e82d-d337f52658a3"
   },
   "outputs": [
    {
     "name": "stdout",
     "output_type": "stream",
     "text": [
      "Reading package lists... Done\n",
      "Building dependency tree       \n",
      "Reading state information... Done\n",
      "The following NEW packages will be installed:\n",
      "  tensorflow-model-server\n",
      "0 upgraded, 1 newly installed, 0 to remove and 38 not upgraded.\n",
      "Need to get 210 MB of archives.\n",
      "After this operation, 0 B of additional disk space will be used.\n",
      "Get:1 http://storage.googleapis.com/tensorflow-serving-apt stable/tensorflow-model-server amd64 tensorflow-model-server all 2.3.0 [210 MB]\n",
      "Fetched 210 MB in 3s (75.0 MB/s)\n",
      "Selecting previously unselected package tensorflow-model-server.\n",
      "(Reading database ... 144676 files and directories currently installed.)\n",
      "Preparing to unpack .../tensorflow-model-server_2.3.0_all.deb ...\n",
      "Unpacking tensorflow-model-server (2.3.0) ...\n",
      "Setting up tensorflow-model-server (2.3.0) ...\n"
     ]
    }
   ],
   "source": [
    "!apt-get install tensorflow-model-server"
   ]
  },
  {
   "cell_type": "markdown",
   "metadata": {
    "id": "YQZtl38Jy-pg"
   },
   "source": [
    "# Step 6.3: Let's run TensorFlow serving"
   ]
  },
  {
   "cell_type": "markdown",
   "metadata": {
    "id": "BR8CQlZBuacO"
   },
   "source": [
    "- We will load our model and start making inferences (predictions) based on it.\n",
    "- There are some important parameters:\n",
    "\n",
    "  - rest_api_port: The port that you'll use for REST requests.\n",
    "  - model_name: You'll use this in the URL of REST requests. You can choose any name\n",
    "  - model_base_path: This is the path to the directory where you've saved your model.\n",
    "  \n",
    "- For more information regarding REST, check this out: \n",
    "https://www.codecademy.com/articles/what-is-rest\n",
    "- REST is a revival of HTTP in which http commands have semantic meaning. "
   ]
  },
  {
   "cell_type": "code",
   "execution_count": null,
   "metadata": {
    "id": "nQO-ysCMuU5L"
   },
   "outputs": [],
   "source": [
    "os.environ[\"MODEL_DIR\"] = MODEL_DIR"
   ]
  },
  {
   "cell_type": "code",
   "execution_count": null,
   "metadata": {
    "id": "6MPYRkTk-DWN"
   },
   "outputs": [],
   "source": [
    "#Port Number Range -- 1024 to 65535\n"
   ]
  },
  {
   "cell_type": "code",
   "execution_count": null,
   "metadata": {
    "colab": {
     "base_uri": "https://localhost:8080/",
     "height": 34
    },
    "executionInfo": {
     "elapsed": 666,
     "status": "ok",
     "timestamp": 1600586296370,
     "user": {
      "displayName": "Prashant Nair",
      "photoUrl": "",
      "userId": "01567311054365266478"
     },
     "user_tz": -330
    },
    "id": "c_aqNwe2x4G9",
    "outputId": "5a0092bf-21f8-4959-e9c2-6a8b1e742a61"
   },
   "outputs": [
    {
     "name": "stdout",
     "output_type": "stream",
     "text": [
      "Starting job # 0 in a separate thread.\n"
     ]
    }
   ],
   "source": [
    "%%bash --bg \n",
    "nohup tensorflow_model_server \\\n",
    "  --rest_api_port=8501 \\\n",
    "  --model_name=fashion_model \\\n",
    "  --model_base_path=\"${MODEL_DIR}\" >server.log 2>&1\n"
   ]
  },
  {
   "cell_type": "code",
   "execution_count": null,
   "metadata": {
    "colab": {
     "base_uri": "https://localhost:8080/",
     "height": 193
    },
    "executionInfo": {
     "elapsed": 1003,
     "status": "ok",
     "timestamp": 1600586299744,
     "user": {
      "displayName": "Prashant Nair",
      "photoUrl": "",
      "userId": "01567311054365266478"
     },
     "user_tz": -330
    },
    "id": "1c9MjQK_x46N",
    "outputId": "902605ae-dc29-45ab-a6ba-8e9c5178a7b3"
   },
   "outputs": [
    {
     "name": "stdout",
     "output_type": "stream",
     "text": [
      "To enable them in other operations, rebuild TensorFlow with the appropriate compiler flags.\n",
      "2020-09-20 07:18:16.608633: I external/org_tensorflow/tensorflow/cc/saved_model/loader.cc:199] Restoring SavedModel bundle.\n",
      "2020-09-20 07:18:16.643228: I external/org_tensorflow/tensorflow/cc/saved_model/loader.cc:183] Running initialization op on SavedModel bundle at path: /tmp/1\n",
      "2020-09-20 07:18:16.647592: I external/org_tensorflow/tensorflow/cc/saved_model/loader.cc:303] SavedModel load for tags { serve }; Status: success: OK. Took 57321 microseconds.\n",
      "2020-09-20 07:18:16.648410: I tensorflow_serving/servables/tensorflow/saved_model_warmup_util.cc:59] No warmup data file found at /tmp/1/assets.extra/tf_serving_warmup_requests\n",
      "2020-09-20 07:18:16.648513: I tensorflow_serving/core/loader_harness.cc:87] Successfully loaded servable version {name: fashion_model version: 1}\n",
      "2020-09-20 07:18:16.649588: I tensorflow_serving/model_servers/server.cc:367] Running gRPC ModelServer at 0.0.0.0:8500 ...\n",
      "[warn] getaddrinfo: address family for nodename not supported\n",
      "[evhttp_server.cc : 238] NET_LOG: Entering the event loop ...\n",
      "2020-09-20 07:18:16.650293: I tensorflow_serving/model_servers/server.cc:387] Exporting HTTP/REST API at:localhost:8501 ...\n"
     ]
    }
   ],
   "source": [
    "!tail server.log"
   ]
  },
  {
   "cell_type": "markdown",
   "metadata": {
    "id": "Yyts_cHHzlEE"
   },
   "source": [
    "- **Congratulations! now we have successfully loaded a servable version of our model {name: fashion_model version: 1}** "
   ]
  },
  {
   "cell_type": "markdown",
   "metadata": {
    "id": "NuaqxuY8zW-X"
   },
   "source": [
    "# STEP 6.4: Let's start making requests in TensorFlow Serving"
   ]
  },
  {
   "cell_type": "code",
   "execution_count": null,
   "metadata": {
    "id": "Z96PlewJyI7N"
   },
   "outputs": [],
   "source": [
    "def show(idx, title):\n",
    "  plt.figure()\n",
    "  plt.imshow(X_test[idx].reshape(28,28))\n",
    "  plt.title('\\n\\n{}'.format(title), fontdict={'size': 16})\n"
   ]
  },
  {
   "cell_type": "code",
   "execution_count": null,
   "metadata": {
    "colab": {
     "base_uri": "https://localhost:8080/",
     "height": 318
    },
    "executionInfo": {
     "elapsed": 977,
     "status": "ok",
     "timestamp": 1600586309634,
     "user": {
      "displayName": "Prashant Nair",
      "photoUrl": "",
      "userId": "01567311054365266478"
     },
     "user_tz": -330
    },
    "id": "BVzkMzX5zo6I",
    "outputId": "e13764b4-bcb8-478d-a7cb-2e816adc1b2f"
   },
   "outputs": [
    {
     "data": {
      "image/png": "[encoded data removed]",
      "text/plain": [
       "<Figure size 432x288 with 1 Axes>"
      ]
     },
     "metadata": {
      "needs_background": "light",
      "tags": []
     },
     "output_type": "display_data"
    }
   ],
   "source": [
    "rando = random.randint(0,len(X_test)-1)\n",
    "show(rando, 'An Example Image: {}'.format(class_names[y_test[rando]]))"
   ]
  },
  {
   "cell_type": "code",
   "execution_count": null,
   "metadata": {
    "colab": {
     "base_uri": "https://localhost:8080/",
     "height": 34
    },
    "executionInfo": {
     "elapsed": 927,
     "status": "ok",
     "timestamp": 1600586312679,
     "user": {
      "displayName": "Prashant Nair",
      "photoUrl": "",
      "userId": "01567311054365266478"
     },
     "user_tz": -330
    },
    "id": "OOANMKEPzvGj",
    "outputId": "78fb8e08-88be-4b66-d2fb-33689590d120"
   },
   "outputs": [
    {
     "name": "stdout",
     "output_type": "stream",
     "text": [
      "Data: {\"signature_name\": \"serving_default\", \"instances\": ...  [0.0], [0.0], [0.0], [0.0], [0.0], [0.0], [0.0]]]]}\n"
     ]
    }
   ],
   "source": [
    "# Let's create a JSON object and make 3 inference requests\n",
    "data = json.dumps({\"signature_name\": \"serving_default\", \"instances\": X_test[0:3].tolist()})\n",
    "print('Data: {} ... {}'.format(data[:50], data[len(data)-52:]))"
   ]
  },
  {
   "cell_type": "code",
   "execution_count": null,
   "metadata": {
    "id": "bU7MGFsd3xyf"
   },
   "outputs": [],
   "source": [
    "!pip install -q requests\n"
   ]
  },
  {
   "cell_type": "code",
   "execution_count": null,
   "metadata": {
    "id": "JC7R3Xp-3PS4"
   },
   "outputs": [],
   "source": [
    "\n",
    "import requests\n"
   ]
  },
  {
   "cell_type": "code",
   "execution_count": null,
   "metadata": {
    "id": "TABtyXff31XA"
   },
   "outputs": [],
   "source": [
    "headers = {\"content-type\": \"application/json\"}\n",
    "json_response = requests.post('http://localhost:8501/v1/models/fashion_model:predict', data=data, headers=headers)\n",
    "predictions = json.loads(json_response.text)['predictions']\n"
   ]
  },
  {
   "cell_type": "code",
   "execution_count": null,
   "metadata": {
    "colab": {
     "base_uri": "https://localhost:8080/",
     "height": 318
    },
    "executionInfo": {
     "elapsed": 1010,
     "status": "ok",
     "timestamp": 1600586326265,
     "user": {
      "displayName": "Prashant Nair",
      "photoUrl": "",
      "userId": "01567311054365266478"
     },
     "user_tz": -330
    },
    "id": "WMabmeBJ4AAM",
    "outputId": "f36fec11-6e39-4dff-be6f-5feec877fb1f"
   },
   "outputs": [
    {
     "data": {
      "image/png": "[encoded data removed]",
      "text/plain": [
       "<Figure size 432x288 with 1 Axes>"
      ]
     },
     "metadata": {
      "needs_background": "light",
      "tags": []
     },
     "output_type": "display_data"
    }
   ],
   "source": [
    "\n",
    "show(0, 'The model thought this was a {} (class {}), and it was actually a {} (class {})'.format(\n",
    "  class_names[np.argmax(predictions[0])], y_test[0], class_names[np.argmax(predictions[0])], y_test[0]))"
   ]
  },
  {
   "cell_type": "code",
   "execution_count": null,
   "metadata": {
    "colab": {
     "base_uri": "https://localhost:8080/",
     "height": 920
    },
    "executionInfo": {
     "elapsed": 1495,
     "status": "ok",
     "timestamp": 1600587368518,
     "user": {
      "displayName": "Prashant Nair",
      "photoUrl": "",
      "userId": "01567311054365266478"
     },
     "user_tz": -330
    },
    "id": "5kCu7cnB4Az6",
    "outputId": "a8cd8599-6386-486d-b21a-41c21415d966"
   },
   "outputs": [
    {
     "data": {
      "image/png": "[encoded data removed]",
      "text/plain": [
       "<Figure size 432x288 with 1 Axes>"
      ]
     },
     "metadata": {
      "needs_background": "light",
      "tags": []
     },
     "output_type": "display_data"
    },
    {
     "data": {
      "image/png": "[encoded data removed]",
      "text/plain": [
       "<Figure size 432x288 with 1 Axes>"
      ]
     },
     "metadata": {
      "needs_background": "light",
      "tags": []
     },
     "output_type": "display_data"
    },
    {
     "data": {
      "image/png": "[encoded data removed]",
      "text/plain": [
       "<Figure size 432x288 with 1 Axes>"
      ]
     },
     "metadata": {
      "needs_background": "light",
      "tags": []
     },
     "output_type": "display_data"
    }
   ],
   "source": [
    "headers = {\"content-type\": \"application/json\"}\n",
    "json_response = requests.post('http://localhost:8501/v1/models/fashion_model/versions/1:predict', data=data, headers=headers)\n",
    "predictions = json.loads(json_response.text)['predictions']\n",
    "\n",
    "for i in range(0,3):\n",
    "  show(i, 'The model thought this was a {} (class {}), and it was actually a {} (class {})'.format(\n",
    "    class_names[np.argmax(predictions[i])], y_test[i], class_names[np.argmax(predictions[i])], y_test[i]))"
   ]
  },
  {
   "cell_type": "code",
   "execution_count": null,
   "metadata": {
    "id": "BYyQnvahWTWW"
   },
   "outputs": [],
   "source": []
  }
 ],
 "metadata": {
  "accelerator": "GPU",
  "colab": {
   "collapsed_sections": [],
   "name": "Deploy_Models_Using_TensorFlow_Serving (1) (1).ipynb",
   "provenance": []
  },
  "kernelspec": {
   "display_name": "Python 3",
   "language": "python",
   "name": "python3"
  },
  "language_info": {
   "codemirror_mode": {
    "name": "ipython",
    "version": 3
   },
   "file_extension": ".py",
   "mimetype": "text/x-python",
   "name": "python",
   "nbconvert_exporter": "python",
   "pygments_lexer": "ipython3",
   "version": "3.8.3"
  }
 },
 "nbformat": 4,
 "nbformat_minor": 1
}
