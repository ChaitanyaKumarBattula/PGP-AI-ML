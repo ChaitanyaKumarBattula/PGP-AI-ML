{
 "cells": [
  {
   "cell_type": "markdown",
   "metadata": {
    "id": "wdcvpZCbgLZN"
   },
   "source": [
    "# Track Vehicles and Pedestrians with Open CV\n",
    "\n"
   ]
  },
  {
   "cell_type": "code",
   "execution_count": null,
   "metadata": {
    "id": "FnP8HQnlfLay"
   },
   "outputs": [],
   "source": [
    "import cv2\n",
    "\n",
    "video = cv2.VideoCapture(\"../DataSets/Vehichles and Pedestrian Tracking Using OpenCV/Dataset (Sample Videos)/car-and-pedestrian-video0.mp4\")\n",
    "\n",
    "car_tracker_file = \"../DataSets/Vehichles and Pedestrian Tracking Using OpenCV/Haar Cascades/cars.xml'\n",
    "pedestrian_tracker = \"../DataSets/Vehichles and Pedestrian Tracking Using OpenCV/Haar Cascades/haarcascade_fullbody.xml\"\n",
    "\n",
    "# create car and pedestrian classification\n",
    "car_tracker = cv2.CascadeClassifier(car_tracker_file)\n",
    "pedestrian_tracker = cv2.CascadeClassifier(pedestrian_tracker)\n"
   ]
  },
  {
   "cell_type": "code",
   "execution_count": null,
   "metadata": {
    "id": "0mXb72nTfLYT"
   },
   "outputs": [],
   "source": [
    "while True:\n",
    "\n",
    "    # reading the current frame\n",
    "    (read_successful, frame) = video.read()\n",
    "\n",
    "    # safe coding\n",
    "    if read_successful:\n",
    "        # must convert to greyscale\n",
    "        greyscaled_frame = cv2.cvtColor(frame, cv2.COLOR_BGR2GRAY)\n",
    "    else:\n",
    "        break\n",
    "\n",
    "    # detect car and pedestrains\n",
    "    cars = car_tracker.detectMultiScale(greyscaled_frame)\n",
    "    pedestrians = pedestrian_tracker.detectMultiScale(greyscaled_frame)\n",
    "\n",
    "    # drawing rectangle over cars detected\n",
    "\n",
    "    # they are stored in an array\n",
    "    # (0,0,255) colour of rectangle 2 is size of rectangle\n",
    "    # car2 = cars[2] #(cars stored in an array)\n",
    "    # (x ,y , w, h) = car2\n",
    "    for (x, y, w, h) in cars:\n",
    "        cv2.rectangle(frame, (x, y), (x + w, y + h), (0, 0, 255), 2)\n",
    "        cv2.putText(frame, 'VEHICLE', (x, y - 10), cv2.FONT_HERSHEY_SIMPLEX, 0.9, (36, 255, 70), 2)\n",
    "\n",
    "    for (x, y, w, h) in pedestrians:\n",
    "        cv2.rectangle(frame, (x, y), (x + w, y + h), (0, 255, 255), 2)  # changing color to yellow for pedestrians\n",
    "        cv2.putText(frame, 'HUMAN', (x, y - 10), cv2.FONT_HERSHEY_SIMPLEX, 0.9, (36, 255, 12), 2)\n",
    "\n",
    "    # display the image with the face spotted\n",
    "    cv2.imshow('Vehicle and Pedestrian Detector', frame)\n",
    "\n",
    "    # dont autoclose (wait here in the code and listen for a key)\n",
    "    key = cv2.waitKey(1)\n",
    "\n",
    "    # stop if q key is pressed\n",
    "    if key == 81 or key == 113:\n",
    "        break"
   ]
  },
  {
   "cell_type": "code",
   "execution_count": null,
   "metadata": {
    "id": "9X5pqLyOfLWC"
   },
   "outputs": [],
   "source": [
    "# release the videocapture object\n",
    "video.release()\n"
   ]
  },
  {
   "cell_type": "markdown",
   "metadata": {
    "id": "g1UkfGT3mwcf"
   },
   "source": [
    "#**OUTPUT**\n",
    "\n",
    "\n",
    "<p align=\"center\">\n",
    "  <img width=\"1000\" height=\"800\" src=\"https://user-images.githubusercontent.com/36481036/196936305-e6e83a8b-504d-4752-bb3d-2b437f03350f.png\">\n",
    "</p>"
   ]
  }
 ],
 "metadata": {
  "colab": {
   "provenance": []
  },
  "kernelspec": {
   "display_name": "Python 3 (ipykernel)",
   "language": "python",
   "name": "python3"
  },
  "language_info": {
   "codemirror_mode": {
    "name": "ipython",
    "version": 3
   },
   "file_extension": ".py",
   "mimetype": "text/x-python",
   "name": "python",
   "nbconvert_exporter": "python",
   "pygments_lexer": "ipython3",
   "version": "3.9.18"
  }
 },
 "nbformat": 4,
 "nbformat_minor": 1
}
