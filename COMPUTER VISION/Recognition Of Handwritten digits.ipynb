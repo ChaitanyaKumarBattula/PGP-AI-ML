{
 "cells": [
  {
   "cell_type": "markdown",
   "id": "da828c1f",
   "metadata": {},
   "source": [
    "## Importing necessary libraries"
   ]
  },
  {
   "cell_type": "code",
   "execution_count": 24,
   "id": "03687c70",
   "metadata": {
    "execution": {
     "iopub.execute_input": "2021-05-30T05:38:23.591635Z",
     "iopub.status.busy": "2021-05-30T05:38:23.591137Z",
     "iopub.status.idle": "2021-05-30T05:38:28.964349Z",
     "shell.execute_reply": "2021-05-30T05:38:28.963448Z",
     "shell.execute_reply.started": "2021-05-30T05:29:08.258643Z"
    },
    "papermill": {
     "duration": 5.399356,
     "end_time": "2021-05-30T05:38:28.964492",
     "exception": false,
     "start_time": "2021-05-30T05:38:23.565136",
     "status": "completed"
    },
    "tags": []
   },
   "outputs": [],
   "source": [
    "import numpy as np\n",
    "import pandas as pd\n",
    "import matplotlib.pyplot as plt\n",
    "import seaborn as sb\n",
    "import tensorflow as tf\n",
    "from tensorflow import keras\n",
    "from tensorflow.keras.preprocessing.image import ImageDataGenerator\n",
    "import warnings \n",
    "warnings.filterwarnings(\"ignore\")"
   ]
  },
  {
   "cell_type": "markdown",
   "id": "1239de4c",
   "metadata": {
    "papermill": {
     "duration": 0.021965,
     "end_time": "2021-05-30T05:38:29.009063",
     "exception": false,
     "start_time": "2021-05-30T05:38:28.987098",
     "status": "completed"
    },
    "tags": []
   },
   "source": [
    "## Reading and preparing data"
   ]
  },
  {
   "cell_type": "code",
   "execution_count": 2,
   "id": "57970f99",
   "metadata": {
    "execution": {
     "iopub.execute_input": "2021-05-30T05:38:29.060834Z",
     "iopub.status.busy": "2021-05-30T05:38:29.060297Z",
     "iopub.status.idle": "2021-05-30T05:38:33.658386Z",
     "shell.execute_reply": "2021-05-30T05:38:33.657524Z",
     "shell.execute_reply.started": "2021-05-30T05:29:14.453379Z"
    },
    "papermill": {
     "duration": 4.627392,
     "end_time": "2021-05-30T05:38:33.658519",
     "exception": false,
     "start_time": "2021-05-30T05:38:29.031127",
     "status": "completed"
    },
    "tags": []
   },
   "outputs": [],
   "source": [
    "train = pd.read_csv(\"Data/train.csv\")\n",
    "test = pd.read_csv(\"Data/test.csv\")"
   ]
  },
  {
   "cell_type": "code",
   "execution_count": 3,
   "id": "eac404ae",
   "metadata": {
    "execution": {
     "iopub.execute_input": "2021-05-30T05:38:33.707870Z",
     "iopub.status.busy": "2021-05-30T05:38:33.707317Z",
     "iopub.status.idle": "2021-05-30T05:38:33.712238Z",
     "shell.execute_reply": "2021-05-30T05:38:33.711828Z",
     "shell.execute_reply.started": "2021-05-30T05:29:19.161106Z"
    },
    "papermill": {
     "duration": 0.03096,
     "end_time": "2021-05-30T05:38:33.712347",
     "exception": false,
     "start_time": "2021-05-30T05:38:33.681387",
     "status": "completed"
    },
    "tags": []
   },
   "outputs": [
    {
     "name": "stdout",
     "output_type": "stream",
     "text": [
      "(42000, 785)\n",
      "(28000, 784)\n"
     ]
    }
   ],
   "source": [
    "print(train.shape)\n",
    "print(test.shape)"
   ]
  },
  {
   "cell_type": "code",
   "execution_count": 4,
   "id": "80a53826",
   "metadata": {
    "execution": {
     "iopub.execute_input": "2021-05-30T05:38:33.766969Z",
     "iopub.status.busy": "2021-05-30T05:38:33.766346Z",
     "iopub.status.idle": "2021-05-30T05:38:33.787105Z",
     "shell.execute_reply": "2021-05-30T05:38:33.787508Z",
     "shell.execute_reply.started": "2021-05-30T05:29:19.168777Z"
    },
    "papermill": {
     "duration": 0.052748,
     "end_time": "2021-05-30T05:38:33.787629",
     "exception": false,
     "start_time": "2021-05-30T05:38:33.734881",
     "status": "completed"
    },
    "tags": []
   },
   "outputs": [
    {
     "data": {
      "text/html": [
       "<div>\n",
       "<style scoped>\n",
       "    .dataframe tbody tr th:only-of-type {\n",
       "        vertical-align: middle;\n",
       "    }\n",
       "\n",
       "    .dataframe tbody tr th {\n",
       "        vertical-align: top;\n",
       "    }\n",
       "\n",
       "    .dataframe thead th {\n",
       "        text-align: right;\n",
       "    }\n",
       "</style>\n",
       "<table border=\"1\" class=\"dataframe\">\n",
       "  <thead>\n",
       "    <tr style=\"text-align: right;\">\n",
       "      <th></th>\n",
       "      <th>label</th>\n",
       "      <th>pixel0</th>\n",
       "      <th>pixel1</th>\n",
       "      <th>pixel2</th>\n",
       "      <th>pixel3</th>\n",
       "      <th>pixel4</th>\n",
       "      <th>pixel5</th>\n",
       "      <th>pixel6</th>\n",
       "      <th>pixel7</th>\n",
       "      <th>pixel8</th>\n",
       "      <th>...</th>\n",
       "      <th>pixel774</th>\n",
       "      <th>pixel775</th>\n",
       "      <th>pixel776</th>\n",
       "      <th>pixel777</th>\n",
       "      <th>pixel778</th>\n",
       "      <th>pixel779</th>\n",
       "      <th>pixel780</th>\n",
       "      <th>pixel781</th>\n",
       "      <th>pixel782</th>\n",
       "      <th>pixel783</th>\n",
       "    </tr>\n",
       "  </thead>\n",
       "  <tbody>\n",
       "    <tr>\n",
       "      <th>0</th>\n",
       "      <td>1</td>\n",
       "      <td>0</td>\n",
       "      <td>0</td>\n",
       "      <td>0</td>\n",
       "      <td>0</td>\n",
       "      <td>0</td>\n",
       "      <td>0</td>\n",
       "      <td>0</td>\n",
       "      <td>0</td>\n",
       "      <td>0</td>\n",
       "      <td>...</td>\n",
       "      <td>0</td>\n",
       "      <td>0</td>\n",
       "      <td>0</td>\n",
       "      <td>0</td>\n",
       "      <td>0</td>\n",
       "      <td>0</td>\n",
       "      <td>0</td>\n",
       "      <td>0</td>\n",
       "      <td>0</td>\n",
       "      <td>0</td>\n",
       "    </tr>\n",
       "    <tr>\n",
       "      <th>1</th>\n",
       "      <td>0</td>\n",
       "      <td>0</td>\n",
       "      <td>0</td>\n",
       "      <td>0</td>\n",
       "      <td>0</td>\n",
       "      <td>0</td>\n",
       "      <td>0</td>\n",
       "      <td>0</td>\n",
       "      <td>0</td>\n",
       "      <td>0</td>\n",
       "      <td>...</td>\n",
       "      <td>0</td>\n",
       "      <td>0</td>\n",
       "      <td>0</td>\n",
       "      <td>0</td>\n",
       "      <td>0</td>\n",
       "      <td>0</td>\n",
       "      <td>0</td>\n",
       "      <td>0</td>\n",
       "      <td>0</td>\n",
       "      <td>0</td>\n",
       "    </tr>\n",
       "    <tr>\n",
       "      <th>2</th>\n",
       "      <td>1</td>\n",
       "      <td>0</td>\n",
       "      <td>0</td>\n",
       "      <td>0</td>\n",
       "      <td>0</td>\n",
       "      <td>0</td>\n",
       "      <td>0</td>\n",
       "      <td>0</td>\n",
       "      <td>0</td>\n",
       "      <td>0</td>\n",
       "      <td>...</td>\n",
       "      <td>0</td>\n",
       "      <td>0</td>\n",
       "      <td>0</td>\n",
       "      <td>0</td>\n",
       "      <td>0</td>\n",
       "      <td>0</td>\n",
       "      <td>0</td>\n",
       "      <td>0</td>\n",
       "      <td>0</td>\n",
       "      <td>0</td>\n",
       "    </tr>\n",
       "    <tr>\n",
       "      <th>3</th>\n",
       "      <td>4</td>\n",
       "      <td>0</td>\n",
       "      <td>0</td>\n",
       "      <td>0</td>\n",
       "      <td>0</td>\n",
       "      <td>0</td>\n",
       "      <td>0</td>\n",
       "      <td>0</td>\n",
       "      <td>0</td>\n",
       "      <td>0</td>\n",
       "      <td>...</td>\n",
       "      <td>0</td>\n",
       "      <td>0</td>\n",
       "      <td>0</td>\n",
       "      <td>0</td>\n",
       "      <td>0</td>\n",
       "      <td>0</td>\n",
       "      <td>0</td>\n",
       "      <td>0</td>\n",
       "      <td>0</td>\n",
       "      <td>0</td>\n",
       "    </tr>\n",
       "    <tr>\n",
       "      <th>4</th>\n",
       "      <td>0</td>\n",
       "      <td>0</td>\n",
       "      <td>0</td>\n",
       "      <td>0</td>\n",
       "      <td>0</td>\n",
       "      <td>0</td>\n",
       "      <td>0</td>\n",
       "      <td>0</td>\n",
       "      <td>0</td>\n",
       "      <td>0</td>\n",
       "      <td>...</td>\n",
       "      <td>0</td>\n",
       "      <td>0</td>\n",
       "      <td>0</td>\n",
       "      <td>0</td>\n",
       "      <td>0</td>\n",
       "      <td>0</td>\n",
       "      <td>0</td>\n",
       "      <td>0</td>\n",
       "      <td>0</td>\n",
       "      <td>0</td>\n",
       "    </tr>\n",
       "    <tr>\n",
       "      <th>5</th>\n",
       "      <td>0</td>\n",
       "      <td>0</td>\n",
       "      <td>0</td>\n",
       "      <td>0</td>\n",
       "      <td>0</td>\n",
       "      <td>0</td>\n",
       "      <td>0</td>\n",
       "      <td>0</td>\n",
       "      <td>0</td>\n",
       "      <td>0</td>\n",
       "      <td>...</td>\n",
       "      <td>0</td>\n",
       "      <td>0</td>\n",
       "      <td>0</td>\n",
       "      <td>0</td>\n",
       "      <td>0</td>\n",
       "      <td>0</td>\n",
       "      <td>0</td>\n",
       "      <td>0</td>\n",
       "      <td>0</td>\n",
       "      <td>0</td>\n",
       "    </tr>\n",
       "    <tr>\n",
       "      <th>6</th>\n",
       "      <td>7</td>\n",
       "      <td>0</td>\n",
       "      <td>0</td>\n",
       "      <td>0</td>\n",
       "      <td>0</td>\n",
       "      <td>0</td>\n",
       "      <td>0</td>\n",
       "      <td>0</td>\n",
       "      <td>0</td>\n",
       "      <td>0</td>\n",
       "      <td>...</td>\n",
       "      <td>0</td>\n",
       "      <td>0</td>\n",
       "      <td>0</td>\n",
       "      <td>0</td>\n",
       "      <td>0</td>\n",
       "      <td>0</td>\n",
       "      <td>0</td>\n",
       "      <td>0</td>\n",
       "      <td>0</td>\n",
       "      <td>0</td>\n",
       "    </tr>\n",
       "    <tr>\n",
       "      <th>7</th>\n",
       "      <td>3</td>\n",
       "      <td>0</td>\n",
       "      <td>0</td>\n",
       "      <td>0</td>\n",
       "      <td>0</td>\n",
       "      <td>0</td>\n",
       "      <td>0</td>\n",
       "      <td>0</td>\n",
       "      <td>0</td>\n",
       "      <td>0</td>\n",
       "      <td>...</td>\n",
       "      <td>0</td>\n",
       "      <td>0</td>\n",
       "      <td>0</td>\n",
       "      <td>0</td>\n",
       "      <td>0</td>\n",
       "      <td>0</td>\n",
       "      <td>0</td>\n",
       "      <td>0</td>\n",
       "      <td>0</td>\n",
       "      <td>0</td>\n",
       "    </tr>\n",
       "    <tr>\n",
       "      <th>8</th>\n",
       "      <td>5</td>\n",
       "      <td>0</td>\n",
       "      <td>0</td>\n",
       "      <td>0</td>\n",
       "      <td>0</td>\n",
       "      <td>0</td>\n",
       "      <td>0</td>\n",
       "      <td>0</td>\n",
       "      <td>0</td>\n",
       "      <td>0</td>\n",
       "      <td>...</td>\n",
       "      <td>0</td>\n",
       "      <td>0</td>\n",
       "      <td>0</td>\n",
       "      <td>0</td>\n",
       "      <td>0</td>\n",
       "      <td>0</td>\n",
       "      <td>0</td>\n",
       "      <td>0</td>\n",
       "      <td>0</td>\n",
       "      <td>0</td>\n",
       "    </tr>\n",
       "    <tr>\n",
       "      <th>9</th>\n",
       "      <td>3</td>\n",
       "      <td>0</td>\n",
       "      <td>0</td>\n",
       "      <td>0</td>\n",
       "      <td>0</td>\n",
       "      <td>0</td>\n",
       "      <td>0</td>\n",
       "      <td>0</td>\n",
       "      <td>0</td>\n",
       "      <td>0</td>\n",
       "      <td>...</td>\n",
       "      <td>0</td>\n",
       "      <td>0</td>\n",
       "      <td>0</td>\n",
       "      <td>0</td>\n",
       "      <td>0</td>\n",
       "      <td>0</td>\n",
       "      <td>0</td>\n",
       "      <td>0</td>\n",
       "      <td>0</td>\n",
       "      <td>0</td>\n",
       "    </tr>\n",
       "  </tbody>\n",
       "</table>\n",
       "<p>10 rows × 785 columns</p>\n",
       "</div>"
      ],
      "text/plain": [
       "   label  pixel0  pixel1  pixel2  pixel3  pixel4  pixel5  pixel6  pixel7  \\\n",
       "0      1       0       0       0       0       0       0       0       0   \n",
       "1      0       0       0       0       0       0       0       0       0   \n",
       "2      1       0       0       0       0       0       0       0       0   \n",
       "3      4       0       0       0       0       0       0       0       0   \n",
       "4      0       0       0       0       0       0       0       0       0   \n",
       "5      0       0       0       0       0       0       0       0       0   \n",
       "6      7       0       0       0       0       0       0       0       0   \n",
       "7      3       0       0       0       0       0       0       0       0   \n",
       "8      5       0       0       0       0       0       0       0       0   \n",
       "9      3       0       0       0       0       0       0       0       0   \n",
       "\n",
       "   pixel8  ...  pixel774  pixel775  pixel776  pixel777  pixel778  pixel779  \\\n",
       "0       0  ...         0         0         0         0         0         0   \n",
       "1       0  ...         0         0         0         0         0         0   \n",
       "2       0  ...         0         0         0         0         0         0   \n",
       "3       0  ...         0         0         0         0         0         0   \n",
       "4       0  ...         0         0         0         0         0         0   \n",
       "5       0  ...         0         0         0         0         0         0   \n",
       "6       0  ...         0         0         0         0         0         0   \n",
       "7       0  ...         0         0         0         0         0         0   \n",
       "8       0  ...         0         0         0         0         0         0   \n",
       "9       0  ...         0         0         0         0         0         0   \n",
       "\n",
       "   pixel780  pixel781  pixel782  pixel783  \n",
       "0         0         0         0         0  \n",
       "1         0         0         0         0  \n",
       "2         0         0         0         0  \n",
       "3         0         0         0         0  \n",
       "4         0         0         0         0  \n",
       "5         0         0         0         0  \n",
       "6         0         0         0         0  \n",
       "7         0         0         0         0  \n",
       "8         0         0         0         0  \n",
       "9         0         0         0         0  \n",
       "\n",
       "[10 rows x 785 columns]"
      ]
     },
     "execution_count": 4,
     "metadata": {},
     "output_type": "execute_result"
    }
   ],
   "source": [
    "train.head(10)"
   ]
  },
  {
   "cell_type": "code",
   "execution_count": 5,
   "id": "f1f4c46f",
   "metadata": {
    "execution": {
     "iopub.execute_input": "2021-05-30T05:38:33.914560Z",
     "iopub.status.busy": "2021-05-30T05:38:33.837833Z",
     "iopub.status.idle": "2021-05-30T05:38:33.916596Z",
     "shell.execute_reply": "2021-05-30T05:38:33.917026Z",
     "shell.execute_reply.started": "2021-05-30T05:29:19.203180Z"
    },
    "papermill": {
     "duration": 0.106511,
     "end_time": "2021-05-30T05:38:33.917173",
     "exception": false,
     "start_time": "2021-05-30T05:38:33.810662",
     "status": "completed"
    },
    "tags": []
   },
   "outputs": [],
   "source": [
    "X = train.drop([\"label\"],axis = 1).values\n",
    "Y = train[\"label\"].values"
   ]
  },
  {
   "cell_type": "code",
   "execution_count": 6,
   "id": "4a34c33a",
   "metadata": {
    "execution": {
     "iopub.execute_input": "2021-05-30T05:38:33.968739Z",
     "iopub.status.busy": "2021-05-30T05:38:33.967720Z",
     "iopub.status.idle": "2021-05-30T05:38:34.128054Z",
     "shell.execute_reply": "2021-05-30T05:38:34.128438Z",
     "shell.execute_reply.started": "2021-05-30T05:29:19.290026Z"
    },
    "papermill": {
     "duration": 0.188069,
     "end_time": "2021-05-30T05:38:34.128578",
     "exception": false,
     "start_time": "2021-05-30T05:38:33.940509",
     "status": "completed"
    },
    "tags": []
   },
   "outputs": [
    {
     "name": "stderr",
     "output_type": "stream",
     "text": [
      "C:\\Users\\hp\\anaconda3\\lib\\site-packages\\seaborn\\_decorators.py:43: FutureWarning: Pass the following variable as a keyword arg: x. From version 0.12, the only valid positional argument will be `data`, and passing other arguments without an explicit keyword will result in an error or misinterpretation.\n",
      "  FutureWarning\n"
     ]
    },
    {
     "data": {
      "text/plain": [
       "<matplotlib.axes._subplots.AxesSubplot at 0x21627849a08>"
      ]
     },
     "execution_count": 6,
     "metadata": {},
     "output_type": "execute_result"
    },
    {
     "data": {
      "image/png": "[encoded data removed]",
      "text/plain": [
       "<Figure size 864x432 with 1 Axes>"
      ]
     },
     "metadata": {
      "needs_background": "light"
     },
     "output_type": "display_data"
    }
   ],
   "source": [
    "plt.figure(figsize = (12,6))\n",
    "sb.countplot(Y)"
   ]
  },
  {
   "cell_type": "code",
   "execution_count": 7,
   "id": "880c95d0",
   "metadata": {
    "execution": {
     "iopub.execute_input": "2021-05-30T05:38:34.193831Z",
     "iopub.status.busy": "2021-05-30T05:38:34.193033Z",
     "iopub.status.idle": "2021-05-30T05:38:34.288904Z",
     "shell.execute_reply": "2021-05-30T05:38:34.289283Z",
     "shell.execute_reply.started": "2021-05-30T05:29:19.467846Z"
    },
    "papermill": {
     "duration": 0.136509,
     "end_time": "2021-05-30T05:38:34.289418",
     "exception": false,
     "start_time": "2021-05-30T05:38:34.152909",
     "status": "completed"
    },
    "tags": []
   },
   "outputs": [
    {
     "data": {
      "text/plain": [
       "<matplotlib.image.AxesImage at 0x21628cc5b08>"
      ]
     },
     "execution_count": 7,
     "metadata": {},
     "output_type": "execute_result"
    },
    {
     "data": {
      "image/png": "[encoded data removed]",
      "text/plain": [
       "<Figure size 432x288 with 1 Axes>"
      ]
     },
     "metadata": {
      "needs_background": "light"
     },
     "output_type": "display_data"
    }
   ],
   "source": [
    "plt.imshow(X[10].reshape([28,28]))"
   ]
  },
  {
   "cell_type": "code",
   "execution_count": 8,
   "id": "1fca40e9",
   "metadata": {
    "execution": {
     "iopub.execute_input": "2021-05-30T05:38:34.349406Z",
     "iopub.status.busy": "2021-05-30T05:38:34.348617Z",
     "iopub.status.idle": "2021-05-30T05:38:34.455703Z",
     "shell.execute_reply": "2021-05-30T05:38:34.456127Z",
     "shell.execute_reply.started": "2021-05-30T05:29:19.590668Z"
    },
    "papermill": {
     "duration": 0.142024,
     "end_time": "2021-05-30T05:38:34.456267",
     "exception": false,
     "start_time": "2021-05-30T05:38:34.314243",
     "status": "completed"
    },
    "tags": []
   },
   "outputs": [
    {
     "data": {
      "text/plain": [
       "<matplotlib.image.AxesImage at 0x21628e56a88>"
      ]
     },
     "execution_count": 8,
     "metadata": {},
     "output_type": "execute_result"
    },
    {
     "data": {
      "image/png": "[encoded data removed]",
      "text/plain": [
       "<Figure size 432x288 with 1 Axes>"
      ]
     },
     "metadata": {
      "needs_background": "light"
     },
     "output_type": "display_data"
    }
   ],
   "source": [
    "plt.imshow(X[1455].reshape([28,28]))"
   ]
  },
  {
   "cell_type": "code",
   "execution_count": 9,
   "id": "def75f07",
   "metadata": {
    "execution": {
     "iopub.execute_input": "2021-05-30T05:38:34.512516Z",
     "iopub.status.busy": "2021-05-30T05:38:34.511047Z",
     "iopub.status.idle": "2021-05-30T05:38:34.513826Z",
     "shell.execute_reply": "2021-05-30T05:38:34.513405Z",
     "shell.execute_reply.started": "2021-05-30T05:29:19.718801Z"
    },
    "papermill": {
     "duration": 0.031971,
     "end_time": "2021-05-30T05:38:34.513947",
     "exception": false,
     "start_time": "2021-05-30T05:38:34.481976",
     "status": "completed"
    },
    "tags": []
   },
   "outputs": [],
   "source": [
    "X = X.reshape([42000,28,28,1])\n",
    "Y = Y.reshape([42000,1])"
   ]
  },
  {
   "cell_type": "code",
   "execution_count": 10,
   "id": "f250e872",
   "metadata": {
    "execution": {
     "iopub.execute_input": "2021-05-30T05:38:34.568910Z",
     "iopub.status.busy": "2021-05-30T05:38:34.568278Z",
     "iopub.status.idle": "2021-05-30T05:38:34.621853Z",
     "shell.execute_reply": "2021-05-30T05:38:34.621419Z",
     "shell.execute_reply.started": "2021-05-30T05:29:19.725240Z"
    },
    "papermill": {
     "duration": 0.082405,
     "end_time": "2021-05-30T05:38:34.621966",
     "exception": false,
     "start_time": "2021-05-30T05:38:34.539561",
     "status": "completed"
    },
    "tags": []
   },
   "outputs": [],
   "source": [
    "from keras.utils.np_utils import to_categorical # convert to one-hot-encoding\n",
    "Y = to_categorical(Y, num_classes = 10)"
   ]
  },
  {
   "cell_type": "code",
   "execution_count": 11,
   "id": "13392682",
   "metadata": {
    "execution": {
     "iopub.execute_input": "2021-05-30T05:38:34.677567Z",
     "iopub.status.busy": "2021-05-30T05:38:34.676950Z",
     "iopub.status.idle": "2021-05-30T05:38:35.325782Z",
     "shell.execute_reply": "2021-05-30T05:38:35.325282Z",
     "shell.execute_reply.started": "2021-05-30T05:29:19.794764Z"
    },
    "papermill": {
     "duration": 0.67844,
     "end_time": "2021-05-30T05:38:35.325935",
     "exception": false,
     "start_time": "2021-05-30T05:38:34.647495",
     "status": "completed"
    },
    "tags": []
   },
   "outputs": [],
   "source": [
    "from sklearn.model_selection import train_test_split\n",
    "x_train, x_test, y_train, y_test = train_test_split(X, Y, test_size = 0.1, random_state = 14)"
   ]
  },
  {
   "cell_type": "code",
   "execution_count": 12,
   "id": "aa1579f6",
   "metadata": {
    "execution": {
     "iopub.execute_input": "2021-05-30T05:38:35.382206Z",
     "iopub.status.busy": "2021-05-30T05:38:35.381578Z",
     "iopub.status.idle": "2021-05-30T05:38:35.386506Z",
     "shell.execute_reply": "2021-05-30T05:38:35.387049Z",
     "shell.execute_reply.started": "2021-05-30T05:29:20.509070Z"
    },
    "papermill": {
     "duration": 0.035097,
     "end_time": "2021-05-30T05:38:35.387211",
     "exception": false,
     "start_time": "2021-05-30T05:38:35.352114",
     "status": "completed"
    },
    "tags": []
   },
   "outputs": [
    {
     "name": "stdout",
     "output_type": "stream",
     "text": [
      "(37800, 28, 28, 1)\n",
      "(37800, 10)\n",
      "(4200, 28, 28, 1)\n",
      "(4200, 10)\n"
     ]
    }
   ],
   "source": [
    "print(x_train.shape)\n",
    "print(y_train.shape)\n",
    "print(x_test.shape)\n",
    "print(y_test.shape)"
   ]
  },
  {
   "cell_type": "code",
   "execution_count": 13,
   "id": "d226e556",
   "metadata": {
    "execution": {
     "iopub.execute_input": "2021-05-30T05:38:35.443725Z",
     "iopub.status.busy": "2021-05-30T05:38:35.442843Z",
     "iopub.status.idle": "2021-05-30T05:38:35.547562Z",
     "shell.execute_reply": "2021-05-30T05:38:35.547105Z",
     "shell.execute_reply.started": "2021-05-30T05:29:20.517449Z"
    },
    "papermill": {
     "duration": 0.13367,
     "end_time": "2021-05-30T05:38:35.547702",
     "exception": false,
     "start_time": "2021-05-30T05:38:35.414032",
     "status": "completed"
    },
    "tags": []
   },
   "outputs": [],
   "source": [
    "x_train = x_train/255\n",
    "x_test = x_test/255"
   ]
  },
  {
   "cell_type": "markdown",
   "id": "17266d62",
   "metadata": {
    "papermill": {
     "duration": 0.025754,
     "end_time": "2021-05-30T05:38:35.599864",
     "exception": false,
     "start_time": "2021-05-30T05:38:35.574110",
     "status": "completed"
    },
    "tags": []
   },
   "source": [
    "## Defining the CNN Model architecture"
   ]
  },
  {
   "cell_type": "code",
   "execution_count": 25,
   "id": "77585a53",
   "metadata": {
    "execution": {
     "iopub.execute_input": "2021-05-30T05:38:35.661029Z",
     "iopub.status.busy": "2021-05-30T05:38:35.660507Z",
     "iopub.status.idle": "2021-05-30T05:38:37.743064Z",
     "shell.execute_reply": "2021-05-30T05:38:37.742344Z",
     "shell.execute_reply.started": "2021-05-30T05:29:20.630166Z"
    },
    "papermill": {
     "duration": 2.117065,
     "end_time": "2021-05-30T05:38:37.743240",
     "exception": false,
     "start_time": "2021-05-30T05:38:35.626175",
     "status": "completed"
    },
    "tags": []
   },
   "outputs": [],
   "source": [
    "model = tf.keras.models.Sequential([\n",
    "    tf.keras.layers.Conv2D(64, (3,3), padding = 'same', activation='relu', input_shape=(28, 28, 1)),\n",
    "    tf.keras.layers.MaxPooling2D(2, 2),\n",
    "    tf.keras.layers.Dropout(0.25),\n",
    "    tf.keras.layers.Conv2D(64, (3,3), padding = 'same', activation='relu'),\n",
    "    tf.keras.layers.MaxPooling2D(2,2),\n",
    "    tf.keras.layers.Dropout(0.25),\n",
    "    tf.keras.layers.Conv2D(128, (3,3), padding = 'same', activation='relu'),\n",
    "    tf.keras.layers.MaxPooling2D(2,2),\n",
    "    tf.keras.layers.Dropout(0.25),\n",
    "    tf.keras.layers.Conv2D(128, (3,3), padding = 'same', activation='relu'),\n",
    "    tf.keras.layers.MaxPooling2D(2,2),\n",
    "    tf.keras.layers.Dropout(0.25),\n",
    "    tf.keras.layers.Flatten(),\n",
    "    tf.keras.layers.Dense(256, activation='relu'),\n",
    "    tf.keras.layers.Dropout(0.5),\n",
    "    tf.keras.layers.Dense(10, activation='softmax')\n",
    "])"
   ]
  },
  {
   "cell_type": "code",
   "execution_count": 26,
   "id": "aa50aa15",
   "metadata": {
    "execution": {
     "iopub.execute_input": "2021-05-30T05:38:37.837356Z",
     "iopub.status.busy": "2021-05-30T05:38:37.836586Z",
     "iopub.status.idle": "2021-05-30T05:38:37.848419Z",
     "shell.execute_reply": "2021-05-30T05:38:37.847615Z",
     "shell.execute_reply.started": "2021-05-30T05:29:23.025051Z"
    },
    "papermill": {
     "duration": 0.062137,
     "end_time": "2021-05-30T05:38:37.848572",
     "exception": false,
     "start_time": "2021-05-30T05:38:37.786435",
     "status": "completed"
    },
    "tags": []
   },
   "outputs": [
    {
     "name": "stdout",
     "output_type": "stream",
     "text": [
      "Model: \"sequential_1\"\n",
      "_________________________________________________________________\n",
      "Layer (type)                 Output Shape              Param #   \n",
      "=================================================================\n",
      "conv2d_4 (Conv2D)            (None, 28, 28, 64)        640       \n",
      "_________________________________________________________________\n",
      "max_pooling2d_4 (MaxPooling2 (None, 14, 14, 64)        0         \n",
      "_________________________________________________________________\n",
      "dropout_5 (Dropout)          (None, 14, 14, 64)        0         \n",
      "_________________________________________________________________\n",
      "conv2d_5 (Conv2D)            (None, 14, 14, 64)        36928     \n",
      "_________________________________________________________________\n",
      "max_pooling2d_5 (MaxPooling2 (None, 7, 7, 64)          0         \n",
      "_________________________________________________________________\n",
      "dropout_6 (Dropout)          (None, 7, 7, 64)          0         \n",
      "_________________________________________________________________\n",
      "conv2d_6 (Conv2D)            (None, 7, 7, 128)         73856     \n",
      "_________________________________________________________________\n",
      "max_pooling2d_6 (MaxPooling2 (None, 3, 3, 128)         0         \n",
      "_________________________________________________________________\n",
      "dropout_7 (Dropout)          (None, 3, 3, 128)         0         \n",
      "_________________________________________________________________\n",
      "conv2d_7 (Conv2D)            (None, 3, 3, 128)         147584    \n",
      "_________________________________________________________________\n",
      "max_pooling2d_7 (MaxPooling2 (None, 1, 1, 128)         0         \n",
      "_________________________________________________________________\n",
      "dropout_8 (Dropout)          (None, 1, 1, 128)         0         \n",
      "_________________________________________________________________\n",
      "flatten_1 (Flatten)          (None, 128)               0         \n",
      "_________________________________________________________________\n",
      "dense_2 (Dense)              (None, 256)               33024     \n",
      "_________________________________________________________________\n",
      "dropout_9 (Dropout)          (None, 256)               0         \n",
      "_________________________________________________________________\n",
      "dense_3 (Dense)              (None, 10)                2570      \n",
      "=================================================================\n",
      "Total params: 294,602\n",
      "Trainable params: 294,602\n",
      "Non-trainable params: 0\n",
      "_________________________________________________________________\n"
     ]
    }
   ],
   "source": [
    "model.summary()"
   ]
  },
  {
   "cell_type": "markdown",
   "id": "6e956b33",
   "metadata": {
    "papermill": {
     "duration": 0.036133,
     "end_time": "2021-05-30T05:38:37.928498",
     "exception": false,
     "start_time": "2021-05-30T05:38:37.892365",
     "status": "completed"
    },
    "tags": []
   },
   "source": [
    "## Compiling the model (Optimizer=Adam)"
   ]
  },
  {
   "cell_type": "code",
   "execution_count": 27,
   "id": "54f3c5fa",
   "metadata": {
    "execution": {
     "iopub.execute_input": "2021-05-30T05:38:37.989066Z",
     "iopub.status.busy": "2021-05-30T05:38:37.988315Z",
     "iopub.status.idle": "2021-05-30T05:38:37.999993Z",
     "shell.execute_reply": "2021-05-30T05:38:37.999562Z",
     "shell.execute_reply.started": "2021-05-30T05:29:23.042495Z"
    },
    "papermill": {
     "duration": 0.04407,
     "end_time": "2021-05-30T05:38:38.000113",
     "exception": false,
     "start_time": "2021-05-30T05:38:37.956043",
     "status": "completed"
    },
    "tags": []
   },
   "outputs": [],
   "source": [
    "from keras.optimizers import Adam\n",
    "optimizer = Adam(lr=0.001, beta_1=0.9, beta_2=0.999)\n",
    "model.compile(optimizer = optimizer,\n",
    "              loss = 'categorical_crossentropy',\n",
    "              metrics = ['accuracy'])"
   ]
  },
  {
   "cell_type": "code",
   "execution_count": 29,
   "id": "9b4e0f44",
   "metadata": {
    "execution": {
     "iopub.execute_input": "2021-05-30T05:38:38.168247Z",
     "iopub.status.busy": "2021-05-30T05:38:38.167564Z",
     "iopub.status.idle": "2021-05-30T05:38:38.170311Z",
     "shell.execute_reply": "2021-05-30T05:38:38.169889Z",
     "shell.execute_reply.started": "2021-05-30T05:29:23.069709Z"
    },
    "papermill": {
     "duration": 0.032083,
     "end_time": "2021-05-30T05:38:38.170412",
     "exception": false,
     "start_time": "2021-05-30T05:38:38.138329",
     "status": "completed"
    },
    "tags": []
   },
   "outputs": [],
   "source": [
    "batch_size = 64\n",
    "epochs = 30"
   ]
  },
  {
   "cell_type": "code",
   "execution_count": 30,
   "id": "fa3e44e1",
   "metadata": {
    "execution": {
     "iopub.execute_input": "2021-05-30T05:38:38.280332Z",
     "iopub.status.busy": "2021-05-30T05:38:38.279396Z",
     "iopub.status.idle": "2021-05-30T05:38:38.372937Z",
     "shell.execute_reply": "2021-05-30T05:38:38.372479Z",
     "shell.execute_reply.started": "2021-05-30T05:29:23.080321Z"
    },
    "papermill": {
     "duration": 0.123798,
     "end_time": "2021-05-30T05:38:38.373062",
     "exception": false,
     "start_time": "2021-05-30T05:38:38.249264",
     "status": "completed"
    },
    "tags": []
   },
   "outputs": [],
   "source": [
    "train_datagen = ImageDataGenerator( \n",
    "        rotation_range=10,  \n",
    "        zoom_range = 0.1, \n",
    "        width_shift_range=0.1,  \n",
    "        height_shift_range=0.1,\n",
    "        shear_range = 0.1,\n",
    "        horizontal_flip=False,  \n",
    "        vertical_flip=False\n",
    "        )\n",
    "train_datagen.fit(x_train)"
   ]
  },
  {
   "cell_type": "markdown",
   "id": "34ca4ee5",
   "metadata": {
    "papermill": {
     "duration": 0.026296,
     "end_time": "2021-05-30T05:38:38.426292",
     "exception": false,
     "start_time": "2021-05-30T05:38:38.399996",
     "status": "completed"
    },
    "tags": []
   },
   "source": [
    "# Fitting the model"
   ]
  },
  {
   "cell_type": "code",
   "execution_count": 34,
   "id": "7b61397b",
   "metadata": {
    "execution": {
     "iopub.execute_input": "2021-05-30T05:38:38.484447Z",
     "iopub.status.busy": "2021-05-30T05:38:38.483473Z",
     "iopub.status.idle": "2021-05-30T05:45:32.497880Z",
     "shell.execute_reply": "2021-05-30T05:45:32.497373Z",
     "shell.execute_reply.started": "2021-05-30T05:29:23.182967Z"
    },
    "papermill": {
     "duration": 414.045231,
     "end_time": "2021-05-30T05:45:32.498010",
     "exception": false,
     "start_time": "2021-05-30T05:38:38.452779",
     "status": "completed"
    },
    "tags": []
   },
   "outputs": [
    {
     "name": "stdout",
     "output_type": "stream",
     "text": [
      "Epoch 1/30\n",
      "100/100 [==============================] - 64s 646ms/step - loss: 0.2369 - accuracy: 0.9269 - val_loss: 0.0765 - val_accuracy: 0.9776\n",
      "Epoch 2/30\n",
      "100/100 [==============================] - 71s 714ms/step - loss: 0.2104 - accuracy: 0.9400 - val_loss: 0.0877 - val_accuracy: 0.9726\n",
      "Epoch 3/30\n",
      "100/100 [==============================] - 71s 705ms/step - loss: 0.1768 - accuracy: 0.9480 - val_loss: 0.0688 - val_accuracy: 0.9779\n",
      "Epoch 4/30\n",
      "100/100 [==============================] - 72s 720ms/step - loss: 0.1815 - accuracy: 0.9461 - val_loss: 0.0645 - val_accuracy: 0.9764\n",
      "Epoch 5/30\n",
      "100/100 [==============================] - 71s 711ms/step - loss: 0.1709 - accuracy: 0.9488 - val_loss: 0.0579 - val_accuracy: 0.9829\n",
      "Epoch 6/30\n",
      "100/100 [==============================] - 74s 737ms/step - loss: 0.1397 - accuracy: 0.9586 - val_loss: 0.0663 - val_accuracy: 0.9802\n",
      "Epoch 7/30\n",
      "100/100 [==============================] - 79s 789ms/step - loss: 0.1455 - accuracy: 0.9559 - val_loss: 0.0538 - val_accuracy: 0.9819\n",
      "Epoch 8/30\n",
      "100/100 [==============================] - 63s 625ms/step - loss: 0.1385 - accuracy: 0.9581 - val_loss: 0.0565 - val_accuracy: 0.9812\n",
      "Epoch 9/30\n",
      "100/100 [==============================] - 79s 792ms/step - loss: 0.1335 - accuracy: 0.9625 - val_loss: 0.0472 - val_accuracy: 0.9843\n",
      "Epoch 10/30\n",
      "100/100 [==============================] - 88s 883ms/step - loss: 0.1212 - accuracy: 0.9614 - val_loss: 0.0444 - val_accuracy: 0.9848\n",
      "Epoch 11/30\n",
      "100/100 [==============================] - 62s 617ms/step - loss: 0.1223 - accuracy: 0.9649 - val_loss: 0.0432 - val_accuracy: 0.9850\n",
      "Epoch 12/30\n",
      "100/100 [==============================] - 84s 844ms/step - loss: 0.1226 - accuracy: 0.9625 - val_loss: 0.0402 - val_accuracy: 0.9867\n",
      "Epoch 13/30\n",
      "100/100 [==============================] - 109s 1s/step - loss: 0.1311 - accuracy: 0.9630 - val_loss: 0.0514 - val_accuracy: 0.9829\n",
      "Epoch 14/30\n",
      "100/100 [==============================] - 65s 642ms/step - loss: 0.1092 - accuracy: 0.9675 - val_loss: 0.0448 - val_accuracy: 0.9874\n",
      "Epoch 15/30\n",
      "100/100 [==============================] - 82s 825ms/step - loss: 0.1202 - accuracy: 0.9672 - val_loss: 0.0382 - val_accuracy: 0.9876\n",
      "Epoch 16/30\n",
      "100/100 [==============================] - 81s 806ms/step - loss: 0.0944 - accuracy: 0.9696 - val_loss: 0.0437 - val_accuracy: 0.9857\n",
      "Epoch 17/30\n",
      "100/100 [==============================] - 64s 640ms/step - loss: 0.1051 - accuracy: 0.9705 - val_loss: 0.0407 - val_accuracy: 0.9876\n",
      "Epoch 18/30\n",
      "100/100 [==============================] - 55s 546ms/step - loss: 0.1010 - accuracy: 0.9728 - val_loss: 0.0373 - val_accuracy: 0.9879\n",
      "Epoch 19/30\n",
      "100/100 [==============================] - 76s 760ms/step - loss: 0.1030 - accuracy: 0.9733 - val_loss: 0.0372 - val_accuracy: 0.9883\n",
      "Epoch 20/30\n",
      "100/100 [==============================] - 63s 633ms/step - loss: 0.0950 - accuracy: 0.9708 - val_loss: 0.0447 - val_accuracy: 0.9852\n",
      "Epoch 21/30\n",
      "100/100 [==============================] - 63s 631ms/step - loss: 0.1046 - accuracy: 0.9705 - val_loss: 0.0385 - val_accuracy: 0.9886\n",
      "Epoch 22/30\n",
      "100/100 [==============================] - 63s 621ms/step - loss: 0.0850 - accuracy: 0.9761 - val_loss: 0.0383 - val_accuracy: 0.9876\n",
      "Epoch 23/30\n",
      "100/100 [==============================] - 49s 489ms/step - loss: 0.0944 - accuracy: 0.9737 - val_loss: 0.0406 - val_accuracy: 0.9871\n",
      "Epoch 24/30\n",
      "100/100 [==============================] - 75s 749ms/step - loss: 0.0906 - accuracy: 0.9762 - val_loss: 0.0413 - val_accuracy: 0.9886\n",
      "Epoch 25/30\n",
      "100/100 [==============================] - 59s 592ms/step - loss: 0.0835 - accuracy: 0.9742 - val_loss: 0.0370 - val_accuracy: 0.9900\n",
      "Epoch 26/30\n",
      "100/100 [==============================] - 53s 535ms/step - loss: 0.0819 - accuracy: 0.9750 - val_loss: 0.0361 - val_accuracy: 0.9883\n",
      "Epoch 27/30\n",
      "100/100 [==============================] - 49s 481ms/step - loss: 0.0786 - accuracy: 0.9777 - val_loss: 0.0378 - val_accuracy: 0.9886\n",
      "Epoch 28/30\n",
      "100/100 [==============================] - 48s 478ms/step - loss: 0.0823 - accuracy: 0.9748 - val_loss: 0.0328 - val_accuracy: 0.9912\n",
      "Epoch 29/30\n",
      "100/100 [==============================] - 67s 673ms/step - loss: 0.0868 - accuracy: 0.9746 - val_loss: 0.0354 - val_accuracy: 0.9893\n",
      "Epoch 30/30\n",
      "100/100 [==============================] - 49s 491ms/step - loss: 0.0757 - accuracy: 0.9781 - val_loss: 0.0400 - val_accuracy: 0.9879\n"
     ]
    }
   ],
   "source": [
    "history = model.fit(\n",
    "            train_datagen.flow(x_train,y_train,batch_size = batch_size),\n",
    "            validation_data = (x_test,y_test),\n",
    "            batch_size = batch_size,\n",
    "            steps_per_epoch = 100,\n",
    "            epochs = epochs,\n",
    "            verbose = 1\n",
    "             )"
   ]
  },
  {
   "cell_type": "markdown",
   "id": "b829ee61",
   "metadata": {},
   "source": [
    "# Train Accuracy : 97.8% \n",
    "# Test Accuracy : 98.7%"
   ]
  },
  {
   "cell_type": "markdown",
   "id": "b2261441",
   "metadata": {},
   "source": [
    "----------------------------------------"
   ]
  },
  {
   "cell_type": "markdown",
   "id": "0c94a2f5",
   "metadata": {
    "papermill": {
     "duration": 1.77563,
     "end_time": "2021-05-30T05:45:35.861721",
     "exception": false,
     "start_time": "2021-05-30T05:45:34.086091",
     "status": "completed"
    },
    "tags": []
   },
   "source": [
    "\n",
    "## Model Evaluation"
   ]
  },
  {
   "cell_type": "code",
   "execution_count": 35,
   "id": "5fe95cec",
   "metadata": {
    "execution": {
     "iopub.execute_input": "2021-05-30T05:45:39.079517Z",
     "iopub.status.busy": "2021-05-30T05:45:39.078542Z",
     "iopub.status.idle": "2021-05-30T05:45:39.881181Z",
     "shell.execute_reply": "2021-05-30T05:45:39.881546Z",
     "shell.execute_reply.started": "2021-05-30T05:37:36.156124Z"
    },
    "papermill": {
     "duration": 2.389115,
     "end_time": "2021-05-30T05:45:39.881719",
     "exception": false,
     "start_time": "2021-05-30T05:45:37.492604",
     "status": "completed"
    },
    "tags": []
   },
   "outputs": [
    {
     "name": "stdout",
     "output_type": "stream",
     "text": [
      "132/132 [==============================] - 9s 70ms/step - loss: 0.0400 - accuracy: 0.9879\n"
     ]
    },
    {
     "data": {
      "text/plain": [
       "[0.03999985009431839, 0.9878571629524231]"
      ]
     },
     "execution_count": 35,
     "metadata": {},
     "output_type": "execute_result"
    }
   ],
   "source": [
    "model.evaluate(x_test,y_test)"
   ]
  },
  {
   "cell_type": "markdown",
   "id": "ac10fc36",
   "metadata": {},
   "source": [
    "## Accuracy and loss plots"
   ]
  },
  {
   "cell_type": "code",
   "execution_count": 46,
   "id": "6d70c895",
   "metadata": {
    "execution": {
     "iopub.execute_input": "2021-05-30T05:45:43.124824Z",
     "iopub.status.busy": "2021-05-30T05:45:43.122146Z",
     "iopub.status.idle": "2021-05-30T05:45:43.259078Z",
     "shell.execute_reply": "2021-05-30T05:45:43.258644Z",
     "shell.execute_reply.started": "2021-05-30T05:36:15.873845Z"
    },
    "papermill": {
     "duration": 1.785787,
     "end_time": "2021-05-30T05:45:43.259198",
     "exception": false,
     "start_time": "2021-05-30T05:45:41.473411",
     "status": "completed"
    },
    "tags": []
   },
   "outputs": [
    {
     "data": {
      "text/plain": [
       "<matplotlib.legend.Legend at 0x216295dcf08>"
      ]
     },
     "execution_count": 46,
     "metadata": {},
     "output_type": "execute_result"
    },
    {
     "data": {
      "image/png": "[encoded data removed]",
      "text/plain": [
       "<Figure size 432x288 with 1 Axes>"
      ]
     },
     "metadata": {
      "needs_background": "light"
     },
     "output_type": "display_data"
    }
   ],
   "source": [
    "acc = history.history['accuracy']\n",
    "val_acc = history.history['val_accuracy']\n",
    "loss = history.history['loss']\n",
    "val_loss = history.history['val_loss']\n",
    "\n",
    "plt.figure()\n",
    "plt.plot(acc,color = 'green',label = 'Training Acuracy')\n",
    "plt.plot(val_acc,color = 'red',label = 'Validation Accuracy')\n",
    "plt.title('ACCURACY GRAPH')\n",
    "plt.legend()"
   ]
  },
  {
   "cell_type": "code",
   "execution_count": 47,
   "id": "092ce99d",
   "metadata": {
    "execution": {
     "iopub.execute_input": "2021-05-30T05:45:47.105390Z",
     "iopub.status.busy": "2021-05-30T05:45:47.104541Z",
     "iopub.status.idle": "2021-05-30T05:45:47.213471Z",
     "shell.execute_reply": "2021-05-30T05:45:47.212983Z",
     "shell.execute_reply.started": "2021-05-30T05:36:16.018912Z"
    },
    "papermill": {
     "duration": 2.066474,
     "end_time": "2021-05-30T05:45:47.213588",
     "exception": false,
     "start_time": "2021-05-30T05:45:45.147114",
     "status": "completed"
    },
    "tags": []
   },
   "outputs": [
    {
     "data": {
      "text/plain": [
       "<matplotlib.legend.Legend at 0x2162bb122c8>"
      ]
     },
     "execution_count": 47,
     "metadata": {},
     "output_type": "execute_result"
    },
    {
     "data": {
      "image/png": "[encoded data removed]",
      "text/plain": [
       "<Figure size 432x288 with 1 Axes>"
      ]
     },
     "metadata": {
      "needs_background": "light"
     },
     "output_type": "display_data"
    }
   ],
   "source": [
    "plt.figure()\n",
    "plt.plot(loss,color = 'green',label = 'Training Loss')\n",
    "plt.plot(val_loss,color = 'red',label = 'Validation Loss')\n",
    "plt.title(\"MODEL LOSS\")\n",
    "plt.legend()"
   ]
  },
  {
   "cell_type": "code",
   "execution_count": null,
   "id": "f0f85ab2",
   "metadata": {},
   "outputs": [],
   "source": []
  }
 ],
 "metadata": {
  "kernelspec": {
   "display_name": "Python 3 (ipykernel)",
   "language": "python",
   "name": "python3"
  },
  "language_info": {
   "codemirror_mode": {
    "name": "ipython",
    "version": 3
   },
   "file_extension": ".py",
   "mimetype": "text/x-python",
   "name": "python",
   "nbconvert_exporter": "python",
   "pygments_lexer": "ipython3",
   "version": "3.9.18"
  },
  "papermill": {
   "default_parameters": {},
   "duration": 474.286156,
   "end_time": "2021-05-30T05:46:11.228639",
   "environment_variables": {},
   "exception": null,
   "input_path": "__notebook__.ipynb",
   "output_path": "__notebook__.ipynb",
   "parameters": {},
   "start_time": "2021-05-30T05:38:16.942483",
   "version": "2.3.3"
  }
 },
 "nbformat": 4,
 "nbformat_minor": 5
}
