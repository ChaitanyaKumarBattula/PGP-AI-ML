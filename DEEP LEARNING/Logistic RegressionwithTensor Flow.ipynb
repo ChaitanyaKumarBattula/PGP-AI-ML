{
 "cells": [
  {
   "cell_type": "markdown",
   "metadata": {},
   "source": [
    "# COURSE:   PGP [AI&ML]\n",
    "\n",
    "## Learner :  Chaitanya Kumar Battula\n",
    "## Module  : Deep Learning\n",
    "## Topic   : LogisticRegressionwithTensorFlow"
   ]
  },
  {
   "cell_type": "code",
   "execution_count": null,
   "metadata": {},
   "outputs": [],
   "source": [
    "import pandas as pd\n",
    "import numpy as np\n",
    "import time\n",
    "from sklearn.datasets import load_iris\n",
    "from sklearn.model_selection import train_test_split\n",
    "import matplotlib.pyplot as plt"
   ]
  },
  {
   "cell_type": "code",
   "execution_count": null,
   "metadata": {},
   "outputs": [],
   "source": [
    "#import tensorflow as tf\n",
    "import tensorflow.compat.v1 as tf\n",
    "tf.disable_v2_behavior()"
   ]
  },
  {
   "cell_type": "markdown",
   "metadata": {},
   "source": [
    "# Load data set"
   ]
  },
  {
   "cell_type": "code",
   "execution_count": 2,
   "metadata": {},
   "outputs": [],
   "source": [
    "iris = load_iris()\n",
    "iris_X, iris_y = iris.data[:-1,:], iris.target[:-1]\n",
    "iris_y= pd.get_dummies(iris_y).values\n",
    "trainX, testX, trainY, testY = train_test_split(iris_X, iris_y, test_size=0.33, random_state=42)"
   ]
  },
  {
   "cell_type": "code",
   "execution_count": 3,
   "metadata": {},
   "outputs": [],
   "source": [
    "# numFeatures is the number of features in our input data.\n",
    "# In the iris dataset, this number is '4'.\n",
    "numFeatures = trainX.shape[1]\n",
    "\n",
    "# numLabels is the number of classes our data points can be in.\n",
    "# In the iris dataset, this number is '3'.\n",
    "numLabels = trainY.shape[1]\n",
    "\n",
    "\n",
    "# Placeholders\n",
    "# 'None' means TensorFlow shouldn't expect a fixed number in that dimension\n",
    "X = tf.placeholder(tf.float32, [None, numFeatures]) # Iris has 4 features, so X is a tensor to hold our data.\n",
    "yGold = tf.placeholder(tf.float32, [None, numLabels]) # This will be our correct answers matrix for 3 classes."
   ]
  },
  {
   "cell_type": "markdown",
   "metadata": {},
   "source": [
    "# Set model weights and bias"
   ]
  },
  {
   "cell_type": "code",
   "execution_count": 4,
   "metadata": {},
   "outputs": [],
   "source": [
    "W = tf.Variable(tf.zeros([4, 3]))  # 4-dimensional input and  3 classes\n",
    "b = tf.Variable(tf.zeros([3])) # 3-dimensional output [0,0,1],[0,1,0],[1,0,0]"
   ]
  },
  {
   "cell_type": "code",
   "execution_count": 5,
   "metadata": {},
   "outputs": [],
   "source": [
    "#Randomly sample from a normal distribution with standard deviation .01\n",
    "\n",
    "weights = tf.Variable(tf.random_normal([numFeatures,numLabels],\n",
    "                                       mean=0,\n",
    "                                       stddev=0.01,\n",
    "                                       name=\"weights\"))\n",
    "\n",
    "bias = tf.Variable(tf.random_normal([1,numLabels],\n",
    "                                    mean=0,\n",
    "                                    stddev=0.01,\n",
    "                                    name=\"bias\"))"
   ]
  },
  {
   "cell_type": "code",
   "execution_count": 6,
   "metadata": {},
   "outputs": [],
   "source": [
    "# Three-component breakdown of the Logistic Regression equation.\n",
    "# Note that these feed into each other.\n",
    "apply_weights_OP = tf.matmul(X, weights, name=\"apply_weights\")\n",
    "add_bias_OP = tf.add(apply_weights_OP, bias, name=\"add_bias\") \n",
    "activation_OP = tf.nn.sigmoid(add_bias_OP, name=\"activation\")"
   ]
  },
  {
   "cell_type": "markdown",
   "metadata": {},
   "source": [
    "<hr>"
   ]
  },
  {
   "cell_type": "markdown",
   "metadata": {},
   "source": [
    "# Training"
   ]
  },
  {
   "cell_type": "code",
   "execution_count": 7,
   "metadata": {},
   "outputs": [],
   "source": [
    "# Number of Epochs in our training\n",
    "numEpochs = 700\n",
    "\n",
    "# Defining our learning rate iterations (decay)\n",
    "learningRate = tf.train.exponential_decay(learning_rate=0.0008,\n",
    "                                          global_step= 1,\n",
    "                                          decay_steps=trainX.shape[0],\n",
    "                                          decay_rate= 0.95,\n",
    "                                          staircase=True)"
   ]
  },
  {
   "cell_type": "code",
   "execution_count": 8,
   "metadata": {},
   "outputs": [],
   "source": [
    "#Defining our cost function - Squared Mean Error\n",
    "cost_OP = tf.nn.l2_loss(activation_OP-yGold, name=\"squared_error_cost\")\n",
    "\n",
    "#Defining our Gradient Descent\n",
    "training_OP = tf.train.GradientDescentOptimizer(learningRate).minimize(cost_OP)"
   ]
  },
  {
   "cell_type": "code",
   "execution_count": 9,
   "metadata": {},
   "outputs": [],
   "source": [
    "# Create a tensorflow session\n",
    "sess = tf.Session()\n",
    "\n",
    "# Initialize our weights and biases variables.\n",
    "init_OP = tf.global_variables_initializer()\n",
    "\n",
    "# Initialize all tensorflow variables\n",
    "sess.run(init_OP)"
   ]
  },
  {
   "cell_type": "code",
   "execution_count": 10,
   "metadata": {},
   "outputs": [],
   "source": [
    "# argmax(activation_OP, 1) returns the label with the most probability\n",
    "# argmax(yGold, 1) is the correct label\n",
    "correct_predictions_OP = tf.equal(tf.argmax(activation_OP,1),tf.argmax(yGold,1))\n",
    "\n",
    "# If every false prediction is 0 and every true prediction is 1, the average returns us the accuracy\n",
    "accuracy_OP = tf.reduce_mean(tf.cast(correct_predictions_OP, \"float\"))\n",
    "\n",
    "# Summary op for regression output\n",
    "activation_summary_OP = tf.summary.histogram(\"output\", activation_OP)\n",
    "\n",
    "# Summary op for accuracy\n",
    "accuracy_summary_OP = tf.summary.scalar(\"accuracy\", accuracy_OP)\n",
    "\n",
    "# Summary op for cost\n",
    "cost_summary_OP = tf.summary.scalar(\"cost\", cost_OP)\n",
    "\n",
    "# Summary ops to check how variables (W, b) are updating after each iteration\n",
    "weightSummary = tf.summary.histogram(\"weights\", weights.eval(session=sess))\n",
    "biasSummary = tf.summary.histogram(\"biases\", bias.eval(session=sess))\n",
    "\n",
    "# Merge all summaries\n",
    "merged = tf.summary.merge([activation_summary_OP, accuracy_summary_OP, cost_summary_OP, weightSummary, biasSummary])\n",
    "\n",
    "# Summary writer\n",
    "writer = tf.summary.FileWriter(\"summary_logs\", sess.graph)"
   ]
  },
  {
   "cell_type": "code",
   "execution_count": 11,
   "metadata": {},
   "outputs": [
    {
     "name": "stdout",
     "output_type": "stream",
     "text": [
      "step 0, training accuracy 0.333333, cost 34.4115, change in cost 34.4115\n",
      "step 10, training accuracy 0.585859, cost 30.0302, change in cost 4.38131\n",
      "step 20, training accuracy 0.646465, cost 28.0976, change in cost 1.93257\n",
      "step 30, training accuracy 0.646465, cost 26.4659, change in cost 1.63169\n",
      "step 40, training accuracy 0.646465, cost 25.1097, change in cost 1.35621\n",
      "step 50, training accuracy 0.646465, cost 23.989, change in cost 1.12075\n",
      "step 60, training accuracy 0.646465, cost 23.061, change in cost 0.927944\n",
      "step 70, training accuracy 0.646465, cost 22.2878, change in cost 0.773279\n",
      "step 80, training accuracy 0.646465, cost 21.6376, change in cost 0.650126\n",
      "step 90, training accuracy 0.646465, cost 21.0856, change in cost 0.552015\n",
      "step 100, training accuracy 0.656566, cost 20.6121, change in cost 0.473475\n",
      "step 110, training accuracy 0.666667, cost 20.202, change in cost 0.41016\n",
      "step 120, training accuracy 0.666667, cost 19.8433, change in cost 0.358683\n",
      "step 130, training accuracy 0.666667, cost 19.5268, change in cost 0.316469\n",
      "step 140, training accuracy 0.666667, cost 19.2453, change in cost 0.281542\n",
      "step 150, training accuracy 0.666667, cost 18.9929, change in cost 0.252394\n",
      "step 160, training accuracy 0.686869, cost 18.765, change in cost 0.227873\n",
      "step 170, training accuracy 0.686869, cost 18.5579, change in cost 0.207077\n",
      "step 180, training accuracy 0.69697, cost 18.3686, change in cost 0.18931\n",
      "step 190, training accuracy 0.717172, cost 18.1946, change in cost 0.174023\n",
      "step 200, training accuracy 0.717172, cost 18.0338, change in cost 0.160786\n",
      "step 210, training accuracy 0.737374, cost 17.8846, change in cost 0.149244\n",
      "step 220, training accuracy 0.737374, cost 17.7455, change in cost 0.13913\n",
      "step 230, training accuracy 0.747475, cost 17.6152, change in cost 0.130213\n",
      "step 240, training accuracy 0.757576, cost 17.4929, change in cost 0.122311\n",
      "step 250, training accuracy 0.777778, cost 17.3777, change in cost 0.115273\n",
      "step 260, training accuracy 0.787879, cost 17.2687, change in cost 0.108974\n",
      "step 270, training accuracy 0.787879, cost 17.1654, change in cost 0.103317\n",
      "step 280, training accuracy 0.787879, cost 17.0672, change in cost 0.0982113\n",
      "step 290, training accuracy 0.787879, cost 16.9736, change in cost 0.0935783\n",
      "step 300, training accuracy 0.79798, cost 16.8842, change in cost 0.0893745\n",
      "step 310, training accuracy 0.79798, cost 16.7987, change in cost 0.0855312\n",
      "step 320, training accuracy 0.79798, cost 16.7167, change in cost 0.0820141\n",
      "step 330, training accuracy 0.79798, cost 16.6379, change in cost 0.0787811\n",
      "step 340, training accuracy 0.808081, cost 16.5621, change in cost 0.0758018\n",
      "step 350, training accuracy 0.828283, cost 16.489, change in cost 0.0730495\n",
      "step 360, training accuracy 0.828283, cost 16.4185, change in cost 0.0704937\n",
      "step 370, training accuracy 0.838384, cost 16.3504, change in cost 0.0681248\n",
      "step 380, training accuracy 0.838384, cost 16.2845, change in cost 0.0659142\n",
      "step 390, training accuracy 0.848485, cost 16.2206, change in cost 0.0638504\n",
      "step 400, training accuracy 0.848485, cost 16.1587, change in cost 0.0619164\n",
      "step 410, training accuracy 0.848485, cost 16.0986, change in cost 0.0601082\n",
      "step 420, training accuracy 0.848485, cost 16.0402, change in cost 0.058403\n",
      "step 430, training accuracy 0.848485, cost 15.9834, change in cost 0.056797\n",
      "step 440, training accuracy 0.868687, cost 15.9281, change in cost 0.0552845\n",
      "step 450, training accuracy 0.868687, cost 15.8743, change in cost 0.0538511\n",
      "step 460, training accuracy 0.878788, cost 15.8218, change in cost 0.0524969\n",
      "step 470, training accuracy 0.878788, cost 15.7706, change in cost 0.0512133\n",
      "step 480, training accuracy 0.878788, cost 15.7206, change in cost 0.0499897\n",
      "step 490, training accuracy 0.878788, cost 15.6718, change in cost 0.0488262\n",
      "step 500, training accuracy 0.878788, cost 15.624, change in cost 0.0477219\n",
      "step 510, training accuracy 0.878788, cost 15.5774, change in cost 0.0466633\n",
      "step 520, training accuracy 0.878788, cost 15.5317, change in cost 0.0456543\n",
      "step 530, training accuracy 0.888889, cost 15.487, change in cost 0.0446882\n",
      "step 540, training accuracy 0.89899, cost 15.4433, change in cost 0.043767\n",
      "step 550, training accuracy 0.89899, cost 15.4004, change in cost 0.0428772\n",
      "step 560, training accuracy 0.89899, cost 15.3584, change in cost 0.0420275\n",
      "step 570, training accuracy 0.89899, cost 15.3171, change in cost 0.0412102\n",
      "step 580, training accuracy 0.89899, cost 15.2767, change in cost 0.0404243\n",
      "step 590, training accuracy 0.909091, cost 15.2371, change in cost 0.0396681\n",
      "step 600, training accuracy 0.909091, cost 15.1981, change in cost 0.0389385\n",
      "step 610, training accuracy 0.909091, cost 15.1599, change in cost 0.0382347\n",
      "step 620, training accuracy 0.909091, cost 15.1223, change in cost 0.0375557\n",
      "step 630, training accuracy 0.909091, cost 15.0854, change in cost 0.0369034\n",
      "step 640, training accuracy 0.909091, cost 15.0492, change in cost 0.0362673\n",
      "step 650, training accuracy 0.909091, cost 15.0135, change in cost 0.035656\n",
      "step 660, training accuracy 0.909091, cost 14.9784, change in cost 0.0350618\n",
      "step 670, training accuracy 0.909091, cost 14.9439, change in cost 0.0344868\n",
      "step 680, training accuracy 0.909091, cost 14.91, change in cost 0.0339317\n",
      "step 690, training accuracy 0.909091, cost 14.8766, change in cost 0.0333891\n",
      "final accuracy on test set: 0.9\n"
     ]
    }
   ],
   "source": [
    "# Initialize reporting variables\n",
    "cost = 0\n",
    "diff = 1\n",
    "epoch_values = []\n",
    "accuracy_values = []\n",
    "cost_values = []\n",
    "\n",
    "# Training epochs\n",
    "for i in range(numEpochs):\n",
    "    if i > 1 and diff < .0001:\n",
    "        print(\"change in cost %g; convergence.\"%diff)\n",
    "        break\n",
    "    else:\n",
    "        # Run training step\n",
    "        step = sess.run(training_OP, feed_dict={X: trainX, yGold: trainY})\n",
    "        # Report occasional stats\n",
    "        if i % 10 == 0:\n",
    "            # Add epoch to epoch_values\n",
    "            epoch_values.append(i)\n",
    "            # Generate accuracy stats on test data\n",
    "            train_accuracy, newCost = sess.run([accuracy_OP, cost_OP], feed_dict={X: trainX, yGold: trainY})\n",
    "            # Add accuracy to live graphing variable\n",
    "            accuracy_values.append(train_accuracy)\n",
    "            # Add cost to live graphing variable\n",
    "            cost_values.append(newCost)\n",
    "            # Re-assign values for variables\n",
    "            diff = abs(newCost - cost)\n",
    "            cost = newCost\n",
    "\n",
    "            #generate print statements\n",
    "            print(\"step %d, training accuracy %g, cost %g, change in cost %g\"%(i, train_accuracy, newCost, diff))\n",
    "\n",
    "\n",
    "# How well do we perform on held-out test data?\n",
    "print(\"final accuracy on test set: %s\" %str(sess.run(accuracy_OP, \n",
    "                                                     feed_dict={X: testX, \n",
    "                                                                yGold: testY})))"
   ]
  },
  {
   "cell_type": "markdown",
   "metadata": {},
   "source": [
    "# Plot Cost"
   ]
  },
  {
   "cell_type": "code",
   "execution_count": 12,
   "metadata": {},
   "outputs": [
    {
     "name": "stderr",
     "output_type": "stream",
     "text": [
      "C:\\Users\\USER\\anaconda3\\lib\\site-packages\\numpy\\core\\fromnumeric.py:3372: RuntimeWarning: Mean of empty slice.\n",
      "  return _methods._mean(a, axis=axis, dtype=dtype,\n",
      "C:\\Users\\USER\\anaconda3\\lib\\site-packages\\numpy\\core\\_methods.py:170: RuntimeWarning: invalid value encountered in double_scalars\n",
      "  ret = ret.dtype.type(ret / rcount)\n"
     ]
    },
    {
     "data": {
      "image/png": "[encoded data removed]",
      "text/plain": [
       "<Figure size 432x288 with 1 Axes>"
      ]
     },
     "metadata": {
      "needs_background": "light"
     },
     "output_type": "display_data"
    }
   ],
   "source": [
    "%matplotlib inline\n",
    "import numpy as np\n",
    "import matplotlib.pyplot as plt\n",
    "plt.plot([np.mean(cost_values[i-50:i]) for i in range(len(cost_values))])\n",
    "plt.show()"
   ]
  },
  {
   "cell_type": "markdown",
   "metadata": {},
   "source": [
    "Max accuracy achieved during training is 90% "
   ]
  }
 ],
 "metadata": {
  "kernelspec": {
   "display_name": "Python 3",
   "language": "python",
   "name": "python3"
  },
  "language_info": {
   "codemirror_mode": {
    "name": "ipython",
    "version": 3
   },
   "file_extension": ".py",
   "mimetype": "text/x-python",
   "name": "python",
   "nbconvert_exporter": "python",
   "pygments_lexer": "ipython3",
   "version": "3.8.3"
  }
 },
 "nbformat": 4,
 "nbformat_minor": 2
}
