{
 "cells": [
  {
   "cell_type": "markdown",
   "metadata": {},
   "source": [
    "# COURSE:   PGP [AI&ML]\n",
    "\n",
    "## Learner :  Chaitanya Kumar Battula\n",
    "## Module  : Deep Learning\n",
    "## Topic   : Practice Project_Build an autoencoder model to regenerate the objects of the given MNIST dataset."
   ]
  },
  {
   "cell_type": "markdown",
   "metadata": {},
   "source": [
    "# Tasks\n",
    "DESCRIPTION\n",
    "\n",
    "Build an autoencoder model to regenerate the objects of the given MNIST dataset.\n",
    "\n",
    "Objective: Regenerate the objects of MNIST dataset using autoencoder model.\n"
   ]
  },
  {
   "cell_type": "code",
   "execution_count": 1,
   "metadata": {},
   "outputs": [],
   "source": [
    "import tensorflow as tf"
   ]
  },
  {
   "cell_type": "code",
   "execution_count": 2,
   "metadata": {},
   "outputs": [
    {
     "data": {
      "text/plain": [
       "'1.14.0'"
      ]
     },
     "execution_count": 2,
     "metadata": {},
     "output_type": "execute_result"
    }
   ],
   "source": [
    "tf.__version__"
   ]
  },
  {
   "cell_type": "code",
   "execution_count": 3,
   "metadata": {},
   "outputs": [
    {
     "name": "stderr",
     "output_type": "stream",
     "text": [
      "Using TensorFlow backend.\n"
     ]
    }
   ],
   "source": [
    "import keras as k"
   ]
  },
  {
   "cell_type": "code",
   "execution_count": 4,
   "metadata": {},
   "outputs": [
    {
     "data": {
      "text/plain": [
       "'2.3.1'"
      ]
     },
     "execution_count": 4,
     "metadata": {},
     "output_type": "execute_result"
    }
   ],
   "source": [
    "k.__version__"
   ]
  },
  {
   "cell_type": "code",
   "execution_count": 5,
   "metadata": {},
   "outputs": [],
   "source": [
    "import sklearn"
   ]
  },
  {
   "cell_type": "code",
   "execution_count": 6,
   "metadata": {},
   "outputs": [
    {
     "data": {
      "text/plain": [
       "'0.21.2'"
      ]
     },
     "execution_count": 6,
     "metadata": {},
     "output_type": "execute_result"
    }
   ],
   "source": [
    "sklearn.__version__"
   ]
  },
  {
   "cell_type": "code",
   "execution_count": 7,
   "metadata": {},
   "outputs": [],
   "source": [
    "from keras.layers import Input, Dense\n",
    "from keras.models import Model\n",
    "\n",
    "# this is the size of our encoded representations\n",
    "encoding_dim = 32  # 32 floats -> compression of factor 24.5, assuming the input is 784 floats\n",
    "\n",
    "# this is our input placeholder\n",
    "input_img = Input(shape=(784,))\n",
    "# \"encoded\" is the encoded representation of the input\n",
    "encoded = Dense(encoding_dim, activation='relu')(input_img)\n",
    "# \"decoded\" is the lossy reconstruction of the input\n",
    "decoded = Dense(784, activation='sigmoid')(encoded)\n",
    "\n",
    "# this model maps an input to its reconstruction\n",
    "autoencoder = Model(input_img, decoded)"
   ]
  },
  {
   "cell_type": "code",
   "execution_count": 8,
   "metadata": {},
   "outputs": [],
   "source": [
    "# this model maps an input to its encoded representation\n",
    "encoder = Model(input_img, encoded)"
   ]
  },
  {
   "cell_type": "code",
   "execution_count": 9,
   "metadata": {},
   "outputs": [],
   "source": [
    "# create a placeholder for an encoded (32-dimensional) input\n",
    "encoded_input = Input(shape=(encoding_dim,))\n",
    "# retrieve the last layer of the autoencoder model\n",
    "decoder_layer = autoencoder.layers[-1]\n",
    "# create the decoder model\n",
    "decoder = Model(encoded_input, decoder_layer(encoded_input))"
   ]
  },
  {
   "cell_type": "code",
   "execution_count": 10,
   "metadata": {},
   "outputs": [
    {
     "name": "stdout",
     "output_type": "stream",
     "text": [
      "WARNING:tensorflow:From C:\\Users\\pranjal.taye\\AppData\\Local\\Continuum\\anaconda3\\lib\\site-packages\\tensorflow\\python\\ops\\nn_impl.py:180: add_dispatch_support.<locals>.wrapper (from tensorflow.python.ops.array_ops) is deprecated and will be removed in a future version.\n",
      "Instructions for updating:\n",
      "Use tf.where in 2.0, which has the same broadcast rule as np.where\n"
     ]
    }
   ],
   "source": [
    "autoencoder.compile(optimizer='adadelta', loss='binary_crossentropy')"
   ]
  },
  {
   "cell_type": "code",
   "execution_count": 11,
   "metadata": {},
   "outputs": [],
   "source": [
    "from keras.datasets import fashion_mnist\n",
    "import numpy as np\n",
    "\n",
    "(x_train, y_train), (x_test, y_test) = fashion_mnist.load_data()"
   ]
  },
  {
   "cell_type": "code",
   "execution_count": 12,
   "metadata": {},
   "outputs": [
    {
     "name": "stdout",
     "output_type": "stream",
     "text": [
      "(60000, 784)\n",
      "(10000, 784)\n"
     ]
    }
   ],
   "source": [
    "x_train = x_train.astype('float32') / 255.\n",
    "x_test = x_test.astype('float32') / 255.\n",
    "x_train = x_train.reshape((len(x_train), np.prod(x_train.shape[1:])))\n",
    "x_test = x_test.reshape((len(x_test), np.prod(x_test.shape[1:])))\n",
    "print (x_train.shape)\n",
    "print (x_test.shape)"
   ]
  },
  {
   "cell_type": "code",
   "execution_count": 13,
   "metadata": {},
   "outputs": [
    {
     "name": "stdout",
     "output_type": "stream",
     "text": [
      "WARNING:tensorflow:From C:\\Users\\pranjal.taye\\AppData\\Local\\Continuum\\anaconda3\\lib\\site-packages\\keras\\backend\\tensorflow_backend.py:422: The name tf.global_variables is deprecated. Please use tf.compat.v1.global_variables instead.\n",
      "\n",
      "Train on 60000 samples, validate on 10000 samples\n",
      "Epoch 1/50\n",
      "60000/60000 [==============================] - 3s 46us/step - loss: 0.5280 - val_loss: 0.4582\n",
      "Epoch 2/50\n",
      "60000/60000 [==============================] - 3s 45us/step - loss: 0.4253 - val_loss: 0.4058\n",
      "Epoch 3/50\n",
      "60000/60000 [==============================] - 3s 42us/step - loss: 0.3948 - val_loss: 0.3871\n",
      "Epoch 4/50\n",
      "60000/60000 [==============================] - 2s 41us/step - loss: 0.3775 - val_loss: 0.3713\n",
      "Epoch 5/50\n",
      "60000/60000 [==============================] - 2s 41us/step - loss: 0.3629 - val_loss: 0.3583\n",
      "Epoch 6/50\n",
      "60000/60000 [==============================] - 2s 41us/step - loss: 0.3513 - val_loss: 0.3482\n",
      "Epoch 7/50\n",
      "60000/60000 [==============================] - 2s 41us/step - loss: 0.3424 - val_loss: 0.3404\n",
      "Epoch 8/50\n",
      "60000/60000 [==============================] - 2s 41us/step - loss: 0.3355 - val_loss: 0.3344\n",
      "Epoch 9/50\n",
      "60000/60000 [==============================] - 3s 46us/step - loss: 0.3300 - val_loss: 0.3297\n",
      "Epoch 10/50\n",
      "60000/60000 [==============================] - 3s 44us/step - loss: 0.3257 - val_loss: 0.3257\n",
      "Epoch 11/50\n",
      "60000/60000 [==============================] - 2s 42us/step - loss: 0.3221 - val_loss: 0.3226\n",
      "Epoch 12/50\n",
      "60000/60000 [==============================] - 3s 44us/step - loss: 0.3192 - val_loss: 0.3198\n",
      "Epoch 13/50\n",
      "60000/60000 [==============================] - 3s 47us/step - loss: 0.3167 - val_loss: 0.3176\n",
      "Epoch 14/50\n",
      "60000/60000 [==============================] - 3s 42us/step - loss: 0.3147 - val_loss: 0.3158\n",
      "Epoch 15/50\n",
      "60000/60000 [==============================] - 3s 46us/step - loss: 0.3130 - val_loss: 0.3142\n",
      "Epoch 16/50\n",
      "60000/60000 [==============================] - 2s 41us/step - loss: 0.3115 - val_loss: 0.3129\n",
      "Epoch 17/50\n",
      "60000/60000 [==============================] - 2s 40us/step - loss: 0.3103 - val_loss: 0.3118\n",
      "Epoch 18/50\n",
      "60000/60000 [==============================] - 3s 42us/step - loss: 0.3092 - val_loss: 0.3107\n",
      "Epoch 19/50\n",
      "60000/60000 [==============================] - 3s 45us/step - loss: 0.3082 - val_loss: 0.3098\n",
      "Epoch 20/50\n",
      "60000/60000 [==============================] - 3s 44us/step - loss: 0.3073 - val_loss: 0.3089\n",
      "Epoch 21/50\n",
      "60000/60000 [==============================] - 2s 41us/step - loss: 0.3065 - val_loss: 0.3081\n",
      "Epoch 22/50\n",
      "60000/60000 [==============================] - 2s 41us/step - loss: 0.3057 - val_loss: 0.3074\n",
      "Epoch 23/50\n",
      "60000/60000 [==============================] - 3s 43us/step - loss: 0.3050 - val_loss: 0.3067\n",
      "Epoch 24/50\n",
      "60000/60000 [==============================] - 3s 43us/step - loss: 0.3044 - val_loss: 0.3061\n",
      "Epoch 25/50\n",
      "60000/60000 [==============================] - 3s 43us/step - loss: 0.3038 - val_loss: 0.3055\n",
      "Epoch 26/50\n",
      "60000/60000 [==============================] - 3s 42us/step - loss: 0.3032 - val_loss: 0.3049\n",
      "Epoch 27/50\n",
      "60000/60000 [==============================] - 3s 42us/step - loss: 0.3026 - val_loss: 0.3044\n",
      "Epoch 28/50\n",
      "60000/60000 [==============================] - 3s 45us/step - loss: 0.3021 - val_loss: 0.3038\n",
      "Epoch 29/50\n",
      "60000/60000 [==============================] - 3s 44us/step - loss: 0.3016 - val_loss: 0.3034\n",
      "Epoch 30/50\n",
      "60000/60000 [==============================] - 3s 44us/step - loss: 0.3011 - val_loss: 0.3029\n",
      "Epoch 31/50\n",
      "60000/60000 [==============================] - 3s 44us/step - loss: 0.3006 - val_loss: 0.3024\n",
      "Epoch 32/50\n",
      "60000/60000 [==============================] - 3s 43us/step - loss: 0.3001 - val_loss: 0.3019\n",
      "Epoch 33/50\n",
      "60000/60000 [==============================] - 3s 43us/step - loss: 0.2997 - val_loss: 0.3015\n",
      "Epoch 34/50\n",
      "60000/60000 [==============================] - 3s 43us/step - loss: 0.2992 - val_loss: 0.3010\n",
      "Epoch 35/50\n",
      "60000/60000 [==============================] - 3s 44us/step - loss: 0.2988 - val_loss: 0.3006\n",
      "Epoch 36/50\n",
      "60000/60000 [==============================] - 2s 42us/step - loss: 0.2984 - val_loss: 0.3002\n",
      "Epoch 37/50\n",
      "60000/60000 [==============================] - 3s 43us/step - loss: 0.2979 - val_loss: 0.2998\n",
      "Epoch 38/50\n",
      "60000/60000 [==============================] - 3s 43us/step - loss: 0.2975 - val_loss: 0.2995\n",
      "Epoch 39/50\n",
      "60000/60000 [==============================] - 3s 43us/step - loss: 0.2972 - val_loss: 0.2990\n",
      "Epoch 40/50\n",
      "60000/60000 [==============================] - 3s 46us/step - loss: 0.2968 - val_loss: 0.2987\n",
      "Epoch 41/50\n",
      "60000/60000 [==============================] - 3s 43us/step - loss: 0.2964 - val_loss: 0.2983\n",
      "Epoch 42/50\n",
      "60000/60000 [==============================] - 3s 42us/step - loss: 0.2961 - val_loss: 0.2980\n",
      "Epoch 43/50\n",
      "60000/60000 [==============================] - 3s 44us/step - loss: 0.2958 - val_loss: 0.2977\n",
      "Epoch 44/50\n",
      "60000/60000 [==============================] - 3s 44us/step - loss: 0.2955 - val_loss: 0.2974\n",
      "Epoch 45/50\n",
      "60000/60000 [==============================] - 3s 43us/step - loss: 0.2952 - val_loss: 0.2971\n",
      "Epoch 46/50\n",
      "60000/60000 [==============================] - 3s 43us/step - loss: 0.2949 - val_loss: 0.2968\n",
      "Epoch 47/50\n",
      "60000/60000 [==============================] - 3s 43us/step - loss: 0.2946 - val_loss: 0.2965\n",
      "Epoch 48/50\n",
      "60000/60000 [==============================] - 3s 44us/step - loss: 0.2943 - val_loss: 0.2963\n",
      "Epoch 49/50\n",
      "60000/60000 [==============================] - 3s 43us/step - loss: 0.2940 - val_loss: 0.2960\n",
      "Epoch 50/50\n",
      "60000/60000 [==============================] - 3s 42us/step - loss: 0.2938 - val_loss: 0.2958\n"
     ]
    },
    {
     "data": {
      "text/plain": [
       "<keras.callbacks.callbacks.History at 0x1db89917cf8>"
      ]
     },
     "execution_count": 13,
     "metadata": {},
     "output_type": "execute_result"
    }
   ],
   "source": [
    "autoencoder.fit(x_train, x_train,\n",
    "                epochs=50,\n",
    "                batch_size=256,\n",
    "                shuffle=True,\n",
    "                validation_data=(x_test, x_test))"
   ]
  },
  {
   "cell_type": "code",
   "execution_count": 14,
   "metadata": {},
   "outputs": [],
   "source": [
    "# encode and decode some digits\n",
    "# note that we take them from the *test* set\n",
    "encoded_imgs = encoder.predict(x_test)\n",
    "decoded_imgs = decoder.predict(encoded_imgs)"
   ]
  },
  {
   "cell_type": "code",
   "execution_count": 16,
   "metadata": {},
   "outputs": [
    {
     "data": {
      "image/png": "[encoded data removed]",
      "text/plain": [
       "<Figure size 1440x288 with 20 Axes>"
      ]
     },
     "metadata": {
      "needs_background": "light"
     },
     "output_type": "display_data"
    }
   ],
   "source": [
    "# use Matplotlib (don't ask)\n",
    "import matplotlib.pyplot as plt\n",
    "\n",
    "n = 10  # how many digits we will display\n",
    "plt.figure(figsize=(20, 4))\n",
    "for i in range(n):\n",
    "    # display original\n",
    "    ax = plt.subplot(2, n, i + 1)\n",
    "    plt.imshow(x_test[i].reshape(28, 28))\n",
    "    plt.gray()\n",
    "    ax.get_xaxis().set_visible(False)\n",
    "    ax.get_yaxis().set_visible(False)\n",
    "\n",
    "    # display reconstruction\n",
    "    ax = plt.subplot(2, n, i + 1 + n)\n",
    "    plt.imshow(decoded_imgs[i].reshape(28, 28))\n",
    "    plt.gray()\n",
    "    ax.get_xaxis().set_visible(False)\n",
    "    ax.get_yaxis().set_visible(False)\n",
    "plt.show()"
   ]
  },
  {
   "cell_type": "markdown",
   "metadata": {},
   "source": [
    "# End Of Practice Project"
   ]
  },
  {
   "cell_type": "code",
   "execution_count": null,
   "metadata": {},
   "outputs": [],
   "source": []
  }
 ],
 "metadata": {
  "kernelspec": {
   "display_name": "Python 3",
   "language": "python",
   "name": "python3"
  },
  "language_info": {
   "codemirror_mode": {
    "name": "ipython",
    "version": 3
   },
   "file_extension": ".py",
   "mimetype": "text/x-python",
   "name": "python",
   "nbconvert_exporter": "python",
   "pygments_lexer": "ipython3",
   "version": "3.8.3"
  }
 },
 "nbformat": 4,
 "nbformat_minor": 2
}
